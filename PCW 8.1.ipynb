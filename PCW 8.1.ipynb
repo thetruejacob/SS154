{
 "cells": [
  {
   "cell_type": "markdown",
   "metadata": {},
   "source": [
    "Using nels_small.dat (https://www.stata.com/data/s4poe4/nels_small.dta) replicate the multinomial logit example in Section 16.3.4 (p. 602, HGL). Obtain the findings in Table 16.3."
   ]
  },
  {
   "cell_type": "code",
   "execution_count": 1,
   "metadata": {},
   "outputs": [
    {
     "name": "stdout",
     "output_type": "stream",
     "text": [
      "\n",
      "\n",
      "\n",
      "\n",
      "    Variable |        Obs        Mean    Std. Dev.       Min        Max\n",
      "-------------+---------------------------------------------------------\n",
      "   psechoice |      1,000       2.305    .8103281          1          3\n",
      "      hscath |      1,000        .019     .136593          0          1\n",
      "      grades |      1,000     6.53039    2.265855       1.74      12.33\n",
      "      faminc |      1,000     51.3935    40.16579          0        250\n",
      "      famsiz |      1,000       4.206    1.291988          1         10\n",
      "-------------+---------------------------------------------------------\n",
      "     parcoll |      1,000        .308    .4618976          0          1\n",
      "      female |      1,000        .496    .5002342          0          1\n",
      "       black |      1,000        .056    .2300368          0          1\n"
     ]
    }
   ],
   "source": [
    "clear all\n",
    "use https://www.stata.com/data/s4poe4/nels_small.dta\n",
    "summ"
   ]
  },
  {
   "cell_type": "code",
   "execution_count": 2,
   "metadata": {},
   "outputs": [
    {
     "name": "stdout",
     "output_type": "stream",
     "text": [
      "\n",
      "Iteration 0:   log likelihood = -1018.6575  \n",
      "Iteration 1:   log likelihood = -881.68524  \n",
      "Iteration 2:   log likelihood = -875.36084  \n",
      "Iteration 3:   log likelihood = -875.31309  \n",
      "Iteration 4:   log likelihood = -875.31309  \n",
      "\n",
      "Multinomial logistic regression                 Number of obs     =      1,000\n",
      "                                                LR chi2(2)        =     286.69\n",
      "                                                Prob > chi2       =     0.0000\n",
      "Log likelihood = -875.31309                     Pseudo R2         =     0.1407\n",
      "\n",
      "------------------------------------------------------------------------------\n",
      "   psechoice |      Coef.   Std. Err.      z    P>|z|     [95% Conf. Interval]\n",
      "-------------+----------------------------------------------------------------\n",
      "1            |\n",
      "      grades |   .7061967   .0529246    13.34   0.000     .6024664     .809927\n",
      "       _cons |  -5.769876   .4043229   -14.27   0.000    -6.562334   -4.977417\n",
      "-------------+----------------------------------------------------------------\n",
      "2            |\n",
      "      grades |   .3974077   .0416925     9.53   0.000     .3156919    .4791236\n",
      "       _cons |  -3.263454   .2875495   -11.35   0.000    -3.827041   -2.699868\n",
      "-------------+----------------------------------------------------------------\n",
      "3            |  (base outcome)\n",
      "------------------------------------------------------------------------------\n"
     ]
    }
   ],
   "source": [
    "mlogit psechoice grades"
   ]
  },
  {
   "cell_type": "code",
   "execution_count": null,
   "metadata": {},
   "outputs": [],
   "source": [
    "margins, dydx(grades) \\\\ at(grades = 6.64)"
   ]
  },
  {
   "cell_type": "code",
   "execution_count": null,
   "metadata": {},
   "outputs": [
    {
     "name": "stdout",
     "output_type": "stream",
     "text": [
      ". cap log close stata_kernel_log\n"
     ]
    }
   ],
   "source": [
    "margins, dydx(grades) at(grades = 2.635)"
   ]
  },
  {
   "cell_type": "markdown",
   "metadata": {},
   "source": [
    "Using cola.dat (https://www.stata.com/data/s4poe4/cola.dta) replicate the conditional logit example in Section 16.4.3 (p. 606, HGL). Obtain the findings in Tables 16.4a and 16.4b."
   ]
  },
  {
   "cell_type": "code",
   "execution_count": 5,
   "metadata": {},
   "outputs": [],
   "source": [
    "// look within choice, create a column for if its the 1st, 2nd or 3rd"
   ]
  },
  {
   "cell_type": "code",
   "execution_count": 3,
   "metadata": {},
   "outputs": [
    {
     "name": "stdout",
     "output_type": "stream",
     "text": [
      "\n",
      "\n",
      "\n",
      "\n",
      "\n",
      "     +-----------------------------------------------+\n",
      "     | id   choice   price   feature   display   seq |\n",
      "     |-----------------------------------------------|\n",
      "  1. |  1        0    1.79         0         0     1 |\n",
      "  2. |  1        0    1.79         0         0     2 |\n",
      "  3. |  1        1    1.79         0         0     3 |\n",
      "  4. |  2        0    1.79         0         0     1 |\n",
      "  5. |  2        0    1.79         0         0     2 |\n",
      "     |-----------------------------------------------|\n",
      "  6. |  2        1     .89         1         1     3 |\n",
      "  7. |  3        0    1.41         0         0     1 |\n",
      "  8. |  3        0     .84         0         1     2 |\n",
      "  9. |  3        1     .89         1         0     3 |\n",
      " 10. |  4        0    1.79         0         0     1 |\n",
      "     |-----------------------------------------------|\n",
      " 11. |  4        0    1.79         0         0     2 |\n",
      " 12. |  4        1    1.33         1         0     3 |\n",
      " 13. |  5        0    1.79         0         0     1 |\n",
      " 14. |  5        0    1.79         0         0     2 |\n",
      " 15. |  5        1    1.79         0         0     3 |\n",
      "     +-----------------------------------------------+\n"
     ]
    }
   ],
   "source": [
    "clear all\n",
    "use https://www.stata.com/data/s4poe4/cola.dta\n",
    "gen seq = mod(_n-1,3) + 1\n",
    "\n",
    "list in 1/15"
   ]
  },
  {
   "cell_type": "code",
   "execution_count": 4,
   "metadata": {},
   "outputs": [
    {
     "name": "stdout",
     "output_type": "stream",
     "text": [
      "\n",
      "Iteration 0:   log likelihood = -1844.9847  \n",
      "Iteration 1:   log likelihood = -1824.8495  \n",
      "Iteration 2:   log likelihood = -1824.8196  \n",
      "Iteration 3:   log likelihood = -1824.8196  \n",
      "\n",
      "Conditional (fixed-effects) logistic regression\n",
      "\n",
      "                                                Number of obs     =      5,466\n",
      "                                                LR chi2(2)        =     353.70\n",
      "                                                Prob > chi2       =     0.0000\n",
      "Log likelihood = -1824.8196                     Pseudo R2         =     0.0884\n",
      "\n",
      "------------------------------------------------------------------------------\n",
      "      choice |      Coef.   Std. Err.      z    P>|z|     [95% Conf. Interval]\n",
      "-------------+----------------------------------------------------------------\n",
      "         seq |  -.1426392   .0313142    -4.56   0.000    -.2040139   -.0812645\n",
      "       price |  -2.272935   .1335028   -17.03   0.000    -2.534596   -2.011275\n",
      "------------------------------------------------------------------------------\n"
     ]
    }
   ],
   "source": [
    "clogit choice seq price, group(id) "
   ]
  },
  {
   "cell_type": "code",
   "execution_count": 1,
   "metadata": {},
   "outputs": [
    {
     "name": "stdout",
     "output_type": "stream",
     "text": [
      "\n",
      "\n",
      "\n",
      "\n",
      "Iteration 0:   log likelihood = -1018.6575  \n",
      "Iteration 1:   log likelihood = -858.70649  \n",
      "Iteration 2:   log likelihood = -846.95257  \n",
      "Iteration 3:   log likelihood = -846.75617  \n",
      "Iteration 4:   log likelihood = -846.75601  \n",
      "Iteration 5:   log likelihood = -846.75601  \n",
      "\n",
      "Multinomial logistic regression                 Number of obs     =      1,000\n",
      "                                                LR chi2(8)        =     343.80\n",
      "                                                Prob > chi2       =     0.0000\n",
      "Log likelihood = -846.75601                     Pseudo R2         =     0.1688\n",
      "\n",
      "------------------------------------------------------------------------------\n",
      "   psechoice |      Coef.   Std. Err.      z    P>|z|     [95% Conf. Interval]\n",
      "-------------+----------------------------------------------------------------\n",
      "1            |\n",
      "      grades |   .7272638   .0566698    12.83   0.000     .6161929    .8383346\n",
      "      faminc |  -.0204678   .0038319    -5.34   0.000    -.0279781   -.0129574\n",
      "    1.female |   .1337162   .1932327     0.69   0.489    -.2450129    .5124453\n",
      "     1.black |  -1.607127   .4079379    -3.94   0.000     -2.40667    -.807583\n",
      "       _cons |  -4.962637   .4744651   -10.46   0.000    -5.892572   -4.032702\n",
      "-------------+----------------------------------------------------------------\n",
      "2            |\n",
      "      grades |   .4182937   .0441901     9.47   0.000     .3316828    .5049046\n",
      "      faminc |  -.0085734   .0024636    -3.48   0.001     -.013402   -.0037449\n",
      "    1.female |   .2506646   .1681149     1.49   0.136    -.0788346    .5801637\n",
      "     1.black |  -1.039145   .3689763    -2.82   0.005    -1.762326   -.3159651\n",
      "       _cons |  -3.025602   .3516175    -8.60   0.000    -3.714759   -2.336444\n",
      "-------------+----------------------------------------------------------------\n",
      "3            |  (base outcome)\n",
      "------------------------------------------------------------------------------\n"
     ]
    }
   ],
   "source": [
    "clear all\n",
    "use https://www.stata.com/data/s4poe4/nels_small.dta\n",
    "mlogit psechoice grades faminc i.female i.black"
   ]
  },
  {
   "cell_type": "code",
   "execution_count": 2,
   "metadata": {},
   "outputs": [
    {
     "name": "stdout",
     "output_type": "stream",
     "text": [
      "\n",
      "Adjusted predictions                            Number of obs     =      1,000\n",
      "Model VCE    : OIM\n",
      "\n",
      "Expression   : Pr(psechoice==3), predict(outcome(3))\n",
      "at           : grades          =        6.64\n",
      "               faminc          =        42.5\n",
      "               female          =           0\n",
      "               black           =           0\n",
      "\n",
      "------------------------------------------------------------------------------\n",
      "             |            Delta-method\n",
      "             |     Margin   Std. Err.      z    P>|z|     [95% Conf. Interval]\n",
      "-------------+----------------------------------------------------------------\n",
      "       _cons |   .5239466    .027215    19.25   0.000     .4706062     .577287\n",
      "------------------------------------------------------------------------------\n"
     ]
    }
   ],
   "source": [
    "margins, predict(outcome(3)) at(grades = 6.64 faminc = 42.5 female =0 black =0) "
   ]
  },
  {
   "cell_type": "code",
   "execution_count": 3,
   "metadata": {},
   "outputs": [
    {
     "name": "stdout",
     "output_type": "stream",
     "text": [
      "\n",
      "Adjusted predictions                            Number of obs     =      1,000\n",
      "Model VCE    : OIM\n",
      "\n",
      "Expression   : Pr(psechoice==1), predict(outcome(1))\n",
      "at           : grades          =        6.64\n",
      "               faminc          =        42.5\n",
      "               female          =           0\n",
      "               black           =           0\n",
      "\n",
      "------------------------------------------------------------------------------\n",
      "             |            Delta-method\n",
      "             |     Margin   Std. Err.      z    P>|z|     [95% Conf. Interval]\n",
      "-------------+----------------------------------------------------------------\n",
      "       _cons |   .1920783   .0213003     9.02   0.000     .1503304    .2338263\n",
      "------------------------------------------------------------------------------\n"
     ]
    }
   ],
   "source": [
    "margins, predict(outcome(1)) at(grades = 6.64 faminc = 42.5 female =0 black =0)"
   ]
  },
  {
   "cell_type": "code",
   "execution_count": 1,
   "metadata": {},
   "outputs": [],
   "source": [
    "clear all\n",
    "use https://www.stata.com/data/s4poe4/cola.dta"
   ]
  },
  {
   "cell_type": "code",
   "execution_count": 2,
   "metadata": {},
   "outputs": [
    {
     "name": "stdout",
     "output_type": "stream",
     "text": [
      "\n",
      "    Variable |        Obs        Mean    Std. Dev.       Min        Max\n",
      "-------------+---------------------------------------------------------\n",
      "          id |      5,466       911.5    526.0141          1       1822\n",
      "      choice |      5,466    .3333333    .4714476          0          1\n",
      "       price |      5,466    1.185134    .3059794        .16       2.99\n",
      "     feature |      5,466    .5087816    .4999686          0          1\n",
      "     display |      5,466    .3635199    .4810567          0          1\n"
     ]
    }
   ],
   "source": [
    "summ"
   ]
  },
  {
   "cell_type": "code",
   "execution_count": 4,
   "metadata": {},
   "outputs": [
    {
     "name": "stdout",
     "output_type": "stream",
     "text": [
      "\n",
      "Conditional (fixed-effects) logistic regression\n",
      "\n",
      "                                                Number of obs     =      5,466\n",
      "                                                LR chi2(3)        =     358.89\n",
      "                                                Prob > chi2       =     0.0000\n",
      "Log likelihood = -1822.2267                     Pseudo R2         =     0.0896\n",
      "\n",
      "------------------------------------------------------------------------------\n",
      "      choice |      Coef.   Std. Err.      z    P>|z|     [95% Conf. Interval]\n",
      "-------------+----------------------------------------------------------------\n",
      "       price |  -1.744454   .1799323    -9.70   0.000    -2.097115   -1.391793\n",
      "   1.feature |  -.0106038   .0799373    -0.13   0.894    -.1672781    .1460705\n",
      "   1.display |   .4624477   .0930481     4.97   0.000     .2800768    .6448185\n",
      "------------------------------------------------------------------------------\n"
     ]
    }
   ],
   "source": [
    "clogit choice price i.feature i.display, group(id) nolog"
   ]
  },
  {
   "cell_type": "code",
   "execution_count": 6,
   "metadata": {},
   "outputs": [
    {
     "name": "stdout",
     "output_type": "stream",
     "text": [
      "\n",
      "\n",
      "\n",
      "\n",
      "\n",
      "\n",
      "---------------------------------------------------------------------------------------------------------------------------------------------------------------------------------------------------------------------------------------------------------------\n",
      "-> alt = Pepsi\n",
      "\n",
      "    Variable |        Obs        Mean    Std. Dev.       Min        Max\n",
      "-------------+---------------------------------------------------------\n",
      "      choice |      1,822    .3457739    .4757505          0          1\n",
      "       price |      1,822    1.227453    .2902694        .68       1.79\n",
      "     feature |      1,822    .5148189    .4999176          0          1\n",
      "     display |      1,822    .3117453    .4633336          0          1\n",
      "\n",
      "---------------------------------------------------------------------------------------------------------------------------------------------------------------------------------------------------------------------------------------------------------------\n",
      "-> alt = SevenUp\n",
      "\n",
      "    Variable |        Obs        Mean    Std. Dev.       Min        Max\n",
      "-------------+---------------------------------------------------------\n",
      "      choice |      1,822    .3743139    .4840781          0          1\n",
      "       price |      1,822     1.11764    .3242961        .16       2.99\n",
      "     feature |      1,822    .5159166    .4998838          0          1\n",
      "     display |      1,822    .4429199    .4968675          0          1\n",
      "\n",
      "---------------------------------------------------------------------------------------------------------------------------------------------------------------------------------------------------------------------------------------------------------------\n",
      "-> alt = Coke\n",
      "\n",
      "    Variable |        Obs        Mean    Std. Dev.       Min        Max\n",
      "-------------+---------------------------------------------------------\n",
      "      choice |      1,822    .2799122    .4490791          0          1\n",
      "       price |      1,822    1.210307    .2908002        .68       1.79\n",
      "     feature |      1,822    .4956092     .500118          0          1\n",
      "     display |      1,822    .3358946    .4724319          0          1\n",
      "\n",
      "\n",
      "note: variable price has 315 cases that are not alternative-specific; there is no within-case variability\n",
      "note: variable 1.feature has 449 cases that are not alternative-specific; there is no within-case variability\n",
      "note: variable 1.display has 873 cases that are not alternative-specific; there is no within-case variability\n",
      "\n",
      "Iteration 0:   log likelihood = -1836.9471  \n",
      "Iteration 1:   log likelihood = -1811.4385  \n",
      "Iteration 2:   log likelihood = -1811.3543  \n",
      "Iteration 3:   log likelihood = -1811.3543  \n",
      "\n",
      "Alternative-specific conditional logit         Number of obs      =      5,466\n",
      "Case ID variable: id                           Number of cases    =       1822\n",
      "\n",
      "Alternatives variable: alt                     Alts per case: min =          3\n",
      "                                                              avg =        3.0\n",
      "                                                              max =          3\n",
      "\n",
      "                                                  Wald chi2(3)    =     302.93\n",
      "Log likelihood = -1811.3543                       Prob > chi2     =     0.0000\n",
      "\n",
      "------------------------------------------------------------------------------\n",
      "      choice |      Coef.   Std. Err.      z    P>|z|     [95% Conf. Interval]\n",
      "-------------+----------------------------------------------------------------\n",
      "alt          |\n",
      "       price |  -1.849186   .1886595    -9.80   0.000    -2.218952    -1.47942\n",
      "   1.feature |  -.0408576   .0830752    -0.49   0.623    -.2036821    .1219669\n",
      "   1.display |   .4726786   .0935445     5.05   0.000     .2893346    .6560225\n",
      "-------------+----------------------------------------------------------------\n",
      "Pepsi        |\n",
      "       _cons |   .2840865   .0625595     4.54   0.000     .1614722    .4067008\n",
      "-------------+----------------------------------------------------------------\n",
      "SevenUp      |\n",
      "       _cons |   .0906629   .0639666     1.42   0.156    -.0347094    .2160352\n",
      "-------------+----------------------------------------------------------------\n",
      "Coke         |  (base alternative)\n",
      "------------------------------------------------------------------------------\n"
     ]
    }
   ],
   "source": [
    "sort id, stable \n",
    "by id:gen alt = _n \n",
    "label define brandlabel 1 \"Pepsi\" 2 \"SevenUp\" 3 \"Coke\"\n",
    "label values alt brandlabel \n",
    "bysort alt:summarize choice price feature display \n",
    "\n",
    "asclogit choice price i.feature i.display, case(id) alternative(alt) basealternative(Coke)"
   ]
  },
  {
   "cell_type": "code",
   "execution_count": 8,
   "metadata": {},
   "outputs": [
    {
     "name": "stdout",
     "output_type": "stream",
     "text": [
      "\n",
      "Pr(choice = Pepsi|1 selected) = .35885543\n",
      "-------------------------------------------------------------------------------\n",
      "variable     |   dp/dx   Std. Err.    z     P>|z|  [    95% C.I.    ]       X\n",
      "-------------+-----------------------------------------------------------------\n",
      "price        |                                                                 \n",
      "       Pepsi | -.425457   .043699   -9.74   0.000  -.511106  -.339809    1.2275\n",
      "     SevenUp |   .24044   .026005    9.25   0.000   .189472   .291408    1.1176\n",
      "        Coke |  .185017    .01966    9.41   0.000   .146484   .223551    1.2103\n",
      "-------------------------------------------------------------------------------\n",
      "\n",
      "Pr(choice = SevenUp|1 selected) = .36233215\n",
      "-------------------------------------------------------------------------------\n",
      "variable     |   dp/dx   Std. Err.    z     P>|z|  [    95% C.I.    ]       X\n",
      "-------------+-----------------------------------------------------------------\n",
      "price        |                                                                 \n",
      "       Pepsi |   .24044   .026005    9.25   0.000   .189472   .291408    1.2275\n",
      "     SevenUp |  -.42725    .04449   -9.60   0.000  -.514449   -.34005    1.1176\n",
      "        Coke |   .18681    .02041    9.15   0.000   .146808   .226812    1.2103\n",
      "-------------------------------------------------------------------------------\n",
      "\n",
      "Pr(choice = Coke|1 selected) = .27881242\n",
      "-------------------------------------------------------------------------------\n",
      "variable     |   dp/dx   Std. Err.    z     P>|z|  [    95% C.I.    ]       X\n",
      "-------------+-----------------------------------------------------------------\n",
      "price        |                                                                 \n",
      "       Pepsi |  .185017    .01966    9.41   0.000   .146484   .223551    1.2275\n",
      "     SevenUp |   .18681    .02041    9.15   0.000   .146808   .226812    1.1176\n",
      "        Coke | -.371827   .038508   -9.66   0.000  -.447302  -.296352    1.2103\n",
      "-------------------------------------------------------------------------------\n"
     ]
    }
   ],
   "source": [
    "estat mfx, varlist(price) "
   ]
  },
  {
   "cell_type": "code",
   "execution_count": null,
   "metadata": {},
   "outputs": [],
   "source": []
  }
 ],
 "metadata": {
  "kernelspec": {
   "display_name": "Stata",
   "language": "stata",
   "name": "stata"
  },
  "language_info": {
   "codemirror_mode": "stata",
   "file_extension": ".do",
   "mimetype": "text/x-stata",
   "name": "stata",
   "version": "15.1"
  }
 },
 "nbformat": 4,
 "nbformat_minor": 2
}
