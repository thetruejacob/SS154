{
 "cells": [
  {
   "cell_type": "markdown",
   "metadata": {},
   "source": [
    "# Population Survey\n",
    "\n",
    "Examining data is an important first step of every type of data analysis. This assignment has two goals 1)\n",
    "learn to empirically identify causal effects and 2) learn (or warm up) the basics of data management\n",
    "using Stata.\n",
    "\n",
    "Using the 2017 March Current Population Survey (CPS), prepare a document with the following:"
   ]
  },
  {
   "cell_type": "markdown",
   "metadata": {},
   "source": [
    "Write 1-2 short paragraphs describing the data structure (provide background information about the\n",
    "March CPS and the survey methodology) and a research question you will explore using this data set.\n",
    "For example, the effect of schooling on earnings. Relate your question to the principles of causal\n",
    "inference. DATA"
   ]
  },
  {
   "cell_type": "code",
   "execution_count": null,
   "metadata": {},
   "outputs": [],
   "source": []
  },
  {
   "cell_type": "markdown",
   "metadata": {},
   "source": [
    "Present summary statistics (mean, standard deviation, sample size etc.) in a few tables and\n",
    "appropriate graphs that describe your data. Choose the 2—3 graphs or tables (tables+graphs=2-3) that\n",
    "best help describe the data. DESCRIPTIVE STATISTICS"
   ]
  },
  {
   "cell_type": "code",
   "execution_count": null,
   "metadata": {},
   "outputs": [],
   "source": []
  },
  {
   "cell_type": "markdown",
   "metadata": {},
   "source": [
    "Write 1-2 short paragraphs about your summary statistics and explain whether it is possible to\n",
    "disentangle any causal effects. CAUSAL EFFECT"
   ]
  },
  {
   "cell_type": "code",
   "execution_count": null,
   "metadata": {},
   "outputs": [],
   "source": []
  },
  {
   "cell_type": "markdown",
   "metadata": {},
   "source": [
    "Finally, carry out a hypothesis test for a population mean using the outcome variable and independent\n",
    "variable. Make sure to show each step (use five components), interpret the conclusion, and append\n",
    "the Stata code. STATISTICAL INFERENCE"
   ]
  },
  {
   "cell_type": "code",
   "execution_count": null,
   "metadata": {},
   "outputs": [],
   "source": []
  }
 ],
 "metadata": {
  "kernelspec": {
   "display_name": "Stata",
   "language": "stata",
   "name": "stata"
  },
  "language_info": {
   "codemirror_mode": "stata",
   "file_extension": ".do",
   "mimetype": "text/x-stata",
   "name": "stata",
   "version": "15.1"
  }
 },
 "nbformat": 4,
 "nbformat_minor": 2
}
