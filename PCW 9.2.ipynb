{
 "cells": [
  {
   "cell_type": "markdown",
   "metadata": {},
   "source": [
    "\n",
    "Using okun.dat (https://www.stata.com/data/s4poe4/okun.dta) replicate the finite distributed lags example in Section 9.2 (p. 341, HGL). Obtain the findings in Table 9.2 and also obtain the correlogram (like in Figure 9.8) for the unemployment with 24 lags (syntax is \"ac,\" see https://www.stata.com/manuals/tscorrgram.pdf). Note that the lag operator in Stata is \"L.\" (e.g., L.u means the first lag of u and L(1/2).u means the first and second lags of u)."
   ]
  },
  {
   "cell_type": "code",
   "execution_count": null,
   "metadata": {},
   "outputs": [
    {
     "name": "stdout",
     "output_type": "stream",
     "text": [
      ". exit\n"
     ]
    }
   ],
   "source": [
    "clear all \n",
    "use https://www.stata.com/data/s4poe4/okun.dta"
   ]
  },
  {
   "cell_type": "code",
   "execution_count": null,
   "metadata": {},
   "outputs": [],
   "source": []
  },
  {
   "cell_type": "markdown",
   "metadata": {},
   "source": [
    "Using phillips_aus.dat (https://www.stata.com/data/s4poe4/phillips_aus.dta) replicate the ARDL given in Equation 9.57 (p. 368, HGL). Obtain the findings in Table 9.4. What is your conclusion after checking AIC and SC? (syntax for AIC and SC is \"estat ic\")"
   ]
  },
  {
   "cell_type": "code",
   "execution_count": null,
   "metadata": {},
   "outputs": [],
   "source": []
  }
 ],
 "metadata": {
  "kernelspec": {
   "display_name": "Stata",
   "language": "stata",
   "name": "stata"
  },
  "language_info": {
   "codemirror_mode": "stata",
   "file_extension": ".do",
   "mimetype": "text/x-stata",
   "name": "stata",
   "version": "15.1"
  }
 },
 "nbformat": 4,
 "nbformat_minor": 2
}
