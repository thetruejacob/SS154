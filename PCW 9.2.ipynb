{
 "cells": [
  {
   "cell_type": "markdown",
   "metadata": {},
   "source": [
    "\n",
    "Using okun.dat (https://www.stata.com/data/s4poe4/okun.dta) replicate the finite distributed lags example in Section 9.2 (p. 341, HGL). Obtain the findings in Table 9.2 and also obtain the correlogram (like in Figure 9.8) for the unemployment with 24 lags (syntax is \"ac,\" see https://www.stata.com/manuals/tscorrgram.pdf). Note that the lag operator in Stata is \"L.\" (e.g., L.u means the first lag of u and L(1/2).u means the first and second lags of u)."
   ]
  },
  {
   "cell_type": "code",
   "execution_count": 7,
   "metadata": {},
   "outputs": [
    {
     "name": "stdout",
     "output_type": "stream",
     "text": [
      "\n",
      "\n",
      "\n",
      "\n",
      "    Variable |        Obs        Mean    Std. Dev.       Min        Max\n",
      "-------------+---------------------------------------------------------\n",
      "           g |         98    1.276531    .6469279       -1.4        2.5\n",
      "           u |         98    5.704082    1.132638        3.9        9.6\n",
      "\n",
      "\n",
      "\n",
      "        time variable:  date, 1985q2 to 2009q3\n",
      "                delta:  1 quarter\n"
     ]
    },
    {
     "data": {
      "application/pdf": "[encoded data removed]",
      "image/svg+xml": [
       "<?xml version=\"1.0\" encoding=\"UTF-8\" standalone=\"no\"?>\n",
       "<!-- This is a Stata 16.0 generated SVG file (http://www.stata.com) -->\n",
       "\n",
       "<svg version=\"1.1\" width=\"600px\" height=\"436px\" viewBox=\"0 0 3960 2880\" xmlns=\"http://www.w3.org/2000/svg\" xmlns:xlink=\"http://www.w3.org/1999/xlink\">\n",
       "\t<desc>Stata Graph - Graph</desc>\n",
       "\t<rect x=\"0\" y=\"0\" width=\"3960\" height=\"2880\" style=\"fill:#EAF2F3;stroke:none\"/>\n",
       "\t<rect x=\"0.00\" y=\"0.00\" width=\"3959.88\" height=\"2880.00\" style=\"fill:#EAF2F3\"/>\n",
       "\t<rect x=\"2.88\" y=\"2.88\" width=\"3954.12\" height=\"2874.24\" style=\"fill:none;stroke:#EAF2F3;stroke-width:5.76\"/>\n",
       "\t<rect x=\"197.63\" y=\"100.86\" width=\"3661.39\" height=\"2132.77\" style=\"fill:#FFFFFF\"/>\n",
       "\t<rect x=\"200.51\" y=\"103.74\" width=\"3655.63\" height=\"2127.01\" style=\"fill:none;stroke:#FFFFFF;stroke-width:5.76\"/>\n",
       "\t<line x1=\"197.63\" y1=\"1501.63\" x2=\"3859.02\" y2=\"1501.63\" style=\"stroke:#EAF2F3;stroke-width:8.64\"/>\n",
       "\t<line x1=\"197.63\" y1=\"832.86\" x2=\"3859.02\" y2=\"832.86\" style=\"stroke:#EAF2F3;stroke-width:8.64\"/>\n",
       "\t<line x1=\"197.63\" y1=\"164.22\" x2=\"3859.02\" y2=\"164.22\" style=\"stroke:#EAF2F3;stroke-width:8.64\"/>\n",
       "\t<path d=\" M296.26 525.34 L331.65 538.70 L367.04 565.43 L402.31 565.43 L437.70 538.70 L473.10 565.43 L508.37 592.16 L543.76 618.89 L579.03 659.11 L614.42 699.21 L649.81 725.94 L685.08 739.31 L720.47 766.04 L755.87 766.04 L791.13 792.77 L826.53 806.26 L861.92 806.26 L897.19 806.26 L932.58 779.40 L967.85 792.77 L1003.24 792.77 L1038.63 739.31 L1073.90 685.84 L1109.30 618.89 L1144.69 592.16 L1179.96 578.80 L1215.35 552.07 L1250.62 511.97 L1286.01 485.24 L1321.40 485.24 L1356.67 511.97 L1392.06 552.07 L1427.46 552.07 L1462.72 592.16 L1498.12 618.89 L1533.51 618.89 L1568.78 672.48 L1604.17 699.21 L1639.44 752.67 L1674.83 766.04 L1710.22 739.31 L1745.49 739.31 L1780.89 752.67 L1816.28 766.04 L1851.55 766.04 L1886.94 792.77 L1922.21 792.77 L1957.60 806.26 L1992.99 832.99 L2028.26 846.35 L2063.66 873.08 L2099.05 886.45 L2134.32 913.18 L2169.71 899.81 L2205.10 913.18 L2240.37 926.55 L2275.76 926.55 L2311.03 939.91 L2346.42 953.28 L2381.82 966.64 L2417.09 980.01 L2452.48 966.64 L2487.87 980.01 L2523.14 939.91 L2558.53 913.18 L2593.80 859.72 L2629.19 766.04 L2664.59 739.31 L2699.85 725.94 L2735.25 739.31 L2770.64 712.57 L2805.91 712.57 L2841.30 685.84 L2876.69 685.84 L2911.96 725.94 L2947.35 739.31 L2982.62 752.67 L3018.01 779.40 L3053.41 779.40 L3088.68 792.77 L3124.07 819.62 L3159.46 832.99 L3194.73 846.35 L3230.12 873.08 L3265.51 873.08 L3300.78 886.45 L3336.18 913.18 L3371.45 899.81 L3406.84 899.81 L3442.23 873.08 L3477.50 859.72 L3512.89 846.35 L3548.28 779.40 L3583.55 685.84 L3618.95 578.80 L3654.21 418.29 L3689.61 257.90 L3725.00 217.68\" stroke-linejoin=\"round\" style=\"fill:none;stroke:#1A476F;stroke-width:8.64\"/>\n",
       "\t<path d=\" M296.26 1314.39 L331.65 1234.20 L367.04 1314.39 L402.31 1301.02 L437.70 1381.34 L473.10 1301.02 L508.37 1341.12 L543.76 1301.02 L579.03 1287.66 L614.42 1274.29 L649.81 1167.25 L685.08 1327.76 L720.47 1207.47 L755.87 1274.29 L791.13 1220.83 L826.53 1220.83 L861.92 1274.29 L897.19 1301.02 L932.58 1381.34 L967.85 1194.10 L1003.24 1287.66 L1038.63 1381.34 L1073.90 1514.99 L1109.30 1421.44 L1144.69 1314.39 L1179.96 1341.12 L1215.35 1367.98 L1250.62 1287.66 L1286.01 1274.29 L1321.40 1301.02 L1356.67 1287.66 L1392.06 1394.71 L1427.46 1341.12 L1462.72 1367.98 L1498.12 1247.56 L1533.51 1301.02 L1568.78 1247.56 L1604.17 1341.12 L1639.44 1287.66 L1674.83 1394.71 L1710.22 1408.07 L1745.49 1327.76 L1780.89 1341.12 L1816.28 1327.76 L1851.55 1220.83 L1886.94 1341.12 L1922.21 1274.29 L1957.60 1314.39 L1992.99 1274.29 L2028.26 1287.66 L2063.66 1354.61 L2099.05 1354.61 L2134.32 1354.61 L2169.71 1274.29 L2205.10 1234.20 L2240.37 1327.76 L2275.76 1354.61 L2311.03 1287.66 L2346.42 1207.47 L2381.82 1354.61 L2417.09 1167.25 L2452.48 1408.07 L2487.87 1354.61 L2523.14 1461.53 L2558.53 1327.76 L2593.80 1501.63 L2629.19 1408.07 L2664.59 1341.12 L2699.85 1367.98 L2735.25 1381.34 L2770.64 1421.44 L2805.91 1354.61 L2841.30 1354.61 L2876.69 1207.47 L2911.96 1314.39 L2947.35 1287.66 L2982.62 1287.66 L3018.01 1301.02 L3053.41 1287.66 L3088.68 1247.56 L3124.07 1354.61 L3159.46 1260.93 L3194.73 1314.39 L3230.12 1220.83 L3265.51 1341.12 L3300.78 1394.71 L3336.18 1341.12 L3371.45 1314.39 L3406.84 1301.02 L3442.23 1327.76 L3477.50 1354.61 L3512.89 1461.53 L3548.28 1381.34 L3583.55 1461.53 L3618.95 1688.87 L3654.21 1662.14 L3689.61 1528.36 L3725.00 1394.71\" stroke-linejoin=\"round\" style=\"fill:none;stroke:#90353B;stroke-width:8.64\"/>\n",
       "\t<line x1=\"197.63\" y1=\"2233.63\" x2=\"197.63\" y2=\"100.86\" style=\"stroke:#000000;stroke-width:5.76\"/>\n",
       "\t<line x1=\"197.63\" y1=\"2170.27\" x2=\"157.66\" y2=\"2170.27\" style=\"stroke:#000000;stroke-width:5.76\"/>\n",
       "\t<text x=\"107.55\" y=\"2170.27\" style=\"font-family:'Helvetica';font-size:99.99px;fill:#000000\" transform=\"rotate(-90 107.55,2170.27)\" text-anchor=\"middle\">-5</text>\n",
       "\t<line x1=\"197.63\" y1=\"1501.63\" x2=\"157.66\" y2=\"1501.63\" style=\"stroke:#000000;stroke-width:5.76\"/>\n",
       "\t<text x=\"107.55\" y=\"1501.63\" style=\"font-family:'Helvetica';font-size:99.99px;fill:#000000\" transform=\"rotate(-90 107.55,1501.63)\" text-anchor=\"middle\">0</text>\n",
       "\t<line x1=\"197.63\" y1=\"832.86\" x2=\"157.66\" y2=\"832.86\" style=\"stroke:#000000;stroke-width:5.76\"/>\n",
       "\t<text x=\"107.55\" y=\"832.86\" style=\"font-family:'Helvetica';font-size:99.99px;fill:#000000\" transform=\"rotate(-90 107.55,832.86)\" text-anchor=\"middle\">5</text>\n",
       "\t<line x1=\"197.63\" y1=\"164.22\" x2=\"157.66\" y2=\"164.22\" style=\"stroke:#000000;stroke-width:5.76\"/>\n",
       "\t<text x=\"107.55\" y=\"164.22\" style=\"font-family:'Helvetica';font-size:99.99px;fill:#000000\" transform=\"rotate(-90 107.55,164.22)\" text-anchor=\"middle\">10</text>\n",
       "\t<line x1=\"197.63\" y1=\"2233.63\" x2=\"3859.02\" y2=\"2233.63\" style=\"stroke:#000000;stroke-width:5.76\"/>\n",
       "\t<line x1=\"260.99\" y1=\"2233.63\" x2=\"260.99\" y2=\"2273.73\" style=\"stroke:#000000;stroke-width:5.76\"/>\n",
       "\t<text x=\"260.99\" y=\"2363.59\" style=\"font-family:'Helvetica';font-size:99.99px;fill:#000000\" text-anchor=\"middle\">1985q1</text>\n",
       "\t<line x1=\"967.97\" y1=\"2233.63\" x2=\"967.97\" y2=\"2273.73\" style=\"stroke:#000000;stroke-width:5.76\"/>\n",
       "\t<text x=\"967.97\" y=\"2363.59\" style=\"font-family:'Helvetica';font-size:99.99px;fill:#000000\" text-anchor=\"middle\">1990q1</text>\n",
       "\t<line x1=\"1674.96\" y1=\"2233.63\" x2=\"1674.96\" y2=\"2273.73\" style=\"stroke:#000000;stroke-width:5.76\"/>\n",
       "\t<text x=\"1674.96\" y=\"2363.59\" style=\"font-family:'Helvetica';font-size:99.99px;fill:#000000\" text-anchor=\"middle\">1995q1</text>\n",
       "\t<line x1=\"2381.82\" y1=\"2233.63\" x2=\"2381.82\" y2=\"2273.73\" style=\"stroke:#000000;stroke-width:5.76\"/>\n",
       "\t<text x=\"2381.82\" y=\"2363.59\" style=\"font-family:'Helvetica';font-size:99.99px;fill:#000000\" text-anchor=\"middle\">2000q1</text>\n",
       "\t<line x1=\"3088.80\" y1=\"2233.63\" x2=\"3088.80\" y2=\"2273.73\" style=\"stroke:#000000;stroke-width:5.76\"/>\n",
       "\t<text x=\"3088.80\" y=\"2363.59\" style=\"font-family:'Helvetica';font-size:99.99px;fill:#000000\" text-anchor=\"middle\">2005q1</text>\n",
       "\t<line x1=\"3795.66\" y1=\"2233.63\" x2=\"3795.66\" y2=\"2273.73\" style=\"stroke:#000000;stroke-width:5.76\"/>\n",
       "\t<text x=\"3795.66\" y=\"2363.59\" style=\"font-family:'Helvetica';font-size:99.99px;fill:#000000\" text-anchor=\"middle\">2010q1</text>\n",
       "\t<text x=\"2028.39\" y=\"2473.60\" style=\"font-family:'Helvetica';font-size:99.99px;fill:#000000\" text-anchor=\"middle\">date</text>\n",
       "\t<rect x=\"232.28\" y=\"2558.24\" width=\"3592.22\" height=\"186.37\" style=\"fill:#FFFFFF\"/>\n",
       "\t<rect x=\"235.16\" y=\"2561.12\" width=\"3586.46\" height=\"180.61\" style=\"fill:none;stroke:#000000;stroke-width:5.76\"/>\n",
       "\t<line x1=\"275.47\" y1=\"2651.43\" x2=\"462.21\" y2=\"2651.43\" style=\"stroke:#1A476F;stroke-width:8.64\"/>\n",
       "\t<line x1=\"1872.46\" y1=\"2651.43\" x2=\"2059.32\" y2=\"2651.43\" style=\"stroke:#90353B;stroke-width:8.64\"/>\n",
       "\t<text x=\"492.15\" y=\"2686.46\" style=\"font-family:'Helvetica';font-size:99.99px;fill:#000000\">U.S. Civilian Unemployment Rate  (Seasonally adjusted)</text>\n",
       "\t<text x=\"2089.27\" y=\"2686.46\" style=\"font-family:'Helvetica';font-size:99.99px;fill:#000000\">percentage change in U.S. Gross Domestic Product, seasonally adjusted</text>\n",
       "</svg>\n"
      ],
      "text/html": [
       "                <iframe frameborder=\"0\" scrolling=\"no\" height=\"436\" width=\"600\"                srcdoc=\"<html><body>&lt;?xml version=&quot;1.0&quot; encoding=&quot;UTF-8&quot; standalone=&quot;no&quot;?&gt;\n",
       "&lt;!-- This is a Stata 16.0 generated SVG file (http://www.stata.com) --&gt;\n",
       "\n",
       "&lt;svg version=&quot;1.1&quot; width=&quot;600px&quot; height=&quot;436px&quot; viewBox=&quot;0 0 3960 2880&quot; xmlns=&quot;http://www.w3.org/2000/svg&quot; xmlns:xlink=&quot;http://www.w3.org/1999/xlink&quot;&gt;\n",
       "\t&lt;desc&gt;Stata Graph - Graph&lt;/desc&gt;\n",
       "\t&lt;rect x=&quot;0&quot; y=&quot;0&quot; width=&quot;3960&quot; height=&quot;2880&quot; style=&quot;fill:#EAF2F3;stroke:none&quot;/&gt;\n",
       "\t&lt;rect x=&quot;0.00&quot; y=&quot;0.00&quot; width=&quot;3959.88&quot; height=&quot;2880.00&quot; style=&quot;fill:#EAF2F3&quot;/&gt;\n",
       "\t&lt;rect x=&quot;2.88&quot; y=&quot;2.88&quot; width=&quot;3954.12&quot; height=&quot;2874.24&quot; style=&quot;fill:none;stroke:#EAF2F3;stroke-width:5.76&quot;/&gt;\n",
       "\t&lt;rect x=&quot;197.63&quot; y=&quot;100.86&quot; width=&quot;3661.39&quot; height=&quot;2132.77&quot; style=&quot;fill:#FFFFFF&quot;/&gt;\n",
       "\t&lt;rect x=&quot;200.51&quot; y=&quot;103.74&quot; width=&quot;3655.63&quot; height=&quot;2127.01&quot; style=&quot;fill:none;stroke:#FFFFFF;stroke-width:5.76&quot;/&gt;\n",
       "\t&lt;line x1=&quot;197.63&quot; y1=&quot;1501.63&quot; x2=&quot;3859.02&quot; y2=&quot;1501.63&quot; style=&quot;stroke:#EAF2F3;stroke-width:8.64&quot;/&gt;\n",
       "\t&lt;line x1=&quot;197.63&quot; y1=&quot;832.86&quot; x2=&quot;3859.02&quot; y2=&quot;832.86&quot; style=&quot;stroke:#EAF2F3;stroke-width:8.64&quot;/&gt;\n",
       "\t&lt;line x1=&quot;197.63&quot; y1=&quot;164.22&quot; x2=&quot;3859.02&quot; y2=&quot;164.22&quot; style=&quot;stroke:#EAF2F3;stroke-width:8.64&quot;/&gt;\n",
       "\t&lt;path d=&quot; M296.26 525.34 L331.65 538.70 L367.04 565.43 L402.31 565.43 L437.70 538.70 L473.10 565.43 L508.37 592.16 L543.76 618.89 L579.03 659.11 L614.42 699.21 L649.81 725.94 L685.08 739.31 L720.47 766.04 L755.87 766.04 L791.13 792.77 L826.53 806.26 L861.92 806.26 L897.19 806.26 L932.58 779.40 L967.85 792.77 L1003.24 792.77 L1038.63 739.31 L1073.90 685.84 L1109.30 618.89 L1144.69 592.16 L1179.96 578.80 L1215.35 552.07 L1250.62 511.97 L1286.01 485.24 L1321.40 485.24 L1356.67 511.97 L1392.06 552.07 L1427.46 552.07 L1462.72 592.16 L1498.12 618.89 L1533.51 618.89 L1568.78 672.48 L1604.17 699.21 L1639.44 752.67 L1674.83 766.04 L1710.22 739.31 L1745.49 739.31 L1780.89 752.67 L1816.28 766.04 L1851.55 766.04 L1886.94 792.77 L1922.21 792.77 L1957.60 806.26 L1992.99 832.99 L2028.26 846.35 L2063.66 873.08 L2099.05 886.45 L2134.32 913.18 L2169.71 899.81 L2205.10 913.18 L2240.37 926.55 L2275.76 926.55 L2311.03 939.91 L2346.42 953.28 L2381.82 966.64 L2417.09 980.01 L2452.48 966.64 L2487.87 980.01 L2523.14 939.91 L2558.53 913.18 L2593.80 859.72 L2629.19 766.04 L2664.59 739.31 L2699.85 725.94 L2735.25 739.31 L2770.64 712.57 L2805.91 712.57 L2841.30 685.84 L2876.69 685.84 L2911.96 725.94 L2947.35 739.31 L2982.62 752.67 L3018.01 779.40 L3053.41 779.40 L3088.68 792.77 L3124.07 819.62 L3159.46 832.99 L3194.73 846.35 L3230.12 873.08 L3265.51 873.08 L3300.78 886.45 L3336.18 913.18 L3371.45 899.81 L3406.84 899.81 L3442.23 873.08 L3477.50 859.72 L3512.89 846.35 L3548.28 779.40 L3583.55 685.84 L3618.95 578.80 L3654.21 418.29 L3689.61 257.90 L3725.00 217.68&quot; stroke-linejoin=&quot;round&quot; style=&quot;fill:none;stroke:#1A476F;stroke-width:8.64&quot;/&gt;\n",
       "\t&lt;path d=&quot; M296.26 1314.39 L331.65 1234.20 L367.04 1314.39 L402.31 1301.02 L437.70 1381.34 L473.10 1301.02 L508.37 1341.12 L543.76 1301.02 L579.03 1287.66 L614.42 1274.29 L649.81 1167.25 L685.08 1327.76 L720.47 1207.47 L755.87 1274.29 L791.13 1220.83 L826.53 1220.83 L861.92 1274.29 L897.19 1301.02 L932.58 1381.34 L967.85 1194.10 L1003.24 1287.66 L1038.63 1381.34 L1073.90 1514.99 L1109.30 1421.44 L1144.69 1314.39 L1179.96 1341.12 L1215.35 1367.98 L1250.62 1287.66 L1286.01 1274.29 L1321.40 1301.02 L1356.67 1287.66 L1392.06 1394.71 L1427.46 1341.12 L1462.72 1367.98 L1498.12 1247.56 L1533.51 1301.02 L1568.78 1247.56 L1604.17 1341.12 L1639.44 1287.66 L1674.83 1394.71 L1710.22 1408.07 L1745.49 1327.76 L1780.89 1341.12 L1816.28 1327.76 L1851.55 1220.83 L1886.94 1341.12 L1922.21 1274.29 L1957.60 1314.39 L1992.99 1274.29 L2028.26 1287.66 L2063.66 1354.61 L2099.05 1354.61 L2134.32 1354.61 L2169.71 1274.29 L2205.10 1234.20 L2240.37 1327.76 L2275.76 1354.61 L2311.03 1287.66 L2346.42 1207.47 L2381.82 1354.61 L2417.09 1167.25 L2452.48 1408.07 L2487.87 1354.61 L2523.14 1461.53 L2558.53 1327.76 L2593.80 1501.63 L2629.19 1408.07 L2664.59 1341.12 L2699.85 1367.98 L2735.25 1381.34 L2770.64 1421.44 L2805.91 1354.61 L2841.30 1354.61 L2876.69 1207.47 L2911.96 1314.39 L2947.35 1287.66 L2982.62 1287.66 L3018.01 1301.02 L3053.41 1287.66 L3088.68 1247.56 L3124.07 1354.61 L3159.46 1260.93 L3194.73 1314.39 L3230.12 1220.83 L3265.51 1341.12 L3300.78 1394.71 L3336.18 1341.12 L3371.45 1314.39 L3406.84 1301.02 L3442.23 1327.76 L3477.50 1354.61 L3512.89 1461.53 L3548.28 1381.34 L3583.55 1461.53 L3618.95 1688.87 L3654.21 1662.14 L3689.61 1528.36 L3725.00 1394.71&quot; stroke-linejoin=&quot;round&quot; style=&quot;fill:none;stroke:#90353B;stroke-width:8.64&quot;/&gt;\n",
       "\t&lt;line x1=&quot;197.63&quot; y1=&quot;2233.63&quot; x2=&quot;197.63&quot; y2=&quot;100.86&quot; style=&quot;stroke:#000000;stroke-width:5.76&quot;/&gt;\n",
       "\t&lt;line x1=&quot;197.63&quot; y1=&quot;2170.27&quot; x2=&quot;157.66&quot; y2=&quot;2170.27&quot; style=&quot;stroke:#000000;stroke-width:5.76&quot;/&gt;\n",
       "\t&lt;text x=&quot;107.55&quot; y=&quot;2170.27&quot; style=&quot;font-family:&#x27;Helvetica&#x27;;font-size:99.99px;fill:#000000&quot; transform=&quot;rotate(-90 107.55,2170.27)&quot; text-anchor=&quot;middle&quot;&gt;-5&lt;/text&gt;\n",
       "\t&lt;line x1=&quot;197.63&quot; y1=&quot;1501.63&quot; x2=&quot;157.66&quot; y2=&quot;1501.63&quot; style=&quot;stroke:#000000;stroke-width:5.76&quot;/&gt;\n",
       "\t&lt;text x=&quot;107.55&quot; y=&quot;1501.63&quot; style=&quot;font-family:&#x27;Helvetica&#x27;;font-size:99.99px;fill:#000000&quot; transform=&quot;rotate(-90 107.55,1501.63)&quot; text-anchor=&quot;middle&quot;&gt;0&lt;/text&gt;\n",
       "\t&lt;line x1=&quot;197.63&quot; y1=&quot;832.86&quot; x2=&quot;157.66&quot; y2=&quot;832.86&quot; style=&quot;stroke:#000000;stroke-width:5.76&quot;/&gt;\n",
       "\t&lt;text x=&quot;107.55&quot; y=&quot;832.86&quot; style=&quot;font-family:&#x27;Helvetica&#x27;;font-size:99.99px;fill:#000000&quot; transform=&quot;rotate(-90 107.55,832.86)&quot; text-anchor=&quot;middle&quot;&gt;5&lt;/text&gt;\n",
       "\t&lt;line x1=&quot;197.63&quot; y1=&quot;164.22&quot; x2=&quot;157.66&quot; y2=&quot;164.22&quot; style=&quot;stroke:#000000;stroke-width:5.76&quot;/&gt;\n",
       "\t&lt;text x=&quot;107.55&quot; y=&quot;164.22&quot; style=&quot;font-family:&#x27;Helvetica&#x27;;font-size:99.99px;fill:#000000&quot; transform=&quot;rotate(-90 107.55,164.22)&quot; text-anchor=&quot;middle&quot;&gt;10&lt;/text&gt;\n",
       "\t&lt;line x1=&quot;197.63&quot; y1=&quot;2233.63&quot; x2=&quot;3859.02&quot; y2=&quot;2233.63&quot; style=&quot;stroke:#000000;stroke-width:5.76&quot;/&gt;\n",
       "\t&lt;line x1=&quot;260.99&quot; y1=&quot;2233.63&quot; x2=&quot;260.99&quot; y2=&quot;2273.73&quot; style=&quot;stroke:#000000;stroke-width:5.76&quot;/&gt;\n",
       "\t&lt;text x=&quot;260.99&quot; y=&quot;2363.59&quot; style=&quot;font-family:&#x27;Helvetica&#x27;;font-size:99.99px;fill:#000000&quot; text-anchor=&quot;middle&quot;&gt;1985q1&lt;/text&gt;\n",
       "\t&lt;line x1=&quot;967.97&quot; y1=&quot;2233.63&quot; x2=&quot;967.97&quot; y2=&quot;2273.73&quot; style=&quot;stroke:#000000;stroke-width:5.76&quot;/&gt;\n",
       "\t&lt;text x=&quot;967.97&quot; y=&quot;2363.59&quot; style=&quot;font-family:&#x27;Helvetica&#x27;;font-size:99.99px;fill:#000000&quot; text-anchor=&quot;middle&quot;&gt;1990q1&lt;/text&gt;\n",
       "\t&lt;line x1=&quot;1674.96&quot; y1=&quot;2233.63&quot; x2=&quot;1674.96&quot; y2=&quot;2273.73&quot; style=&quot;stroke:#000000;stroke-width:5.76&quot;/&gt;\n",
       "\t&lt;text x=&quot;1674.96&quot; y=&quot;2363.59&quot; style=&quot;font-family:&#x27;Helvetica&#x27;;font-size:99.99px;fill:#000000&quot; text-anchor=&quot;middle&quot;&gt;1995q1&lt;/text&gt;\n",
       "\t&lt;line x1=&quot;2381.82&quot; y1=&quot;2233.63&quot; x2=&quot;2381.82&quot; y2=&quot;2273.73&quot; style=&quot;stroke:#000000;stroke-width:5.76&quot;/&gt;\n",
       "\t&lt;text x=&quot;2381.82&quot; y=&quot;2363.59&quot; style=&quot;font-family:&#x27;Helvetica&#x27;;font-size:99.99px;fill:#000000&quot; text-anchor=&quot;middle&quot;&gt;2000q1&lt;/text&gt;\n",
       "\t&lt;line x1=&quot;3088.80&quot; y1=&quot;2233.63&quot; x2=&quot;3088.80&quot; y2=&quot;2273.73&quot; style=&quot;stroke:#000000;stroke-width:5.76&quot;/&gt;\n",
       "\t&lt;text x=&quot;3088.80&quot; y=&quot;2363.59&quot; style=&quot;font-family:&#x27;Helvetica&#x27;;font-size:99.99px;fill:#000000&quot; text-anchor=&quot;middle&quot;&gt;2005q1&lt;/text&gt;\n",
       "\t&lt;line x1=&quot;3795.66&quot; y1=&quot;2233.63&quot; x2=&quot;3795.66&quot; y2=&quot;2273.73&quot; style=&quot;stroke:#000000;stroke-width:5.76&quot;/&gt;\n",
       "\t&lt;text x=&quot;3795.66&quot; y=&quot;2363.59&quot; style=&quot;font-family:&#x27;Helvetica&#x27;;font-size:99.99px;fill:#000000&quot; text-anchor=&quot;middle&quot;&gt;2010q1&lt;/text&gt;\n",
       "\t&lt;text x=&quot;2028.39&quot; y=&quot;2473.60&quot; style=&quot;font-family:&#x27;Helvetica&#x27;;font-size:99.99px;fill:#000000&quot; text-anchor=&quot;middle&quot;&gt;date&lt;/text&gt;\n",
       "\t&lt;rect x=&quot;232.28&quot; y=&quot;2558.24&quot; width=&quot;3592.22&quot; height=&quot;186.37&quot; style=&quot;fill:#FFFFFF&quot;/&gt;\n",
       "\t&lt;rect x=&quot;235.16&quot; y=&quot;2561.12&quot; width=&quot;3586.46&quot; height=&quot;180.61&quot; style=&quot;fill:none;stroke:#000000;stroke-width:5.76&quot;/&gt;\n",
       "\t&lt;line x1=&quot;275.47&quot; y1=&quot;2651.43&quot; x2=&quot;462.21&quot; y2=&quot;2651.43&quot; style=&quot;stroke:#1A476F;stroke-width:8.64&quot;/&gt;\n",
       "\t&lt;line x1=&quot;1872.46&quot; y1=&quot;2651.43&quot; x2=&quot;2059.32&quot; y2=&quot;2651.43&quot; style=&quot;stroke:#90353B;stroke-width:8.64&quot;/&gt;\n",
       "\t&lt;text x=&quot;492.15&quot; y=&quot;2686.46&quot; style=&quot;font-family:&#x27;Helvetica&#x27;;font-size:99.99px;fill:#000000&quot;&gt;U.S. Civilian Unemployment Rate  (Seasonally adjusted)&lt;/text&gt;\n",
       "\t&lt;text x=&quot;2089.27&quot; y=&quot;2686.46&quot; style=&quot;font-family:&#x27;Helvetica&#x27;;font-size:99.99px;fill:#000000&quot;&gt;percentage change in U.S. Gross Domestic Product, seasonally adjusted&lt;/text&gt;\n",
       "&lt;/svg&gt;\n",
       "</body></html>\"></iframe>\n"
      ],
      "text/plain": [
       "This front-end cannot display the desired image type."
      ]
     },
     "metadata": {
      "image/svg+xml": {
       "height": 436,
       "width": 600
      },
      "text/html": {
       "height": 436,
       "width": 600
      }
     },
     "output_type": "display_data"
    },
    {
     "name": "stdout",
     "output_type": "stream",
     "text": [
      "\n",
      "\n",
      "\n"
     ]
    }
   ],
   "source": [
    "clear all \n",
    "use https://www.stata.com/data/s4poe4/okun.dta\n",
    "\n",
    "summ\n",
    "\n",
    "gen date = tq(1985q2) + _n-1\n",
    "format %tq date\n",
    "tsset date\n",
    "\n",
    "tsline u g"
   ]
  },
  {
   "cell_type": "code",
   "execution_count": 8,
   "metadata": {},
   "outputs": [
    {
     "name": "stdout",
     "output_type": "stream",
     "text": [
      "\n",
      "      Source |       SS           df       MS      Number of obs   =        95\n",
      "-------------+----------------------------------   F(4, 90)        =     42.23\n",
      "       Model |  5.13367789         4  1.28341947   Prob > F        =    0.0000\n",
      "    Residual |  2.73516422        90  .030390714   R-squared       =    0.6524\n",
      "-------------+----------------------------------   Adj R-squared   =    0.6370\n",
      "       Total |  7.86884211        94  .083711086   Root MSE        =    .17433\n",
      "\n",
      "------------------------------------------------------------------------------\n",
      "         D.u |      Coef.   Std. Err.      t    P>|t|     [95% Conf. Interval]\n",
      "-------------+----------------------------------------------------------------\n",
      "           g |\n",
      "         --. |  -.2020526   .0330131    -6.12   0.000     -.267639   -.1364663\n",
      "         L1. |  -.1645352   .0358175    -4.59   0.000    -.2356929   -.0933774\n",
      "         L2. |   -.071556   .0353043    -2.03   0.046    -.1416941   -.0014179\n",
      "         L3. |    .003303   .0362603     0.09   0.928    -.0687345    .0753405\n",
      "             |\n",
      "       _cons |   .5809746   .0538893    10.78   0.000     .4739142     .688035\n",
      "------------------------------------------------------------------------------\n"
     ]
    }
   ],
   "source": [
    "regress D.u L(0/3).g"
   ]
  },
  {
   "cell_type": "markdown",
   "metadata": {},
   "source": [
    "Using phillips_aus.dat (https://www.stata.com/data/s4poe4/phillips_aus.dta) replicate the ARDL given in Equation 9.57 (p. 368, HGL). Obtain the findings in Table 9.4. What is your conclusion after checking AIC and SC? (syntax for AIC and SC is \"estat ic\")"
   ]
  },
  {
   "cell_type": "code",
   "execution_count": 58,
   "metadata": {},
   "outputs": [
    {
     "name": "stdout",
     "output_type": "stream",
     "text": [
      "\n",
      "\n",
      "\n",
      "\n",
      "\n",
      "        time variable:  date, 1981q1 to 2003q3\n",
      "                delta:  1 quarter\n",
      "\n",
      "\n",
      "    Variable |        Obs        Mean    Std. Dev.       Min        Max\n",
      "-------------+---------------------------------------------------------\n",
      "         inf |         91    .8043956    .6458263        -.4        2.6\n",
      "           u |         91    7.034066    1.818804          4       10.8\n",
      "        date |         91         129    26.41338         84        174\n"
     ]
    }
   ],
   "source": [
    "clear all\n",
    "use https://www.stata.com/data/s4poe4/phillips_aus.dta\n",
    "\n",
    "gen date = tq(1981q1) + _n-1\n",
    "format %tq date\n",
    "tsset date\n",
    "summ"
   ]
  },
  {
   "cell_type": "code",
   "execution_count": 59,
   "metadata": {},
   "outputs": [
    {
     "name": "stdout",
     "output_type": "stream",
     "text": [
      "\n",
      "      Source |       SS           df       MS      Number of obs   =        87\n",
      "-------------+----------------------------------   F(5, 81)        =     13.71\n",
      "       Model |  15.4337676         5  3.08675353   Prob > F        =    0.0000\n",
      "    Residual |  18.2333588        81  .225103195   R-squared       =    0.4584\n",
      "-------------+----------------------------------   Adj R-squared   =    0.4250\n",
      "       Total |  33.6671264        86  .391478214   Root MSE        =    .47445\n",
      "\n",
      "------------------------------------------------------------------------------\n",
      "         inf |      Coef.   Std. Err.      t    P>|t|     [95% Conf. Interval]\n",
      "-------------+----------------------------------------------------------------\n",
      "         inf |\n",
      "         L1. |   .2354401   .1015555     2.32   0.023     .0333765    .4375037\n",
      "         L2. |    .121328   .1037571     1.17   0.246    -.0851161    .3277722\n",
      "         L3. |   .1676895   .1049597     1.60   0.114    -.0411473    .3765264\n",
      "         L4. |   .2819156   .1013801     2.78   0.007      .080201    .4836302\n",
      "             |\n",
      "           u |\n",
      "         D1. |  -.7901718   .1885334    -4.19   0.000    -1.165294   -.4150496\n",
      "             |\n",
      "       _cons |   .1000999   .0982599     1.02   0.311    -.0954064    .2956063\n",
      "------------------------------------------------------------------------------\n"
     ]
    }
   ],
   "source": [
    "reg L(0/4).inf D.u"
   ]
  },
  {
   "cell_type": "code",
   "execution_count": 60,
   "metadata": {},
   "outputs": [],
   "source": [
    "program modelsel\n",
    "    scalar aic = ln(e(rss)/e(N))+2*e(rank)/e(N)\n",
    "    scalar sc = ln(e(rss)/e(N))+e(rank)*ln(e(N))/e(N)\n",
    "    scalar obs = e(N)\n",
    "    scalar list aic sc obs\n",
    "end "
   ]
  },
  {
   "cell_type": "code",
   "execution_count": 62,
   "metadata": {},
   "outputs": [
    {
     "name": "stdout",
     "output_type": "stream",
     "text": [
      "\n",
      "\n",
      "       aic =  -1.255973\n",
      "        sc = -1.1441242\n",
      "       obs =         89\n"
     ]
    }
   ],
   "source": [
    "quietly regress inf L.inf L(0/1).D.u\n",
    "modelsel"
   ]
  },
  {
   "cell_type": "code",
   "execution_count": 63,
   "metadata": {},
   "outputs": [
    {
     "name": "stdout",
     "output_type": "stream",
     "text": [
      "\n",
      "p=1 q=0\n",
      "       aic = -1.7145721\n",
      "        sc = -1.6107586\n",
      "       obs =         61\n",
      "p=2 q=0\n",
      "       aic = -1.6827262\n",
      "        sc = -1.5443083\n",
      "       obs =         61\n",
      "p=3 q=0\n",
      "       aic = -1.6617917\n",
      "        sc = -1.4887692\n",
      "       obs =         61\n",
      "p=4 q=0\n",
      "       aic = -1.6495316\n",
      "        sc = -1.4419047\n",
      "       obs =         61\n",
      "p=5 q=0\n",
      "       aic = -1.6175512\n",
      "        sc = -1.3753198\n",
      "       obs =         61\n",
      "p=6 q=0\n",
      "       aic = -1.5892517\n",
      "        sc = -1.3124158\n",
      "       obs =         61\n",
      "p=1 q=1\n",
      "       aic = -1.6893953\n",
      "        sc = -1.5509773\n",
      "       obs =         61\n",
      "p=2 q=1\n",
      "       aic = -1.6578292\n",
      "        sc = -1.4848067\n",
      "       obs =         61\n",
      "p=3 q=1\n",
      "       aic = -1.6362272\n",
      "        sc = -1.4286002\n",
      "       obs =         61\n",
      "p=4 q=1\n",
      "       aic = -1.6189343\n",
      "        sc = -1.3767029\n",
      "       obs =         61\n",
      "p=5 q=1\n",
      "       aic = -1.5875147\n",
      "        sc = -1.3106788\n",
      "       obs =         61\n",
      "p=6 q=1\n",
      "       aic = -1.5600387\n",
      "        sc = -1.2485983\n",
      "       obs =         61\n"
     ]
    }
   ],
   "source": [
    "forvalues q=0/1 {\n",
    "    forvalues p=1/6 {\n",
    "    quietly regress L(0/`p').inf L(0/`q').D.u if date >= tq(1988q3)\n",
    "    display \"p=`p' q=`q'\"\n",
    "    modelsel\n",
    "    }\n",
    "} "
   ]
  },
  {
   "cell_type": "code",
   "execution_count": 40,
   "metadata": {},
   "outputs": [
    {
     "name": "stdout",
     "output_type": "stream",
     "text": [
      "\n",
      "\n",
      "      Source |       SS           df       MS      Number of obs   =        69\n",
      "-------------+----------------------------------   F(5, 63)        =      3.74\n",
      "       Model |  3.01253229         5  .602506457   Prob > F        =    0.0050\n",
      "    Residual |  10.1451489        63  .161034109   R-squared       =    0.2290\n",
      "-------------+----------------------------------   Adj R-squared   =    0.1678\n",
      "       Total |  13.1576812        68  .193495311   Root MSE        =    .40129\n",
      "\n",
      "------------------------------------------------------------------------------\n",
      "         inf |      Coef.   Std. Err.      t    P>|t|     [95% Conf. Interval]\n",
      "-------------+----------------------------------------------------------------\n",
      "         inf |\n",
      "         L1. |    .385352   .1193678     3.23   0.002     .1468146    .6238895\n",
      "         L2. |  -.0545529   .1278789    -0.43   0.671    -.3100985    .2009928\n",
      "         L3. |   .0214829   .1283735     0.17   0.868    -.2350511     .278017\n",
      "         L4. |   .1454277   .1231088     1.18   0.242    -.1005855     .391441\n",
      "             |\n",
      "           u |\n",
      "         D1. |  -.5599137   .2368341    -2.36   0.021    -1.033189   -.0866385\n",
      "             |\n",
      "       _cons |   .2834255   .1222165     2.32   0.024     .0391953    .5276557\n",
      "------------------------------------------------------------------------------\n",
      "\n",
      "\n",
      "Akaike's information criterion and Bayesian information criterion\n",
      "\n",
      "-----------------------------------------------------------------------------\n",
      "       Model |          N   ll(null)  ll(model)      df        AIC        BIC\n",
      "-------------+---------------------------------------------------------------\n",
      "           . |         69  -40.73678  -31.76643       6   75.53287   88.93751\n",
      "-----------------------------------------------------------------------------\n",
      "Note: BIC uses N = number of observations. See [R] BIC note.\n"
     ]
    }
   ],
   "source": [
    "reg L(0/4).inf D.u if date > tq(1986q2)\n",
    "estat ic"
   ]
  },
  {
   "cell_type": "code",
   "execution_count": null,
   "metadata": {},
   "outputs": [],
   "source": []
  }
 ],
 "metadata": {
  "kernelspec": {
   "display_name": "Stata",
   "language": "stata",
   "name": "stata"
  },
  "language_info": {
   "codemirror_mode": "stata",
   "file_extension": ".do",
   "mimetype": "text/x-stata",
   "name": "stata",
   "version": "15.1"
  }
 },
 "nbformat": 4,
 "nbformat_minor": 2
}
