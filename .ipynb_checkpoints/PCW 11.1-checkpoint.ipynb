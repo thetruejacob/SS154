{
 "cells": [
  {
   "cell_type": "markdown",
   "metadata": {},
   "source": [
    "Write a one paragraph summary of the findings in Lalonde (1986) regarding the effects of the National Supported Work Demonstration (NSW) job training program on earnings. This study is described in the Mixtape, p. 134-139. Make sure to refer to the problems associated with the non-experimental data."
   ]
  },
  {
   "cell_type": "markdown",
   "metadata": {},
   "source": [
    "We know that  NSW, because it was randomized, has a treatment effect of $\\$900$ to $\\$1800$. However, instead of using the experimental group data, Lalonde uses the CPS for a noonexperimental control group and evaluates popular econometric methods to see if they were accurate in getting the $\\$900$ figure. However, many econometric methods gave the wrong sign, because of selection bias."
   ]
  },
  {
   "cell_type": "markdown",
   "metadata": {},
   "source": [
    "Download the nsw_psid.dta (https://www.ifs.org.uk/publications/6285) from Barbara Sianesi’s presentation given to the 2010 German Stata Users Group in Berlin. Click on download full report. Replicate the nearest neighbor matching example in the tutorial video (https://www.youtube.com/watch?v=VYUjfFWPENM) using age, black, hispanic, married, educ, nodegree, and re75 as control variables. Interpret your findings."
   ]
  },
  {
   "cell_type": "code",
   "execution_count": 4,
   "metadata": {},
   "outputs": [
    {
     "name": "stdout",
     "output_type": "stream",
     "text": [
      "\n",
      "\n",
      "(NSW treated and PSID non-treated)\n",
      "\n",
      "\n",
      "    Variable |        Obs        Mean    Std. Dev.       Min        Max\n",
      "-------------+---------------------------------------------------------\n",
      "     treated |      2,787    .1065662    .3086163          0          1\n",
      "         age |      2,787    33.76103     10.5875         17         55\n",
      "        age2 |      2,787    1251.862     767.585        289       3025\n",
      "        educ |      2,787    11.93183    3.021046          0         17\n",
      "       black |      2,787    .3092931    .4622852          0          1\n",
      "-------------+---------------------------------------------------------\n",
      "    hispanic |      2,787    .0391102    .1938918          0          1\n",
      "     married |      2,787    .7918909    .4060281          0          1\n",
      "    nodegree |      2,787    .3505562    .4772298          0          1\n",
      "        re75 |      2,787    17358.57    13858.84          0   156653.2\n",
      "        re78 |      2,787    19893.88    15632.63          0   121173.6\n"
     ]
    }
   ],
   "source": [
    "clear \n",
    "use nsw_psid.dta\n",
    "summ"
   ]
  },
  {
   "cell_type": "code",
   "execution_count": 10,
   "metadata": {},
   "outputs": [
    {
     "name": "stdout",
     "output_type": "stream",
     "text": [
      "file http://www.stata.com/st0026_2.pkg not found\n",
      "could not load st0026_2.pkg from http://www.stata.com/\n"
     ]
    },
    {
     "name": "stderr",
     "output_type": "stream",
     "text": [
      "r(601);\n"
     ]
    },
    {
     "name": "stdout",
     "output_type": "stream",
     "text": [
      "\n"
     ]
    }
   ],
   "source": [
    "net install st0026_2"
   ]
  },
  {
   "cell_type": "code",
   "execution_count": 5,
   "metadata": {},
   "outputs": [],
   "source": [
    "global treatment treated\n",
    "global ylist re78\n",
    "global xlist age black hispanic married educ nodegree re75 \n",
    "global breps 100"
   ]
  },
  {
   "cell_type": "code",
   "execution_count": 6,
   "metadata": {},
   "outputs": [
    {
     "name": "stdout",
     "output_type": "stream",
     "text": [
      "\n",
      "---------------------------------------------------------------------------------------------------------------------------------------------------------------------------------------------------------------------------------------------------------------\n",
      "-> treated = 0\n",
      "\n",
      "    Variable |        Obs        Mean    Std. Dev.       Min        Max\n",
      "-------------+---------------------------------------------------------\n",
      "        re78 |      2,490    21553.92    15555.35          0   121173.6\n",
      "         age |      2,490     34.8506    10.44076         18         55\n",
      "       black |      2,490    .2506024     .433447          0          1\n",
      "    hispanic |      2,490    .0325301    .1774389          0          1\n",
      "     married |      2,490    .8662651    .3404357          0          1\n",
      "-------------+---------------------------------------------------------\n",
      "        educ |      2,490    12.11687    3.082435          0         17\n",
      "    nodegree |      2,490    .3052209    .4605934          0          1\n",
      "        re75 |      2,490    19063.34    13596.95          0   156653.2\n",
      "\n",
      "---------------------------------------------------------------------------------------------------------------------------------------------------------------------------------------------------------------------------------------------------------------\n",
      "-> treated = 1\n",
      "\n",
      "    Variable |        Obs        Mean    Std. Dev.       Min        Max\n",
      "-------------+---------------------------------------------------------\n",
      "        re78 |        297    5976.352    6923.796          0   60307.93\n",
      "         age |        297    24.62626    6.686391         17         49\n",
      "       black |        297    .8013468    .3996597          0          1\n",
      "    hispanic |        297    .0942761    .2927056          0          1\n",
      "     married |        297    .1683502    .3748085          0          1\n",
      "-------------+---------------------------------------------------------\n",
      "        educ |        297    10.38047    1.817712          4         16\n",
      "    nodegree |        297    .7306397    .4443762          0          1\n",
      "        re75 |        297    3066.098    4874.889          0   37431.66\n",
      "\n"
     ]
    }
   ],
   "source": [
    "bysort $treatment: summarize $ylist $xlist"
   ]
  },
  {
   "cell_type": "code",
   "execution_count": 7,
   "metadata": {},
   "outputs": [
    {
     "name": "stdout",
     "output_type": "stream",
     "text": [
      "\n",
      "note: educ omitted because of collinearity\n",
      "Iteration 0:   log likelihood = -945.56046  \n",
      "Iteration 1:   log likelihood = -647.98458  \n",
      "Iteration 2:   log likelihood =  -432.5301  \n",
      "Iteration 3:   log likelihood = -368.49031  \n",
      "Iteration 4:   log likelihood = -363.71977  \n",
      "Iteration 5:   log likelihood = -363.66961  \n",
      "Iteration 6:   log likelihood =  -363.6696  \n",
      "\n",
      "Logistic regression                             Number of obs     =      2,787\n",
      "                                                LR chi2(7)        =    1163.78\n",
      "                                                Prob > chi2       =     0.0000\n",
      "Log likelihood =  -363.6696                     Pseudo R2         =     0.6154\n",
      "\n",
      "------------------------------------------------------------------------------\n",
      "     treated |      Coef.   Std. Err.      z    P>|z|     [95% Conf. Interval]\n",
      "-------------+----------------------------------------------------------------\n",
      "         age |  -.0892189   .0125414    -7.11   0.000    -.1137995   -.0646382\n",
      "        educ |   .0167966   .0589781     0.28   0.776    -.0987983    .1323914\n",
      "       black |   1.950037   .2462866     7.92   0.000     1.467324     2.43275\n",
      "    hispanic |   2.162078   .4116282     5.25   0.000     1.355302    2.968855\n",
      "     married |  -2.054219   .2060262    -9.97   0.000    -2.458023   -1.650415\n",
      "        educ |          0  (omitted)\n",
      "    nodegree |   1.013603   .2783827     3.64   0.000     .4679833    1.559224\n",
      "        re75 |  -.0001924   .0000187   -10.29   0.000    -.0002291   -.0001558\n",
      "       _cons |   1.125072   .9724676     1.16   0.247    -.7809296    3.031073\n",
      "------------------------------------------------------------------------------\n",
      "Note: 13 failures and 0 successes completely determined.\n"
     ]
    }
   ],
   "source": [
    "logit treated age educ black hispanic married educ nodegree re75"
   ]
  },
  {
   "cell_type": "code",
   "execution_count": 8,
   "metadata": {},
   "outputs": [
    {
     "name": "stdout",
     "output_type": "stream",
     "text": [
      "(option pr assumed; Pr(treated))\n"
     ]
    }
   ],
   "source": [
    "predict pscore"
   ]
  },
  {
   "cell_type": "code",
   "execution_count": 12,
   "metadata": {},
   "outputs": [
    {
     "name": "stdout",
     "output_type": "stream",
     "text": [
      "\n",
      "Treatment-effects estimation                   Number of obs      =      2,787\n",
      "Estimator      : nearest-neighbor matching     Matches: requested =          1\n",
      "Outcome model  : matching                                     min =          1\n",
      "Distance metric: Mahalanobis                                  max =          6\n",
      "------------------------------------------------------------------------------\n",
      "             |              AI Robust\n",
      "        re78 |      Coef.   Std. Err.      z    P>|z|     [95% Conf. Interval]\n",
      "-------------+----------------------------------------------------------------\n",
      "ATE          |\n",
      "     treated |\n",
      "   (1 vs 0)  |  -11390.82   1713.274    -6.65   0.000    -14748.77   -8032.862\n",
      "------------------------------------------------------------------------------\n"
     ]
    }
   ],
   "source": [
    "teffects nnmatch (re78 age black hispanic married educ nodegree re75) (treated)"
   ]
  },
  {
   "cell_type": "code",
   "execution_count": null,
   "metadata": {},
   "outputs": [],
   "source": []
  },
  {
   "cell_type": "code",
   "execution_count": null,
   "metadata": {},
   "outputs": [],
   "source": []
  }
 ],
 "metadata": {
  "kernelspec": {
   "display_name": "Stata",
   "language": "stata",
   "name": "stata"
  },
  "language_info": {
   "codemirror_mode": "stata",
   "file_extension": ".do",
   "mimetype": "text/x-stata",
   "name": "stata",
   "version": "15.1"
  }
 },
 "nbformat": 4,
 "nbformat_minor": 2
}
