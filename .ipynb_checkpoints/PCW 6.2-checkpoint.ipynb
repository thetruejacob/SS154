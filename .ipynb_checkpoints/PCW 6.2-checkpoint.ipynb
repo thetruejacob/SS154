{
 "cells": [
  {
   "cell_type": "markdown",
   "metadata": {},
   "source": [
    "Reconsider the household expenditure model that appears in the text, and the data for which are in the file $food.dat$. That is, we have the model\n",
    "$$ y_i = \\beta_1 + \\beta_2 x_i + e_i$$\n",
    "\n",
    "where $y_i$ is food expenditure for the $i$th household and $x_i$ is income. . Find generalized least squares estimates for $\\beta_1$ and $\\beta_2$ under the assumptions \n",
    "- $\\text{var}(e_i) = \\sigma^2 \\sqrt{x_i}$\n",
    "- $\\text{var}(e_i) = \\sigma^2 x^2_i$\n",
    "- $\\text{var}(e_i) = \\sigma^2 \\ln(x_i)$\n",
    "\n",
    "\n",
    "Comment on the sensitivity of the estimates and their standard errors to the heteroskedastic specification. For each case, use the White $N \\times R^2$ statistic and the residuals from the transformed model to test whether heteroskedasticity has been eliminated.\n"
   ]
  },
  {
   "cell_type": "markdown",
   "metadata": {},
   "source": [
    "$$ \\text{var}(e_i) = \\sigma_i^2 = \\sigma^2\\sqrt{x_i} = \\exp\\big( a_0 + \\alpha_1 \\ln(x_i) \\big), \\quad \\text{where} \\quad   a_0 = \\ln(\\sigma^2) \\iff  e^{a_0} = \\sigma^2 \\quad \\text{and} \\quad \\alpha_1 = 1/2 \\iff e^{\\alpha_1 \\ln(x_i)} = e^{\\ln(x_i^{1/2})} = \\sqrt{x_i}$$\n",
    "$$ \\text{var}(e_i) = \\sigma_i^2 = \\sigma^2  x_i^{2} = \\exp\\big(a_0 + \\alpha_1 \\ln(x_i) \\big), \\quad \\text{where} \\quad  a_0 = \\ln(\\sigma^2) \\iff e^{a_0} = \\sigma^2  \\quad \\text{and} \\quad \\alpha_1 = 2 \\iff e^{\\alpha_1 \\ln(x_i)} = e^{\\ln{x_i^2}} = x_i^{2} $$\n",
    "$$ \\text{var}(e_i) = \\sigma_i^2 = \\sigma^2  \\ln(x_i) = \\exp\\bigg(  a_0 + \\alpha_1 \\ln\\big(\\ln(x_i)\\big) \\bigg), \\quad \\text{where} \\quad a_0 = \\ln(\\sigma^2) \\iff  e^{a_0}  = \\sigma^2 \\quad \\text{and} \\quad \\alpha_1 =  1 \\iff  e^{\\alpha_1 \\ln( \\ln(x_i) )} = e^{\\ln ( \\ln (x_i))} = \\ln(x_i)$$"
   ]
  },
  {
   "cell_type": "code",
   "execution_count": 3,
   "metadata": {},
   "outputs": [
    {
     "name": "stdout",
     "output_type": "stream",
     "text": [
      "\n",
      "\n",
      "\n",
      "\n",
      "\n",
      "\n",
      "\n",
      "Fitting full model:\n",
      "\n",
      "Iteration 0:   log likelihood =   -227.889  \n",
      "Iteration 1:   log likelihood = -226.61039  \n",
      "Iteration 2:   log likelihood = -225.72188  \n",
      "Iteration 3:   log likelihood = -225.71519  \n",
      "Iteration 4:   log likelihood = -225.71519  \n",
      "\n",
      "Heteroskedastic linear regression               Number of obs     =         40\n",
      "ML estimation\n",
      "                                                Wald chi2(1)      =     135.11\n",
      "Log likelihood = -225.7152                      Prob > chi2       =     0.0000\n",
      "\n",
      "------------------------------------------------------------------------------\n",
      "    food_exp |      Coef.   Std. Err.      z    P>|z|     [95% Conf. Interval]\n",
      "-------------+----------------------------------------------------------------\n",
      "food_exp     |\n",
      "      income |   10.63444   .9148876    11.62   0.000     8.841294    12.42759\n",
      "       _cons |   76.07294   7.369143    10.32   0.000     61.62969     90.5162\n",
      "-------------+----------------------------------------------------------------\n",
      "lnsigma2     |\n",
      "   logincome |   2.769762   .4481606     6.18   0.000     1.891383    3.648141\n",
      "       _cons |   .4684051   1.310337     0.36   0.721    -2.099809    3.036619\n",
      "------------------------------------------------------------------------------\n",
      "LR test of lnsigma2=0: chi2(1) = 19.59                    Prob > chi2 = 0.0000\n"
     ]
    }
   ],
   "source": [
    "clear all\n",
    "\n",
    "use https://www.stata.com/data/s4poe4/food.dta\n",
    "\n",
    "qui reg food_exp income\n",
    "\n",
    "gen logincome = log(income)\n",
    "gen loglogincome = log(logincome)\n",
    "\n",
    "\n",
    "hetregress food_exp income, het(logincome)"
   ]
  },
  {
   "cell_type": "code",
   "execution_count": 7,
   "metadata": {},
   "outputs": [
    {
     "name": "stdout",
     "output_type": "stream",
     "text": [
      "\n",
      "      sigma2:  exp(2)\n",
      "\n",
      "------------------------------------------------------------------------------\n",
      "    food_exp |      Coef.   Std. Err.      z    P>|z|     [95% Conf. Interval]\n",
      "-------------+----------------------------------------------------------------\n",
      "      sigma2 |   7.389056          .        .       .            .           .\n",
      "------------------------------------------------------------------------------\n"
     ]
    }
   ],
   "source": [
    "nlcom(sigma2: exp(2))"
   ]
  },
  {
   "cell_type": "code",
   "execution_count": null,
   "metadata": {},
   "outputs": [],
   "source": []
  },
  {
   "cell_type": "code",
   "execution_count": 2,
   "metadata": {},
   "outputs": [
    {
     "name": "stdout",
     "output_type": "stream",
     "text": [
      "invalid syntax\n"
     ]
    },
    {
     "name": "stderr",
     "output_type": "stream",
     "text": [
      "r(198);\n"
     ]
    },
    {
     "name": "stdout",
     "output_type": "stream",
     "text": [
      "\n"
     ]
    }
   ],
   "source": [
    "constraint logincome = 1"
   ]
  },
  {
   "cell_type": "code",
   "execution_count": null,
   "metadata": {},
   "outputs": [],
   "source": []
  },
  {
   "cell_type": "code",
   "execution_count": null,
   "metadata": {},
   "outputs": [],
   "source": []
  },
  {
   "cell_type": "code",
   "execution_count": null,
   "metadata": {},
   "outputs": [],
   "source": []
  },
  {
   "cell_type": "code",
   "execution_count": null,
   "metadata": {},
   "outputs": [],
   "source": []
  },
  {
   "cell_type": "code",
   "execution_count": 21,
   "metadata": {},
   "outputs": [
    {
     "name": "stdout",
     "output_type": "stream",
     "text": [
      "\n",
      "\n",
      "\n",
      "\n",
      "      Source |       SS           df       MS      Number of obs   =        40\n",
      "-------------+----------------------------------   F(1, 38)        =     23.79\n",
      "       Model |  190626.984         1  190626.984   Prob > F        =    0.0000\n",
      "    Residual |  304505.176        38   8013.2941   R-squared       =    0.3850\n",
      "-------------+----------------------------------   Adj R-squared   =    0.3688\n",
      "       Total |   495132.16        39  12695.6964   Root MSE        =    89.517\n",
      "\n",
      "------------------------------------------------------------------------------\n",
      "    food_exp |      Coef.   Std. Err.      t    P>|t|     [95% Conf. Interval]\n",
      "-------------+----------------------------------------------------------------\n",
      "      income |   10.20964   2.093264     4.88   0.000     5.972052    14.44723\n",
      "       _cons |     83.416   43.41016     1.92   0.062    -4.463279    171.2953\n",
      "------------------------------------------------------------------------------\n",
      "\n",
      "\n",
      "Fitting full model:\n",
      "\n",
      "Iteration 0:   log pseudolikelihood = -228.50037  \n",
      "Iteration 1:   log pseudolikelihood = -227.09857  \n",
      "Iteration 2:   log pseudolikelihood = -226.88212  \n",
      "Iteration 3:   log pseudolikelihood = -226.88179  \n",
      "Iteration 4:   log pseudolikelihood = -226.88179  \n",
      "\n",
      "Heteroskedastic linear regression               Number of obs     =         40\n",
      "ML estimation\n",
      "                                                Wald chi2(1)      =     129.10\n",
      "Log pseudolikelihood = -226.8818                Prob > chi2       =     0.0000\n",
      "\n",
      "------------------------------------------------------------------------------\n",
      "             |               Robust\n",
      "    food_exp |      Coef.   Std. Err.      z    P>|z|     [95% Conf. Interval]\n",
      "-------------+----------------------------------------------------------------\n",
      "food_exp     |\n",
      "      income |    10.8992   .9592468    11.36   0.000      9.01911    12.77929\n",
      "       _cons |   74.13632   8.508661     8.71   0.000     57.45966    90.81299\n",
      "-------------+----------------------------------------------------------------\n",
      "lnsigma2     |\n",
      "      income |   .1967278   .0310039     6.35   0.000     .1359612    .2574943\n",
      "       _cons |   4.649414   .6090252     7.63   0.000     3.455746    5.843081\n",
      "------------------------------------------------------------------------------\n",
      "Wald test of lnsigma2=0: chi2(1) = 40.26                  Prob > chi2 = 0.0000\n"
     ]
    }
   ],
   "source": [
    "clear all\n",
    "\n",
    "use https://www.stata.com/data/s4poe4/food.dta\n",
    "\n",
    "reg food_exp income\n",
    "hetreg food_exp income, het(income) vce(robust)\n",
    "\n",
    "// rvpplot income, yline(0)"
   ]
  },
  {
   "cell_type": "code",
   "execution_count": 19,
   "metadata": {},
   "outputs": [
    {
     "name": "stdout",
     "output_type": "stream",
     "text": [
      "\n",
      "\n",
      "\n",
      "\n",
      "\n",
      "      Source |       SS           df       MS      Number of obs   =        40\n",
      "-------------+----------------------------------   F(2, 37)        =    132.00\n",
      "       Model |  3.9759e+17         2  1.9880e+17   Prob > F        =    0.0000\n",
      "    Residual |  5.5721e+16        37  1.5060e+15   R-squared       =    0.8771\n",
      "-------------+----------------------------------   Adj R-squared   =    0.8704\n",
      "       Total |  4.5331e+17        39  1.1623e+16   Root MSE        =    3.9e+07\n",
      "\n",
      "------------------------------------------------------------------------------\n",
      "         y_i |      Coef.   Std. Err.      t    P>|t|     [95% Conf. Interval]\n",
      "-------------+----------------------------------------------------------------\n",
      "         xi1 |   293.2252   195.3804     1.50   0.142    -102.6532    689.1035\n",
      "         xi2 |   3.355089   6.176534     0.54   0.590    -9.159758    15.86994\n",
      "       _cons |   -8702442   1.25e+07    -0.70   0.491    -3.40e+07    1.66e+07\n",
      "------------------------------------------------------------------------------\n",
      "\n"
     ]
    }
   ],
   "source": [
    "gen y_i = food_exp/(income)^(-4)\n",
    "gen xi1 = 1/(income)^(-4)\n",
    "gen xi2 = income/(income)^(-4)\n",
    "\n",
    "reg y_i xi1 xi2 \n",
    "\n",
    "predict residuals, resid"
   ]
  },
  {
   "cell_type": "code",
   "execution_count": 12,
   "metadata": {},
   "outputs": [
    {
     "data": {
      "application/pdf": "[encoded data removed]",
      "image/svg+xml": [
       "<?xml version=\"1.0\" encoding=\"UTF-8\" standalone=\"no\"?>\n",
       "<!-- This is a Stata 16.0 generated SVG file (http://www.stata.com) -->\n",
       "\n",
       "<svg version=\"1.1\" width=\"600px\" height=\"436px\" viewBox=\"0 0 3960 2880\" xmlns=\"http://www.w3.org/2000/svg\" xmlns:xlink=\"http://www.w3.org/1999/xlink\">\n",
       "\t<desc>Stata Graph - Graph</desc>\n",
       "\t<rect x=\"0\" y=\"0\" width=\"3960\" height=\"2880\" style=\"fill:#EAF2F3;stroke:none\"/>\n",
       "\t<rect x=\"0.00\" y=\"0.00\" width=\"3959.88\" height=\"2880.00\" style=\"fill:#EAF2F3\"/>\n",
       "\t<rect x=\"2.88\" y=\"2.88\" width=\"3954.12\" height=\"2874.24\" style=\"fill:none;stroke:#EAF2F3;stroke-width:5.76\"/>\n",
       "\t<rect x=\"390.80\" y=\"100.86\" width=\"3468.22\" height=\"2388.33\" style=\"fill:#FFFFFF\"/>\n",
       "\t<rect x=\"393.68\" y=\"103.74\" width=\"3462.46\" height=\"2382.57\" style=\"fill:none;stroke:#FFFFFF;stroke-width:5.76\"/>\n",
       "\t<line x1=\"390.80\" y1=\"2425.82\" x2=\"3859.02\" y2=\"2425.82\" style=\"stroke:#EAF2F3;stroke-width:8.64\"/>\n",
       "\t<line x1=\"390.80\" y1=\"1973.50\" x2=\"3859.02\" y2=\"1973.50\" style=\"stroke:#EAF2F3;stroke-width:8.64\"/>\n",
       "\t<line x1=\"390.80\" y1=\"1521.18\" x2=\"3859.02\" y2=\"1521.18\" style=\"stroke:#EAF2F3;stroke-width:8.64\"/>\n",
       "\t<line x1=\"390.80\" y1=\"1068.86\" x2=\"3859.02\" y2=\"1068.86\" style=\"stroke:#EAF2F3;stroke-width:8.64\"/>\n",
       "\t<line x1=\"390.80\" y1=\"616.54\" x2=\"3859.02\" y2=\"616.54\" style=\"stroke:#EAF2F3;stroke-width:8.64\"/>\n",
       "\t<line x1=\"390.80\" y1=\"164.22\" x2=\"3859.02\" y2=\"164.22\" style=\"stroke:#EAF2F3;stroke-width:8.64\"/>\n",
       "\t<circle cx=\"555.76\" cy=\"1442.85\" r=\"26.35\" style=\"fill:#1A476F\"/>\n",
       "\t<circle cx=\"555.76\" cy=\"1442.85\" r=\"22.03\" style=\"fill:none;stroke:#1A476F;stroke-width:8.64\"/>\n",
       "\t<circle cx=\"694.49\" cy=\"1443.09\" r=\"26.35\" style=\"fill:#1A476F\"/>\n",
       "\t<circle cx=\"694.49\" cy=\"1443.09\" r=\"22.03\" style=\"fill:none;stroke:#1A476F;stroke-width:8.64\"/>\n",
       "\t<circle cx=\"583.36\" cy=\"1443.34\" r=\"26.35\" style=\"fill:#1A476F\"/>\n",
       "\t<circle cx=\"583.36\" cy=\"1443.34\" r=\"22.03\" style=\"fill:none;stroke:#1A476F;stroke-width:8.64\"/>\n",
       "\t<circle cx=\"554.03\" cy=\"1444.83\" r=\"26.35\" style=\"fill:#1A476F\"/>\n",
       "\t<circle cx=\"554.03\" cy=\"1444.83\" r=\"22.03\" style=\"fill:none;stroke:#1A476F;stroke-width:8.64\"/>\n",
       "\t<circle cx=\"1035.79\" cy=\"1474.90\" r=\"26.35\" style=\"fill:#1A476F\"/>\n",
       "\t<circle cx=\"1035.79\" cy=\"1474.90\" r=\"22.03\" style=\"fill:none;stroke:#1A476F;stroke-width:8.64\"/>\n",
       "\t<circle cx=\"1415.95\" cy=\"1466.36\" r=\"26.35\" style=\"fill:#1A476F\"/>\n",
       "\t<circle cx=\"1415.95\" cy=\"1466.36\" r=\"22.03\" style=\"fill:none;stroke:#1A476F;stroke-width:8.64\"/>\n",
       "\t<circle cx=\"1572.99\" cy=\"1469.58\" r=\"26.35\" style=\"fill:#1A476F\"/>\n",
       "\t<circle cx=\"1572.99\" cy=\"1469.58\" r=\"22.03\" style=\"fill:none;stroke:#1A476F;stroke-width:8.64\"/>\n",
       "\t<circle cx=\"1381.05\" cy=\"1487.15\" r=\"26.35\" style=\"fill:#1A476F\"/>\n",
       "\t<circle cx=\"1381.05\" cy=\"1487.15\" r=\"22.03\" style=\"fill:none;stroke:#1A476F;stroke-width:8.64\"/>\n",
       "\t<circle cx=\"1763.56\" cy=\"1466.73\" r=\"26.35\" style=\"fill:#1A476F\"/>\n",
       "\t<circle cx=\"1763.56\" cy=\"1466.73\" r=\"22.03\" style=\"fill:none;stroke:#1A476F;stroke-width:8.64\"/>\n",
       "\t<circle cx=\"1909.59\" cy=\"1462.40\" r=\"26.35\" style=\"fill:#1A476F\"/>\n",
       "\t<circle cx=\"1909.59\" cy=\"1462.40\" r=\"22.03\" style=\"fill:none;stroke:#1A476F;stroke-width:8.64\"/>\n",
       "\t<circle cx=\"1229.33\" cy=\"1553.48\" r=\"26.35\" style=\"fill:#1A476F\"/>\n",
       "\t<circle cx=\"1229.33\" cy=\"1553.48\" r=\"22.03\" style=\"fill:none;stroke:#1A476F;stroke-width:8.64\"/>\n",
       "\t<circle cx=\"1392.06\" cy=\"1543.95\" r=\"26.35\" style=\"fill:#1A476F\"/>\n",
       "\t<circle cx=\"1392.06\" cy=\"1543.95\" r=\"22.03\" style=\"fill:none;stroke:#1A476F;stroke-width:8.64\"/>\n",
       "\t<circle cx=\"2369.32\" cy=\"1411.41\" r=\"26.35\" style=\"fill:#1A476F\"/>\n",
       "\t<circle cx=\"2369.32\" cy=\"1411.41\" r=\"22.03\" style=\"fill:none;stroke:#1A476F;stroke-width:8.64\"/>\n",
       "\t<circle cx=\"1533.63\" cy=\"1540.12\" r=\"26.35\" style=\"fill:#1A476F\"/>\n",
       "\t<circle cx=\"1533.63\" cy=\"1540.12\" r=\"22.03\" style=\"fill:none;stroke:#1A476F;stroke-width:8.64\"/>\n",
       "\t<circle cx=\"1452.08\" cy=\"1556.20\" r=\"26.35\" style=\"fill:#1A476F\"/>\n",
       "\t<circle cx=\"1452.08\" cy=\"1556.20\" r=\"22.03\" style=\"fill:none;stroke:#1A476F;stroke-width:8.64\"/>\n",
       "\t<circle cx=\"1856.62\" cy=\"1494.95\" r=\"26.35\" style=\"fill:#1A476F\"/>\n",
       "\t<circle cx=\"1856.62\" cy=\"1494.95\" r=\"22.03\" style=\"fill:none;stroke:#1A476F;stroke-width:8.64\"/>\n",
       "\t<circle cx=\"2097.44\" cy=\"1454.36\" r=\"26.35\" style=\"fill:#1A476F\"/>\n",
       "\t<circle cx=\"2097.44\" cy=\"1454.36\" r=\"22.03\" style=\"fill:none;stroke:#1A476F;stroke-width:8.64\"/>\n",
       "\t<circle cx=\"892.11\" cy=\"1670.31\" r=\"26.35\" style=\"fill:#1A476F\"/>\n",
       "\t<circle cx=\"892.11\" cy=\"1670.31\" r=\"22.03\" style=\"fill:none;stroke:#1A476F;stroke-width:8.64\"/>\n",
       "\t<circle cx=\"1102.24\" cy=\"1640.98\" r=\"26.35\" style=\"fill:#1A476F\"/>\n",
       "\t<circle cx=\"1102.24\" cy=\"1640.98\" r=\"22.03\" style=\"fill:none;stroke:#1A476F;stroke-width:8.64\"/>\n",
       "\t<circle cx=\"2427.36\" cy=\"1392.35\" r=\"26.35\" style=\"fill:#1A476F\"/>\n",
       "\t<circle cx=\"2427.36\" cy=\"1392.35\" r=\"22.03\" style=\"fill:none;stroke:#1A476F;stroke-width:8.64\"/>\n",
       "\t<circle cx=\"2501.36\" cy=\"1374.78\" r=\"26.35\" style=\"fill:#1A476F\"/>\n",
       "\t<circle cx=\"2501.36\" cy=\"1374.78\" r=\"22.03\" style=\"fill:none;stroke:#1A476F;stroke-width:8.64\"/>\n",
       "\t<circle cx=\"934.68\" cy=\"1735.40\" r=\"26.35\" style=\"fill:#1A476F\"/>\n",
       "\t<circle cx=\"934.68\" cy=\"1735.40\" r=\"22.03\" style=\"fill:none;stroke:#1A476F;stroke-width:8.64\"/>\n",
       "\t<circle cx=\"1812.32\" cy=\"1533.43\" r=\"26.35\" style=\"fill:#1A476F\"/>\n",
       "\t<circle cx=\"1812.32\" cy=\"1533.43\" r=\"22.03\" style=\"fill:none;stroke:#1A476F;stroke-width:8.64\"/>\n",
       "\t<circle cx=\"2305.59\" cy=\"1418.47\" r=\"26.35\" style=\"fill:#1A476F\"/>\n",
       "\t<circle cx=\"2305.59\" cy=\"1418.47\" r=\"22.03\" style=\"fill:none;stroke:#1A476F;stroke-width:8.64\"/>\n",
       "\t<circle cx=\"1084.67\" cy=\"1769.68\" r=\"26.35\" style=\"fill:#1A476F\"/>\n",
       "\t<circle cx=\"1084.67\" cy=\"1769.68\" r=\"22.03\" style=\"fill:none;stroke:#1A476F;stroke-width:8.64\"/>\n",
       "\t<circle cx=\"1212.50\" cy=\"1803.84\" r=\"26.35\" style=\"fill:#1A476F\"/>\n",
       "\t<circle cx=\"1212.50\" cy=\"1803.84\" r=\"22.03\" style=\"fill:none;stroke:#1A476F;stroke-width:8.64\"/>\n",
       "\t<circle cx=\"1749.70\" cy=\"1617.96\" r=\"26.35\" style=\"fill:#1A476F\"/>\n",
       "\t<circle cx=\"1749.70\" cy=\"1617.96\" r=\"22.03\" style=\"fill:none;stroke:#1A476F;stroke-width:8.64\"/>\n",
       "\t<circle cx=\"1520.76\" cy=\"1714.98\" r=\"26.35\" style=\"fill:#1A476F\"/>\n",
       "\t<circle cx=\"1520.76\" cy=\"1714.98\" r=\"22.03\" style=\"fill:none;stroke:#1A476F;stroke-width:8.64\"/>\n",
       "\t<circle cx=\"1949.19\" cy=\"1599.89\" r=\"26.35\" style=\"fill:#1A476F\"/>\n",
       "\t<circle cx=\"1949.19\" cy=\"1599.89\" r=\"22.03\" style=\"fill:none;stroke:#1A476F;stroke-width:8.64\"/>\n",
       "\t<circle cx=\"1623.72\" cy=\"1762.75\" r=\"26.35\" style=\"fill:#1A476F\"/>\n",
       "\t<circle cx=\"1623.72\" cy=\"1762.75\" r=\"22.03\" style=\"fill:none;stroke:#1A476F;stroke-width:8.64\"/>\n",
       "\t<circle cx=\"519.01\" cy=\"2296.50\" r=\"26.35\" style=\"fill:#1A476F\"/>\n",
       "\t<circle cx=\"519.01\" cy=\"2296.50\" r=\"22.03\" style=\"fill:none;stroke:#1A476F;stroke-width:8.64\"/>\n",
       "\t<circle cx=\"2186.29\" cy=\"1510.29\" r=\"26.35\" style=\"fill:#1A476F\"/>\n",
       "\t<circle cx=\"2186.29\" cy=\"1510.29\" r=\"22.03\" style=\"fill:none;stroke:#1A476F;stroke-width:8.64\"/>\n",
       "\t<circle cx=\"1132.44\" cy=\"2120.65\" r=\"26.35\" style=\"fill:#1A476F\"/>\n",
       "\t<circle cx=\"1132.44\" cy=\"2120.65\" r=\"22.03\" style=\"fill:none;stroke:#1A476F;stroke-width:8.64\"/>\n",
       "\t<circle cx=\"2862.46\" cy=\"1089.41\" r=\"26.35\" style=\"fill:#1A476F\"/>\n",
       "\t<circle cx=\"2862.46\" cy=\"1089.41\" r=\"22.03\" style=\"fill:none;stroke:#1A476F;stroke-width:8.64\"/>\n",
       "\t<circle cx=\"2778.19\" cy=\"1143.86\" r=\"26.35\" style=\"fill:#1A476F\"/>\n",
       "\t<circle cx=\"2778.19\" cy=\"1143.86\" r=\"22.03\" style=\"fill:none;stroke:#1A476F;stroke-width:8.64\"/>\n",
       "\t<circle cx=\"3010.71\" cy=\"960.21\" r=\"26.35\" style=\"fill:#1A476F\"/>\n",
       "\t<circle cx=\"3010.71\" cy=\"960.21\" r=\"22.03\" style=\"fill:none;stroke:#1A476F;stroke-width:8.64\"/>\n",
       "\t<circle cx=\"2714.95\" cy=\"1177.02\" r=\"26.35\" style=\"fill:#1A476F\"/>\n",
       "\t<circle cx=\"2714.95\" cy=\"1177.02\" r=\"22.03\" style=\"fill:none;stroke:#1A476F;stroke-width:8.64\"/>\n",
       "\t<circle cx=\"3713.24\" cy=\"238.23\" r=\"26.35\" style=\"fill:#1A476F\"/>\n",
       "\t<circle cx=\"3713.24\" cy=\"238.23\" r=\"22.03\" style=\"fill:none;stroke:#1A476F;stroke-width:8.64\"/>\n",
       "\t<circle cx=\"1509.63\" cy=\"2347.61\" r=\"26.35\" style=\"fill:#1A476F\"/>\n",
       "\t<circle cx=\"1509.63\" cy=\"2347.61\" r=\"22.03\" style=\"fill:none;stroke:#1A476F;stroke-width:8.64\"/>\n",
       "\t<circle cx=\"2296.80\" cy=\"1775.25\" r=\"26.35\" style=\"fill:#1A476F\"/>\n",
       "\t<circle cx=\"2296.80\" cy=\"1775.25\" r=\"22.03\" style=\"fill:none;stroke:#1A476F;stroke-width:8.64\"/>\n",
       "\t<line x1=\"390.80\" y1=\"2489.19\" x2=\"390.80\" y2=\"100.86\" style=\"stroke:#000000;stroke-width:5.76\"/>\n",
       "\t<line x1=\"390.80\" y1=\"2425.82\" x2=\"350.83\" y2=\"2425.82\" style=\"stroke:#000000;stroke-width:5.76\"/>\n",
       "\t<text x=\"300.72\" y=\"2425.82\" style=\"font-family:'Helvetica';font-size:99.99px;fill:#000000\" transform=\"rotate(-90 300.72,2425.82)\" text-anchor=\"middle\">-1.00e+08</text>\n",
       "\t<line x1=\"390.80\" y1=\"1973.50\" x2=\"350.83\" y2=\"1973.50\" style=\"stroke:#000000;stroke-width:5.76\"/>\n",
       "\t<text x=\"300.72\" y=\"1973.50\" style=\"font-family:'Helvetica';font-size:99.99px;fill:#000000\" transform=\"rotate(-90 300.72,1973.50)\" text-anchor=\"middle\">-5.00e+07</text>\n",
       "\t<line x1=\"390.80\" y1=\"1521.18\" x2=\"350.83\" y2=\"1521.18\" style=\"stroke:#000000;stroke-width:5.76\"/>\n",
       "\t<text x=\"300.72\" y=\"1521.18\" style=\"font-family:'Helvetica';font-size:99.99px;fill:#000000\" transform=\"rotate(-90 300.72,1521.18)\" text-anchor=\"middle\">0</text>\n",
       "\t<line x1=\"390.80\" y1=\"1068.86\" x2=\"350.83\" y2=\"1068.86\" style=\"stroke:#000000;stroke-width:5.76\"/>\n",
       "\t<text x=\"300.72\" y=\"1068.86\" style=\"font-family:'Helvetica';font-size:99.99px;fill:#000000\" transform=\"rotate(-90 300.72,1068.86)\" text-anchor=\"middle\">5.00e+07</text>\n",
       "\t<line x1=\"390.80\" y1=\"616.54\" x2=\"350.83\" y2=\"616.54\" style=\"stroke:#000000;stroke-width:5.76\"/>\n",
       "\t<text x=\"300.72\" y=\"616.54\" style=\"font-family:'Helvetica';font-size:99.99px;fill:#000000\" transform=\"rotate(-90 300.72,616.54)\" text-anchor=\"middle\">1.00e+08</text>\n",
       "\t<line x1=\"390.80\" y1=\"164.22\" x2=\"350.83\" y2=\"164.22\" style=\"stroke:#000000;stroke-width:5.76\"/>\n",
       "\t<text x=\"300.72\" y=\"164.22\" style=\"font-family:'Helvetica';font-size:99.99px;fill:#000000\" transform=\"rotate(-90 300.72,164.22)\" text-anchor=\"middle\">1.50e+08</text>\n",
       "\t<text x=\"190.71\" y=\"1294.96\" style=\"font-family:'Helvetica';font-size:99.99px;fill:#000000\" transform=\"rotate(-90 190.71,1294.96)\" text-anchor=\"middle\">Residuals</text>\n",
       "\t<line x1=\"390.80\" y1=\"2489.19\" x2=\"3859.02\" y2=\"2489.19\" style=\"stroke:#000000;stroke-width:5.76\"/>\n",
       "\t<line x1=\"454.16\" y1=\"2489.19\" x2=\"454.16\" y2=\"2529.16\" style=\"stroke:#000000;stroke-width:5.76\"/>\n",
       "\t<text x=\"454.16\" y=\"2619.14\" style=\"font-family:'Helvetica';font-size:99.99px;fill:#000000\" text-anchor=\"middle\">100</text>\n",
       "\t<line x1=\"1122.41\" y1=\"2489.19\" x2=\"1122.41\" y2=\"2529.16\" style=\"stroke:#000000;stroke-width:5.76\"/>\n",
       "\t<text x=\"1122.41\" y=\"2619.14\" style=\"font-family:'Helvetica';font-size:99.99px;fill:#000000\" text-anchor=\"middle\">200</text>\n",
       "\t<line x1=\"1790.79\" y1=\"2489.19\" x2=\"1790.79\" y2=\"2529.16\" style=\"stroke:#000000;stroke-width:5.76\"/>\n",
       "\t<text x=\"1790.79\" y=\"2619.14\" style=\"font-family:'Helvetica';font-size:99.99px;fill:#000000\" text-anchor=\"middle\">300</text>\n",
       "\t<line x1=\"2459.04\" y1=\"2489.19\" x2=\"2459.04\" y2=\"2529.16\" style=\"stroke:#000000;stroke-width:5.76\"/>\n",
       "\t<text x=\"2459.04\" y=\"2619.14\" style=\"font-family:'Helvetica';font-size:99.99px;fill:#000000\" text-anchor=\"middle\">400</text>\n",
       "\t<line x1=\"3127.41\" y1=\"2489.19\" x2=\"3127.41\" y2=\"2529.16\" style=\"stroke:#000000;stroke-width:5.76\"/>\n",
       "\t<text x=\"3127.41\" y=\"2619.14\" style=\"font-family:'Helvetica';font-size:99.99px;fill:#000000\" text-anchor=\"middle\">500</text>\n",
       "\t<line x1=\"3795.66\" y1=\"2489.19\" x2=\"3795.66\" y2=\"2529.16\" style=\"stroke:#000000;stroke-width:5.76\"/>\n",
       "\t<text x=\"3795.66\" y=\"2619.14\" style=\"font-family:'Helvetica';font-size:99.99px;fill:#000000\" text-anchor=\"middle\">600</text>\n",
       "\t<text x=\"2124.91\" y=\"2729.16\" style=\"font-family:'Helvetica';font-size:99.99px;fill:#000000\" text-anchor=\"middle\">household food expenditure per week</text>\n",
       "</svg>\n"
      ],
      "text/html": [
       "                <iframe frameborder=\"0\" scrolling=\"no\" height=\"436\" width=\"600\"                srcdoc=\"<html><body>&lt;?xml version=&quot;1.0&quot; encoding=&quot;UTF-8&quot; standalone=&quot;no&quot;?&gt;\n",
       "&lt;!-- This is a Stata 16.0 generated SVG file (http://www.stata.com) --&gt;\n",
       "\n",
       "&lt;svg version=&quot;1.1&quot; width=&quot;600px&quot; height=&quot;436px&quot; viewBox=&quot;0 0 3960 2880&quot; xmlns=&quot;http://www.w3.org/2000/svg&quot; xmlns:xlink=&quot;http://www.w3.org/1999/xlink&quot;&gt;\n",
       "\t&lt;desc&gt;Stata Graph - Graph&lt;/desc&gt;\n",
       "\t&lt;rect x=&quot;0&quot; y=&quot;0&quot; width=&quot;3960&quot; height=&quot;2880&quot; style=&quot;fill:#EAF2F3;stroke:none&quot;/&gt;\n",
       "\t&lt;rect x=&quot;0.00&quot; y=&quot;0.00&quot; width=&quot;3959.88&quot; height=&quot;2880.00&quot; style=&quot;fill:#EAF2F3&quot;/&gt;\n",
       "\t&lt;rect x=&quot;2.88&quot; y=&quot;2.88&quot; width=&quot;3954.12&quot; height=&quot;2874.24&quot; style=&quot;fill:none;stroke:#EAF2F3;stroke-width:5.76&quot;/&gt;\n",
       "\t&lt;rect x=&quot;390.80&quot; y=&quot;100.86&quot; width=&quot;3468.22&quot; height=&quot;2388.33&quot; style=&quot;fill:#FFFFFF&quot;/&gt;\n",
       "\t&lt;rect x=&quot;393.68&quot; y=&quot;103.74&quot; width=&quot;3462.46&quot; height=&quot;2382.57&quot; style=&quot;fill:none;stroke:#FFFFFF;stroke-width:5.76&quot;/&gt;\n",
       "\t&lt;line x1=&quot;390.80&quot; y1=&quot;2425.82&quot; x2=&quot;3859.02&quot; y2=&quot;2425.82&quot; style=&quot;stroke:#EAF2F3;stroke-width:8.64&quot;/&gt;\n",
       "\t&lt;line x1=&quot;390.80&quot; y1=&quot;1973.50&quot; x2=&quot;3859.02&quot; y2=&quot;1973.50&quot; style=&quot;stroke:#EAF2F3;stroke-width:8.64&quot;/&gt;\n",
       "\t&lt;line x1=&quot;390.80&quot; y1=&quot;1521.18&quot; x2=&quot;3859.02&quot; y2=&quot;1521.18&quot; style=&quot;stroke:#EAF2F3;stroke-width:8.64&quot;/&gt;\n",
       "\t&lt;line x1=&quot;390.80&quot; y1=&quot;1068.86&quot; x2=&quot;3859.02&quot; y2=&quot;1068.86&quot; style=&quot;stroke:#EAF2F3;stroke-width:8.64&quot;/&gt;\n",
       "\t&lt;line x1=&quot;390.80&quot; y1=&quot;616.54&quot; x2=&quot;3859.02&quot; y2=&quot;616.54&quot; style=&quot;stroke:#EAF2F3;stroke-width:8.64&quot;/&gt;\n",
       "\t&lt;line x1=&quot;390.80&quot; y1=&quot;164.22&quot; x2=&quot;3859.02&quot; y2=&quot;164.22&quot; style=&quot;stroke:#EAF2F3;stroke-width:8.64&quot;/&gt;\n",
       "\t&lt;circle cx=&quot;555.76&quot; cy=&quot;1442.85&quot; r=&quot;26.35&quot; style=&quot;fill:#1A476F&quot;/&gt;\n",
       "\t&lt;circle cx=&quot;555.76&quot; cy=&quot;1442.85&quot; r=&quot;22.03&quot; style=&quot;fill:none;stroke:#1A476F;stroke-width:8.64&quot;/&gt;\n",
       "\t&lt;circle cx=&quot;694.49&quot; cy=&quot;1443.09&quot; r=&quot;26.35&quot; style=&quot;fill:#1A476F&quot;/&gt;\n",
       "\t&lt;circle cx=&quot;694.49&quot; cy=&quot;1443.09&quot; r=&quot;22.03&quot; style=&quot;fill:none;stroke:#1A476F;stroke-width:8.64&quot;/&gt;\n",
       "\t&lt;circle cx=&quot;583.36&quot; cy=&quot;1443.34&quot; r=&quot;26.35&quot; style=&quot;fill:#1A476F&quot;/&gt;\n",
       "\t&lt;circle cx=&quot;583.36&quot; cy=&quot;1443.34&quot; r=&quot;22.03&quot; style=&quot;fill:none;stroke:#1A476F;stroke-width:8.64&quot;/&gt;\n",
       "\t&lt;circle cx=&quot;554.03&quot; cy=&quot;1444.83&quot; r=&quot;26.35&quot; style=&quot;fill:#1A476F&quot;/&gt;\n",
       "\t&lt;circle cx=&quot;554.03&quot; cy=&quot;1444.83&quot; r=&quot;22.03&quot; style=&quot;fill:none;stroke:#1A476F;stroke-width:8.64&quot;/&gt;\n",
       "\t&lt;circle cx=&quot;1035.79&quot; cy=&quot;1474.90&quot; r=&quot;26.35&quot; style=&quot;fill:#1A476F&quot;/&gt;\n",
       "\t&lt;circle cx=&quot;1035.79&quot; cy=&quot;1474.90&quot; r=&quot;22.03&quot; style=&quot;fill:none;stroke:#1A476F;stroke-width:8.64&quot;/&gt;\n",
       "\t&lt;circle cx=&quot;1415.95&quot; cy=&quot;1466.36&quot; r=&quot;26.35&quot; style=&quot;fill:#1A476F&quot;/&gt;\n",
       "\t&lt;circle cx=&quot;1415.95&quot; cy=&quot;1466.36&quot; r=&quot;22.03&quot; style=&quot;fill:none;stroke:#1A476F;stroke-width:8.64&quot;/&gt;\n",
       "\t&lt;circle cx=&quot;1572.99&quot; cy=&quot;1469.58&quot; r=&quot;26.35&quot; style=&quot;fill:#1A476F&quot;/&gt;\n",
       "\t&lt;circle cx=&quot;1572.99&quot; cy=&quot;1469.58&quot; r=&quot;22.03&quot; style=&quot;fill:none;stroke:#1A476F;stroke-width:8.64&quot;/&gt;\n",
       "\t&lt;circle cx=&quot;1381.05&quot; cy=&quot;1487.15&quot; r=&quot;26.35&quot; style=&quot;fill:#1A476F&quot;/&gt;\n",
       "\t&lt;circle cx=&quot;1381.05&quot; cy=&quot;1487.15&quot; r=&quot;22.03&quot; style=&quot;fill:none;stroke:#1A476F;stroke-width:8.64&quot;/&gt;\n",
       "\t&lt;circle cx=&quot;1763.56&quot; cy=&quot;1466.73&quot; r=&quot;26.35&quot; style=&quot;fill:#1A476F&quot;/&gt;\n",
       "\t&lt;circle cx=&quot;1763.56&quot; cy=&quot;1466.73&quot; r=&quot;22.03&quot; style=&quot;fill:none;stroke:#1A476F;stroke-width:8.64&quot;/&gt;\n",
       "\t&lt;circle cx=&quot;1909.59&quot; cy=&quot;1462.40&quot; r=&quot;26.35&quot; style=&quot;fill:#1A476F&quot;/&gt;\n",
       "\t&lt;circle cx=&quot;1909.59&quot; cy=&quot;1462.40&quot; r=&quot;22.03&quot; style=&quot;fill:none;stroke:#1A476F;stroke-width:8.64&quot;/&gt;\n",
       "\t&lt;circle cx=&quot;1229.33&quot; cy=&quot;1553.48&quot; r=&quot;26.35&quot; style=&quot;fill:#1A476F&quot;/&gt;\n",
       "\t&lt;circle cx=&quot;1229.33&quot; cy=&quot;1553.48&quot; r=&quot;22.03&quot; style=&quot;fill:none;stroke:#1A476F;stroke-width:8.64&quot;/&gt;\n",
       "\t&lt;circle cx=&quot;1392.06&quot; cy=&quot;1543.95&quot; r=&quot;26.35&quot; style=&quot;fill:#1A476F&quot;/&gt;\n",
       "\t&lt;circle cx=&quot;1392.06&quot; cy=&quot;1543.95&quot; r=&quot;22.03&quot; style=&quot;fill:none;stroke:#1A476F;stroke-width:8.64&quot;/&gt;\n",
       "\t&lt;circle cx=&quot;2369.32&quot; cy=&quot;1411.41&quot; r=&quot;26.35&quot; style=&quot;fill:#1A476F&quot;/&gt;\n",
       "\t&lt;circle cx=&quot;2369.32&quot; cy=&quot;1411.41&quot; r=&quot;22.03&quot; style=&quot;fill:none;stroke:#1A476F;stroke-width:8.64&quot;/&gt;\n",
       "\t&lt;circle cx=&quot;1533.63&quot; cy=&quot;1540.12&quot; r=&quot;26.35&quot; style=&quot;fill:#1A476F&quot;/&gt;\n",
       "\t&lt;circle cx=&quot;1533.63&quot; cy=&quot;1540.12&quot; r=&quot;22.03&quot; style=&quot;fill:none;stroke:#1A476F;stroke-width:8.64&quot;/&gt;\n",
       "\t&lt;circle cx=&quot;1452.08&quot; cy=&quot;1556.20&quot; r=&quot;26.35&quot; style=&quot;fill:#1A476F&quot;/&gt;\n",
       "\t&lt;circle cx=&quot;1452.08&quot; cy=&quot;1556.20&quot; r=&quot;22.03&quot; style=&quot;fill:none;stroke:#1A476F;stroke-width:8.64&quot;/&gt;\n",
       "\t&lt;circle cx=&quot;1856.62&quot; cy=&quot;1494.95&quot; r=&quot;26.35&quot; style=&quot;fill:#1A476F&quot;/&gt;\n",
       "\t&lt;circle cx=&quot;1856.62&quot; cy=&quot;1494.95&quot; r=&quot;22.03&quot; style=&quot;fill:none;stroke:#1A476F;stroke-width:8.64&quot;/&gt;\n",
       "\t&lt;circle cx=&quot;2097.44&quot; cy=&quot;1454.36&quot; r=&quot;26.35&quot; style=&quot;fill:#1A476F&quot;/&gt;\n",
       "\t&lt;circle cx=&quot;2097.44&quot; cy=&quot;1454.36&quot; r=&quot;22.03&quot; style=&quot;fill:none;stroke:#1A476F;stroke-width:8.64&quot;/&gt;\n",
       "\t&lt;circle cx=&quot;892.11&quot; cy=&quot;1670.31&quot; r=&quot;26.35&quot; style=&quot;fill:#1A476F&quot;/&gt;\n",
       "\t&lt;circle cx=&quot;892.11&quot; cy=&quot;1670.31&quot; r=&quot;22.03&quot; style=&quot;fill:none;stroke:#1A476F;stroke-width:8.64&quot;/&gt;\n",
       "\t&lt;circle cx=&quot;1102.24&quot; cy=&quot;1640.98&quot; r=&quot;26.35&quot; style=&quot;fill:#1A476F&quot;/&gt;\n",
       "\t&lt;circle cx=&quot;1102.24&quot; cy=&quot;1640.98&quot; r=&quot;22.03&quot; style=&quot;fill:none;stroke:#1A476F;stroke-width:8.64&quot;/&gt;\n",
       "\t&lt;circle cx=&quot;2427.36&quot; cy=&quot;1392.35&quot; r=&quot;26.35&quot; style=&quot;fill:#1A476F&quot;/&gt;\n",
       "\t&lt;circle cx=&quot;2427.36&quot; cy=&quot;1392.35&quot; r=&quot;22.03&quot; style=&quot;fill:none;stroke:#1A476F;stroke-width:8.64&quot;/&gt;\n",
       "\t&lt;circle cx=&quot;2501.36&quot; cy=&quot;1374.78&quot; r=&quot;26.35&quot; style=&quot;fill:#1A476F&quot;/&gt;\n",
       "\t&lt;circle cx=&quot;2501.36&quot; cy=&quot;1374.78&quot; r=&quot;22.03&quot; style=&quot;fill:none;stroke:#1A476F;stroke-width:8.64&quot;/&gt;\n",
       "\t&lt;circle cx=&quot;934.68&quot; cy=&quot;1735.40&quot; r=&quot;26.35&quot; style=&quot;fill:#1A476F&quot;/&gt;\n",
       "\t&lt;circle cx=&quot;934.68&quot; cy=&quot;1735.40&quot; r=&quot;22.03&quot; style=&quot;fill:none;stroke:#1A476F;stroke-width:8.64&quot;/&gt;\n",
       "\t&lt;circle cx=&quot;1812.32&quot; cy=&quot;1533.43&quot; r=&quot;26.35&quot; style=&quot;fill:#1A476F&quot;/&gt;\n",
       "\t&lt;circle cx=&quot;1812.32&quot; cy=&quot;1533.43&quot; r=&quot;22.03&quot; style=&quot;fill:none;stroke:#1A476F;stroke-width:8.64&quot;/&gt;\n",
       "\t&lt;circle cx=&quot;2305.59&quot; cy=&quot;1418.47&quot; r=&quot;26.35&quot; style=&quot;fill:#1A476F&quot;/&gt;\n",
       "\t&lt;circle cx=&quot;2305.59&quot; cy=&quot;1418.47&quot; r=&quot;22.03&quot; style=&quot;fill:none;stroke:#1A476F;stroke-width:8.64&quot;/&gt;\n",
       "\t&lt;circle cx=&quot;1084.67&quot; cy=&quot;1769.68&quot; r=&quot;26.35&quot; style=&quot;fill:#1A476F&quot;/&gt;\n",
       "\t&lt;circle cx=&quot;1084.67&quot; cy=&quot;1769.68&quot; r=&quot;22.03&quot; style=&quot;fill:none;stroke:#1A476F;stroke-width:8.64&quot;/&gt;\n",
       "\t&lt;circle cx=&quot;1212.50&quot; cy=&quot;1803.84&quot; r=&quot;26.35&quot; style=&quot;fill:#1A476F&quot;/&gt;\n",
       "\t&lt;circle cx=&quot;1212.50&quot; cy=&quot;1803.84&quot; r=&quot;22.03&quot; style=&quot;fill:none;stroke:#1A476F;stroke-width:8.64&quot;/&gt;\n",
       "\t&lt;circle cx=&quot;1749.70&quot; cy=&quot;1617.96&quot; r=&quot;26.35&quot; style=&quot;fill:#1A476F&quot;/&gt;\n",
       "\t&lt;circle cx=&quot;1749.70&quot; cy=&quot;1617.96&quot; r=&quot;22.03&quot; style=&quot;fill:none;stroke:#1A476F;stroke-width:8.64&quot;/&gt;\n",
       "\t&lt;circle cx=&quot;1520.76&quot; cy=&quot;1714.98&quot; r=&quot;26.35&quot; style=&quot;fill:#1A476F&quot;/&gt;\n",
       "\t&lt;circle cx=&quot;1520.76&quot; cy=&quot;1714.98&quot; r=&quot;22.03&quot; style=&quot;fill:none;stroke:#1A476F;stroke-width:8.64&quot;/&gt;\n",
       "\t&lt;circle cx=&quot;1949.19&quot; cy=&quot;1599.89&quot; r=&quot;26.35&quot; style=&quot;fill:#1A476F&quot;/&gt;\n",
       "\t&lt;circle cx=&quot;1949.19&quot; cy=&quot;1599.89&quot; r=&quot;22.03&quot; style=&quot;fill:none;stroke:#1A476F;stroke-width:8.64&quot;/&gt;\n",
       "\t&lt;circle cx=&quot;1623.72&quot; cy=&quot;1762.75&quot; r=&quot;26.35&quot; style=&quot;fill:#1A476F&quot;/&gt;\n",
       "\t&lt;circle cx=&quot;1623.72&quot; cy=&quot;1762.75&quot; r=&quot;22.03&quot; style=&quot;fill:none;stroke:#1A476F;stroke-width:8.64&quot;/&gt;\n",
       "\t&lt;circle cx=&quot;519.01&quot; cy=&quot;2296.50&quot; r=&quot;26.35&quot; style=&quot;fill:#1A476F&quot;/&gt;\n",
       "\t&lt;circle cx=&quot;519.01&quot; cy=&quot;2296.50&quot; r=&quot;22.03&quot; style=&quot;fill:none;stroke:#1A476F;stroke-width:8.64&quot;/&gt;\n",
       "\t&lt;circle cx=&quot;2186.29&quot; cy=&quot;1510.29&quot; r=&quot;26.35&quot; style=&quot;fill:#1A476F&quot;/&gt;\n",
       "\t&lt;circle cx=&quot;2186.29&quot; cy=&quot;1510.29&quot; r=&quot;22.03&quot; style=&quot;fill:none;stroke:#1A476F;stroke-width:8.64&quot;/&gt;\n",
       "\t&lt;circle cx=&quot;1132.44&quot; cy=&quot;2120.65&quot; r=&quot;26.35&quot; style=&quot;fill:#1A476F&quot;/&gt;\n",
       "\t&lt;circle cx=&quot;1132.44&quot; cy=&quot;2120.65&quot; r=&quot;22.03&quot; style=&quot;fill:none;stroke:#1A476F;stroke-width:8.64&quot;/&gt;\n",
       "\t&lt;circle cx=&quot;2862.46&quot; cy=&quot;1089.41&quot; r=&quot;26.35&quot; style=&quot;fill:#1A476F&quot;/&gt;\n",
       "\t&lt;circle cx=&quot;2862.46&quot; cy=&quot;1089.41&quot; r=&quot;22.03&quot; style=&quot;fill:none;stroke:#1A476F;stroke-width:8.64&quot;/&gt;\n",
       "\t&lt;circle cx=&quot;2778.19&quot; cy=&quot;1143.86&quot; r=&quot;26.35&quot; style=&quot;fill:#1A476F&quot;/&gt;\n",
       "\t&lt;circle cx=&quot;2778.19&quot; cy=&quot;1143.86&quot; r=&quot;22.03&quot; style=&quot;fill:none;stroke:#1A476F;stroke-width:8.64&quot;/&gt;\n",
       "\t&lt;circle cx=&quot;3010.71&quot; cy=&quot;960.21&quot; r=&quot;26.35&quot; style=&quot;fill:#1A476F&quot;/&gt;\n",
       "\t&lt;circle cx=&quot;3010.71&quot; cy=&quot;960.21&quot; r=&quot;22.03&quot; style=&quot;fill:none;stroke:#1A476F;stroke-width:8.64&quot;/&gt;\n",
       "\t&lt;circle cx=&quot;2714.95&quot; cy=&quot;1177.02&quot; r=&quot;26.35&quot; style=&quot;fill:#1A476F&quot;/&gt;\n",
       "\t&lt;circle cx=&quot;2714.95&quot; cy=&quot;1177.02&quot; r=&quot;22.03&quot; style=&quot;fill:none;stroke:#1A476F;stroke-width:8.64&quot;/&gt;\n",
       "\t&lt;circle cx=&quot;3713.24&quot; cy=&quot;238.23&quot; r=&quot;26.35&quot; style=&quot;fill:#1A476F&quot;/&gt;\n",
       "\t&lt;circle cx=&quot;3713.24&quot; cy=&quot;238.23&quot; r=&quot;22.03&quot; style=&quot;fill:none;stroke:#1A476F;stroke-width:8.64&quot;/&gt;\n",
       "\t&lt;circle cx=&quot;1509.63&quot; cy=&quot;2347.61&quot; r=&quot;26.35&quot; style=&quot;fill:#1A476F&quot;/&gt;\n",
       "\t&lt;circle cx=&quot;1509.63&quot; cy=&quot;2347.61&quot; r=&quot;22.03&quot; style=&quot;fill:none;stroke:#1A476F;stroke-width:8.64&quot;/&gt;\n",
       "\t&lt;circle cx=&quot;2296.80&quot; cy=&quot;1775.25&quot; r=&quot;26.35&quot; style=&quot;fill:#1A476F&quot;/&gt;\n",
       "\t&lt;circle cx=&quot;2296.80&quot; cy=&quot;1775.25&quot; r=&quot;22.03&quot; style=&quot;fill:none;stroke:#1A476F;stroke-width:8.64&quot;/&gt;\n",
       "\t&lt;line x1=&quot;390.80&quot; y1=&quot;2489.19&quot; x2=&quot;390.80&quot; y2=&quot;100.86&quot; style=&quot;stroke:#000000;stroke-width:5.76&quot;/&gt;\n",
       "\t&lt;line x1=&quot;390.80&quot; y1=&quot;2425.82&quot; x2=&quot;350.83&quot; y2=&quot;2425.82&quot; style=&quot;stroke:#000000;stroke-width:5.76&quot;/&gt;\n",
       "\t&lt;text x=&quot;300.72&quot; y=&quot;2425.82&quot; style=&quot;font-family:&#x27;Helvetica&#x27;;font-size:99.99px;fill:#000000&quot; transform=&quot;rotate(-90 300.72,2425.82)&quot; text-anchor=&quot;middle&quot;&gt;-1.00e+08&lt;/text&gt;\n",
       "\t&lt;line x1=&quot;390.80&quot; y1=&quot;1973.50&quot; x2=&quot;350.83&quot; y2=&quot;1973.50&quot; style=&quot;stroke:#000000;stroke-width:5.76&quot;/&gt;\n",
       "\t&lt;text x=&quot;300.72&quot; y=&quot;1973.50&quot; style=&quot;font-family:&#x27;Helvetica&#x27;;font-size:99.99px;fill:#000000&quot; transform=&quot;rotate(-90 300.72,1973.50)&quot; text-anchor=&quot;middle&quot;&gt;-5.00e+07&lt;/text&gt;\n",
       "\t&lt;line x1=&quot;390.80&quot; y1=&quot;1521.18&quot; x2=&quot;350.83&quot; y2=&quot;1521.18&quot; style=&quot;stroke:#000000;stroke-width:5.76&quot;/&gt;\n",
       "\t&lt;text x=&quot;300.72&quot; y=&quot;1521.18&quot; style=&quot;font-family:&#x27;Helvetica&#x27;;font-size:99.99px;fill:#000000&quot; transform=&quot;rotate(-90 300.72,1521.18)&quot; text-anchor=&quot;middle&quot;&gt;0&lt;/text&gt;\n",
       "\t&lt;line x1=&quot;390.80&quot; y1=&quot;1068.86&quot; x2=&quot;350.83&quot; y2=&quot;1068.86&quot; style=&quot;stroke:#000000;stroke-width:5.76&quot;/&gt;\n",
       "\t&lt;text x=&quot;300.72&quot; y=&quot;1068.86&quot; style=&quot;font-family:&#x27;Helvetica&#x27;;font-size:99.99px;fill:#000000&quot; transform=&quot;rotate(-90 300.72,1068.86)&quot; text-anchor=&quot;middle&quot;&gt;5.00e+07&lt;/text&gt;\n",
       "\t&lt;line x1=&quot;390.80&quot; y1=&quot;616.54&quot; x2=&quot;350.83&quot; y2=&quot;616.54&quot; style=&quot;stroke:#000000;stroke-width:5.76&quot;/&gt;\n",
       "\t&lt;text x=&quot;300.72&quot; y=&quot;616.54&quot; style=&quot;font-family:&#x27;Helvetica&#x27;;font-size:99.99px;fill:#000000&quot; transform=&quot;rotate(-90 300.72,616.54)&quot; text-anchor=&quot;middle&quot;&gt;1.00e+08&lt;/text&gt;\n",
       "\t&lt;line x1=&quot;390.80&quot; y1=&quot;164.22&quot; x2=&quot;350.83&quot; y2=&quot;164.22&quot; style=&quot;stroke:#000000;stroke-width:5.76&quot;/&gt;\n",
       "\t&lt;text x=&quot;300.72&quot; y=&quot;164.22&quot; style=&quot;font-family:&#x27;Helvetica&#x27;;font-size:99.99px;fill:#000000&quot; transform=&quot;rotate(-90 300.72,164.22)&quot; text-anchor=&quot;middle&quot;&gt;1.50e+08&lt;/text&gt;\n",
       "\t&lt;text x=&quot;190.71&quot; y=&quot;1294.96&quot; style=&quot;font-family:&#x27;Helvetica&#x27;;font-size:99.99px;fill:#000000&quot; transform=&quot;rotate(-90 190.71,1294.96)&quot; text-anchor=&quot;middle&quot;&gt;Residuals&lt;/text&gt;\n",
       "\t&lt;line x1=&quot;390.80&quot; y1=&quot;2489.19&quot; x2=&quot;3859.02&quot; y2=&quot;2489.19&quot; style=&quot;stroke:#000000;stroke-width:5.76&quot;/&gt;\n",
       "\t&lt;line x1=&quot;454.16&quot; y1=&quot;2489.19&quot; x2=&quot;454.16&quot; y2=&quot;2529.16&quot; style=&quot;stroke:#000000;stroke-width:5.76&quot;/&gt;\n",
       "\t&lt;text x=&quot;454.16&quot; y=&quot;2619.14&quot; style=&quot;font-family:&#x27;Helvetica&#x27;;font-size:99.99px;fill:#000000&quot; text-anchor=&quot;middle&quot;&gt;100&lt;/text&gt;\n",
       "\t&lt;line x1=&quot;1122.41&quot; y1=&quot;2489.19&quot; x2=&quot;1122.41&quot; y2=&quot;2529.16&quot; style=&quot;stroke:#000000;stroke-width:5.76&quot;/&gt;\n",
       "\t&lt;text x=&quot;1122.41&quot; y=&quot;2619.14&quot; style=&quot;font-family:&#x27;Helvetica&#x27;;font-size:99.99px;fill:#000000&quot; text-anchor=&quot;middle&quot;&gt;200&lt;/text&gt;\n",
       "\t&lt;line x1=&quot;1790.79&quot; y1=&quot;2489.19&quot; x2=&quot;1790.79&quot; y2=&quot;2529.16&quot; style=&quot;stroke:#000000;stroke-width:5.76&quot;/&gt;\n",
       "\t&lt;text x=&quot;1790.79&quot; y=&quot;2619.14&quot; style=&quot;font-family:&#x27;Helvetica&#x27;;font-size:99.99px;fill:#000000&quot; text-anchor=&quot;middle&quot;&gt;300&lt;/text&gt;\n",
       "\t&lt;line x1=&quot;2459.04&quot; y1=&quot;2489.19&quot; x2=&quot;2459.04&quot; y2=&quot;2529.16&quot; style=&quot;stroke:#000000;stroke-width:5.76&quot;/&gt;\n",
       "\t&lt;text x=&quot;2459.04&quot; y=&quot;2619.14&quot; style=&quot;font-family:&#x27;Helvetica&#x27;;font-size:99.99px;fill:#000000&quot; text-anchor=&quot;middle&quot;&gt;400&lt;/text&gt;\n",
       "\t&lt;line x1=&quot;3127.41&quot; y1=&quot;2489.19&quot; x2=&quot;3127.41&quot; y2=&quot;2529.16&quot; style=&quot;stroke:#000000;stroke-width:5.76&quot;/&gt;\n",
       "\t&lt;text x=&quot;3127.41&quot; y=&quot;2619.14&quot; style=&quot;font-family:&#x27;Helvetica&#x27;;font-size:99.99px;fill:#000000&quot; text-anchor=&quot;middle&quot;&gt;500&lt;/text&gt;\n",
       "\t&lt;line x1=&quot;3795.66&quot; y1=&quot;2489.19&quot; x2=&quot;3795.66&quot; y2=&quot;2529.16&quot; style=&quot;stroke:#000000;stroke-width:5.76&quot;/&gt;\n",
       "\t&lt;text x=&quot;3795.66&quot; y=&quot;2619.14&quot; style=&quot;font-family:&#x27;Helvetica&#x27;;font-size:99.99px;fill:#000000&quot; text-anchor=&quot;middle&quot;&gt;600&lt;/text&gt;\n",
       "\t&lt;text x=&quot;2124.91&quot; y=&quot;2729.16&quot; style=&quot;font-family:&#x27;Helvetica&#x27;;font-size:99.99px;fill:#000000&quot; text-anchor=&quot;middle&quot;&gt;household food expenditure per week&lt;/text&gt;\n",
       "&lt;/svg&gt;\n",
       "</body></html>\"></iframe>\n"
      ],
      "text/plain": [
       "This front-end cannot display the desired image type."
      ]
     },
     "metadata": {
      "image/svg+xml": {
       "height": 436,
       "width": 600
      },
      "text/html": {
       "height": 436,
       "width": 600
      }
     },
     "output_type": "display_data"
    }
   ],
   "source": [
    "scatter residuals food_exp"
   ]
  },
  {
   "cell_type": "code",
   "execution_count": 2,
   "metadata": {},
   "outputs": [
    {
     "name": "stdout",
     "output_type": "stream",
     "text": [
      "\n",
      "\n",
      "\n",
      "Fitting full model:\n",
      "\n",
      "Iteration 0:   log likelihood =   -227.889  \n",
      "Iteration 1:   log likelihood = -226.61039  \n",
      "Iteration 2:   log likelihood = -225.72188  \n",
      "Iteration 3:   log likelihood = -225.71519  \n",
      "Iteration 4:   log likelihood = -225.71518  \n",
      "\n",
      "Heteroskedastic linear regression               Number of obs     =         40\n",
      "ML estimation\n",
      "                                                Wald chi2(1)      =     135.11\n",
      "Log likelihood = -225.7152                      Prob > chi2       =     0.0000\n",
      "\n",
      "------------------------------------------------------------------------------\n",
      "    food_exp |      Coef.   Std. Err.      z    P>|z|     [95% Conf. Interval]\n",
      "-------------+----------------------------------------------------------------\n",
      "food_exp     |\n",
      "      income |   10.63444   .9148875    11.62   0.000     8.841295    12.42759\n",
      "       _cons |   76.07294   7.369143    10.32   0.000     61.62969     90.5162\n",
      "-------------+----------------------------------------------------------------\n",
      "lnsigma2     |\n",
      "   logincome |   2.769762   .4481606     6.18   0.000     1.891383    3.648141\n",
      "       _cons |    .468405   1.310337     0.36   0.721    -2.099809    3.036619\n",
      "------------------------------------------------------------------------------\n",
      "LR test of lnsigma2=0: chi2(1) = 19.59                    Prob > chi2 = 0.0000\n"
     ]
    }
   ],
   "source": [
    "gen double logincome = ln(income)\n",
    "hetregress food_exp income, het(logincome)"
   ]
  },
  {
   "cell_type": "code",
   "execution_count": 3,
   "metadata": {},
   "outputs": [
    {
     "name": "stdout",
     "output_type": "stream",
     "text": [
      "\n",
      "\n",
      "      sigma2:  exp(_b[lnsigma2:_cons])\n",
      "\n",
      "------------------------------------------------------------------------------\n",
      "    food_exp |      Coef.   Std. Err.      z    P>|z|     [95% Conf. Interval]\n",
      "-------------+----------------------------------------------------------------\n",
      "      sigma2 |   1.597444   2.093191     0.76   0.445    -2.505134    5.700022\n",
      "------------------------------------------------------------------------------\n",
      "\n",
      "\n",
      "      sigma2:  exp(2)\n",
      "\n",
      "------------------------------------------------------------------------------\n",
      "    food_exp |      Coef.   Std. Err.      z    P>|z|     [95% Conf. Interval]\n",
      "-------------+----------------------------------------------------------------\n",
      "      sigma2 |   7.389056          .        .       .            .           .\n",
      "------------------------------------------------------------------------------\n"
     ]
    }
   ],
   "source": [
    "nlcom (sigma2: exp(_b[lnsigma2:_cons]))\n",
    "\n",
    "nlcom (sigma2: exp(2))\n"
   ]
  },
  {
   "cell_type": "markdown",
   "metadata": {},
   "source": [
    "The file br2.dat contains data on 1080 houses sold in Baton Rouge, Louisiana during mid-2005. We will be concerned with the selling price (PRICE), the size of the house in square feet (SQFT ), and the age of the house in years (AGE). Define a new variable that measures house size in terms of hundreds of square feet, SQFT100 1⁄4 SQFT=100.\n",
    "\n",
    "(a) Find least squares estimates of the following equation and save the residuals:\n",
    "\n",
    "$$ \\ln(PRICE) = \\beta_1 + \\beta_2 SQFT100 + \\beta_3 AGE + \\beta_4 AGE^2 + e$$\n"
   ]
  },
  {
   "cell_type": "code",
   "execution_count": 8,
   "metadata": {},
   "outputs": [
    {
     "name": "stdout",
     "output_type": "stream",
     "text": [
      "\n",
      "\n",
      "\n",
      "\n",
      "\n",
      "\n",
      "\n",
      "      Source |       SS           df       MS      Number of obs   =     1,080\n",
      "-------------+----------------------------------   F(3, 1076)      =    865.49\n",
      "       Model |  209.891557         3  69.9638522   Prob > F        =    0.0000\n",
      "    Residual |  86.9808097     1,076  .080837184   R-squared       =    0.7070\n",
      "-------------+----------------------------------   Adj R-squared   =    0.7062\n",
      "       Total |  296.872366     1,079  .275136577   Root MSE        =    .28432\n",
      "\n",
      "------------------------------------------------------------------------------\n",
      "   log_price |      Coef.   Std. Err.      t    P>|t|     [95% Conf. Interval]\n",
      "-------------+----------------------------------------------------------------\n",
      "     sqft100 |   .0387624   .0008693    44.59   0.000     .0370566    .0404682\n",
      "         age |  -.0175549   .0013565   -12.94   0.000    -.0202165   -.0148932\n",
      "        age2 |   .0001734   .0000227     7.65   0.000     .0001289    .0002178\n",
      "       _cons |   11.11959   .0274129   405.63   0.000      11.0658    11.17338\n",
      "------------------------------------------------------------------------------\n",
      "\n"
     ]
    }
   ],
   "source": [
    "clear all\n",
    "\n",
    "use https://www.stata.com/data/s4poe4/br2.dta\n",
    "\n",
    "gen log_price = log(price)\n",
    "gen age2 = age^2\n",
    "gen sqft100 = sqft/100\n",
    "\n",
    "reg log_price sqft100 age age2\n",
    "\n",
    "predict residuals, resid"
   ]
  },
  {
   "cell_type": "markdown",
   "metadata": {},
   "source": [
    "(b) Plot the residuals against (i) $AGE$ and (ii) $SQFT100$. Is there any evidence of heteroskedasticity?"
   ]
  },
  {
   "cell_type": "code",
   "execution_count": null,
   "metadata": {},
   "outputs": [],
   "source": [
    "scatter residuals age\n",
    "scatter residuals sqft100"
   ]
  },
  {
   "cell_type": "markdown",
   "metadata": {},
   "source": [
    "$AGE$ doesn't seem to be a problem. There is some pattern of heteroskedasticity in $SQFT100$\n",
    "\n",
    "Test for heteroskedasticity using a Breusch-Pagan test and the variables $AGE$ and $SQFT100$. Is there evidence of heteroskedasticity at a $1\\%$ level of significance?"
   ]
  },
  {
   "cell_type": "code",
   "execution_count": null,
   "metadata": {},
   "outputs": [],
   "source": [
    "qui reg log_price sqft100 age \n",
    "hettest"
   ]
  },
  {
   "cell_type": "markdown",
   "metadata": {},
   "source": [
    "Yes, there is evidence of heteroskedasticity\n",
    "\n",
    "(d) Estimate the variance funtion $\\sigma^2_i = \\exp(\\alpha_1 + \\alpha_2AGE_i + \\alpha_3 SQFT100_i)$ and report the results. Use the robust standard error option and comment on the effects of $AGE$ and $SQFT100$ on the variance. \n"
   ]
  },
  {
   "cell_type": "code",
   "execution_count": null,
   "metadata": {},
   "outputs": [],
   "source": [
    "hetregress log_price sqft100 age age2, het(age sqft100) vce(robust)"
   ]
  },
  {
   "cell_type": "markdown",
   "metadata": {},
   "source": [
    "(e) Use the estimated variance function in (d) to find variance estimates $\\hat{\\sigma}^2_i, i = 1, 2, \\cdots, 1080,$ and use those estimates to find generalized least squares estimates of the equation in (a)."
   ]
  },
  {
   "cell_type": "code",
   "execution_count": null,
   "metadata": {},
   "outputs": [],
   "source": []
  },
  {
   "cell_type": "markdown",
   "metadata": {},
   "source": [
    "(f) Use a table format to report estimates and standard errors for the model in part (a), from the following estimation techniques. Comment on any differences and similarities. \n",
    "- (i) Least squares\n",
    "- (ii) Least squares with heteroskedasticity-robust standard errors\n",
    "- (iii) Generalized least squares from part (e)\n",
    "- (iv) Generalized least sqaures from part (e), but with robust standard errors"
   ]
  },
  {
   "cell_type": "code",
   "execution_count": null,
   "metadata": {},
   "outputs": [],
   "source": []
  },
  {
   "cell_type": "markdown",
   "metadata": {},
   "source": [
    "(g) Do the transformed residuals from the transformed regression in part (e) show evidence of heteroskedasticirty? Use a Breusch-Pagan test with variables $AGE$ and $SQFT100$"
   ]
  },
  {
   "cell_type": "code",
   "execution_count": null,
   "metadata": {},
   "outputs": [],
   "source": []
  }
 ],
 "metadata": {
  "kernelspec": {
   "display_name": "Stata",
   "language": "stata",
   "name": "stata"
  },
  "language_info": {
   "codemirror_mode": "stata",
   "file_extension": ".do",
   "mimetype": "text/x-stata",
   "name": "stata",
   "version": "15.1"
  }
 },
 "nbformat": 4,
 "nbformat_minor": 2
}
