{
 "cells": [
  {
   "cell_type": "markdown",
   "metadata": {},
   "source": [
    "Reconsider the household expenditure model that appears in the text, and the data for which are in the file $food.dat$. That is, we have the model\n",
    "$$ y_i = \\beta_1 + \\beta_2 x_i + e_i$$\n",
    "\n",
    "where $y_i$ is food expenditure for the $i$th household and $x_i$ is income. . Find generalized least squares estimates for $\\beta_1$ and $\\beta_2$ under the assumptions \n",
    "- $\\text{var}(e_i) = \\sigma^2 \\sqrt{x_i}$\n",
    "- $\\text{var}(e_i) = \\sigma^2 x^2_i$\n",
    "- $\\text{var}(e_i) = \\sigma^2 \\ln(x_i)$\n",
    "\n",
    "\n",
    "Comment on the sensitivity of the estimates and their standard errors to the hetero- skedastic specification. For each case, use the White N 􏰆 R2 statistic and the residuals from the transformed model to test whether heteroskedasticity has been eliminated.\n"
   ]
  },
  {
   "cell_type": "markdown",
   "metadata": {},
   "source": [
    "The file br2.dat contains data on 1080 houses sold in Baton Rouge, Louisiana during mid-2005. We will be concerned with the selling price (PRICE), the size of the house in square feet (SQFT ), and the age of the house in years (AGE). Define a new variable that measures house size in terms of hundreds of square feet, SQFT100 1⁄4 SQFT=100.\n",
    "\n",
    "(a) Find least squares estimates of the following equation and save the residuals:\n",
    "\n",
    "$$ \\ln(PRICE) = \\beta_1 + \\beta_2 SQFT100 + \\beta_3 AGE + \\beta_4 AGE^2 + e$$"
   ]
  },
  {
   "cell_type": "code",
   "execution_count": null,
   "metadata": {},
   "outputs": [
    {
     "name": "stdout",
     "output_type": "stream",
     "text": [
      ". cap log close stata_kernel_log\n"
     ]
    }
   ],
   "source": [
    "clear all\n",
    "\n",
    "use https://www.stata.com/data/s4poe4/br2.dta\n",
    "\n",
    "gen log_price = log(price)\n",
    "gen age2 = age^2\n",
    "gen sqft100 = sqft/100\n",
    "\n",
    "reg log_price sqft100 age age2\n",
    "\n",
    "predict residuals, resid"
   ]
  },
  {
   "cell_type": "markdown",
   "metadata": {},
   "source": [
    "(b) Plot the residuals against (i) $AGE$ and (ii) $SQFT100$. Is there any evidence of heteroskedasticity?"
   ]
  },
  {
   "cell_type": "code",
   "execution_count": null,
   "metadata": {},
   "outputs": [],
   "source": []
  }
 ],
 "metadata": {
  "kernelspec": {
   "display_name": "Stata",
   "language": "stata",
   "name": "stata"
  },
  "language_info": {
   "codemirror_mode": "stata",
   "file_extension": ".do",
   "mimetype": "text/x-stata",
   "name": "stata",
   "version": "15.1"
  }
 },
 "nbformat": 4,
 "nbformat_minor": 2
}
