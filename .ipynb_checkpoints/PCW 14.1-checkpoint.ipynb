{
 "cells": [
  {
   "cell_type": "markdown",
   "metadata": {},
   "source": [
    "Write a one paragraph summary about the placebo (or falsification) tests in Abadie, Diamond, and Hainmueller (2010). Make sure to explain the intuition of why these placebo tests are used."
   ]
  },
  {
   "cell_type": "markdown",
   "metadata": {},
   "source": [
    "Placebo tests are used to ensure that the effect is due to a structural difference at around the time period of the intervention, rather than due to systematic trend differences in the donor pool. For example, in the case of California tobacco legislation in 1988 (Prop 99), there is a distinct drop in per-capita cigarette sales in actual california compared to synthetic california. However if we ran a test with a placebo intervention at some earlier year, there should be no change. If there is a change, then there is a problem with the research design."
   ]
  },
  {
   "cell_type": "markdown",
   "metadata": {},
   "source": [
    "Replicate the findings of the Stata execise in the Mixtape, and explain Figures 106-108. Please find the do file and the data file here: http://scunning.com/mixtape.html."
   ]
  },
  {
   "cell_type": "code",
   "execution_count": 3,
   "metadata": {},
   "outputs": [],
   "source": [
    "prog drop _all\n",
    "\n",
    "*! Scott Cunningham use - scuse v1.0.1  BB29\n",
    "prog scuse\n",
    "\tversion 14.2\n",
    "\tsyntax anything [, CLEAR noDesc]\n",
    "\tif regexm(\"`anything'\", \".+.zip$\") {\n",
    "\t\tcapt copy \"https://storage.googleapis.com/causal-inference-mixtape.appspot.com/`anything'\" ., replace\n",
    "\t\tif _rc != 0 {\n",
    "\t\t\tdi as err _n \"Error: cannot copy `anything' to current working directory.\"\n",
    "\t\t\texit \n",
    "\t\t}\n",
    "\t\tqui unzipfile \"`anything'\", replace\n",
    "\t\tloc fn = reverse(substr(reverse(\"`anything'\"), 5, .))\n",
    "\t\tcapt use `fn', `clear'\n",
    "\t}\n",
    "\telse {\n",
    "\t\tcapt use \"https://storage.googleapis.com/causal-inference-mixtape.appspot.com/`anything'\", `clear'\n",
    "\t}\n",
    "\tif _rc != 0 {\n",
    " \t\tif _rc == 4 {\n",
    " \t\t\tdi as err _n \"Error: data in memory would be lost. Use  scuse `anything', clear  to discard changes.\"\n",
    " \t\t} \n",
    " \t\telse if _rc == 610 {\n",
    " \t\t\tdi as err _n \"Error: C datafile `anything' must be accessed from Stata 14.x.\" _n  \"It cannot be read by earlier Stata versions.\"\n",
    " \t\t}\n",
    " \t\telse {\n",
    "\t\tdi as err _n \"Error: C datafile `anything' does not exist. Contents of memory not altered.\"\n",
    "\t\t}\n",
    "\t\texit\n",
    "\t}\n",
    "\tif \"`desc'\" != \"nodesc\" { \n",
    "\t\tdescribe\n",
    "\t}\n",
    "end\n",
    "// 1.0.1: Cloned -bcuse.ado- and made it -scuse.ado-"
   ]
  },
  {
   "cell_type": "code",
   "execution_count": 4,
   "metadata": {},
   "outputs": [
    {
     "name": "stdout",
     "output_type": "stream",
     "text": [
      "\n",
      "Contains data from https://storage.googleapis.com/causal-inference-mixtape.appspot.com/texas.dta\n",
      "  obs:           816                          \n",
      " vars:            24                          18 May 2018 18:21\n",
      "---------------------------------------------------------------------------------------------------------------------------------------------------------------------------------------------------------------------------------------------------------------\n",
      "              storage   display    value\n",
      "variable name   type    format     label      variable label\n",
      "---------------------------------------------------------------------------------------------------------------------------------------------------------------------------------------------------------------------------------------------------------------\n",
      "statefip        float   %9.0g                 \n",
      "year            float   %8.0g                 Year\n",
      "race            float   %9.0g                 \n",
      "bmprison        double  %10.0g                BM Prison\n",
      "wmprison        double  %10.0g                WM Prison\n",
      "bmpop           long    %12.0g                BM POP\n",
      "wmpop           long    %12.0g                WM POP\n",
      "error           float   %9.0g                 \n",
      "crack           float   %9.0g                 Crack index\n",
      "alcohol         float   %9.0g                 \n",
      "income          long    %12.0g                \n",
      "ur              float   %9.0g                 \n",
      "poverty         float   %9.0g                 \n",
      "black           float   %9.0g                 \n",
      "perc1519        float   %9.0g                 \n",
      "aidscapita      float   %9.0g                 AIDS mortality per 100,000 in t\n",
      "state           str20   %20s                  \n",
      "parole          long    %10.0g                parole\n",
      "probation       long    %10.0gc               probation\n",
      "capacity_rated  long    %10.0g                capacity_rated\n",
      "capacity_oper~l long    %10.0g                capacity_operational\n",
      "capacity_design long    %10.0g                capacity_design\n",
      "bmprate         float   %9.0g                 \n",
      "wmprate         float   %9.0g                 \n",
      "---------------------------------------------------------------------------------------------------------------------------------------------------------------------------------------------------------------------------------------------------------------\n",
      "Sorted by: statefip  year\n"
     ]
    }
   ],
   "source": [
    "scuse texas.dta"
   ]
  },
  {
   "cell_type": "code",
   "execution_count": 5,
   "metadata": {},
   "outputs": [
    {
     "name": "stdout",
     "output_type": "stream",
     "text": [
      "checking synth consistency and verifying not already installed...\n",
      "installing into /Users/jacob/Library/Application Support/Stata/ado/plus/...\n",
      "installation complete.\n"
     ]
    }
   ],
   "source": [
    "ssc install synth"
   ]
  },
  {
   "cell_type": "code",
   "execution_count": 10,
   "metadata": {},
   "outputs": [
    {
     "name": "stdout",
     "output_type": "stream",
     "text": [
      "---------------------------------------------------------------------------------------------------------------------------------------------------------------------------------------------------------------------------------------------------------------\n",
      "Synthetic Control Method for Comparative Case Studies\n",
      "---------------------------------------------------------------------------------------------------------------------------------------------------------------------------------------------------------------------------------------------------------------\n",
      "\n",
      "First Step: Data Setup\n",
      "---------------------------------------------------------------------------------------------------------------------------------------------------------------------------------------------------------------------------------------------------------------\n",
      "---------------------------------------------------------------------------------------------------------------------------------------------------------------------------------------------------------------------------------------------------------------\n",
      "Data Setup successful\n",
      "---------------------------------------------------------------------------------------------------------------------------------------------------------------------------------------------------------------------------------------------------------------\n",
      "                Treated Unit: Texas\n",
      "               Control Units: Alabama, Alaska, Arizona, Arkansas, California, Colorado, Connecticut, Delaware, District of Columbia, Florida, Georgia, Hawaii, Idaho, Illinois, Indiana, Iowa, Kansas, Kentucky, Louisiana, Maine, Maryland, Massachusetts,\n",
      "                              Michigan, Minnesota, Mississippi, Missouri, Montana, Nebraska, Nevada, New Hampshire, New Jersey, New Mexico, New York, North Carolina, North Dakota, Ohio, Oklahoma, Oregon, Pennsylvania, Rhode Island, South Carolina, South\n",
      "                              Dakota, Tennessee, Utah, Vermont, Virginia, Washington, West Virginia, Wisconsin, Wyoming\n",
      "---------------------------------------------------------------------------------------------------------------------------------------------------------------------------------------------------------------------------------------------------------------\n",
      "          Dependent Variable: bmprison\n",
      "  MSPE minimized for periods: 1985 1986 1987 1988 1989 1990 1991 1992 1993\n",
      "Results obtained for periods: 1985 1986 1987 1988 1989 1990 1991 1992 1993 1994 1995 1996 1997 1998 1999 2000\n",
      "---------------------------------------------------------------------------------------------------------------------------------------------------------------------------------------------------------------------------------------------------------------\n",
      "                  Predictors: bmprison(1990) bmprison(1992) bmprison(1991) bmprison(1988) alcohol(1990) aidscapita(1990) aidscapita(1991) income ur poverty black(1990) black(1991) black(1992) perc1519(1990)\n",
      "---------------------------------------------------------------------------------------------------------------------------------------------------------------------------------------------------------------------------------------------------------------\n",
      "Unless period is specified\n",
      "predictors are averaged over: 1985 1986 1987 1988 1989 1990 1991 1992\n",
      "---------------------------------------------------------------------------------------------------------------------------------------------------------------------------------------------------------------------------------------------------------------\n",
      "\n",
      "Second Step: Run Optimization\n",
      "---------------------------------------------------------------------------------------------------------------------------------------------------------------------------------------------------------------------------------------------------------------\n",
      "---------------------------------------------------------------------------------------------------------------------------------------------------------------------------------------------------------------------------------------------------------------\n",
      "Optimization done\n",
      "---------------------------------------------------------------------------------------------------------------------------------------------------------------------------------------------------------------------------------------------------------------\n",
      "\n",
      "Third Step: Obtain Results\n",
      "---------------------------------------------------------------------------------------------------------------------------------------------------------------------------------------------------------------------------------------------------------------\n",
      "Loss: Root Mean Squared Prediction Error\n",
      "\n",
      "---------------------\n",
      "   RMSPE |  1295.489 \n",
      "---------------------\n",
      "---------------------------------------------------------------------------------------------------------------------------------------------------------------------------------------------------------------------------------------------------------------\n",
      "Unit Weights:\n",
      "\n",
      "----------------------------------\n",
      "               Co_No | Unit_Weight\n",
      "---------------------+------------\n",
      "             Alabama |           0\n",
      "              Alaska |           0\n",
      "             Arizona |           0\n",
      "            Arkansas |           0\n",
      "          California |        .408\n",
      "            Colorado |           0\n",
      "         Connecticut |           0\n",
      "            Delaware |           0\n",
      "District of Columbia |           0\n",
      "             Florida |        .109\n",
      "             Georgia |           0\n",
      "              Hawaii |           0\n",
      "               Idaho |           0\n",
      "            Illinois |         .36\n",
      "             Indiana |           0\n",
      "                Iowa |           0\n",
      "              Kansas |           0\n",
      "            Kentucky |           0\n",
      "           Louisiana |        .122\n",
      "               Maine |           0\n",
      "            Maryland |           0\n",
      "       Massachusetts |           0\n",
      "            Michigan |           0\n",
      "           Minnesota |           0\n",
      "         Mississippi |           0\n",
      "            Missouri |           0\n",
      "             Montana |           0\n",
      "            Nebraska |           0\n",
      "              Nevada |           0\n",
      "       New Hampshire |           0\n",
      "          New Jersey |           0\n",
      "          New Mexico |           0\n",
      "            New York |           0\n",
      "      North Carolina |           0\n",
      "        North Dakota |           0\n",
      "                Ohio |           0\n",
      "            Oklahoma |           0\n",
      "              Oregon |           0\n",
      "        Pennsylvania |           0\n",
      "        Rhode Island |           0\n",
      "      South Carolina |           0\n",
      "        South Dakota |           0\n",
      "           Tennessee |           0\n",
      "                Utah |           0\n",
      "             Vermont |           0\n",
      "            Virginia |           0\n",
      "          Washington |           0\n",
      "       West Virginia |           0\n",
      "           Wisconsin |           0\n",
      "             Wyoming |           0\n",
      "----------------------------------\n",
      "---------------------------------------------------------------------------------------------------------------------------------------------------------------------------------------------------------------------------------------------------------------\n",
      "Predictor Balance:\n",
      "\n",
      "------------------------------------------------------\n",
      "                               |   Treated  Synthetic \n",
      "-------------------------------+----------------------\n",
      "                bmprison(1990) |     22634    23134.8 \n",
      "                bmprison(1992) |     27568   25776.34 \n",
      "                bmprison(1991) |     23249   24272.24 \n",
      "                bmprison(1988) |     16956   18374.28 \n",
      "                 alcohol(1990) |      2.47    2.70996 \n",
      "              aidscapita(1990) |  13.58992   14.99957 \n",
      "              aidscapita(1991) |  14.83504   17.24535 \n",
      "                        income |  16108.63   18614.54 \n",
      "                            ur |  7.426042   7.188876 \n",
      "                       poverty |      17.2   14.86484 \n",
      "                   black(1990) |  16.15459   15.98038 \n",
      "                   black(1991) |  16.29985   16.16835 \n",
      "                   black(1992) |  16.45955   16.37467 \n",
      "                perc1519(1990) |  7.703001   7.022702 \n",
      "------------------------------------------------------\n",
      "---------------------------------------------------------------------------------------------------------------------------------------------------------------------------------------------------------------------------------------------------------------\n"
     ]
    }
   ],
   "source": [
    "synth bmprison bmprison(1990) bmprison(1992) bmprison(1991) bmprison(1988) alcohol(1990) aidscapita(1990) aidscapita(1991) income ur poverty black(1990) black(1991) black(1992) perc1519(1990), trunit(48) trperiod(1993) unitnames(state) mspeperiod(1985(1)1993) resultsperiod(1985(1)2000) replace fig"
   ]
  },
  {
   "cell_type": "code",
   "execution_count": 12,
   "metadata": {},
   "outputs": [
    {
     "name": "stdout",
     "output_type": "stream",
     "text": [
      "\n",
      "symmetric e(V_matrix)[14,14]\n",
      "                   bmprison(      bmprison(      bmprison(      bmprison(                   aidscapita(    aidscapita(                                                                                                perc1519(\n",
      "                       1990)          1992)          1991)          1988)  alcohol(1990)          1990)          1991)         income             ur        poverty    black(1990)    black(1991)    black(1992)          1990)\n",
      "     bmprison(\n",
      "        1990)      .04203396\n",
      "     bmprison(\n",
      "        1992)              0      .14521907\n",
      "     bmprison(\n",
      "        1991)              0              0      .05565401\n",
      "     bmprison(\n",
      "        1988)              0              0              0       .0412083\n",
      "alcohol(1990)              0              0              0              0      .00001507\n",
      "   aidscapita(\n",
      "        1990)              0              0              0              0              0      .01537127\n",
      "   aidscapita(\n",
      "        1991)              0              0              0              0              0              0      .01617833\n",
      "       income              0              0              0              0              0              0              0      .00005753\n",
      "           ur              0              0              0              0              0              0              0              0      .00002568\n",
      "      poverty              0              0              0              0              0              0              0              0              0      .00007734\n",
      "  black(1990)              0              0              0              0              0              0              0              0              0              0      .17576799\n",
      "  black(1991)              0              0              0              0              0              0              0              0              0              0              0      .44121217\n",
      "  black(1992)              0              0              0              0              0              0              0              0              0              0              0              0       .0671646\n",
      "     perc1519(\n",
      "        1990)              0              0              0              0              0              0              0              0              0              0              0              0              0      .00001468\n"
     ]
    }
   ],
   "source": [
    "mat list e(V_matrix)"
   ]
  },
  {
   "cell_type": "code",
   "execution_count": null,
   "metadata": {},
   "outputs": [],
   "source": []
  }
 ],
 "metadata": {
  "kernelspec": {
   "display_name": "Stata",
   "language": "stata",
   "name": "stata"
  },
  "language_info": {
   "codemirror_mode": "stata",
   "file_extension": ".do",
   "mimetype": "text/x-stata",
   "name": "stata",
   "version": "15.1"
  }
 },
 "nbformat": 4,
 "nbformat_minor": 2
}
