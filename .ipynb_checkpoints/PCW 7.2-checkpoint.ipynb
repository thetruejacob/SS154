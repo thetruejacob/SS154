{
 "cells": [
  {
   "cell_type": "markdown",
   "metadata": {},
   "source": [
    "Mortgage lenders are interested in determining borrower and loan factors that may lead to delinquency or foreclosure. In the file $\\textit{lasvegas.dat}$ are 1,000 observations on mortgages for single family homes in Las Vegas, Nevada during 2008. The variable of interest is $\\textit{DELINQUENT}$, an indicator variable $= 1$ if the borrower missed at least three payments ($90+$ days late), but $0$ otherwise. Explanatory variables: are $\\textit{LVR}=$  the ratio of the loan amount to the value of the property; $\\textit{REF}=1$ if purpose of the loan was a ‘‘refinance’’ and $=0$ if loan was for a purchase; $\\textit{INSUR}=1$ if mortgage carries mortgage insurance, $0$ otherwise; $\\textit{RATE}=$ initial interest rate of the mort- gage; $\\textit{AMOUNT}$  dollar value of mortgage (in $\\$100,000$); $\\textit{CREDIT}=$ credit score, $\\textit{TERM}=$ number of years between disbursement of the loan and the date it is expected to be fully repaid, $\\textit{ARM}=1$  if mortgage has an adjustable rate, and $=0$ if mortgage has a fixed rate."
   ]
  },
  {
   "cell_type": "markdown",
   "metadata": {},
   "source": [
    "Estimate the linear probability (regression) model explaining DELINQUENT as a function of the remaining variables. Use White robust standard errors. Are the signs of the estimated coefficients reasonable?"
   ]
  },
  {
   "cell_type": "code",
   "execution_count": null,
   "metadata": {},
   "outputs": [],
   "source": [
    "clear all\n",
    "use https://www.stata.com/data/s4poe4/lasvegas.dta\n",
    "reg delinquent lvr ref insur rate amount credit term arm"
   ]
  },
  {
   "cell_type": "markdown",
   "metadata": {},
   "source": [
    "(b) Use probit to estimate the model in (a). Are the signs and significance of the estimated coefficients the same as for the linear probability model?"
   ]
  },
  {
   "cell_type": "code",
   "execution_count": null,
   "metadata": {},
   "outputs": [],
   "source": [
    "probit delinquent lvr ref insur rate amount credit term arm"
   ]
  },
  {
   "cell_type": "markdown",
   "metadata": {},
   "source": [
    "(c) Compute the predicted value of DELINQUENT for the 500th and 1,000th observations using both the linear probability model and the probit model. Interpret the values."
   ]
  },
  {
   "cell_type": "code",
   "execution_count": null,
   "metadata": {},
   "outputs": [],
   "source": []
  },
  {
   "cell_type": "markdown",
   "metadata": {},
   "source": [
    "(d) Construct a histogram of CREDIT. Using both linear probability and probit models, calculate the probability of delinquency for CREDIT 1⁄4 500, 600, and 700 for a loan of $250,000 (AMOUNT 1⁄4 2.5). For the other variables, loan to value ratio (LVR) is 80%, initial interest rate is 8%, indicator variables take the value one, and TERM 1⁄4 30. Discuss similarities and differences among the predicted probabilities from the two models."
   ]
  },
  {
   "cell_type": "code",
   "execution_count": null,
   "metadata": {},
   "outputs": [],
   "source": []
  },
  {
   "cell_type": "markdown",
   "metadata": {},
   "source": [
    "Compute the marginal effect of CREDIT on the probability of delinquency for CREDIT 1⁄4 500, 600, and 700, given that the other explanatory variables take the values in (d). Discuss the interpretation of the marginal effect.\n"
   ]
  },
  {
   "cell_type": "code",
   "execution_count": null,
   "metadata": {},
   "outputs": [],
   "source": []
  },
  {
   "cell_type": "markdown",
   "metadata": {},
   "source": [
    "Using a data introduced in one of the past pre-class work questions, check whether **margins **command in Stata correctly estimates the marginal effect of an interaction term in a nonlinear model. Note: Use a probit model and interact two continuous variables."
   ]
  },
  {
   "cell_type": "code",
   "execution_count": null,
   "metadata": {},
   "outputs": [],
   "source": []
  },
  {
   "cell_type": "code",
   "execution_count": null,
   "metadata": {},
   "outputs": [],
   "source": []
  },
  {
   "cell_type": "code",
   "execution_count": null,
   "metadata": {},
   "outputs": [],
   "source": []
  }
 ],
 "metadata": {
  "kernelspec": {
   "display_name": "Stata",
   "language": "stata",
   "name": "stata"
  },
  "language_info": {
   "codemirror_mode": "stata",
   "file_extension": ".do",
   "mimetype": "text/x-stata",
   "name": "stata",
   "version": "15.1"
  }
 },
 "nbformat": 4,
 "nbformat_minor": 2
}
