{
 "cells": [
  {
   "cell_type": "markdown",
   "metadata": {},
   "source": [
    "Following on from the example in Section 6.3, the file hwage.dat contains another subset of the data used by labor economist Tom Mroz. The variables with which we are concerned are\n",
    "\n",
    "- $HW=$ husband’s wage in 2006 dollars\n",
    "- $HE=$ husband’s education attainment in years\n",
    "- $HA=$ husband's age\n",
    "- $CIT=$ a variable equal to one if living in a large city, otherwise zero \n",
    "\n",
    "Estimate the model\n",
    "$$ HW = \\beta_1 + \\beta_2 HE + \\beta_3 HA + e$$\n",
    "(a) What effects do changes in the level of education and age have on wages?"
   ]
  },
  {
   "cell_type": "code",
   "execution_count": 1,
   "metadata": {},
   "outputs": [
    {
     "name": "stdout",
     "output_type": "stream",
     "text": [
      "\n",
      "\n",
      "\n",
      "\n",
      "      Source |       SS           df       MS      Number of obs   =       753\n",
      "-------------+----------------------------------   F(2, 750)       =     74.37\n",
      "       Model |  31825.8982         2  15912.9491   Prob > F        =    0.0000\n",
      "    Residual |   160479.81       750   213.97308   R-squared       =    0.1655\n",
      "-------------+----------------------------------   Adj R-squared   =    0.1633\n",
      "       Total |  192305.708       752  255.725676   Root MSE        =    14.628\n",
      "\n",
      "------------------------------------------------------------------------------\n",
      "          hw |      Coef.   Std. Err.      t    P>|t|     [95% Conf. Interval]\n",
      "-------------+----------------------------------------------------------------\n",
      "          he |   2.193289   .1800506    12.18   0.000     1.839826    2.546752\n",
      "          ha |   .1996641   .0674912     2.96   0.003       .06717    .3321583\n",
      "       _cons |  -8.123578   4.158325    -1.95   0.051    -16.28692     .039763\n",
      "------------------------------------------------------------------------------\n"
     ]
    }
   ],
   "source": [
    "clear all\n",
    "use http://www.principlesofeconometrics.com/poe4/data/stata/hwage.dta\n",
    "\n",
    "reg hw he ha"
   ]
  },
  {
   "cell_type": "markdown",
   "metadata": {},
   "source": [
    "This suggests that each additional year of educational attainment increases wage by 2.193289 dollars, and that each additional year increases wage by 0.1996641.\n",
    "\n",
    "(b) Does RESET suggest that the model in part (a) is adequate?"
   ]
  },
  {
   "cell_type": "code",
   "execution_count": 2,
   "metadata": {},
   "outputs": [
    {
     "name": "stdout",
     "output_type": "stream",
     "text": [
      "\n",
      "Ramsey RESET test using powers of the fitted values of hw\n",
      "       Ho:  model has no omitted variables\n",
      "                 F(3, 747) =      6.65\n",
      "                  Prob > F =      0.0002\n"
     ]
    }
   ],
   "source": [
    "estat ovtest"
   ]
  },
  {
   "cell_type": "markdown",
   "metadata": {},
   "source": [
    "No, it suggests the opposite. We reject the null hypothesis and accept the alternative hypothesis that the model has ommited variable bias."
   ]
  },
  {
   "cell_type": "markdown",
   "metadata": {},
   "source": [
    "(c) Add the variables $HE^2$ and $HA^2$ to the original equation and re-estimate it. Describe the effect that education and age have on wages in this newly estimated model."
   ]
  },
  {
   "cell_type": "code",
   "execution_count": 3,
   "metadata": {},
   "outputs": [
    {
     "name": "stdout",
     "output_type": "stream",
     "text": [
      "\n",
      "\n",
      "\n",
      "\n",
      "      Source |       SS           df       MS      Number of obs   =       753\n",
      "-------------+----------------------------------   F(4, 748)       =     44.37\n",
      "       Model |  36876.7034         4  9219.17584   Prob > F        =    0.0000\n",
      "    Residual |  155429.005       748  207.792787   R-squared       =    0.1918\n",
      "-------------+----------------------------------   Adj R-squared   =    0.1874\n",
      "       Total |  192305.708       752  255.725676   Root MSE        =    14.415\n",
      "\n",
      "------------------------------------------------------------------------------\n",
      "          hw |      Coef.   Std. Err.      t    P>|t|     [95% Conf. Interval]\n",
      "-------------+----------------------------------------------------------------\n",
      "          he |  -1.457971   1.122786    -1.30   0.195    -3.662157    .7462154\n",
      "          ha |   2.889541   .7328868     3.94   0.000     1.450781    4.328301\n",
      "         he2 |   .1511426   .0458277     3.30   0.001     .0611762    .2411089\n",
      "         ha2 |  -.0301212   .0081339    -3.70   0.000    -.0460892   -.0141532\n",
      "       _cons |  -45.56754   17.54364    -2.60   0.010    -80.00817   -11.12691\n",
      "------------------------------------------------------------------------------\n"
     ]
    }
   ],
   "source": [
    "gen he2 = he^2\n",
    "gen ha2 = ha^2\n",
    "reg hw he ha he2 ha2"
   ]
  },
  {
   "cell_type": "markdown",
   "metadata": {},
   "source": [
    "While education does not have signficiant relationship with wages, education squared does. Age and age squared both are significant in predicting HW. \n",
    "\n",
    "(d) Does RESET suggest that the model in part (c) is adequate?"
   ]
  },
  {
   "cell_type": "code",
   "execution_count": 4,
   "metadata": {},
   "outputs": [
    {
     "name": "stdout",
     "output_type": "stream",
     "text": [
      "\n",
      "Ramsey RESET test using powers of the fitted values of hw\n",
      "       Ho:  model has no omitted variables\n",
      "                 F(3, 745) =      1.33\n",
      "                  Prob > F =      0.2627\n"
     ]
    }
   ],
   "source": [
    "estat ovtest"
   ]
  },
  {
   "cell_type": "markdown",
   "metadata": {},
   "source": [
    "Yes, it does , because it doesn't have omitted variable bias.\n",
    "\n",
    "(e) Reestimate the model in part (c) with the variable CIT included. What can you say about the level of wages in large cities relative to outside those cities?"
   ]
  },
  {
   "cell_type": "code",
   "execution_count": 5,
   "metadata": {},
   "outputs": [
    {
     "name": "stdout",
     "output_type": "stream",
     "text": [
      "\n",
      "      Source |       SS           df       MS      Number of obs   =       753\n",
      "-------------+----------------------------------   F(5, 747)       =     48.30\n",
      "       Model |  46984.2168         5  9396.84337   Prob > F        =    0.0000\n",
      "    Residual |  145321.492       747  194.540149   R-squared       =    0.2443\n",
      "-------------+----------------------------------   Adj R-squared   =    0.2393\n",
      "       Total |  192305.708       752  255.725676   Root MSE        =    13.948\n",
      "\n",
      "------------------------------------------------------------------------------\n",
      "          hw |      Coef.   Std. Err.      t    P>|t|     [95% Conf. Interval]\n",
      "-------------+----------------------------------------------------------------\n",
      "          he |  -2.207574   1.091357    -2.02   0.043    -4.350066   -.0650814\n",
      "          ha |   2.621256   .7101069     3.69   0.000     1.227214    4.015299\n",
      "         he2 |   .1687597   .0444096     3.80   0.000     .0815773    .2559421\n",
      "         ha2 |  -.0277679    .007877    -3.53   0.000    -.0432316   -.0123042\n",
      "         cit |   7.937853   1.101249     7.21   0.000     5.775942    10.09976\n",
      "       _cons |  -37.05403   17.01601    -2.18   0.030    -70.45893   -3.649139\n",
      "------------------------------------------------------------------------------\n"
     ]
    }
   ],
   "source": [
    "reg hw he ha he2 ha2 cit"
   ]
  },
  {
   "cell_type": "markdown",
   "metadata": {},
   "source": [
    "Being in a city is correlated with a large boost in wages.\n",
    "\n",
    "(f) Do you think CIT should be included in the equation?\n",
    "\n",
    "Yes, because the adjusted R-squared is higher with it included."
   ]
  },
  {
   "cell_type": "code",
   "execution_count": 6,
   "metadata": {},
   "outputs": [
    {
     "name": "stdout",
     "output_type": "stream",
     "text": [
      "\n",
      "Ramsey RESET test using powers of the fitted values of hw\n",
      "       Ho:  model has no omitted variables\n",
      "                 F(3, 744) =      0.55\n",
      "                  Prob > F =      0.6511\n"
     ]
    }
   ],
   "source": [
    "estat ovtest"
   ]
  },
  {
   "cell_type": "markdown",
   "metadata": {},
   "source": [
    "Each additional year of education "
   ]
  },
  {
   "cell_type": "markdown",
   "metadata": {},
   "source": [
    "(g) For both the model estimated in part (c) and the model estimated in part (e), evaluate the following four derivatives:\n",
    "$$ \\frac{\\partial HW}{\\partial HE} \\text{ for } HE = 6 \\text{ and } HE = 15$$\n",
    "$$ \\frac{\\partial HW}{\\partial HA} \\text{ for } HA = 35 \\text{ and } HE = 50$$\n",
    "\n",
    "$$ HW = \\beta_1 + \\beta_2 HE + \\beta_3 HA + \\beta_4HE^2 + \\beta_5 HA^2 + e$$\n",
    "\n",
    "$$\\frac{\\partial HW}{\\partial HE} = \\beta_2 + 2\\beta_4 HE \\Rightarrow \\frac{\\partial HW}{\\partial HE}(6) = 0.3557402, \\frac{\\partial HW}{\\partial HE}(15)  = 3.076307$$\n",
    "$$\\frac{\\partial HW}{\\partial HA} = \\beta_3 + 2\\beta_5 HA \\Rightarrow \\frac{\\partial HW}{\\partial HE}(35) = 0.781057,  \\frac{\\partial HW}{\\partial HE}(50) = -0.122579 $$\n",
    "\n",
    "$$ HW = \\beta_1 + \\beta_2 HE + \\beta_3 HA + \\beta_4HE^2 + \\beta_5 HA^2 + CIT + e$$\n",
    "\n",
    "$$\\frac{\\partial HW}{\\partial HE} = \\beta_2 + 2\\beta_4 HE \\Rightarrow \\frac{\\partial HW}{\\partial HE}(6) = 2.5280866, \\frac{\\partial HW}{\\partial HE}(15)  = 1.985905$$\n",
    "$$\\frac{\\partial HW}{\\partial HA} = \\beta_3 + 2\\beta_5 HA \\Rightarrow \\frac{\\partial HW}{\\partial HE}(35) = 0.677503,  \\frac{\\partial HW}{\\partial HE}(50) = -0.155534 $$\n",
    "\n",
    "Does the omission of CIT lead to omitted-variable bias? Can you suggest why?\n",
    "\n",
    "A little bit, but not by much - I'm assuming that there isn't much of a correlation in AGE and probablility of living in the city. "
   ]
  },
  {
   "cell_type": "markdown",
   "metadata": {},
   "source": [
    "Write a one paragraph summary of Farrar and Glauber (1967) explaining the multicollinearity problem in terms of estimation and specification.\n",
    "\n",
    "Multicollinearity is the interdependence among the explanatory variables $X$. This means that the correlation matrix $(X^T X)$ approaches singularity, and the elements of the inverse matrix $(X^T X)^{-1}$ explode. Variances for the parameter estimates, given by $V(b') = \\sigma^2_u (X^T X)^{-1}$ hence also become infinite. This means that explained variance can be allocated arbitrarily among the regression coefficients. As for specification, models tend usually to be a pared-down version of the econometrician's more complex mental model, because of limitations (e.g. multicollinearity) in the data. The sample usually contains basic information, spread out over a larger number of increasingly multicollinear independent variables. This rapidly decreases the stability and therefore the sample significance of each independent variable's contribution to explained variance. The econometrician is therefore in a bind because he wants to have large numbers of variables to obtain reliable forecasts of model complex relationships - but this almost always introducing greater multicollinearity.\n",
    "\n",
    "In summary, multicollinearity is a statistical, rather than a mathematical condition, and hence it is a matter of determining the severity, rather than the existence of multicollinearity. What we are trying to do is to reduce the gap between the informational requirements of a model, and the informational content of the data, and we can do this via a combination is reducing model complexity and increasing information. Ideally, the model is completely specified, and the data is internall orthogonality. By locating the interdependence in $X$, and understanding its pattern (factor analysis), instability can be evaluated and corrected. Multicollinearity amongst non-critical variables can be tolerated, but if critical variables are affected, we need more information in order to provide coefficient estimates (either for the variables direcrtly, or the members of the set on which they are dependent).  "
   ]
  },
  {
   "cell_type": "markdown",
   "metadata": {},
   "source": [
    "In a statistical model collinearity arises because of poor experimental design, or in the case below, because of data that do not vary enough to permit precise measurement of the parameters. Run the code below and explain the output in each step. Note that the variance inflation factor (VIF) is a function of the R-squared of an auxiliary regression. The rule-of-thumb is that a VIF > 10 indicates weak identification of the corresponding variable's coefficient."
   ]
  },
  {
   "cell_type": "code",
   "execution_count": 7,
   "metadata": {},
   "outputs": [
    {
     "name": "stdout",
     "output_type": "stream",
     "text": [
      "\n",
      "\n",
      "\n",
      "\n",
      "    Variable |        Obs        Mean    Std. Dev.       Min        Max\n",
      "-------------+---------------------------------------------------------\n",
      "        firm |        352        22.5     12.7165          1         44\n",
      "        year |        352      1993.5    2.294549       1990       1997\n",
      "        prod |        352    6.466392    5.076672        .09       31.1\n",
      "        area |        352    2.117528    1.451403         .2          7\n",
      "       labor |        352    107.2003     76.6456          8        436\n",
      "-------------+---------------------------------------------------------\n",
      "        fert |        352    187.0545    168.5852        3.4     1030.9\n",
      "\n",
      "\n",
      "             |     firm     year     prod     area    labor     fert\n",
      "-------------+------------------------------------------------------\n",
      "        firm |   1.0000 \n",
      "        year |   0.0000   1.0000 \n",
      "        prod |  -0.2344   0.0183   1.0000 \n",
      "        area |  -0.2410  -0.0431   0.8876   1.0000 \n",
      "       labor |  -0.2514  -0.0341   0.8899   0.9192   1.0000 \n",
      "        fert |  -0.2379   0.0775   0.8171   0.8407   0.8357   1.0000 \n"
     ]
    }
   ],
   "source": [
    "clear all\n",
    "use https://www.stata.com/data/s4poe4/rice.dta \n",
    "summarize\n",
    "pwcorr"
   ]
  },
  {
   "cell_type": "markdown",
   "metadata": {},
   "source": [
    "We see a concerning degree of correlation between some of the variables: For example, labor and fert is at 0.83, labor and area is at 0.92, area and fert is at 0.84, prod and area is at 0.89, prod and labor is at 0.89, prod and fert is at 0.82."
   ]
  },
  {
   "cell_type": "code",
   "execution_count": 8,
   "metadata": {},
   "outputs": [
    {
     "name": "stdout",
     "output_type": "stream",
     "text": [
      "\n",
      "\n",
      "\n",
      "\n",
      "\n",
      "\n",
      "             |    lprod    larea   llabor    lfert\n",
      "-------------+------------------------------------\n",
      "       lprod |   1.0000 \n",
      "       larea |   0.8934   1.0000 \n",
      "      llabor |   0.9004   0.9280   1.0000 \n",
      "       lfert |   0.8540   0.8520   0.8631   1.0000 \n"
     ]
    }
   ],
   "source": [
    "gen lprod = log(prod) \n",
    "gen larea = log(area) \n",
    "gen llabor = log(labor) \n",
    "gen lfert = log(fert) \n",
    "pwcorr lprod larea llabor lfert //to quickly regenerate correlations, one can use the wildcard * "
   ]
  },
  {
   "cell_type": "markdown",
   "metadata": {},
   "source": [
    "Again, there is a high degree of collinearity within the variables labor, prod, area, and fert (and therefore their log counterparts)"
   ]
  },
  {
   "cell_type": "code",
   "execution_count": 9,
   "metadata": {},
   "outputs": [
    {
     "name": "stdout",
     "output_type": "stream",
     "text": [
      "\n",
      "      Source |       SS           df       MS      Number of obs   =        44\n",
      "-------------+----------------------------------   F(3, 40)        =     92.91\n",
      "       Model |  27.3469024         3  9.11563413   Prob > F        =    0.0000\n",
      "    Residual |  3.92452618        40  .098113154   R-squared       =    0.8745\n",
      "-------------+----------------------------------   Adj R-squared   =    0.8651\n",
      "       Total |  31.2714286        43  .727242524   Root MSE        =    .31323\n",
      "\n",
      "------------------------------------------------------------------------------\n",
      "       lprod |      Coef.   Std. Err.      t    P>|t|     [95% Conf. Interval]\n",
      "-------------+----------------------------------------------------------------\n",
      "       larea |   .2106069   .1820736     1.16   0.254    -.1573777    .5785914\n",
      "      llabor |    .377584   .2550577     1.48   0.147    -.1379068    .8930747\n",
      "       lfert |   .3433348   .1279984     2.68   0.011     .0846404    .6020292\n",
      "       _cons |  -1.947286   .7384865    -2.64   0.012    -3.439823   -.4547494\n",
      "------------------------------------------------------------------------------\n"
     ]
    }
   ],
   "source": [
    "regress lprod larea llabor lfert if year == 1994 "
   ]
  },
  {
   "cell_type": "markdown",
   "metadata": {},
   "source": [
    "Both larea and llabor are not statistically significant, but they are probably important. Because of the high degree of multicollinearity, the regression is uncertain about how to establish the coefficient estimates between larea and llabor."
   ]
  },
  {
   "cell_type": "code",
   "execution_count": 10,
   "metadata": {},
   "outputs": [
    {
     "name": "stdout",
     "output_type": "stream",
     "text": [
      "\n",
      "    Variable |       VIF       1/VIF  \n",
      "-------------+----------------------\n",
      "      llabor |     17.73    0.056389\n",
      "       larea |      9.15    0.109297\n",
      "       lfert |      7.68    0.130141\n",
      "-------------+----------------------\n",
      "    Mean VIF |     11.52\n"
     ]
    }
   ],
   "source": [
    "estat vif //variance inflation factor "
   ]
  },
  {
   "cell_type": "markdown",
   "metadata": {},
   "source": [
    "Yup, there is a lot of multicollinearity. llabor is especially problematic."
   ]
  },
  {
   "cell_type": "code",
   "execution_count": 11,
   "metadata": {},
   "outputs": [
    {
     "name": "stdout",
     "output_type": "stream",
     "text": [
      "\n",
      "\n",
      "\n",
      "Constrained linear regression                   Number of obs     =         44\n",
      "                                                Root MSE          =     0.3134\n",
      "\n",
      " ( 1)  larea + llabor + lfert = 1\n",
      "------------------------------------------------------------------------------\n",
      "       lprod |      Coef.   Std. Err.      t    P>|t|     [95% Conf. Interval]\n",
      "-------------+----------------------------------------------------------------\n",
      "       larea |   .2262278   .1815276     1.25   0.220    -.1403746    .5928303\n",
      "      llabor |   .4834192      .2332     2.07   0.044     .0124623     .954376\n",
      "       lfert |    .290353   .1170861     2.48   0.017     .0538929    .5268131\n",
      "       _cons |  -2.168297   .7064722    -3.07   0.004    -3.595047   -.7415474\n",
      "------------------------------------------------------------------------------\n"
     ]
    }
   ],
   "source": [
    "constraint 1 larea + llabor + lfert = 1 \n",
    "cnsreg lprod larea llabor lfert if year ==1994, c(1) \n"
   ]
  },
  {
   "cell_type": "markdown",
   "metadata": {},
   "source": [
    "We constrain this with our own knowledge that larea + llabor + lfert = 1. We obtain better estimates than in the previous regression."
   ]
  },
  {
   "cell_type": "code",
   "execution_count": 12,
   "metadata": {},
   "outputs": [
    {
     "name": "stdout",
     "output_type": "stream",
     "text": [
      "\n",
      "\n",
      "      Source |       SS           df       MS      Number of obs   =       352\n",
      "-------------+----------------------------------   F(3, 348)       =    646.51\n",
      "       Model |  226.084873         3  75.3616243   Prob > F        =    0.0000\n",
      "    Residual |   40.565356       348  .116567115   R-squared       =    0.8479\n",
      "-------------+----------------------------------   Adj R-squared   =    0.8466\n",
      "       Total |  266.650229       351  .759687262   Root MSE        =    .34142\n",
      "\n",
      "------------------------------------------------------------------------------\n",
      "       lprod |      Coef.   Std. Err.      t    P>|t|     [95% Conf. Interval]\n",
      "-------------+----------------------------------------------------------------\n",
      "       larea |   .3617359   .0639678     5.65   0.000     .2359237    .4875481\n",
      "      llabor |   .4328479   .0668825     6.47   0.000      .301303    .5643928\n",
      "       lfert |   .2095023   .0382654     5.47   0.000     .1342417    .2847628\n",
      "       _cons |  -1.546786   .2556536    -6.05   0.000    -2.049607   -1.043966\n",
      "------------------------------------------------------------------------------\n",
      "\n",
      "\n",
      "    Variable |       VIF       1/VIF  \n",
      "-------------+----------------------\n",
      "      llabor |      8.36    0.119664\n",
      "       larea |      7.78    0.128612\n",
      "       lfert |      4.23    0.236246\n",
      "-------------+----------------------\n",
      "    Mean VIF |      6.79\n"
     ]
    }
   ],
   "source": [
    "reg lprod larea llabor lfert \n",
    "estat vif"
   ]
  },
  {
   "cell_type": "markdown",
   "metadata": {},
   "source": [
    "Just a normal regression, but this time there is less multicollinearity because there are more observations and hence a richer dataset. "
   ]
  },
  {
   "cell_type": "code",
   "execution_count": 13,
   "metadata": {},
   "outputs": [
    {
     "name": "stdout",
     "output_type": "stream",
     "text": [
      "\n",
      "\n",
      "Constrained linear regression                   Number of obs     =        352\n",
      "                                                Root MSE          =     0.3409\n",
      "\n",
      " ( 1)  larea + llabor + lfert = 1\n",
      "------------------------------------------------------------------------------\n",
      "       lprod |      Coef.   Std. Err.      t    P>|t|     [95% Conf. Interval]\n",
      "-------------+----------------------------------------------------------------\n",
      "       larea |    .359491   .0625303     5.75   0.000     .2365074    .4824745\n",
      "      llabor |   .4299212   .0645841     6.66   0.000     .3028982    .5569442\n",
      "       lfert |   .2105878    .037687     5.59   0.000     .1364657      .28471\n",
      "       _cons |  -1.538065    .250208    -6.15   0.000     -2.03017   -1.045959\n",
      "------------------------------------------------------------------------------\n",
      "\n",
      "estat vif not valid\n"
     ]
    },
    {
     "name": "stderr",
     "output_type": "stream",
     "text": [
      "r(321);\n",
      "r(321);\n"
     ]
    },
    {
     "name": "stdout",
     "output_type": "stream",
     "text": [
      "\n",
      "\n"
     ]
    }
   ],
   "source": [
    "cnsreg lprod larea llabor lfert , c(1) \n",
    "estat vif"
   ]
  },
  {
   "cell_type": "code",
   "execution_count": null,
   "metadata": {},
   "outputs": [],
   "source": []
  }
 ],
 "metadata": {
  "kernelspec": {
   "display_name": "Stata",
   "language": "stata",
   "name": "stata"
  },
  "language_info": {
   "codemirror_mode": "stata",
   "file_extension": ".do",
   "mimetype": "text/x-stata",
   "name": "stata",
   "version": "15.1"
  }
 },
 "nbformat": 4,
 "nbformat_minor": 2
}
