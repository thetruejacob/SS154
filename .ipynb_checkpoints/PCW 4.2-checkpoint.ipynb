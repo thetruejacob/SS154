{
 "cells": [
  {
   "cell_type": "markdown",
   "metadata": {},
   "source": [
    "\n",
    "The file br2.dat contains data on 1,080 houses sold in Baton Rouge, Louisiana, during mid-2005. We will be concerned with the selling price (PRICE), the size of the house in square feet (SQFT), and the age of the house in years (AGE). Define a new variable that measures house size in terms of hundreds of square feet, $SQFT100= SQFT/100$.\n",
    "\n",
    "a. Estimate the following equation and report the results:\n",
    "$$ \\ln(PRICE) = \\alpha_1 + \\alpha_2 SQFT100 + \\alpha_3 AGE + \\alpha_4 AGE^2 + e$$"
   ]
  },
  {
   "cell_type": "code",
   "execution_count": 3,
   "metadata": {},
   "outputs": [
    {
     "name": "stdout",
     "output_type": "stream",
     "text": [
      "\n",
      "\n",
      "\n",
      "\n",
      "\n",
      "\n",
      "      Source |       SS           df       MS      Number of obs   =     1,080\n",
      "-------------+----------------------------------   F(3, 1076)      =    865.49\n",
      "       Model |  209.891557         3  69.9638522   Prob > F        =    0.0000\n",
      "    Residual |  86.9808098     1,076  .080837184   R-squared       =    0.7070\n",
      "-------------+----------------------------------   Adj R-squared   =    0.7062\n",
      "       Total |  296.872366     1,079  .275136577   Root MSE        =    .28432\n",
      "\n",
      "------------------------------------------------------------------------------\n",
      "   log_price |      Coef.   Std. Err.      t    P>|t|     [95% Conf. Interval]\n",
      "-------------+----------------------------------------------------------------\n",
      "        sqft |   .0003876   8.69e-06    44.59   0.000     .0003706    .0004047\n",
      "         age |  -.0175549   .0013565   -12.94   0.000    -.0202165   -.0148932\n",
      "        age2 |   .0001734   .0000227     7.65   0.000     .0001289    .0002178\n",
      "       _cons |   11.11959   .0274129   405.63   0.000      11.0658    11.17338\n",
      "------------------------------------------------------------------------------\n"
     ]
    }
   ],
   "source": [
    "clear all\n",
    "\n",
    "use https://www.stata.com/data/s4poe4/br2.dta\n",
    "\n",
    "gen log_price = log(price)\n",
    "gen age2 = age^2\n",
    "\n",
    "reg log_price sqft age age2"
   ]
  },
  {
   "cell_type": "markdown",
   "metadata": {},
   "source": [
    "b. Interpret the estimate for $\\alpha_2$\n",
    "\n",
    "In this model, every $/$1$increase in log price is predicted by an increase in 0.0003876 square feet.\n",
    "\n",
    "c. Find and interpret estimates for $\\frac{\\partial \\ln(PRICE)}{ \\partial AGE}$ when $AGE = 5$ and $AGE = 20$\n",
    "\n",
    "$$\\frac{\\partial \\ln(PRICE)}{ \\partial AGE} = \\alpha_3 + 2\\alpha_4 AGE = f(AGE)$$\n",
    "$$ f(5) = -0.0175549 + 2 \\times 0.0001734 \\times 5 = -0.0158209$$\n",
    "$$ f(20) = -0.0175549 + 2 \\times 0.0001734 \\times 20 = -0.0106189$$\n",
    "\n",
    "d. Estimate $\\frac{\\partial PRICE}{\\partial AGE}$ and $\\frac{\\partial PRICE}{\\partial SQFT100}$ for a 20-year-old house with a living area of 2300 square feet.\n",
    "\n",
    "$$PRICE(SQFT, AGE) = e^{\\alpha_1 + \\alpha_2 SQFT100} e^{\\alpha_3 AGE+ \\alpha_4AGE^2} $$\n",
    "Find both partial differentials\n",
    "$$ f(AGE, SQFT) = \\frac{\\partial PRICE(SQFT, AGE)}{\\partial AGE} = e^{\\alpha_1 + \\alpha_2 SQFT100} e^{\\alpha_3 AGE + \\alpha_4AGE^2} (2 AGE \\alpha_4 + \\alpha_3) $$ \n",
    "$$ g(AGE, SQFT) =  \\frac{\\partial PRICE(SQFT, AGE)}{\\partial SQFT100} =e^{\\alpha_1 + \\alpha_2 SQFT100} e^{\\alpha_3 AGE+ \\alpha_4AGE^2}\\alpha_2 $$ \n",
    "\n",
    "Substitute in to find both elasticities\n",
    "$$ f(20, 2300) = e^{11.11959\\:+\\:.0003876\\cdot 2300}\\:e^{-.0175549\\cdot 20\\:+\\:.0001734\\cdot 20^2}\\:\\left(2\\:\\cdot 20\\:\\cdot .0001734 -.0175549\\right) = -1318.4500$$\n",
    "\n",
    "$$ g(20, 2300) = e^{11.11959+0.0003876\\cdot \\:2300}e^{-0.0175549\\cdot \\:20+0.0001734\\cdot \\:20^2}\\cdot 0.0003876 = 48.1246$$\n",
    "\n",
    "Find the standard errors of your estimates in (e).\n",
    "\n",
    "The form of f and g are not exactly tractable. Might have to use monte carlo simulation?"
   ]
  },
  {
   "cell_type": "code",
   "execution_count": 8,
   "metadata": {},
   "outputs": [
    {
     "name": "stdout",
     "output_type": "stream",
     "text": [
      "\n",
      "Average marginal effects                        Number of obs     =      1,080\n",
      "Model VCE    : OLS\n",
      "\n",
      "Expression   : Linear prediction, predict()\n",
      "dy/dx w.r.t. : sqft age\n",
      "\n",
      "------------------------------------------------------------------------------\n",
      "             |            Delta-method\n",
      "             |      dy/dx   Std. Err.      t    P>|t|     [95% Conf. Interval]\n",
      "-------------+----------------------------------------------------------------\n",
      "        sqft |   .0003876   8.69e-06    44.59   0.000     .0003706    .0004047\n",
      "         age |  -.0175549   .0013565   -12.94   0.000    -.0202165   -.0148932\n",
      "------------------------------------------------------------------------------\n"
     ]
    }
   ],
   "source": [
    "margins, dydx(sqft age)"
   ]
  },
  {
   "cell_type": "markdown",
   "metadata": {},
   "source": [
    "\n",
    "$$ SE(f) = \\sqrt{ \\text{var}(f)}$$\n",
    "\n",
    "$$ SE(g) = \\sqrt{\\text{var}(g)}$$"
   ]
  },
  {
   "cell_type": "markdown",
   "metadata": {},
   "source": [
    "Use the 2009 March CPS in Hansen's website (https://www.ssc.wisc.edu/~bhansen/econometrics/) and replicate equation 3.15 (the definition of experience is defined in footnote 9, pp. 17). Note that the regression is for the sub-sample of single (never married) Asian men. Rerun the regression in equation 3.14 using the sample defined here -- single (never married) Asian men -- and explain why the effect of education is smaller in equation 3.14 compared to 3.15.\n",
    "\n",
    "Experience = age - education - 6\n"
   ]
  },
  {
   "cell_type": "code",
   "execution_count": 10,
   "metadata": {},
   "outputs": [
    {
     "name": "stdout",
     "output_type": "stream",
     "text": [
      "\n",
      "\n",
      "\n",
      "\n",
      "\n",
      "\n",
      "\n",
      "\n",
      "      Source |       SS           df       MS      Number of obs   =       268\n",
      "-------------+----------------------------------   F(3, 264)       =     55.69\n",
      "       Model |  52.5382617         3  17.5127539   Prob > F        =    0.0000\n",
      "    Residual |  83.0162162       264  .314455365   R-squared       =    0.3876\n",
      "-------------+----------------------------------   Adj R-squared   =    0.3806\n",
      "       Total |  135.554478       267  .507694674   Root MSE        =    .56076\n",
      "\n",
      "------------------------------------------------------------------------------\n",
      "    log_wage |      Coef.   Std. Err.      t    P>|t|     [95% Conf. Interval]\n",
      "-------------+----------------------------------------------------------------\n",
      "   education |   .1433165   .0116307    12.32   0.000     .1204157    .1662172\n",
      "       exper |   .0355789   .0108576     3.28   0.001     .0142005    .0569574\n",
      "      exper2 |  -.0007138   .0002957    -2.41   0.016     -.001296   -.0001315\n",
      "       _cons |   .5753563   .1868299     3.08   0.002     .2074901    .9432225\n",
      "------------------------------------------------------------------------------\n"
     ]
    }
   ],
   "source": [
    "clear all\n",
    "\n",
    "quiet use cps09mar.dta\n",
    "\n",
    "gen wage = earnings / (hours*week) // wage is annual earnings/annual hours\n",
    "gen log_wage = log(wage)\n",
    "gen exper = age - education - 6\n",
    "gen exper2 = exper^2\n",
    "\n",
    "// regression for single Asian men\n",
    "regress log_wage educ exper exper2 if marital == 7 & race == 4 & female == 0 \n"
   ]
  },
  {
   "cell_type": "code",
   "execution_count": 12,
   "metadata": {},
   "outputs": [
    {
     "name": "stdout",
     "output_type": "stream",
     "text": [
      "\n",
      "      Source |       SS           df       MS      Number of obs   =       268\n",
      "-------------+----------------------------------   F(1, 266)       =    144.23\n",
      "       Model |  47.6587946         1  47.6587946   Prob > F        =    0.0000\n",
      "    Residual |  87.8956834       266    .3304349   R-squared       =    0.3516\n",
      "-------------+----------------------------------   Adj R-squared   =    0.3491\n",
      "       Total |  135.554478       267  .507694674   Root MSE        =    .57483\n",
      "\n",
      "------------------------------------------------------------------------------\n",
      "    log_wage |      Coef.   Std. Err.      t    P>|t|     [95% Conf. Interval]\n",
      "-------------+----------------------------------------------------------------\n",
      "   education |   .1411497   .0117531    12.01   0.000     .1180089    .1642906\n",
      "       _cons |   .8584482   .1763195     4.87   0.000     .5112888    1.205608\n",
      "------------------------------------------------------------------------------\n"
     ]
    }
   ],
   "source": [
    "regress log_wage educ if marital == 7 & race == 4 & female == 0 "
   ]
  },
  {
   "cell_type": "markdown",
   "metadata": {},
   "source": [
    "The effect of education is smaller in the second equation because it is offset by a larger intercept. "
   ]
  },
  {
   "cell_type": "code",
   "execution_count": null,
   "metadata": {},
   "outputs": [],
   "source": []
  }
 ],
 "metadata": {
  "kernelspec": {
   "display_name": "Stata",
   "language": "stata",
   "name": "stata"
  },
  "language_info": {
   "codemirror_mode": "stata",
   "file_extension": ".do",
   "mimetype": "text/x-stata",
   "name": "stata",
   "version": "15.1"
  }
 },
 "nbformat": 4,
 "nbformat_minor": 2
}
