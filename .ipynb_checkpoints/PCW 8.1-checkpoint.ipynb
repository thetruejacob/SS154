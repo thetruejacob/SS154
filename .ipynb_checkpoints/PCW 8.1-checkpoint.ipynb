{
 "cells": [
  {
   "cell_type": "markdown",
   "metadata": {},
   "source": [
    "Using nels_small.dat (https://www.stata.com/data/s4poe4/nels_small.dta) replicate the multinomial logit example in Section 16.3.4 (p. 602, HGL). Obtain the findings in Table 16.3."
   ]
  },
  {
   "cell_type": "code",
   "execution_count": 1,
   "metadata": {},
   "outputs": [
    {
     "name": "stdout",
     "output_type": "stream",
     "text": [
      "\n",
      "\n",
      "\n",
      "\n",
      "    Variable |        Obs        Mean    Std. Dev.       Min        Max\n",
      "-------------+---------------------------------------------------------\n",
      "   psechoice |      1,000       2.305    .8103281          1          3\n",
      "      hscath |      1,000        .019     .136593          0          1\n",
      "      grades |      1,000     6.53039    2.265855       1.74      12.33\n",
      "      faminc |      1,000     51.3935    40.16579          0        250\n",
      "      famsiz |      1,000       4.206    1.291988          1         10\n",
      "-------------+---------------------------------------------------------\n",
      "     parcoll |      1,000        .308    .4618976          0          1\n",
      "      female |      1,000        .496    .5002342          0          1\n",
      "       black |      1,000        .056    .2300368          0          1\n"
     ]
    }
   ],
   "source": [
    "clear all\n",
    "use https://www.stata.com/data/s4poe4/nels_small.dta\n",
    "summ"
   ]
  },
  {
   "cell_type": "code",
   "execution_count": 2,
   "metadata": {},
   "outputs": [
    {
     "name": "stdout",
     "output_type": "stream",
     "text": [
      "\n",
      "Iteration 0:   log likelihood = -1018.6575  \n",
      "Iteration 1:   log likelihood = -881.68524  \n",
      "Iteration 2:   log likelihood = -875.36084  \n",
      "Iteration 3:   log likelihood = -875.31309  \n",
      "Iteration 4:   log likelihood = -875.31309  \n",
      "\n",
      "Multinomial logistic regression                 Number of obs     =      1,000\n",
      "                                                LR chi2(2)        =     286.69\n",
      "                                                Prob > chi2       =     0.0000\n",
      "Log likelihood = -875.31309                     Pseudo R2         =     0.1407\n",
      "\n",
      "------------------------------------------------------------------------------\n",
      "   psechoice |      Coef.   Std. Err.      z    P>|z|     [95% Conf. Interval]\n",
      "-------------+----------------------------------------------------------------\n",
      "1            |\n",
      "      grades |   .7061967   .0529246    13.34   0.000     .6024664     .809927\n",
      "       _cons |  -5.769876   .4043229   -14.27   0.000    -6.562334   -4.977417\n",
      "-------------+----------------------------------------------------------------\n",
      "2            |\n",
      "      grades |   .3974077   .0416925     9.53   0.000     .3156919    .4791236\n",
      "       _cons |  -3.263454   .2875495   -11.35   0.000    -3.827041   -2.699868\n",
      "-------------+----------------------------------------------------------------\n",
      "3            |  (base outcome)\n",
      "------------------------------------------------------------------------------\n"
     ]
    }
   ],
   "source": [
    "mlogit psechoice grades"
   ]
  },
  {
   "cell_type": "code",
   "execution_count": null,
   "metadata": {},
   "outputs": [],
   "source": [
    "margins, dydx(grades) \\\\ at(grades = 6.64)"
   ]
  },
  {
   "cell_type": "code",
   "execution_count": null,
   "metadata": {},
   "outputs": [
    {
     "name": "stdout",
     "output_type": "stream",
     "text": [
      ". cap log close stata_kernel_log\n"
     ]
    }
   ],
   "source": [
    "margins, dydx(grades) at(grades = 2.635)"
   ]
  },
  {
   "cell_type": "markdown",
   "metadata": {},
   "source": [
    "Using cola.dat (https://www.stata.com/data/s4poe4/cola.dta) replicate the conditional logit example in Section 16.4.3 (p. 606, HGL). Obtain the findings in Tables 16.4a and 16.4b."
   ]
  },
  {
   "cell_type": "code",
   "execution_count": 5,
   "metadata": {},
   "outputs": [],
   "source": [
    "// look within choice, create a column for if its the 1st, 2nd or 3rd"
   ]
  },
  {
   "cell_type": "code",
   "execution_count": 3,
   "metadata": {},
   "outputs": [
    {
     "name": "stdout",
     "output_type": "stream",
     "text": [
      "\n",
      "\n",
      "\n",
      "\n",
      "\n",
      "     +-----------------------------------------------+\n",
      "     | id   choice   price   feature   display   seq |\n",
      "     |-----------------------------------------------|\n",
      "  1. |  1        0    1.79         0         0     1 |\n",
      "  2. |  1        0    1.79         0         0     2 |\n",
      "  3. |  1        1    1.79         0         0     3 |\n",
      "  4. |  2        0    1.79         0         0     1 |\n",
      "  5. |  2        0    1.79         0         0     2 |\n",
      "     |-----------------------------------------------|\n",
      "  6. |  2        1     .89         1         1     3 |\n",
      "  7. |  3        0    1.41         0         0     1 |\n",
      "  8. |  3        0     .84         0         1     2 |\n",
      "  9. |  3        1     .89         1         0     3 |\n",
      " 10. |  4        0    1.79         0         0     1 |\n",
      "     |-----------------------------------------------|\n",
      " 11. |  4        0    1.79         0         0     2 |\n",
      " 12. |  4        1    1.33         1         0     3 |\n",
      " 13. |  5        0    1.79         0         0     1 |\n",
      " 14. |  5        0    1.79         0         0     2 |\n",
      " 15. |  5        1    1.79         0         0     3 |\n",
      "     +-----------------------------------------------+\n"
     ]
    }
   ],
   "source": [
    "clear all\n",
    "use https://www.stata.com/data/s4poe4/cola.dta\n",
    "gen seq = mod(_n-1,3) + 1\n",
    "\n",
    "list in 1/15"
   ]
  },
  {
   "cell_type": "code",
   "execution_count": 4,
   "metadata": {},
   "outputs": [
    {
     "name": "stdout",
     "output_type": "stream",
     "text": [
      "\n",
      "Iteration 0:   log likelihood = -1844.9847  \n",
      "Iteration 1:   log likelihood = -1824.8495  \n",
      "Iteration 2:   log likelihood = -1824.8196  \n",
      "Iteration 3:   log likelihood = -1824.8196  \n",
      "\n",
      "Conditional (fixed-effects) logistic regression\n",
      "\n",
      "                                                Number of obs     =      5,466\n",
      "                                                LR chi2(2)        =     353.70\n",
      "                                                Prob > chi2       =     0.0000\n",
      "Log likelihood = -1824.8196                     Pseudo R2         =     0.0884\n",
      "\n",
      "------------------------------------------------------------------------------\n",
      "      choice |      Coef.   Std. Err.      z    P>|z|     [95% Conf. Interval]\n",
      "-------------+----------------------------------------------------------------\n",
      "         seq |  -.1426392   .0313142    -4.56   0.000    -.2040139   -.0812645\n",
      "       price |  -2.272935   .1335028   -17.03   0.000    -2.534596   -2.011275\n",
      "------------------------------------------------------------------------------\n"
     ]
    }
   ],
   "source": [
    "clogit choice seq price, group(id) "
   ]
  },
  {
   "cell_type": "code",
   "execution_count": null,
   "metadata": {},
   "outputs": [],
   "source": []
  }
 ],
 "metadata": {
  "kernelspec": {
   "display_name": "Stata",
   "language": "stata",
   "name": "stata"
  },
  "language_info": {
   "codemirror_mode": "stata",
   "file_extension": ".do",
   "mimetype": "text/x-stata",
   "name": "stata",
   "version": "15.1"
  }
 },
 "nbformat": 4,
 "nbformat_minor": 2
}
