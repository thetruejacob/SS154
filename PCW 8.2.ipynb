{
 "cells": [
  {
   "cell_type": "markdown",
   "metadata": {},
   "source": [
    "Using nels_small.dat (https://www.stata.com/data/s4poe4/nels_small.dta) replicate the ordered probit example in Section 16.5.1 (p. 607, HGL). Obtain the findings in Table 16.5. Interpret the coefficient (use margins) and explain the meanings of mu1 and mu2. Make sure to include your code (or the .do file) in the preclass work."
   ]
  },
  {
   "cell_type": "code",
   "execution_count": 1,
   "metadata": {},
   "outputs": [],
   "source": [
    "clear all\n",
    "use https://www.stata.com/data/s4poe4/nels_small.dta"
   ]
  },
  {
   "cell_type": "code",
   "execution_count": 2,
   "metadata": {},
   "outputs": [
    {
     "name": "stdout",
     "output_type": "stream",
     "text": [
      "\n",
      "    Variable |        Obs        Mean    Std. Dev.       Min        Max\n",
      "-------------+---------------------------------------------------------\n",
      "   psechoice |      1,000       2.305    .8103281          1          3\n",
      "      hscath |      1,000        .019     .136593          0          1\n",
      "      grades |      1,000     6.53039    2.265855       1.74      12.33\n",
      "      faminc |      1,000     51.3935    40.16579          0        250\n",
      "      famsiz |      1,000       4.206    1.291988          1         10\n",
      "-------------+---------------------------------------------------------\n",
      "     parcoll |      1,000        .308    .4618976          0          1\n",
      "      female |      1,000        .496    .5002342          0          1\n",
      "       black |      1,000        .056    .2300368          0          1\n"
     ]
    }
   ],
   "source": [
    "summ"
   ]
  },
  {
   "cell_type": "code",
   "execution_count": 3,
   "metadata": {},
   "outputs": [
    {
     "name": "stdout",
     "output_type": "stream",
     "text": [
      "\n",
      "Iteration 0:   log likelihood = -1018.6575  \n",
      "Iteration 1:   log likelihood = -876.21962  \n",
      "Iteration 2:   log likelihood = -875.82172  \n",
      "Iteration 3:   log likelihood = -875.82172  \n",
      "\n",
      "Ordered probit regression                       Number of obs     =      1,000\n",
      "                                                LR chi2(1)        =     285.67\n",
      "                                                Prob > chi2       =     0.0000\n",
      "Log likelihood = -875.82172                     Pseudo R2         =     0.1402\n",
      "\n",
      "------------------------------------------------------------------------------\n",
      "   psechoice |      Coef.   Std. Err.      z    P>|z|     [95% Conf. Interval]\n",
      "-------------+----------------------------------------------------------------\n",
      "      grades |  -.3066252   .0191735   -15.99   0.000    -.3442045   -.2690459\n",
      "-------------+----------------------------------------------------------------\n",
      "       /cut1 |    -2.9456   .1468283                     -3.233378   -2.657822\n",
      "       /cut2 |  -2.089993   .1357681                     -2.356094   -1.823893\n",
      "------------------------------------------------------------------------------\n"
     ]
    }
   ],
   "source": [
    "oprobit psechoice grades"
   ]
  },
  {
   "cell_type": "markdown",
   "metadata": {},
   "source": [
    "Here, cut1 and cut2 refer to $\\mu_1$ and $\\mu_2$. These are the cutoffs for getting to a 2-year college (when $\\mu_1 < y_i^* \\leq \\mu_2$) and a 4-year college respectively (if $y_i^* > \\mu_2$). We can also represent these as probabilities, where $$ \\begin{align*} P(y=1) &= \\Phi(\\mu_1 - \\beta \\textit{GRADEs})\\\\\n",
    "P(y=2) &= \\Phi(\\mu_2 - \\beta \\textit{GRADES}_i) - \\Phi(\\mu_1 - \\beta \\textit{GRADES}_i)\\\\\n",
    "P(y=3) &= 1 - \\Phi(\\mu_2- \\textit{GRADES}_i)\n",
    "\\end{align*}$$"
   ]
  },
  {
   "cell_type": "code",
   "execution_count": 11,
   "metadata": {},
   "outputs": [
    {
     "name": "stdout",
     "output_type": "stream",
     "text": [
      "\n",
      "Conditional marginal effects                    Number of obs     =      1,000\n",
      "Model VCE    : OIM\n",
      "\n",
      "dy/dx w.r.t. : grades\n",
      "1._predict   : Pr(psechoice==1), predict(pr outcome(1))\n",
      "2._predict   : Pr(psechoice==2), predict(pr outcome(2))\n",
      "3._predict   : Pr(psechoice==3), predict(pr outcome(3))\n",
      "at           : grades          =        6.64\n",
      "\n",
      "------------------------------------------------------------------------------\n",
      "             |            Delta-method\n",
      "             |      dy/dx   Std. Err.      z    P>|z|     [95% Conf. Interval]\n",
      "-------------+----------------------------------------------------------------\n",
      "grades       |\n",
      "    _predict |\n",
      "          1  |   .0808822   .0054974    14.71   0.000     .0701075     .091657\n",
      "          2  |   .0412653   .0048215     8.56   0.000     .0318153    .0507153\n",
      "          3  |  -.1221475   .0076332   -16.00   0.000    -.1371084   -.1071867\n",
      "------------------------------------------------------------------------------\n"
     ]
    }
   ],
   "source": [
    "margins, dydx(grades) at (grades = 6.64)"
   ]
  },
  {
   "cell_type": "code",
   "execution_count": 12,
   "metadata": {},
   "outputs": [
    {
     "name": "stdout",
     "output_type": "stream",
     "text": [
      "\n",
      "Conditional marginal effects                    Number of obs     =      1,000\n",
      "Model VCE    : OIM\n",
      "\n",
      "dy/dx w.r.t. : grades\n",
      "1._predict   : Pr(psechoice==1), predict(pr outcome(1))\n",
      "2._predict   : Pr(psechoice==2), predict(pr outcome(2))\n",
      "3._predict   : Pr(psechoice==3), predict(pr outcome(3))\n",
      "at           : grades          =       2.635\n",
      "\n",
      "------------------------------------------------------------------------------\n",
      "             |            Delta-method\n",
      "             |      dy/dx   Std. Err.      z    P>|z|     [95% Conf. Interval]\n",
      "-------------+----------------------------------------------------------------\n",
      "grades       |\n",
      "    _predict |\n",
      "          1  |   .0124526   .0020241     6.15   0.000     .0084854    .0164198\n",
      "          2  |   .0413262   .0026497    15.60   0.000     .0361329    .0465195\n",
      "          3  |  -.0537788   .0035887   -14.99   0.000    -.0608126    -.046745\n",
      "------------------------------------------------------------------------------\n"
     ]
    }
   ],
   "source": [
    "margins, dydx(grades) at(grades = 2.635)"
   ]
  },
  {
   "cell_type": "markdown",
   "metadata": {},
   "source": [
    "Write a one paragraph summary of the findings in Table 2 of Clark and Oswald (1994)."
   ]
  },
  {
   "cell_type": "markdown",
   "metadata": {},
   "source": [
    "Being unemployed is bad for your mental health. Being self-employed is also bad, but less bad. Being older is bad for your mental health. Being male is better. Being in good health is good. Being separated or divorced is bad. Having one child is bad, and more is probably worse."
   ]
  },
  {
   "cell_type": "code",
   "execution_count": null,
   "metadata": {},
   "outputs": [],
   "source": []
  },
  {
   "cell_type": "code",
   "execution_count": 1,
   "metadata": {},
   "outputs": [
    {
     "name": "stdout",
     "output_type": "stream",
     "text": [
      "\n",
      "\n",
      "\n",
      "\n",
      "Ordered probit regression                       Number of obs     =      1,000\n",
      "                                                LR chi2(5)        =     357.59\n",
      "                                                Prob > chi2       =     0.0000\n",
      "Log likelihood = -839.86473                     Pseudo R2         =     0.1755\n",
      "\n",
      "------------------------------------------------------------------------------\n",
      "   psechoice |      Coef.   Std. Err.      z    P>|z|     [95% Conf. Interval]\n",
      "-------------+----------------------------------------------------------------\n",
      "      grades |  -.2952923   .0202251   -14.60   0.000    -.3349328   -.2556518\n",
      "      faminc |   .0052525    .001322     3.97   0.000     .0026615    .0078435\n",
      "      famsiz |  -.0241215   .0301846    -0.80   0.424    -.0832822    .0350391\n",
      "     1.black |   .7131312   .1767871     4.03   0.000     .3666348    1.059628\n",
      "   1.parcoll |   .4236226   .1016424     4.17   0.000     .2244071    .6228381\n",
      "-------------+----------------------------------------------------------------\n",
      "       /cut1 |  -2.595845   .2045863                     -2.996827   -2.194864\n",
      "       /cut2 |  -1.694591   .1971365                     -2.080971    -1.30821\n",
      "------------------------------------------------------------------------------\n"
     ]
    }
   ],
   "source": [
    "clear all\n",
    "use https://www.stata.com/data/s4poe4/nels_small.dta\n",
    "oprobit psechoice grades faminc famsiz i.black i.parcoll, nolog"
   ]
  },
  {
   "cell_type": "code",
   "execution_count": 4,
   "metadata": {},
   "outputs": [
    {
     "name": "stdout",
     "output_type": "stream",
     "text": [
      "\n",
      "Conditional marginal effects                    Number of obs     =      1,000\n",
      "Model VCE    : OIM\n",
      "\n",
      "dy/dx w.r.t. : grades faminc famsiz 1.black 1.parcoll\n",
      "1._predict   : Pr(psechoice==1), predict(pr outcome(1))\n",
      "2._predict   : Pr(psechoice==2), predict(pr outcome(2))\n",
      "3._predict   : Pr(psechoice==3), predict(pr outcome(3))\n",
      "at           : grades          =     6.53039 (mean)\n",
      "               faminc          =     51.3935 (mean)\n",
      "               famsiz          =       4.206 (mean)\n",
      "               0.black         =        .944 (mean)\n",
      "               1.black         =        .056 (mean)\n",
      "               0.parcoll       =        .692 (mean)\n",
      "               1.parcoll       =        .308 (mean)\n",
      "\n",
      "------------------------------------------------------------------------------\n",
      "             |            Delta-method\n",
      "             |      dy/dx   Std. Err.      z    P>|z|     [95% Conf. Interval]\n",
      "-------------+----------------------------------------------------------------\n",
      "grades       |\n",
      "    _predict |\n",
      "          1  |   .0709968   .0052913    13.42   0.000     .0606261    .0813676\n",
      "          2  |   .0461587   .0053038     8.70   0.000     .0357634    .0565541\n",
      "          3  |  -.1171555   .0079975   -14.65   0.000    -.1328304   -.1014807\n",
      "-------------+----------------------------------------------------------------\n",
      "faminc       |\n",
      "    _predict |\n",
      "          1  |  -.0012629   .0003178    -3.97   0.000    -.0018857     -.00064\n",
      "          2  |   -.000821   .0002217    -3.70   0.000    -.0012556   -.0003865\n",
      "          3  |   .0020839   .0005239     3.98   0.000     .0010572    .0031106\n",
      "-------------+----------------------------------------------------------------\n",
      "famsiz       |\n",
      "    _predict |\n",
      "          1  |   .0057995   .0072572     0.80   0.424    -.0084243    .0200234\n",
      "          2  |   .0037706   .0047328     0.80   0.426    -.0055056    .0130467\n",
      "          3  |  -.0095701   .0119751    -0.80   0.424    -.0330408    .0139007\n",
      "-------------+----------------------------------------------------------------\n",
      "0.black      |  (base outcome)\n",
      "-------------+----------------------------------------------------------------\n",
      "1.black      |\n",
      "    _predict |\n",
      "          1  |  -.1203922    .019796    -6.08   0.000    -.1591916   -.0815928\n",
      "          2  |  -.1354302   .0355556    -3.81   0.000    -.2051179   -.0657425\n",
      "          3  |   .2558224   .0531775     4.81   0.000     .1515965    .3600483\n",
      "-------------+----------------------------------------------------------------\n",
      "0.parcoll    |  (base outcome)\n",
      "-------------+----------------------------------------------------------------\n",
      "1.parcoll    |\n",
      "    _predict |\n",
      "          1  |  -.0936603   .0207762    -4.51   0.000     -.134381   -.0529396\n",
      "          2  |  -.0712375    .018848    -3.78   0.000    -.1081788   -.0342961\n",
      "          3  |   .1648977   .0383801     4.30   0.000     .0896742    .2401213\n",
      "------------------------------------------------------------------------------\n",
      "Note: dy/dx for factor levels is the discrete change from the base level.\n"
     ]
    }
   ],
   "source": [
    "margins, dydx(grades faminc famsiz i.black i.parcoll) atmeans"
   ]
  },
  {
   "cell_type": "code",
   "execution_count": null,
   "metadata": {},
   "outputs": [],
   "source": [
    "margins, predict(outcome(3)) at (grades = 6.64 faminc = 52 black = 1 famsiz = 4 parcoll = 1)"
   ]
  },
  {
   "cell_type": "code",
   "execution_count": null,
   "metadata": {},
   "outputs": [],
   "source": []
  }
 ],
 "metadata": {
  "kernelspec": {
   "display_name": "Stata",
   "language": "stata",
   "name": "stata"
  },
  "language_info": {
   "codemirror_mode": "stata",
   "file_extension": ".do",
   "mimetype": "text/x-stata",
   "name": "stata",
   "version": "15.1"
  }
 },
 "nbformat": 4,
 "nbformat_minor": 2
}
