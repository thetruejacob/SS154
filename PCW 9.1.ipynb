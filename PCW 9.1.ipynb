{
 "cells": [
  {
   "cell_type": "markdown",
   "metadata": {},
   "source": [
    "\n",
    "Based on Berk and MacDonald (2008), write a one paragraph summary about why switching to another count data model (i.e., negative binomial) from the Poisson might not *necessarily* be a solution to \"overdispersion\"."
   ]
  },
  {
   "cell_type": "markdown",
   "metadata": {},
   "source": [
    "There are 4 reasons for excess variance around the conditional expectations of a Poisson regression:\n",
    "1. Omitted variables (systematic, analysis must be re-run with variables included)\n",
    "2. Misspecification (systematic, analysis must be re-run)\n",
    "3. Stochastic (random variations in) conditional expectations (use negative binomial)\n",
    "4. Dependence between events that constitute each count (use negative binomial) "
   ]
  },
  {
   "cell_type": "markdown",
   "metadata": {},
   "source": [
    "Using olympics.dat (https://www.stata.com/data/s4poe4/olympics.dta) replicate the Poisson regression model in Section 16.6.3 (p. 613, HGL). Obtain the findings in Table 16.6 and estimated means described in the text. The country code for the UK is 195. Comment on whether Poisson distribution is a good fit for the question at hand. Make sure to browse through the additional resources above.\n"
   ]
  },
  {
   "cell_type": "code",
   "execution_count": 1,
   "metadata": {},
   "outputs": [
    {
     "name": "stdout",
     "output_type": "stream",
     "text": [
      "\n",
      "\n",
      "\n",
      "(11 missing values generated)\n",
      "\n"
     ]
    }
   ],
   "source": [
    "clear all\n",
    "use https://www.stata.com/data/s4poe4/olympics.dta\n",
    "gen lnpop = ln(pop)\n",
    "gen lngdp = ln(gdp)"
   ]
  },
  {
   "cell_type": "code",
   "execution_count": 2,
   "metadata": {},
   "outputs": [
    {
     "name": "stdout",
     "output_type": "stream",
     "text": [
      "\n",
      "Iteration 0:   log likelihood = -5347.7026  \n",
      "Iteration 1:   log likelihood = -5343.1011  \n",
      "Iteration 2:   log likelihood = -5343.0965  \n",
      "Iteration 3:   log likelihood = -5343.0965  \n",
      "\n",
      "Poisson regression                              Number of obs     =      1,254\n",
      "                                                LR chi2(2)        =   14716.18\n",
      "                                                Prob > chi2       =     0.0000\n",
      "Log likelihood = -5343.0965                     Pseudo R2         =     0.5793\n",
      "\n",
      "------------------------------------------------------------------------------\n",
      "    medaltot |      Coef.   Std. Err.      z    P>|z|     [95% Conf. Interval]\n",
      "-------------+----------------------------------------------------------------\n",
      "       lnpop |    .207963   .0117884    17.64   0.000     .1848582    .2310678\n",
      "       lngdp |   .5700857   .0086935    65.58   0.000     .5530467    .5871247\n",
      "       _cons |  -16.07668   .1732177   -92.81   0.000    -16.41618   -15.73718\n",
      "------------------------------------------------------------------------------\n"
     ]
    }
   ],
   "source": [
    "poisson medaltot lnpop lngdp"
   ]
  },
  {
   "cell_type": "code",
   "execution_count": 3,
   "metadata": {},
   "outputs": [
    {
     "name": "stdout",
     "output_type": "stream",
     "text": [
      "\n",
      "15.594062\n",
      "\n",
      "20.127245\n"
     ]
    }
   ],
   "source": [
    "di ln(5921270)\n",
    "di ln(551000000)"
   ]
  },
  {
   "cell_type": "code",
   "execution_count": 4,
   "metadata": {},
   "outputs": [
    {
     "name": "stdout",
     "output_type": "stream",
     "text": [
      "\n",
      "---------------------------------------------------------------------------------------------------------------------------------------------------------------------------------------------------------------------------------------------------------------\n",
      "     Dependent variable: medaltot     Equation: medaltot     Command: poisson\n",
      "   Variables left as is: lnpop, lngdp\n",
      "---------------------------------------------------------------------------------------------------------------------------------------------------------------------------------------------------------------------------------------------------------------\n",
      "\n",
      "----------------------\n",
      "      All |         xb\n",
      "----------+-----------\n",
      "          |    .088724\n",
      "----------------------\n",
      "     Key:  xb  =  Linear Prediction\n"
     ]
    }
   ],
   "source": [
    "adjust "
   ]
  },
  {
   "cell_type": "code",
   "execution_count": 5,
   "metadata": {},
   "outputs": [
    {
     "name": "stdout",
     "output_type": "stream",
     "text": [
      "\n",
      "Conditional marginal effects                    Number of obs     =      1,254\n",
      "Model VCE    : OIM\n",
      "\n",
      "Expression   : Predicted number of events, predict()\n",
      "dy/dx w.r.t. : lnpop lngdp\n",
      "at           : lnpop           =    15.59406\n",
      "               lngdp           =    20.12724\n",
      "\n",
      "------------------------------------------------------------------------------\n",
      "             |            Delta-method\n",
      "             |      dy/dx   Std. Err.      z    P>|z|     [95% Conf. Interval]\n",
      "-------------+----------------------------------------------------------------\n",
      "       lnpop |   .0534058   .0043914    12.16   0.000     .0447989    .0620127\n",
      "       lngdp |   .1464006   .0047097    31.09   0.000     .1371698    .1556313\n",
      "------------------------------------------------------------------------------\n"
     ]
    }
   ],
   "source": [
    "margins, dydx(lnpop lngdp) at(lnpop = 15.594062 lngdp = 20.127245)"
   ]
  },
  {
   "cell_type": "code",
   "execution_count": 7,
   "metadata": {},
   "outputs": [
    {
     "name": "stdout",
     "output_type": "stream",
     "text": [
      "\n",
      "Negative binomial regression                    Number of obs     =      1,254\n",
      "                                                LR chi2(2)        =     611.26\n",
      "Dispersion     = mean                           Prob > chi2       =     0.0000\n",
      "Log likelihood = -2107.6197                     Pseudo R2         =     0.1266\n",
      "\n",
      "------------------------------------------------------------------------------\n",
      "    medaltot |      Coef.   Std. Err.      z    P>|z|     [95% Conf. Interval]\n",
      "-------------+----------------------------------------------------------------\n",
      "       lnpop |   .1880582   .0537466     3.50   0.000     .0827167    .2933996\n",
      "       lngdp |   .6550303   .0420695    15.57   0.000     .5725757     .737485\n",
      "       _cons |  -17.84779   .7560175   -23.61   0.000    -19.32955   -16.36602\n",
      "-------------+----------------------------------------------------------------\n",
      "    /lnalpha |   1.076266   .0655475                      .9477949    1.204736\n",
      "-------------+----------------------------------------------------------------\n",
      "       alpha |   2.933704   .1922969                      2.580014     3.33588\n",
      "------------------------------------------------------------------------------\n",
      "LR test of alpha=0: chibar2(01) = 6470.95              Prob >= chibar2 = 0.000\n"
     ]
    }
   ],
   "source": [
    "nbreg medaltot lnpop lngdp, nolog"
   ]
  },
  {
   "cell_type": "markdown",
   "metadata": {},
   "source": [
    "The Poisson model is not a good fit, because the likelihood ratio test was significant."
   ]
  },
  {
   "cell_type": "code",
   "execution_count": null,
   "metadata": {},
   "outputs": [],
   "source": []
  }
 ],
 "metadata": {
  "kernelspec": {
   "display_name": "Stata",
   "language": "stata",
   "name": "stata"
  },
  "language_info": {
   "codemirror_mode": "stata",
   "file_extension": ".do",
   "mimetype": "text/x-stata",
   "name": "stata",
   "version": "15.1"
  }
 },
 "nbformat": 4,
 "nbformat_minor": 2
}
