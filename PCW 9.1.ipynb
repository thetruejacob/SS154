{
 "cells": [
  {
   "cell_type": "markdown",
   "metadata": {},
   "source": [
    "\n",
    "Based on Berk and MacDonald (2008), write a one paragraph summary about why switching to another count data model (i.e., negative binomial) from the Poisson might not *necessarily* be a solution to \"overdispersion\"."
   ]
  },
  {
   "cell_type": "markdown",
   "metadata": {},
   "source": [
    "There are 4 reasons for excess variance around the conditional expectations of a Poisson regression:\n",
    "1. Omitted variables (systematic, analysis must be re-run with variables included)\n",
    "2. Misspecification (systematic, analysis must be re-run)\n",
    "3. Stochastic (random variations in) conditional expectations (use negative binomial)\n",
    "4. Dependence between events that constitute each count (use negative binomial) "
   ]
  },
  {
   "cell_type": "markdown",
   "metadata": {},
   "source": [
    "Using olympics.dat (https://www.stata.com/data/s4poe4/olympics.dta) replicate the Poisson regression model in Section 16.6.3 (p. 613, HGL). Obtain the findings in Table 16.6 and estimated means described in the text. The country code for the UK is 195. Comment on whether Poisson distribution is a good fit for the question at hand. Make sure to browse through the additional resources above.\n"
   ]
  },
  {
   "cell_type": "code",
   "execution_count": 1,
   "metadata": {},
   "outputs": [
    {
     "name": "stdout",
     "output_type": "stream",
     "text": [
      "\n",
      "\n",
      "\n",
      "(11 missing values generated)\n",
      "\n"
     ]
    }
   ],
   "source": [
    "clear all\n",
    "use https://www.stata.com/data/s4poe4/olympics.dta\n",
    "gen lnpop = ln(pop)\n",
    "gen lngdp = ln(gdp)"
   ]
  },
  {
   "cell_type": "code",
   "execution_count": 2,
   "metadata": {},
   "outputs": [
    {
     "name": "stdout",
     "output_type": "stream",
     "text": [
      "\n",
      "Iteration 0:   log likelihood = -5347.7026  \n",
      "Iteration 1:   log likelihood = -5343.1011  \n",
      "Iteration 2:   log likelihood = -5343.0965  \n",
      "Iteration 3:   log likelihood = -5343.0965  \n",
      "\n",
      "Poisson regression                              Number of obs     =      1,254\n",
      "                                                LR chi2(2)        =   14716.18\n",
      "                                                Prob > chi2       =     0.0000\n",
      "Log likelihood = -5343.0965                     Pseudo R2         =     0.5793\n",
      "\n",
      "------------------------------------------------------------------------------\n",
      "    medaltot |      Coef.   Std. Err.      z    P>|z|     [95% Conf. Interval]\n",
      "-------------+----------------------------------------------------------------\n",
      "       lnpop |    .207963   .0117884    17.64   0.000     .1848582    .2310678\n",
      "       lngdp |   .5700857   .0086935    65.58   0.000     .5530467    .5871247\n",
      "       _cons |  -16.07668   .1732177   -92.81   0.000    -16.41618   -15.73718\n",
      "------------------------------------------------------------------------------\n"
     ]
    }
   ],
   "source": [
    "poisson medaltot lnpop lngdp"
   ]
  },
  {
   "cell_type": "code",
   "execution_count": 3,
   "metadata": {},
   "outputs": [
    {
     "name": "stdout",
     "output_type": "stream",
     "text": [
      "\n",
      "15.594062\n",
      "\n",
      "20.127245\n"
     ]
    }
   ],
   "source": [
    "di ln(5921270)\n",
    "di ln(551000000)"
   ]
  },
  {
   "cell_type": "code",
   "execution_count": 4,
   "metadata": {},
   "outputs": [
    {
     "name": "stdout",
     "output_type": "stream",
     "text": [
      "\n",
      "---------------------------------------------------------------------------------------------------------------------------------------------------------------------------------------------------------------------------------------------------------------\n",
      "     Dependent variable: medaltot     Equation: medaltot     Command: poisson\n",
      "   Variables left as is: lnpop, lngdp\n",
      "---------------------------------------------------------------------------------------------------------------------------------------------------------------------------------------------------------------------------------------------------------------\n",
      "\n",
      "----------------------\n",
      "      All |         xb\n",
      "----------+-----------\n",
      "          |    .088724\n",
      "----------------------\n",
      "     Key:  xb  =  Linear Prediction\n"
     ]
    }
   ],
   "source": [
    "adjust "
   ]
  },
  {
   "cell_type": "code",
   "execution_count": 5,
   "metadata": {},
   "outputs": [
    {
     "name": "stdout",
     "output_type": "stream",
     "text": [
      "\n",
      "Conditional marginal effects                    Number of obs     =      1,254\n",
      "Model VCE    : OIM\n",
      "\n",
      "Expression   : Predicted number of events, predict()\n",
      "dy/dx w.r.t. : lnpop lngdp\n",
      "at           : lnpop           =    15.59406\n",
      "               lngdp           =    20.12724\n",
      "\n",
      "------------------------------------------------------------------------------\n",
      "             |            Delta-method\n",
      "             |      dy/dx   Std. Err.      z    P>|z|     [95% Conf. Interval]\n",
      "-------------+----------------------------------------------------------------\n",
      "       lnpop |   .0534058   .0043914    12.16   0.000     .0447989    .0620127\n",
      "       lngdp |   .1464006   .0047097    31.09   0.000     .1371698    .1556313\n",
      "------------------------------------------------------------------------------\n"
     ]
    }
   ],
   "source": [
    "margins, dydx(lnpop lngdp) at(lnpop = 15.594062 lngdp = 20.127245)"
   ]
  },
  {
   "cell_type": "code",
   "execution_count": 7,
   "metadata": {},
   "outputs": [
    {
     "name": "stdout",
     "output_type": "stream",
     "text": [
      "\n",
      "Negative binomial regression                    Number of obs     =      1,254\n",
      "                                                LR chi2(2)        =     611.26\n",
      "Dispersion     = mean                           Prob > chi2       =     0.0000\n",
      "Log likelihood = -2107.6197                     Pseudo R2         =     0.1266\n",
      "\n",
      "------------------------------------------------------------------------------\n",
      "    medaltot |      Coef.   Std. Err.      z    P>|z|     [95% Conf. Interval]\n",
      "-------------+----------------------------------------------------------------\n",
      "       lnpop |   .1880582   .0537466     3.50   0.000     .0827167    .2933996\n",
      "       lngdp |   .6550303   .0420695    15.57   0.000     .5725757     .737485\n",
      "       _cons |  -17.84779   .7560175   -23.61   0.000    -19.32955   -16.36602\n",
      "-------------+----------------------------------------------------------------\n",
      "    /lnalpha |   1.076266   .0655475                      .9477949    1.204736\n",
      "-------------+----------------------------------------------------------------\n",
      "       alpha |   2.933704   .1922969                      2.580014     3.33588\n",
      "------------------------------------------------------------------------------\n",
      "LR test of alpha=0: chibar2(01) = 6470.95              Prob >= chibar2 = 0.000\n"
     ]
    }
   ],
   "source": [
    "nbreg medaltot lnpop lngdp, nolog"
   ]
  },
  {
   "cell_type": "markdown",
   "metadata": {},
   "source": [
    "The Poisson model is not a good fit, because the likelihood ratio test was significant."
   ]
  },
  {
   "cell_type": "code",
   "execution_count": 1,
   "metadata": {},
   "outputs": [
    {
     "name": "stdout",
     "output_type": "stream",
     "text": [
      "\n",
      "\n",
      "\n",
      "(11 missing values generated)\n",
      "\n"
     ]
    }
   ],
   "source": [
    "clear all\n",
    "use https://www.stata.com/data/s4poe4/olympics.dta\n",
    "gen lnpop = ln(pop)\n",
    "gen lngdp = ln(gdp)"
   ]
  },
  {
   "cell_type": "code",
   "execution_count": 2,
   "metadata": {},
   "outputs": [
    {
     "name": "stdout",
     "output_type": "stream",
     "text": [
      "\n",
      "    Variable |        Obs        Mean    Std. Dev.       Min        Max\n",
      "-------------+---------------------------------------------------------\n",
      "     country |      1,610    106.3528    58.96456          1        211\n",
      "        year |      1,610    79.58509    11.52345         60         96\n",
      "         gdp |      1,610    1.17e+11    5.09e+11   3.91e+07   7.28e+12\n",
      "         pop |      1,599    2.68e+07    9.73e+07   14960.41   1.22e+09\n",
      "        gold |      1,259    1.657665    6.344098          0         83\n",
      "-------------+---------------------------------------------------------\n",
      "      silver |      1,259    1.648928    5.281189          0         69\n",
      "      bronze |      1,258    1.800477     5.03377          0         46\n",
      "    medaltot |      1,259    5.105639    16.18698          0        195\n",
      "        host |      1,610    .0062112    .0785903          0          1\n",
      "     planned |      1,610    .0192547    .1374615          0          1\n",
      "-------------+---------------------------------------------------------\n",
      "      soviet |      1,610    .0416149    .1997696          0          1\n",
      "       lnpop |      1,599    15.27283    2.095516   9.613163   20.92212\n",
      "       lngdp |      1,610    22.76653    2.354362   17.48163   29.61615\n"
     ]
    }
   ],
   "source": [
    "summ"
   ]
  },
  {
   "cell_type": "code",
   "execution_count": 12,
   "metadata": {},
   "outputs": [
    {
     "name": "stdout",
     "output_type": "stream",
     "text": [
      "\n",
      "Iteration 0:   log likelihood = -9952.9206  \n",
      "Iteration 1:   log likelihood = -2118.0859  (backed up)\n",
      "Iteration 2:   log likelihood = -1118.5725  \n",
      "Iteration 3:   log likelihood =  -1087.113  \n",
      "Iteration 4:   log likelihood = -1086.1405  \n",
      "Iteration 5:   log likelihood = -1086.1382  \n",
      "Iteration 6:   log likelihood = -1086.1382  \n",
      "\n",
      "Poisson regression                              Number of obs     =        357\n",
      "                                                LR chi2(4)        =    4162.83\n",
      "                                                Prob > chi2       =     0.0000\n",
      "Log likelihood = -1086.1382                     Pseudo R2         =     0.6571\n",
      "\n",
      "------------------------------------------------------------------------------\n",
      "    medaltot |      Coef.   Std. Err.      z    P>|z|     [95% Conf. Interval]\n",
      "-------------+----------------------------------------------------------------\n",
      "       lnpop |   .1521344   .0222411     6.84   0.000     .1085426    .1957263\n",
      "       lngdp |   .5640386   .0171151    32.96   0.000     .5304936    .5975835\n",
      "    1.soviet |   2.083646   .0839005    24.83   0.000     1.919205    2.248088\n",
      "      1.host |   .1610607   .1005472     1.60   0.109    -.0360083    .3581296\n",
      "       _cons |  -15.16299   .3474621   -43.64   0.000      -15.844   -14.48198\n",
      "------------------------------------------------------------------------------\n"
     ]
    }
   ],
   "source": [
    "poisson medaltot lnpop lngdp i.soviet i.host if year >= 92"
   ]
  },
  {
   "cell_type": "code",
   "execution_count": 7,
   "metadata": {},
   "outputs": [
    {
     "name": "stdout",
     "output_type": "stream",
     "text": [
      "\n",
      "Poisson regression                              Number of obs     =        357\n",
      "                                                LR chi2(4)        =    3804.32\n",
      "                                                Prob > chi2       =     0.0000\n",
      "Log likelihood = -1265.3901                     Pseudo R2         =     0.6005\n",
      "\n",
      "------------------------------------------------------------------------------\n",
      "    medaltot |      Coef.   Std. Err.      z    P>|z|     [95% Conf. Interval]\n",
      "-------------+----------------------------------------------------------------\n",
      "       lnpop |   .1397755   .0244232     5.72   0.000      .091907    .1876441\n",
      "       lngdp |   .5625461   .0174452    32.25   0.000     .5283541    .5967381\n",
      "   1.planned |   .6236019   .1184734     5.26   0.000     .3913984    .8558054\n",
      "      1.host |   .1195092   .1005053     1.19   0.234    -.0774775    .3164959\n",
      "       _cons |  -14.84163   .3437894   -43.17   0.000    -15.51544   -14.16782\n",
      "------------------------------------------------------------------------------\n"
     ]
    }
   ],
   "source": [
    "poisson medaltot lnpop lngdp i.planned i.host if year >= 92, nolog"
   ]
  },
  {
   "cell_type": "code",
   "execution_count": 9,
   "metadata": {},
   "outputs": [
    {
     "name": "stdout",
     "output_type": "stream",
     "text": [
      "\n",
      "Negative binomial regression                    Number of obs     =        357\n",
      "                                                LR chi2(4)        =     219.41\n",
      "Dispersion     = mean                           Prob > chi2       =     0.0000\n",
      "Log likelihood = -578.93263                     Pseudo R2         =     0.1593\n",
      "\n",
      "------------------------------------------------------------------------------\n",
      "    medaltot |      Coef.   Std. Err.      z    P>|z|     [95% Conf. Interval]\n",
      "-------------+----------------------------------------------------------------\n",
      "       lnpop |   .2090082    .084741     2.47   0.014     .0429189    .3750974\n",
      "       lngdp |   .6199679   .0678983     9.13   0.000     .4868898    .7530461\n",
      "    1.soviet |   2.547578   .8472431     3.01   0.003     .8870119    4.208144\n",
      "      1.host |   .0003977   1.054013     0.00   1.000     -2.06543    2.066226\n",
      "       _cons |  -17.52799   1.265107   -13.85   0.000    -20.00756   -15.04843\n",
      "-------------+----------------------------------------------------------------\n",
      "    /lnalpha |   .7329372   .1319617                       .474297    .9915774\n",
      "-------------+----------------------------------------------------------------\n",
      "       alpha |   2.081185   .2746367                      1.606884    2.695483\n",
      "------------------------------------------------------------------------------\n",
      "LR test of alpha=0: chibar2(01) = 1014.41              Prob >= chibar2 = 0.000\n"
     ]
    }
   ],
   "source": [
    "nbreg medaltot lnpop lngdp i.soviet i.host if year >= 92, nolog"
   ]
  },
  {
   "cell_type": "code",
   "execution_count": 11,
   "metadata": {},
   "outputs": [
    {
     "name": "stdout",
     "output_type": "stream",
     "text": [
      "\n",
      "Negative binomial regression                    Number of obs     =        357\n",
      "                                                LR chi2(4)        =     199.75\n",
      "Dispersion     = mean                           Prob > chi2       =     0.0000\n",
      "Log likelihood = -588.76282                     Pseudo R2         =     0.1450\n",
      "\n",
      "------------------------------------------------------------------------------\n",
      "    medaltot |      Coef.   Std. Err.      z    P>|z|     [95% Conf. Interval]\n",
      "-------------+----------------------------------------------------------------\n",
      "       lnpop |   .2348453   .0941901     2.49   0.013     .0502361    .4194546\n",
      "       lngdp |   .6137153   .0742193     8.27   0.000     .4682483    .7591824\n",
      "   1.planned |   .4823524   .7507106     0.64   0.521    -.9890134    1.953718\n",
      "      1.host |  -.1342419   1.131681    -0.12   0.906    -2.352296    2.083812\n",
      "       _cons |  -17.68839   1.348234   -13.12   0.000    -20.33088    -15.0459\n",
      "-------------+----------------------------------------------------------------\n",
      "    /lnalpha |   .8759827    .126035                      .6289587    1.123007\n",
      "-------------+----------------------------------------------------------------\n",
      "       alpha |   2.401234   .3026394                      1.875656    3.074083\n",
      "------------------------------------------------------------------------------\n",
      "LR test of alpha=0: chibar2(01) = 1353.25              Prob >= chibar2 = 0.000\n"
     ]
    }
   ],
   "source": [
    "nbreg medaltot lnpop lngdp i.planned i.host if year >= 92, nolog"
   ]
  },
  {
   "cell_type": "code",
   "execution_count": null,
   "metadata": {},
   "outputs": [],
   "source": []
  }
 ],
 "metadata": {
  "kernelspec": {
   "display_name": "Stata",
   "language": "stata",
   "name": "stata"
  },
  "language_info": {
   "codemirror_mode": "stata",
   "file_extension": ".do",
   "mimetype": "text/x-stata",
   "name": "stata",
   "version": "15.1"
  }
 },
 "nbformat": 4,
 "nbformat_minor": 2
}
