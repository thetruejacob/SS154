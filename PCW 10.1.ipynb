{
 "cells": [
  {
   "cell_type": "code",
   "execution_count": 2,
   "metadata": {},
   "outputs": [
    {
     "name": "stdout",
     "output_type": "stream",
     "text": [
      "\n",
      "\n",
      "\n",
      "\n",
      "        time variable:  date, 1984q1 to 2009q4\n",
      "                delta:  1 quarter\n"
     ]
    }
   ],
   "source": [
    "use https://www.stata.com/data/s4poe4/usa.dta\n",
    "gen date = q(1984q1) + _n - 1\n",
    "format %tq date\n",
    "tsset date"
   ]
  },
  {
   "cell_type": "code",
   "execution_count": 3,
   "metadata": {},
   "outputs": [
    {
     "name": "stdout",
     "output_type": "stream",
     "text": [
      "\n",
      "      Source |       SS           df       MS      Number of obs   =       102\n",
      "-------------+----------------------------------   F(2, 99)        =     25.45\n",
      "       Model |  10.0957158         2   5.0478579   Prob > F        =    0.0000\n",
      "    Residual |  19.6353195        99  .198336561   R-squared       =    0.3396\n",
      "-------------+----------------------------------   Adj R-squared   =    0.3262\n",
      "       Total |  29.7310353       101  .294366686   Root MSE        =    .44535\n",
      "\n",
      "------------------------------------------------------------------------------\n",
      "         D.f |      Coef.   Std. Err.      t    P>|t|     [95% Conf. Interval]\n",
      "-------------+----------------------------------------------------------------\n",
      "           f |\n",
      "         L1. |  -.0446213   .0178142    -2.50   0.014    -.0799685   -.0092741\n",
      "         LD. |   .5610582   .0809827     6.93   0.000     .4003708    .7217455\n",
      "             |\n",
      "       _cons |   .1725221   .1002333     1.72   0.088    -.0263625    .3714067\n",
      "------------------------------------------------------------------------------\n"
     ]
    }
   ],
   "source": [
    "reg D.f L.f L.D.f"
   ]
  },
  {
   "cell_type": "code",
   "execution_count": 4,
   "metadata": {},
   "outputs": [
    {
     "name": "stdout",
     "output_type": "stream",
     "text": [
      "\n",
      "      Source |       SS           df       MS      Number of obs   =       102\n",
      "-------------+----------------------------------   F(2, 99)        =      8.32\n",
      "       Model |  4.20542707         2  2.10271354   Prob > F        =    0.0005\n",
      "    Residual |  25.0098641        99   .25262489   R-squared       =    0.1439\n",
      "-------------+----------------------------------   Adj R-squared   =    0.1267\n",
      "       Total |  29.2152912       101  .289260309   Root MSE        =    .50262\n",
      "\n",
      "------------------------------------------------------------------------------\n",
      "         D.b |      Coef.   Std. Err.      t    P>|t|     [95% Conf. Interval]\n",
      "-------------+----------------------------------------------------------------\n",
      "           b |\n",
      "         L1. |  -.0562412   .0208081    -2.70   0.008     -.097529   -.0149534\n",
      "         LD. |   .2903078   .0896069     3.24   0.002     .1125084    .4681072\n",
      "             |\n",
      "       _cons |    .236873   .1291731     1.83   0.070    -.0194345    .4931804\n",
      "------------------------------------------------------------------------------\n"
     ]
    }
   ],
   "source": [
    "reg D.b L.b L.D.b"
   ]
  },
  {
   "cell_type": "markdown",
   "metadata": {},
   "source": [
    "It seems that the federal funds rate and the bond rate are not stationary. However, their first difference might be. We use an augmented Dickey-Fuller test, with the null hypothesis being that they (individually) are nonstationary, and the alternative hypothesis that they are stationary. We observe the tau statistic, and accept the alternative that it is stationary.\n"
   ]
  },
  {
   "cell_type": "markdown",
   "metadata": {},
   "source": [
    "We would like to test if the federal fund rate and the bond rate are cointegrated. If they were cointegrated, then the residuals are stationary. Again, we use the tau-statistic and the Dickey-Fuller test to check. It turns out that they are cointegrated - this has major policy implications."
   ]
  },
  {
   "cell_type": "code",
   "execution_count": null,
   "metadata": {},
   "outputs": [],
   "source": []
  }
 ],
 "metadata": {
  "kernelspec": {
   "display_name": "Stata",
   "language": "stata",
   "name": "stata"
  },
  "language_info": {
   "codemirror_mode": "stata",
   "file_extension": ".do",
   "mimetype": "text/x-stata",
   "name": "stata",
   "version": "15.1"
  }
 },
 "nbformat": 4,
 "nbformat_minor": 2
}
