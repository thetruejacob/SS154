{
 "cells": [
  {
   "cell_type": "markdown",
   "metadata": {},
   "source": [
    "The file stockton4.dat contains data on 1,500 houses sold in Stockton, CA during 1996–1998. Variable descriptions are in the file stockton4.def.\n",
    "\n",
    "1. Estimate the following model\n",
    "$$ \\ln(SPRICE) = \\beta_1 +\\beta_2 LIVAREA + \\beta_3 LIVERA^2 + \\beta_4 AGE + \\beta_5 AGE^2$$\n",
    "$$ + \\beta_6 BEDS + \\beta_7 (LIVAREA \\times BEDS) + \\beta_8 (LIVAREA^2\\times BEDS)$$\n",
    "$$ + \\beta_9 (AGE \\times BEDS)  + \\beta_{10} (AGE^2 \\times BEDS) + e$$\n",
    "\n",
    "Report the estimated relatinoship between $\\ln(SPRICE), LIVAREA$ and $AGE$ for two-, three- and four-bedroom houses.\n",
    "\n"
   ]
  },
  {
   "cell_type": "code",
   "execution_count": 15,
   "metadata": {},
   "outputs": [],
   "source": [
    "clear all \n",
    "\n",
    "use https://www.stata.com/data/s4poe4/stockton4.dta\n",
    "\n",
    "gen log_sprice = log(sprice)\n",
    "gen livarea2 = livarea^2\n",
    "gen age2 = age^2\n",
    "gen livareabeds = livarea * beds\n",
    "gen livarea2beds = livarea^2 * beds\n",
    "gen agebeds = age*beds\n",
    "gen age2beds = age^2 * beds"
   ]
  },
  {
   "cell_type": "code",
   "execution_count": 10,
   "metadata": {},
   "outputs": [
    {
     "name": "stdout",
     "output_type": "stream",
     "text": [
      "\n",
      "      Source |       SS           df       MS      Number of obs   =     1,500\n",
      "-------------+----------------------------------   F(9, 1490)      =    354.80\n",
      "       Model |  147.934591         9  16.4371768   Prob > F        =    0.0000\n",
      "    Residual |  69.0291994     1,490  .046328322   R-squared       =    0.6818\n",
      "-------------+----------------------------------   Adj R-squared   =    0.6799\n",
      "       Total |  216.963791     1,499   .14473902   Root MSE        =    .21524\n",
      "\n",
      "------------------------------------------------------------------------------\n",
      "  log_sprice |      Coef.   Std. Err.      t    P>|t|     [95% Conf. Interval]\n",
      "-------------+----------------------------------------------------------------\n",
      "     livarea |      .1268   .0212512     5.97   0.000     .0851146    .1684854\n",
      "    livarea2 |  -.0012677   .0005148    -2.46   0.014    -.0022775    -.000258\n",
      "         age |   -.016916   .0073727    -2.29   0.022    -.0313779   -.0024541\n",
      "        age2 |   .0002939    .000125     2.35   0.019     .0000488    .0005391\n",
      "        beds |   .0627993   .0718774     0.87   0.382    -.0781924     .203791\n",
      " livareabeds |  -.0138124   .0058444    -2.36   0.018    -.0252764   -.0023483\n",
      "livarea2beds |   .0002401   .0001316     1.82   0.068    -.0000181    .0004983\n",
      "     agebeds |   .0026419    .002161     1.22   0.222     -.001597    .0068808\n",
      "    age2beds |  -.0000451    .000037    -1.22   0.223    -.0001177    .0000274\n",
      "       _cons |   10.31494   .2407581    42.84   0.000     9.842674     10.7872\n",
      "------------------------------------------------------------------------------\n"
     ]
    }
   ],
   "source": [
    "reg log_sprice livarea livarea2 age age2 beds livareabeds livarea2beds agebeds age2beds"
   ]
  },
  {
   "cell_type": "code",
   "execution_count": 12,
   "metadata": {},
   "outputs": [
    {
     "name": "stdout",
     "output_type": "stream",
     "text": [
      "\n",
      "Two bedrooms\n",
      "\n",
      "note: livarea omitted because of collinearity\n",
      "note: livarea2 omitted because of collinearity\n",
      "note: age omitted because of collinearity\n",
      "note: age2 omitted because of collinearity\n",
      "note: beds omitted because of collinearity\n",
      "\n",
      "      Source |       SS           df       MS      Number of obs   =        77\n",
      "-------------+----------------------------------   F(4, 72)        =     20.67\n",
      "       Model |   5.4841192         4   1.3710298   Prob > F        =    0.0000\n",
      "    Residual |  4.77630645        72   .06633759   R-squared       =    0.5345\n",
      "-------------+----------------------------------   Adj R-squared   =    0.5086\n",
      "       Total |  10.2604257        76  .135005601   Root MSE        =    .25756\n",
      "\n",
      "------------------------------------------------------------------------------\n",
      "  log_sprice |      Coef.   Std. Err.      t    P>|t|     [95% Conf. Interval]\n",
      "-------------+----------------------------------------------------------------\n",
      "     livarea |          0  (omitted)\n",
      "    livarea2 |          0  (omitted)\n",
      "         age |          0  (omitted)\n",
      "        age2 |          0  (omitted)\n",
      "        beds |          0  (omitted)\n",
      " livareabeds |   .0341946   .0218061     1.57   0.121    -.0092751    .0776643\n",
      "livarea2beds |   .0001543   .0007263     0.21   0.832    -.0012935    .0016022\n",
      "     agebeds |   .0018522   .0072442     0.26   0.799    -.0125888    .0162931\n",
      "    age2beds |   9.36e-07    .000112     0.01   0.993    -.0002224    .0002243\n",
      "       _cons |   10.35608   .3648232    28.39   0.000     9.628817    11.08334\n",
      "------------------------------------------------------------------------------\n"
     ]
    }
   ],
   "source": [
    "di \"Two bedrooms\"\n",
    "reg log_sprice livarea livarea2 age age2 beds livareabeds livarea2beds agebeds age2beds if beds == 2"
   ]
  },
  {
   "cell_type": "code",
   "execution_count": 15,
   "metadata": {},
   "outputs": [
    {
     "name": "stdout",
     "output_type": "stream",
     "text": [
      "\n",
      "Three bedrooms\n",
      "\n",
      "note: livarea omitted because of collinearity\n",
      "note: livarea2 omitted because of collinearity\n",
      "note: age omitted because of collinearity\n",
      "note: age2 omitted because of collinearity\n",
      "note: beds omitted because of collinearity\n",
      "\n",
      "      Source |       SS           df       MS      Number of obs   =       969\n",
      "-------------+----------------------------------   F(4, 964)       =    329.97\n",
      "       Model |  55.4338934         4  13.8584733   Prob > F        =    0.0000\n",
      "    Residual |  40.4869482       964  .041998909   R-squared       =    0.5779\n",
      "-------------+----------------------------------   Adj R-squared   =    0.5762\n",
      "       Total |  95.9208415       968  .099091778   Root MSE        =    .20494\n",
      "\n",
      "------------------------------------------------------------------------------\n",
      "  log_sprice |      Coef.   Std. Err.      t    P>|t|     [95% Conf. Interval]\n",
      "-------------+----------------------------------------------------------------\n",
      "     livarea |          0  (omitted)\n",
      "    livarea2 |          0  (omitted)\n",
      "         age |          0  (omitted)\n",
      "        age2 |          0  (omitted)\n",
      "        beds |          0  (omitted)\n",
      " livareabeds |   .0269524   .0025659    10.50   0.000      .021917    .0319878\n",
      "livarea2beds |  -.0001517   .0000679    -2.23   0.026     -.000285   -.0000183\n",
      "     agebeds |  -.0031028   .0004699    -6.60   0.000     -.004025   -.0021806\n",
      "    age2beds |   .0000554   7.98e-06     6.94   0.000     .0000397    .0000711\n",
      "       _cons |   10.56266   .0729793   144.74   0.000     10.41945    10.70588\n",
      "------------------------------------------------------------------------------\n"
     ]
    }
   ],
   "source": [
    "di \"Three bedrooms\"\n",
    "reg log_sprice livarea livarea2 age age2 beds livareabeds livarea2beds agebeds age2beds if beds == 3"
   ]
  },
  {
   "cell_type": "code",
   "execution_count": 14,
   "metadata": {},
   "outputs": [
    {
     "name": "stdout",
     "output_type": "stream",
     "text": [
      "\n",
      "Four bedrooms\n",
      "\n",
      "note: livarea omitted because of collinearity\n",
      "note: livarea2 omitted because of collinearity\n",
      "note: age omitted because of collinearity\n",
      "note: age2 omitted because of collinearity\n",
      "note: beds omitted because of collinearity\n",
      "\n",
      "      Source |       SS           df       MS      Number of obs   =       400\n",
      "-------------+----------------------------------   F(4, 395)       =    241.50\n",
      "       Model |  46.0684072         4  11.5171018   Prob > F        =    0.0000\n",
      "    Residual |  18.8376846       395  .047690341   R-squared       =    0.7098\n",
      "-------------+----------------------------------   Adj R-squared   =    0.7068\n",
      "       Total |  64.9060919       399  .162671909   Root MSE        =    .21838\n",
      "\n",
      "------------------------------------------------------------------------------\n",
      "  log_sprice |      Coef.   Std. Err.      t    P>|t|     [95% Conf. Interval]\n",
      "-------------+----------------------------------------------------------------\n",
      "     livarea |          0  (omitted)\n",
      "    livarea2 |          0  (omitted)\n",
      "         age |          0  (omitted)\n",
      "        age2 |          0  (omitted)\n",
      "        beds |          0  (omitted)\n",
      " livareabeds |   .0204035   .0023166     8.81   0.000     .0158491    .0249578\n",
      "livarea2beds |  -.0001149   .0000448    -2.56   0.011    -.0002031   -.0000268\n",
      "     agebeds |  -.0017211   .0005242    -3.28   0.001    -.0027518   -.0006905\n",
      "    age2beds |    .000026   8.86e-06     2.94   0.003     8.62e-06    .0000435\n",
      "       _cons |   10.42312   .1176717    88.58   0.000     10.19178    10.65446\n",
      "------------------------------------------------------------------------------\n"
     ]
    }
   ],
   "source": [
    "di \"Four bedrooms\"\n",
    "reg log_sprice livarea livarea2 age age2 beds livareabeds livarea2beds agebeds age2beds if beds == 4"
   ]
  },
  {
   "cell_type": "markdown",
   "metadata": {},
   "source": [
    "2. Test the null hypothesis $H_0:\\beta_6 = 0, \\beta_8 = 0, \\beta_9 = 0, \\beta_{10} = 0$. Use $\\alpha = 0.05$\n",
    "\n",
    "We have to use the F-statistic this time. From below we see that the restricted model has a $SSE_{R} = 69.2467085$, and from above we see the unrestricted model has $SSE_{U} = 69.0291994$. With 4 restricitions, $J = 4$. $N = 1500$, the number of observations and $K = 10$, the number of betas.\n",
    "\n",
    "The $F$-statistic is \n",
    "$$ F = \\frac{(SSE_R - SSE_U)/J}{SSE_U / (N-K)} = \\:\\frac{\\left(69.2467085\\:-69.0291994\\right)/4\\:}{69.0291994\\:/\\:\\left(1500-10\\right)} = 1.17373 $$\n",
    "\n",
    "And the rejection region for a significance level of $\\alpha = 0.05$ is (from an online calculator)\n",
    "\n",
    "$$ F_{(0.95, 4, 1490)} = 2.37790047$$\n",
    "\n",
    "Since $F <F_{0.95} $, we fail to reject the null hypothesis.  "
   ]
  },
  {
   "cell_type": "markdown",
   "metadata": {},
   "source": [
    "3. Estimate the model implied by the test reslt in (b).  Report the estimated relationship\n",
    " between $\\ln(SPRICE), LIVAREA$ and $AGE$ for two-, three- and four-bedroom houses.\n",
    " \n",
    "Since the results state that those betas are not statistically significant, we can include only those betas that were found to be significant, so $\\{\\beta_{i}  | i = 1, 2, 3, 4, 5, 7 \\}$ and now we have the restricted model $$ \\ln(SPRICE) = \\beta_1 +\\beta_2 LIVAREA + \\beta_3 LIVERA^2 + \\beta_4 AGE + \\beta_5 AGE^2 + \\beta_7 (LIVAREA \\times BEDS) $$"
   ]
  },
  {
   "cell_type": "code",
   "execution_count": 5,
   "metadata": {},
   "outputs": [
    {
     "name": "stdout",
     "output_type": "stream",
     "text": [
      "\n",
      "      Source |       SS           df       MS      Number of obs   =     1,500\n",
      "-------------+----------------------------------   F(5, 1494)      =    637.40\n",
      "       Model |  147.717082         5  29.5434165   Prob > F        =    0.0000\n",
      "    Residual |  69.2467085     1,494  .046349872   R-squared       =    0.6808\n",
      "-------------+----------------------------------   Adj R-squared   =    0.6798\n",
      "       Total |  216.963791     1,499   .14473902   Root MSE        =    .21529\n",
      "\n",
      "------------------------------------------------------------------------------\n",
      "  log_sprice |      Coef.   Std. Err.      t    P>|t|     [95% Conf. Interval]\n",
      "-------------+----------------------------------------------------------------\n",
      "     livarea |   .0901161   .0049032    18.38   0.000     .0804982     .099734\n",
      "    livarea2 |  -.0003482   .0000943    -3.69   0.000    -.0005331   -.0001633\n",
      "         age |  -.0080479   .0011784    -6.83   0.000    -.0103595   -.0057364\n",
      "        age2 |   .0001424     .00002     7.13   0.000     .0001032    .0001816\n",
      " livareabeds |  -.0039957   .0005695    -7.02   0.000    -.0051129   -.0028785\n",
      "       _cons |   10.55181   .0479238   220.18   0.000      10.4578    10.64581\n",
      "------------------------------------------------------------------------------\n"
     ]
    }
   ],
   "source": [
    "reg log_sprice livarea livarea2 age age2 livareabeds"
   ]
  },
  {
   "cell_type": "code",
   "execution_count": 6,
   "metadata": {},
   "outputs": [
    {
     "name": "stdout",
     "output_type": "stream",
     "text": [
      "\n",
      "      Source |       SS           df       MS      Number of obs   =     1,500\n",
      "-------------+----------------------------------   F(9, 1490)      =    354.80\n",
      "       Model |  147.934591         9  16.4371768   Prob > F        =    0.0000\n",
      "    Residual |  69.0291994     1,490  .046328322   R-squared       =    0.6818\n",
      "-------------+----------------------------------   Adj R-squared   =    0.6799\n",
      "       Total |  216.963791     1,499   .14473902   Root MSE        =    .21524\n",
      "\n",
      "------------------------------------------------------------------------------\n",
      "  log_sprice |      Coef.   Std. Err.      t    P>|t|     [95% Conf. Interval]\n",
      "-------------+----------------------------------------------------------------\n",
      "     livarea |      .1268   .0212512     5.97   0.000     .0851146    .1684854\n",
      "    livarea2 |  -.0012677   .0005148    -2.46   0.014    -.0022775    -.000258\n",
      "         age |   -.016916   .0073727    -2.29   0.022    -.0313779   -.0024541\n",
      "        age2 |   .0002939    .000125     2.35   0.019     .0000488    .0005391\n",
      "        beds |   .0627993   .0718774     0.87   0.382    -.0781924     .203791\n",
      " livareabeds |  -.0138124   .0058444    -2.36   0.018    -.0252764   -.0023483\n",
      "livarea2beds |   .0002401   .0001316     1.82   0.068    -.0000181    .0004983\n",
      "     agebeds |   .0026419    .002161     1.22   0.222     -.001597    .0068808\n",
      "    age2beds |  -.0000451    .000037    -1.22   0.223    -.0001177    .0000274\n",
      "       _cons |   10.31494   .2407581    42.84   0.000     9.842674     10.7872\n",
      "------------------------------------------------------------------------------\n"
     ]
    }
   ],
   "source": [
    "reg log_sprice livarea livarea2 age age2 beds livareabeds livarea2beds agebeds age2beds"
   ]
  },
  {
   "cell_type": "code",
   "execution_count": null,
   "metadata": {},
   "outputs": [],
   "source": []
  }
 ],
 "metadata": {
  "kernelspec": {
   "display_name": "Stata",
   "language": "stata",
   "name": "stata"
  },
  "language_info": {
   "codemirror_mode": "stata",
   "file_extension": ".do",
   "mimetype": "text/x-stata",
   "name": "stata",
   "version": "15.1"
  }
 },
 "nbformat": 4,
 "nbformat_minor": 2
}
