{
 "cells": [
  {
   "cell_type": "markdown",
   "metadata": {},
   "source": [
    "The file br2.dat contains data on 1,080 houses sold in Baton Rouge, Louisiana, during mid-2005. We will be concerned with the selling price (PRICE), the size of the house in square feet (SQFT), and the age of the house in years (AGE). Define a new variable that measures house size in terms of hundreds of square feet, $SQFT100= SQFT/100$.\n",
    "\n",
    "a. Estimate the following equation and report the results:\n",
    "$$ \\ln(PRICE) = \\alpha_1 + \\alpha_2 SQFT100 + \\alpha_3 AGE + \\alpha_4 AGE^2 + e$$"
   ]
  },
  {
   "cell_type": "code",
   "execution_count": 1,
   "metadata": {},
   "outputs": [
    {
     "name": "stdout",
     "output_type": "stream",
     "text": [
      "\n",
      "\n",
      "\n",
      "\n",
      "\n",
      "\n",
      "      Source |       SS           df       MS      Number of obs   =     1,080\n",
      "-------------+----------------------------------   F(3, 1076)      =    865.49\n",
      "       Model |  209.891557         3  69.9638522   Prob > F        =    0.0000\n",
      "    Residual |  86.9808098     1,076  .080837184   R-squared       =    0.7070\n",
      "-------------+----------------------------------   Adj R-squared   =    0.7062\n",
      "       Total |  296.872366     1,079  .275136577   Root MSE        =    .28432\n",
      "\n",
      "------------------------------------------------------------------------------\n",
      "   log_price |      Coef.   Std. Err.      t    P>|t|     [95% Conf. Interval]\n",
      "-------------+----------------------------------------------------------------\n",
      "        sqft |   .0003876   8.69e-06    44.59   0.000     .0003706    .0004047\n",
      "         age |  -.0175549   .0013565   -12.94   0.000    -.0202165   -.0148932\n",
      "        age2 |   .0001734   .0000227     7.65   0.000     .0001289    .0002178\n",
      "       _cons |   11.11959   .0274129   405.63   0.000      11.0658    11.17338\n",
      "------------------------------------------------------------------------------\n"
     ]
    }
   ],
   "source": [
    "clear all\n",
    "\n",
    "use https://www.stata.com/data/s4poe4/br2.dta\n",
    "\n",
    "gen log_price = log(price)\n",
    "gen age2 = age^2\n",
    "\n",
    "reg log_price sqft age age2"
   ]
  },
  {
   "cell_type": "markdown",
   "metadata": {},
   "source": [
    "b. Interpret the estimate for $\\alpha_2$\n",
    "\n",
    "In this model, every $/$1$increase in log price is predicted by an increase in 0.0003876 square feet.\n",
    "\n",
    "c. Find and interpret estimates for $\\frac{\\partial \\ln(PRICE)}{ \\partial AGE}$ when $AGE = 5$ and $AGE = 20$\n",
    "\n",
    "$$\\frac{\\partial \\ln(PRICE)}{ \\partial AGE} = \\alpha_3 + 2\\alpha_4 AGE = f(AGE)$$\n",
    "$$ f(5) = -0.0175549 + 2 \\times 0.0001734 \\times 5 = -0.0158209$$\n",
    "$$ f(20) = -0.0175549 + 2 \\times 0.0001734 \\times 20 = -0.0106189$$\n",
    "\n",
    "d. Estimate $\\frac{\\partial PRICE}{\\partial AGE}$ and $\\frac{\\partial PRICE}{\\partial SQFT100}$ for a 20-year-old house with a living area of 2300 square feet.\n",
    "\n",
    "$$PRICE(SQFT, AGE) = e^{\\alpha_1 + \\alpha_2 SQFT100} e^{\\alpha_3 AGE+ \\alpha_4AGE^2} $$\n",
    "Find both partial differentials\n",
    "$$ \\frac{\\partial PRICE(SQFT, AGE)}{\\partial AGE} = e^{\\alpha_1 + \\alpha_2 SQFT100} e^{\\alpha_3 AGE + \\alpha_4AGE^2} (2 AGE \\alpha_4 + \\alpha_3) = e^{11.11959\\:+\\:.0003876\\cdot 2300}\\:e^{-.0175549\\cdot 20\\:+\\:.0001734\\cdot 20^2}\\:\\left(2\\:\\cdot 20\\:\\cdot .0001734 -.0175549\\right) = -1318.4500$$ \n",
    "$$ \\frac{\\partial PRICE(SQFT, AGE)}{\\partial SQFT100} =e^{\\alpha_1 + \\alpha_2 SQFT100} e^{\\alpha_3 AGE+ \\alpha_4AGE^2}\\alpha_2 = e^{11.11959+0.0003876\\cdot \\:2300}e^{-0.0175549\\cdot \\:20+0.0001734\\cdot \\:20^2}\\cdot 0.0003876 = 48.1246$$ \n",
    "\n",
    "\n",
    "Find the standard errors of your estimates in (e).\n",
    "\n",
    "\n"
   ]
  },
  {
   "cell_type": "code",
   "execution_count": null,
   "metadata": {},
   "outputs": [],
   "source": []
  }
 ],
 "metadata": {
  "kernelspec": {
   "display_name": "Stata",
   "language": "stata",
   "name": "stata"
  },
  "language_info": {
   "codemirror_mode": "stata",
   "file_extension": ".do",
   "mimetype": "text/x-stata",
   "name": "stata",
   "version": "15.1"
  }
 },
 "nbformat": 4,
 "nbformat_minor": 2
}
