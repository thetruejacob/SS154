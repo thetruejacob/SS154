{
 "cells": [
  {
   "cell_type": "markdown",
   "metadata": {},
   "source": [
    "\n",
    "The file br2.dat contains data on 1,080 houses sold in Baton Rouge, Louisiana, during mid-2005. We will be concerned with the selling price (PRICE), the size of the house in square feet (SQFT), and the age of the house in years (AGE). Define a new variable that measures house size in terms of hundreds of square feet, $SQFT100= SQFT/100$.\n",
    "\n",
    "a. Estimate the following equation and report the results:\n",
    "$$ \\ln(PRICE) = \\alpha_1 + \\alpha_2 SQFT100 + \\alpha_3 AGE + \\alpha_4 AGE^2 + e$$"
   ]
  },
  {
   "cell_type": "code",
   "execution_count": 3,
   "metadata": {},
   "outputs": [
    {
     "name": "stdout",
     "output_type": "stream",
     "text": [
      "\n",
      "\n",
      "\n",
      "\n",
      "\n",
      "\n",
      "      Source |       SS           df       MS      Number of obs   =     1,080\n",
      "-------------+----------------------------------   F(3, 1076)      =    865.49\n",
      "       Model |  209.891557         3  69.9638522   Prob > F        =    0.0000\n",
      "    Residual |  86.9808098     1,076  .080837184   R-squared       =    0.7070\n",
      "-------------+----------------------------------   Adj R-squared   =    0.7062\n",
      "       Total |  296.872366     1,079  .275136577   Root MSE        =    .28432\n",
      "\n",
      "------------------------------------------------------------------------------\n",
      "   log_price |      Coef.   Std. Err.      t    P>|t|     [95% Conf. Interval]\n",
      "-------------+----------------------------------------------------------------\n",
      "        sqft |   .0003876   8.69e-06    44.59   0.000     .0003706    .0004047\n",
      "         age |  -.0175549   .0013565   -12.94   0.000    -.0202165   -.0148932\n",
      "        age2 |   .0001734   .0000227     7.65   0.000     .0001289    .0002178\n",
      "       _cons |   11.11959   .0274129   405.63   0.000      11.0658    11.17338\n",
      "------------------------------------------------------------------------------\n"
     ]
    }
   ],
   "source": [
    "clear all\n",
    "\n",
    "use https://www.stata.com/data/s4poe4/br2.dta\n",
    "\n",
    "gen log_price = log(price)\n",
    "gen age2 = age^2\n",
    "\n",
    "reg log_price sqft age age2"
   ]
  },
  {
   "cell_type": "markdown",
   "metadata": {},
   "source": [
    "b. Interpret the estimate for $\\alpha_2$\n",
    "\n",
    "In this model, every $ \\$1$increase in log price is predicted by an increase in 0.0003876 square feet.\n",
    "\n",
    "c. Find and interpret estimates for $\\frac{\\partial \\ln(PRICE)}{ \\partial AGE}$ when $AGE = 5$ and $AGE = 20$\n",
    "\n",
    "$$\\frac{\\partial \\ln(PRICE)}{ \\partial AGE} = \\alpha_3 + 2\\alpha_4 AGE = f(AGE)$$\n",
    "$$ f(5) = -0.0175549 + 2 \\times 0.0001734 \\times 5 = -0.0158209$$\n",
    "$$ f(20) = -0.0175549 + 2 \\times 0.0001734 \\times 20 = -0.0106189$$\n",
    "\n",
    "d. Estimate $\\frac{\\partial PRICE}{\\partial AGE}$ and $\\frac{\\partial PRICE}{\\partial SQFT100}$ for a 20-year-old house with a living area of 2300 square feet.\n",
    "\n",
    "$$PRICE(SQFT, AGE) = e^{\\alpha_1 + \\alpha_2 SQFT100} e^{\\alpha_3 AGE+ \\alpha_4AGE^2} $$\n",
    "Find both partial differentials\n",
    "$$ f(AGE, SQFT) = \\frac{\\partial PRICE(SQFT, AGE)}{\\partial AGE} = e^{\\alpha_1 + \\alpha_2 SQFT100} e^{\\alpha_3 AGE + \\alpha_4AGE^2} (2 AGE \\alpha_4 + \\alpha_3) $$ \n",
    "$$ g(AGE, SQFT) =  \\frac{\\partial PRICE(SQFT, AGE)}{\\partial SQFT100} =e^{\\alpha_1 + \\alpha_2 SQFT100} e^{\\alpha_3 AGE+ \\alpha_4AGE^2}\\alpha_2 $$ \n",
    "\n",
    "Substitute in to find both elasticities\n",
    "$$ f(20, 2300) = e^{11.11959\\:+\\:.0003876\\cdot 2300}\\:e^{-.0175549\\cdot 20\\:+\\:.0001734\\cdot 20^2}\\:\\left(2\\:\\cdot 20\\:\\cdot .0001734 -.0175549\\right) = -1318.4500$$\n",
    "\n",
    "$$ g(20, 2300) = e^{11.11959+0.0003876\\cdot \\:2300}e^{-0.0175549\\cdot \\:20+0.0001734\\cdot \\:20^2}\\cdot 0.0003876 = 48.1246$$\n",
    "\n",
    "Find the standard errors of your estimates in (e).\n",
    "\n",
    "The form of f and g are not exactly tractable. Might have to use monte carlo simulation?"
   ]
  },
  {
   "cell_type": "code",
   "execution_count": null,
   "metadata": {},
   "outputs": [],
   "source": []
  },
  {
   "cell_type": "code",
   "execution_count": 8,
   "metadata": {},
   "outputs": [
    {
     "name": "stdout",
     "output_type": "stream",
     "text": [
      "\n",
      "Average marginal effects                        Number of obs     =      1,080\n",
      "Model VCE    : OLS\n",
      "\n",
      "Expression   : Linear prediction, predict()\n",
      "dy/dx w.r.t. : sqft age\n",
      "\n",
      "------------------------------------------------------------------------------\n",
      "             |            Delta-method\n",
      "             |      dy/dx   Std. Err.      t    P>|t|     [95% Conf. Interval]\n",
      "-------------+----------------------------------------------------------------\n",
      "        sqft |   .0003876   8.69e-06    44.59   0.000     .0003706    .0004047\n",
      "         age |  -.0175549   .0013565   -12.94   0.000    -.0202165   -.0148932\n",
      "------------------------------------------------------------------------------\n"
     ]
    }
   ],
   "source": [
    "margins, dydx(sqft age)"
   ]
  },
  {
   "cell_type": "markdown",
   "metadata": {},
   "source": [
    "\n",
    "$$ SE(f) = \\sqrt{ \\text{var}(f)}$$\n",
    "\n",
    "$$ SE(g) = \\sqrt{\\text{var}(g)}$$"
   ]
  },
  {
   "cell_type": "markdown",
   "metadata": {},
   "source": [
    "Use the 2009 March CPS in Hansen's website (https://www.ssc.wisc.edu/~bhansen/econometrics/) and replicate equation 3.15 (the definition of experience is defined in footnote 9, pp. 17). Note that the regression is for the sub-sample of single (never married) Asian men. Rerun the regression in equation 3.14 using the sample defined here -- single (never married) Asian men -- and explain why the effect of education is smaller in equation 3.14 compared to 3.15.\n",
    "\n",
    "Experience = age - education - 6\n"
   ]
  },
  {
   "cell_type": "code",
   "execution_count": 10,
   "metadata": {},
   "outputs": [
    {
     "name": "stdout",
     "output_type": "stream",
     "text": [
      "\n",
      "\n",
      "\n",
      "\n",
      "\n",
      "\n",
      "\n",
      "\n",
      "      Source |       SS           df       MS      Number of obs   =       268\n",
      "-------------+----------------------------------   F(3, 264)       =     55.69\n",
      "       Model |  52.5382617         3  17.5127539   Prob > F        =    0.0000\n",
      "    Residual |  83.0162162       264  .314455365   R-squared       =    0.3876\n",
      "-------------+----------------------------------   Adj R-squared   =    0.3806\n",
      "       Total |  135.554478       267  .507694674   Root MSE        =    .56076\n",
      "\n",
      "------------------------------------------------------------------------------\n",
      "    log_wage |      Coef.   Std. Err.      t    P>|t|     [95% Conf. Interval]\n",
      "-------------+----------------------------------------------------------------\n",
      "   education |   .1433165   .0116307    12.32   0.000     .1204157    .1662172\n",
      "       exper |   .0355789   .0108576     3.28   0.001     .0142005    .0569574\n",
      "      exper2 |  -.0007138   .0002957    -2.41   0.016     -.001296   -.0001315\n",
      "       _cons |   .5753563   .1868299     3.08   0.002     .2074901    .9432225\n",
      "------------------------------------------------------------------------------\n"
     ]
    }
   ],
   "source": [
    "clear all\n",
    "\n",
    "quiet use cps09mar.dta\n",
    "\n",
    "gen wage = earnings / (hours*week) // wage is annual earnings/annual hours\n",
    "gen log_wage = log(wage)\n",
    "gen exper = age - education - 6\n",
    "gen exper2 = exper^2\n",
    "\n",
    "// regression for single Asian men\n",
    "regress log_wage educ exper exper2 if marital == 7 & race == 4 & female == 0 \n"
   ]
  },
  {
   "cell_type": "code",
   "execution_count": 29,
   "metadata": {},
   "outputs": [
    {
     "name": "stdout",
     "output_type": "stream",
     "text": [
      "\n",
      "\n",
      "\n",
      "(3,799 observations deleted)\n",
      "\n",
      "\n",
      "\n",
      "\n",
      "\n",
      "\n",
      "\n",
      "\n",
      "\n",
      "\n",
      "\n",
      "\n",
      "\n",
      "\n"
     ]
    }
   ],
   "source": [
    "clear all\n",
    "\n",
    "quiet use cps09mar.dta\n",
    "\n",
    "drop if educ < 12\n",
    "\n",
    "gen wage = earnings / (hours*week) // wage is annual earnings/annual hours\n",
    "gen log_wage = log(wage)\n",
    "gen exper = age - education - 6\n",
    "gen exper2 = exper^2\n",
    "\n",
    "gen fem_union = union == 1 & female == 1\n",
    "gen male_union = union == 1 & female == 0\n",
    "gen married_female =  marital == 1 | marital == 2 | marital == 3 & female == 1\n",
    "gen married_male = marital == 1 | marital == 2 | marital == 3 & female == 0\n",
    "gen formerly_married_female =  marital == 4 | marital == 5 & female == 1\n",
    "\n",
    "gen hispanic = hisp == 1\n",
    "gen black = race == 2\n",
    "gen amerindian = race == 3\n",
    "gen asian = race == 4\n",
    "gen mixed = race > 5"
   ]
  },
  {
   "cell_type": "code",
   "execution_count": 30,
   "metadata": {},
   "outputs": [
    {
     "name": "stdout",
     "output_type": "stream",
     "text": [
      "\n",
      "      Source |       SS           df       MS      Number of obs   =    46,943\n",
      "-------------+----------------------------------   F(14, 46928)    =   1200.54\n",
      "       Model |  5393.73773        14  385.266981   Prob > F        =    0.0000\n",
      "    Residual |  15059.7097    46,928  .320910964   R-squared       =    0.2637\n",
      "-------------+----------------------------------   Adj R-squared   =    0.2635\n",
      "       Total |  20453.4475    46,942  .435717427   Root MSE        =    .56649\n",
      "\n",
      "-----------------------------------------------------------------------------------------\n",
      "               log_wage |      Coef.   Std. Err.      t    P>|t|     [95% Conf. Interval]\n",
      "------------------------+----------------------------------------------------------------\n",
      "              education |   .1172723   .0011784    99.52   0.000     .1149626    .1195819\n",
      "                  exper |   .0336282   .0008661    38.83   0.000     .0319306    .0353258\n",
      "                 exper2 |  -.0005712    .000018   -31.80   0.000    -.0006064    -.000536\n",
      "                 female |  -.2474983   .0056586   -43.74   0.000    -.2585891   -.2364074\n",
      "              fem_union |   .0189196   .0278535     0.68   0.497    -.0356737    .0735128\n",
      "             male_union |   .0967158    .023004     4.20   0.000     .0516276    .1418039\n",
      "         married_female |   .0615279   .0260755     2.36   0.018     .0104195    .1126364\n",
      "           married_male |   .0590111   .0260995     2.26   0.024     .0078556    .1101666\n",
      "formerly_married_female |    .070685   .0116188     6.08   0.000     .0479121    .0934579\n",
      "               hispanic |  -.1065584   .0083481   -12.76   0.000    -.1229208   -.0901961\n",
      "                  black |  -.0878022   .0088678    -9.90   0.000    -.1051832   -.0704212\n",
      "             amerindian |  -.1347401   .0258739    -5.21   0.000    -.1854533   -.0840269\n",
      "                  asian |  -.0382217   .0119385    -3.20   0.001    -.0616213    -.014822\n",
      "                  mixed |  -.0424348   .0197115    -2.15   0.031    -.0810697      -.0038\n",
      "                  _cons |   .9671714   .0196914    49.12   0.000     .9285759    1.005767\n",
      "-----------------------------------------------------------------------------------------\n"
     ]
    }
   ],
   "source": [
    "regress log_wage educ exper exper2 female fem_union male_union married_female married_male formerly_married_female hispanic black amerindian asian mixed"
   ]
  },
  {
   "cell_type": "markdown",
   "metadata": {},
   "source": [
    "For regressors include years of education, potential work experience, experience-squared/100, and dummy variable indicators for the following: female, female union member, male union member, married female (marital code 1, 2, or 3), married male, formerly married female (marital code 4, 5, or 6), formerly married male, Hispanic, black, American Indian, Asian, and mixed race (race code 6 or higher)."
   ]
  },
  {
   "cell_type": "code",
   "execution_count": null,
   "metadata": {},
   "outputs": [],
   "source": []
  },
  {
   "cell_type": "code",
   "execution_count": 12,
   "metadata": {},
   "outputs": [
    {
     "name": "stdout",
     "output_type": "stream",
     "text": [
      "\n",
      "      Source |       SS           df       MS      Number of obs   =       268\n",
      "-------------+----------------------------------   F(1, 266)       =    144.23\n",
      "       Model |  47.6587946         1  47.6587946   Prob > F        =    0.0000\n",
      "    Residual |  87.8956834       266    .3304349   R-squared       =    0.3516\n",
      "-------------+----------------------------------   Adj R-squared   =    0.3491\n",
      "       Total |  135.554478       267  .507694674   Root MSE        =    .57483\n",
      "\n",
      "------------------------------------------------------------------------------\n",
      "    log_wage |      Coef.   Std. Err.      t    P>|t|     [95% Conf. Interval]\n",
      "-------------+----------------------------------------------------------------\n",
      "   education |   .1411497   .0117531    12.01   0.000     .1180089    .1642906\n",
      "       _cons |   .8584482   .1763195     4.87   0.000     .5112888    1.205608\n",
      "------------------------------------------------------------------------------\n"
     ]
    }
   ],
   "source": [
    "regress log_wage educ if marital == 7 & race == 4 & female == 0 "
   ]
  },
  {
   "cell_type": "markdown",
   "metadata": {},
   "source": [
    "The effect of education is smaller in the second equation because it is offset by a larger intercept. "
   ]
  },
  {
   "cell_type": "code",
   "execution_count": 1,
   "metadata": {},
   "outputs": [],
   "source": [
    "use https://www.stata.com/data/s4poe4/crime.dta"
   ]
  },
  {
   "cell_type": "code",
   "execution_count": 6,
   "metadata": {},
   "outputs": [
    {
     "name": "stdout",
     "output_type": "stream",
     "text": [
      "\n",
      "      Source |       SS           df       MS      Number of obs   =       630\n",
      "-------------+----------------------------------   F(5, 624)       =     59.65\n",
      "       Model |  66.7397587         5  13.3479517   Prob > F        =    0.0000\n",
      "    Residual |  139.640584       624  .223782987   R-squared       =    0.3234\n",
      "-------------+----------------------------------   Adj R-squared   =    0.3180\n",
      "       Total |  206.380342       629  .328108652   Root MSE        =    .47306\n",
      "\n",
      "------------------------------------------------------------------------------\n",
      "     lcrmrte |      Coef.   Std. Err.      t    P>|t|     [95% Conf. Interval]\n",
      "-------------+----------------------------------------------------------------\n",
      "      prbarr |  -1.783391   .1164165   -15.32   0.000    -2.012006   -1.554775\n",
      "     prbconv |  -.0963331   .0125767    -7.66   0.000    -.1210309   -.0716353\n",
      "     prbpris |    .818684    .217159     3.77   0.000      .392233    1.245135\n",
      "       polpc |   55.78244   8.121544     6.87   0.000     39.83358    71.73131\n",
      "        wcon |   .0001359   .0001556     0.87   0.383    -.0001696    .0004414\n",
      "       _cons |  -3.483405   .1123962   -30.99   0.000    -3.704126   -3.262685\n",
      "------------------------------------------------------------------------------\n"
     ]
    }
   ],
   "source": [
    "reg lcrmrte prbarr prbconv prbpris polpc wcon"
   ]
  },
  {
   "cell_type": "code",
   "execution_count": 13,
   "metadata": {},
   "outputs": [
    {
     "name": "stdout",
     "output_type": "stream",
     "text": [
      "\n",
      "      Source |       SS           df       MS      Number of obs   =       630\n",
      "-------------+----------------------------------   F(2, 627)       =    100.16\n",
      "       Model |  49.9716297         2  24.9858149   Prob > F        =    0.0000\n",
      "    Residual |  156.408713       627  .249455682   R-squared       =    0.2421\n",
      "-------------+----------------------------------   Adj R-squared   =    0.2397\n",
      "       Total |  206.380342       629  .328108652   Root MSE        =    .49946\n",
      "\n",
      "------------------------------------------------------------------------------\n",
      "     lcrmrte |      Coef.   Std. Err.      t    P>|t|     [95% Conf. Interval]\n",
      "-------------+----------------------------------------------------------------\n",
      "      prbarr |  -1.718258   .1215659   -14.13   0.000    -1.956983   -1.479532\n",
      "       polpc |    25.8939   7.609941     3.40   0.001     10.94985    40.83796\n",
      "       _cons |  -3.130721   .0410872   -76.20   0.000    -3.211406   -3.050036\n",
      "------------------------------------------------------------------------------\n"
     ]
    }
   ],
   "source": [
    "reg lcrmrte prbarr polpc"
   ]
  },
  {
   "cell_type": "code",
   "execution_count": 7,
   "metadata": {},
   "outputs": [
    {
     "name": "stdout",
     "output_type": "stream",
     "text": [
      "\n",
      "      Source |       SS           df       MS      Number of obs   =       630\n",
      "-------------+----------------------------------   F(4, 625)       =     74.40\n",
      "       Model |    66.56898         4   16.642245   Prob > F        =    0.0000\n",
      "    Residual |  139.811362       625   .22369818   R-squared       =    0.3226\n",
      "-------------+----------------------------------   Adj R-squared   =    0.3182\n",
      "       Total |  206.380342       629  .328108652   Root MSE        =    .47297\n",
      "\n",
      "------------------------------------------------------------------------------\n",
      "     lcrmrte |      Coef.   Std. Err.      t    P>|t|     [95% Conf. Interval]\n",
      "-------------+----------------------------------------------------------------\n",
      "      prbarr |  -1.791017   .1160667   -15.43   0.000    -2.018945   -1.563089\n",
      "     prbconv |  -.0965906   .0125709    -7.68   0.000    -.1212769   -.0719043\n",
      "     prbpris |   .8114013   .2169578     3.74   0.000     .3853468    1.237456\n",
      "       polpc |   55.54709   8.115535     6.84   0.000     39.61007     71.4841\n",
      "       _cons |  -3.443948    .102902   -33.47   0.000    -3.646024   -3.241873\n",
      "------------------------------------------------------------------------------\n"
     ]
    }
   ],
   "source": [
    "reg lcrmrte prbarr prbconv prbpris polpc"
   ]
  },
  {
   "cell_type": "code",
   "execution_count": 12,
   "metadata": {},
   "outputs": [
    {
     "name": "stdout",
     "output_type": "stream",
     "text": [
      "\n",
      "      Source |       SS           df       MS      Number of obs   =       630\n",
      "-------------+----------------------------------   F(3, 626)       =     77.88\n",
      "       Model |  56.0892367         3  18.6964122   Prob > F        =    0.0000\n",
      "    Residual |  150.291106       626  .240081638   R-squared       =    0.2718\n",
      "-------------+----------------------------------   Adj R-squared   =    0.2683\n",
      "       Total |  206.380342       629  .328108652   Root MSE        =    .48998\n",
      "\n",
      "------------------------------------------------------------------------------\n",
      "     lcrmrte |      Coef.   Std. Err.      t    P>|t|     [95% Conf. Interval]\n",
      "-------------+----------------------------------------------------------------\n",
      "      prbarr |    -1.5484   .1144972   -13.52   0.000    -1.773245   -1.323555\n",
      "     prbconv |  -.0571234   .0115722    -4.94   0.000    -.0798484   -.0343983\n",
      "     prbpris |   .7755697   .2246969     3.45   0.001     .3343188    1.216821\n",
      "       _cons |  -3.423979   .1065608   -32.13   0.000    -3.633239   -3.214719\n",
      "------------------------------------------------------------------------------\n"
     ]
    }
   ],
   "source": [
    "reg lcrmrte prbarr prbconv prbpris"
   ]
  },
  {
   "cell_type": "code",
   "execution_count": 11,
   "metadata": {},
   "outputs": [
    {
     "name": "stdout",
     "output_type": "stream",
     "text": [
      "\n",
      "      Source |       SS           df       MS      Number of obs   =       630\n",
      "-------------+----------------------------------   F(1, 628)       =      0.41\n",
      "       Model |  .135241247         1  .135241247   Prob > F        =    0.5213\n",
      "    Residual |  206.245101       628  .328415766   R-squared       =    0.0007\n",
      "-------------+----------------------------------   Adj R-squared   =   -0.0009\n",
      "       Total |  206.380342       629  .328108652   Root MSE        =    .57308\n",
      "\n",
      "------------------------------------------------------------------------------\n",
      "     lcrmrte |      Coef.   Std. Err.      t    P>|t|     [95% Conf. Interval]\n",
      "-------------+----------------------------------------------------------------\n",
      "       polpc |  -5.361462   8.354889    -0.64   0.521    -21.76836    11.04544\n",
      "       _cons |  -3.598948   .0278884  -129.05   0.000    -3.653714   -3.544183\n",
      "------------------------------------------------------------------------------\n"
     ]
    }
   ],
   "source": [
    "reg lcrmrte polpc"
   ]
  },
  {
   "cell_type": "code",
   "execution_count": 8,
   "metadata": {},
   "outputs": [
    {
     "name": "stdout",
     "output_type": "stream",
     "text": [
      "\n",
      "      Source |       SS           df       MS      Number of obs   =       630\n",
      "-------------+----------------------------------   F(1, 628)       =    185.62\n",
      "       Model |  47.0834389         1  47.0834389   Prob > F        =    0.0000\n",
      "    Residual |  159.296903       628   .25365749   R-squared       =    0.2281\n",
      "-------------+----------------------------------   Adj R-squared   =    0.2269\n",
      "       Total |  206.380342       629  .328108652   Root MSE        =    .50364\n",
      "\n",
      "------------------------------------------------------------------------------\n",
      "     lcrmrte |      Coef.   Std. Err.      t    P>|t|     [95% Conf. Interval]\n",
      "-------------+----------------------------------------------------------------\n",
      "      prbarr |   -1.59806   .1172959   -13.62   0.000      -1.8284   -1.367721\n",
      "       _cons |  -3.118032   .0412608   -75.57   0.000    -3.199058   -3.037006\n",
      "------------------------------------------------------------------------------\n"
     ]
    }
   ],
   "source": [
    "reg lcrmrte prbarr"
   ]
  },
  {
   "cell_type": "code",
   "execution_count": 9,
   "metadata": {},
   "outputs": [
    {
     "name": "stdout",
     "output_type": "stream",
     "text": [
      "\n",
      "      Source |       SS           df       MS      Number of obs   =       630\n",
      "-------------+----------------------------------   F(1, 628)       =     23.38\n",
      "       Model |  7.40663868         1  7.40663868   Prob > F        =    0.0000\n",
      "    Residual |  198.973704       628  .316837108   R-squared       =    0.0359\n",
      "-------------+----------------------------------   Adj R-squared   =    0.0344\n",
      "       Total |  206.380342       629  .328108652   Root MSE        =    .56288\n",
      "\n",
      "------------------------------------------------------------------------------\n",
      "     lcrmrte |      Coef.   Std. Err.      t    P>|t|     [95% Conf. Interval]\n",
      "-------------+----------------------------------------------------------------\n",
      "     prbconv |  -.0641963   .0132775    -4.83   0.000      -.09027   -.0381226\n",
      "       _cons |  -3.565019    .024218  -147.21   0.000    -3.612577    -3.51746\n",
      "------------------------------------------------------------------------------\n"
     ]
    }
   ],
   "source": [
    "reg lcrmrte prbconv"
   ]
  },
  {
   "cell_type": "code",
   "execution_count": 10,
   "metadata": {},
   "outputs": [
    {
     "name": "stdout",
     "output_type": "stream",
     "text": [
      "\n",
      "      Source |       SS           df       MS      Number of obs   =       630\n",
      "-------------+----------------------------------   F(1, 628)       =     16.31\n",
      "       Model |  5.22294784         1  5.22294784   Prob > F        =    0.0001\n",
      "    Residual |  201.157395       628  .320314322   R-squared       =    0.0253\n",
      "-------------+----------------------------------   Adj R-squared   =    0.0238\n",
      "       Total |  206.380342       629  .328108652   Root MSE        =    .56596\n",
      "\n",
      "------------------------------------------------------------------------------\n",
      "     lcrmrte |      Coef.   Std. Err.      t    P>|t|     [95% Conf. Interval]\n",
      "-------------+----------------------------------------------------------------\n",
      "     prbpris |   1.044458   .2586552     4.04   0.000      .536524    1.552392\n",
      "       _cons |  -4.053661   .1123486   -36.08   0.000    -4.274286   -3.833037\n",
      "------------------------------------------------------------------------------\n"
     ]
    }
   ],
   "source": [
    "reg lcrmrte prbpris"
   ]
  },
  {
   "cell_type": "code",
   "execution_count": null,
   "metadata": {},
   "outputs": [],
   "source": []
  }
 ],
 "metadata": {
  "kernelspec": {
   "display_name": "Stata",
   "language": "stata",
   "name": "stata"
  },
  "language_info": {
   "codemirror_mode": "stata",
   "file_extension": ".do",
   "mimetype": "text/x-stata",
   "name": "stata",
   "version": "15.1"
  }
 },
 "nbformat": 4,
 "nbformat_minor": 2
}
