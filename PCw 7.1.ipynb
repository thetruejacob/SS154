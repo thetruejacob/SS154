{
 "cells": [
  {
   "cell_type": "markdown",
   "metadata": {},
   "source": [
    "7.6\n",
    "Data on the weekly sales of a major brand of canned tuna by a supermarket chain in a large midwestern U.S. city during a mid-1990s calendar year are contained in the file tuna.dat. There are 52 observations on the variable\n",
    "\n",
    "\n",
    "- $SAL1=$ unit sales of brand no. 1 canned tuna\n",
    "- $APR1=$ price per can of brand no. 1 canned tuna\n",
    "- $APR2, APR3=$  price per can of brands nos. 2 and 3 of canned tuna\n",
    "- $DISP =$  an indicator variable that takes the value one if there is a store display for brand no. 1 during the week but no newspaper ad; zero otherwise\n",
    "- $DISPAD=$ an indicator variable that takes the value one if there is a store display and a newspaper ad during the week; zero otherwise\n",
    "\n",
    "(a) Estimate, by least squares, the log-linear model\n",
    "$$ \\ln (SAL) = \\beta_1 + \\beta_2 APR1 + \\beta_3 APR2 + \\beta_4 APR3 + \\beta_5 DISP + \\beta_6 DISPAD + e $$\n"
   ]
  },
  {
   "cell_type": "code",
   "execution_count": 1,
   "metadata": {},
   "outputs": [
    {
     "name": "stdout",
     "output_type": "stream",
     "text": [
      "\n",
      "\n",
      "\n",
      "\n",
      "\n",
      "      Source |       SS           df       MS      Number of obs   =        52\n",
      "-------------+----------------------------------   F(5, 46)        =     49.33\n",
      "       Model |  28.4564198         5  5.69128397   Prob > F        =    0.0000\n",
      "    Residual |  5.30725263        46  .115375057   R-squared       =    0.8428\n",
      "-------------+----------------------------------   Adj R-squared   =    0.8257\n",
      "       Total |  33.7636725        51  .662032793   Root MSE        =    .33967\n",
      "\n",
      "------------------------------------------------------------------------------\n",
      "     log_sal |      Coef.   Std. Err.      t    P>|t|     [95% Conf. Interval]\n",
      "-------------+----------------------------------------------------------------\n",
      "        apr1 |  -3.746301   .5765177    -6.50   0.000    -4.906771   -2.585831\n",
      "        apr2 |   1.149494   .4486429     2.56   0.014      .246423    2.052566\n",
      "        apr3 |   1.288049   .6053247     2.13   0.039     .0695934    2.506504\n",
      "      1.disp |   .4237441   .1052095     4.03   0.000     .2119685    .6355198\n",
      "    1.dispad |   1.431253   .1561625     9.17   0.000     1.116914    1.745592\n",
      "       _cons |   8.984812   .6463663    13.90   0.000     7.683744    10.28588\n",
      "------------------------------------------------------------------------------\n"
     ]
    }
   ],
   "source": [
    "clear all\n",
    "use https://www.stata.com/data/s4poe4/tuna.dta\n",
    "gen log_sal = ln(sal1)\n",
    "reg log_sal apr1 apr2 apr3 i.disp i.dispad"
   ]
  },
  {
   "cell_type": "markdown",
   "metadata": {},
   "source": [
    "(b) Discuss and interpret the estimates of $\\beta_2$, $\\beta_3$, and $\\beta_4$."
   ]
  },
  {
   "cell_type": "markdown",
   "metadata": {},
   "source": [
    "As a normal good, the price elasticity of demand is negative. When price of brand 1 goes up, the demand (sales) for it go down. Brand 2 and 3 are substitutes, and as such their cross price elasticities with brand 1 is positive. When their price(s) goes up, brand 1 becomes relatively more attractive, and demand (sales) go up."
   ]
  },
  {
   "cell_type": "markdown",
   "metadata": {},
   "source": [
    "(c) Are the signs and relative magnitudes of the estimates of b5 and b6 consistent\n",
    "with economic logic? Interpret these estimates using the approaches in Sections\n",
    "7.3.1 and 7.3.2.\n"
   ]
  },
  {
   "cell_type": "markdown",
   "metadata": {},
   "source": [
    "$$ \\ln(SAL1)_{DISP = 1} - \\ln(SAL1)_{DISP = 0} = \\beta_5 $$\n",
    "$$ \\ln \\Bigg( \\frac{ SAL1_{DISP = 1}}{ SAL1_{DISP = 0} }  \\Bigg) = \\beta_5 \\Rightarrow \\frac{ SAL1_{DISP = 1}}{ SAL1_{DISP = 0} }  = e^{\\beta_5} $$\n",
    "\n",
    "$$  \\frac{ SAL1_{DISP = 1} - SAL1_{DISP = 0}}{ SAL1_{DISP = 0} }  = e^{\\beta_5} - 1 $$\n",
    "The differential for $\\beta_5$ is \n",
    "$$ 100(e^{\\hat{\\beta_5}} - 1 ) \\% = 100(e^{0.4237441} -1)\\% = 52.767061 \\%$$\n",
    "Similarly, the differential for $\\beta_6$ is\n",
    "$$ 100(e^{\\hat{\\beta_6}} - 1) \\% = 100(e^{1.431253} - 1) \\% = 318.393838 \\%$$\n",
    "\n",
    "\n",
    "It is surprising that having both an ad and a newspaper would generate such high returns - this implies a $100(\\frac{318.39 + 100}{52.77 + 1}-1)\\% = 273.876996 \\%$ increase if they added an ad in the newspaper for stores that already have a display. This makes some sense - perhaps there are compound effects, those who see both are more likely to go in. At the same time, at some point there would be diminishing returns, since there will be significant overlap between the two groups of people who have seen the ad, and who have seen the store display."
   ]
  },
  {
   "cell_type": "markdown",
   "metadata": {},
   "source": [
    "(d) Test, at the $\\alpha = 0.05$ level of significance, each of the following hypotheses:\n",
    "$$ \\begin{align}\n",
    "H_0 &: \\beta_5 = 0  && H_1: \\beta_5 \\neq 0\\\\\n",
    "H_0 &: \\beta_6 = 0 && H_1 : \\beta_6 \\neq 0 \\\\\n",
    "H_0 &: \\beta_5 = 0, \\beta_6 = 0 && H_1: \\beta_5 \\neq 0 \\text{ or }\\beta_6 \\neq 0 \\\\\n",
    "H_0 &: \\beta_6 \\leq \\beta_5, &&H_1: \\beta_6 > \\beta_5 \\\\\n",
    "\\end{align} $$"
   ]
  },
  {
   "cell_type": "code",
   "execution_count": 14,
   "metadata": {},
   "outputs": [
    {
     "name": "stdout",
     "output_type": "stream",
     "text": [
      "\n",
      "\n",
      " ( 1)  1.disp = 0\n",
      "\n",
      "       F(  1,    46) =   16.22\n",
      "            Prob > F =    0.0002\n",
      "\n",
      "\n",
      " ( 1)  1.dispad = 0\n",
      "\n",
      "       F(  1,    46) =   84.00\n",
      "            Prob > F =    0.0000\n",
      "\n",
      "\n",
      " ( 1)  1.disp - 1.dispad = 0\n",
      " ( 2)  1.disp = 0\n",
      "\n",
      "       F(  2,    46) =   42.02\n",
      "            Prob > F =    0.0000\n"
     ]
    }
   ],
   "source": [
    "di \"performed with t-tests and f-tests\"\n",
    "ttest disp == 0  \\\\ equivalent to testing if the whole variable is significant, as well as t-test\n",
    "ttest dispad == 0\n",
    "test 1.disp = 1.dispad = 0 \\\\ equivalent to testing if the two variables, as a whole, are significant\n",
    "\n",
    "gen diff = dispad - disp\n",
    "ttest diff == 0"
   ]
  },
  {
   "cell_type": "markdown",
   "metadata": {},
   "source": [
    "(e) Discuss the relevance of the hypothesis tests in (d) for the supermarket chain’s\n",
    "executives."
   ]
  },
  {
   "cell_type": "markdown",
   "metadata": {},
   "source": [
    "Our conclusion is that \n",
    "$$ \\beta_6 > \\beta_5 > 0$$\n",
    "Thus we should consider having both newspaper ads and on-store displays. The question is only if the effect size of $\\beta_6 - \\beta_5$ is going to be worth the difference in price. "
   ]
  },
  {
   "cell_type": "markdown",
   "metadata": {},
   "source": [
    "7.15\n",
    "\n",
    "The data file br2.dat contains data on 1080 house sales in Baton Rouge, Louisiana, during July and August 2005. The variables are $PRICE$ ($\\$$), $SQFT$ (total square feet), $BEDROOMS$ (number), $BATHS$ (number), $AGE$ (years), $OWNER$ ($=1$ if occupied by owner; zero if vacant or rented), $POOL$ ($=1$ if present), $TRADITIONAL$ ($=1$ if traditional style; $0$ if other style), $FIREPLACE$ ($=1$ if present), and $WATERFRONT$ ($=1$ if on waterfront).\n",
    "\n",
    "\n",
    "(a) Compute the data summary statistics and comment. In particular, construct a histogram of PRICE. What do you observe?"
   ]
  },
  {
   "cell_type": "code",
   "execution_count": 28,
   "metadata": {},
   "outputs": [
    {
     "name": "stdout",
     "output_type": "stream",
     "text": [
      "\n",
      "\n",
      "\n",
      "\n",
      "    Variable |        Obs        Mean    Std. Dev.       Min        Max\n",
      "-------------+---------------------------------------------------------\n",
      "       price |      1,080    154863.2    122912.8      22000    1580000\n",
      "        sqft |      1,080    2325.938    1008.098        662       7897\n",
      "    bedrooms |      1,080     3.17963    .7094959          1          8\n",
      "       baths |      1,080    1.973148    .6120669          1          5\n",
      "         age |      1,080    19.57407    17.19425          1         80\n",
      "-------------+---------------------------------------------------------\n",
      "       owner |      1,080    .4888889    .5001081          0          1\n",
      "        pool |      1,080    .0796296    .2708444          0          1\n",
      " traditional |      1,080    .5388889    .4987163          0          1\n",
      "   fireplace |      1,080     .562963    .4962496          0          1\n",
      "  waterfront |      1,080    .0722222    .2589754          0          1\n",
      "\n",
      "(bin=30, start=22000, width=51933.333)\n"
     ]
    },
    {
     "data": {
      "application/pdf": "[encoded data removed]",
      "image/svg+xml": [
       "<?xml version=\"1.0\" encoding=\"UTF-8\" standalone=\"no\"?>\n",
       "<!-- This is a Stata 16.0 generated SVG file (http://www.stata.com) -->\n",
       "\n",
       "<svg version=\"1.1\" width=\"600px\" height=\"436px\" viewBox=\"0 0 3960 2880\" xmlns=\"http://www.w3.org/2000/svg\" xmlns:xlink=\"http://www.w3.org/1999/xlink\">\n",
       "\t<desc>Stata Graph - Graph</desc>\n",
       "\t<rect x=\"0\" y=\"0\" width=\"3960\" height=\"2880\" style=\"fill:#EAF2F3;stroke:none\"/>\n",
       "\t<rect x=\"0.00\" y=\"0.00\" width=\"3959.88\" height=\"2880.00\" style=\"fill:#EAF2F3\"/>\n",
       "\t<rect x=\"2.88\" y=\"2.88\" width=\"3954.12\" height=\"2874.24\" style=\"fill:none;stroke:#EAF2F3;stroke-width:5.76\"/>\n",
       "\t<rect x=\"390.80\" y=\"100.86\" width=\"3468.22\" height=\"2388.33\" style=\"fill:#FFFFFF\"/>\n",
       "\t<rect x=\"393.68\" y=\"103.74\" width=\"3462.46\" height=\"2382.57\" style=\"fill:none;stroke:#FFFFFF;stroke-width:5.76\"/>\n",
       "\t<line x1=\"390.80\" y1=\"2489.19\" x2=\"3859.02\" y2=\"2489.19\" style=\"stroke:#EAF2F3;stroke-width:8.64\"/>\n",
       "\t<line x1=\"390.80\" y1=\"1907.91\" x2=\"3859.02\" y2=\"1907.91\" style=\"stroke:#EAF2F3;stroke-width:8.64\"/>\n",
       "\t<line x1=\"390.80\" y1=\"1326.64\" x2=\"3859.02\" y2=\"1326.64\" style=\"stroke:#EAF2F3;stroke-width:8.64\"/>\n",
       "\t<line x1=\"390.80\" y1=\"745.37\" x2=\"3859.02\" y2=\"745.37\" style=\"stroke:#EAF2F3;stroke-width:8.64\"/>\n",
       "\t<line x1=\"390.80\" y1=\"164.22\" x2=\"3859.02\" y2=\"164.22\" style=\"stroke:#EAF2F3;stroke-width:8.64\"/>\n",
       "\t<rect x=\"508.86\" y=\"1934.77\" width=\"109.64\" height=\"554.42\" style=\"fill:#CAC27E\"/>\n",
       "\t<rect x=\"513.18\" y=\"1939.09\" width=\"101.00\" height=\"545.78\" style=\"fill:none;stroke:#D7D29E;stroke-width:8.64\"/>\n",
       "\t<rect x=\"618.50\" y=\"478.68\" width=\"109.52\" height=\"2010.51\" style=\"fill:#CAC27E\"/>\n",
       "\t<rect x=\"622.82\" y=\"483.00\" width=\"100.88\" height=\"2001.87\" style=\"fill:none;stroke:#D7D29E;stroke-width:8.64\"/>\n",
       "\t<rect x=\"728.02\" y=\"706.76\" width=\"109.52\" height=\"1782.43\" style=\"fill:#CAC27E\"/>\n",
       "\t<rect x=\"732.34\" y=\"711.08\" width=\"100.88\" height=\"1773.79\" style=\"fill:none;stroke:#D7D29E;stroke-width:8.64\"/>\n",
       "\t<rect x=\"837.54\" y=\"1908.90\" width=\"109.64\" height=\"580.28\" style=\"fill:#CAC27E\"/>\n",
       "\t<rect x=\"841.86\" y=\"1913.22\" width=\"101.00\" height=\"571.64\" style=\"fill:none;stroke:#D7D29E;stroke-width:8.64\"/>\n",
       "\t<rect x=\"947.18\" y=\"2209.38\" width=\"109.52\" height=\"279.81\" style=\"fill:#CAC27E\"/>\n",
       "\t<rect x=\"951.50\" y=\"2213.70\" width=\"100.88\" height=\"271.17\" style=\"fill:none;stroke:#D7D29E;stroke-width:8.64\"/>\n",
       "\t<rect x=\"1056.70\" y=\"2323.36\" width=\"109.52\" height=\"165.83\" style=\"fill:#CAC27E\"/>\n",
       "\t<rect x=\"1061.02\" y=\"2327.67\" width=\"100.88\" height=\"157.19\" style=\"fill:none;stroke:#D7D29E;stroke-width:8.64\"/>\n",
       "\t<rect x=\"1166.22\" y=\"2406.27\" width=\"109.64\" height=\"82.92\" style=\"fill:#CAC27E\"/>\n",
       "\t<rect x=\"1170.54\" y=\"2410.59\" width=\"101.00\" height=\"74.28\" style=\"fill:none;stroke:#D7D29E;stroke-width:8.64\"/>\n",
       "\t<rect x=\"1275.86\" y=\"2442.53\" width=\"109.52\" height=\"46.66\" style=\"fill:#CAC27E\"/>\n",
       "\t<rect x=\"1280.18\" y=\"2446.85\" width=\"100.88\" height=\"38.02\" style=\"fill:none;stroke:#D7D29E;stroke-width:8.64\"/>\n",
       "\t<rect x=\"1385.38\" y=\"2468.52\" width=\"109.52\" height=\"20.67\" style=\"fill:#CAC27E\"/>\n",
       "\t<rect x=\"1389.70\" y=\"2472.84\" width=\"100.88\" height=\"12.03\" style=\"fill:none;stroke:#D7D29E;stroke-width:8.64\"/>\n",
       "\t<rect x=\"1494.90\" y=\"2483.99\" width=\"109.64\" height=\"5.20\" style=\"fill:#CAC27E\"/>\n",
       "\t<rect x=\"1499.22\" y=\"2488.31\" width=\"101.00\" height=\"-3.44\" style=\"fill:none;stroke:#D7D29E;stroke-width:8.64\"/>\n",
       "\t<rect x=\"1604.54\" y=\"2483.99\" width=\"109.52\" height=\"5.20\" style=\"fill:#CAC27E\"/>\n",
       "\t<rect x=\"1608.86\" y=\"2488.31\" width=\"100.88\" height=\"-3.44\" style=\"fill:none;stroke:#D7D29E;stroke-width:8.64\"/>\n",
       "\t<rect x=\"1714.06\" y=\"2473.72\" width=\"109.52\" height=\"15.47\" style=\"fill:#CAC27E\"/>\n",
       "\t<rect x=\"1718.38\" y=\"2478.04\" width=\"100.88\" height=\"6.83\" style=\"fill:none;stroke:#D7D29E;stroke-width:8.64\"/>\n",
       "\t<rect x=\"1823.58\" y=\"2483.99\" width=\"109.64\" height=\"5.20\" style=\"fill:#CAC27E\"/>\n",
       "\t<rect x=\"1827.90\" y=\"2488.31\" width=\"101.00\" height=\"-3.44\" style=\"fill:none;stroke:#D7D29E;stroke-width:8.64\"/>\n",
       "\t<rect x=\"1933.22\" y=\"2483.99\" width=\"109.52\" height=\"5.20\" style=\"fill:#CAC27E\"/>\n",
       "\t<rect x=\"1937.54\" y=\"2488.31\" width=\"100.88\" height=\"-3.44\" style=\"fill:none;stroke:#D7D29E;stroke-width:8.64\"/>\n",
       "\t<rect x=\"2261.90\" y=\"2483.99\" width=\"109.52\" height=\"5.20\" style=\"fill:#CAC27E\"/>\n",
       "\t<rect x=\"2266.22\" y=\"2488.31\" width=\"100.88\" height=\"-3.44\" style=\"fill:none;stroke:#D7D29E;stroke-width:8.64\"/>\n",
       "\t<rect x=\"2480.94\" y=\"2483.99\" width=\"109.64\" height=\"5.20\" style=\"fill:#CAC27E\"/>\n",
       "\t<rect x=\"2485.26\" y=\"2488.31\" width=\"101.00\" height=\"-3.44\" style=\"fill:none;stroke:#D7D29E;stroke-width:8.64\"/>\n",
       "\t<rect x=\"3028.78\" y=\"2483.99\" width=\"109.52\" height=\"5.20\" style=\"fill:#CAC27E\"/>\n",
       "\t<rect x=\"3033.10\" y=\"2488.31\" width=\"100.88\" height=\"-3.44\" style=\"fill:none;stroke:#D7D29E;stroke-width:8.64\"/>\n",
       "\t<rect x=\"3138.30\" y=\"2483.99\" width=\"109.64\" height=\"5.20\" style=\"fill:#CAC27E\"/>\n",
       "\t<rect x=\"3142.62\" y=\"2488.31\" width=\"101.00\" height=\"-3.44\" style=\"fill:none;stroke:#D7D29E;stroke-width:8.64\"/>\n",
       "\t<rect x=\"3357.46\" y=\"2483.99\" width=\"109.52\" height=\"5.20\" style=\"fill:#CAC27E\"/>\n",
       "\t<rect x=\"3361.78\" y=\"2488.31\" width=\"100.88\" height=\"-3.44\" style=\"fill:none;stroke:#D7D29E;stroke-width:8.64\"/>\n",
       "\t<rect x=\"3686.14\" y=\"2478.79\" width=\"109.52\" height=\"10.40\" style=\"fill:#CAC27E\"/>\n",
       "\t<rect x=\"3690.46\" y=\"2483.11\" width=\"100.88\" height=\"1.76\" style=\"fill:none;stroke:#D7D29E;stroke-width:8.64\"/>\n",
       "\t<line x1=\"390.80\" y1=\"2489.19\" x2=\"390.80\" y2=\"100.86\" style=\"stroke:#000000;stroke-width:5.76\"/>\n",
       "\t<line x1=\"390.80\" y1=\"2489.19\" x2=\"350.83\" y2=\"2489.19\" style=\"stroke:#000000;stroke-width:5.76\"/>\n",
       "\t<text x=\"300.72\" y=\"2489.19\" style=\"font-family:'Helvetica';font-size:99.99px;fill:#000000\" transform=\"rotate(-90 300.72,2489.19)\" text-anchor=\"middle\">0</text>\n",
       "\t<line x1=\"390.80\" y1=\"1907.91\" x2=\"350.83\" y2=\"1907.91\" style=\"stroke:#000000;stroke-width:5.76\"/>\n",
       "\t<text x=\"300.72\" y=\"1907.91\" style=\"font-family:'Helvetica';font-size:99.99px;fill:#000000\" transform=\"rotate(-90 300.72,1907.91)\" text-anchor=\"middle\">2.0e-06</text>\n",
       "\t<line x1=\"390.80\" y1=\"1326.64\" x2=\"350.83\" y2=\"1326.64\" style=\"stroke:#000000;stroke-width:5.76\"/>\n",
       "\t<text x=\"300.72\" y=\"1326.64\" style=\"font-family:'Helvetica';font-size:99.99px;fill:#000000\" transform=\"rotate(-90 300.72,1326.64)\" text-anchor=\"middle\">4.0e-06</text>\n",
       "\t<line x1=\"390.80\" y1=\"745.37\" x2=\"350.83\" y2=\"745.37\" style=\"stroke:#000000;stroke-width:5.76\"/>\n",
       "\t<text x=\"300.72\" y=\"745.37\" style=\"font-family:'Helvetica';font-size:99.99px;fill:#000000\" transform=\"rotate(-90 300.72,745.37)\" text-anchor=\"middle\">6.0e-06</text>\n",
       "\t<line x1=\"390.80\" y1=\"164.22\" x2=\"350.83\" y2=\"164.22\" style=\"stroke:#000000;stroke-width:5.76\"/>\n",
       "\t<text x=\"300.72\" y=\"164.22\" style=\"font-family:'Helvetica';font-size:99.99px;fill:#000000\" transform=\"rotate(-90 300.72,164.22)\" text-anchor=\"middle\">8.0e-06</text>\n",
       "\t<text x=\"190.71\" y=\"1294.96\" style=\"font-family:'Helvetica';font-size:99.99px;fill:#000000\" transform=\"rotate(-90 190.71,1294.96)\" text-anchor=\"middle\">Density</text>\n",
       "\t<line x1=\"390.80\" y1=\"2489.19\" x2=\"3859.02\" y2=\"2489.19\" style=\"stroke:#000000;stroke-width:5.76\"/>\n",
       "\t<line x1=\"462.45\" y1=\"2489.19\" x2=\"462.45\" y2=\"2529.16\" style=\"stroke:#000000;stroke-width:5.76\"/>\n",
       "\t<text x=\"462.45\" y=\"2619.14\" style=\"font-family:'Helvetica';font-size:99.99px;fill:#000000\" text-anchor=\"middle\">0</text>\n",
       "\t<line x1=\"1517.30\" y1=\"2489.19\" x2=\"1517.30\" y2=\"2529.16\" style=\"stroke:#000000;stroke-width:5.76\"/>\n",
       "\t<text x=\"1517.30\" y=\"2619.14\" style=\"font-family:'Helvetica';font-size:99.99px;fill:#000000\" text-anchor=\"middle\">500000</text>\n",
       "\t<line x1=\"2572.14\" y1=\"2489.19\" x2=\"2572.14\" y2=\"2529.16\" style=\"stroke:#000000;stroke-width:5.76\"/>\n",
       "\t<text x=\"2572.14\" y=\"2619.14\" style=\"font-family:'Helvetica';font-size:99.99px;fill:#000000\" text-anchor=\"middle\">1000000</text>\n",
       "\t<line x1=\"3626.99\" y1=\"2489.19\" x2=\"3626.99\" y2=\"2529.16\" style=\"stroke:#000000;stroke-width:5.76\"/>\n",
       "\t<text x=\"3626.99\" y=\"2619.14\" style=\"font-family:'Helvetica';font-size:99.99px;fill:#000000\" text-anchor=\"middle\">1500000</text>\n",
       "\t<text x=\"2124.91\" y=\"2729.16\" style=\"font-family:'Helvetica';font-size:99.99px;fill:#000000\" text-anchor=\"middle\">sale price, dollars</text>\n",
       "</svg>\n"
      ],
      "text/html": [
       "                <iframe frameborder=\"0\" scrolling=\"no\" height=\"436\" width=\"600\"                srcdoc=\"<html><body>&lt;?xml version=&quot;1.0&quot; encoding=&quot;UTF-8&quot; standalone=&quot;no&quot;?&gt;\n",
       "&lt;!-- This is a Stata 16.0 generated SVG file (http://www.stata.com) --&gt;\n",
       "\n",
       "&lt;svg version=&quot;1.1&quot; width=&quot;600px&quot; height=&quot;436px&quot; viewBox=&quot;0 0 3960 2880&quot; xmlns=&quot;http://www.w3.org/2000/svg&quot; xmlns:xlink=&quot;http://www.w3.org/1999/xlink&quot;&gt;\n",
       "\t&lt;desc&gt;Stata Graph - Graph&lt;/desc&gt;\n",
       "\t&lt;rect x=&quot;0&quot; y=&quot;0&quot; width=&quot;3960&quot; height=&quot;2880&quot; style=&quot;fill:#EAF2F3;stroke:none&quot;/&gt;\n",
       "\t&lt;rect x=&quot;0.00&quot; y=&quot;0.00&quot; width=&quot;3959.88&quot; height=&quot;2880.00&quot; style=&quot;fill:#EAF2F3&quot;/&gt;\n",
       "\t&lt;rect x=&quot;2.88&quot; y=&quot;2.88&quot; width=&quot;3954.12&quot; height=&quot;2874.24&quot; style=&quot;fill:none;stroke:#EAF2F3;stroke-width:5.76&quot;/&gt;\n",
       "\t&lt;rect x=&quot;390.80&quot; y=&quot;100.86&quot; width=&quot;3468.22&quot; height=&quot;2388.33&quot; style=&quot;fill:#FFFFFF&quot;/&gt;\n",
       "\t&lt;rect x=&quot;393.68&quot; y=&quot;103.74&quot; width=&quot;3462.46&quot; height=&quot;2382.57&quot; style=&quot;fill:none;stroke:#FFFFFF;stroke-width:5.76&quot;/&gt;\n",
       "\t&lt;line x1=&quot;390.80&quot; y1=&quot;2489.19&quot; x2=&quot;3859.02&quot; y2=&quot;2489.19&quot; style=&quot;stroke:#EAF2F3;stroke-width:8.64&quot;/&gt;\n",
       "\t&lt;line x1=&quot;390.80&quot; y1=&quot;1907.91&quot; x2=&quot;3859.02&quot; y2=&quot;1907.91&quot; style=&quot;stroke:#EAF2F3;stroke-width:8.64&quot;/&gt;\n",
       "\t&lt;line x1=&quot;390.80&quot; y1=&quot;1326.64&quot; x2=&quot;3859.02&quot; y2=&quot;1326.64&quot; style=&quot;stroke:#EAF2F3;stroke-width:8.64&quot;/&gt;\n",
       "\t&lt;line x1=&quot;390.80&quot; y1=&quot;745.37&quot; x2=&quot;3859.02&quot; y2=&quot;745.37&quot; style=&quot;stroke:#EAF2F3;stroke-width:8.64&quot;/&gt;\n",
       "\t&lt;line x1=&quot;390.80&quot; y1=&quot;164.22&quot; x2=&quot;3859.02&quot; y2=&quot;164.22&quot; style=&quot;stroke:#EAF2F3;stroke-width:8.64&quot;/&gt;\n",
       "\t&lt;rect x=&quot;508.86&quot; y=&quot;1934.77&quot; width=&quot;109.64&quot; height=&quot;554.42&quot; style=&quot;fill:#CAC27E&quot;/&gt;\n",
       "\t&lt;rect x=&quot;513.18&quot; y=&quot;1939.09&quot; width=&quot;101.00&quot; height=&quot;545.78&quot; style=&quot;fill:none;stroke:#D7D29E;stroke-width:8.64&quot;/&gt;\n",
       "\t&lt;rect x=&quot;618.50&quot; y=&quot;478.68&quot; width=&quot;109.52&quot; height=&quot;2010.51&quot; style=&quot;fill:#CAC27E&quot;/&gt;\n",
       "\t&lt;rect x=&quot;622.82&quot; y=&quot;483.00&quot; width=&quot;100.88&quot; height=&quot;2001.87&quot; style=&quot;fill:none;stroke:#D7D29E;stroke-width:8.64&quot;/&gt;\n",
       "\t&lt;rect x=&quot;728.02&quot; y=&quot;706.76&quot; width=&quot;109.52&quot; height=&quot;1782.43&quot; style=&quot;fill:#CAC27E&quot;/&gt;\n",
       "\t&lt;rect x=&quot;732.34&quot; y=&quot;711.08&quot; width=&quot;100.88&quot; height=&quot;1773.79&quot; style=&quot;fill:none;stroke:#D7D29E;stroke-width:8.64&quot;/&gt;\n",
       "\t&lt;rect x=&quot;837.54&quot; y=&quot;1908.90&quot; width=&quot;109.64&quot; height=&quot;580.28&quot; style=&quot;fill:#CAC27E&quot;/&gt;\n",
       "\t&lt;rect x=&quot;841.86&quot; y=&quot;1913.22&quot; width=&quot;101.00&quot; height=&quot;571.64&quot; style=&quot;fill:none;stroke:#D7D29E;stroke-width:8.64&quot;/&gt;\n",
       "\t&lt;rect x=&quot;947.18&quot; y=&quot;2209.38&quot; width=&quot;109.52&quot; height=&quot;279.81&quot; style=&quot;fill:#CAC27E&quot;/&gt;\n",
       "\t&lt;rect x=&quot;951.50&quot; y=&quot;2213.70&quot; width=&quot;100.88&quot; height=&quot;271.17&quot; style=&quot;fill:none;stroke:#D7D29E;stroke-width:8.64&quot;/&gt;\n",
       "\t&lt;rect x=&quot;1056.70&quot; y=&quot;2323.36&quot; width=&quot;109.52&quot; height=&quot;165.83&quot; style=&quot;fill:#CAC27E&quot;/&gt;\n",
       "\t&lt;rect x=&quot;1061.02&quot; y=&quot;2327.67&quot; width=&quot;100.88&quot; height=&quot;157.19&quot; style=&quot;fill:none;stroke:#D7D29E;stroke-width:8.64&quot;/&gt;\n",
       "\t&lt;rect x=&quot;1166.22&quot; y=&quot;2406.27&quot; width=&quot;109.64&quot; height=&quot;82.92&quot; style=&quot;fill:#CAC27E&quot;/&gt;\n",
       "\t&lt;rect x=&quot;1170.54&quot; y=&quot;2410.59&quot; width=&quot;101.00&quot; height=&quot;74.28&quot; style=&quot;fill:none;stroke:#D7D29E;stroke-width:8.64&quot;/&gt;\n",
       "\t&lt;rect x=&quot;1275.86&quot; y=&quot;2442.53&quot; width=&quot;109.52&quot; height=&quot;46.66&quot; style=&quot;fill:#CAC27E&quot;/&gt;\n",
       "\t&lt;rect x=&quot;1280.18&quot; y=&quot;2446.85&quot; width=&quot;100.88&quot; height=&quot;38.02&quot; style=&quot;fill:none;stroke:#D7D29E;stroke-width:8.64&quot;/&gt;\n",
       "\t&lt;rect x=&quot;1385.38&quot; y=&quot;2468.52&quot; width=&quot;109.52&quot; height=&quot;20.67&quot; style=&quot;fill:#CAC27E&quot;/&gt;\n",
       "\t&lt;rect x=&quot;1389.70&quot; y=&quot;2472.84&quot; width=&quot;100.88&quot; height=&quot;12.03&quot; style=&quot;fill:none;stroke:#D7D29E;stroke-width:8.64&quot;/&gt;\n",
       "\t&lt;rect x=&quot;1494.90&quot; y=&quot;2483.99&quot; width=&quot;109.64&quot; height=&quot;5.20&quot; style=&quot;fill:#CAC27E&quot;/&gt;\n",
       "\t&lt;rect x=&quot;1499.22&quot; y=&quot;2488.31&quot; width=&quot;101.00&quot; height=&quot;-3.44&quot; style=&quot;fill:none;stroke:#D7D29E;stroke-width:8.64&quot;/&gt;\n",
       "\t&lt;rect x=&quot;1604.54&quot; y=&quot;2483.99&quot; width=&quot;109.52&quot; height=&quot;5.20&quot; style=&quot;fill:#CAC27E&quot;/&gt;\n",
       "\t&lt;rect x=&quot;1608.86&quot; y=&quot;2488.31&quot; width=&quot;100.88&quot; height=&quot;-3.44&quot; style=&quot;fill:none;stroke:#D7D29E;stroke-width:8.64&quot;/&gt;\n",
       "\t&lt;rect x=&quot;1714.06&quot; y=&quot;2473.72&quot; width=&quot;109.52&quot; height=&quot;15.47&quot; style=&quot;fill:#CAC27E&quot;/&gt;\n",
       "\t&lt;rect x=&quot;1718.38&quot; y=&quot;2478.04&quot; width=&quot;100.88&quot; height=&quot;6.83&quot; style=&quot;fill:none;stroke:#D7D29E;stroke-width:8.64&quot;/&gt;\n",
       "\t&lt;rect x=&quot;1823.58&quot; y=&quot;2483.99&quot; width=&quot;109.64&quot; height=&quot;5.20&quot; style=&quot;fill:#CAC27E&quot;/&gt;\n",
       "\t&lt;rect x=&quot;1827.90&quot; y=&quot;2488.31&quot; width=&quot;101.00&quot; height=&quot;-3.44&quot; style=&quot;fill:none;stroke:#D7D29E;stroke-width:8.64&quot;/&gt;\n",
       "\t&lt;rect x=&quot;1933.22&quot; y=&quot;2483.99&quot; width=&quot;109.52&quot; height=&quot;5.20&quot; style=&quot;fill:#CAC27E&quot;/&gt;\n",
       "\t&lt;rect x=&quot;1937.54&quot; y=&quot;2488.31&quot; width=&quot;100.88&quot; height=&quot;-3.44&quot; style=&quot;fill:none;stroke:#D7D29E;stroke-width:8.64&quot;/&gt;\n",
       "\t&lt;rect x=&quot;2261.90&quot; y=&quot;2483.99&quot; width=&quot;109.52&quot; height=&quot;5.20&quot; style=&quot;fill:#CAC27E&quot;/&gt;\n",
       "\t&lt;rect x=&quot;2266.22&quot; y=&quot;2488.31&quot; width=&quot;100.88&quot; height=&quot;-3.44&quot; style=&quot;fill:none;stroke:#D7D29E;stroke-width:8.64&quot;/&gt;\n",
       "\t&lt;rect x=&quot;2480.94&quot; y=&quot;2483.99&quot; width=&quot;109.64&quot; height=&quot;5.20&quot; style=&quot;fill:#CAC27E&quot;/&gt;\n",
       "\t&lt;rect x=&quot;2485.26&quot; y=&quot;2488.31&quot; width=&quot;101.00&quot; height=&quot;-3.44&quot; style=&quot;fill:none;stroke:#D7D29E;stroke-width:8.64&quot;/&gt;\n",
       "\t&lt;rect x=&quot;3028.78&quot; y=&quot;2483.99&quot; width=&quot;109.52&quot; height=&quot;5.20&quot; style=&quot;fill:#CAC27E&quot;/&gt;\n",
       "\t&lt;rect x=&quot;3033.10&quot; y=&quot;2488.31&quot; width=&quot;100.88&quot; height=&quot;-3.44&quot; style=&quot;fill:none;stroke:#D7D29E;stroke-width:8.64&quot;/&gt;\n",
       "\t&lt;rect x=&quot;3138.30&quot; y=&quot;2483.99&quot; width=&quot;109.64&quot; height=&quot;5.20&quot; style=&quot;fill:#CAC27E&quot;/&gt;\n",
       "\t&lt;rect x=&quot;3142.62&quot; y=&quot;2488.31&quot; width=&quot;101.00&quot; height=&quot;-3.44&quot; style=&quot;fill:none;stroke:#D7D29E;stroke-width:8.64&quot;/&gt;\n",
       "\t&lt;rect x=&quot;3357.46&quot; y=&quot;2483.99&quot; width=&quot;109.52&quot; height=&quot;5.20&quot; style=&quot;fill:#CAC27E&quot;/&gt;\n",
       "\t&lt;rect x=&quot;3361.78&quot; y=&quot;2488.31&quot; width=&quot;100.88&quot; height=&quot;-3.44&quot; style=&quot;fill:none;stroke:#D7D29E;stroke-width:8.64&quot;/&gt;\n",
       "\t&lt;rect x=&quot;3686.14&quot; y=&quot;2478.79&quot; width=&quot;109.52&quot; height=&quot;10.40&quot; style=&quot;fill:#CAC27E&quot;/&gt;\n",
       "\t&lt;rect x=&quot;3690.46&quot; y=&quot;2483.11&quot; width=&quot;100.88&quot; height=&quot;1.76&quot; style=&quot;fill:none;stroke:#D7D29E;stroke-width:8.64&quot;/&gt;\n",
       "\t&lt;line x1=&quot;390.80&quot; y1=&quot;2489.19&quot; x2=&quot;390.80&quot; y2=&quot;100.86&quot; style=&quot;stroke:#000000;stroke-width:5.76&quot;/&gt;\n",
       "\t&lt;line x1=&quot;390.80&quot; y1=&quot;2489.19&quot; x2=&quot;350.83&quot; y2=&quot;2489.19&quot; style=&quot;stroke:#000000;stroke-width:5.76&quot;/&gt;\n",
       "\t&lt;text x=&quot;300.72&quot; y=&quot;2489.19&quot; style=&quot;font-family:&#x27;Helvetica&#x27;;font-size:99.99px;fill:#000000&quot; transform=&quot;rotate(-90 300.72,2489.19)&quot; text-anchor=&quot;middle&quot;&gt;0&lt;/text&gt;\n",
       "\t&lt;line x1=&quot;390.80&quot; y1=&quot;1907.91&quot; x2=&quot;350.83&quot; y2=&quot;1907.91&quot; style=&quot;stroke:#000000;stroke-width:5.76&quot;/&gt;\n",
       "\t&lt;text x=&quot;300.72&quot; y=&quot;1907.91&quot; style=&quot;font-family:&#x27;Helvetica&#x27;;font-size:99.99px;fill:#000000&quot; transform=&quot;rotate(-90 300.72,1907.91)&quot; text-anchor=&quot;middle&quot;&gt;2.0e-06&lt;/text&gt;\n",
       "\t&lt;line x1=&quot;390.80&quot; y1=&quot;1326.64&quot; x2=&quot;350.83&quot; y2=&quot;1326.64&quot; style=&quot;stroke:#000000;stroke-width:5.76&quot;/&gt;\n",
       "\t&lt;text x=&quot;300.72&quot; y=&quot;1326.64&quot; style=&quot;font-family:&#x27;Helvetica&#x27;;font-size:99.99px;fill:#000000&quot; transform=&quot;rotate(-90 300.72,1326.64)&quot; text-anchor=&quot;middle&quot;&gt;4.0e-06&lt;/text&gt;\n",
       "\t&lt;line x1=&quot;390.80&quot; y1=&quot;745.37&quot; x2=&quot;350.83&quot; y2=&quot;745.37&quot; style=&quot;stroke:#000000;stroke-width:5.76&quot;/&gt;\n",
       "\t&lt;text x=&quot;300.72&quot; y=&quot;745.37&quot; style=&quot;font-family:&#x27;Helvetica&#x27;;font-size:99.99px;fill:#000000&quot; transform=&quot;rotate(-90 300.72,745.37)&quot; text-anchor=&quot;middle&quot;&gt;6.0e-06&lt;/text&gt;\n",
       "\t&lt;line x1=&quot;390.80&quot; y1=&quot;164.22&quot; x2=&quot;350.83&quot; y2=&quot;164.22&quot; style=&quot;stroke:#000000;stroke-width:5.76&quot;/&gt;\n",
       "\t&lt;text x=&quot;300.72&quot; y=&quot;164.22&quot; style=&quot;font-family:&#x27;Helvetica&#x27;;font-size:99.99px;fill:#000000&quot; transform=&quot;rotate(-90 300.72,164.22)&quot; text-anchor=&quot;middle&quot;&gt;8.0e-06&lt;/text&gt;\n",
       "\t&lt;text x=&quot;190.71&quot; y=&quot;1294.96&quot; style=&quot;font-family:&#x27;Helvetica&#x27;;font-size:99.99px;fill:#000000&quot; transform=&quot;rotate(-90 190.71,1294.96)&quot; text-anchor=&quot;middle&quot;&gt;Density&lt;/text&gt;\n",
       "\t&lt;line x1=&quot;390.80&quot; y1=&quot;2489.19&quot; x2=&quot;3859.02&quot; y2=&quot;2489.19&quot; style=&quot;stroke:#000000;stroke-width:5.76&quot;/&gt;\n",
       "\t&lt;line x1=&quot;462.45&quot; y1=&quot;2489.19&quot; x2=&quot;462.45&quot; y2=&quot;2529.16&quot; style=&quot;stroke:#000000;stroke-width:5.76&quot;/&gt;\n",
       "\t&lt;text x=&quot;462.45&quot; y=&quot;2619.14&quot; style=&quot;font-family:&#x27;Helvetica&#x27;;font-size:99.99px;fill:#000000&quot; text-anchor=&quot;middle&quot;&gt;0&lt;/text&gt;\n",
       "\t&lt;line x1=&quot;1517.30&quot; y1=&quot;2489.19&quot; x2=&quot;1517.30&quot; y2=&quot;2529.16&quot; style=&quot;stroke:#000000;stroke-width:5.76&quot;/&gt;\n",
       "\t&lt;text x=&quot;1517.30&quot; y=&quot;2619.14&quot; style=&quot;font-family:&#x27;Helvetica&#x27;;font-size:99.99px;fill:#000000&quot; text-anchor=&quot;middle&quot;&gt;500000&lt;/text&gt;\n",
       "\t&lt;line x1=&quot;2572.14&quot; y1=&quot;2489.19&quot; x2=&quot;2572.14&quot; y2=&quot;2529.16&quot; style=&quot;stroke:#000000;stroke-width:5.76&quot;/&gt;\n",
       "\t&lt;text x=&quot;2572.14&quot; y=&quot;2619.14&quot; style=&quot;font-family:&#x27;Helvetica&#x27;;font-size:99.99px;fill:#000000&quot; text-anchor=&quot;middle&quot;&gt;1000000&lt;/text&gt;\n",
       "\t&lt;line x1=&quot;3626.99&quot; y1=&quot;2489.19&quot; x2=&quot;3626.99&quot; y2=&quot;2529.16&quot; style=&quot;stroke:#000000;stroke-width:5.76&quot;/&gt;\n",
       "\t&lt;text x=&quot;3626.99&quot; y=&quot;2619.14&quot; style=&quot;font-family:&#x27;Helvetica&#x27;;font-size:99.99px;fill:#000000&quot; text-anchor=&quot;middle&quot;&gt;1500000&lt;/text&gt;\n",
       "\t&lt;text x=&quot;2124.91&quot; y=&quot;2729.16&quot; style=&quot;font-family:&#x27;Helvetica&#x27;;font-size:99.99px;fill:#000000&quot; text-anchor=&quot;middle&quot;&gt;sale price, dollars&lt;/text&gt;\n",
       "&lt;/svg&gt;\n",
       "</body></html>\"></iframe>\n"
      ],
      "text/plain": [
       "This front-end cannot display the desired image type."
      ]
     },
     "metadata": {
      "image/svg+xml": {
       "height": 436,
       "width": 600
      },
      "text/html": {
       "height": 436,
       "width": 600
      }
     },
     "output_type": "display_data"
    },
    {
     "name": "stdout",
     "output_type": "stream",
     "text": [
      "\n",
      "\n"
     ]
    }
   ],
   "source": [
    "clear all\n",
    "use https://www.stata.com/data/s4poe4/br2.dta\n",
    "summarize\n",
    "hist price"
   ]
  },
  {
   "cell_type": "markdown",
   "metadata": {},
   "source": [
    "Price is a heavily tailed distribution, with lots of orders of magnitude. we should us logs in order to make differences more comparable."
   ]
  },
  {
   "cell_type": "markdown",
   "metadata": {},
   "source": [
    "(b) Estimate a regression model explaining ln(PRICE=1000) as a function of the remaining variables. Divide the variable SQFT by 100 prior to estimation. Comment on how well the model fits the data. Discuss the signs and statistical significance of the estimated coefficients. Are the signs what you expect? Give an exact interpretation of the coefficient of WATERFRONT."
   ]
  },
  {
   "cell_type": "code",
   "execution_count": 30,
   "metadata": {},
   "outputs": [
    {
     "name": "stdout",
     "output_type": "stream",
     "text": [
      "\n",
      "      Source |       SS           df       MS      Number of obs   =     1,080\n",
      "-------------+----------------------------------   F(9, 1070)      =    333.72\n",
      "       Model |  218.891432         9  24.3212702   Prob > F        =    0.0000\n",
      "    Residual |  77.9809235     1,070  .072879368   R-squared       =    0.7373\n",
      "-------------+----------------------------------   Adj R-squared   =    0.7351\n",
      "       Total |  296.872355     1,079  .275136567   Root MSE        =    .26996\n",
      "\n",
      "-------------------------------------------------------------------------------\n",
      "  lnprice1000 |      Coef.   Std. Err.      t    P>|t|     [95% Conf. Interval]\n",
      "--------------+----------------------------------------------------------------\n",
      "      sqft100 |   .0299011   .0014059    21.27   0.000     .0271425    .0326597\n",
      "     bedrooms |   -.031506   .0166109    -1.90   0.058    -.0640996    .0010875\n",
      "        baths |    .190119   .0205579     9.25   0.000     .1497807    .2304573\n",
      "          age |  -.0062145   .0005179   -12.00   0.000    -.0072308   -.0051982\n",
      "      1.owner |   .0674655    .017746     3.80   0.000     .0326445    .1022864\n",
      "       1.pool |  -.0042748   .0315812    -0.14   0.892    -.0662429    .0576933\n",
      "1.traditional |  -.0560925   .0170267    -3.29   0.001    -.0895021    -.022683\n",
      "  1.fireplace |   .0842748    .019015     4.43   0.000     .0469639    .1215857\n",
      " 1.waterfront |     .10997    .033355     3.30   0.001     .0445213    .1754186\n",
      "        _cons |   3.980833   .0458947    86.74   0.000     3.890779    4.070886\n",
      "-------------------------------------------------------------------------------\n"
     ]
    }
   ],
   "source": [
    "gen lnprice1000 = ln(price / 1000)\n",
    "gen sqft100 = sqft / 100\n",
    "\n",
    "reg lnprice1000 sqft100 bedrooms baths age i.owner i.pool i.traditional i.fireplace i.waterfront"
   ]
  },
  {
   "cell_type": "code",
   "execution_count": 31,
   "metadata": {},
   "outputs": [
    {
     "name": "stdout",
     "output_type": "stream",
     "text": [
      "\n",
      "      Source |       SS           df       MS      Number of obs   =     1,080\n",
      "-------------+----------------------------------   F(10, 1069)     =    302.46\n",
      "       Model |  219.346722        10  21.9346722   Prob > F        =    0.0000\n",
      "    Residual |  77.5256335     1,069   .07252164   R-squared       =    0.7389\n",
      "-------------+----------------------------------   Adj R-squared   =    0.7364\n",
      "       Total |  296.872355     1,079  .275136567   Root MSE        =     .2693\n",
      "\n",
      "----------------------------------------------------------------------------------------\n",
      "           lnprice1000 |      Coef.   Std. Err.      t    P>|t|     [95% Conf. Interval]\n",
      "-----------------------+----------------------------------------------------------------\n",
      "               sqft100 |   .0300308   .0014034    21.40   0.000     .0272771    .0327845\n",
      "              bedrooms |   -.031333   .0165702    -1.89   0.059    -.0638468    .0011807\n",
      "                 baths |   .1882577   .0205208     9.17   0.000      .147992    .2285233\n",
      "                   age |   -.006147   .0005174   -11.88   0.000    -.0071621   -.0051318\n",
      "               1.owner |   .0683702   .0177061     3.86   0.000     .0336275    .1031128\n",
      "                1.pool |  -.0023939   .0315125    -0.08   0.939    -.0642274    .0594395\n",
      "           1.fireplace |   .0873139    .019007     4.59   0.000     .0500187    .1246092\n",
      "                       |\n",
      "waterfront#traditional |\n",
      "                  0 1  |  -.0449127   .0175612    -2.56   0.011     -.079371   -.0104544\n",
      "                  1 0  |   .1653741   .0399505     4.14   0.000     .0869837    .2437644\n",
      "                  1 1  |  -.0517133   .0574561    -0.90   0.368    -.1644528    .0610262\n",
      "                       |\n",
      "                 _cons |   3.971113    .045946    86.43   0.000     3.880958    4.061267\n",
      "----------------------------------------------------------------------------------------\n"
     ]
    }
   ],
   "source": [
    "reg lnprice1000 sqft100 bedrooms baths age i.owner i.pool i.fireplace i.waterfront#i.traditional "
   ]
  },
  {
   "cell_type": "markdown",
   "metadata": {},
   "source": [
    "The signs of sqft100, baths and age make sense and are statistically significant. The bigger the house is, the more baths, and the newer (to some extent - sometimes older is better, but only for specific old/historical houses) it is, the make it should cost. \n",
    "\n",
    "- The coefficient for bedrooms, -0.031 however, does not make sense - houses with more bedrooms should be more, not less expensive - but this is not statistically significant at the $5\\%$ level, so the model is uncertain, as it should be.\n",
    "- The coefficient of the dummy variable pool, is uncertain - should houses with pools should be more or less expensive than other houses ceteris paribus? This uncertainty is reflected in the low t-statistic, which is not significant.\n",
    "- The coefficients for the dummy variables owner, fireplace, and waterfront make sense. Having an owner means someone to take care of the house before it is sold. A fireplace does not take much sqft space and is a nice addition that adds price. Being a waterfront property means the location is nicer and the house is valued more. \n",
    "- The coefficient for traditional is significant, and negative, but it is unclear if this makes sense. Are traditional houses worth less because they are older? 'Traditional' has a positive connotation that should imply more expensive, culturally significant homes. Perhaps it would make sense if this variable was further explained, or further discretized in the data collection process."
   ]
  },
  {
   "cell_type": "markdown",
   "metadata": {},
   "source": [
    "(c) Create a variable that is the product of $WATERFRONT$ and $TRADITIONAL$. Add this variable to the model and reestimate. What is the effect of adding this variable? Interpret the coefficient of this interaction variable, and discuss its sign and statistical significance."
   ]
  },
  {
   "cell_type": "code",
   "execution_count": 32,
   "metadata": {},
   "outputs": [
    {
     "name": "stdout",
     "output_type": "stream",
     "text": [
      "\n",
      "\n",
      "\n",
      "      Source |       SS           df       MS      Number of obs   =     1,080\n",
      "-------------+----------------------------------   F(9, 1070)      =    333.72\n",
      "       Model |  218.891432         9  24.3212702   Prob > F        =    0.0000\n",
      "    Residual |  77.9809235     1,070  .072879368   R-squared       =    0.7373\n",
      "-------------+----------------------------------   Adj R-squared   =    0.7351\n",
      "       Total |  296.872355     1,079  .275136567   Root MSE        =    .26996\n",
      "\n",
      "-------------------------------------------------------------------------------\n",
      "  lnprice1000 |      Coef.   Std. Err.      t    P>|t|     [95% Conf. Interval]\n",
      "--------------+----------------------------------------------------------------\n",
      "      sqft100 |   .0299011   .0014059    21.27   0.000     .0271425    .0326597\n",
      "     bedrooms |   -.031506   .0166109    -1.90   0.058    -.0640996    .0010875\n",
      "        baths |    .190119   .0205579     9.25   0.000     .1497807    .2304573\n",
      "          age |  -.0062145   .0005179   -12.00   0.000    -.0072308   -.0051982\n",
      "      1.owner |   .0674655    .017746     3.80   0.000     .0326445    .1022864\n",
      "       1.pool |  -.0042748   .0315812    -0.14   0.892    -.0662429    .0576933\n",
      "  1.fireplace |   .0842748    .019015     4.43   0.000     .0469639    .1215857\n",
      " 1.waterfront |     .10997    .033355     3.30   0.001     .0445213    .1754186\n",
      "1.traditional |  -.0560925   .0170267    -3.29   0.001    -.0895021    -.022683\n",
      "        _cons |   3.980833   .0458947    86.74   0.000     3.890779    4.070886\n",
      "-------------------------------------------------------------------------------\n",
      "\n",
      "\n",
      "      Source |       SS           df       MS      Number of obs   =     1,080\n",
      "-------------+----------------------------------   F(10, 1069)     =    302.46\n",
      "       Model |  219.346722        10  21.9346722   Prob > F        =    0.0000\n",
      "    Residual |  77.5256335     1,069   .07252164   R-squared       =    0.7389\n",
      "-------------+----------------------------------   Adj R-squared   =    0.7364\n",
      "       Total |  296.872355     1,079  .275136567   Root MSE        =     .2693\n",
      "\n",
      "----------------------------------------------------------------------------------------\n",
      "           lnprice1000 |      Coef.   Std. Err.      t    P>|t|     [95% Conf. Interval]\n",
      "-----------------------+----------------------------------------------------------------\n",
      "               sqft100 |   .0300308   .0014034    21.40   0.000     .0272771    .0327845\n",
      "              bedrooms |   -.031333   .0165702    -1.89   0.059    -.0638468    .0011807\n",
      "                 baths |   .1882577   .0205208     9.17   0.000      .147992    .2285233\n",
      "                   age |   -.006147   .0005174   -11.88   0.000    -.0071621   -.0051318\n",
      "               1.owner |   .0683702   .0177061     3.86   0.000     .0336275    .1031128\n",
      "                1.pool |  -.0023939   .0315125    -0.08   0.939    -.0642274    .0594395\n",
      "           1.fireplace |   .0873139    .019007     4.59   0.000     .0500187    .1246092\n",
      "                       |\n",
      "waterfront#traditional |\n",
      "                  0 1  |  -.0449127   .0175612    -2.56   0.011     -.079371   -.0104544\n",
      "                  1 0  |   .1653741   .0399505     4.14   0.000     .0869837    .2437644\n",
      "                  1 1  |  -.0517133   .0574561    -0.90   0.368    -.1644528    .0610262\n",
      "                       |\n",
      "                 _cons |   3.971113    .045946    86.43   0.000     3.880958    4.061267\n",
      "----------------------------------------------------------------------------------------\n",
      "\n",
      "\n",
      "      Source |       SS           df       MS      Number of obs   =     1,080\n",
      "-------------+----------------------------------   F(10, 1069)     =    302.46\n",
      "       Model |  219.346722        10  21.9346722   Prob > F        =    0.0000\n",
      "    Residual |  77.5256335     1,069   .07252164   R-squared       =    0.7389\n",
      "-------------+----------------------------------   Adj R-squared   =    0.7364\n",
      "       Total |  296.872355     1,079  .275136567   Root MSE        =     .2693\n",
      "\n",
      "-----------------------------------------------------------------------------------------\n",
      "            lnprice1000 |      Coef.   Std. Err.      t    P>|t|     [95% Conf. Interval]\n",
      "------------------------+----------------------------------------------------------------\n",
      "                sqft100 |   .0300308   .0014034    21.40   0.000     .0272771    .0327845\n",
      "               bedrooms |   -.031333   .0165702    -1.89   0.059    -.0638468    .0011807\n",
      "                  baths |   .1882577   .0205208     9.17   0.000      .147992    .2285233\n",
      "                    age |   -.006147   .0005174   -11.88   0.000    -.0071621   -.0051318\n",
      "                1.owner |   .0683702   .0177061     3.86   0.000     .0336275    .1031128\n",
      "                 1.pool |  -.0023939   .0315125    -0.08   0.939    -.0642274    .0594395\n",
      "            1.fireplace |   .0873139    .019007     4.59   0.000     .0500187    .1246092\n",
      "           1.waterfront |   .1653741   .0399505     4.14   0.000     .0869837    .2437644\n",
      "          1.traditional |  -.0449127   .0175612    -2.56   0.011     -.079371   -.0104544\n",
      "1.waterfronttraditional |  -.1721747   .0687162    -2.51   0.012    -.3070086   -.0373408\n",
      "                  _cons |   3.971113    .045946    86.43   0.000     3.880958    4.061267\n",
      "-----------------------------------------------------------------------------------------\n"
     ]
    }
   ],
   "source": [
    "gen waterfronttraditional = waterfront * traditional\n",
    "reg lnprice1000 sqft100 bedrooms baths age i.owner i.pool i.fireplace i.waterfront#i.traditional \n",
    "reg lnprice1000 sqft100 bedrooms baths age i.owner i.pool i.fireplace i.waterfront i.traditional i.waterfronttraditional"
   ]
  },
  {
   "cell_type": "markdown",
   "metadata": {},
   "source": [
    "This variable allows us to further categorize old houses that they next to waterfront properties. This sounds quite strange - expensive waterfront properties tend to be newer. But since traditional houses were seen as a negative, as 'old', this should increase the value "
   ]
  },
  {
   "cell_type": "markdown",
   "metadata": {},
   "source": [
    "(d) It is arguable that the traditional-style homes may have a different regression function from the diverse set of nontraditional styles. Carry out a Chow test of the equivalence of the regression models for traditional versus nontraditional styles. What do you conclude?"
   ]
  },
  {
   "cell_type": "markdown",
   "metadata": {},
   "source": [
    "$$\\begin{align}\n",
    "C &= stuff \\\\\n",
    "& = \\frac{\\left(78.7718812\\:-\\:\\left(44.7413294+31.058155\\right)\\right)/9}{\\left(7413294+31.058155\\right)/\\left(498+582\\:-\\:2\\left(9\\right)\\right)\\:}\n",
    "= 0.0004 \\\\\\end{align}$$"
   ]
  },
  {
   "cell_type": "code",
   "execution_count": 42,
   "metadata": {},
   "outputs": [
    {
     "name": "stdout",
     "output_type": "stream",
     "text": [
      "\n",
      "      Source |       SS           df       MS      Number of obs   =     1,080\n",
      "-------------+----------------------------------   F(17, 1062)     =    182.20\n",
      "       Model |  221.072871        17  13.0042865   Prob > F        =    0.0000\n",
      "    Residual |  75.7994844     1,062  .071374279   R-squared       =    0.7447\n",
      "-------------+----------------------------------   Adj R-squared   =    0.7406\n",
      "       Total |  296.872355     1,079  .275136567   Root MSE        =    .26716\n",
      "\n",
      "----------------------------------------------------------------------------------------\n",
      "           lnprice1000 |      Coef.   Std. Err.      t    P>|t|     [95% Conf. Interval]\n",
      "-----------------------+----------------------------------------------------------------\n",
      "         1.traditional |  -.3350838   .0944926    -3.55   0.000    -.5204971   -.1496705\n",
      "               sqft100 |    .032401   .0018412    17.60   0.000     .0287882    .0360138\n",
      "                       |\n",
      " traditional#c.sqft100 |\n",
      "                    1  |  -.0052974   .0028196    -1.88   0.061    -.0108301    .0002352\n",
      "                       |\n",
      "              bedrooms |  -.0713737   .0236571    -3.02   0.003    -.1177937   -.0249537\n",
      "                       |\n",
      "traditional#c.bedrooms |\n",
      "                    1  |   .0989064   .0335594     2.95   0.003      .033056    .1647567\n",
      "                       |\n",
      "                 baths |   .1831139   .0288594     6.35   0.000     .1264861    .2397418\n",
      "                       |\n",
      "   traditional#c.baths |\n",
      "                    1  |   .0310767   .0412135     0.75   0.451    -.0497924    .1119457\n",
      "                       |\n",
      "                   age |  -.0054674   .0007292    -7.50   0.000    -.0068982   -.0040365\n",
      "                       |\n",
      "     traditional#c.age |\n",
      "                    1  |  -.0012916   .0010325    -1.25   0.211    -.0033175    .0007343\n",
      "                       |\n",
      "               1.owner |   .0388479   .0258967     1.50   0.134    -.0119666    .0896625\n",
      "                       |\n",
      "     traditional#owner |\n",
      "                  1 1  |    .058687      .0353     1.66   0.097    -.0105787    .1279527\n",
      "                       |\n",
      "                1.pool |   .0021253   .0419397     0.05   0.960    -.0801687    .0844193\n",
      "                       |\n",
      "      traditional#pool |\n",
      "                  1 1  |  -.0237596   .0630941    -0.38   0.707    -.1475628    .1000436\n",
      "                       |\n",
      "           1.fireplace |   .0578017   .0296703     1.95   0.052    -.0004172    .1160207\n",
      "                       |\n",
      " traditional#fireplace |\n",
      "                  1 1  |   .0650471   .0386865     1.68   0.093    -.0108636    .1409578\n",
      "                       |\n",
      "          1.waterfront |    .172979   .0406915     4.25   0.000     .0931342    .2528237\n",
      "                       |\n",
      "traditional#waterfront |\n",
      "                  1 1  |  -.2069886   .0710609    -2.91   0.004    -.3464244   -.0675529\n",
      "                       |\n",
      "                 _cons |   4.067269   .0576957    70.50   0.000     3.954058    4.180479\n",
      "----------------------------------------------------------------------------------------\n"
     ]
    }
   ],
   "source": [
    "reg lnprice1000 i.traditional##c.sqft100 i.traditional##c.bedrooms i.traditional##c.baths i.traditional##c.age i.traditional##i.owner i.traditional##i.pool i.traditional##i.fireplace i.traditional##i.waterfront"
   ]
  },
  {
   "cell_type": "code",
   "execution_count": 49,
   "metadata": {},
   "outputs": [
    {
     "name": "stdout",
     "output_type": "stream",
     "text": [
      "\n",
      "Contrasts of marginal linear predictions\n",
      "\n",
      "Margins      : asbalanced\n",
      "\n",
      "----------------------------------------------------------\n",
      "                       |         df           F        P>F\n",
      "-----------------------+----------------------------------\n",
      "           traditional |          1       13.10     0.0003\n",
      "                       |\n",
      " traditional#c.sqft100 |          1        3.53     0.0605\n",
      "                       |\n",
      "traditional#c.bedrooms |          1        8.69     0.0033\n",
      "                       |\n",
      "   traditional#c.baths |          1        0.57     0.4510\n",
      "                       |\n",
      "     traditional#c.age |          1        1.56     0.2112\n",
      "                       |\n",
      "     traditional#owner |          1        2.76     0.0967\n",
      "                       |\n",
      "      traditional#pool |          1        0.14     0.7066\n",
      "                       |\n",
      " traditional#fireplace |          1        2.83     0.0930\n",
      "                       |\n",
      "traditional#waterfront |          1        8.48     0.0037\n",
      "                       |\n",
      "               Overall |          9        4.63     0.0000\n",
      "                       |\n",
      "           Denominator |       1062\n",
      "----------------------------------------------------------\n"
     ]
    }
   ],
   "source": [
    "contrast traditional traditional#c.sqft100 traditional#c.bedrooms traditional#c.baths traditional#c.age traditional#i.owner traditional#i.pool traditional#i.fireplace traditional#i.waterfront, overall"
   ]
  },
  {
   "cell_type": "markdown",
   "metadata": {},
   "source": [
    "(e) Using the equation estimated in part (d), predict the value of a traditional style house with 2500 square feet of area, that is 20 years old, that is owner-occupied at the time of sale, that has a fireplace, 3 bedrooms, and 2 baths, but no pool, and\n",
    "that is not on the waterfront."
   ]
  },
  {
   "cell_type": "markdown",
   "metadata": {},
   "source": [
    "When traditional,\n",
    "$$ \\begin{align} E \\Bigg[ \\ln \\Big(\\frac{PRICE}{1000} \\Big) \\Bigg] & = (\\beta_{cons} +  \\theta_{trad}) + \\Bigg( (\\beta_{sqft1000} + \\theta_{trad \\times sqft100})SQFT100 + \\cdots \\Bigg) + \\Bigg( (\\delta_{owner} + \\theta_{trad \\times owner}) OWNER + \\cdots \\Bigg) = f\\\\\n",
    "\\hat{f}&= (4.067269 - 0.3350838 )  +(0.032401 - 0.0052974)SQFT100 + (-0.0713737 + 0.0989064)bedrooms  + (.1831139 + .0310767)baths + (-.0054674  - 0.0012916)age\\\\\n",
    "& + (.0388479 +  .058687)owner + (.0021253 + -.0237596)pool + (.0578017 + .0650471)fireplace + (.172979 + -.2069886)waterfront\\\\\n",
    "& =3.7321852 +  (0.0271036)SQFT100+(0.0275327)BEDROOMS+(0.2141906)BATHS+(-0.006759)AGE \\\\\n",
    "& + 0.0975349(OWNER)-0.0216343(POOL)+0.1228488(FIREPLACE)-0.0340096(WATEFRONT)\\\\\n",
    "& =3.7321852\\:+\\:\\:\\left(0.0271036\\right)25+\\left(0.0275327\\right)3+\\left(0.2141906\\right)2+\\left(-0.006759\\right)20\\: + 0.0975349(1)-0.0216343(0)+0.1228488(1)-0.0340096(0)\\\\\n",
    "& = 5.0059582 \\\\\n",
    " E[PRICE] &= e^{5.0059582} * 1000 = 149300.074\n",
    "\\end{align} $$"
   ]
  },
  {
   "cell_type": "markdown",
   "metadata": {},
   "source": [
    "We expect this to be around 150 grand."
   ]
  }
 ],
 "metadata": {
  "kernelspec": {
   "display_name": "Stata",
   "language": "stata",
   "name": "stata"
  },
  "language_info": {
   "codemirror_mode": "stata",
   "file_extension": ".do",
   "mimetype": "text/x-stata",
   "name": "stata",
   "version": "15.1"
  }
 },
 "nbformat": 4,
 "nbformat_minor": 2
}
