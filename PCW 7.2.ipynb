{
 "cells": [
  {
   "cell_type": "markdown",
   "metadata": {},
   "source": [
    "Mortgage lenders are interested in determining borrower and loan factors that may lead to delinquency or foreclosure. In the file $\\textit{lasvegas.dat}$ are 1,000 observations on mortgages for single family homes in Las Vegas, Nevada during 2008. The variable of interest is $\\textit{DELINQUENT}$, an indicator variable $= 1$ if the borrower missed at least three payments ($90+$ days late), but $0$ otherwise. Explanatory variables: are $\\textit{LVR}=$  the ratio of the loan amount to the value of the property; $\\textit{REF}=1$ if purpose of the loan was a ‘‘refinance’’ and $=0$ if loan was for a purchase; $\\textit{INSUR}=1$ if mortgage carries mortgage insurance, $0$ otherwise; $\\textit{RATE}=$ initial interest rate of the mort- gage; $\\textit{AMOUNT}$  dollar value of mortgage (in $\\$100,000$); $\\textit{CREDIT}=$ credit score, $\\textit{TERM}=$ number of years between disbursement of the loan and the date it is expected to be fully repaid, $\\textit{ARM}=1$  if mortgage has an adjustable rate, and $=0$ if mortgage has a fixed rate."
   ]
  },
  {
   "cell_type": "markdown",
   "metadata": {},
   "source": [
    "Estimate the linear probability (regression) model explaining DELINQUENT as a function of the remaining variables. Use White robust standard errors. Are the signs of the estimated coefficients reasonable?"
   ]
  },
  {
   "cell_type": "code",
   "execution_count": 1,
   "metadata": {},
   "outputs": [
    {
     "name": "stdout",
     "output_type": "stream",
     "text": [
      "\n",
      "\n",
      "\n",
      "\n",
      "      Source |       SS           df       MS      Number of obs   =     1,000\n",
      "-------------+----------------------------------   F(8, 991)       =     62.77\n",
      "       Model |  53.6062717         8  6.70078397   Prob > F        =    0.0000\n",
      "    Residual |  105.792728       991   .10675351   R-squared       =    0.3363\n",
      "-------------+----------------------------------   Adj R-squared   =    0.3309\n",
      "       Total |     159.399       999  .159558559   Root MSE        =    .32673\n",
      "\n",
      "------------------------------------------------------------------------------\n",
      "  delinquent |      Coef.   Std. Err.      t    P>|t|     [95% Conf. Interval]\n",
      "-------------+----------------------------------------------------------------\n",
      "         lvr |   .0016239   .0007846     2.07   0.039     .0000843    .0031634\n",
      "         ref |  -.0593237   .0238299    -2.49   0.013    -.1060865   -.0125609\n",
      "       insur |  -.4815849   .0236365   -20.37   0.000    -.5279683   -.4352015\n",
      "        rate |   .0343761   .0085999     4.00   0.000        .0175    .0512523\n",
      "      amount |    .023768   .0126699     1.88   0.061     -.001095     .048631\n",
      "      credit |  -.0004419   .0002018    -2.19   0.029    -.0008379   -.0000459\n",
      "        term |  -.0126195   .0035386    -3.57   0.000    -.0195635   -.0056755\n",
      "         arm |   .1283239   .0318867     4.02   0.000     .0657507    .1908971\n",
      "       _cons |   .6884913   .2112456     3.26   0.001     .2739511    1.103031\n",
      "------------------------------------------------------------------------------\n",
      "\n",
      "(option xb assumed; fitted values)\n"
     ]
    }
   ],
   "source": [
    "clear all\n",
    "use https://www.stata.com/data/s4poe4/lasvegas.dta\n",
    "reg delinquent lvr ref insur rate amount credit term arm\n",
    "predict phat"
   ]
  },
  {
   "cell_type": "markdown",
   "metadata": {},
   "source": [
    "(b) Use probit to estimate the model in (a). Are the signs and significance of the estimated coefficients the same as for the linear probability model?"
   ]
  },
  {
   "cell_type": "code",
   "execution_count": 9,
   "metadata": {},
   "outputs": [
    {
     "name": "stdout",
     "output_type": "stream",
     "text": [
      "\n",
      "\n",
      "Iteration 0:   log likelihood =   -499.013  \n",
      "Iteration 1:   log likelihood = -338.38904  \n",
      "Iteration 2:   log likelihood = -332.81547  \n",
      "Iteration 3:   log likelihood = -332.79661  \n",
      "Iteration 4:   log likelihood = -332.79661  \n",
      "\n",
      "Probit regression                               Number of obs     =      1,000\n",
      "                                                LR chi2(8)        =     332.43\n",
      "                                                Prob > chi2       =     0.0000\n",
      "Log likelihood = -332.79661                     Pseudo R2         =     0.3331\n",
      "\n",
      "------------------------------------------------------------------------------\n",
      "  delinquent |      Coef.   Std. Err.      z    P>|z|     [95% Conf. Interval]\n",
      "-------------+----------------------------------------------------------------\n",
      "         lvr |   .0076007   .0045911     1.66   0.098    -.0013977    .0165991\n",
      "         ref |  -.2884561   .1259446    -2.29   0.022    -.5353029   -.0416092\n",
      "       insur |  -1.772714   .1158088   -15.31   0.000    -1.999695   -1.545733\n",
      "        rate |   .1711988   .0438147     3.91   0.000     .0853236    .2570741\n",
      "      amount |    .121236   .0615491     1.97   0.049      .000602    .2418701\n",
      "      credit |  -.0019131   .0010638    -1.80   0.072    -.0039981    .0001718\n",
      "        term |  -.0775769   .0198396    -3.91   0.000    -.1164618    -.038692\n",
      "         arm |   .8091109   .2077119     3.90   0.000      .402003    1.216219\n",
      "       _cons |    .964646   1.088121     0.89   0.375    -1.168033    3.097325\n",
      "------------------------------------------------------------------------------\n",
      "\n",
      "variable phat2 already defined\n"
     ]
    },
    {
     "name": "stderr",
     "output_type": "stream",
     "text": [
      "r(110);\n",
      "r(110);\n"
     ]
    },
    {
     "name": "stdout",
     "output_type": "stream",
     "text": [
      "\n",
      "\n"
     ]
    }
   ],
   "source": [
    "probit delinquent lvr ref insur rate amount credit term arm\n",
    "predict phat2"
   ]
  },
  {
   "cell_type": "markdown",
   "metadata": {},
   "source": [
    "lvr, credit are significant in the first model but not in the second. \n",
    "amount is significant in the second but not the first.\n",
    "\n",
    "Everything else was in agreement"
   ]
  },
  {
   "cell_type": "markdown",
   "metadata": {},
   "source": [
    "(c) Compute the predicted value of DELINQUENT for the 500th and 1,000th observations using both the linear probability model and the probit model. Interpret the values."
   ]
  },
  {
   "cell_type": "code",
   "execution_count": 3,
   "metadata": {},
   "outputs": [
    {
     "name": "stdout",
     "output_type": "stream",
     "text": [
      "\n",
      ".18278283\n",
      "\n",
      ".1404525\n",
      "\n",
      ".57852966\n",
      "\n",
      ".6167872\n"
     ]
    }
   ],
   "source": [
    "di phat[500]\n",
    "di phat2[500]\n",
    "\n",
    "di phat[1000]\n",
    "di phat2[1000]"
   ]
  },
  {
   "cell_type": "markdown",
   "metadata": {},
   "source": [
    "(d) Construct a histogram of CREDIT. Using both linear probability and probit models, calculate the probability of delinquency for $\\textit{CREDIT} = 500, 600, \\text{and } 700$ for a loan of $ \\$250,000  ( \\textit{AMOUNT} = 2.5)$. For the other variables, loan to value ratio (LVR) is $80\\%$, initial interest rate is $8\\%$, indicator variables take the value one, and $\\textit{TERM} =30$. Discuss similarities and differences among the predicted probabilities from the two models.\n",
    "\n",
    "The linear probability model is\n",
    "$$ \\textit{DELINQUENT} = .6884913 + (.0016239)\\textit{LVR} + (-.0593237)\\textit{REF} + (-.4815849)\\textit{INSUR} + (.0343761)\\textit{RATE} + (-.0004419)\\textit{CREDIT} + (-.0126195)\\textit{TERM} + (.8091109)\\textit{ARM}$$\n",
    "\n",
    "Which, for a person above with a credit score of 500, 600 and 700 respectively, are $0.7620794, 0.7178894, 0.6736994$ respectively.\n",
    "\n",
    "And the probit model is \n",
    "$$ z = (-.2884561)\\textit{REF} + (-1.772714)\\textit{INSUR} + (.1711988)\\textit{RATE} + (.121236)\\textit{AMOUNT} + (-.0775769)\\textit{TERM} + (.8091109)\\textit{ARM}$$\n",
    "$$ DELINQUENT = \\Phi(z) = \\frac{1}{\\sqrt{2 \\pi}} e^{-0.5 z^2}$$\n",
    "\n",
    "Which, for a person above with a credit score of 500, 600 and 700 respectively, are $z = -1.9066858  \\Rightarrow  \\frac{1}{\\sqrt{2 \\pi}} e^{-0.5 (-1.9066858)^2}  = 0.06478$\n",
    "\n",
    "As expected from the linear probability model, the probability of deliquency reduces as the credit score increases. However the projected probability of deliquency is very high, compared to in the probit model, which does not take the credit score significantly into account.\n"
   ]
  },
  {
   "cell_type": "markdown",
   "metadata": {},
   "source": [
    "Compute the marginal effect of $\\textit{CREDIT}$ on the probability of delinquency for $\\textit{CREDIT}=  500, 600, \\text{ and } 700$, given that the other explanatory variables take the values in (d). Discuss the interpretation of the marginal effect.\n"
   ]
  },
  {
   "cell_type": "code",
   "execution_count": 11,
   "metadata": {},
   "outputs": [
    {
     "name": "stdout",
     "output_type": "stream",
     "text": [
      "(100) invalid statistic\n"
     ]
    },
    {
     "name": "stderr",
     "output_type": "stream",
     "text": [
      "r(198);\n"
     ]
    },
    {
     "name": "stdout",
     "output_type": "stream",
     "text": [
      "\n"
     ]
    }
   ],
   "source": [
    "margins, at (credit = 500(100)700)"
   ]
  },
  {
   "cell_type": "markdown",
   "metadata": {},
   "source": [
    "Using a data introduced in one of the past pre-class work questions, check whether **margins **command in Stata correctly estimates the marginal effect of an interaction term in a nonlinear model. Note: Use a probit model and interact two continuous variables."
   ]
  },
  {
   "cell_type": "code",
   "execution_count": null,
   "metadata": {},
   "outputs": [],
   "source": []
  },
  {
   "cell_type": "code",
   "execution_count": null,
   "metadata": {},
   "outputs": [],
   "source": []
  },
  {
   "cell_type": "code",
   "execution_count": 1,
   "metadata": {},
   "outputs": [],
   "source": [
    "clear all\n",
    "use https://www.stata.com/data/s4poe4/nels_small.dta"
   ]
  },
  {
   "cell_type": "code",
   "execution_count": 2,
   "metadata": {},
   "outputs": [
    {
     "name": "stdout",
     "output_type": "stream",
     "text": [
      "\n",
      "    Variable |        Obs        Mean    Std. Dev.       Min        Max\n",
      "-------------+---------------------------------------------------------\n",
      "   psechoice |      1,000       2.305    .8103281          1          3\n",
      "      hscath |      1,000        .019     .136593          0          1\n",
      "      grades |      1,000     6.53039    2.265855       1.74      12.33\n",
      "      faminc |      1,000     51.3935    40.16579          0        250\n",
      "      famsiz |      1,000       4.206    1.291988          1         10\n",
      "-------------+---------------------------------------------------------\n",
      "     parcoll |      1,000        .308    .4618976          0          1\n",
      "      female |      1,000        .496    .5002342          0          1\n",
      "       black |      1,000        .056    .2300368          0          1\n"
     ]
    }
   ],
   "source": [
    "summ"
   ]
  },
  {
   "cell_type": "code",
   "execution_count": 5,
   "metadata": {},
   "outputs": [
    {
     "name": "stdout",
     "output_type": "stream",
     "text": [
      "\n",
      "\n",
      "\n",
      "    Variable |        Obs        Mean    Std. Dev.       Min        Max\n",
      "-------------+---------------------------------------------------------\n",
      "   psechoice |      1,000       2.305    .8103281          1          3\n",
      "      hscath |      1,000        .019     .136593          0          1\n",
      "      grades |      1,000     6.53039    2.265855       1.74      12.33\n",
      "      faminc |      1,000     51.3935    40.16579          0        250\n",
      "      famsiz |      1,000       4.206    1.291988          1         10\n",
      "-------------+---------------------------------------------------------\n",
      "     parcoll |      1,000        .308    .4618976          0          1\n",
      "      female |      1,000        .496    .5002342          0          1\n",
      "       black |      1,000        .056    .2300368          0          1\n",
      "     college |      1,000        .778    .4157991          0          1\n"
     ]
    }
   ],
   "source": [
    "gen college = (psechoice == 2 | psechoice == 3)\n",
    "summ "
   ]
  },
  {
   "cell_type": "code",
   "execution_count": 6,
   "metadata": {},
   "outputs": [
    {
     "name": "stdout",
     "output_type": "stream",
     "text": [
      "\n",
      "      Source |       SS           df       MS      Number of obs   =     1,000\n",
      "-------------+----------------------------------   F(6, 993)       =     38.80\n",
      "       Model |  32.8040232         6  5.46733721   Prob > F        =    0.0000\n",
      "    Residual |  139.911977       993  .140898265   R-squared       =    0.1899\n",
      "-------------+----------------------------------   Adj R-squared   =    0.1850\n",
      "       Total |     172.716       999  .172888889   Root MSE        =    .37536\n",
      "\n",
      "------------------------------------------------------------------------------\n",
      "     college |      Coef.   Std. Err.      t    P>|t|     [95% Conf. Interval]\n",
      "-------------+----------------------------------------------------------------\n",
      "      grades |  -.0674628   .0056661   -11.91   0.000    -.0785817   -.0563439\n",
      "      faminc |   .0008605   .0003307     2.60   0.009     .0002115    .0015096\n",
      "      famsiz |  -.0091176   .0092538    -0.99   0.325    -.0272768    .0090416\n",
      "     parcoll |   .0914926   .0293783     3.11   0.002      .033842    .1491432\n",
      "      female |   .0126828   .0242538     0.52   0.601    -.0349119    .0602775\n",
      "       black |   .1460885   .0525936     2.78   0.006     .0428812    .2492957\n",
      "       _cons |    1.17003   .0604191    19.37   0.000     1.051466    1.288594\n",
      "------------------------------------------------------------------------------\n"
     ]
    }
   ],
   "source": [
    "reg college grades faminc famsiz parcoll female black"
   ]
  },
  {
   "cell_type": "code",
   "execution_count": 15,
   "metadata": {},
   "outputs": [
    {
     "name": "stdout",
     "output_type": "stream",
     "text": [
      "\n",
      "Adjusted predictions                            Number of obs     =      1,000\n",
      "Model VCE    : OIM\n",
      "\n",
      "Expression   : Pr(college), predict()\n",
      "at           : grades          =           5\n",
      "               faminc          =       51.39\n",
      "               famsiz          =           5\n",
      "               parcoll         =           1\n",
      "               female          =           1\n",
      "               black           =           1\n",
      "\n",
      "------------------------------------------------------------------------------\n",
      "             |            Delta-method\n",
      "             |     Margin   Std. Err.      z    P>|z|     [95% Conf. Interval]\n",
      "-------------+----------------------------------------------------------------\n",
      "       _cons |   .9904545   .0067251   147.28   0.000     .9772735    1.003636\n",
      "------------------------------------------------------------------------------\n"
     ]
    }
   ],
   "source": [
    "margins, at(grades = 5 faminc = 51.39 famsiz = 5 parcoll = 1 female = 1 black =1)"
   ]
  },
  {
   "cell_type": "code",
   "execution_count": 14,
   "metadata": {},
   "outputs": [
    {
     "name": "stdout",
     "output_type": "stream",
     "text": [
      "\n",
      "Average marginal effects                        Number of obs     =      1,000\n",
      "Model VCE    : OIM\n",
      "\n",
      "Expression   : Pr(college), predict()\n",
      "dy/dx w.r.t. : grades faminc\n",
      "\n",
      "------------------------------------------------------------------------------\n",
      "             |            Delta-method\n",
      "             |      dy/dx   Std. Err.      z    P>|z|     [95% Conf. Interval]\n",
      "-------------+----------------------------------------------------------------\n",
      "      grades |  -.0689669   .0053522   -12.89   0.000     -.079457   -.0584768\n",
      "      faminc |   .0012627   .0004222     2.99   0.003     .0004353    .0020902\n",
      "------------------------------------------------------------------------------\n"
     ]
    }
   ],
   "source": [
    "margins, dydx(grades faminc)"
   ]
  },
  {
   "cell_type": "code",
   "execution_count": 13,
   "metadata": {},
   "outputs": [
    {
     "name": "stdout",
     "output_type": "stream",
     "text": [
      "\n",
      "Iteration 0:   log likelihood = -529.42766  \n",
      "Iteration 1:   log likelihood = -421.36098  \n",
      "Iteration 2:   log likelihood = -416.23435  \n",
      "Iteration 3:   log likelihood = -416.21967  \n",
      "Iteration 4:   log likelihood = -416.21967  \n",
      "\n",
      "Probit regression                               Number of obs     =      1,000\n",
      "                                                LR chi2(6)        =     226.42\n",
      "                                                Prob > chi2       =     0.0000\n",
      "Log likelihood = -416.21967                     Pseudo R2         =     0.2138\n",
      "\n",
      "------------------------------------------------------------------------------\n",
      "     college |      Coef.   Std. Err.      z    P>|z|     [95% Conf. Interval]\n",
      "-------------+----------------------------------------------------------------\n",
      "      grades |  -.2945521   .0274883   -10.72   0.000    -.3484281   -.2406761\n",
      "      faminc |    .005393   .0018099     2.98   0.003     .0018457    .0089404\n",
      "      famsiz |  -.0531059   .0374572    -1.42   0.156    -.1265208    .0203089\n",
      "     parcoll |   .4765344   .1424818     3.34   0.001     .1972752    .7557936\n",
      "      female |   .0237927   .1014679     0.23   0.815    -.1750807    .2226662\n",
      "       black |   .6109028   .2176203     2.81   0.005     .1843749    1.037431\n",
      "       _cons |   2.693662   .2834592     9.50   0.000     2.138092    3.249231\n",
      "------------------------------------------------------------------------------\n"
     ]
    }
   ],
   "source": [
    "probit college grades faminc famsiz parcoll female black"
   ]
  },
  {
   "cell_type": "code",
   "execution_count": 9,
   "metadata": {},
   "outputs": [
    {
     "name": "stdout",
     "output_type": "stream",
     "text": [
      "\n",
      "Iteration 0:   log likelihood = -529.42766  \n",
      "Iteration 1:   log likelihood = -428.80877  \n",
      "Iteration 2:   log likelihood = -415.34069  \n",
      "Iteration 3:   log likelihood = -414.97662  \n",
      "Iteration 4:   log likelihood = -414.97656  \n",
      "Iteration 5:   log likelihood = -414.97656  \n",
      "\n",
      "Logistic regression                             Number of obs     =      1,000\n",
      "                                                LR chi2(6)        =     228.90\n",
      "                                                Prob > chi2       =     0.0000\n",
      "Log likelihood = -414.97656                     Pseudo R2         =     0.2162\n",
      "\n",
      "------------------------------------------------------------------------------\n",
      "     college |      Coef.   Std. Err.      z    P>|z|     [95% Conf. Interval]\n",
      "-------------+----------------------------------------------------------------\n",
      "      grades |  -.5174378   .0504639   -10.25   0.000    -.6163452   -.4185304\n",
      "      faminc |   .0130416   .0038975     3.35   0.001     .0054027    .0206804\n",
      "      famsiz |  -.0882562   .0644659    -1.37   0.171     -.214607    .0380945\n",
      "     parcoll |   .8353705   .2629773     3.18   0.001     .3199446    1.350796\n",
      "      female |   .0342794   .1769183     0.19   0.846    -.3124742     .381033\n",
      "       black |   1.073344   .3722921     2.88   0.004     .3436652    1.803023\n",
      "       _cons |   4.541835   .5191198     8.75   0.000     3.524379    5.559291\n",
      "------------------------------------------------------------------------------\n"
     ]
    }
   ],
   "source": [
    "logit college grades faminc famsiz parcoll female black"
   ]
  },
  {
   "cell_type": "code",
   "execution_count": null,
   "metadata": {},
   "outputs": [],
   "source": []
  }
 ],
 "metadata": {
  "kernelspec": {
   "display_name": "Stata",
   "language": "stata",
   "name": "stata"
  },
  "language_info": {
   "codemirror_mode": "stata",
   "file_extension": ".do",
   "mimetype": "text/x-stata",
   "name": "stata",
   "version": "15.1"
  }
 },
 "nbformat": 4,
 "nbformat_minor": 2
}
