{
 "cells": [
  {
   "cell_type": "markdown",
   "metadata": {},
   "source": [
    "Mortgage lenders are interested in determining borrower and loan factors that may lead to delinquency or foreclosure. In the file $\\textit{lasvegas.dat}$ are 1,000 observations on mortgages for single family homes in Las Vegas, Nevada during 2008. The variable of interest is $\\textit{DELINQUENT}$, an indicator variable $= 1$ if the borrower missed at least three payments ($90+$ days late), but $0$ otherwise. Explanatory variables: are $\\textit{LVR}=$  the ratio of the loan amount to the value of the property; $\\textit{REF}=1$ if purpose of the loan was a ‘‘refinance’’ and $=0$ if loan was for a purchase; $\\textit{INSUR}=1$ if mortgage carries mortgage insurance, $0$ otherwise; $\\textit{RATE}=$ initial interest rate of the mort- gage; $\\textit{AMOUNT}$  dollar value of mortgage (in $\\$100,000$); $\\textit{CREDIT}=$ credit score, $\\textit{TERM}=$ number of years between disbursement of the loan and the date it is expected to be fully repaid, $\\textit{ARM}=1$  if mortgage has an adjustable rate, and $=0$ if mortgage has a fixed rate."
   ]
  },
  {
   "cell_type": "markdown",
   "metadata": {},
   "source": [
    "Estimate the linear probability (regression) model explaining DELINQUENT as a function of the remaining variables. Use White robust standard errors. Are the signs of the estimated coefficients reasonable?"
   ]
  },
  {
   "cell_type": "code",
   "execution_count": 1,
   "metadata": {},
   "outputs": [
    {
     "name": "stdout",
     "output_type": "stream",
     "text": [
      "\n",
      "\n",
      "\n",
      "\n",
      "      Source |       SS           df       MS      Number of obs   =     1,000\n",
      "-------------+----------------------------------   F(8, 991)       =     62.77\n",
      "       Model |  53.6062717         8  6.70078397   Prob > F        =    0.0000\n",
      "    Residual |  105.792728       991   .10675351   R-squared       =    0.3363\n",
      "-------------+----------------------------------   Adj R-squared   =    0.3309\n",
      "       Total |     159.399       999  .159558559   Root MSE        =    .32673\n",
      "\n",
      "------------------------------------------------------------------------------\n",
      "  delinquent |      Coef.   Std. Err.      t    P>|t|     [95% Conf. Interval]\n",
      "-------------+----------------------------------------------------------------\n",
      "         lvr |   .0016239   .0007846     2.07   0.039     .0000843    .0031634\n",
      "         ref |  -.0593237   .0238299    -2.49   0.013    -.1060865   -.0125609\n",
      "       insur |  -.4815849   .0236365   -20.37   0.000    -.5279683   -.4352015\n",
      "        rate |   .0343761   .0085999     4.00   0.000        .0175    .0512523\n",
      "      amount |    .023768   .0126699     1.88   0.061     -.001095     .048631\n",
      "      credit |  -.0004419   .0002018    -2.19   0.029    -.0008379   -.0000459\n",
      "        term |  -.0126195   .0035386    -3.57   0.000    -.0195635   -.0056755\n",
      "         arm |   .1283239   .0318867     4.02   0.000     .0657507    .1908971\n",
      "       _cons |   .6884913   .2112456     3.26   0.001     .2739511    1.103031\n",
      "------------------------------------------------------------------------------\n"
     ]
    }
   ],
   "source": [
    "clear all\n",
    "use https://www.stata.com/data/s4poe4/lasvegas.dta\n",
    "reg delinquent lvr ref insur rate amount credit term arm\n"
   ]
  },
  {
   "cell_type": "markdown",
   "metadata": {},
   "source": [
    "(b) Use probit to estimate the model in (a). Are the signs and significance of the estimated coefficients the same as for the linear probability model?"
   ]
  },
  {
   "cell_type": "code",
   "execution_count": 2,
   "metadata": {},
   "outputs": [
    {
     "name": "stdout",
     "output_type": "stream",
     "text": [
      "\n",
      "Iteration 0:   log likelihood =   -499.013  \n",
      "Iteration 1:   log likelihood = -338.38904  \n",
      "Iteration 2:   log likelihood = -332.81547  \n",
      "Iteration 3:   log likelihood = -332.79661  \n",
      "Iteration 4:   log likelihood = -332.79661  \n",
      "\n",
      "Probit regression                               Number of obs     =      1,000\n",
      "                                                LR chi2(8)        =     332.43\n",
      "                                                Prob > chi2       =     0.0000\n",
      "Log likelihood = -332.79661                     Pseudo R2         =     0.3331\n",
      "\n",
      "------------------------------------------------------------------------------\n",
      "  delinquent |      Coef.   Std. Err.      z    P>|z|     [95% Conf. Interval]\n",
      "-------------+----------------------------------------------------------------\n",
      "         lvr |   .0076007   .0045911     1.66   0.098    -.0013977    .0165991\n",
      "         ref |  -.2884561   .1259446    -2.29   0.022    -.5353029   -.0416092\n",
      "       insur |  -1.772714   .1158088   -15.31   0.000    -1.999695   -1.545733\n",
      "        rate |   .1711988   .0438147     3.91   0.000     .0853236    .2570741\n",
      "      amount |    .121236   .0615491     1.97   0.049      .000602    .2418701\n",
      "      credit |  -.0019131   .0010638    -1.80   0.072    -.0039981    .0001718\n",
      "        term |  -.0775769   .0198396    -3.91   0.000    -.1164618    -.038692\n",
      "         arm |   .8091109   .2077119     3.90   0.000      .402003    1.216219\n",
      "       _cons |    .964646   1.088121     0.89   0.375    -1.168033    3.097325\n",
      "------------------------------------------------------------------------------\n"
     ]
    }
   ],
   "source": [
    "probit delinquent lvr ref insur rate amount credit term arm"
   ]
  },
  {
   "cell_type": "markdown",
   "metadata": {},
   "source": [
    "(c) Compute the predicted value of DELINQUENT for the 500th and 1,000th observations using both the linear probability model and the probit model. Interpret the values."
   ]
  },
  {
   "cell_type": "code",
   "execution_count": null,
   "metadata": {},
   "outputs": [],
   "source": []
  },
  {
   "cell_type": "markdown",
   "metadata": {},
   "source": [
    "(d) Construct a histogram of CREDIT. Using both linear probability and probit models, calculate the probability of delinquency for CREDIT 1⁄4 500, 600, and 700 for a loan of $250,000 (AMOUNT 1⁄4 2.5). For the other variables, loan to value ratio (LVR) is 80%, initial interest rate is 8%, indicator variables take the value one, and TERM 1⁄4 30. Discuss similarities and differences among the predicted probabilities from the two models."
   ]
  },
  {
   "cell_type": "code",
   "execution_count": null,
   "metadata": {},
   "outputs": [],
   "source": []
  },
  {
   "cell_type": "markdown",
   "metadata": {},
   "source": [
    "Compute the marginal effect of CREDIT on the probability of delinquency for CREDIT 1⁄4 500, 600, and 700, given that the other explanatory variables take the values in (d). Discuss the interpretation of the marginal effect.\n"
   ]
  },
  {
   "cell_type": "code",
   "execution_count": null,
   "metadata": {},
   "outputs": [],
   "source": []
  },
  {
   "cell_type": "markdown",
   "metadata": {},
   "source": [
    "Using a data introduced in one of the past pre-class work questions, check whether **margins **command in Stata correctly estimates the marginal effect of an interaction term in a nonlinear model. Note: Use a probit model and interact two continuous variables."
   ]
  },
  {
   "cell_type": "code",
   "execution_count": null,
   "metadata": {},
   "outputs": [],
   "source": []
  },
  {
   "cell_type": "code",
   "execution_count": null,
   "metadata": {},
   "outputs": [],
   "source": []
  },
  {
   "cell_type": "code",
   "execution_count": null,
   "metadata": {},
   "outputs": [],
   "source": []
  }
 ],
 "metadata": {
  "kernelspec": {
   "display_name": "Stata",
   "language": "stata",
   "name": "stata"
  },
  "language_info": {
   "codemirror_mode": "stata",
   "file_extension": ".do",
   "mimetype": "text/x-stata",
   "name": "stata",
   "version": "15.1"
  }
 },
 "nbformat": 4,
 "nbformat_minor": 2
}
