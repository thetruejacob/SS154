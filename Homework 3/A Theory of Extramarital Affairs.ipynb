{
 "cells": [
  {
   "cell_type": "markdown",
   "metadata": {},
   "source": [
    "# A Theory of Extramarital Affairs\n",
    "\n",
    "According to the original paper by Fair (1978), http://people.stern.nyu.edu/wgreene/Lugano2013/Fair-ExtramaritalAffairs.pdf\n",
    "- $v_1$ = marriage rating (1 = very poor, 2 = poor, 3 = fair, 4 = good, 5 = very good)\n",
    "- $v_2$ = age (17.5 = under 20, 22 = 20-24, 27 = 25-29, 32 = 30-34, 37 = 35-39, 42 = 40+)\n",
    "- $v_3$ = years married (0.5 = <1, 2.5 = 1-4, 6 = 5-7, 9 = 8-10, 13 = 10+ & eldest child >12, 16.5 = >10 & eldest child 12-17, 23 = 10+ & eldest child >18)\n",
    "- $v_4$ = number of children (1 = 1, 2 = 2, 3 = 3, 4 = 4, 5 = 5+)\n",
    "- $v_5$ = religiosity (1 = not, 2 = mildly, 3 = fairly, 4 = strongly)\n",
    "- $v_6$ = level of education (9 = grade school, 12 = some high school, 14 = some college, 16 = college grad, 17 = some graduate school, 20 = advanced degree)\n",
    "- $v_7$ = occupation (1 = student, 2 = farming/agriculture/semiskilled/unskilled, 3 = white-collar, 4 = teacher/counselor/social worker/nurse or artist/writer/technician/skilled worker, 5 = managerial/administrative/business, 6 = professional w/ advanced degree)\n",
    "- $v_8$ = husband's occupation (same as $v_7$)\n",
    "- $y_{rb}$ = proportion of time spent in marital affairs\n",
    "\n",
    "### Importing and cleaning the data"
   ]
  },
  {
   "cell_type": "code",
   "execution_count": 3,
   "metadata": {},
   "outputs": [
    {
     "name": "stdout",
     "output_type": "stream",
     "text": [
      "\n",
      "\n",
      "(14 vars, 6,366 obs)\n",
      "\n",
      "\n",
      "\n",
      "\n",
      "    Variable |        Obs        Mean    Std. Dev.       Min        Max\n",
      "-------------+---------------------------------------------------------\n",
      "          id |      6,366    8932.883    5203.925          3      19020\n",
      "    constant |      6,366           1           0          1          1\n",
      "      rating |      6,366    4.109645    .9614296          1          5\n",
      "         age |      6,366    29.08286    6.847882       17.5         42\n",
      "       years |      6,366    9.009425     7.28012         .5         23\n",
      "-------------+---------------------------------------------------------\n",
      "    children |      6,366    1.396874    1.433471          0        5.5\n",
      " religiosity |      6,366     2.42617    .8783688          1          4\n",
      "   education |      6,366    14.20986    2.178003          9         20\n",
      "  occupation |      6,366    3.424128    .9423987          1          6\n",
      "  husbandocc |      6,366    3.850141    1.346435          1          6\n",
      "-------------+---------------------------------------------------------\n",
      "         yrb |      6,366    .7053739    2.203374          0   57.59999\n",
      "           A |      6,366    .3224945    .4674678          0          1\n"
     ]
    }
   ],
   "source": [
    "clear\n",
    "\n",
    "import delimited id constant rating age years children religiosity education notused1 occupation husbandocc yrb notused2 notused3 using \"TableF17-2.csv\"\n",
    "// import delimited TableF17-2.csv\n",
    "\n",
    "drop notused1 notused2 notused3\n",
    "\n",
    "gen A = yrb > 0\n",
    "\n",
    "summarize"
   ]
  },
  {
   "cell_type": "markdown",
   "metadata": {},
   "source": [
    "a) The regressors of interest are v1 to v8; however, not necessarily all of them belong in your model. \n",
    "- Use these data to build a binary choice model for A. \n",
    "- Report all computed results for the model. \n",
    "- Compute the marginal effects for the variables you choose. \n",
    "- Compare the results you obtain for a probit model to those for a logit model. \n",
    "- Are there any substantial differences in the results for the two models?\n",
    "\n",
    "https://warwick.ac.uk/fac/soc/economics/staff/academic/corradi/teaching-ec976/msfe-week9.pdf"
   ]
  },
  {
   "cell_type": "code",
   "execution_count": 4,
   "metadata": {},
   "outputs": [
    {
     "name": "stdout",
     "output_type": "stream",
     "text": [
      "\n",
      "             |      age    years\n",
      "-------------+------------------\n",
      "         age |   1.0000 \n",
      "       years |   0.8941   1.0000 \n"
     ]
    }
   ],
   "source": [
    "pwcorr age years"
   ]
  },
  {
   "cell_type": "code",
   "execution_count": 6,
   "metadata": {},
   "outputs": [
    {
     "name": "stdout",
     "output_type": "stream",
     "text": [
      "\n",
      "Probit regression                               Number of obs     =      6,366\n",
      "                                                LR chi2(16)       =    1097.04\n",
      "                                                Prob > chi2       =     0.0000\n",
      "Log likelihood = -3454.0116                     Pseudo R2         =     0.1370\n",
      "\n",
      "------------------------------------------------------------------------------\n",
      "           A |      Coef.   Std. Err.      z    P>|z|     [95% Conf. Interval]\n",
      "-------------+----------------------------------------------------------------\n",
      "      rating |    -.42506   .0183553   -23.16   0.000    -.4610357   -.3890843\n",
      "         age |  -.0359131   .0060622    -5.92   0.000    -.0477948   -.0240314\n",
      "       years |   .0642991    .006468     9.94   0.000     .0516221    .0769761\n",
      "    children |   .0086311   .0190523     0.45   0.651    -.0287107     .045973\n",
      " religiosity |  -.2235751   .0205278   -10.89   0.000    -.2638088   -.1833414\n",
      "   education |   -.001846   .0102593    -0.18   0.857    -.0219539    .0182618\n",
      "             |\n",
      "  occupation |\n",
      "          2  |   .2107086   .2498365     0.84   0.399    -.2789619    .7003792\n",
      "          3  |   .3992348   .2461618     1.62   0.105    -.0832334     .881703\n",
      "          4  |   .2630816   .2467651     1.07   0.286    -.2205691    .7467324\n",
      "          5  |   .6091108   .2495332     2.44   0.015     .1200347    1.098187\n",
      "          6  |   .6480159   .2792565     2.32   0.020     .1006832    1.195349\n",
      "             |\n",
      "  husbandocc |\n",
      "          2  |   .0943557   .1069709     0.88   0.378    -.1153034    .3040147\n",
      "          3  |   .1662867   .1171215     1.42   0.156    -.0632672    .3958406\n",
      "          4  |   .0766486   .1039138     0.74   0.461    -.1270187     .280316\n",
      "          5  |   .0915583   .1049421     0.87   0.383    -.1141246    .2972411\n",
      "          6  |   .1029664   .1173516     0.88   0.380    -.1270385    .3329713\n",
      "             |\n",
      "       _cons |   1.792191    .325053     5.51   0.000     1.155099    2.429283\n",
      "------------------------------------------------------------------------------\n"
     ]
    }
   ],
   "source": [
    "probit A rating age years children religiosity education i.occupation i.husbandocc, nolog\n",
    "// probit A v1 v2 v3 v4 v5 v6 i.v7 i.v8"
   ]
  },
  {
   "cell_type": "code",
   "execution_count": 8,
   "metadata": {},
   "outputs": [
    {
     "name": "stdout",
     "output_type": "stream",
     "text": [
      "\n",
      "Average marginal effects                        Number of obs     =      6,366\n",
      "Model VCE    : OIM\n",
      "\n",
      "Expression   : Pr(A), predict()\n",
      "dy/dx w.r.t. : rating age years children religiosity education 2.occupation 3.occupation 4.occupation 5.occupation 6.occupation 2.husbandocc 3.husbandocc 4.husbandocc 5.husbandocc 6.husbandocc\n",
      "\n",
      "------------------------------------------------------------------------------\n",
      "             |            Delta-method\n",
      "             |      dy/dx   Std. Err.      z    P>|z|     [95% Conf. Interval]\n",
      "-------------+----------------------------------------------------------------\n",
      "      rating |  -.1302394   .0049252   -26.44   0.000    -.1398926   -.1205863\n",
      "         age |  -.0110039   .0018444    -5.97   0.000    -.0146188   -.0073889\n",
      "       years |   .0197014   .0019401    10.15   0.000     .0158989    .0235039\n",
      "    children |   .0026446   .0058375     0.45   0.651    -.0087967    .0140859\n",
      " religiosity |   -.068504   .0061325   -11.17   0.000    -.0805234   -.0564845\n",
      "   education |  -.0005656   .0031434    -0.18   0.857    -.0067266    .0055954\n",
      "             |\n",
      "  occupation |\n",
      "          2  |    .056928   .0634788     0.90   0.370    -.0674882    .1813441\n",
      "          3  |   .1136303   .0624022     1.82   0.069    -.0086757    .2359363\n",
      "          4  |    .072174     .06255     1.15   0.249    -.0504218    .1947697\n",
      "          5  |   .1818514   .0639968     2.84   0.004     .0564201    .3072828\n",
      "          6  |   .1949477   .0768603     2.54   0.011     .0443043     .345591\n",
      "             |\n",
      "  husbandocc |\n",
      "          2  |   .0283895   .0317009     0.90   0.370    -.0337431    .0905221\n",
      "          3  |   .0508015   .0352348     1.44   0.149    -.0182575    .1198605\n",
      "          4  |   .0229711   .0307046     0.75   0.454    -.0372087     .083151\n",
      "          5  |   .0275308   .0310522     0.89   0.375    -.0333304     .088392\n",
      "          6  |   .0310389   .0350368     0.89   0.376     -.037632    .0997098\n",
      "------------------------------------------------------------------------------\n",
      "Note: dy/dx for factor levels is the discrete change from the base level.\n"
     ]
    }
   ],
   "source": [
    "margins, dydx(*)"
   ]
  },
  {
   "cell_type": "code",
   "execution_count": 9,
   "metadata": {},
   "outputs": [
    {
     "name": "stdout",
     "output_type": "stream",
     "text": [
      "\n",
      "Logistic regression                             Number of obs     =      6,366\n",
      "                                                LR chi2(16)       =    1092.71\n",
      "                                                Prob > chi2       =     0.0000\n",
      "Log likelihood = -3456.1733                     Pseudo R2         =     0.1365\n",
      "\n",
      "------------------------------------------------------------------------------\n",
      "           A |      Coef.   Std. Err.      z    P>|z|     [95% Conf. Interval]\n",
      "-------------+----------------------------------------------------------------\n",
      "      rating |  -.7102283   .0314818   -22.56   0.000    -.7719314   -.6485252\n",
      "         age |  -.0612789   .0103231    -5.94   0.000    -.0815117    -.041046\n",
      "       years |    .107976   .0109772     9.84   0.000     .0864611    .1294909\n",
      "    children |   .0156448   .0320509     0.49   0.625    -.0471737    .0784634\n",
      " religiosity |  -.3753863   .0348686   -10.77   0.000    -.4437274   -.3070451\n",
      "   education |  -.0017253    .017398    -0.10   0.921    -.0358247     .032374\n",
      "             |\n",
      "  occupation |\n",
      "          2  |   .3902386   .4475507     0.87   0.383    -.4869446    1.267422\n",
      "          3  |   .7026792   .4414598     1.59   0.111    -.1625661    1.567925\n",
      "          4  |   .4713969   .4425232     1.07   0.287    -.3959326    1.338726\n",
      "          5  |   1.054197   .4466347     2.36   0.018     .1788096    1.929585\n",
      "          6  |   1.108015   .4942125     2.24   0.025     .1393766    2.076654\n",
      "             |\n",
      "  husbandocc |\n",
      "          2  |    .170447   .1860868     0.92   0.360    -.1942766    .5351705\n",
      "          3  |   .2841727   .2021606     1.41   0.160    -.1120548    .6804002\n",
      "          4  |   .1428406   .1810041     0.79   0.430     -.211921    .4976022\n",
      "          5  |   .1723288   .1826377     0.94   0.345    -.1856345    .5302921\n",
      "          6  |   .1827633    .203652     0.90   0.369    -.2163872    .5819138\n",
      "             |\n",
      "       _cons |   2.970755   .5722101     5.19   0.000     1.849244    4.092266\n",
      "------------------------------------------------------------------------------\n"
     ]
    }
   ],
   "source": [
    "logit A rating age years children religiosity education i.occupation i.husbandocc, nolog"
   ]
  },
  {
   "cell_type": "code",
   "execution_count": 10,
   "metadata": {},
   "outputs": [
    {
     "name": "stdout",
     "output_type": "stream",
     "text": [
      "\n",
      "Average marginal effects                        Number of obs     =      6,366\n",
      "Model VCE    : OIM\n",
      "\n",
      "Expression   : Pr(A), predict()\n",
      "dy/dx w.r.t. : rating age years children religiosity education 2.occupation 3.occupation 4.occupation 5.occupation 6.occupation 2.husbandocc 3.husbandocc 4.husbandocc 5.husbandocc 6.husbandocc\n",
      "\n",
      "------------------------------------------------------------------------------\n",
      "             |            Delta-method\n",
      "             |      dy/dx   Std. Err.      z    P>|z|     [95% Conf. Interval]\n",
      "-------------+----------------------------------------------------------------\n",
      "      rating |  -.1290391   .0048629   -26.54   0.000    -.1385703   -.1195079\n",
      "         age |  -.0111336   .0018588    -5.99   0.000    -.0147768   -.0074904\n",
      "       years |   .0196178    .001944    10.09   0.000     .0158077     .023428\n",
      "    children |   .0028425    .005823     0.49   0.625    -.0085704    .0142553\n",
      " religiosity |  -.0682027   .0061495   -11.09   0.000    -.0802556   -.0561499\n",
      "   education |  -.0003135    .003161    -0.10   0.921    -.0065089    .0058819\n",
      "             |\n",
      "  occupation |\n",
      "          2  |   .0612388    .065116     0.94   0.347    -.0663862    .1888639\n",
      "          3  |   .1168366   .0640436     1.82   0.068    -.0086865    .2423598\n",
      "          4  |   .0751529   .0642053     1.17   0.242    -.0506871     .200993\n",
      "          5  |    .185137   .0655919     2.82   0.005     .0565792    .3136947\n",
      "          6  |   .1960177   .0785268     2.50   0.013     .0421081    .3499274\n",
      "             |\n",
      "  husbandocc |\n",
      "          2  |   .0302712   .0324327     0.93   0.351    -.0332957    .0938381\n",
      "          3  |   .0513025   .0358087     1.43   0.152    -.0188812    .1214862\n",
      "          4  |   .0252634   .0314419     0.80   0.422    -.0363616    .0868885\n",
      "          5  |    .030614   .0317795     0.96   0.335    -.0316727    .0929006\n",
      "          6  |   .0325179   .0358017     0.91   0.364    -.0376522     .102688\n",
      "------------------------------------------------------------------------------\n",
      "Note: dy/dx for factor levels is the discrete change from the base level.\n"
     ]
    }
   ],
   "source": [
    "margins, dydx(*)"
   ]
  },
  {
   "cell_type": "markdown",
   "metadata": {},
   "source": [
    "b) Continuing the analysis from part a), we now consider the self—reported rating, W. This is a natural\n",
    "candidate for an ordered choice model, because the simple five-item coding is a censored version of\n",
    "what would be a continuous scale on some subjective satisfaction variable. \n",
    "- Analyze this variable using an ordered probit model. \n",
    "- What variables appear to explain the response to this survey question? \n",
    "- Can you obtain the marginal effects for your model? Report them as well. \n",
    "- What do they suggest about the impact of the different independent variables on the reported ratings?"
   ]
  },
  {
   "cell_type": "code",
   "execution_count": 12,
   "metadata": {},
   "outputs": [
    {
     "name": "stdout",
     "output_type": "stream",
     "text": [
      "\n",
      "Ordered probit regression                       Number of obs     =      6,366\n",
      "                                                LR chi2(15)       =     236.49\n",
      "                                                Prob > chi2       =     0.0000\n",
      "Log likelihood = -7808.2421                     Pseudo R2         =     0.0149\n",
      "\n",
      "------------------------------------------------------------------------------\n",
      "      rating |      Coef.   Std. Err.      z    P>|z|     [95% Conf. Interval]\n",
      "-------------+----------------------------------------------------------------\n",
      "         age |  -.0047552   .0047154    -1.01   0.313    -.0139971    .0044867\n",
      "       years |  -.0070395   .0050613    -1.39   0.164    -.0169594    .0028804\n",
      "    children |  -.0632364   .0153484    -4.12   0.000    -.0933187   -.0331541\n",
      " religiosity |   .1310093   .0161123     8.13   0.000     .0994298    .1625888\n",
      "   education |   .0140007   .0081484     1.72   0.086    -.0019699    .0299713\n",
      "             |\n",
      "  occupation |\n",
      "          2  |  -.1317628   .1824797    -0.72   0.470    -.4894165    .2258909\n",
      "          3  |  -.2022679   .1794037    -1.13   0.260    -.5538926    .1493568\n",
      "          4  |  -.0632041   .1798682    -0.35   0.725    -.4157393    .2893311\n",
      "          5  |  -.1434889   .1826641    -0.79   0.432    -.5015038    .2145261\n",
      "          6  |  -.2022114   .2097835    -0.96   0.335    -.6133796    .2089568\n",
      "             |\n",
      "  husbandocc |\n",
      "          2  |  -.1708474   .0822583    -2.08   0.038    -.3320708   -.0096241\n",
      "          3  |  -.1705628   .0907884    -1.88   0.060    -.3485048    .0073792\n",
      "          4  |  -.0981205   .0797453    -1.23   0.219    -.2544184    .0581774\n",
      "          5  |  -.0671601   .0806878    -0.83   0.405    -.2253052     .090985\n",
      "          6  |   .0409246   .0912108     0.45   0.654    -.1378452    .2196944\n",
      "-------------+----------------------------------------------------------------\n",
      "       /cut1 |  -2.221501   .2388776                     -2.689692   -1.753309\n",
      "       /cut2 |  -1.522325   .2363926                     -1.985646   -1.059004\n",
      "       /cut3 |  -.7805359   .2356443                      -1.24239   -.3186815\n",
      "       /cut4 |   .1906019   .2355468                     -.2710615    .6522652\n",
      "------------------------------------------------------------------------------\n"
     ]
    }
   ],
   "source": [
    "oprobit rating age years children religiosity education i.occupation i.husbandocc, nolog"
   ]
  },
  {
   "cell_type": "code",
   "execution_count": 14,
   "metadata": {},
   "outputs": [
    {
     "name": "stdout",
     "output_type": "stream",
     "text": [
      "\n",
      "Average marginal effects                        Number of obs     =      6,366\n",
      "Model VCE    : OIM\n",
      "\n",
      "dy/dx w.r.t. : children religiosity 2.husbandocc\n",
      "1._predict   : Pr(rating==1), predict(pr outcome(1))\n",
      "2._predict   : Pr(rating==2), predict(pr outcome(2))\n",
      "3._predict   : Pr(rating==3), predict(pr outcome(3))\n",
      "4._predict   : Pr(rating==4), predict(pr outcome(4))\n",
      "5._predict   : Pr(rating==5), predict(pr outcome(5))\n",
      "\n",
      "-------------------------------------------------------------------------------\n",
      "              |            Delta-method\n",
      "              |      dy/dx   Std. Err.      z    P>|z|     [95% Conf. Interval]\n",
      "--------------+----------------------------------------------------------------\n",
      "children      |\n",
      "     _predict |\n",
      "           1  |   .0023971   .0006187     3.87   0.000     .0011844    .0036098\n",
      "           2  |   .0059013   .0014541     4.06   0.000     .0030514    .0087513\n",
      "           3  |   .0103042   .0025046     4.11   0.000     .0053953     .015213\n",
      "           4  |   .0055807    .001379     4.05   0.000      .002878    .0082835\n",
      "           5  |  -.0241833   .0058533    -4.13   0.000    -.0356555   -.0127111\n",
      "--------------+----------------------------------------------------------------\n",
      "religiosity   |\n",
      "     _predict |\n",
      "           1  |  -.0049661   .0007522    -6.60   0.000    -.0064403   -.0034919\n",
      "           2  |   -.012226   .0015932    -7.67   0.000    -.0153486   -.0091034\n",
      "           3  |  -.0213475   .0026396    -8.09   0.000     -.026521   -.0161741\n",
      "           4  |  -.0115618   .0015105    -7.65   0.000    -.0145223   -.0086013\n",
      "           5  |   .0501015   .0060891     8.23   0.000     .0381671    .0620359\n",
      "--------------+----------------------------------------------------------------\n",
      "1.husbandocc  |  (base outcome)\n",
      "--------------+----------------------------------------------------------------\n",
      "2.husbandocc  |\n",
      "     _predict |\n",
      "           1  |   .0063213   .0027402     2.31   0.021     .0009505     .011692\n",
      "           2  |   .0157578   .0070883     2.22   0.026      .001865    .0296506\n",
      "           3  |   .0278462    .013252     2.10   0.036     .0018728    .0538196\n",
      "           4  |   .0156119    .009041     1.73   0.084    -.0021083     .033332\n",
      "           5  |  -.0655371    .031859    -2.06   0.040    -.1279795   -.0030947\n",
      "-------------------------------------------------------------------------------\n",
      "Note: dy/dx for factor levels is the discrete change from the base level.\n"
     ]
    }
   ],
   "source": [
    "margins, dydx(children religiosity 2.husbandocc)"
   ]
  },
  {
   "cell_type": "code",
   "execution_count": null,
   "metadata": {},
   "outputs": [],
   "source": []
  },
  {
   "cell_type": "code",
   "execution_count": 12,
   "metadata": {},
   "outputs": [
    {
     "name": "stdout",
     "output_type": "stream",
     "text": [
      "\n",
      "Ordered logistic regression                     Number of obs     =      6,366\n",
      "                                                LR chi2(15)       =     224.52\n",
      "                                                Prob > chi2       =     0.0000\n",
      "Log likelihood = -7814.2247                     Pseudo R2         =     0.0142\n",
      "\n",
      "------------------------------------------------------------------------------\n",
      "      rating |      Coef.   Std. Err.      z    P>|z|     [95% Conf. Interval]\n",
      "-------------+----------------------------------------------------------------\n",
      "         age |  -.0052979   .0080033    -0.66   0.508    -.0209841    .0103883\n",
      "       years |  -.0128822    .008628    -1.49   0.135    -.0297928    .0040283\n",
      "    children |  -.1035099   .0262379    -3.95   0.000    -.1549352   -.0520846\n",
      " religiosity |   .2213074   .0272022     8.14   0.000     .1679921    .2746228\n",
      "   education |   .0242361   .0138223     1.75   0.080    -.0028551    .0513273\n",
      "             |\n",
      "  occupation |\n",
      "          2  |  -.1672703   .3016406    -0.55   0.579    -.7584751    .4239344\n",
      "          3  |  -.3138057   .2962706    -1.06   0.290    -.8944855     .266874\n",
      "          4  |  -.0808011   .2971164    -0.27   0.786    -.6631386    .5015363\n",
      "          5  |  -.2308718   .3018664    -0.76   0.444    -.8225192    .3607755\n",
      "          6  |  -.2984046   .3502441    -0.85   0.394    -.9848704    .3880612\n",
      "             |\n",
      "  husbandocc |\n",
      "          2  |  -.2698151   .1363468    -1.98   0.048    -.5370499   -.0025803\n",
      "          3  |  -.2649377   .1510062    -1.75   0.079    -.5609044     .031029\n",
      "          4  |  -.1447067   .1319604    -1.10   0.273    -.4033443    .1139309\n",
      "          5  |  -.0883686   .1335461    -0.66   0.508    -.3501141    .1733769\n",
      "          6  |   .0656399   .1515847     0.43   0.665    -.2314607    .3627404\n",
      "-------------+----------------------------------------------------------------\n",
      "       /cut1 |  -4.095151   .4046165                     -4.888185   -3.302117\n",
      "       /cut2 |  -2.521576   .3946938                     -3.295162    -1.74799\n",
      "       /cut3 |  -1.145174   .3926742                     -1.914802    -.375547\n",
      "       /cut4 |   .4424099   .3925007                     -.3268773    1.211697\n",
      "------------------------------------------------------------------------------\n"
     ]
    }
   ],
   "source": [
    "ologit rating age years children religiosity education i.occupation i.husbandocc, nolog"
   ]
  },
  {
   "cell_type": "code",
   "execution_count": 15,
   "metadata": {},
   "outputs": [
    {
     "name": "stdout",
     "output_type": "stream",
     "text": [
      "\n",
      "Average marginal effects                        Number of obs     =      6,366\n",
      "Model VCE    : OIM\n",
      "\n",
      "dy/dx w.r.t. : children religiosity 2.husbandocc 3.husbandocc 4.husbandocc 5.husbandocc 6.husbandocc\n",
      "1._predict   : Pr(rating==1), predict(pr outcome(1))\n",
      "2._predict   : Pr(rating==2), predict(pr outcome(2))\n",
      "3._predict   : Pr(rating==3), predict(pr outcome(3))\n",
      "4._predict   : Pr(rating==4), predict(pr outcome(4))\n",
      "5._predict   : Pr(rating==5), predict(pr outcome(5))\n",
      "\n",
      "-------------------------------------------------------------------------------\n",
      "              |            Delta-method\n",
      "              |      dy/dx   Std. Err.      z    P>|z|     [95% Conf. Interval]\n",
      "--------------+----------------------------------------------------------------\n",
      "children      |\n",
      "     _predict |\n",
      "           1  |   .0023971   .0006187     3.87   0.000     .0011844    .0036098\n",
      "           2  |   .0059013   .0014541     4.06   0.000     .0030514    .0087513\n",
      "           3  |   .0103042   .0025046     4.11   0.000     .0053953     .015213\n",
      "           4  |   .0055807    .001379     4.05   0.000      .002878    .0082835\n",
      "           5  |  -.0241833   .0058533    -4.13   0.000    -.0356555   -.0127111\n",
      "--------------+----------------------------------------------------------------\n",
      "religiosity   |\n",
      "     _predict |\n",
      "           1  |  -.0049661   .0007522    -6.60   0.000    -.0064403   -.0034919\n",
      "           2  |   -.012226   .0015932    -7.67   0.000    -.0153486   -.0091034\n",
      "           3  |  -.0213475   .0026396    -8.09   0.000     -.026521   -.0161741\n",
      "           4  |  -.0115618   .0015105    -7.65   0.000    -.0145223   -.0086013\n",
      "           5  |   .0501015   .0060891     8.23   0.000     .0381671    .0620359\n",
      "--------------+----------------------------------------------------------------\n",
      "1.husbandocc  |  (base outcome)\n",
      "--------------+----------------------------------------------------------------\n",
      "2.husbandocc  |\n",
      "     _predict |\n",
      "           1  |   .0063213   .0027402     2.31   0.021     .0009505     .011692\n",
      "           2  |   .0157578   .0070883     2.22   0.026      .001865    .0296506\n",
      "           3  |   .0278462    .013252     2.10   0.036     .0018728    .0538196\n",
      "           4  |   .0156119    .009041     1.73   0.084    -.0021083     .033332\n",
      "           5  |  -.0655371    .031859    -2.06   0.040    -.1279795   -.0030947\n",
      "--------------+----------------------------------------------------------------\n",
      "3.husbandocc  |\n",
      "     _predict |\n",
      "           1  |   .0063087   .0032211     1.96   0.050    -4.56e-06     .012622\n",
      "           2  |   .0157289   .0080939     1.94   0.052    -.0001349    .0315927\n",
      "           3  |   .0277993   .0146878     1.89   0.058    -.0009883    .0565868\n",
      "           4  |    .015593   .0093909     1.66   0.097    -.0028128    .0339988\n",
      "           5  |  -.0654299   .0349929    -1.87   0.062    -.1340147    .0031549\n",
      "--------------+----------------------------------------------------------------\n",
      "4.husbandocc  |\n",
      "     _predict |\n",
      "           1  |   .0033484   .0025108     1.33   0.182    -.0015726    .0082694\n",
      "           2  |   .0086586   .0067049     1.29   0.197    -.0044827       .0218\n",
      "           3  |   .0158897    .012791     1.24   0.214    -.0091803    .0409597\n",
      "           4  |   .0100012    .009035     1.11   0.268     -.007707    .0277095\n",
      "           5  |   -.037898   .0309738    -1.22   0.221    -.0986055    .0228096\n",
      "--------------+----------------------------------------------------------------\n",
      "5.husbandocc  |\n",
      "     _predict |\n",
      "           1  |   .0022144   .0025183     0.88   0.379    -.0027213    .0071502\n",
      "           2  |   .0058132    .006762     0.86   0.390    -.0074401    .0190665\n",
      "           3  |   .0108364   .0129324     0.84   0.402    -.0145106    .0361833\n",
      "           4  |   .0071385    .009169     0.78   0.436    -.0108324    .0251095\n",
      "           5  |  -.0260025   .0313491    -0.83   0.407    -.0874456    .0354405\n",
      "--------------+----------------------------------------------------------------\n",
      "6.husbandocc  |\n",
      "     _predict |\n",
      "           1  |  -.0011974    .002722    -0.44   0.660    -.0065325    .0041377\n",
      "           2  |  -.0033046   .0074466    -0.44   0.657    -.0178996    .0112904\n",
      "           3  |  -.0064937   .0145085    -0.45   0.654    -.0349299    .0219425\n",
      "           4  |  -.0049451   .0108379    -0.46   0.648     -.026187    .0162969\n",
      "           5  |   .0159408   .0354959     0.45   0.653      -.05363    .0855115\n",
      "-------------------------------------------------------------------------------\n",
      "Note: dy/dx for factor levels is the discrete change from the base level.\n"
     ]
    }
   ],
   "source": [
    "margins, dydx(children religiosity husbandocc)"
   ]
  },
  {
   "cell_type": "code",
   "execution_count": null,
   "metadata": {},
   "outputs": [],
   "source": []
  }
 ],
 "metadata": {
  "kernelspec": {
   "display_name": "Stata",
   "language": "stata",
   "name": "stata"
  },
  "language_info": {
   "codemirror_mode": "stata",
   "file_extension": ".do",
   "mimetype": "text/x-stata",
   "name": "stata",
   "version": "15.1"
  }
 },
 "nbformat": 4,
 "nbformat_minor": 2
}
