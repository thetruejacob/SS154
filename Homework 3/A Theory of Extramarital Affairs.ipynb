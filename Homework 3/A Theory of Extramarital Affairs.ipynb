{
 "cells": [
  {
   "cell_type": "markdown",
   "metadata": {},
   "source": [
    "# A Theory of Extramarital Affairs\n",
    "\n",
    "According to the original paper by Fair (1978), http://people.stern.nyu.edu/wgreene/Lugano2013/Fair-ExtramaritalAffairs.pdf\n",
    "- $v_1$ = marriage rating (1 = very poor, 2 = poor, 3 = fair, 4 = good, 5 = very good)\n",
    "- $v_2$ = age (17.5 = under 20, 22 = 20-24, 27 = 25-29, 32 = 30-34, 37 = 35-39, 42 = 40+)\n",
    "- $v_3$ = years married (0.5 = <1, 2.5 = 1-4, 6 = 5-7, 9 = 8-10, 13 = 10+ & eldest child >12, 16.5 = >10 & eldest child 12-17, 23 = 10+ & eldest child >18)\n",
    "- $v_4$ = number of children (1 = 1, 2 = 2, 3 = 3, 4 = 4, 5 = 5+)\n",
    "- $v_5$ = religiosity (1 = not, 2 = mildly, 3 = fairly, 4 = strongly)\n",
    "- $v_6$ = level of education (9 = grade school, 12 = some high school, 14 = some college, 16 = college grad, 17 = some graduate school, 20 = advanced degree)\n",
    "- $v_7$ = occupation (1 = student, 2 = farming/agriculture/semiskilled/unskilled, 3 = white-collar, 4 = teacher/counselor/social worker/nurse or artist/writer/technician/skilled worker, 5 = managerial/administrative/business, 6 = professional w/ advanced degree)\n",
    "- $v_8$ = husband's occupation (same as $v_7$)\n",
    "- $y_{rb}$ = proportion of time spent in marital affairs\n",
    "\n",
    "### Importing and cleaning the data"
   ]
  },
  {
   "cell_type": "code",
   "execution_count": 4,
   "metadata": {},
   "outputs": [
    {
     "name": "stdout",
     "output_type": "stream",
     "text": [
      "\n",
      "\n",
      "(14 vars, 6,366 obs)\n",
      "\n",
      "\n",
      "\n",
      "\n",
      "    Variable |        Obs        Mean    Std. Dev.       Min        Max\n",
      "-------------+---------------------------------------------------------\n",
      "    identify |      6,366    8932.883    5203.925          3      19020\n",
      "         uno |      6,366           1           0          1          1\n",
      "          v1 |      6,366    4.109645    .9614296          1          5\n",
      "          v2 |      6,366    29.08286    6.847882       17.5         42\n",
      "          v3 |      6,366    9.009425     7.28012         .5         23\n",
      "-------------+---------------------------------------------------------\n",
      "          v4 |      6,366    1.396874    1.433471          0        5.5\n",
      "          v5 |      6,366     2.42617    .8783688          1          4\n",
      "          v6 |      6,366    14.20986    2.178003          9         20\n",
      "          v7 |      6,366    3.424128    .9423987          1          6\n",
      "          v8 |      6,366    3.850141    1.346435          1          6\n",
      "-------------+---------------------------------------------------------\n",
      "         yrb |      6,366    .7053739    2.203374          0   57.59999\n",
      "           A |      6,366    .3224945    .4674678          0          1\n"
     ]
    }
   ],
   "source": [
    "clear\n",
    "\n",
    "* import delimited id constant rating age years children religiosity education notused1 occupation husbandocc yrb notused2 notused3 using \"TableF17-2.csv\"\n",
    "import delimited TableF17-2.csv\n",
    "\n",
    "drop notused1 notused2 notused3\n",
    "\n",
    "gen A = yrb > 0\n",
    "\n",
    "summarize"
   ]
  },
  {
   "cell_type": "markdown",
   "metadata": {},
   "source": [
    "a) The regressors of interest are v1 to v8; however, not necessarily all of them belong in your model. \n",
    "- Use these data to build a binary choice model for A. \n",
    "- Report all computed results for the model. \n",
    "- Compute the marginal effects for the variables you choose. \n",
    "- Compare the results you obtain for a probit model to those for a logit model. \n",
    "- Are there any substantial differences in the results for the two models?\n",
    "\n",
    "https://warwick.ac.uk/fac/soc/economics/staff/academic/corradi/teaching-ec976/msfe-week9.pdf"
   ]
  },
  {
   "cell_type": "code",
   "execution_count": null,
   "metadata": {},
   "outputs": [],
   "source": [
    "probit A v1 v2 v3 v4 v5 v6 v7 v8\n",
    "margins, dydx(*) atmeans\n",
    "vif, uncentered\n",
    "\n",
    "logit A v1 v2 v3 v4 v5 v6 v7 v8\n",
    "margins, dydx(*) atmeans\n",
    "vif, uncentered\n",
    "\n",
    "oprobit v1 v2 v3 v4 v5 v6 v7 v8\n",
    "margins, dydx(*) atmeans"
   ]
  },
  {
   "cell_type": "markdown",
   "metadata": {},
   "source": [
    "b) Continuing the analysis from part a), we now consider the self—reported rating, W. This is a natural\n",
    "candidate for an ordered choice model, because the simple five-item coding is a censored version of\n",
    "what would be a continuous scale on some subjective satisfaction variable. \n",
    "- Analyze this variable using an ordered probit model. \n",
    "- What variables appear to explain the response to this survey question? \n",
    "- Can you obtain the marginal effects for your model? Report them as well. \n",
    "- What do they suggest about the impact of the different independent variables on the reported ratings?"
   ]
  },
  {
   "cell_type": "code",
   "execution_count": null,
   "metadata": {},
   "outputs": [],
   "source": []
  },
  {
   "cell_type": "markdown",
   "metadata": {},
   "source": []
  },
  {
   "cell_type": "code",
   "execution_count": null,
   "metadata": {},
   "outputs": [],
   "source": []
  },
  {
   "cell_type": "code",
   "execution_count": null,
   "metadata": {},
   "outputs": [],
   "source": []
  }
 ],
 "metadata": {
  "kernelspec": {
   "display_name": "Stata",
   "language": "stata",
   "name": "stata"
  },
  "language_info": {
   "codemirror_mode": "stata",
   "file_extension": ".do",
   "mimetype": "text/x-stata",
   "name": "stata",
   "version": "15.1"
  }
 },
 "nbformat": 4,
 "nbformat_minor": 2
}
