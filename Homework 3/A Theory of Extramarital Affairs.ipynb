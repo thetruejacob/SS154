{
 "cells": [
  {
   "cell_type": "markdown",
   "metadata": {},
   "source": [
    "# A Theory of Extramarital Affairs\n",
    "\n",
    "According to the original paper by Fair (1978), http://people.stern.nyu.edu/wgreene/Lugano2013/Fair-ExtramaritalAffairs.pdf\n",
    "- $v_1$ = marriage rating (1 = very poor, 2 = poor, 3 = fair, 4 = good, 5 = very good)\n",
    "- $v_2$ = age (17.5 = under 20, 22 = 20-24, 27 = 25-29, 32 = 30-34, 37 = 35-39, 42 = 40+)\n",
    "- $v_3$ = years married (0.5 = <1, 2.5 = 1-4, 6 = 5-7, 9 = 8-10, 13 = 10+ & eldest child >12, 16.5 = >10 & eldest child 12-17, 23 = 10+ & eldest child >18)\n",
    "- $v_4$ = number of children (1 = 1, 2 = 2, 3 = 3, 4 = 4, 5 = 5+)\n",
    "- $v_5$ = religiosity (1 = not, 2 = mildly, 3 = fairly, 4 = strongly)\n",
    "- $v_6$ = level of education (9 = grade school, 12 = some high school, 14 = some college, 16 = college grad, 17 = some graduate school, 20 = advanced degree)\n",
    "- $v_7$ = occupation (1 = student, 2 = farming/agriculture/semiskilled/unskilled, 3 = white-collar, 4 = teacher/counselor/social worker/nurse or artist/writer/technician/skilled worker, 5 = managerial/administrative/business, 6 = professional w/ advanced degree)\n",
    "- $v_8$ = husband's occupation (same as $v_7$)\n",
    "- $y_{rb}$ = proportion of time spent in marital affairs\n",
    "\n",
    "### Importing and cleaning the data"
   ]
  },
  {
   "cell_type": "code",
   "execution_count": 15,
   "metadata": {},
   "outputs": [
    {
     "name": "stdout",
     "output_type": "stream",
     "text": [
      "\n",
      "\n",
      "(14 vars, 6,366 obs)\n",
      "\n",
      "\n",
      "\n",
      "\n",
      "\n",
      "\n",
      "\n",
      "\n",
      "\n",
      "\n",
      "\n",
      "\n",
      "\n",
      "\n",
      "\n",
      "\n",
      "\n",
      "\n",
      "    Variable |        Obs        Mean    Std. Dev.       Min        Max\n",
      "-------------+---------------------------------------------------------\n",
      "          id |      6,366    8932.883    5203.925          3      19020\n",
      "    constant |      6,366           1           0          1          1\n",
      "      rating |      6,366    4.109645    .9614296          1          5\n",
      "         age |      6,366    29.08286    6.847882       17.5         42\n",
      "       years |      6,366    9.009425     7.28012         .5         23\n",
      "-------------+---------------------------------------------------------\n",
      "    children |      6,366    1.396874    1.433471          0        5.5\n",
      " religiosity |      6,366     2.42617    .8783688          1          4\n",
      "   education |      6,366    14.20986    2.178003          9         20\n",
      "  occupation |      6,366    3.424128    .9423987          1          6\n",
      "  husbandocc |      6,366    3.850141    1.346435          1          6\n",
      "-------------+---------------------------------------------------------\n",
      "         yrb |      6,366    .7053739    2.203374          0   57.59999\n",
      "           A |      6,366    .3224945    .4674678          0          1\n",
      "        occ1 |      6,366    .0064405    .0799999          0          1\n",
      "        occ2 |      6,366    .1349356    .3416816          0          1\n",
      "        occ3 |      6,366    .4371662    .4960752          0          1\n",
      "-------------+---------------------------------------------------------\n",
      "        occ4 |      6,366     .288093    .4529102          0          1\n",
      "        occ5 |      6,366    .1162425    .3205407          0          1\n",
      "        occ6 |      6,366    .0171222     .129737          0          1\n",
      "        hoc1 |      6,366    .0359724    .1862358          0          1\n",
      "        hoc2 |      6,366    .2054665    .4040739          0          1\n",
      "-------------+---------------------------------------------------------\n",
      "        hoc3 |      6,366    .0769714     .266567          0          1\n",
      "        hoc4 |      6,366    .3188816    .4660796          0          1\n",
      "        hoc5 |      6,366    .2794533    .4487659          0          1\n",
      "        hoc6 |      6,366    .0832548    .2762887          0          1\n",
      "  managerial |      6,366    .0064405    .0799999          0          1\n",
      "-------------+---------------------------------------------------------\n",
      "professional |      6,366    .0171222     .129737          0          1\n"
     ]
    }
   ],
   "source": [
    "clear\n",
    "\n",
    "import delimited id constant rating age years children religiosity education notused1 occupation husbandocc yrb notused2 notused3 using \"TableF17-2.csv\"\n",
    "// import delimited TableF17-2.csv\n",
    "\n",
    "drop notused1 notused2 notused3\n",
    "\n",
    "gen A = yrb > 0\n",
    "\n",
    "gen occ1 = occupation == 1\n",
    "gen occ2 = occupation == 2\n",
    "gen occ3 = occupation == 3\n",
    "gen occ4 = occupation == 4\n",
    "gen occ5 = occupation == 5\n",
    "gen occ6 = occupation == 6\n",
    "\n",
    "gen hoc1 = husbandocc == 1\n",
    "gen hoc2 = husbandocc == 2\n",
    "gen hoc3 = husbandocc == 3\n",
    "gen hoc4 = husbandocc == 4\n",
    "gen hoc5 = husbandocc == 5\n",
    "gen hoc6 = husbandocc == 6\n",
    "\n",
    "gen managerial = occupation == 1\n",
    "gen professional = occupation == 6\n",
    "\n",
    "summarize"
   ]
  },
  {
   "cell_type": "markdown",
   "metadata": {},
   "source": [
    "a) The regressors of interest are v1 to v8; however, not necessarily all of them belong in your model. \n",
    "- Use these data to build a binary choice model for A. \n",
    "- Report all computed results for the model. \n",
    "- Compute the marginal effects for the variables you choose. \n",
    "- Compare the results you obtain for a probit model to those for a logit model. \n",
    "- Are there any substantial differences in the results for the two models?\n",
    "\n",
    "https://warwick.ac.uk/fac/soc/economics/staff/academic/corradi/teaching-ec976/msfe-week9.pdf"
   ]
  },
  {
   "cell_type": "code",
   "execution_count": 2,
   "metadata": {},
   "outputs": [
    {
     "name": "stdout",
     "output_type": "stream",
     "text": [
      "\n",
      "             |      age    years\n",
      "-------------+------------------\n",
      "         age |   1.0000 \n",
      "       years |   0.8941   1.0000 \n"
     ]
    }
   ],
   "source": [
    "pwcorr age years"
   ]
  },
  {
   "cell_type": "code",
   "execution_count": 40,
   "metadata": {},
   "outputs": [
    {
     "name": "stdout",
     "output_type": "stream",
     "text": [
      "\n",
      "\n",
      "\n",
      "Akaike's information criterion and Bayesian information criterion\n",
      "\n",
      "-----------------------------------------------------------------------------\n",
      "       Model |          N   ll(null)  ll(model)      df        AIC        BIC\n",
      "-------------+---------------------------------------------------------------\n",
      "           . |      6,366   -4002.53  -3465.486       7   6944.973   6992.284\n",
      "-----------------------------------------------------------------------------\n",
      "Note: BIC uses N = number of observations. See [R] BIC note.\n"
     ]
    }
   ],
   "source": [
    "qui probit A rating age years religiosity i.managerial i.professional, nolog\n",
    "estat ic"
   ]
  },
  {
   "cell_type": "code",
   "execution_count": 35,
   "metadata": {},
   "outputs": [
    {
     "name": "stdout",
     "output_type": "stream",
     "text": [
      "\n",
      "\n",
      "Probit regression                               Number of obs     =      6,366\n",
      "                                                LR chi2(6)        =    1074.09\n",
      "                                                Prob > chi2       =     0.0000\n",
      "Log likelihood = -3465.4864                     Pseudo R2         =     0.1342\n",
      "\n",
      "--------------------------------------------------------------------------------\n",
      "             A |      Coef.   Std. Err.      z    P>|z|     [95% Conf. Interval]\n",
      "---------------+----------------------------------------------------------------\n",
      "        rating |  -.4287915   .0182404   -23.51   0.000    -.4645421   -.3930409\n",
      "           age |  -.0371386   .0058164    -6.39   0.000    -.0485385   -.0257388\n",
      "         years |   .0669787   .0054895    12.20   0.000     .0562195    .0777379\n",
      "   religiosity |  -.2229334   .0203962   -10.93   0.000    -.2629093   -.1829575\n",
      "  1.managerial |   .2820679   .0527357     5.35   0.000     .1787077     .385428\n",
      "1.professional |   .3201245    .131654     2.43   0.015     .0620874    .5781616\n",
      "         _cons |   2.218905   .1535921    14.45   0.000      1.91787     2.51994\n",
      "--------------------------------------------------------------------------------\n",
      "\n",
      "\n",
      "Akaike's information criterion and Bayesian information criterion\n",
      "\n",
      "-----------------------------------------------------------------------------\n",
      "       Model |          N   ll(null)  ll(model)      df        AIC        BIC\n",
      "-------------+---------------------------------------------------------------\n",
      "           . |      6,366   -4002.53  -3465.486       7   6944.973   6992.284\n",
      "-----------------------------------------------------------------------------\n",
      "Note: BIC uses N = number of observations. See [R] BIC note.\n",
      "\n",
      "\n",
      "Average marginal effects                        Number of obs     =      6,366\n",
      "Model VCE    : OIM\n",
      "\n",
      "Expression   : Pr(A), predict()\n",
      "dy/dx w.r.t. : rating age years religiosity 1.managerial 1.professional\n",
      "\n",
      "--------------------------------------------------------------------------------\n",
      "               |            Delta-method\n",
      "               |      dy/dx   Std. Err.      z    P>|z|     [95% Conf. Interval]\n",
      "---------------+----------------------------------------------------------------\n",
      "        rating |  -.1318603   .0048907   -26.96   0.000    -.1414459   -.1222747\n",
      "           age |  -.0114207   .0017739    -6.44   0.000    -.0148976   -.0079439\n",
      "         years |    .020597   .0016348    12.60   0.000     .0173929    .0238012\n",
      "   religiosity |  -.0685556   .0061151   -11.21   0.000     -.080541   -.0565703\n",
      "  1.managerial |   .0905521     .01749     5.18   0.000     .0562724    .1248318\n",
      "1.professional |   .1038312   .0444333     2.34   0.019     .0167435    .1909189\n",
      "--------------------------------------------------------------------------------\n",
      "Note: dy/dx for factor levels is the discrete change from the base level.\n"
     ]
    }
   ],
   "source": [
    "probit A rating age years religiosity i.managerial i.professional, nolog\n",
    "estat ic\n",
    "margins, dydx(*)"
   ]
  },
  {
   "cell_type": "code",
   "execution_count": 34,
   "metadata": {},
   "outputs": [
    {
     "name": "stdout",
     "output_type": "stream",
     "text": [
      "\n",
      "\n",
      "Logistic regression                             Number of obs     =      6,366\n",
      "                                                LR chi2(6)        =    1070.49\n",
      "                                                Prob > chi2       =     0.0000\n",
      "Log likelihood = -3467.2854                     Pseudo R2         =     0.1337\n",
      "\n",
      "--------------------------------------------------------------------------------\n",
      "             A |      Coef.   Std. Err.      z    P>|z|     [95% Conf. Interval]\n",
      "---------------+----------------------------------------------------------------\n",
      "        rating |  -.7165643    .031318   -22.88   0.000    -.7779464   -.6551822\n",
      "           age |  -.0632411   .0099064    -6.38   0.000    -.0826572   -.0438249\n",
      "         years |   .1126725   .0093673    12.03   0.000     .0943129    .1310321\n",
      "   religiosity |  -.3749785    .034622   -10.83   0.000    -.4428364   -.3071205\n",
      "  1.managerial |   .4730845   .0876404     5.40   0.000     .3013124    .6448566\n",
      "1.professional |   .5271217   .2217386     2.38   0.017     .0925221    .9617213\n",
      "         _cons |   3.751573   .2620388    14.32   0.000     3.237987     4.26516\n",
      "--------------------------------------------------------------------------------\n",
      "\n",
      "\n",
      "Akaike's information criterion and Bayesian information criterion\n",
      "\n",
      "-----------------------------------------------------------------------------\n",
      "       Model |          N   ll(null)  ll(model)      df        AIC        BIC\n",
      "-------------+---------------------------------------------------------------\n",
      "           . |      6,366   -4002.53  -3467.285       7   6948.571   6995.882\n",
      "-----------------------------------------------------------------------------\n",
      "Note: BIC uses N = number of observations. See [R] BIC note.\n",
      "\n",
      "\n",
      "Average marginal effects                        Number of obs     =      6,366\n",
      "Model VCE    : OIM\n",
      "\n",
      "Expression   : Pr(A), predict()\n",
      "dy/dx w.r.t. : rating age years religiosity 1.managerial 1.professional\n",
      "\n",
      "--------------------------------------------------------------------------------\n",
      "               |            Delta-method\n",
      "               |      dy/dx   Std. Err.      z    P>|z|     [95% Conf. Interval]\n",
      "---------------+----------------------------------------------------------------\n",
      "        rating |  -.1306759   .0048316   -27.05   0.000    -.1401456   -.1212062\n",
      "           age |  -.0115329    .001788    -6.45   0.000    -.0150373   -.0080286\n",
      "         years |   .0205475    .001644    12.50   0.000     .0173254    .0237696\n",
      "   religiosity |  -.0683828   .0061268   -11.16   0.000    -.0803911   -.0563744\n",
      "  1.managerial |    .090605   .0174113     5.20   0.000     .0564795    .1247306\n",
      "1.professional |   .1020851    .044947     2.27   0.023     .0139906    .1901796\n",
      "--------------------------------------------------------------------------------\n",
      "Note: dy/dx for factor levels is the discrete change from the base level.\n"
     ]
    }
   ],
   "source": [
    "logit A rating age years religiosity i.managerial i.professional, nolog\n",
    "estat ic\n",
    "margins, dydx(*)"
   ]
  },
  {
   "cell_type": "markdown",
   "metadata": {},
   "source": [
    "b) Continuing the analysis from part a), we now consider the self—reported rating, W. This is a natural\n",
    "candidate for an ordered choice model, because the simple five-item coding is a censored version of\n",
    "what would be a continuous scale on some subjective satisfaction variable. \n",
    "- Analyze this variable using an ordered probit model. \n",
    "- What variables appear to explain the response to this survey question? \n",
    "- Can you obtain the marginal effects for your model? Report them as well. \n",
    "- What do they suggest about the impact of the different independent variables on the reported ratings?"
   ]
  },
  {
   "cell_type": "code",
   "execution_count": 38,
   "metadata": {},
   "outputs": [
    {
     "name": "stdout",
     "output_type": "stream",
     "text": [
      "\n",
      "\n",
      "Ordered probit regression                       Number of obs     =      6,366\n",
      "                                                LR chi2(6)        =     204.62\n",
      "                                                Prob > chi2       =     0.0000\n",
      "Log likelihood = -7824.1756                     Pseudo R2         =     0.0129\n",
      "\n",
      "--------------------------------------------------------------------------------\n",
      "        rating |      Coef.   Std. Err.      z    P>|z|     [95% Conf. Interval]\n",
      "---------------+----------------------------------------------------------------\n",
      "      children |  -.0572623   .0151505    -3.78   0.000    -.0869566   -.0275679\n",
      "         years |  -.0111894   .0029655    -3.77   0.000    -.0170018   -.0053771\n",
      "   religiosity |     .12981   .0160817     8.07   0.000     .0982905    .1613296\n",
      "     education |   .0318733   .0066395     4.80   0.000     .0188602    .0448864\n",
      "  1.managerial |   .1676172   .1774292     0.94   0.345    -.1801376     .515372\n",
      "1.professional |  -.0567046   .1109085    -0.51   0.609    -.2740814    .1606721\n",
      "---------------+----------------------------------------------------------------\n",
      "         /cut1 |  -1.614684   .1092663                     -1.828842   -1.400526\n",
      "         /cut2 |   -.917034   .1043837                     -1.121622   -.7124458\n",
      "         /cut3 |  -.1784144   .1033789                     -.3810334    .0242045\n",
      "         /cut4 |   .7895705   .1036822                      .5863572    .9927839\n",
      "--------------------------------------------------------------------------------\n",
      "\n",
      "\n",
      "Akaike's information criterion and Bayesian information criterion\n",
      "\n",
      "-----------------------------------------------------------------------------\n",
      "       Model |          N   ll(null)  ll(model)      df        AIC        BIC\n",
      "-------------+---------------------------------------------------------------\n",
      "           . |      6,366  -7926.487  -7824.176      10   15668.35   15735.94\n",
      "-----------------------------------------------------------------------------\n",
      "Note: BIC uses N = number of observations. See [R] BIC note.\n"
     ]
    }
   ],
   "source": [
    "oprobit rating children years religiosity education i.managerial i.professional, nolog\n",
    "estat ic"
   ]
  },
  {
   "cell_type": "code",
   "execution_count": 33,
   "metadata": {},
   "outputs": [
    {
     "name": "stdout",
     "output_type": "stream",
     "text": [
      "\n",
      "\n",
      "Ordered probit regression                       Number of obs     =      6,366\n",
      "                                                LR chi2(15)       =     236.49\n",
      "                                                Prob > chi2       =     0.0000\n",
      "Log likelihood = -7808.2421                     Pseudo R2         =     0.0149\n",
      "\n",
      "------------------------------------------------------------------------------\n",
      "      rating |      Coef.   Std. Err.      z    P>|z|     [95% Conf. Interval]\n",
      "-------------+----------------------------------------------------------------\n",
      "         age |  -.0047552   .0047154    -1.01   0.313    -.0139971    .0044867\n",
      "       years |  -.0070395   .0050613    -1.39   0.164    -.0169594    .0028804\n",
      "    children |  -.0632364   .0153484    -4.12   0.000    -.0933187   -.0331541\n",
      " religiosity |   .1310093   .0161123     8.13   0.000     .0994298    .1625888\n",
      "   education |   .0140007   .0081484     1.72   0.086    -.0019699    .0299713\n",
      "             |\n",
      "  occupation |\n",
      "          2  |  -.1317628   .1824797    -0.72   0.470    -.4894165    .2258909\n",
      "          3  |  -.2022679   .1794037    -1.13   0.260    -.5538926    .1493568\n",
      "          4  |  -.0632041   .1798682    -0.35   0.725    -.4157393    .2893311\n",
      "          5  |  -.1434889   .1826641    -0.79   0.432    -.5015038    .2145261\n",
      "          6  |  -.2022114   .2097835    -0.96   0.335    -.6133796    .2089568\n",
      "             |\n",
      "  husbandocc |\n",
      "          2  |  -.1708474   .0822583    -2.08   0.038    -.3320708   -.0096241\n",
      "          3  |  -.1705628   .0907884    -1.88   0.060    -.3485048    .0073792\n",
      "          4  |  -.0981205   .0797453    -1.23   0.219    -.2544184    .0581774\n",
      "          5  |  -.0671601   .0806878    -0.83   0.405    -.2253052     .090985\n",
      "          6  |   .0409246   .0912108     0.45   0.654    -.1378452    .2196944\n",
      "-------------+----------------------------------------------------------------\n",
      "       /cut1 |  -2.221501   .2388776                     -2.689692   -1.753309\n",
      "       /cut2 |  -1.522325   .2363926                     -1.985646   -1.059004\n",
      "       /cut3 |  -.7805359   .2356443                      -1.24239   -.3186815\n",
      "       /cut4 |   .1906019   .2355468                     -.2710615    .6522652\n",
      "------------------------------------------------------------------------------\n",
      "\n",
      "\n",
      "Akaike's information criterion and Bayesian information criterion\n",
      "\n",
      "-----------------------------------------------------------------------------\n",
      "       Model |          N   ll(null)  ll(model)      df        AIC        BIC\n",
      "-------------+---------------------------------------------------------------\n",
      "           . |      6,366  -7926.487  -7808.242      19   15654.48    15782.9\n",
      "-----------------------------------------------------------------------------\n",
      "Note: BIC uses N = number of observations. See [R] BIC note.\n",
      "\n",
      "\n",
      "Average marginal effects                        Number of obs     =      6,366\n",
      "Model VCE    : OIM\n",
      "\n",
      "dy/dx w.r.t. : children religiosity 2.husbandocc\n",
      "1._predict   : Pr(rating==1), predict(pr outcome(1))\n",
      "2._predict   : Pr(rating==2), predict(pr outcome(2))\n",
      "3._predict   : Pr(rating==3), predict(pr outcome(3))\n",
      "4._predict   : Pr(rating==4), predict(pr outcome(4))\n",
      "5._predict   : Pr(rating==5), predict(pr outcome(5))\n",
      "\n",
      "-------------------------------------------------------------------------------\n",
      "              |            Delta-method\n",
      "              |      dy/dx   Std. Err.      z    P>|z|     [95% Conf. Interval]\n",
      "--------------+----------------------------------------------------------------\n",
      "children      |\n",
      "     _predict |\n",
      "           1  |   .0023971   .0006187     3.87   0.000     .0011844    .0036098\n",
      "           2  |   .0059013   .0014541     4.06   0.000     .0030514    .0087513\n",
      "           3  |   .0103042   .0025046     4.11   0.000     .0053953     .015213\n",
      "           4  |   .0055807    .001379     4.05   0.000      .002878    .0082835\n",
      "           5  |  -.0241833   .0058533    -4.13   0.000    -.0356555   -.0127111\n",
      "--------------+----------------------------------------------------------------\n",
      "religiosity   |\n",
      "     _predict |\n",
      "           1  |  -.0049661   .0007522    -6.60   0.000    -.0064403   -.0034919\n",
      "           2  |   -.012226   .0015932    -7.67   0.000    -.0153486   -.0091034\n",
      "           3  |  -.0213475   .0026396    -8.09   0.000     -.026521   -.0161741\n",
      "           4  |  -.0115618   .0015105    -7.65   0.000    -.0145223   -.0086013\n",
      "           5  |   .0501015   .0060891     8.23   0.000     .0381671    .0620359\n",
      "--------------+----------------------------------------------------------------\n",
      "1.husbandocc  |  (base outcome)\n",
      "--------------+----------------------------------------------------------------\n",
      "2.husbandocc  |\n",
      "     _predict |\n",
      "           1  |   .0063213   .0027402     2.31   0.021     .0009505     .011692\n",
      "           2  |   .0157578   .0070883     2.22   0.026      .001865    .0296506\n",
      "           3  |   .0278462    .013252     2.10   0.036     .0018728    .0538196\n",
      "           4  |   .0156119    .009041     1.73   0.084    -.0021083     .033332\n",
      "           5  |  -.0655371    .031859    -2.06   0.040    -.1279795   -.0030947\n",
      "-------------------------------------------------------------------------------\n",
      "Note: dy/dx for factor levels is the discrete change from the base level.\n"
     ]
    }
   ],
   "source": [
    "oprobit rating age years children religiosity education i.occupation i.husbandocc, nolog\n",
    "estat ic\n",
    "margins, dydx(children religiosity  2.husbandocc)"
   ]
  },
  {
   "cell_type": "code",
   "execution_count": null,
   "metadata": {},
   "outputs": [
    {
     "name": "stdout",
     "output_type": "stream",
     "text": [
      ". cap log close stata_kernel_log\n"
     ]
    }
   ],
   "source": [
    "oprobit rating age years religiosity i.managerial i.professional, nolog\n",
    "\n",
    "margins, dydx(age years religiosity i.managerial i.professional)"
   ]
  },
  {
   "cell_type": "code",
   "execution_count": null,
   "metadata": {},
   "outputs": [],
   "source": []
  },
  {
   "cell_type": "code",
   "execution_count": 31,
   "metadata": {},
   "outputs": [
    {
     "name": "stdout",
     "output_type": "stream",
     "text": [
      "\n",
      "\n",
      "Ordered logistic regression                     Number of obs     =      6,366\n",
      "                                                LR chi2(15)       =     224.52\n",
      "                                                Prob > chi2       =     0.0000\n",
      "Log likelihood = -7814.2247                     Pseudo R2         =     0.0142\n",
      "\n",
      "------------------------------------------------------------------------------\n",
      "      rating |      Coef.   Std. Err.      z    P>|z|     [95% Conf. Interval]\n",
      "-------------+----------------------------------------------------------------\n",
      "         age |  -.0052979   .0080033    -0.66   0.508    -.0209841    .0103883\n",
      "       years |  -.0128822    .008628    -1.49   0.135    -.0297928    .0040283\n",
      "    children |  -.1035099   .0262379    -3.95   0.000    -.1549352   -.0520846\n",
      " religiosity |   .2213074   .0272022     8.14   0.000     .1679921    .2746228\n",
      "   education |   .0242361   .0138223     1.75   0.080    -.0028551    .0513273\n",
      "             |\n",
      "  occupation |\n",
      "          2  |  -.1672703   .3016406    -0.55   0.579    -.7584751    .4239344\n",
      "          3  |  -.3138057   .2962706    -1.06   0.290    -.8944855     .266874\n",
      "          4  |  -.0808011   .2971164    -0.27   0.786    -.6631386    .5015363\n",
      "          5  |  -.2308718   .3018664    -0.76   0.444    -.8225192    .3607755\n",
      "          6  |  -.2984046   .3502441    -0.85   0.394    -.9848704    .3880612\n",
      "             |\n",
      "  husbandocc |\n",
      "          2  |  -.2698151   .1363468    -1.98   0.048    -.5370499   -.0025803\n",
      "          3  |  -.2649377   .1510062    -1.75   0.079    -.5609044     .031029\n",
      "          4  |  -.1447067   .1319604    -1.10   0.273    -.4033443    .1139309\n",
      "          5  |  -.0883686   .1335461    -0.66   0.508    -.3501141    .1733769\n",
      "          6  |   .0656399   .1515847     0.43   0.665    -.2314607    .3627404\n",
      "-------------+----------------------------------------------------------------\n",
      "       /cut1 |  -4.095151   .4046165                     -4.888185   -3.302117\n",
      "       /cut2 |  -2.521576   .3946938                     -3.295162    -1.74799\n",
      "       /cut3 |  -1.145174   .3926742                     -1.914802    -.375547\n",
      "       /cut4 |   .4424099   .3925007                     -.3268773    1.211697\n",
      "------------------------------------------------------------------------------\n",
      "\n",
      "\n",
      "Average marginal effects                        Number of obs     =      6,366\n",
      "Model VCE    : OIM\n",
      "\n",
      "dy/dx w.r.t. : children religiosity 2.husbandocc\n",
      "1._predict   : Pr(rating==1), predict(pr outcome(1))\n",
      "2._predict   : Pr(rating==2), predict(pr outcome(2))\n",
      "3._predict   : Pr(rating==3), predict(pr outcome(3))\n",
      "4._predict   : Pr(rating==4), predict(pr outcome(4))\n",
      "5._predict   : Pr(rating==5), predict(pr outcome(5))\n",
      "\n",
      "-------------------------------------------------------------------------------\n",
      "              |            Delta-method\n",
      "              |      dy/dx   Std. Err.      z    P>|z|     [95% Conf. Interval]\n",
      "--------------+----------------------------------------------------------------\n",
      "children      |\n",
      "     _predict |\n",
      "           1  |   .0015858   .0004318     3.67   0.000     .0007394    .0024322\n",
      "           2  |   .0051409    .001327     3.87   0.000       .00254    .0077418\n",
      "           3  |   .0110726   .0028081     3.94   0.000     .0055689    .0165764\n",
      "           4  |   .0066989   .0017215     3.89   0.000     .0033249    .0100729\n",
      "           5  |  -.0244983   .0061891    -3.96   0.000    -.0366287   -.0123678\n",
      "--------------+----------------------------------------------------------------\n",
      "religiosity   |\n",
      "     _predict |\n",
      "           1  |  -.0033905   .0005356    -6.33   0.000    -.0044402   -.0023408\n",
      "           2  |  -.0109914   .0014541    -7.56   0.000    -.0138414   -.0081415\n",
      "           3  |  -.0236737   .0029234    -8.10   0.000    -.0294035   -.0179438\n",
      "           4  |  -.0143224    .001845    -7.76   0.000    -.0179385   -.0107064\n",
      "           5  |   .0523781   .0063359     8.27   0.000     .0399599    .0647962\n",
      "--------------+----------------------------------------------------------------\n",
      "1.husbandocc  |  (base outcome)\n",
      "--------------+----------------------------------------------------------------\n",
      "2.husbandocc  |\n",
      "     _predict |\n",
      "           1  |   .0040976   .0019365     2.12   0.034     .0003022     .007893\n",
      "           2  |   .0133108   .0062704     2.12   0.034      .001021    .0256006\n",
      "           3  |   .0288335   .0141147     2.04   0.041     .0011691    .0564979\n",
      "           4  |   .0177781    .010678     1.66   0.096    -.0031505    .0387066\n",
      "           5  |    -.06402   .0327466    -1.96   0.051    -.1282021    .0001622\n",
      "-------------------------------------------------------------------------------\n",
      "Note: dy/dx for factor levels is the discrete change from the base level.\n"
     ]
    }
   ],
   "source": [
    "ologit rating age years children religiosity education i.occupation i.husbandocc, nolog\n",
    "margins, dydx(children religiosity 2.husbandocc)"
   ]
  },
  {
   "cell_type": "code",
   "execution_count": 29,
   "metadata": {},
   "outputs": [
    {
     "name": "stdout",
     "output_type": "stream",
     "text": [
      "invalid dydx() option;\n",
      "husbandocc not found in list of covariates\n"
     ]
    },
    {
     "name": "stderr",
     "output_type": "stream",
     "text": [
      "r(322);\n"
     ]
    },
    {
     "name": "stdout",
     "output_type": "stream",
     "text": [
      "\n"
     ]
    }
   ],
   "source": [
    "margins, dydx(children religiosity husbandocc)"
   ]
  },
  {
   "cell_type": "code",
   "execution_count": null,
   "metadata": {},
   "outputs": [],
   "source": []
  }
 ],
 "metadata": {
  "kernelspec": {
   "display_name": "Stata",
   "language": "stata",
   "name": "stata"
  },
  "language_info": {
   "codemirror_mode": "stata",
   "file_extension": ".do",
   "mimetype": "text/x-stata",
   "name": "stata",
   "version": "15.1"
  }
 },
 "nbformat": 4,
 "nbformat_minor": 2
}
