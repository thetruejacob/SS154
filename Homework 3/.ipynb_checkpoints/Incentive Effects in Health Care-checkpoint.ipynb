{
 "cells": [
  {
   "cell_type": "markdown",
   "metadata": {},
   "source": [
    "# Incentive Effects in the Demand for Health Care: A Bivariate Panel Count Data Estimation\n",
    "According to the original paper by Riphahn (2000), http://qed.econ.queensu.ca/jae/2003-v18.4/riphahn-wambach-million/\n",
    "\n",
    "Description of variables:\n",
    "- id:     person - identification number\n",
    "- female:     female = 1; male = 0\n",
    "- year :     calendar year of the observation\n",
    "- age :     age in years\n",
    "- hsat :      health satisfaction, coded 0 (low) - 10 (high)\n",
    "- handdum :      handicapped = 1; otherwise = 0\n",
    "- handper :      degree of handicap in percent (0 - 100)\n",
    "- hhninc :      household nominal monthly net income in German marks / 1000\n",
    "- hhkids :     children under age 16 in the household = 1; otherwise = 0\n",
    "- educ :     years of schooling\n",
    "- married :     married = 1; otherwise = 0\n",
    "- haupts:     highest schooling degree is Hauptschul degree = 1; otherwise = 0\n",
    "- reals:      highest schooling degree is Realschul degree = 1; otherwise = 0\n",
    "- fachhs:     highest schooling degree is Polytechnical degree = 1; otherwise = 0\n",
    "- abitur:     highest schooling degree is Abitur = 1; otherwise = 0\n",
    "- univ:   highest schooling degree is university degree = 1; otherwise = 0\n",
    "- working:     employed = 1; otherwise = 0\n",
    "- bluec:     blue collar employee = 1; otherwise = 0\n",
    "- whitec:     white collar employee = 1; otherwise = 0\n",
    "- self:     self employed = 1; otherwise = 0\n",
    "- beamt:     civil servant = 1; otherwise = 0\n",
    "- docvis:     number of doctor visits in last three months\n",
    "- hospvis:     number of hospital visits in last calendar year\n",
    "- public:     insured in public health insurance = 1; otherwise = 0\n",
    "- addon:     insured by add-on insurance = 1; otherswise = 0\n",
    "### Importing and cleaning data"
   ]
  },
  {
   "cell_type": "code",
   "execution_count": null,
   "metadata": {},
   "outputs": [],
   "source": [
    "clear\n",
    "import delimited id female year age hsat handdum handper hhninc hhkids educ married haupts reals fachhs abitur univ working bluec whitec self beamt docvis hospvis public addon using rmw.csv, colrange(2:)\n",
    "summarize"
   ]
  },
  {
   "cell_type": "markdown",
   "metadata": {},
   "source": [
    "a) Begin by fitting a Poisson model to this variable. The exogenous variables are listed in Table F7.1.\n",
    "Determine an appropriate specification for the right-hand side of your model. Report the regression\n",
    "results and the marginal effects.\n",
    "\n",
    "\n",
    "\n"
   ]
  },
  {
   "cell_type": "code",
   "execution_count": null,
   "metadata": {},
   "outputs": [],
   "source": [
    "poisson hospvis i.female year age hsat i.handdum handper hhninc educ i.working i.bluec i.whitec docvis i.public i.addon\n",
    "margins, dydx(*) atmeans\n",
    "estat gof\n"
   ]
  },
  {
   "cell_type": "markdown",
   "metadata": {},
   "source": [
    "b) Estimate the model using ordinary least squares and compare your least squares results to the\n",
    "marginal effects computed in part a). What do you find?\n"
   ]
  },
  {
   "cell_type": "code",
   "execution_count": null,
   "metadata": {},
   "outputs": [],
   "source": [
    "regress hospvis i.female year age hsat i.handdum handper hhninc educ i.working i.bluec i.whitec docvis i.public i.addon\n",
    "vif"
   ]
  },
  {
   "cell_type": "markdown",
   "metadata": {},
   "source": [
    "C) Is there evidence of overdispersion in the data? Test for overdispersion."
   ]
  },
  {
   "cell_type": "code",
   "execution_count": null,
   "metadata": {},
   "outputs": [],
   "source": [
    "nbreg hospvis i.female year age hsat i.handdum handper hhninc educ i.working i.bluec i.whitec docvis i.public i.addon\n"
   ]
  },
  {
   "cell_type": "code",
   "execution_count": null,
   "metadata": {},
   "outputs": [],
   "source": []
  }
 ],
 "metadata": {
  "kernelspec": {
   "display_name": "Stata",
   "language": "stata",
   "name": "stata"
  },
  "language_info": {
   "codemirror_mode": "stata",
   "file_extension": ".do",
   "mimetype": "text/x-stata",
   "name": "stata",
   "version": "15.1"
  }
 },
 "nbformat": 4,
 "nbformat_minor": 2
}
