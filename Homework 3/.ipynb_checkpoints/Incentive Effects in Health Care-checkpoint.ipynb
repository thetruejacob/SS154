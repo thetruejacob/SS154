{
 "cells": [
  {
   "cell_type": "markdown",
   "metadata": {},
   "source": [
    "# Incentive Effects in the Demand for Health Care: A Bivariate Panel Count Data Estimation\n",
    "According to the original paper by Riphahn (2000), http://qed.econ.queensu.ca/jae/2003-v18.4/riphahn-wambach-million/\n",
    "\n",
    "Description of variables:\n",
    "- id:     person - identification number\n",
    "- female:     female = 1; male = 0\n",
    "- year :     calendar year of the observation\n",
    "- age :     age in years\n",
    "- hsat :      health satisfaction, coded 0 (low) - 10 (high)\n",
    "- handdum :      handicapped = 1; otherwise = 0\n",
    "- handper :      degree of handicap in percent (0 - 100)\n",
    "- hhninc :      household nominal monthly net income in German marks / 1000\n",
    "- hhkids :     children under age 16 in the household = 1; otherwise = 0\n",
    "- educ :     years of schooling\n",
    "- married :     married = 1; otherwise = 0\n",
    "- haupts:     highest schooling degree is Hauptschul degree = 1; otherwise = 0\n",
    "- reals:      highest schooling degree is Realschul degree = 1; otherwise = 0\n",
    "- fachhs:     highest schooling degree is Polytechnical degree = 1; otherwise = 0\n",
    "- abitur:     highest schooling degree is Abitur = 1; otherwise = 0\n",
    "- univ:   highest schooling degree is university degree = 1; otherwise = 0\n",
    "- working:     employed = 1; otherwise = 0\n",
    "- bluec:     blue collar employee = 1; otherwise = 0\n",
    "- whitec:     white collar employee = 1; otherwise = 0\n",
    "- self:     self employed = 1; otherwise = 0\n",
    "- beamt:     civil servant = 1; otherwise = 0\n",
    "- docvis:     number of doctor visits in last three months\n",
    "- hospvis:     number of hospital visits in last calendar year\n",
    "- public:     insured in public health insurance = 1; otherwise = 0\n",
    "- addon:     insured by add-on insurance = 1; otherswise = 0\n",
    "### Importing and cleaning data"
   ]
  },
  {
   "cell_type": "code",
   "execution_count": null,
   "metadata": {},
   "outputs": [],
   "source": [
    "clear\n",
    "import delimited id female year age hsat handdum handper hhninc hhkids educ married haupts reals fachhs abitur univ working bluec whitec self beamt docvis hospvis public addon using rmw.csv, colrange(2:)\n",
    "\n",
    "replace handdum = (handdum != 1) if year == 1987\n",
    "summarize"
   ]
  },
  {
   "cell_type": "code",
   "execution_count": 4,
   "metadata": {},
   "outputs": [
    {
     "name": "stdout",
     "output_type": "stream",
     "text": [
      "\n",
      "    Variable |        Obs        Mean    Std. Dev.       Min        Max\n",
      "-------------+---------------------------------------------------------\n",
      "     handdum |      3,666     .888707    .3145375          0          1\n"
     ]
    }
   ],
   "source": [
    "summ handdum if year == 1987"
   ]
  },
  {
   "cell_type": "markdown",
   "metadata": {},
   "source": [
    "a) Begin by fitting a Poisson model to this variable. The exogenous variables are listed in Table F7.1.\n",
    "Determine an appropriate specification for the right-hand side of your model. Report the regression\n",
    "results and the marginal effects.\n",
    "\n",
    "\n",
    "\n"
   ]
  },
  {
   "cell_type": "code",
   "execution_count": 13,
   "metadata": {},
   "outputs": [
    {
     "name": "stdout",
     "output_type": "stream",
     "text": [
      "\n",
      "Iteration 0:   log likelihood = -12658.665  \n",
      "Iteration 1:   log likelihood = -12658.524  \n",
      "Iteration 2:   log likelihood = -12658.524  \n",
      "\n",
      "Poisson regression                              Number of obs     =     27,326\n",
      "                                                LR chi2(4)        =    1549.38\n",
      "                                                Prob > chi2       =     0.0000\n",
      "Log likelihood = -12658.524                     Pseudo R2         =     0.0577\n",
      "\n",
      "------------------------------------------------------------------------------\n",
      "     hospvis |      Coef.   Std. Err.      z    P>|z|     [95% Conf. Interval]\n",
      "-------------+----------------------------------------------------------------\n",
      "    1.female |   .0820447    .032676     2.51   0.012     .0180009    .1460885\n",
      "        year |   .0022215   .0051012     0.44   0.663    -.0077767    .0122197\n",
      "         age |  -.0022587   .0014811    -1.53   0.127    -.0051615    .0006442\n",
      "        hsat |  -.2503854   .0062804   -39.87   0.000    -.2626947   -.2380761\n",
      "       _cons |  -4.821864   10.14459    -0.48   0.635     -24.7049    15.06117\n",
      "------------------------------------------------------------------------------\n"
     ]
    }
   ],
   "source": [
    "poisson hospvis i.female year age hsat // i.handdum handper hhninc // i.hhkids educ i.married i.haupts i.reals i.fachhs i.abitur i.working i.bluec i.whitec i.self docvis i.public i.addon\n",
    "\n",
    "// poisson hospvis age female handdum hsat hhninc educ public"
   ]
  },
  {
   "cell_type": "code",
   "execution_count": 6,
   "metadata": {},
   "outputs": [
    {
     "name": "stdout",
     "output_type": "stream",
     "text": [
      "\n",
      "Conditional marginal effects                    Number of obs     =     27,326\n",
      "Model VCE    : OIM\n",
      "\n",
      "Expression   : Predicted number of events, predict()\n",
      "dy/dx w.r.t. : age female handdum hsat hhninc educ public\n",
      "at           : age             =    43.52569 (mean)\n",
      "               female          =    .4787748 (mean)\n",
      "               handdum         =    .2140154 (mean)\n",
      "               hsat            =    6.785426 (mean)\n",
      "               hhninc          =    3520.836 (mean)\n",
      "               educ            =    11.32063 (mean)\n",
      "               public          =    .8857132 (mean)\n",
      "\n",
      "------------------------------------------------------------------------------\n",
      "             |            Delta-method\n",
      "             |      dy/dx   Std. Err.      z    P>|z|     [95% Conf. Interval]\n",
      "-------------+----------------------------------------------------------------\n",
      "         age |  -.0005504   .0001719    -3.20   0.001    -.0008873   -.0002135\n",
      "      female |   .0073116   .0037817     1.93   0.053    -.0001004    .0147236\n",
      "     handdum |   .0264189   .0041803     6.32   0.000     .0182256    .0346121\n",
      "        hsat |  -.0274229   .0006818   -40.22   0.000    -.0287593   -.0260865\n",
      "      hhninc |   4.77e-06   1.02e-06     4.67   0.000     2.77e-06    6.78e-06\n",
      "        educ |    -.00591   .0009908    -5.96   0.000     -.007852    -.003968\n",
      "      public |  -.0059055   .0067293    -0.88   0.380    -.0190947    .0072837\n",
      "------------------------------------------------------------------------------\n"
     ]
    }
   ],
   "source": [
    "margins, dydx(*) atmeans"
   ]
  },
  {
   "cell_type": "code",
   "execution_count": 7,
   "metadata": {},
   "outputs": [
    {
     "name": "stdout",
     "output_type": "stream",
     "text": [
      "\n",
      "         Deviance goodness-of-fit =  19984.01\n",
      "         Prob > chi2(27318)       =    1.0000\n",
      "\n",
      "         Pearson goodness-of-fit  =  125039.2\n",
      "         Prob > chi2(27318)       =    0.0000\n"
     ]
    }
   ],
   "source": [
    "estat gof"
   ]
  },
  {
   "cell_type": "markdown",
   "metadata": {},
   "source": [
    "b) Estimate the model using ordinary least squares and compare your least squares results to the\n",
    "marginal effects computed in part a). What do you find?\n"
   ]
  },
  {
   "cell_type": "code",
   "execution_count": 8,
   "metadata": {},
   "outputs": [
    {
     "name": "stdout",
     "output_type": "stream",
     "text": [
      "\n",
      "      Source |       SS           df       MS      Number of obs   =    27,326\n",
      "-------------+----------------------------------   F(14, 27311)    =     47.03\n",
      "       Model |  503.044623        14  35.9317588   Prob > F        =    0.0000\n",
      "    Residual |  20866.6219    27,311  .764037272   R-squared       =    0.0235\n",
      "-------------+----------------------------------   Adj R-squared   =    0.0230\n",
      "       Total |  21369.6665    27,325    .7820555   Root MSE        =    .87409\n",
      "\n",
      "------------------------------------------------------------------------------\n",
      "     hospvis |      Coef.   Std. Err.      t    P>|t|     [95% Conf. Interval]\n",
      "-------------+----------------------------------------------------------------\n",
      "      female |  -.0058515   .0120881    -0.48   0.628    -.0295448    .0178417\n",
      "        year |  -.0015426   .0017448    -0.88   0.377    -.0049626    .0018774\n",
      "         age |  -.0017733    .000509    -3.48   0.000    -.0027709   -.0007757\n",
      "        hsat |  -.0235438   .0026091    -9.02   0.000    -.0286577   -.0184299\n",
      "     handdum |  -.0117128    .016069    -0.73   0.466    -.0432088    .0197832\n",
      "     handper |   .0015035   .0003647     4.12   0.000     .0007888    .0022183\n",
      "      hhninc |   8.25e-06   3.33e-06     2.48   0.013     1.72e-06    .0000148\n",
      "        educ |  -.0068857   .0026703    -2.58   0.010    -.0121197   -.0016517\n",
      "     working |   .0045473   .0186206     0.24   0.807    -.0319501    .0410446\n",
      "       bluec |  -.0221632    .019235    -1.15   0.249    -.0598648    .0155385\n",
      "      whitec |  -.0135616   .0180768    -0.75   0.453    -.0489931    .0218699\n",
      "      docvis |   .0171478    .001013    16.93   0.000     .0151624    .0191333\n",
      "      public |  -.0063375   .0198623    -0.32   0.750    -.0452686    .0325935\n",
      "       addon |   .0430214   .0393557     1.09   0.274    -.0341178    .1201605\n",
      "       _cons |   3.441849   3.468017     0.99   0.321    -3.355642    10.23934\n",
      "------------------------------------------------------------------------------\n"
     ]
    }
   ],
   "source": [
    "regress hospvis female year age hsat handdum handper hhninc educ working bluec whitec docvis public addon"
   ]
  },
  {
   "cell_type": "code",
   "execution_count": 9,
   "metadata": {},
   "outputs": [
    {
     "name": "stdout",
     "output_type": "stream",
     "text": [
      "\n",
      "    Variable |       VIF       1/VIF  \n",
      "-------------+----------------------\n",
      "     working |      2.71    0.368802\n",
      "      whitec |      2.45    0.407757\n",
      "       bluec |      2.44    0.409949\n",
      "     handper |      1.76    0.566596\n",
      "     handdum |      1.55    0.644096\n",
      "      public |      1.43    0.700151\n",
      "        educ |      1.38    0.725475\n",
      "      female |      1.30    0.766774\n",
      "        hsat |      1.28    0.780743\n",
      "      hhninc |      1.24    0.805375\n",
      "         age |      1.19    0.840768\n",
      "      docvis |      1.19    0.841782\n",
      "        year |      1.09    0.913450\n",
      "       addon |      1.02    0.978100\n",
      "-------------+----------------------\n",
      "    Mean VIF |      1.57\n"
     ]
    }
   ],
   "source": [
    "vif"
   ]
  },
  {
   "cell_type": "markdown",
   "metadata": {},
   "source": [
    "C) Is there evidence of overdispersion in the data? Test for overdispersion."
   ]
  },
  {
   "cell_type": "code",
   "execution_count": 10,
   "metadata": {},
   "outputs": [
    {
     "name": "stdout",
     "output_type": "stream",
     "text": [
      "\n",
      "Fitting Poisson model:\n",
      "\n",
      "Iteration 0:   log likelihood = -32567.861  \n",
      "Iteration 1:   log likelihood = -20184.769  \n",
      "Iteration 2:   log likelihood = -15014.992  \n",
      "Iteration 3:   log likelihood = -12550.607  \n",
      "Iteration 4:   log likelihood = -12360.052  \n",
      "Iteration 5:   log likelihood = -12341.054  \n",
      "Iteration 6:   log likelihood = -12340.937  \n",
      "Iteration 7:   log likelihood = -12340.937  \n",
      "\n",
      "Fitting constant-only model:\n",
      "\n",
      "Iteration 0:   log likelihood = -11503.216  (not concave)\n",
      "Iteration 1:   log likelihood = -10399.771  \n",
      "Iteration 2:   log likelihood = -10376.209  \n",
      "Iteration 3:   log likelihood =  -10376.19  \n",
      "Iteration 4:   log likelihood =  -10376.19  \n",
      "\n",
      "Fitting full model:\n",
      "\n",
      "Iteration 0:   log likelihood = -9993.1546  \n",
      "Iteration 1:   log likelihood = -9884.9903  \n",
      "Iteration 2:   log likelihood = -9874.9724  \n",
      "Iteration 3:   log likelihood = -9874.9552  \n",
      "Iteration 4:   log likelihood = -9874.9552  \n",
      "\n",
      "Negative binomial regression                    Number of obs     =     27,326\n",
      "                                                LR chi2(14)       =    1002.47\n",
      "Dispersion     = mean                           Prob > chi2       =     0.0000\n",
      "Log likelihood = -9874.9552                     Pseudo R2         =     0.0483\n",
      "\n",
      "------------------------------------------------------------------------------\n",
      "     hospvis |      Coef.   Std. Err.      z    P>|z|     [95% Conf. Interval]\n",
      "-------------+----------------------------------------------------------------\n",
      "      female |   .0734788   .0532547     1.38   0.168    -.0308985    .1778561\n",
      "        year |  -.0009885    .007826    -0.13   0.899    -.0163271    .0143502\n",
      "         age |  -.0085933   .0022672    -3.79   0.000    -.0130369   -.0041497\n",
      "        hsat |  -.1510995   .0106536   -14.18   0.000    -.1719802   -.1302188\n",
      "     handdum |   .0401452   .0685499     0.59   0.558    -.0942103    .1745006\n",
      "     handper |   .0062273   .0013675     4.55   0.000     .0035471    .0089075\n",
      "      hhninc |   .0000539   .0000145     3.71   0.000     .0000254    .0000823\n",
      "        educ |  -.0543609     .01225    -4.44   0.000    -.0783705   -.0303512\n",
      "     working |   .1094495    .083216     1.32   0.188    -.0536508    .2725499\n",
      "       bluec |  -.1470271   .0857414    -1.71   0.086    -.3150772    .0210229\n",
      "      whitec |  -.0720907   .0816684    -0.88   0.377    -.2321579    .0879765\n",
      "      docvis |   .0621442   .0043689    14.22   0.000     .0535813     .070707\n",
      "      public |     .05039   .0892524     0.56   0.572    -.1245414    .2253214\n",
      "       addon |   .3308444   .1622095     2.04   0.041     .0129196    .6487693\n",
      "       _cons |   1.212178   15.55503     0.08   0.938    -29.27512    31.69948\n",
      "-------------+----------------------------------------------------------------\n",
      "    /lnalpha |   1.775167   .0411331                      1.694547    1.855786\n",
      "-------------+----------------------------------------------------------------\n",
      "       alpha |   5.901264   .2427374                       5.44418    6.396724\n",
      "------------------------------------------------------------------------------\n",
      "LR test of alpha=0: chibar2(01) = 4931.96              Prob >= chibar2 = 0.000\n"
     ]
    }
   ],
   "source": [
    "nbreg hospvis female year age hsat handdum handper hhninc educ working bluec whitec docvis public addon\n"
   ]
  },
  {
   "cell_type": "code",
   "execution_count": null,
   "metadata": {},
   "outputs": [],
   "source": []
  }
 ],
 "metadata": {
  "kernelspec": {
   "display_name": "Stata",
   "language": "stata",
   "name": "stata"
  },
  "language_info": {
   "codemirror_mode": "stata",
   "file_extension": ".do",
   "mimetype": "text/x-stata",
   "name": "stata",
   "version": "15.1"
  }
 },
 "nbformat": 4,
 "nbformat_minor": 2
}
