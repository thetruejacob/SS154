{
 "cells": [
  {
   "cell_type": "markdown",
   "metadata": {},
   "source": [
    "# Incentive Effects in the Demand for Health Care: A Bivariate Panel Count Data Estimation\n",
    "According to the original paper by Riphahn (2000), http://qed.econ.queensu.ca/jae/2003-v18.4/riphahn-wambach-million/\n",
    "\n",
    "Description of variables:\n",
    "- id:     person - identification number\n",
    "- female:     female = 1; male = 0\n",
    "- year :     calendar year of the observation\n",
    "- age :     age in years\n",
    "- hsat :      health satisfaction, coded 0 (low) - 10 (high)\n",
    "- handdum :      handicapped = 1; otherwise = 0\n",
    "- handper :      degree of handicap in percent (0 - 100)\n",
    "- hhninc :      household nominal monthly net income in German marks / 1000\n",
    "- hhkids :     children under age 16 in the household = 1; otherwise = 0\n",
    "- educ :     years of schooling\n",
    "- married :     married = 1; otherwise = 0\n",
    "- haupts:     highest schooling degree is Hauptschul degree = 1; otherwise = 0\n",
    "- reals:      highest schooling degree is Realschul degree = 1; otherwise = 0\n",
    "- fachhs:     highest schooling degree is Polytechnical degree = 1; otherwise = 0\n",
    "- abitur:     highest schooling degree is Abitur = 1; otherwise = 0\n",
    "- univ:   highest schooling degree is university degree = 1; otherwise = 0\n",
    "- working:     employed = 1; otherwise = 0\n",
    "- bluec:     blue collar employee = 1; otherwise = 0\n",
    "- whitec:     white collar employee = 1; otherwise = 0\n",
    "- self:     self employed = 1; otherwise = 0\n",
    "- beamt:     civil servant = 1; otherwise = 0\n",
    "- docvis:     number of doctor visits in last three months\n",
    "- hospvis:     number of hospital visits in last calendar year\n",
    "- public:     insured in public health insurance = 1; otherwise = 0\n",
    "- addon:     insured by add-on insurance = 1; otherswise = 0\n",
    "### Importing and cleaning data"
   ]
  },
  {
   "cell_type": "code",
   "execution_count": 1,
   "metadata": {},
   "outputs": [
    {
     "name": "stdout",
     "output_type": "stream",
     "text": [
      "\n",
      "\n",
      "(25 vars, 27,326 obs)\n",
      "\n",
      "\n",
      "    Variable |        Obs        Mean    Std. Dev.       Min        Max\n",
      "-------------+---------------------------------------------------------\n",
      "          id |     27,326    3517.443    2014.628          1       7293\n",
      "      female |     27,326    .4787748    .4995584          0          1\n",
      "        year |     27,326    1987.823    3.170868       1984       1994\n",
      "         age |     27,326    43.52569    11.33025         25         64\n",
      "        hsat |     27,326    6.785426    2.293715          0         10\n",
      "-------------+---------------------------------------------------------\n",
      "     handdum |     27,326    .2140154    .4100283          0          1\n",
      "     handper |     27,326    7.012285    19.26463          0        100\n",
      "      hhninc |     27,326    3520.836    1769.083          0      30671\n",
      "      hhkids |     27,326      .40273    .4904563          0          1\n",
      "        educ |     27,326    11.32063    2.324885          7         18\n",
      "-------------+---------------------------------------------------------\n",
      "     married |     27,326    .7586182    .4279291          0          1\n",
      "      haupts |     27,326    .6242772    .4843178          0          1\n",
      "       reals |     27,326    .1968089    .3975939          0          1\n",
      "      fachhs |     27,326    .0408402    .1979236          0          1\n",
      "      abitur |     27,326    .1170314    .3214636          0          1\n",
      "-------------+---------------------------------------------------------\n",
      "        univ |     27,326    .0719461    .2584034          0          1\n",
      "     working |     27,326    .6770475    .4676133          0          1\n",
      "       bluec |     27,326    .2437605    .4293577          0          1\n",
      "      whitec |     27,326    .2996048    .4580933          0          1\n",
      "        self |     27,326    .0621752    .2414779          0          1\n",
      "-------------+---------------------------------------------------------\n",
      "       beamt |     27,326    .0746908    .2628965          0          1\n",
      "      docvis |     27,326    3.183525     5.68969          0        121\n",
      "     hospvis |     27,326    .1382566     .884339          0         51\n",
      "      public |     27,326    .8857132    .3181651          0          1\n",
      "       addon |     27,326    .0188099    .1358558          0          1\n"
     ]
    }
   ],
   "source": [
    "clear\n",
    "import delimited id female year age hsat handdum handper hhninc hhkids educ married haupts reals fachhs abitur univ working bluec whitec self beamt docvis hospvis public addon using rmw.csv, colrange(2:)\n",
    "summarize"
   ]
  },
  {
   "cell_type": "markdown",
   "metadata": {},
   "source": [
    "a) Begin by fitting a Poisson model to this variable. The exogenous variables are listed in Table F7.1.\n",
    "Determine an appropriate specification for the right-hand side of your model. Report the regression\n",
    "results and the marginal effects.\n",
    "\n",
    "\n",
    "\n"
   ]
  },
  {
   "cell_type": "code",
   "execution_count": 4,
   "metadata": {},
   "outputs": [
    {
     "name": "stdout",
     "output_type": "stream",
     "text": [
      "\n",
      "Iteration 0:   log likelihood = -32567.861  \n",
      "Iteration 1:   log likelihood = -20184.769  \n",
      "Iteration 2:   log likelihood = -15014.992  \n",
      "Iteration 3:   log likelihood = -12550.607  \n",
      "Iteration 4:   log likelihood = -12360.052  \n",
      "Iteration 5:   log likelihood = -12341.054  \n",
      "Iteration 6:   log likelihood = -12340.937  \n",
      "Iteration 7:   log likelihood = -12340.937  \n",
      "\n",
      "Poisson regression                              Number of obs     =     27,326\n",
      "                                                LR chi2(14)       =    2184.55\n",
      "                                                Prob > chi2       =     0.0000\n",
      "Log likelihood = -12340.937                     Pseudo R2         =     0.0813\n",
      "\n",
      "------------------------------------------------------------------------------\n",
      "     hospvis |      Coef.   Std. Err.      z    P>|z|     [95% Conf. Interval]\n",
      "-------------+----------------------------------------------------------------\n",
      "      female |    .042419   .0363641     1.17   0.243    -.0288534    .1136914\n",
      "        year |  -.0023417   .0052695    -0.44   0.657    -.0126697    .0079863\n",
      "         age |  -.0078097   .0015653    -4.99   0.000    -.0108776   -.0047418\n",
      "        hsat |  -.1828604   .0070632   -25.89   0.000     -.196704   -.1690169\n",
      "     handdum |  -.0095107   .0466043    -0.20   0.838    -.1008534     .081832\n",
      "     handper |   .0057147   .0008182     6.98   0.000      .004111    .0073184\n",
      "      hhninc |   .0000533   9.27e-06     5.75   0.000     .0000351    .0000714\n",
      "        educ |  -.0548223   .0091861    -5.97   0.000    -.0728267   -.0368179\n",
      "     working |    .054055    .058881     0.92   0.359    -.0613497    .1694596\n",
      "       bluec |   -.128677   .0613401    -2.10   0.036    -.2489014   -.0084527\n",
      "      whitec |  -.0672718   .0587898    -1.14   0.253    -.1824977    .0479541\n",
      "      docvis |   .0316554   .0011673    27.12   0.000     .0293676    .0339432\n",
      "      public |  -.0442938   .0652717    -0.68   0.497    -.1722239    .0836363\n",
      "       addon |   .2988969   .1085454     2.75   0.006     .0861519    .5116419\n",
      "       _cons |   4.368763   10.47221     0.42   0.677     -16.1564    24.89392\n",
      "------------------------------------------------------------------------------\n"
     ]
    }
   ],
   "source": [
    "poisson hospvis female year age hsat handdum handper hhninc educ working bluec whitec docvis public addon\n",
    "\n",
    "poisson hospvis age female handdum hsat hhninc educ public"
   ]
  },
  {
   "cell_type": "code",
   "execution_count": 5,
   "metadata": {},
   "outputs": [
    {
     "name": "stdout",
     "output_type": "stream",
     "text": [
      "\n",
      "Conditional marginal effects                    Number of obs     =     27,326\n",
      "Model VCE    : OIM\n",
      "\n",
      "Expression   : Predicted number of events, predict()\n",
      "dy/dx w.r.t. : female year age hsat handdum handper hhninc educ working bluec whitec docvis public addon\n",
      "at           : female          =    .4787748 (mean)\n",
      "               year            =    1987.823 (mean)\n",
      "               age             =    43.52569 (mean)\n",
      "               hsat            =    6.785426 (mean)\n",
      "               handdum         =    .2140154 (mean)\n",
      "               handper         =    7.012285 (mean)\n",
      "               hhninc          =    3520.836 (mean)\n",
      "               educ            =    11.32063 (mean)\n",
      "               working         =    .6770475 (mean)\n",
      "               bluec           =    .2437605 (mean)\n",
      "               whitec          =    .2996048 (mean)\n",
      "               docvis          =    3.183525 (mean)\n",
      "               public          =    .8857132 (mean)\n",
      "               addon           =    .0188099 (mean)\n",
      "\n",
      "------------------------------------------------------------------------------\n",
      "             |            Delta-method\n",
      "             |      dy/dx   Std. Err.      z    P>|z|     [95% Conf. Interval]\n",
      "-------------+----------------------------------------------------------------\n",
      "      female |   .0047505   .0040709     1.17   0.243    -.0032283    .0127293\n",
      "        year |  -.0002622   .0005902    -0.44   0.657     -.001419    .0008945\n",
      "         age |  -.0008746   .0001754    -4.99   0.000    -.0012184   -.0005308\n",
      "        hsat |  -.0204784   .0007463   -27.44   0.000    -.0219411   -.0190158\n",
      "     handdum |  -.0010651   .0052194    -0.20   0.838     -.011295    .0091648\n",
      "     handper |     .00064   .0000919     6.96   0.000     .0004598    .0008202\n",
      "      hhninc |   5.97e-06   1.04e-06     5.76   0.000     3.94e-06    8.00e-06\n",
      "        educ |  -.0061395   .0010242    -5.99   0.000    -.0081469   -.0041321\n",
      "     working |   .0060536    .006593     0.92   0.359    -.0068684    .0189756\n",
      "       bluec |  -.0144105   .0068679    -2.10   0.036    -.0278713   -.0009497\n",
      "      whitec |  -.0075337   .0065835    -1.14   0.252    -.0204372    .0053697\n",
      "      docvis |   .0035451   .0001423    24.91   0.000     .0032661     .003824\n",
      "      public |  -.0049604   .0073094    -0.68   0.497    -.0192865    .0093656\n",
      "       addon |   .0334733   .0121491     2.76   0.006     .0096615    .0572851\n",
      "------------------------------------------------------------------------------\n"
     ]
    }
   ],
   "source": [
    "margins, dydx(*) atmeans"
   ]
  },
  {
   "cell_type": "code",
   "execution_count": 6,
   "metadata": {},
   "outputs": [
    {
     "name": "stdout",
     "output_type": "stream",
     "text": [
      "\n",
      "         Deviance goodness-of-fit =  19434.75\n",
      "         Prob > chi2(27311)       =    1.0000\n",
      "\n",
      "         Pearson goodness-of-fit  =  118236.1\n",
      "         Prob > chi2(27311)       =    0.0000\n"
     ]
    }
   ],
   "source": [
    "estat gof"
   ]
  },
  {
   "cell_type": "markdown",
   "metadata": {},
   "source": [
    "b) Estimate the model using ordinary least squares and compare your least squares results to the\n",
    "marginal effects computed in part a). What do you find?\n"
   ]
  },
  {
   "cell_type": "code",
   "execution_count": 7,
   "metadata": {},
   "outputs": [
    {
     "name": "stdout",
     "output_type": "stream",
     "text": [
      "\n",
      "      Source |       SS           df       MS      Number of obs   =    27,326\n",
      "-------------+----------------------------------   F(14, 27311)    =     47.03\n",
      "       Model |  503.044623        14  35.9317588   Prob > F        =    0.0000\n",
      "    Residual |  20866.6219    27,311  .764037272   R-squared       =    0.0235\n",
      "-------------+----------------------------------   Adj R-squared   =    0.0230\n",
      "       Total |  21369.6665    27,325    .7820555   Root MSE        =    .87409\n",
      "\n",
      "------------------------------------------------------------------------------\n",
      "     hospvis |      Coef.   Std. Err.      t    P>|t|     [95% Conf. Interval]\n",
      "-------------+----------------------------------------------------------------\n",
      "      female |  -.0058515   .0120881    -0.48   0.628    -.0295448    .0178417\n",
      "        year |  -.0015426   .0017448    -0.88   0.377    -.0049626    .0018774\n",
      "         age |  -.0017733    .000509    -3.48   0.000    -.0027709   -.0007757\n",
      "        hsat |  -.0235438   .0026091    -9.02   0.000    -.0286577   -.0184299\n",
      "     handdum |  -.0117128    .016069    -0.73   0.466    -.0432088    .0197832\n",
      "     handper |   .0015035   .0003647     4.12   0.000     .0007888    .0022183\n",
      "      hhninc |   8.25e-06   3.33e-06     2.48   0.013     1.72e-06    .0000148\n",
      "        educ |  -.0068857   .0026703    -2.58   0.010    -.0121197   -.0016517\n",
      "     working |   .0045473   .0186206     0.24   0.807    -.0319501    .0410446\n",
      "       bluec |  -.0221632    .019235    -1.15   0.249    -.0598648    .0155385\n",
      "      whitec |  -.0135616   .0180768    -0.75   0.453    -.0489931    .0218699\n",
      "      docvis |   .0171478    .001013    16.93   0.000     .0151624    .0191333\n",
      "      public |  -.0063375   .0198623    -0.32   0.750    -.0452686    .0325935\n",
      "       addon |   .0430214   .0393557     1.09   0.274    -.0341178    .1201605\n",
      "       _cons |   3.441849   3.468017     0.99   0.321    -3.355642    10.23934\n",
      "------------------------------------------------------------------------------\n"
     ]
    }
   ],
   "source": [
    "regress hospvis female year age hsat handdum handper hhninc educ working bluec whitec docvis public addon"
   ]
  },
  {
   "cell_type": "code",
   "execution_count": 8,
   "metadata": {},
   "outputs": [
    {
     "name": "stdout",
     "output_type": "stream",
     "text": [
      "\n",
      "    Variable |       VIF       1/VIF  \n",
      "-------------+----------------------\n",
      "     working |      2.71    0.368802\n",
      "      whitec |      2.45    0.407757\n",
      "       bluec |      2.44    0.409949\n",
      "     handper |      1.76    0.566596\n",
      "     handdum |      1.55    0.644096\n",
      "      public |      1.43    0.700151\n",
      "        educ |      1.38    0.725475\n",
      "      female |      1.30    0.766774\n",
      "        hsat |      1.28    0.780743\n",
      "      hhninc |      1.24    0.805375\n",
      "         age |      1.19    0.840768\n",
      "      docvis |      1.19    0.841782\n",
      "        year |      1.09    0.913450\n",
      "       addon |      1.02    0.978100\n",
      "-------------+----------------------\n",
      "    Mean VIF |      1.57\n"
     ]
    }
   ],
   "source": [
    "vif"
   ]
  },
  {
   "cell_type": "markdown",
   "metadata": {},
   "source": [
    "C) Is there evidence of overdispersion in the data? Test for overdispersion."
   ]
  },
  {
   "cell_type": "code",
   "execution_count": 9,
   "metadata": {},
   "outputs": [
    {
     "name": "stdout",
     "output_type": "stream",
     "text": [
      "\n",
      "Fitting Poisson model:\n",
      "\n",
      "Iteration 0:   log likelihood = -32567.861  \n",
      "Iteration 1:   log likelihood = -20184.769  \n",
      "Iteration 2:   log likelihood = -15014.992  \n",
      "Iteration 3:   log likelihood = -12550.607  \n",
      "Iteration 4:   log likelihood = -12360.052  \n",
      "Iteration 5:   log likelihood = -12341.054  \n",
      "Iteration 6:   log likelihood = -12340.937  \n",
      "Iteration 7:   log likelihood = -12340.937  \n",
      "\n",
      "Fitting constant-only model:\n",
      "\n",
      "Iteration 0:   log likelihood = -11503.216  (not concave)\n",
      "Iteration 1:   log likelihood = -10399.771  \n",
      "Iteration 2:   log likelihood = -10376.209  \n",
      "Iteration 3:   log likelihood =  -10376.19  \n",
      "Iteration 4:   log likelihood =  -10376.19  \n",
      "\n",
      "Fitting full model:\n",
      "\n",
      "Iteration 0:   log likelihood = -9993.1546  \n",
      "Iteration 1:   log likelihood = -9884.9903  \n",
      "Iteration 2:   log likelihood = -9874.9724  \n",
      "Iteration 3:   log likelihood = -9874.9552  \n",
      "Iteration 4:   log likelihood = -9874.9552  \n",
      "\n",
      "Negative binomial regression                    Number of obs     =     27,326\n",
      "                                                LR chi2(14)       =    1002.47\n",
      "Dispersion     = mean                           Prob > chi2       =     0.0000\n",
      "Log likelihood = -9874.9552                     Pseudo R2         =     0.0483\n",
      "\n",
      "------------------------------------------------------------------------------\n",
      "     hospvis |      Coef.   Std. Err.      z    P>|z|     [95% Conf. Interval]\n",
      "-------------+----------------------------------------------------------------\n",
      "      female |   .0734788   .0532547     1.38   0.168    -.0308985    .1778561\n",
      "        year |  -.0009885    .007826    -0.13   0.899    -.0163271    .0143502\n",
      "         age |  -.0085933   .0022672    -3.79   0.000    -.0130369   -.0041497\n",
      "        hsat |  -.1510995   .0106536   -14.18   0.000    -.1719802   -.1302188\n",
      "     handdum |   .0401452   .0685499     0.59   0.558    -.0942103    .1745006\n",
      "     handper |   .0062273   .0013675     4.55   0.000     .0035471    .0089075\n",
      "      hhninc |   .0000539   .0000145     3.71   0.000     .0000254    .0000823\n",
      "        educ |  -.0543609     .01225    -4.44   0.000    -.0783705   -.0303512\n",
      "     working |   .1094495    .083216     1.32   0.188    -.0536508    .2725499\n",
      "       bluec |  -.1470271   .0857414    -1.71   0.086    -.3150772    .0210229\n",
      "      whitec |  -.0720907   .0816684    -0.88   0.377    -.2321579    .0879765\n",
      "      docvis |   .0621442   .0043689    14.22   0.000     .0535813     .070707\n",
      "      public |     .05039   .0892524     0.56   0.572    -.1245414    .2253214\n",
      "       addon |   .3308444   .1622095     2.04   0.041     .0129196    .6487693\n",
      "       _cons |   1.212178   15.55503     0.08   0.938    -29.27512    31.69948\n",
      "-------------+----------------------------------------------------------------\n",
      "    /lnalpha |   1.775167   .0411331                      1.694547    1.855786\n",
      "-------------+----------------------------------------------------------------\n",
      "       alpha |   5.901264   .2427374                       5.44418    6.396724\n",
      "------------------------------------------------------------------------------\n",
      "LR test of alpha=0: chibar2(01) = 4931.96              Prob >= chibar2 = 0.000\n"
     ]
    }
   ],
   "source": [
    "nbreg hospvis female year age hsat handdum handper hhninc educ working bluec whitec docvis public addon\n"
   ]
  },
  {
   "cell_type": "code",
   "execution_count": null,
   "metadata": {},
   "outputs": [],
   "source": []
  }
 ],
 "metadata": {
  "kernelspec": {
   "display_name": "Stata",
   "language": "stata",
   "name": "stata"
  },
  "language_info": {
   "codemirror_mode": "stata",
   "file_extension": ".do",
   "mimetype": "text/x-stata",
   "name": "stata",
   "version": "15.1"
  }
 },
 "nbformat": 4,
 "nbformat_minor": 2
}
