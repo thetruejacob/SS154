{
 "cells": [
  {
   "cell_type": "markdown",
   "metadata": {},
   "source": [
    "# A Theory of Extramarital Affairs\n",
    "\n",
    "According to the original paper by Fair (1978), http://people.stern.nyu.edu/wgreene/Lugano2013/Fair-ExtramaritalAffairs.pdf\n",
    "- $v_1$ = marriage rating (1 = very poor, 2 = poor, 3 = fair, 4 = good, 5 = very good)\n",
    "- $v_2$ = age (17.5 = under 20, 22 = 20-24, 27 = 25-29, 32 = 30-34, 37 = 35-39, 42 = 40+)\n",
    "- $v_3$ = years married (0.5 = <1, 2.5 = 1-4, 6 = 5-7, 9 = 8-10, 13 = 10+ & eldest child >12, 16.5 = >10 & eldest child 12-17, 23 = 10+ & eldest child >18)\n",
    "- $v_4$ = number of children (1 = 1, 2 = 2, 3 = 3, 4 = 4, 5 = 5+)\n",
    "- $v_5$ = religiosity (1 = not, 2 = mildly, 3 = fairly, 4 = strongly)\n",
    "- $v_6$ = level of education (9 = grade school, 12 = some high school, 14 = some college, 16 = college grad, 17 = some graduate school, 20 = advanced degree)\n",
    "- $v_7$ = occupation (1 = student, 2 = farming/agriculture/semiskilled/unskilled, 3 = white-collar, 4 = teacher/counselor/social worker/nurse or artist/writer/technician/skilled worker, 5 = managerial/administrative/business, 6 = professional w/ advanced degree)\n",
    "- $v_8$ = husband's occupation (same as $v_7$)\n",
    "- $y_{rb}$ = proportion of time spent in marital affairs\n",
    "\n",
    "### Importing and cleaning the data"
   ]
  },
  {
   "cell_type": "code",
   "execution_count": 12,
   "metadata": {},
   "outputs": [
    {
     "name": "stdout",
     "output_type": "stream",
     "text": [
      "\n",
      "\n",
      "(14 vars, 6,366 obs)\n",
      "\n",
      "\n",
      "\n",
      "\n",
      "    Variable |        Obs        Mean    Std. Dev.       Min        Max\n",
      "-------------+---------------------------------------------------------\n",
      "          id |      6,366    8932.883    5203.925          3      19020\n",
      "    constant |      6,366           1           0          1          1\n",
      "      rating |      6,366    4.109645    .9614296          1          5\n",
      "         age |      6,366    29.08286    6.847882       17.5         42\n",
      "       years |      6,366    9.009425     7.28012         .5         23\n",
      "-------------+---------------------------------------------------------\n",
      "    children |      6,366    1.396874    1.433471          0        5.5\n",
      " religiosity |      6,366     2.42617    .8783688          1          4\n",
      "   education |      6,366    14.20986    2.178003          9         20\n",
      "  occupation |      6,366    3.424128    .9423987          1          6\n",
      "  husbandocc |      6,366    3.850141    1.346435          1          6\n",
      "-------------+---------------------------------------------------------\n",
      "         yrb |      6,366    .7053739    2.203374          0   57.59999\n",
      "           A |      6,366    .3224945    .4674678          0          1\n"
     ]
    }
   ],
   "source": [
    "clear\n",
    "\n",
    "import delimited id constant rating age years children religiosity education notused1 occupation husbandocc yrb notused2 notused3 using \"TableF17-2.csv\"\n",
    "// import delimited TableF17-2.csv\n",
    "\n",
    "drop notused1 notused2 notused3\n",
    "\n",
    "gen A = yrb > 0\n",
    "\n",
    "summarize"
   ]
  },
  {
   "cell_type": "markdown",
   "metadata": {},
   "source": [
    "a) The regressors of interest are v1 to v8; however, not necessarily all of them belong in your model. \n",
    "- Use these data to build a binary choice model for A. \n",
    "- Report all computed results for the model. \n",
    "- Compute the marginal effects for the variables you choose. \n",
    "- Compare the results you obtain for a probit model to those for a logit model. \n",
    "- Are there any substantial differences in the results for the two models?\n",
    "\n",
    "https://warwick.ac.uk/fac/soc/economics/staff/academic/corradi/teaching-ec976/msfe-week9.pdf"
   ]
  },
  {
   "cell_type": "code",
   "execution_count": 15,
   "metadata": {},
   "outputs": [
    {
     "name": "stdout",
     "output_type": "stream",
     "text": [
      "\n",
      "Iteration 0:   log likelihood =   -4002.53  \n",
      "Iteration 1:   log likelihood = -3455.3989  \n",
      "Iteration 2:   log likelihood = -3454.0117  \n",
      "Iteration 3:   log likelihood = -3454.0116  \n",
      "\n",
      "Probit regression                               Number of obs     =      6,366\n",
      "                                                LR chi2(16)       =    1097.04\n",
      "                                                Prob > chi2       =     0.0000\n",
      "Log likelihood = -3454.0116                     Pseudo R2         =     0.1370\n",
      "\n",
      "------------------------------------------------------------------------------\n",
      "           A |      Coef.   Std. Err.      z    P>|z|     [95% Conf. Interval]\n",
      "-------------+----------------------------------------------------------------\n",
      "      rating |    -.42506   .0183553   -23.16   0.000    -.4610357   -.3890843\n",
      "         age |  -.0359131   .0060622    -5.92   0.000    -.0477948   -.0240314\n",
      "       years |   .0642991    .006468     9.94   0.000     .0516221    .0769761\n",
      "    children |   .0086311   .0190523     0.45   0.651    -.0287107     .045973\n",
      " religiosity |  -.2235751   .0205278   -10.89   0.000    -.2638088   -.1833414\n",
      "   education |   -.001846   .0102593    -0.18   0.857    -.0219539    .0182618\n",
      "             |\n",
      "  occupation |\n",
      "          2  |   .2107086   .2498365     0.84   0.399    -.2789619    .7003792\n",
      "          3  |   .3992348   .2461618     1.62   0.105    -.0832334     .881703\n",
      "          4  |   .2630816   .2467651     1.07   0.286    -.2205691    .7467324\n",
      "          5  |   .6091108   .2495332     2.44   0.015     .1200347    1.098187\n",
      "          6  |   .6480159   .2792565     2.32   0.020     .1006832    1.195349\n",
      "             |\n",
      "  husbandocc |\n",
      "          2  |   .0943557   .1069709     0.88   0.378    -.1153034    .3040147\n",
      "          3  |   .1662867   .1171215     1.42   0.156    -.0632672    .3958406\n",
      "          4  |   .0766486   .1039138     0.74   0.461    -.1270187     .280316\n",
      "          5  |   .0915583   .1049421     0.87   0.383    -.1141246    .2972411\n",
      "          6  |   .1029664   .1173516     0.88   0.380    -.1270385    .3329713\n",
      "             |\n",
      "       _cons |   1.792191    .325053     5.51   0.000     1.155099    2.429283\n",
      "------------------------------------------------------------------------------\n"
     ]
    }
   ],
   "source": [
    "probit A rating age years children religiosity education i.occupation i.husbandocc\n",
    "// probit A v1 v2 v3 v4 v5 v6 i.v7 i.v8"
   ]
  },
  {
   "cell_type": "code",
   "execution_count": 3,
   "metadata": {},
   "outputs": [
    {
     "name": "stdout",
     "output_type": "stream",
     "text": [
      "\n",
      "Iteration 0:   log likelihood =   -4002.53  \n",
      "Iteration 1:   log likelihood = -3467.9026  \n",
      "Iteration 2:   log likelihood = -3466.2814  \n",
      "Iteration 3:   log likelihood =  -3466.281  \n",
      "Iteration 4:   log likelihood =  -3466.281  \n",
      "\n",
      "Probit regression                               Number of obs     =      6,366\n",
      "                                                LR chi2(10)       =    1072.50\n",
      "                                                Prob > chi2       =     0.0000\n",
      "Log likelihood =  -3466.281                     Pseudo R2         =     0.1340\n",
      "\n",
      "------------------------------------------------------------------------------\n",
      "           A |      Coef.   Std. Err.      z    P>|z|     [95% Conf. Interval]\n",
      "-------------+----------------------------------------------------------------\n",
      "          v1 |  -.4274984   .0183522   -23.29   0.000    -.4634681   -.3915288\n",
      "          v2 |  -.0356655   .0060395    -5.91   0.000    -.0475028   -.0238283\n",
      "          v3 |    .066022   .0064506    10.24   0.000     .0533791    .0786649\n",
      "          v4 |  -.0030596   .0188042    -0.16   0.871    -.0399151    .0337959\n",
      "             |\n",
      "          v5 |\n",
      "          2  |  -.1945372   .0507167    -3.84   0.000    -.2939402   -.0951343\n",
      "          3  |  -.3768313   .0509293    -7.40   0.000    -.4766508   -.2770118\n",
      "          4  |  -.7642392   .0755719   -10.11   0.000    -.9123573   -.6161211\n",
      "             |\n",
      "          v6 |  -.0220912   .0091876    -2.40   0.016    -.0400986   -.0040838\n",
      "          v7 |    .095302   .0201163     4.74   0.000     .0558748    .1347292\n",
      "          v8 |   .0070869      .0135     0.52   0.600    -.0193726    .0335465\n",
      "       _cons |   1.931526   .1775832    10.88   0.000     1.583469    2.279582\n",
      "------------------------------------------------------------------------------\n"
     ]
    }
   ],
   "source": [
    "probit A v1 v2 v3 v4 i.v5 v6 v7 v8"
   ]
  },
  {
   "cell_type": "code",
   "execution_count": null,
   "metadata": {},
   "outputs": [],
   "source": []
  },
  {
   "cell_type": "code",
   "execution_count": 4,
   "metadata": {},
   "outputs": [
    {
     "name": "stdout",
     "output_type": "stream",
     "text": [
      "\n",
      "Conditional marginal effects                    Number of obs     =      6,366\n",
      "Model VCE    : OIM\n",
      "\n",
      "Expression   : Pr(A), predict()\n",
      "dy/dx w.r.t. : v1 v2 v3 v4 2.v5 3.v5 4.v5 v6 v7 v8\n",
      "at           : v1              =    4.109645 (mean)\n",
      "               v2              =    29.08286 (mean)\n",
      "               v3              =    9.009425 (mean)\n",
      "               v4              =    1.396874 (mean)\n",
      "               1.v5            =    .1603833 (mean)\n",
      "               2.v5            =    .3561106 (mean)\n",
      "               3.v5            =    .3804587 (mean)\n",
      "               4.v5            =    .1030474 (mean)\n",
      "               v6              =    14.20986 (mean)\n",
      "               v7              =    3.424128 (mean)\n",
      "               v8              =    3.850141 (mean)\n",
      "\n",
      "------------------------------------------------------------------------------\n",
      "             |            Delta-method\n",
      "             |      dy/dx   Std. Err.      z    P>|z|     [95% Conf. Interval]\n",
      "-------------+----------------------------------------------------------------\n",
      "          v1 |  -.1486887   .0064033   -23.22   0.000    -.1612389   -.1361385\n",
      "          v2 |  -.0124049   .0020993    -5.91   0.000    -.0165193   -.0082904\n",
      "          v3 |   .0229632   .0022404    10.25   0.000      .018572    .0273544\n",
      "          v4 |  -.0010642   .0065404    -0.16   0.871    -.0138831    .0117548\n",
      "             |\n",
      "          v5 |\n",
      "          2  |  -.0734023   .0193114    -3.80   0.000    -.1112519   -.0355527\n",
      "          3  |  -.1369309   .0188946    -7.25   0.000    -.1739636   -.0998981\n",
      "          4  |  -.2486509   .0223576   -11.12   0.000     -.292471   -.2048307\n",
      "             |\n",
      "          v6 |  -.0076836   .0031951    -2.40   0.016    -.0139458   -.0014213\n",
      "          v7 |   .0331471   .0069952     4.74   0.000     .0194368    .0468573\n",
      "          v8 |   .0024649   .0046954     0.52   0.600     -.006738    .0116678\n",
      "------------------------------------------------------------------------------\n",
      "Note: dy/dx for factor levels is the discrete change from the base level.\n"
     ]
    }
   ],
   "source": [
    "margins, dydx(*) atmeans"
   ]
  },
  {
   "cell_type": "code",
   "execution_count": 5,
   "metadata": {},
   "outputs": [
    {
     "name": "stdout",
     "output_type": "stream",
     "text": [
      "\n",
      "    Variable |       VIF       1/VIF  \n",
      "-------------+----------------------\n",
      "          v1 |     16.64    0.060082\n",
      "          v2 |     75.22    0.013294\n",
      "          v3 |     15.52    0.064448\n",
      "          v4 |      4.89    0.204691\n",
      "          v5 |\n",
      "          2  |      3.06    0.326618\n",
      "          3  |      3.31    0.302159\n",
      "          4  |      1.69    0.591760\n",
      "          v6 |     47.26    0.021158\n",
      "          v7 |     17.08    0.058549\n",
      "          v8 |      9.86    0.101462\n",
      "-------------+----------------------\n",
      "    Mean VIF |     19.45\n"
     ]
    }
   ],
   "source": [
    "vif, uncentered"
   ]
  },
  {
   "cell_type": "code",
   "execution_count": 6,
   "metadata": {},
   "outputs": [
    {
     "name": "stdout",
     "output_type": "stream",
     "text": [
      "\n",
      "Iteration 0:   log likelihood =   -4002.53  \n",
      "Iteration 1:   log likelihood =  -3480.896  \n",
      "Iteration 2:   log likelihood = -3471.4785  \n",
      "Iteration 3:   log likelihood = -3471.4714  \n",
      "Iteration 4:   log likelihood = -3471.4714  \n",
      "\n",
      "Logistic regression                             Number of obs     =      6,366\n",
      "                                                LR chi2(8)        =    1062.12\n",
      "                                                Prob > chi2       =     0.0000\n",
      "Log likelihood = -3471.4714                     Pseudo R2         =     0.1327\n",
      "\n",
      "------------------------------------------------------------------------------\n",
      "           A |      Coef.   Std. Err.      z    P>|z|     [95% Conf. Interval]\n",
      "-------------+----------------------------------------------------------------\n",
      "          v1 |  -.7161071   .0314306   -22.78   0.000      -.77771   -.6545042\n",
      "          v2 |  -.0604877    .010278    -5.89   0.000    -.0806322   -.0403432\n",
      "          v3 |   .1100179   .0109429    10.05   0.000     .0885702    .1314657\n",
      "          v4 |  -.0042332    .031614    -0.13   0.893    -.0661955     .057729\n",
      "          v5 |  -.3751577   .0347633   -10.79   0.000    -.4432926   -.3070227\n",
      "          v6 |  -.0392192   .0154804    -2.53   0.011    -.0695602   -.0088782\n",
      "          v7 |   .1602338   .0339709     4.72   0.000     .0936521    .2268155\n",
      "          v8 |   .0124008   .0229255     0.54   0.589    -.0325324    .0573341\n",
      "       _cons |    3.72572   .2987634    12.47   0.000     3.140154    4.311285\n",
      "------------------------------------------------------------------------------\n"
     ]
    }
   ],
   "source": [
    "logit A v1 v2 v3 v4 v5 v6 v7 v8"
   ]
  },
  {
   "cell_type": "code",
   "execution_count": 7,
   "metadata": {},
   "outputs": [
    {
     "name": "stdout",
     "output_type": "stream",
     "text": [
      "\n",
      "Conditional marginal effects                    Number of obs     =      6,366\n",
      "Model VCE    : OIM\n",
      "\n",
      "Expression   : Pr(A), predict()\n",
      "dy/dx w.r.t. : v1 v2 v3 v4 v5 v6 v7 v8\n",
      "at           : v1              =    4.109645 (mean)\n",
      "               v2              =    29.08286 (mean)\n",
      "               v3              =    9.009425 (mean)\n",
      "               v4              =    1.396874 (mean)\n",
      "               v5              =     2.42617 (mean)\n",
      "               v6              =    14.20986 (mean)\n",
      "               v7              =    3.424128 (mean)\n",
      "               v8              =    3.850141 (mean)\n",
      "\n",
      "------------------------------------------------------------------------------\n",
      "             |            Delta-method\n",
      "             |      dy/dx   Std. Err.      z    P>|z|     [95% Conf. Interval]\n",
      "-------------+----------------------------------------------------------------\n",
      "          v1 |  -.1494827   .0065536   -22.81   0.000    -.1623274   -.1366379\n",
      "          v2 |  -.0126264   .0021409    -5.90   0.000    -.0168225   -.0084303\n",
      "          v3 |   .0229655   .0022748    10.10   0.000      .018507     .027424\n",
      "          v4 |  -.0008837   .0065993    -0.13   0.893    -.0138181    .0120508\n",
      "          v5 |  -.0783117   .0072032   -10.87   0.000    -.0924297   -.0641937\n",
      "          v6 |  -.0081868     .00323    -2.53   0.011    -.0145174   -.0018561\n",
      "          v7 |   .0334478   .0070845     4.72   0.000     .0195625     .047333\n",
      "          v8 |   .0025886   .0047854     0.54   0.589    -.0067907    .0119679\n",
      "------------------------------------------------------------------------------\n"
     ]
    }
   ],
   "source": [
    "margins, dydx(*) atmeans"
   ]
  },
  {
   "cell_type": "code",
   "execution_count": 8,
   "metadata": {},
   "outputs": [
    {
     "name": "stdout",
     "output_type": "stream",
     "text": [
      "\n",
      "    Variable |       VIF       1/VIF  \n",
      "-------------+----------------------\n",
      "          v2 |     74.51    0.013421\n",
      "          v6 |     47.62    0.020999\n",
      "          v7 |     17.08    0.058550\n",
      "          v1 |     16.87    0.059289\n",
      "          v3 |     15.37    0.065044\n",
      "          v8 |      9.85    0.101538\n",
      "          v5 |      8.68    0.115246\n",
      "          v4 |      4.89    0.204491\n",
      "-------------+----------------------\n",
      "    Mean VIF |     24.36\n"
     ]
    }
   ],
   "source": [
    "vif, uncentered"
   ]
  },
  {
   "cell_type": "markdown",
   "metadata": {},
   "source": [
    "b) Continuing the analysis from part a), we now consider the self—reported rating, W. This is a natural\n",
    "candidate for an ordered choice model, because the simple five-item coding is a censored version of\n",
    "what would be a continuous scale on some subjective satisfaction variable. \n",
    "- Analyze this variable using an ordered probit model. \n",
    "- What variables appear to explain the response to this survey question? \n",
    "- Can you obtain the marginal effects for your model? Report them as well. \n",
    "- What do they suggest about the impact of the different independent variables on the reported ratings?"
   ]
  },
  {
   "cell_type": "code",
   "execution_count": 9,
   "metadata": {},
   "outputs": [
    {
     "name": "stdout",
     "output_type": "stream",
     "text": [
      "\n",
      "Iteration 0:   log likelihood = -7926.4872  \n",
      "Iteration 1:   log likelihood = -7820.1782  \n",
      "Iteration 2:   log likelihood = -7820.1602  \n",
      "Iteration 3:   log likelihood = -7820.1602  \n",
      "\n",
      "Ordered probit regression                       Number of obs     =      6,366\n",
      "                                                LR chi2(7)        =     212.65\n",
      "                                                Prob > chi2       =     0.0000\n",
      "Log likelihood = -7820.1602                     Pseudo R2         =     0.0134\n",
      "\n",
      "------------------------------------------------------------------------------\n",
      "          v1 |      Coef.   Std. Err.      z    P>|z|     [95% Conf. Interval]\n",
      "-------------+----------------------------------------------------------------\n",
      "          v2 |  -.0051292   .0047036    -1.09   0.275    -.0143481    .0040896\n",
      "          v3 |  -.0078737    .005051    -1.56   0.119    -.0177735    .0020262\n",
      "          v4 |  -.0569631    .015174    -3.75   0.000    -.0867037   -.0272226\n",
      "          v5 |   .1309812   .0160991     8.14   0.000     .0994276    .1625348\n",
      "          v6 |   .0275244   .0072503     3.80   0.000     .0133142    .0417347\n",
      "          v7 |   .0138844   .0161007     0.86   0.388    -.0176724    .0454412\n",
      "          v8 |   .0280724   .0106927     2.63   0.009     .0071151    .0490297\n",
      "-------------+----------------------------------------------------------------\n",
      "       /cut1 |  -1.639317   .1315933                     -1.897235   -1.381398\n",
      "       /cut2 |   -.940552   .1273708                     -1.190194   -.6909099\n",
      "       /cut3 |  -.2011641   .1264895                      -.449079    .0467507\n",
      "       /cut4 |   .7674965   .1267434                      .5190839    1.015909\n",
      "------------------------------------------------------------------------------\n"
     ]
    }
   ],
   "source": [
    "oprobit v1 v2 v3 v4 v5 v6 v7 v8"
   ]
  },
  {
   "cell_type": "code",
   "execution_count": 10,
   "metadata": {},
   "outputs": [
    {
     "name": "stdout",
     "output_type": "stream",
     "text": [
      "\n",
      "Conditional marginal effects                    Number of obs     =      6,366\n",
      "Model VCE    : OIM\n",
      "\n",
      "dy/dx w.r.t. : v2 v3 v4 v5 v6 v7 v8\n",
      "1._predict   : Pr(v1==1), predict(pr outcome(1))\n",
      "2._predict   : Pr(v1==2), predict(pr outcome(2))\n",
      "3._predict   : Pr(v1==3), predict(pr outcome(3))\n",
      "4._predict   : Pr(v1==4), predict(pr outcome(4))\n",
      "5._predict   : Pr(v1==5), predict(pr outcome(5))\n",
      "at           : v2              =    29.08286 (mean)\n",
      "               v3              =    9.009425 (mean)\n",
      "               v4              =    1.396874 (mean)\n",
      "               v5              =     2.42617 (mean)\n",
      "               v6              =    14.20986 (mean)\n",
      "               v7              =    3.424128 (mean)\n",
      "               v8              =    3.850141 (mean)\n",
      "\n",
      "------------------------------------------------------------------------------\n",
      "             |            Delta-method\n",
      "             |      dy/dx   Std. Err.      z    P>|z|     [95% Conf. Interval]\n",
      "-------------+----------------------------------------------------------------\n",
      "v2           |\n",
      "    _predict |\n",
      "          1  |   .0001803   .0001659     1.09   0.277    -.0001448    .0005054\n",
      "          2  |   .0004787   .0004396     1.09   0.276    -.0003829    .0013402\n",
      "          3  |    .000867   .0007955     1.09   0.276    -.0006922    .0024262\n",
      "          4  |   .0004787   .0004396     1.09   0.276     -.000383    .0013404\n",
      "          5  |  -.0020047   .0018383    -1.09   0.275    -.0056077    .0015984\n",
      "-------------+----------------------------------------------------------------\n",
      "v3           |\n",
      "    _predict |\n",
      "          1  |   .0002768   .0001791     1.55   0.122    -.0000743    .0006278\n",
      "          2  |   .0007348   .0004723     1.56   0.120    -.0001909    .0016605\n",
      "          3  |   .0013309   .0008546     1.56   0.119    -.0003441    .0030059\n",
      "          4  |   .0007348   .0004731     1.55   0.120    -.0001925    .0016622\n",
      "          5  |  -.0030773   .0019741    -1.56   0.119    -.0069465    .0007919\n",
      "-------------+----------------------------------------------------------------\n",
      "v4           |\n",
      "    _predict |\n",
      "          1  |   .0020023   .0005588     3.58   0.000     .0009071    .0030975\n",
      "          2  |   .0053158   .0014345     3.71   0.000     .0025043    .0081274\n",
      "          3  |   .0096287   .0025798     3.73   0.000     .0045724     .014685\n",
      "          4  |   .0053163   .0014449     3.68   0.000     .0024843    .0081483\n",
      "          5  |  -.0222631   .0059307    -3.75   0.000     -.033887   -.0106393\n",
      "-------------+----------------------------------------------------------------\n",
      "v5           |\n",
      "    _predict |\n",
      "          1  |  -.0046041   .0006865    -6.71   0.000    -.0059496   -.0032586\n",
      "          2  |  -.0122232   .0015892    -7.69   0.000    -.0153379   -.0091085\n",
      "          3  |  -.0221402   .0027906    -7.93   0.000    -.0276096   -.0166709\n",
      "          4  |  -.0122244   .0016447    -7.43   0.000    -.0154479   -.0090008\n",
      "          5  |   .0511919   .0062935     8.13   0.000     .0388569    .0635269\n",
      "-------------+----------------------------------------------------------------\n",
      "v6           |\n",
      "    _predict |\n",
      "          1  |  -.0009675   .0002678    -3.61   0.000    -.0014924   -.0004426\n",
      "          2  |  -.0025686   .0006853    -3.75   0.000    -.0039117   -.0012255\n",
      "          3  |  -.0046526   .0012322    -3.78   0.000    -.0070676   -.0022376\n",
      "          4  |  -.0025688   .0006912    -3.72   0.000    -.0039236    -.001214\n",
      "          5  |   .0107575   .0028339     3.80   0.000     .0052032    .0163117\n",
      "-------------+----------------------------------------------------------------\n",
      "v7           |\n",
      "    _predict |\n",
      "          1  |   -.000488   .0005671    -0.86   0.389    -.0015995    .0006234\n",
      "          2  |  -.0012957   .0015039    -0.86   0.389    -.0042432    .0016518\n",
      "          3  |  -.0023469   .0027227    -0.86   0.389    -.0076833    .0029895\n",
      "          4  |  -.0012958    .001504    -0.86   0.389    -.0042436     .001652\n",
      "          5  |   .0054265   .0062927     0.86   0.388     -.006907    .0177599\n",
      "-------------+----------------------------------------------------------------\n",
      "v8           |\n",
      "    _predict |\n",
      "          1  |  -.0009868   .0003849    -2.56   0.010    -.0017411   -.0002325\n",
      "          2  |  -.0026197    .001004    -2.61   0.009    -.0045875    -.000652\n",
      "          3  |  -.0047452   .0018125    -2.62   0.009    -.0082977   -.0011927\n",
      "          4  |    -.00262    .001008    -2.60   0.009    -.0045956   -.0006443\n",
      "          5  |   .0109717   .0041791     2.63   0.009     .0027807    .0191626\n",
      "------------------------------------------------------------------------------\n"
     ]
    }
   ],
   "source": [
    "margins, dydx(*) atmeans"
   ]
  },
  {
   "cell_type": "code",
   "execution_count": null,
   "metadata": {},
   "outputs": [],
   "source": []
  }
 ],
 "metadata": {
  "kernelspec": {
   "display_name": "Stata",
   "language": "stata",
   "name": "stata"
  },
  "language_info": {
   "codemirror_mode": "stata",
   "file_extension": ".do",
   "mimetype": "text/x-stata",
   "name": "stata",
   "version": "15.1"
  }
 },
 "nbformat": 4,
 "nbformat_minor": 2
}
