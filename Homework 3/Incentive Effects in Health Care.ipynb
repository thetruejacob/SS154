{
 "cells": [
  {
   "cell_type": "markdown",
   "metadata": {},
   "source": [
    "# Incentive Effects in the Demand for Health Care: A Bivariate Panel Count Data Estimation\n",
    "According to the original paper by Riphahn (2000), http://qed.econ.queensu.ca/jae/2003-v18.4/riphahn-wambach-million/\n",
    "\n",
    "Description of variables:\n",
    "- id:     person - identification number\n",
    "- female:     female = 1; male = 0\n",
    "- year :     calendar year of the observation\n",
    "- age :     age in years\n",
    "- hsat :      health satisfaction, coded 0 (low) - 10 (high)\n",
    "- handdum :      handicapped = 1; otherwise = 0\n",
    "- handper :      degree of handicap in percent (0 - 100)\n",
    "- hhninc :      household nominal monthly net income in German marks / 1000\n",
    "- hhkids :     children under age 16 in the household = 1; otherwise = 0\n",
    "- educ :     years of schooling\n",
    "- married :     married = 1; otherwise = 0\n",
    "- haupts:     highest schooling degree is Hauptschul degree = 1; otherwise = 0\n",
    "- reals:      highest schooling degree is Realschul degree = 1; otherwise = 0\n",
    "- fachhs:     highest schooling degree is Polytechnical degree = 1; otherwise = 0\n",
    "- abitur:     highest schooling degree is Abitur = 1; otherwise = 0\n",
    "- univ:   highest schooling degree is university degree = 1; otherwise = 0\n",
    "- working:     employed = 1; otherwise = 0\n",
    "- bluec:     blue collar employee = 1; otherwise = 0\n",
    "- whitec:     white collar employee = 1; otherwise = 0\n",
    "- self:     self employed = 1; otherwise = 0\n",
    "- beamt:     civil servant = 1; otherwise = 0\n",
    "- docvis:     number of doctor visits in last three months\n",
    "- hospvis:     number of hospital visits in last calendar year\n",
    "- public:     insured in public health insurance = 1; otherwise = 0\n",
    "- addon:     insured by add-on insurance = 1; otherswise = 0\n",
    "### Importing and cleaning data"
   ]
  },
  {
   "cell_type": "code",
   "execution_count": 66,
   "metadata": {},
   "outputs": [
    {
     "name": "stdout",
     "output_type": "stream",
     "text": [
      "\n",
      "\n",
      "(25 vars, 27,326 obs)\n",
      "\n",
      "(3,666 real changes made)\n",
      "\n",
      "(14,243 real changes made)\n",
      "\n",
      "(14,243 real changes made)\n",
      "\n",
      "\n",
      "    Variable |        Obs        Mean    Std. Dev.       Min        Max\n",
      "-------------+---------------------------------------------------------\n",
      "          id |     27,326    3517.443    2014.628          1       7293\n",
      "      female |     27,326    .4787748    .4995584          0          1\n",
      "        year |     27,326    1987.823    3.170868       1984       1994\n",
      "         age |     27,326    43.52569    11.33025         25         64\n",
      "        hsat |     27,326    6.785426    2.293715          0         10\n",
      "-------------+---------------------------------------------------------\n",
      "     handdum |     27,326    .1097191    .3123918          0          1\n",
      "     handper |     27,326    7.012285    19.26463          0        100\n",
      "      hhninc |     27,326    3520.836    1769.083          0      30671\n",
      "      hhkids |     27,326    .4934495    .4999662          0          1\n",
      "        educ |     27,326    11.32063    2.324885          7         18\n",
      "-------------+---------------------------------------------------------\n",
      "     married |     27,326    .4822147    .4996927          0          1\n",
      "      haupts |     27,326    .6242772    .4843178          0          1\n",
      "       reals |     27,326    .1968089    .3975939          0          1\n",
      "      fachhs |     27,326    .0408402    .1979236          0          1\n",
      "      abitur |     27,326    .1170314    .3214636          0          1\n",
      "-------------+---------------------------------------------------------\n",
      "        univ |     27,326    .0719461    .2584034          0          1\n",
      "     working |     27,326    .6770475    .4676133          0          1\n",
      "       bluec |     27,326    .2437605    .4293577          0          1\n",
      "      whitec |     27,326    .2996048    .4580933          0          1\n",
      "        self |     27,326    .0621752    .2414779          0          1\n",
      "-------------+---------------------------------------------------------\n",
      "       beamt |     27,326    .0746908    .2628965          0          1\n",
      "      docvis |     27,326    3.183525     5.68969          0        121\n",
      "     hospvis |     27,326    .1382566     .884339          0         51\n",
      "      public |     27,326    .8857132    .3181651          0          1\n",
      "       addon |     27,326    .0188099    .1358558          0          1\n"
     ]
    }
   ],
   "source": [
    "clear\n",
    "import delimited id female year age hsat handdum handper hhninc hhkids educ married haupts reals fachhs abitur univ working bluec whitec self beamt docvis hospvis public addon using rmw.csv, colrange(2:)\n",
    "\n",
    "replace handdum = (handdum != 1) if year == 1987\n",
    "replace married = (married != 1) if female == 0\n",
    "replace hhkids = (hhkids != 1) if female == 0\n",
    "\n",
    "summarize"
   ]
  },
  {
   "cell_type": "code",
   "execution_count": 69,
   "metadata": {},
   "outputs": [
    {
     "name": "stdout",
     "output_type": "stream",
     "text": [
      "\n",
      "\n",
      "    Variable |        Obs        Mean    Std. Dev.       Min        Max\n",
      "-------------+---------------------------------------------------------\n",
      "     handdum |      3,666     .111293    .3145375          0          1\n",
      "\n",
      "(18 observations deleted)\n"
     ]
    }
   ],
   "source": [
    "summ handdum if year == 1987\n",
    "drop if handdum != 1 & handdum != 0"
   ]
  },
  {
   "cell_type": "markdown",
   "metadata": {},
   "source": [
    "a) Begin by fitting a Poisson model to this variable. The exogenous variables are listed in Table F7.1.\n",
    "Determine an appropriate specification for the right-hand side of your model. Report the regression\n",
    "results and the marginal effects.\n",
    "\n",
    "\n",
    "\n"
   ]
  },
  {
   "cell_type": "code",
   "execution_count": 83,
   "metadata": {},
   "outputs": [
    {
     "name": "stdout",
     "output_type": "stream",
     "text": [
      "\n",
      "Poisson regression                              Number of obs     =     27,308\n",
      "                                                LR chi2(7)        =    2123.85\n",
      "                                                Prob > chi2       =     0.0000\n",
      "Log likelihood = -12362.865                     Pseudo R2         =     0.0791\n",
      "\n",
      "------------------------------------------------------------------------------\n",
      "     hospvis |      Coef.   Std. Err.      z    P>|z|     [95% Conf. Interval]\n",
      "-------------+----------------------------------------------------------------\n",
      "         age |  -.0071362   .0015424    -4.63   0.000    -.0101592   -.0041132\n",
      "        hsat |   -.186052   .0069948   -26.60   0.000    -.1997616   -.1723424\n",
      "        educ |   -.045944   .0084623    -5.43   0.000    -.0625299   -.0293582\n",
      "      docvis |   .0306762   .0011552    26.55   0.000      .028412    .0329404\n",
      "   1.handdum |   .2691112   .0439668     6.12   0.000     .1829378    .3552846\n",
      "     1.addon |   .3218622   .1077161     2.99   0.003     .1107425    .5329819\n",
      "     1.bluec |  -.1103086   .0405875    -2.72   0.007    -.1898586   -.0307585\n",
      "       _cons |  -.1971156   .1345566    -1.46   0.143    -.4608416    .0666105\n",
      "------------------------------------------------------------------------------\n"
     ]
    }
   ],
   "source": [
    "poisson hospvis age hsat educ docvis i.handdum i.addon i.bluec, nolog\n",
    "\n",
    "// poisson hospvis age female handdum hsat hhninc educ public"
   ]
  },
  {
   "cell_type": "code",
   "execution_count": 85,
   "metadata": {},
   "outputs": [
    {
     "name": "stdout",
     "output_type": "stream",
     "text": [
      "\n",
      "Average marginal effects                        Number of obs     =     27,308\n",
      "Model VCE    : OIM\n",
      "\n",
      "Expression   : Predicted number of events, predict()\n",
      "dy/dx w.r.t. : age hsat educ docvis 1.handdum 1.addon 1.bluec\n",
      "\n",
      "------------------------------------------------------------------------------\n",
      "             |            Delta-method\n",
      "             |      dy/dx   Std. Err.      z    P>|z|     [95% Conf. Interval]\n",
      "-------------+----------------------------------------------------------------\n",
      "         age |  -.0009865   .0002138    -4.61   0.000    -.0014056   -.0005674\n",
      "        hsat |  -.0257194   .0010537   -24.41   0.000    -.0277846   -.0236543\n",
      "        educ |  -.0063512   .0011744    -5.41   0.000    -.0086529   -.0040495\n",
      "      docvis |   .0042406    .000174    24.38   0.000     .0038996    .0045816\n",
      "   1.handdum |   .0403667   .0071613     5.64   0.000     .0263309    .0544026\n",
      "     1.addon |   .0521476   .0202966     2.57   0.010      .012367    .0919282\n",
      "     1.bluec |  -.0148143   .0052965    -2.80   0.005    -.0251954   -.0044333\n",
      "------------------------------------------------------------------------------\n",
      "Note: dy/dx for factor levels is the discrete change from the base level.\n"
     ]
    }
   ],
   "source": [
    "margins, dydx(*)"
   ]
  },
  {
   "cell_type": "code",
   "execution_count": 7,
   "metadata": {},
   "outputs": [
    {
     "name": "stdout",
     "output_type": "stream",
     "text": [
      "\n",
      "         Deviance goodness-of-fit =  19984.01\n",
      "         Prob > chi2(27318)       =    1.0000\n",
      "\n",
      "         Pearson goodness-of-fit  =  125039.2\n",
      "         Prob > chi2(27318)       =    0.0000\n"
     ]
    }
   ],
   "source": [
    "estat gof"
   ]
  },
  {
   "cell_type": "markdown",
   "metadata": {},
   "source": [
    "b) Estimate the model using ordinary least squares and compare your least squares results to the\n",
    "marginal effects computed in part a). What do you find?\n"
   ]
  },
  {
   "cell_type": "code",
   "execution_count": 31,
   "metadata": {},
   "outputs": [
    {
     "name": "stdout",
     "output_type": "stream",
     "text": [
      "(18 observations deleted)\n"
     ]
    }
   ],
   "source": [
    "drop if handdum != 1 & handdum != 0"
   ]
  },
  {
   "cell_type": "markdown",
   "metadata": {},
   "source": [
    "Description of variables:\n",
    "- id:     person - identification number\n",
    "- female:     female = 1; male = 0\n",
    "- year :     calendar year of the observation\n",
    "- age :     age in years\n",
    "- hsat :      health satisfaction, coded 0 (low) - 10 (high)\n",
    "- handdum :      handicapped = 1; otherwise = 0\n",
    "- handper :      degree of handicap in percent (0 - 100)\n",
    "- hhninc :      household nominal monthly net income in German marks / 1000\n",
    "- hhkids :     children under age 16 in the household = 1; otherwise = 0\n",
    "- educ :     years of schooling\n",
    "- married :     married = 1; otherwise = 0\n",
    "- haupts:     highest schooling degree is Hauptschul degree = 1; otherwise = 0\n",
    "- reals:      highest schooling degree is Realschul degree = 1; otherwise = 0\n",
    "- fachhs:     highest schooling degree is Polytechnical degree = 1; otherwise = 0\n",
    "- abitur:     highest schooling degree is Abitur = 1; otherwise = 0\n",
    "- univ:   highest schooling degree is university degree = 1; otherwise = 0\n",
    "- working:     employed = 1; otherwise = 0\n",
    "- bluec:     blue collar employee = 1; otherwise = 0\n",
    "- whitec:     white collar employee = 1; otherwise = 0\n",
    "- self:     sel|f employed = 1; otherwise = 0\n",
    "- beamt:     civil servant = 1; otherwise = 0\n",
    "- docvis:     number of doctor visits in last three months\n",
    "- hospvis:     number of hospital visits in last calendar year\n",
    "- public:     insured in public health insurance = 1; otherwise = 0\n",
    "- addon:     insured by add-on insurance = 1; otherswise = 0"
   ]
  },
  {
   "cell_type": "code",
   "execution_count": 86,
   "metadata": {},
   "outputs": [
    {
     "name": "stdout",
     "output_type": "stream",
     "text": [
      "\n",
      "      Source |       SS           df       MS      Number of obs   =    27,308\n",
      "-------------+----------------------------------   F(7, 27300)     =     91.40\n",
      "       Model |  489.306593         7  69.9009419   Prob > F        =    0.0000\n",
      "    Residual |  20877.8454    27,300  .764756242   R-squared       =    0.0229\n",
      "-------------+----------------------------------   Adj R-squared   =    0.0226\n",
      "       Total |   21367.152    27,307  .782478925   Root MSE        =     .8745\n",
      "\n",
      "------------------------------------------------------------------------------\n",
      "     hospvis |      Coef.   Std. Err.      t    P>|t|     [95% Conf. Interval]\n",
      "-------------+----------------------------------------------------------------\n",
      "         age |  -.0015269   .0005016    -3.04   0.002    -.0025101   -.0005436\n",
      "        hsat |  -.0240788   .0026008    -9.26   0.000    -.0291765   -.0189811\n",
      "        educ |  -.0049511   .0024185    -2.05   0.041    -.0096916   -.0002106\n",
      "      docvis |   .0170985   .0010107    16.92   0.000     .0151175    .0190795\n",
      "   1.handdum |   .0580785   .0183262     3.17   0.002     .0221582    .0939988\n",
      "     1.addon |   .0443904   .0390841     1.14   0.256    -.0322164    .1209971\n",
      "     1.bluec |  -.0159247   .0128963    -1.23   0.217    -.0412021    .0093527\n",
      "       _cons |   .3663938   .0439651     8.33   0.000       .28022    .4525676\n",
      "------------------------------------------------------------------------------\n"
     ]
    }
   ],
   "source": [
    "regress hospvis age hsat educ docvis i.handdum i.addon i.bluec"
   ]
  },
  {
   "cell_type": "markdown",
   "metadata": {},
   "source": [
    "C) Is there evidence of overdispersion in the data? Test for overdispersion."
   ]
  },
  {
   "cell_type": "code",
   "execution_count": 22,
   "metadata": {},
   "outputs": [
    {
     "name": "stdout",
     "output_type": "stream",
     "text": [
      "\n",
      "(bin=44, start=0, width=1.1590909)\n"
     ]
    },
    {
     "data": {
      "application/pdf": "[encoded data removed]",
      "image/svg+xml": [
       "<?xml version=\"1.0\" encoding=\"UTF-8\" standalone=\"no\"?>\n",
       "<!-- This is a Stata 16.0 generated SVG file (http://www.stata.com) -->\n",
       "\n",
       "<svg version=\"1.1\" width=\"600px\" height=\"436px\" viewBox=\"0 0 3960 2880\" xmlns=\"http://www.w3.org/2000/svg\" xmlns:xlink=\"http://www.w3.org/1999/xlink\">\n",
       "\t<desc>Stata Graph - Graph</desc>\n",
       "\t<rect x=\"0\" y=\"0\" width=\"3960\" height=\"2880\" style=\"fill:#EAF2F3;stroke:none\"/>\n",
       "\t<rect x=\"0.00\" y=\"0.00\" width=\"3959.88\" height=\"2880.00\" style=\"fill:#EAF2F3\"/>\n",
       "\t<rect x=\"2.88\" y=\"2.88\" width=\"3954.12\" height=\"2874.24\" style=\"fill:none;stroke:#EAF2F3;stroke-width:5.76\"/>\n",
       "\t<rect x=\"390.80\" y=\"100.86\" width=\"3468.22\" height=\"2388.33\" style=\"fill:#FFFFFF\"/>\n",
       "\t<rect x=\"393.68\" y=\"103.74\" width=\"3462.46\" height=\"2382.57\" style=\"fill:none;stroke:#FFFFFF;stroke-width:5.76\"/>\n",
       "\t<line x1=\"390.80\" y1=\"2489.19\" x2=\"3859.02\" y2=\"2489.19\" style=\"stroke:#EAF2F3;stroke-width:8.64\"/>\n",
       "\t<line x1=\"390.80\" y1=\"1940.46\" x2=\"3859.02\" y2=\"1940.46\" style=\"stroke:#EAF2F3;stroke-width:8.64\"/>\n",
       "\t<line x1=\"390.80\" y1=\"1391.74\" x2=\"3859.02\" y2=\"1391.74\" style=\"stroke:#EAF2F3;stroke-width:8.64\"/>\n",
       "\t<line x1=\"390.80\" y1=\"843.14\" x2=\"3859.02\" y2=\"843.14\" style=\"stroke:#EAF2F3;stroke-width:8.64\"/>\n",
       "\t<line x1=\"390.80\" y1=\"294.41\" x2=\"3859.02\" y2=\"294.41\" style=\"stroke:#EAF2F3;stroke-width:8.64\"/>\n",
       "\t<rect x=\"491.66\" y=\"164.22\" width=\"75.12\" height=\"2324.96\" style=\"fill:#CAC27E\"/>\n",
       "\t<rect x=\"495.98\" y=\"168.54\" width=\"66.48\" height=\"2316.32\" style=\"fill:none;stroke:#D7D29E;stroke-width:8.64\"/>\n",
       "\t<rect x=\"566.77\" y=\"2461.22\" width=\"75.12\" height=\"27.97\" style=\"fill:#CAC27E\"/>\n",
       "\t<rect x=\"571.09\" y=\"2465.54\" width=\"66.48\" height=\"19.33\" style=\"fill:none;stroke:#D7D29E;stroke-width:8.64\"/>\n",
       "\t<rect x=\"641.89\" y=\"2484.36\" width=\"75.12\" height=\"4.83\" style=\"fill:#CAC27E\"/>\n",
       "\t<rect x=\"646.21\" y=\"2488.68\" width=\"66.48\" height=\"-3.81\" style=\"fill:none;stroke:#D7D29E;stroke-width:8.64\"/>\n",
       "\t<rect x=\"717.01\" y=\"2487.08\" width=\"74.99\" height=\"2.10\" style=\"fill:#CAC27E\"/>\n",
       "\t<rect x=\"721.33\" y=\"2491.40\" width=\"66.35\" height=\"-6.54\" style=\"fill:none;stroke:#D7D29E;stroke-width:8.64\"/>\n",
       "\t<rect x=\"792.00\" y=\"2487.95\" width=\"75.12\" height=\"1.24\" style=\"fill:#CAC27E\"/>\n",
       "\t<rect x=\"796.32\" y=\"2492.27\" width=\"66.48\" height=\"-7.40\" style=\"fill:none;stroke:#D7D29E;stroke-width:8.64\"/>\n",
       "\t<rect x=\"867.12\" y=\"2488.20\" width=\"75.12\" height=\"0.99\" style=\"fill:#CAC27E\"/>\n",
       "\t<rect x=\"871.44\" y=\"2492.52\" width=\"66.48\" height=\"-7.65\" style=\"fill:none;stroke:#D7D29E;stroke-width:8.64\"/>\n",
       "\t<rect x=\"942.23\" y=\"2488.44\" width=\"75.12\" height=\"0.74\" style=\"fill:#CAC27E\"/>\n",
       "\t<rect x=\"946.55\" y=\"2492.76\" width=\"66.48\" height=\"-7.90\" style=\"fill:none;stroke:#D7D29E;stroke-width:8.64\"/>\n",
       "\t<rect x=\"1017.35\" y=\"2488.94\" width=\"75.12\" height=\"0.25\" style=\"fill:#CAC27E\"/>\n",
       "\t<rect x=\"1021.67\" y=\"2493.26\" width=\"66.48\" height=\"-8.39\" style=\"fill:none;stroke:#D7D29E;stroke-width:8.64\"/>\n",
       "\t<rect x=\"1092.46\" y=\"2488.20\" width=\"74.99\" height=\"0.99\" style=\"fill:#CAC27E\"/>\n",
       "\t<rect x=\"1096.78\" y=\"2492.52\" width=\"66.35\" height=\"-7.65\" style=\"fill:none;stroke:#D7D29E;stroke-width:8.64\"/>\n",
       "\t<rect x=\"1167.46\" y=\"2489.06\" width=\"75.12\" height=\"0.12\" style=\"fill:#CAC27E\"/>\n",
       "\t<rect x=\"1171.78\" y=\"2493.38\" width=\"66.48\" height=\"-8.52\" style=\"fill:none;stroke:#D7D29E;stroke-width:8.64\"/>\n",
       "\t<rect x=\"1242.57\" y=\"2488.94\" width=\"75.12\" height=\"0.25\" style=\"fill:#CAC27E\"/>\n",
       "\t<rect x=\"1246.89\" y=\"2493.26\" width=\"66.48\" height=\"-8.39\" style=\"fill:none;stroke:#D7D29E;stroke-width:8.64\"/>\n",
       "\t<rect x=\"1317.69\" y=\"2488.94\" width=\"75.12\" height=\"0.25\" style=\"fill:#CAC27E\"/>\n",
       "\t<rect x=\"1322.01\" y=\"2493.26\" width=\"66.48\" height=\"-8.39\" style=\"fill:none;stroke:#D7D29E;stroke-width:8.64\"/>\n",
       "\t<rect x=\"1392.81\" y=\"2488.20\" width=\"75.12\" height=\"0.99\" style=\"fill:#CAC27E\"/>\n",
       "\t<rect x=\"1397.13\" y=\"2492.52\" width=\"66.48\" height=\"-7.65\" style=\"fill:none;stroke:#D7D29E;stroke-width:8.64\"/>\n",
       "\t<rect x=\"1467.92\" y=\"2489.06\" width=\"74.99\" height=\"0.12\" style=\"fill:#CAC27E\"/>\n",
       "\t<rect x=\"1472.24\" y=\"2493.38\" width=\"66.35\" height=\"-8.52\" style=\"fill:none;stroke:#D7D29E;stroke-width:8.64\"/>\n",
       "\t<rect x=\"1542.91\" y=\"2489.06\" width=\"75.12\" height=\"0.12\" style=\"fill:#CAC27E\"/>\n",
       "\t<rect x=\"1547.23\" y=\"2493.38\" width=\"66.48\" height=\"-8.52\" style=\"fill:none;stroke:#D7D29E;stroke-width:8.64\"/>\n",
       "\t<rect x=\"1768.26\" y=\"2489.06\" width=\"75.12\" height=\"0.12\" style=\"fill:#CAC27E\"/>\n",
       "\t<rect x=\"1772.58\" y=\"2493.38\" width=\"66.48\" height=\"-8.52\" style=\"fill:none;stroke:#D7D29E;stroke-width:8.64\"/>\n",
       "\t<rect x=\"1843.38\" y=\"2489.06\" width=\"74.99\" height=\"0.12\" style=\"fill:#CAC27E\"/>\n",
       "\t<rect x=\"1847.70\" y=\"2493.38\" width=\"66.35\" height=\"-8.52\" style=\"fill:none;stroke:#D7D29E;stroke-width:8.64\"/>\n",
       "\t<rect x=\"1993.49\" y=\"2489.06\" width=\"75.12\" height=\"0.12\" style=\"fill:#CAC27E\"/>\n",
       "\t<rect x=\"1997.81\" y=\"2493.38\" width=\"66.48\" height=\"-8.52\" style=\"fill:none;stroke:#D7D29E;stroke-width:8.64\"/>\n",
       "\t<rect x=\"2218.84\" y=\"2489.06\" width=\"74.99\" height=\"0.12\" style=\"fill:#CAC27E\"/>\n",
       "\t<rect x=\"2223.16\" y=\"2493.38\" width=\"66.35\" height=\"-8.52\" style=\"fill:none;stroke:#D7D29E;stroke-width:8.64\"/>\n",
       "\t<rect x=\"2293.83\" y=\"2489.06\" width=\"75.12\" height=\"0.12\" style=\"fill:#CAC27E\"/>\n",
       "\t<rect x=\"2298.15\" y=\"2493.38\" width=\"66.48\" height=\"-8.52\" style=\"fill:none;stroke:#D7D29E;stroke-width:8.64\"/>\n",
       "\t<rect x=\"2368.95\" y=\"2489.06\" width=\"75.12\" height=\"0.12\" style=\"fill:#CAC27E\"/>\n",
       "\t<rect x=\"2373.27\" y=\"2493.38\" width=\"66.48\" height=\"-8.52\" style=\"fill:none;stroke:#D7D29E;stroke-width:8.64\"/>\n",
       "\t<rect x=\"2744.40\" y=\"2489.06\" width=\"75.12\" height=\"0.12\" style=\"fill:#CAC27E\"/>\n",
       "\t<rect x=\"2748.72\" y=\"2493.38\" width=\"66.48\" height=\"-8.52\" style=\"fill:none;stroke:#D7D29E;stroke-width:8.64\"/>\n",
       "\t<rect x=\"3570.43\" y=\"2489.06\" width=\"75.12\" height=\"0.12\" style=\"fill:#CAC27E\"/>\n",
       "\t<rect x=\"3574.75\" y=\"2493.38\" width=\"66.48\" height=\"-8.52\" style=\"fill:none;stroke:#D7D29E;stroke-width:8.64\"/>\n",
       "\t<rect x=\"3720.67\" y=\"2489.06\" width=\"74.99\" height=\"0.12\" style=\"fill:#CAC27E\"/>\n",
       "\t<rect x=\"3724.99\" y=\"2493.38\" width=\"66.35\" height=\"-8.52\" style=\"fill:none;stroke:#D7D29E;stroke-width:8.64\"/>\n",
       "\t<line x1=\"390.80\" y1=\"2489.19\" x2=\"390.80\" y2=\"100.86\" style=\"stroke:#000000;stroke-width:5.76\"/>\n",
       "\t<line x1=\"390.80\" y1=\"2489.19\" x2=\"350.83\" y2=\"2489.19\" style=\"stroke:#000000;stroke-width:5.76\"/>\n",
       "\t<text x=\"300.72\" y=\"2489.19\" style=\"font-family:'Helvetica';font-size:99.99px;fill:#000000\" transform=\"rotate(-90 300.72,2489.19)\" text-anchor=\"middle\">0</text>\n",
       "\t<line x1=\"390.80\" y1=\"1940.46\" x2=\"350.83\" y2=\"1940.46\" style=\"stroke:#000000;stroke-width:5.76\"/>\n",
       "\t<text x=\"300.72\" y=\"1940.46\" style=\"font-family:'Helvetica';font-size:99.99px;fill:#000000\" transform=\"rotate(-90 300.72,1940.46)\" text-anchor=\"middle\">.2</text>\n",
       "\t<line x1=\"390.80\" y1=\"1391.74\" x2=\"350.83\" y2=\"1391.74\" style=\"stroke:#000000;stroke-width:5.76\"/>\n",
       "\t<text x=\"300.72\" y=\"1391.74\" style=\"font-family:'Helvetica';font-size:99.99px;fill:#000000\" transform=\"rotate(-90 300.72,1391.74)\" text-anchor=\"middle\">.4</text>\n",
       "\t<line x1=\"390.80\" y1=\"843.14\" x2=\"350.83\" y2=\"843.14\" style=\"stroke:#000000;stroke-width:5.76\"/>\n",
       "\t<text x=\"300.72\" y=\"843.14\" style=\"font-family:'Helvetica';font-size:99.99px;fill:#000000\" transform=\"rotate(-90 300.72,843.14)\" text-anchor=\"middle\">.6</text>\n",
       "\t<line x1=\"390.80\" y1=\"294.41\" x2=\"350.83\" y2=\"294.41\" style=\"stroke:#000000;stroke-width:5.76\"/>\n",
       "\t<text x=\"300.72\" y=\"294.41\" style=\"font-family:'Helvetica';font-size:99.99px;fill:#000000\" transform=\"rotate(-90 300.72,294.41)\" text-anchor=\"middle\">.8</text>\n",
       "\t<text x=\"190.71\" y=\"1294.96\" style=\"font-family:'Helvetica';font-size:99.99px;fill:#000000\" transform=\"rotate(-90 190.71,1294.96)\" text-anchor=\"middle\">Density</text>\n",
       "\t<line x1=\"390.80\" y1=\"2489.19\" x2=\"3859.02\" y2=\"2489.19\" style=\"stroke:#000000;stroke-width:5.76\"/>\n",
       "\t<line x1=\"491.66\" y1=\"2489.19\" x2=\"491.66\" y2=\"2529.16\" style=\"stroke:#000000;stroke-width:5.76\"/>\n",
       "\t<text x=\"491.66\" y=\"2619.14\" style=\"font-family:'Helvetica';font-size:99.99px;fill:#000000\" text-anchor=\"middle\">0</text>\n",
       "\t<line x1=\"1139.49\" y1=\"2489.19\" x2=\"1139.49\" y2=\"2529.16\" style=\"stroke:#000000;stroke-width:5.76\"/>\n",
       "\t<text x=\"1139.49\" y=\"2619.14\" style=\"font-family:'Helvetica';font-size:99.99px;fill:#000000\" text-anchor=\"middle\">10</text>\n",
       "\t<line x1=\"1787.44\" y1=\"2489.19\" x2=\"1787.44\" y2=\"2529.16\" style=\"stroke:#000000;stroke-width:5.76\"/>\n",
       "\t<text x=\"1787.44\" y=\"2619.14\" style=\"font-family:'Helvetica';font-size:99.99px;fill:#000000\" text-anchor=\"middle\">20</text>\n",
       "\t<line x1=\"2435.28\" y1=\"2489.19\" x2=\"2435.28\" y2=\"2529.16\" style=\"stroke:#000000;stroke-width:5.76\"/>\n",
       "\t<text x=\"2435.28\" y=\"2619.14\" style=\"font-family:'Helvetica';font-size:99.99px;fill:#000000\" text-anchor=\"middle\">30</text>\n",
       "\t<line x1=\"3083.11\" y1=\"2489.19\" x2=\"3083.11\" y2=\"2529.16\" style=\"stroke:#000000;stroke-width:5.76\"/>\n",
       "\t<text x=\"3083.11\" y=\"2619.14\" style=\"font-family:'Helvetica';font-size:99.99px;fill:#000000\" text-anchor=\"middle\">40</text>\n",
       "\t<line x1=\"3730.94\" y1=\"2489.19\" x2=\"3730.94\" y2=\"2529.16\" style=\"stroke:#000000;stroke-width:5.76\"/>\n",
       "\t<text x=\"3730.94\" y=\"2619.14\" style=\"font-family:'Helvetica';font-size:99.99px;fill:#000000\" text-anchor=\"middle\">50</text>\n",
       "\t<text x=\"2124.91\" y=\"2729.16\" style=\"font-family:'Helvetica';font-size:99.99px;fill:#000000\" text-anchor=\"middle\">V23</text>\n",
       "</svg>\n"
      ],
      "text/html": [
       "                <iframe frameborder=\"0\" scrolling=\"no\" height=\"436\" width=\"600\"                srcdoc=\"<html><body>&lt;?xml version=&quot;1.0&quot; encoding=&quot;UTF-8&quot; standalone=&quot;no&quot;?&gt;\n",
       "&lt;!-- This is a Stata 16.0 generated SVG file (http://www.stata.com) --&gt;\n",
       "\n",
       "&lt;svg version=&quot;1.1&quot; width=&quot;600px&quot; height=&quot;436px&quot; viewBox=&quot;0 0 3960 2880&quot; xmlns=&quot;http://www.w3.org/2000/svg&quot; xmlns:xlink=&quot;http://www.w3.org/1999/xlink&quot;&gt;\n",
       "\t&lt;desc&gt;Stata Graph - Graph&lt;/desc&gt;\n",
       "\t&lt;rect x=&quot;0&quot; y=&quot;0&quot; width=&quot;3960&quot; height=&quot;2880&quot; style=&quot;fill:#EAF2F3;stroke:none&quot;/&gt;\n",
       "\t&lt;rect x=&quot;0.00&quot; y=&quot;0.00&quot; width=&quot;3959.88&quot; height=&quot;2880.00&quot; style=&quot;fill:#EAF2F3&quot;/&gt;\n",
       "\t&lt;rect x=&quot;2.88&quot; y=&quot;2.88&quot; width=&quot;3954.12&quot; height=&quot;2874.24&quot; style=&quot;fill:none;stroke:#EAF2F3;stroke-width:5.76&quot;/&gt;\n",
       "\t&lt;rect x=&quot;390.80&quot; y=&quot;100.86&quot; width=&quot;3468.22&quot; height=&quot;2388.33&quot; style=&quot;fill:#FFFFFF&quot;/&gt;\n",
       "\t&lt;rect x=&quot;393.68&quot; y=&quot;103.74&quot; width=&quot;3462.46&quot; height=&quot;2382.57&quot; style=&quot;fill:none;stroke:#FFFFFF;stroke-width:5.76&quot;/&gt;\n",
       "\t&lt;line x1=&quot;390.80&quot; y1=&quot;2489.19&quot; x2=&quot;3859.02&quot; y2=&quot;2489.19&quot; style=&quot;stroke:#EAF2F3;stroke-width:8.64&quot;/&gt;\n",
       "\t&lt;line x1=&quot;390.80&quot; y1=&quot;1940.46&quot; x2=&quot;3859.02&quot; y2=&quot;1940.46&quot; style=&quot;stroke:#EAF2F3;stroke-width:8.64&quot;/&gt;\n",
       "\t&lt;line x1=&quot;390.80&quot; y1=&quot;1391.74&quot; x2=&quot;3859.02&quot; y2=&quot;1391.74&quot; style=&quot;stroke:#EAF2F3;stroke-width:8.64&quot;/&gt;\n",
       "\t&lt;line x1=&quot;390.80&quot; y1=&quot;843.14&quot; x2=&quot;3859.02&quot; y2=&quot;843.14&quot; style=&quot;stroke:#EAF2F3;stroke-width:8.64&quot;/&gt;\n",
       "\t&lt;line x1=&quot;390.80&quot; y1=&quot;294.41&quot; x2=&quot;3859.02&quot; y2=&quot;294.41&quot; style=&quot;stroke:#EAF2F3;stroke-width:8.64&quot;/&gt;\n",
       "\t&lt;rect x=&quot;491.66&quot; y=&quot;164.22&quot; width=&quot;75.12&quot; height=&quot;2324.96&quot; style=&quot;fill:#CAC27E&quot;/&gt;\n",
       "\t&lt;rect x=&quot;495.98&quot; y=&quot;168.54&quot; width=&quot;66.48&quot; height=&quot;2316.32&quot; style=&quot;fill:none;stroke:#D7D29E;stroke-width:8.64&quot;/&gt;\n",
       "\t&lt;rect x=&quot;566.77&quot; y=&quot;2461.22&quot; width=&quot;75.12&quot; height=&quot;27.97&quot; style=&quot;fill:#CAC27E&quot;/&gt;\n",
       "\t&lt;rect x=&quot;571.09&quot; y=&quot;2465.54&quot; width=&quot;66.48&quot; height=&quot;19.33&quot; style=&quot;fill:none;stroke:#D7D29E;stroke-width:8.64&quot;/&gt;\n",
       "\t&lt;rect x=&quot;641.89&quot; y=&quot;2484.36&quot; width=&quot;75.12&quot; height=&quot;4.83&quot; style=&quot;fill:#CAC27E&quot;/&gt;\n",
       "\t&lt;rect x=&quot;646.21&quot; y=&quot;2488.68&quot; width=&quot;66.48&quot; height=&quot;-3.81&quot; style=&quot;fill:none;stroke:#D7D29E;stroke-width:8.64&quot;/&gt;\n",
       "\t&lt;rect x=&quot;717.01&quot; y=&quot;2487.08&quot; width=&quot;74.99&quot; height=&quot;2.10&quot; style=&quot;fill:#CAC27E&quot;/&gt;\n",
       "\t&lt;rect x=&quot;721.33&quot; y=&quot;2491.40&quot; width=&quot;66.35&quot; height=&quot;-6.54&quot; style=&quot;fill:none;stroke:#D7D29E;stroke-width:8.64&quot;/&gt;\n",
       "\t&lt;rect x=&quot;792.00&quot; y=&quot;2487.95&quot; width=&quot;75.12&quot; height=&quot;1.24&quot; style=&quot;fill:#CAC27E&quot;/&gt;\n",
       "\t&lt;rect x=&quot;796.32&quot; y=&quot;2492.27&quot; width=&quot;66.48&quot; height=&quot;-7.40&quot; style=&quot;fill:none;stroke:#D7D29E;stroke-width:8.64&quot;/&gt;\n",
       "\t&lt;rect x=&quot;867.12&quot; y=&quot;2488.20&quot; width=&quot;75.12&quot; height=&quot;0.99&quot; style=&quot;fill:#CAC27E&quot;/&gt;\n",
       "\t&lt;rect x=&quot;871.44&quot; y=&quot;2492.52&quot; width=&quot;66.48&quot; height=&quot;-7.65&quot; style=&quot;fill:none;stroke:#D7D29E;stroke-width:8.64&quot;/&gt;\n",
       "\t&lt;rect x=&quot;942.23&quot; y=&quot;2488.44&quot; width=&quot;75.12&quot; height=&quot;0.74&quot; style=&quot;fill:#CAC27E&quot;/&gt;\n",
       "\t&lt;rect x=&quot;946.55&quot; y=&quot;2492.76&quot; width=&quot;66.48&quot; height=&quot;-7.90&quot; style=&quot;fill:none;stroke:#D7D29E;stroke-width:8.64&quot;/&gt;\n",
       "\t&lt;rect x=&quot;1017.35&quot; y=&quot;2488.94&quot; width=&quot;75.12&quot; height=&quot;0.25&quot; style=&quot;fill:#CAC27E&quot;/&gt;\n",
       "\t&lt;rect x=&quot;1021.67&quot; y=&quot;2493.26&quot; width=&quot;66.48&quot; height=&quot;-8.39&quot; style=&quot;fill:none;stroke:#D7D29E;stroke-width:8.64&quot;/&gt;\n",
       "\t&lt;rect x=&quot;1092.46&quot; y=&quot;2488.20&quot; width=&quot;74.99&quot; height=&quot;0.99&quot; style=&quot;fill:#CAC27E&quot;/&gt;\n",
       "\t&lt;rect x=&quot;1096.78&quot; y=&quot;2492.52&quot; width=&quot;66.35&quot; height=&quot;-7.65&quot; style=&quot;fill:none;stroke:#D7D29E;stroke-width:8.64&quot;/&gt;\n",
       "\t&lt;rect x=&quot;1167.46&quot; y=&quot;2489.06&quot; width=&quot;75.12&quot; height=&quot;0.12&quot; style=&quot;fill:#CAC27E&quot;/&gt;\n",
       "\t&lt;rect x=&quot;1171.78&quot; y=&quot;2493.38&quot; width=&quot;66.48&quot; height=&quot;-8.52&quot; style=&quot;fill:none;stroke:#D7D29E;stroke-width:8.64&quot;/&gt;\n",
       "\t&lt;rect x=&quot;1242.57&quot; y=&quot;2488.94&quot; width=&quot;75.12&quot; height=&quot;0.25&quot; style=&quot;fill:#CAC27E&quot;/&gt;\n",
       "\t&lt;rect x=&quot;1246.89&quot; y=&quot;2493.26&quot; width=&quot;66.48&quot; height=&quot;-8.39&quot; style=&quot;fill:none;stroke:#D7D29E;stroke-width:8.64&quot;/&gt;\n",
       "\t&lt;rect x=&quot;1317.69&quot; y=&quot;2488.94&quot; width=&quot;75.12&quot; height=&quot;0.25&quot; style=&quot;fill:#CAC27E&quot;/&gt;\n",
       "\t&lt;rect x=&quot;1322.01&quot; y=&quot;2493.26&quot; width=&quot;66.48&quot; height=&quot;-8.39&quot; style=&quot;fill:none;stroke:#D7D29E;stroke-width:8.64&quot;/&gt;\n",
       "\t&lt;rect x=&quot;1392.81&quot; y=&quot;2488.20&quot; width=&quot;75.12&quot; height=&quot;0.99&quot; style=&quot;fill:#CAC27E&quot;/&gt;\n",
       "\t&lt;rect x=&quot;1397.13&quot; y=&quot;2492.52&quot; width=&quot;66.48&quot; height=&quot;-7.65&quot; style=&quot;fill:none;stroke:#D7D29E;stroke-width:8.64&quot;/&gt;\n",
       "\t&lt;rect x=&quot;1467.92&quot; y=&quot;2489.06&quot; width=&quot;74.99&quot; height=&quot;0.12&quot; style=&quot;fill:#CAC27E&quot;/&gt;\n",
       "\t&lt;rect x=&quot;1472.24&quot; y=&quot;2493.38&quot; width=&quot;66.35&quot; height=&quot;-8.52&quot; style=&quot;fill:none;stroke:#D7D29E;stroke-width:8.64&quot;/&gt;\n",
       "\t&lt;rect x=&quot;1542.91&quot; y=&quot;2489.06&quot; width=&quot;75.12&quot; height=&quot;0.12&quot; style=&quot;fill:#CAC27E&quot;/&gt;\n",
       "\t&lt;rect x=&quot;1547.23&quot; y=&quot;2493.38&quot; width=&quot;66.48&quot; height=&quot;-8.52&quot; style=&quot;fill:none;stroke:#D7D29E;stroke-width:8.64&quot;/&gt;\n",
       "\t&lt;rect x=&quot;1768.26&quot; y=&quot;2489.06&quot; width=&quot;75.12&quot; height=&quot;0.12&quot; style=&quot;fill:#CAC27E&quot;/&gt;\n",
       "\t&lt;rect x=&quot;1772.58&quot; y=&quot;2493.38&quot; width=&quot;66.48&quot; height=&quot;-8.52&quot; style=&quot;fill:none;stroke:#D7D29E;stroke-width:8.64&quot;/&gt;\n",
       "\t&lt;rect x=&quot;1843.38&quot; y=&quot;2489.06&quot; width=&quot;74.99&quot; height=&quot;0.12&quot; style=&quot;fill:#CAC27E&quot;/&gt;\n",
       "\t&lt;rect x=&quot;1847.70&quot; y=&quot;2493.38&quot; width=&quot;66.35&quot; height=&quot;-8.52&quot; style=&quot;fill:none;stroke:#D7D29E;stroke-width:8.64&quot;/&gt;\n",
       "\t&lt;rect x=&quot;1993.49&quot; y=&quot;2489.06&quot; width=&quot;75.12&quot; height=&quot;0.12&quot; style=&quot;fill:#CAC27E&quot;/&gt;\n",
       "\t&lt;rect x=&quot;1997.81&quot; y=&quot;2493.38&quot; width=&quot;66.48&quot; height=&quot;-8.52&quot; style=&quot;fill:none;stroke:#D7D29E;stroke-width:8.64&quot;/&gt;\n",
       "\t&lt;rect x=&quot;2218.84&quot; y=&quot;2489.06&quot; width=&quot;74.99&quot; height=&quot;0.12&quot; style=&quot;fill:#CAC27E&quot;/&gt;\n",
       "\t&lt;rect x=&quot;2223.16&quot; y=&quot;2493.38&quot; width=&quot;66.35&quot; height=&quot;-8.52&quot; style=&quot;fill:none;stroke:#D7D29E;stroke-width:8.64&quot;/&gt;\n",
       "\t&lt;rect x=&quot;2293.83&quot; y=&quot;2489.06&quot; width=&quot;75.12&quot; height=&quot;0.12&quot; style=&quot;fill:#CAC27E&quot;/&gt;\n",
       "\t&lt;rect x=&quot;2298.15&quot; y=&quot;2493.38&quot; width=&quot;66.48&quot; height=&quot;-8.52&quot; style=&quot;fill:none;stroke:#D7D29E;stroke-width:8.64&quot;/&gt;\n",
       "\t&lt;rect x=&quot;2368.95&quot; y=&quot;2489.06&quot; width=&quot;75.12&quot; height=&quot;0.12&quot; style=&quot;fill:#CAC27E&quot;/&gt;\n",
       "\t&lt;rect x=&quot;2373.27&quot; y=&quot;2493.38&quot; width=&quot;66.48&quot; height=&quot;-8.52&quot; style=&quot;fill:none;stroke:#D7D29E;stroke-width:8.64&quot;/&gt;\n",
       "\t&lt;rect x=&quot;2744.40&quot; y=&quot;2489.06&quot; width=&quot;75.12&quot; height=&quot;0.12&quot; style=&quot;fill:#CAC27E&quot;/&gt;\n",
       "\t&lt;rect x=&quot;2748.72&quot; y=&quot;2493.38&quot; width=&quot;66.48&quot; height=&quot;-8.52&quot; style=&quot;fill:none;stroke:#D7D29E;stroke-width:8.64&quot;/&gt;\n",
       "\t&lt;rect x=&quot;3570.43&quot; y=&quot;2489.06&quot; width=&quot;75.12&quot; height=&quot;0.12&quot; style=&quot;fill:#CAC27E&quot;/&gt;\n",
       "\t&lt;rect x=&quot;3574.75&quot; y=&quot;2493.38&quot; width=&quot;66.48&quot; height=&quot;-8.52&quot; style=&quot;fill:none;stroke:#D7D29E;stroke-width:8.64&quot;/&gt;\n",
       "\t&lt;rect x=&quot;3720.67&quot; y=&quot;2489.06&quot; width=&quot;74.99&quot; height=&quot;0.12&quot; style=&quot;fill:#CAC27E&quot;/&gt;\n",
       "\t&lt;rect x=&quot;3724.99&quot; y=&quot;2493.38&quot; width=&quot;66.35&quot; height=&quot;-8.52&quot; style=&quot;fill:none;stroke:#D7D29E;stroke-width:8.64&quot;/&gt;\n",
       "\t&lt;line x1=&quot;390.80&quot; y1=&quot;2489.19&quot; x2=&quot;390.80&quot; y2=&quot;100.86&quot; style=&quot;stroke:#000000;stroke-width:5.76&quot;/&gt;\n",
       "\t&lt;line x1=&quot;390.80&quot; y1=&quot;2489.19&quot; x2=&quot;350.83&quot; y2=&quot;2489.19&quot; style=&quot;stroke:#000000;stroke-width:5.76&quot;/&gt;\n",
       "\t&lt;text x=&quot;300.72&quot; y=&quot;2489.19&quot; style=&quot;font-family:&#x27;Helvetica&#x27;;font-size:99.99px;fill:#000000&quot; transform=&quot;rotate(-90 300.72,2489.19)&quot; text-anchor=&quot;middle&quot;&gt;0&lt;/text&gt;\n",
       "\t&lt;line x1=&quot;390.80&quot; y1=&quot;1940.46&quot; x2=&quot;350.83&quot; y2=&quot;1940.46&quot; style=&quot;stroke:#000000;stroke-width:5.76&quot;/&gt;\n",
       "\t&lt;text x=&quot;300.72&quot; y=&quot;1940.46&quot; style=&quot;font-family:&#x27;Helvetica&#x27;;font-size:99.99px;fill:#000000&quot; transform=&quot;rotate(-90 300.72,1940.46)&quot; text-anchor=&quot;middle&quot;&gt;.2&lt;/text&gt;\n",
       "\t&lt;line x1=&quot;390.80&quot; y1=&quot;1391.74&quot; x2=&quot;350.83&quot; y2=&quot;1391.74&quot; style=&quot;stroke:#000000;stroke-width:5.76&quot;/&gt;\n",
       "\t&lt;text x=&quot;300.72&quot; y=&quot;1391.74&quot; style=&quot;font-family:&#x27;Helvetica&#x27;;font-size:99.99px;fill:#000000&quot; transform=&quot;rotate(-90 300.72,1391.74)&quot; text-anchor=&quot;middle&quot;&gt;.4&lt;/text&gt;\n",
       "\t&lt;line x1=&quot;390.80&quot; y1=&quot;843.14&quot; x2=&quot;350.83&quot; y2=&quot;843.14&quot; style=&quot;stroke:#000000;stroke-width:5.76&quot;/&gt;\n",
       "\t&lt;text x=&quot;300.72&quot; y=&quot;843.14&quot; style=&quot;font-family:&#x27;Helvetica&#x27;;font-size:99.99px;fill:#000000&quot; transform=&quot;rotate(-90 300.72,843.14)&quot; text-anchor=&quot;middle&quot;&gt;.6&lt;/text&gt;\n",
       "\t&lt;line x1=&quot;390.80&quot; y1=&quot;294.41&quot; x2=&quot;350.83&quot; y2=&quot;294.41&quot; style=&quot;stroke:#000000;stroke-width:5.76&quot;/&gt;\n",
       "\t&lt;text x=&quot;300.72&quot; y=&quot;294.41&quot; style=&quot;font-family:&#x27;Helvetica&#x27;;font-size:99.99px;fill:#000000&quot; transform=&quot;rotate(-90 300.72,294.41)&quot; text-anchor=&quot;middle&quot;&gt;.8&lt;/text&gt;\n",
       "\t&lt;text x=&quot;190.71&quot; y=&quot;1294.96&quot; style=&quot;font-family:&#x27;Helvetica&#x27;;font-size:99.99px;fill:#000000&quot; transform=&quot;rotate(-90 190.71,1294.96)&quot; text-anchor=&quot;middle&quot;&gt;Density&lt;/text&gt;\n",
       "\t&lt;line x1=&quot;390.80&quot; y1=&quot;2489.19&quot; x2=&quot;3859.02&quot; y2=&quot;2489.19&quot; style=&quot;stroke:#000000;stroke-width:5.76&quot;/&gt;\n",
       "\t&lt;line x1=&quot;491.66&quot; y1=&quot;2489.19&quot; x2=&quot;491.66&quot; y2=&quot;2529.16&quot; style=&quot;stroke:#000000;stroke-width:5.76&quot;/&gt;\n",
       "\t&lt;text x=&quot;491.66&quot; y=&quot;2619.14&quot; style=&quot;font-family:&#x27;Helvetica&#x27;;font-size:99.99px;fill:#000000&quot; text-anchor=&quot;middle&quot;&gt;0&lt;/text&gt;\n",
       "\t&lt;line x1=&quot;1139.49&quot; y1=&quot;2489.19&quot; x2=&quot;1139.49&quot; y2=&quot;2529.16&quot; style=&quot;stroke:#000000;stroke-width:5.76&quot;/&gt;\n",
       "\t&lt;text x=&quot;1139.49&quot; y=&quot;2619.14&quot; style=&quot;font-family:&#x27;Helvetica&#x27;;font-size:99.99px;fill:#000000&quot; text-anchor=&quot;middle&quot;&gt;10&lt;/text&gt;\n",
       "\t&lt;line x1=&quot;1787.44&quot; y1=&quot;2489.19&quot; x2=&quot;1787.44&quot; y2=&quot;2529.16&quot; style=&quot;stroke:#000000;stroke-width:5.76&quot;/&gt;\n",
       "\t&lt;text x=&quot;1787.44&quot; y=&quot;2619.14&quot; style=&quot;font-family:&#x27;Helvetica&#x27;;font-size:99.99px;fill:#000000&quot; text-anchor=&quot;middle&quot;&gt;20&lt;/text&gt;\n",
       "\t&lt;line x1=&quot;2435.28&quot; y1=&quot;2489.19&quot; x2=&quot;2435.28&quot; y2=&quot;2529.16&quot; style=&quot;stroke:#000000;stroke-width:5.76&quot;/&gt;\n",
       "\t&lt;text x=&quot;2435.28&quot; y=&quot;2619.14&quot; style=&quot;font-family:&#x27;Helvetica&#x27;;font-size:99.99px;fill:#000000&quot; text-anchor=&quot;middle&quot;&gt;30&lt;/text&gt;\n",
       "\t&lt;line x1=&quot;3083.11&quot; y1=&quot;2489.19&quot; x2=&quot;3083.11&quot; y2=&quot;2529.16&quot; style=&quot;stroke:#000000;stroke-width:5.76&quot;/&gt;\n",
       "\t&lt;text x=&quot;3083.11&quot; y=&quot;2619.14&quot; style=&quot;font-family:&#x27;Helvetica&#x27;;font-size:99.99px;fill:#000000&quot; text-anchor=&quot;middle&quot;&gt;40&lt;/text&gt;\n",
       "\t&lt;line x1=&quot;3730.94&quot; y1=&quot;2489.19&quot; x2=&quot;3730.94&quot; y2=&quot;2529.16&quot; style=&quot;stroke:#000000;stroke-width:5.76&quot;/&gt;\n",
       "\t&lt;text x=&quot;3730.94&quot; y=&quot;2619.14&quot; style=&quot;font-family:&#x27;Helvetica&#x27;;font-size:99.99px;fill:#000000&quot; text-anchor=&quot;middle&quot;&gt;50&lt;/text&gt;\n",
       "\t&lt;text x=&quot;2124.91&quot; y=&quot;2729.16&quot; style=&quot;font-family:&#x27;Helvetica&#x27;;font-size:99.99px;fill:#000000&quot; text-anchor=&quot;middle&quot;&gt;V23&lt;/text&gt;\n",
       "&lt;/svg&gt;\n",
       "</body></html>\"></iframe>\n"
      ],
      "text/plain": [
       "This front-end cannot display the desired image type."
      ]
     },
     "metadata": {
      "image/svg+xml": {
       "height": 436,
       "width": 600
      },
      "text/html": {
       "height": 436,
       "width": 600
      }
     },
     "output_type": "display_data"
    },
    {
     "name": "stdout",
     "output_type": "stream",
     "text": [
      "\n",
      "\n",
      "\n",
      "\n",
      "                             V23\n",
      "-------------------------------------------------------------\n",
      "      Percentiles      Smallest\n",
      " 1%            0              0\n",
      " 5%            0              0\n",
      "10%            0              0       Obs              27,326\n",
      "25%            0              0       Sum of Wgt.      27,326\n",
      "\n",
      "50%            0                      Mean           .1382566\n",
      "                        Largest       Std. Dev.       .884339\n",
      "75%            0             35\n",
      "90%            0             35       Variance       .7820555\n",
      "95%            1             48       Skewness       26.67069\n",
      "99%            2             51       Kurtosis       1101.923\n"
     ]
    }
   ],
   "source": [
    "hist hospvis\n",
    "summ hospvis, detail"
   ]
  },
  {
   "cell_type": "code",
   "execution_count": 55,
   "metadata": {},
   "outputs": [
    {
     "name": "stdout",
     "output_type": "stream",
     "text": [
      "\n",
      "\n",
      "\n",
      "         Deviance goodness-of-fit =   19500.7\n",
      "         Prob > chi2(27302)       =    1.0000\n",
      "\n",
      "         Pearson goodness-of-fit  =  121018.2\n",
      "         Prob > chi2(27302)       =    0.0000\n"
     ]
    }
   ],
   "source": [
    "qui poisson hospvis age hsat i.handdum educ docvis, nolog\n",
    "poisgof"
   ]
  },
  {
   "cell_type": "code",
   "execution_count": 57,
   "metadata": {},
   "outputs": [
    {
     "name": "stdout",
     "output_type": "stream",
     "text": [
      "\n",
      "Negative binomial regression                    Number of obs     =     27,308\n",
      "                                                LR chi2(5)        =     961.88\n",
      "Dispersion     = mean                           Prob > chi2       =     0.0000\n",
      "Log likelihood = -9885.2851                     Pseudo R2         =     0.0464\n",
      "\n",
      "------------------------------------------------------------------------------\n",
      "     hospvis |      Coef.   Std. Err.      z    P>|z|     [95% Conf. Interval]\n",
      "-------------+----------------------------------------------------------------\n",
      "         age |  -.0071199   .0022033    -3.23   0.001    -.0114383   -.0028016\n",
      "        hsat |  -.1509606   .0106409   -14.19   0.000    -.1718164   -.1301048\n",
      "   1.handdum |   .3276369    .070773     4.63   0.000     .1889243    .4663496\n",
      "        educ |  -.0394204   .0109483    -3.60   0.000    -.0608786   -.0179622\n",
      "      docvis |   .0622447   .0043985    14.15   0.000     .0536237    .0708656\n",
      "       _cons |  -.6688978   .1835466    -3.64   0.000    -1.028642   -.3091531\n",
      "-------------+----------------------------------------------------------------\n",
      "    /lnalpha |   1.790026   .0410631                      1.709544    1.870509\n",
      "-------------+----------------------------------------------------------------\n",
      "       alpha |   5.989611   .2459519                      5.526442    6.491597\n",
      "------------------------------------------------------------------------------\n",
      "LR test of alpha=0: chibar2(01) = 4971.25              Prob >= chibar2 = 0.000\n"
     ]
    }
   ],
   "source": [
    "nbreg hospvis age hsat i.handdum educ docvis, nolog"
   ]
  },
  {
   "cell_type": "code",
   "execution_count": null,
   "metadata": {},
   "outputs": [],
   "source": []
  }
 ],
 "metadata": {
  "kernelspec": {
   "display_name": "Stata",
   "language": "stata",
   "name": "stata"
  },
  "language_info": {
   "codemirror_mode": "stata",
   "file_extension": ".do",
   "mimetype": "text/x-stata",
   "name": "stata",
   "version": "15.1"
  }
 },
 "nbformat": 4,
 "nbformat_minor": 2
}
