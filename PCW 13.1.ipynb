{
 "cells": [
  {
   "cell_type": "code",
   "execution_count": 1,
   "metadata": {},
   "outputs": [],
   "source": [
    "prog drop _all\n",
    "\n",
    "*! Scott Cunningham use - scuse v1.0.1  BB29\n",
    "prog scuse\n",
    "\tversion 14.2\n",
    "\tsyntax anything [, CLEAR noDesc]\n",
    "\tif regexm(\"`anything'\", \".+.zip$\") {\n",
    "\t\tcapt copy \"https://storage.googleapis.com/causal-inference-mixtape.appspot.com/`anything'\" ., replace\n",
    "\t\tif _rc != 0 {\n",
    "\t\t\tdi as err _n \"Error: cannot copy `anything' to current working directory.\"\n",
    "\t\t\texit \n",
    "\t\t}\n",
    "\t\tqui unzipfile \"`anything'\", replace\n",
    "\t\tloc fn = reverse(substr(reverse(\"`anything'\"), 5, .))\n",
    "\t\tcapt use `fn', `clear'\n",
    "\t}\n",
    "\telse {\n",
    "\t\tcapt use \"https://storage.googleapis.com/causal-inference-mixtape.appspot.com/`anything'\", `clear'\n",
    "\t}\n",
    "\tif _rc != 0 {\n",
    " \t\tif _rc == 4 {\n",
    " \t\t\tdi as err _n \"Error: data in memory would be lost. Use  scuse `anything', clear  to discard changes.\"\n",
    " \t\t} \n",
    " \t\telse if _rc == 610 {\n",
    " \t\t\tdi as err _n \"Error: C datafile `anything' must be accessed from Stata 14.x.\" _n  \"It cannot be read by earlier Stata versions.\"\n",
    " \t\t}\n",
    " \t\telse {\n",
    "\t\tdi as err _n \"Error: C datafile `anything' does not exist. Contents of memory not altered.\"\n",
    "\t\t}\n",
    "\t\texit\n",
    "\t}\n",
    "\tif \"`desc'\" != \"nodesc\" { \n",
    "\t\tdescribe\n",
    "\t}\n",
    "end\n",
    "// 1.0.1: Cloned -bcuse.ado- and made it -scuse.ado-"
   ]
  },
  {
   "cell_type": "code",
   "execution_count": 2,
   "metadata": {},
   "outputs": [
    {
     "name": "stdout",
     "output_type": "stream",
     "text": [
      "\n",
      "Contains data from https://storage.googleapis.com/causal-inference-mixtape.appspot.com/card.dta\n",
      "  obs:         3,010                          \n",
      " vars:            37                          18 May 2018 18:18\n",
      "---------------------------------------------------------------------------------------------------------------------------------------------------------------------------------------------------------------------------------------------------------------\n",
      "              storage   display    value\n",
      "variable name   type    format     label      variable label\n",
      "---------------------------------------------------------------------------------------------------------------------------------------------------------------------------------------------------------------------------------------------------------------\n",
      "id              float   %9.0g                 \n",
      "nearc2          float   %9.0g                 \n",
      "nearc4          float   %9.0g                 \n",
      "educ            float   %9.0g                 \n",
      "age             float   %9.0g                 \n",
      "fatheduc        float   %9.0g                 \n",
      "motheduc        float   %9.0g                 \n",
      "weight          float   %9.0g                 \n",
      "momdad14        float   %9.0g                 \n",
      "sinmom14        float   %9.0g                 \n",
      "step14          float   %9.0g                 \n",
      "reg661          float   %9.0g                 \n",
      "reg662          float   %9.0g                 \n",
      "reg663          float   %9.0g                 \n",
      "reg664          float   %9.0g                 \n",
      "reg665          float   %9.0g                 \n",
      "reg666          float   %9.0g                 \n",
      "reg667          float   %9.0g                 \n",
      "reg668          float   %9.0g                 \n",
      "reg669          float   %9.0g                 \n",
      "south66         float   %9.0g                 \n",
      "black           float   %9.0g                 \n",
      "smsa            float   %9.0g                 \n",
      "south           float   %9.0g                 \n",
      "smsa66          float   %9.0g                 \n",
      "wage            float   %9.0g                 \n",
      "enroll          float   %9.0g                 \n",
      "KWW             float   %9.0g                 \n",
      "IQ              float   %9.0g                 \n",
      "married         float   %9.0g                 \n",
      "libcrd14        float   %9.0g                 \n",
      "exper           float   %9.0g                 \n",
      "lwage           float   %9.0g                 \n",
      "expersq         float   %9.0g                 \n",
      "u_lwage         float   %9.0g                 Residuals\n",
      "lwage_hat       float   %9.0g                 Fitted values\n",
      "u_educ          float   %9.0g                 Residuals\n",
      "---------------------------------------------------------------------------------------------------------------------------------------------------------------------------------------------------------------------------------------------------------------\n",
      "Sorted by: \n"
     ]
    }
   ],
   "source": [
    "scuse card"
   ]
  },
  {
   "cell_type": "code",
   "execution_count": null,
   "metadata": {},
   "outputs": [],
   "source": [
    "global y lwage\n",
    "global s "
   ]
  },
  {
   "cell_type": "code",
   "execution_count": 3,
   "metadata": {},
   "outputs": [
    {
     "name": "stdout",
     "output_type": "stream",
     "text": [
      "\n",
      "      Source |       SS           df       MS      Number of obs   =     3,003\n",
      "-------------+----------------------------------   F(6, 2996)      =    219.15\n",
      "       Model |  180.255137         6  30.0425229   Prob > F        =    0.0000\n",
      "    Residual |  410.705979     2,996  .137084773   R-squared       =    0.3050\n",
      "-------------+----------------------------------   Adj R-squared   =    0.3036\n",
      "       Total |  590.961117     3,002  .196855802   Root MSE        =    .37025\n",
      "\n",
      "------------------------------------------------------------------------------\n",
      "       lwage |      Coef.   Std. Err.      t    P>|t|     [95% Conf. Interval]\n",
      "-------------+----------------------------------------------------------------\n",
      "        educ |   .0711729   .0034824    20.44   0.000     .0643447     .078001\n",
      "       exper |   .0341518   .0022144    15.42   0.000     .0298098    .0384938\n",
      "       black |  -.1660274   .0176137    -9.43   0.000    -.2005636   -.1314913\n",
      "       south |  -.1315518   .0149691    -8.79   0.000    -.1609024   -.1022011\n",
      "     married |  -.0358707   .0034012   -10.55   0.000    -.0425396   -.0292019\n",
      "        smsa |   .1757871   .0154578    11.37   0.000     .1454782    .2060961\n",
      "       _cons |   5.063317   .0637402    79.44   0.000     4.938338    5.188296\n",
      "------------------------------------------------------------------------------\n"
     ]
    }
   ],
   "source": [
    "reg lwage educ exper black south married smsa"
   ]
  },
  {
   "cell_type": "code",
   "execution_count": 4,
   "metadata": {},
   "outputs": [
    {
     "name": "stdout",
     "output_type": "stream",
     "text": [
      "\n",
      "First-stage regressions\n",
      "-----------------------\n",
      "\n",
      "                                                Number of obs     =      3,003\n",
      "                                                F(   6,   2996)   =     456.14\n",
      "                                                Prob > F          =     0.0000\n",
      "                                                R-squared         =     0.4774\n",
      "                                                Adj R-squared     =     0.4764\n",
      "                                                Root MSE          =     1.9373\n",
      "\n",
      "------------------------------------------------------------------------------\n",
      "        educ |      Coef.   Std. Err.      t    P>|t|     [95% Conf. Interval]\n",
      "-------------+----------------------------------------------------------------\n",
      "       exper |   -.404434   .0089402   -45.24   0.000    -.4219636   -.3869044\n",
      "       black |  -.9475281   .0905256   -10.47   0.000    -1.125027   -.7700295\n",
      "       south |  -.2973528   .0790643    -3.76   0.000    -.4523787   -.1423269\n",
      "     married |  -.0726936   .0177473    -4.10   0.000    -.1074918   -.0378954\n",
      "        smsa |   .4208945    .084868     4.96   0.000     .2544891       .5873\n",
      "      nearc4 |   .3272826   .0824239     3.97   0.000     .1656695    .4888957\n",
      "       _cons |    16.8307   .1307475   128.73   0.000     16.57433    17.08706\n",
      "------------------------------------------------------------------------------\n",
      "\n",
      "\n",
      "Instrumental variables (2SLS) regression          Number of obs   =      3,003\n",
      "                                                  Wald chi2(6)    =     840.98\n",
      "                                                  Prob > chi2     =     0.0000\n",
      "                                                  R-squared       =     0.2513\n",
      "                                                  Root MSE        =     .38384\n",
      "\n",
      "------------------------------------------------------------------------------\n",
      "       lwage |      Coef.   Std. Err.      z    P>|z|     [95% Conf. Interval]\n",
      "-------------+----------------------------------------------------------------\n",
      "        educ |   .1241642   .0498975     2.49   0.013     .0263668    .2219616\n",
      "       exper |   .0555882   .0202624     2.74   0.006     .0158746    .0953019\n",
      "       black |  -.1156855   .0506823    -2.28   0.022    -.2150211     -.01635\n",
      "       south |  -.1131647   .0232168    -4.87   0.000    -.1586687   -.0676607\n",
      "     married |  -.0319754    .005081    -6.29   0.000    -.0419339   -.0220169\n",
      "        smsa |   .1477065   .0308591     4.79   0.000     .0872237    .2081893\n",
      "       _cons |   4.162476   .8485997     4.91   0.000     2.499251    5.825701\n",
      "------------------------------------------------------------------------------\n",
      "Instrumented:  educ\n",
      "Instruments:   exper black south married smsa nearc4\n"
     ]
    }
   ],
   "source": [
    "ivregress 2sls lwage (educ=nearc4) exper black south married smsa, first"
   ]
  },
  {
   "cell_type": "code",
   "execution_count": 5,
   "metadata": {},
   "outputs": [
    {
     "name": "stdout",
     "output_type": "stream",
     "text": [
      "\n",
      "      Source |       SS           df       MS      Number of obs   =     3,003\n",
      "-------------+----------------------------------   F(6, 2996)      =    456.14\n",
      "       Model |  10272.0963         6  1712.01605   Prob > F        =    0.0000\n",
      "    Residual |  11244.7835     2,996  3.75326552   R-squared       =    0.4774\n",
      "-------------+----------------------------------   Adj R-squared   =    0.4764\n",
      "       Total |  21516.8798     3,002  7.16751492   Root MSE        =    1.9373\n",
      "\n",
      "------------------------------------------------------------------------------\n",
      "        educ |      Coef.   Std. Err.      t    P>|t|     [95% Conf. Interval]\n",
      "-------------+----------------------------------------------------------------\n",
      "      nearc4 |   .3272826   .0824239     3.97   0.000     .1656695    .4888957\n",
      "       exper |   -.404434   .0089402   -45.24   0.000    -.4219636   -.3869044\n",
      "       black |  -.9475281   .0905256   -10.47   0.000    -1.125027   -.7700295\n",
      "       south |  -.2973528   .0790643    -3.76   0.000    -.4523787   -.1423269\n",
      "     married |  -.0726936   .0177473    -4.10   0.000    -.1074918   -.0378954\n",
      "        smsa |   .4208945    .084868     4.96   0.000     .2544891       .5873\n",
      "       _cons |    16.8307   .1307475   128.73   0.000     16.57433    17.08706\n",
      "------------------------------------------------------------------------------\n"
     ]
    }
   ],
   "source": [
    "reg educ nearc4 exper black south married smsa"
   ]
  },
  {
   "cell_type": "code",
   "execution_count": 6,
   "metadata": {},
   "outputs": [
    {
     "name": "stdout",
     "output_type": "stream",
     "text": [
      "\n",
      " ( 1)  nearc4 = 0\n",
      "\n",
      "       F(  1,  2996) =   15.77\n",
      "            Prob > F =    0.0001\n"
     ]
    }
   ],
   "source": [
    " test nearc4"
   ]
  },
  {
   "cell_type": "code",
   "execution_count": null,
   "metadata": {},
   "outputs": [],
   "source": []
  }
 ],
 "metadata": {
  "kernelspec": {
   "display_name": "Stata",
   "language": "stata",
   "name": "stata"
  },
  "language_info": {
   "codemirror_mode": "stata",
   "file_extension": ".do",
   "mimetype": "text/x-stata",
   "name": "stata",
   "version": "15.1"
  }
 },
 "nbformat": 4,
 "nbformat_minor": 2
}
