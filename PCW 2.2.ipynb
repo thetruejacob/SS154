{
 "cells": [
  {
   "cell_type": "markdown",
   "metadata": {},
   "source": [
    "## C.1\n",
    "Suppose $Y_1, Y_2, \\cdots, Y_N$ is a random sample from a population with mean $\\mu$ and variance $\\sigma^2$ variances. Rather than using all $N$ observations, consider an easy estimator of $\\mu$ that uses only the first two observations,\n",
    "$$ Y^* = \\frac{Y_1 + Y_2}{2}$$\n",
    "1. Show that $Y^*$ is a linear estimator.\n",
    "\n",
    " Clearly $Y^*$ is linear as $$Y^* = \\frac{1}{2}Y_1 + \\frac{1}{2}Y_2 + 0 *Y_3 + 0*Y_4 + \\cdots 0*Y_N$$ and none of the coefficients rely on $Y_i$.\n",
    "\n",
    "2. Show that $Y^*$ is an unbiased estimator.\n",
    "\n",
    " $$E[Y^*] = \\frac{1}{2}E[Y_1] + \\frac{1}{2} E[Y_2] = \\frac{\\mu}{2} + \\frac{\\mu}{2} = \\mu $$\n",
    "\n",
    "3. Find the variance of $Y^*$\n",
    "\n",
    "  $$\\text{Var}[Y^*] = \\text{Var}[\\frac{1}{2}Y_1 + \\frac{1}{2}Y_2] = \\frac{1}{4}\\text{Var}[Y_1] + \\frac{1}{4}\\text{Var}[Y_2] = \\frac{\\sigma^2}{4} + \\frac{\\sigma^2}{4} = \\frac{\\sigma^2}{2}$$\n",
    "  \n",
    "  \n",
    "4. Explain why the sample mean of all $N$ observations is a better estimator than $Y^*$\n",
    "\n",
    " Let $\\bar{Y}$ be the estimator that uses all $N$ observations. Then we see that $\\bar{Y}$ is a better estimator as it has smaller variance when $N > 2$, i.e. there are more than two samples.\n",
    " \n",
    " $$\\text{Var}[\\bar{Y}] =  \\text{Var}[\\frac{1}{N}Y_1 + \\frac{1}{N}Y_2 + \\cdots + \\frac{1}{N}Y_N] = \\frac{\\sigma^2}{N^2} + \\frac{\\sigma^2}{N^2} + \\cdots + \\frac{\\sigma^2}{N^2} = \\frac{\\sigma^2}{N} < \\frac{\\sigma^2}{2} \\iff N > 2$$\n",
    "\n",
    "\n",
    "## C.4\n",
    "Starting salaries for economics majors have a mean of $ \\$ 47,000$ and a standard deviation of $\\$8,000$. What is the probability that a random sample of 40 economics majors will have an average salary of more than $\\$50,000?$\n",
    "\n",
    "We have $\\mu = 47,000$ and $\\sigma =  8000$. By the central limit theorem, the t-statistic in our hypothesis test is:\n",
    "$$ t = \\frac{\\mu - \\bar{x}}{s/\\sqrt{n}} = \\frac{47000 - 50000}{8000/\\sqrt{40}} = 2.371\\Rightarrow P(\\bar{x} > 50000) = 1 - \\Phi(2.371) = 1 - 0.991106 = 0.8894\\%$$\n",
    "\n",
    "\n",
    "## C.6 \n",
    "An econometric professor’s rule of thumb is that students should expect to spend two hours outside of class on coursework for each hour in class. For a three-hour-per-week class, this means that students are expected to do six hours of work outside class. The professor randomly selects eight students from a class, and asks how many hours they studied econometrics during the past week. The sample values are 1, 3, 4, 4, 6, 6, 8, 12.\n",
    "\n",
    "1. Assuming that the population is normally distributed, can the professor conclude at the 0.05 level of significance that the students are studying on average more\n",
    "than six hours per week?\n",
    "\n",
    " $$ \\bar{Y} = \\frac{1}{N}\\sum_{i=1}^N Y_i  = \\frac{44}{8} = 5.5$$\n",
    " $$ s = \\sqrt{\\frac{\\sum_{i=1}^N (Y_i - \\bar{Y})^2}{N - 1}} = \\sqrt{\\frac{80}{7}}$$ \n",
    " $$SE(\\bar{Y}) = \\frac{s}{\\sqrt{N}} = \\frac{\\sqrt{80/7}}{\\sqrt{8}} = \\sqrt{\\frac{10}{7}} $$\n",
    " $$ t = \\frac{\\bar{Y} - \\mu}{SE} = \\frac{5.5-6}{\\sqrt{10/7}} = -0.41833$$\n",
    " $$ P(\\mu > 6) = 1 - \\Phi(0.41833) = 1 - 0.6606 = 0.3394 > 0.05 $$\n",
    "\n",
    "2. Construct a 90\\% confidence interval for the population mean number of hours studied per week.\n",
    "\n",
    " $$\\bar{Y} \\pm SE\\times t_{.90, 7} = 5.5 \\pm \\sqrt{\\frac{10}{7}} \\times 1.895 = [3.23504179,7.76495821]$$\n"
   ]
  },
  {
   "cell_type": "markdown",
   "metadata": {},
   "source": [
    "Stata output automatically produces p-values but not critical values. The p-values can be obtained manually from the relevant cdf, whereas critical values can be obtained using the inverse cdf. Run the code below to obtain a p-value and a critical value for a test statistic that is equal to 2 under the t distribution. Explain each line of the code below and modify it for the case of a Z distribution (the standard normal). Additionally, explain the relationship between t and Z distributions in the context of the central limit theorem."
   ]
  },
  {
   "cell_type": "code",
   "execution_count": null,
   "metadata": {},
   "outputs": [],
   "source": []
  },
  {
   "cell_type": "code",
   "execution_count": 1,
   "metadata": {},
   "outputs": [
    {
     "name": "stdout",
     "output_type": "stream",
     "text": [
      "\n",
      "\n",
      "\n",
      "p-valuet(30) = 0.0546\n",
      "\n",
      "\n",
      "\n",
      "critical valuet(30) =  2.042\n"
     ]
    }
   ],
   "source": [
    "* p-value for t(30) at y = 2\n",
    "scalar y = 2\n",
    "scalar p_t30 = 2*ttail(30, y)\n",
    "display \"p-value\" \"t(30) =\" %7.4f p_t30\n",
    "\n",
    "* Critical value for t(30) at level 0.05\n",
    "scalar alpha = 0.05\n",
    "scalar c_t30 = invttail(30, alpha/2)\n",
    "display \"critical value\" \"t(30) =\" %7.3f c_t30 "
   ]
  }
 ],
 "metadata": {
  "kernelspec": {
   "display_name": "Stata",
   "language": "stata",
   "name": "stata"
  },
  "language_info": {
   "codemirror_mode": "stata",
   "file_extension": ".do",
   "mimetype": "text/x-stata",
   "name": "stata",
   "version": "15.1"
  }
 },
 "nbformat": 4,
 "nbformat_minor": 2
}
