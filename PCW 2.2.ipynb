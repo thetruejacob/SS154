{
 "cells": [
  {
   "cell_type": "markdown",
   "metadata": {},
   "source": [
    "## C.1\n",
    "Suppose $Y_1, Y_2, \\cdots, Y_N$ is a random sample from a population with mean $\\mu$ and variance $\\sigma^2$ variances. Rather than using all $N$ observations, consider an easy estimator of $\\mu$ that uses only the first two observations,\n",
    "$$ Y^* = \\frac{Y_1 + Y_2}{2}$$\n",
    "1. Show that $Y^*$ is a linear estimator.\n",
    "\n",
    " Clearly $Y^*$ is linear as $$Y^* = \\frac{1}{2}Y_1 + \\frac{1}{2}Y_2 + 0 *Y_3 + 0*Y_4 + \\cdots 0*Y_N$$ and none of the coefficients rely on $Y_i$.\n",
    "\n",
    "2. Show that $Y^*$ is an unbiased estimator.\n",
    "\n",
    " $$E[Y^*] = \\frac{1}{2}E[Y_1] + \\frac{1}{2} E[Y_2] = \\frac{\\mu}{2} + \\frac{\\mu}{2} = \\mu $$\n",
    "\n",
    "3. Find the variance of $Y^*$\n",
    "\n",
    "  $$\\text{Var}[Y^*] = \\text{Var}[\\frac{1}{2}Y_1 + \\frac{1}{2}Y_2] = \\frac{1}{4}\\text{Var}[Y_1] + \\frac{1}{4}\\text{Var}[Y_2] = \\frac{\\sigma^2}{4} + \\frac{\\sigma^2}{4} = \\frac{\\sigma^2}{2}$$\n",
    "  \n",
    "  \n",
    "4. Explain why the sample mean of all $N$ observations is a better estimator than $Y^*$\n",
    "\n",
    " Let $\\bar{Y}$ be the estimator that uses all $N$ observations. Then we see that $\\bar{Y}$ is a better estimator as it has smaller variance when $N > 2$, i.e. there are more than two samples.\n",
    " \n",
    " $$\\text{Var}[\\bar{Y}] =  \\text{Var}[\\frac{1}{N}Y_1 + \\frac{1}{N}Y_2 + \\cdots + \\frac{1}{N}Y_N] = \\frac{\\sigma^2}{N^2} + \\frac{\\sigma^2}{N^2} + \\cdots + \\frac{\\sigma^2}{N^2} = \\frac{\\sigma^2}{N} < \\frac{\\sigma^2}{2} \\iff N > 2$$\n",
    "\n",
    "\n",
    "## C.4\n",
    "Starting salaries for economics majors have a mean of $ \\$ 47,000$ and a standard deviation of $\\$8,000$. What is the probability that a random sample of 40 economics majors will have an average salary of more than $\\$50,000?$\n",
    "\n",
    "We have $\\mu = 47,000$ and $\\sigma =  8000$. By the central limit theorem, the t-statistic in our hypothesis test is:\n",
    "$$ t = \\frac{\\mu - \\bar{x}}{s/\\sqrt{n}} = \\frac{47000 - 50000}{8000/\\sqrt{40}} = 2.371\\Rightarrow P(\\bar{x} > 50000) = 1 - \\Phi(2.371) = 1 - 0.991106 = 0.8894\\%$$\n",
    "\n",
    "\n",
    "## C.6 \n",
    "An econometric professor’s rule of thumb is that students should expect to spend two hours outside of class on coursework for each hour in class. For a three-hour-per-week class, this means that students are expected to do six hours of work outside class. The professor randomly selects eight students from a class, and asks how many hours they studied econometrics during the past week. The sample values are 1, 3, 4, 4, 6, 6, 8, 12.\n",
    "\n",
    "1. Assuming that the population is normally distributed, can the professor conclude at the 0.05 level of significance that the students are studying on average more\n",
    "than six hours per week?\n",
    "\n",
    " $$ \\bar{Y} = \\frac{1}{N}\\sum_{i=1}^N Y_i  = \\frac{44}{8} = 5.5$$\n",
    " $$ s = \\sqrt{\\frac{\\sum_{i=1}^N (Y_i - \\bar{Y})^2}{N - 1}} = \\sqrt{\\frac{80}{7}}$$ \n",
    " $$SE(\\bar{Y}) = \\frac{s}{\\sqrt{N}} = \\frac{\\sqrt{80/7}}{\\sqrt{8}} = \\sqrt{\\frac{10}{7}} $$\n",
    " $$ t = \\frac{\\bar{Y} - \\mu}{SE} = \\frac{5.5-6}{\\sqrt{10/7}} = -0.41833$$\n",
    " $$ P(\\mu > 6) = 1 - \\Phi(0.41833) = 1 - 0.6606 = 0.3394 > 0.05 $$\n",
    "\n",
    "2. Construct a 90\\% confidence interval for the population mean number of hours studied per week.\n",
    "\n",
    " $$\\bar{Y} \\pm SE\\times t_{.90, 7} = 5.5 \\pm \\sqrt{\\frac{10}{7}} \\times 1.895 = [3.23504179,7.76495821]$$\n"
   ]
  },
  {
   "cell_type": "markdown",
   "metadata": {},
   "source": [
    "Stata output automatically produces p-values but not critical values. The p-values can be obtained manually from the relevant cdf, whereas critical values can be obtained using the inverse cdf. Run the code below to obtain a p-value and a critical value for a test statistic that is equal to 2 under the t distribution. Explain each line of the code below and modify it for the case of a Z distribution (the standard normal). Additionally, explain the relationship between t and Z distributions in the context of the central limit theorem."
   ]
  },
  {
   "cell_type": "code",
   "execution_count": 1,
   "metadata": {},
   "outputs": [
    {
     "name": "stdout",
     "output_type": "stream",
     "text": [
      "\n",
      "\n",
      "\n",
      "p-valuet(30) = 0.0546\n",
      "\n",
      "\n",
      "\n",
      "critical valuet(30) =  2.042\n"
     ]
    }
   ],
   "source": [
    "* p-value for t(30) at y = 2\n",
    "scalar y = 2\n",
    "scalar p_t30 = 2*ttail(30, y)\n",
    "display \"p-value\" \"t(30) =\" %7.4f p_t30\n",
    "\n",
    "* Critical value for t(30) at level 0.05\n",
    "scalar alpha = 0.05\n",
    "scalar c_t30 = invttail(30, alpha/2)\n",
    "display \"critical value\" \"t(30) =\" %7.3f c_t30 "
   ]
  },
  {
   "cell_type": "code",
   "execution_count": 1,
   "metadata": {},
   "outputs": [
    {
     "name": "stdout",
     "output_type": "stream",
     "text": [
      "\n",
      "\n",
      "\n",
      "    Variable |        Obs        Mean    Std. Dev.       Min        Max\n",
      "-------------+---------------------------------------------------------\n",
      "        date |        111    918566.7    3568.818     911202     920508\n",
      "      lprice |        111   -.1936811    .3819346  -1.107745   .6643268\n",
      "        quan |        111    6334.667     4040.12   490.0003   21619.99\n",
      "       lquan |        111     8.52343     .741672   6.194406   9.981374\n",
      "         mon |        111    .1891892    .3934351          0          1\n",
      "-------------+---------------------------------------------------------\n",
      "         tue |        111    .2072072    .4071434          0          1\n",
      "         wed |        111    .1891892    .3934351          0          1\n",
      "         thu |        111    .2072072    .4071434          0          1\n",
      "      stormy |        111    .2882883    .4550202          0          1\n",
      "       mixed |        111    .3063063     .463049          0          1\n",
      "-------------+---------------------------------------------------------\n",
      "       rainy |        111    .1621622    .3702712          0          1\n",
      "        cold |        111    .5045045    .5022472          0          1\n",
      "        totr |        111    6426.712    4980.899         10      26530\n",
      "        diff |        111    92.04528    3021.308     -15210      18040\n",
      "      change |        111    .6936937     .463049          0          1\n"
     ]
    }
   ],
   "source": [
    "use https://www.stata.com/data/s4poe4/fultonfish.dta\n",
    "\n",
    "summarize"
   ]
  },
  {
   "cell_type": "code",
   "execution_count": 2,
   "metadata": {},
   "outputs": [
    {
     "name": "stdout",
     "output_type": "stream",
     "text": [
      "\n",
      "One-sample t test\n",
      "------------------------------------------------------------------------------\n",
      "Variable |     Obs        Mean    Std. Err.   Std. Dev.   [95% Conf. Interval]\n",
      "---------+--------------------------------------------------------------------\n",
      "    quan |      21    8070.762    1106.392    5070.127    5762.868    10378.66\n",
      "------------------------------------------------------------------------------\n",
      "    mean = mean(quan)                                             t =  -1.7437\n",
      "Ho: mean = 10000                                 degrees of freedom =       20\n",
      "\n",
      "  Ha: mean < 10000             Ha: mean != 10000             Ha: mean > 10000\n",
      " Pr(T < t) = 0.0483         Pr(|T| > |t|) = 0.0966          Pr(T > t) = 0.9517\n"
     ]
    }
   ],
   "source": [
    "ttest quan == 10000 if mon == 1"
   ]
  },
  {
   "cell_type": "code",
   "execution_count": 3,
   "metadata": {},
   "outputs": [
    {
     "name": "stdout",
     "output_type": "stream",
     "text": [
      "\n",
      "(90 observations deleted)\n",
      "\n",
      "\n",
      "Mean estimation                   Number of obs   =         21\n",
      "\n",
      "--------------------------------------------------------------\n",
      "             |       Mean   Std. Err.     [95% Conf. Interval]\n",
      "-------------+------------------------------------------------\n",
      "        quan |   8070.762   1106.392      5762.868    10378.66\n",
      "--------------------------------------------------------------\n",
      "\n",
      "\n",
      ".04828201\n"
     ]
    }
   ],
   "source": [
    "drop if mon != 1\n",
    "mean(quan)\n",
    "scalar p_value = 1 - ttail(20,-1.7437) \n",
    "display(p_value)"
   ]
  },
  {
   "cell_type": "code",
   "execution_count": 4,
   "metadata": {},
   "outputs": [
    {
     "name": "stdout",
     "output_type": "stream",
     "text": [
      "\n",
      "\n",
      "\n",
      "\n",
      "\n",
      "\n",
      "\n",
      "\n",
      "\n",
      "\n",
      "\n",
      "right tail test\n",
      "\n",
      "tstat = 2.5756186\n",
      "\n",
      "tc95  = 1.6765509\n",
      "\n",
      "pval  = .00653694\n",
      "\n",
      "\n",
      "One-sample t test\n",
      "------------------------------------------------------------------------------\n",
      "Variable |     Obs        Mean    Std. Err.   Std. Dev.   [95% Conf. Interval]\n",
      "---------+--------------------------------------------------------------------\n",
      "       y |      50     17.1582    .2555503    1.807013    16.64465    17.67175\n",
      "------------------------------------------------------------------------------\n",
      "    mean = mean(y)                                                t =   2.5756\n",
      "Ho: mean = 16.5                                  degrees of freedom =       49\n",
      "\n",
      "   Ha: mean < 16.5             Ha: mean != 16.5               Ha: mean > 16.5\n",
      " Pr(T < t) = 0.9935         Pr(|T| > |t|) = 0.0131          Pr(T > t) = 0.0065\n"
     ]
    }
   ],
   "source": [
    "* right tail test mu = 16.5\n",
    "\n",
    "* details\n",
    "use https://www.stata.com/data/s4poe4/hip.dta, clear\n",
    "quietly summarize y, detail\n",
    "scalar ybar = r(mean)\n",
    "scalar nobs = r(N)\n",
    "scalar df = nobs - 1\n",
    "scalar sighat = r(sd)\n",
    "scalar se = sighat/sqrt(nobs)\n",
    "scalar t1 = (ybar - 16.5)/se\n",
    "scalar tc95 = invttail(df,.05)\n",
    "scalar p1 = ttail(df,t1)\n",
    "\n",
    "di \"right tail test\"\n",
    "di \"tstat = \" t1\n",
    "di \"tc95  = \" tc95\n",
    "di \"pval  = \" p1\n",
    "\n",
    "* automatic version\n",
    "ttest y==16.5\n"
   ]
  },
  {
   "cell_type": "code",
   "execution_count": null,
   "metadata": {},
   "outputs": [],
   "source": []
  }
 ],
 "metadata": {
  "kernelspec": {
   "display_name": "Stata",
   "language": "stata",
   "name": "stata"
  },
  "language_info": {
   "codemirror_mode": "stata",
   "file_extension": ".do",
   "mimetype": "text/x-stata",
   "name": "stata",
   "version": "15.1"
  }
 },
 "nbformat": 4,
 "nbformat_minor": 2
}
