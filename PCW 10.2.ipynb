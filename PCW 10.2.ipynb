{
 "cells": [
  {
   "cell_type": "code",
   "execution_count": 3,
   "metadata": {},
   "outputs": [
    {
     "name": "stdout",
     "output_type": "stream",
     "text": [
      "\n",
      "Contains data from https://storage.googleapis.com/causal-inference-mixtape.appspot.com/star_sw.dta\n",
      "  obs:        11,598                          \n",
      " vars:            40                          18 May 2018 18:21\n",
      "---------------------------------------------------------------------------------------------------------------------------------------------------------------------------------------------------------------------------------------------------------------\n",
      "              storage   display    value\n",
      "variable name   type    format     label      variable label\n",
      "---------------------------------------------------------------------------------------------------------------------------------------------------------------------------------------------------------------------------------------------------------------\n",
      "stark           byte    %8.0g      stark      attend project star class in kindergarten\n",
      "star1           byte    %8.0g      star1      attend project star class in 1st grade\n",
      "star2           byte    %8.0g      star2      attend project star class in 2nd grade\n",
      "star3           byte    %8.0g      star3      attend project star class in 3rd grade\n",
      "totexpk         byte    %8.0g      totexpk    years of total teaching experience - kindergarten\n",
      "treadssk        int     %8.0g                 total reading scaled score - sesat ii stanford\n",
      "tmathssk        int     %8.0g                 total math scaled score - sesat ii stanford\n",
      "totexp1         byte    %8.0g      totexp1    years of total teaching experience - 1st grade\n",
      "treadss1        int     %8.0g                 total reading scaled score - primary 1 stanford\n",
      "tmathss1        int     %8.0g                 total math scaled score - primary 1 stanford\n",
      "totexp2         byte    %8.0g      totexp2    years of total teaching experience - 2nd grade\n",
      "treadss2        int     %8.0g                 total reading scaled score - primary 2 stanford\n",
      "tmathss2        int     %8.0g                 total math scaled score - primary 2 stanford\n",
      "treadss3        int     %8.0g                 total reading scaled score - primary 3 stanford\n",
      "tmathss3        int     %8.0g                 total math scaled score - primary 3 stanford\n",
      "totexp3         byte    %8.0g      totexp3    years of total teaching experience - 3rd grade\n",
      "schidkn         int     %8.0g      schidkn    school id-k (new) kindergarten\n",
      "schid1n         int     %8.0g      schid1n    school id-g1 (new) 1st grade\n",
      "schid2n         int     %8.0g      schid2n    school id-g2 (new) 2nd grade\n",
      "schid3n         int     %8.0g      schid3n    school id-g3 (new) 3rd grade\n",
      "tscorek         float   %9.0g                 \n",
      "tscore1         float   %9.0g                 \n",
      "tscore2         float   %9.0g                 \n",
      "tscore3         float   %9.0g                 \n",
      "sck             float   %9.0g                 \n",
      "sc1             float   %9.0g                 \n",
      "sc2             float   %9.0g                 \n",
      "sc3             float   %9.0g                 \n",
      "rak             float   %9.0g                 \n",
      "ra1             float   %9.0g                 \n",
      "ra2             float   %9.0g                 \n",
      "ra3             float   %9.0g                 \n",
      "white           float   %9.0g                 \n",
      "black           float   %9.0g                 \n",
      "other           float   %9.0g                 \n",
      "boy             float   %9.0g                 \n",
      "freelunk        float   %9.0g                 \n",
      "freelun1        float   %9.0g                 \n",
      "freelun2        float   %9.0g                 \n",
      "freelun3        float   %9.0g                 \n",
      "---------------------------------------------------------------------------------------------------------------------------------------------------------------------------------------------------------------------------------------------------------------\n",
      "Sorted by: \n"
     ]
    }
   ],
   "source": [
    "scuse star_sw"
   ]
  },
  {
   "cell_type": "code",
   "execution_count": 5,
   "metadata": {},
   "outputs": [
    {
     "name": "stdout",
     "output_type": "stream",
     "text": [
      "\n",
      "    Variable |        Obs        Mean    Std. Dev.       Min        Max\n",
      "-------------+---------------------------------------------------------\n",
      "     tscorek |      5,786    922.3287     73.7466        635       1253\n"
     ]
    }
   ],
   "source": [
    "summ tscorek"
   ]
  },
  {
   "cell_type": "code",
   "execution_count": 6,
   "metadata": {},
   "outputs": [
    {
     "name": "stdout",
     "output_type": "stream",
     "text": [
      "(5812 missing values generated)\n"
     ]
    }
   ],
   "source": [
    "egen score = rank(tscorek)"
   ]
  },
  {
   "cell_type": "code",
   "execution_count": 7,
   "metadata": {},
   "outputs": [
    {
     "name": "stdout",
     "output_type": "stream",
     "text": [
      "\n",
      "    Variable |        Obs        Mean    Std. Dev.       Min        Max\n",
      "-------------+---------------------------------------------------------\n",
      "       score |      5,786      2893.5    1670.398          1       5785\n"
     ]
    }
   ],
   "source": [
    "summ score"
   ]
  },
  {
   "cell_type": "code",
   "execution_count": 4,
   "metadata": {},
   "outputs": [
    {
     "name": "stdout",
     "output_type": "stream",
     "text": [
      "\n",
      "      Source |       SS           df       MS      Number of obs   =     5,786\n",
      "-------------+----------------------------------   F(2, 5783)      =     21.26\n",
      "       Model |  229672.452         2  114836.226   Prob > F        =    0.0000\n",
      "    Residual |  31232400.3     5,783  5400.72632   R-squared       =    0.0073\n",
      "-------------+----------------------------------   Adj R-squared   =    0.0070\n",
      "       Total |  31462072.8     5,785  5438.56055   Root MSE        =     73.49\n",
      "\n",
      "------------------------------------------------------------------------------\n",
      "     tscorek |      Coef.   Std. Err.      t    P>|t|     [95% Conf. Interval]\n",
      "-------------+----------------------------------------------------------------\n",
      "         sck |   13.89899    2.40854     5.77   0.000     9.177354    18.62063\n",
      "         rak |   .3139354   2.310229     0.14   0.892    -4.214977    4.842848\n",
      "       _cons |   918.0429   1.641228   559.36   0.000     914.8255    921.2603\n",
      "------------------------------------------------------------------------------\n"
     ]
    }
   ],
   "source": [
    "reg tscorek sck rak"
   ]
  },
  {
   "cell_type": "code",
   "execution_count": null,
   "metadata": {},
   "outputs": [],
   "source": []
  }
 ],
 "metadata": {
  "kernelspec": {
   "display_name": "Stata",
   "language": "stata",
   "name": "stata"
  },
  "language_info": {
   "codemirror_mode": "stata",
   "file_extension": ".do",
   "mimetype": "text/x-stata",
   "name": "stata",
   "version": "15.1"
  }
 },
 "nbformat": 4,
 "nbformat_minor": 2
}
