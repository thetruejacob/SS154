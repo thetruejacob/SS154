{
 "cells": [
  {
   "cell_type": "markdown",
   "metadata": {},
   "source": [
    "# Heterogeneity in Returns to Schooling\n",
    "\n",
    "According to the paper by Koop and Tobias (2004):\n",
    "\n",
    "Time Varying\n",
    "- PERSONID = Person id (ranging from 1 to 2,178),\n",
    "- EDUC = Education,\n",
    "- LOGWAGE = Log of hourly wage,\n",
    "- POTEXPER = Potential experience,\n",
    "- TIMETRND = Time trend.\n",
    "\n",
    "Time Invariant\n",
    "- ABILITY = Ability,\n",
    "- MOTHERED = Mother's education,\n",
    "- FATHERED = Father's education,\n",
    "- BRKNHOME = Dummy variable for residence in a broken home,\n",
    "- SIBLINGS = Number of siblings.\n",
    "\n",
    "Using the link, download the data used in Koop and Tobias's (2004) study of the relationship between wages and education, ability, and family characteristics. Their data set is a panel of 2,178 individuals with a total of 17,919 observations. Extract the first observations for the first 15 individuals in the sample."
   ]
  },
  {
   "cell_type": "code",
   "execution_count": 20,
   "metadata": {},
   "outputs": [
    {
     "name": "stdout",
     "output_type": "stream",
     "text": [
      "\n",
      "\n",
      "(10 vars, 17,919 obs)\n",
      "\n",
      "\n",
      "\n",
      "     +-------------------------------------------------------------------------------------------------------+\n",
      "     | personid   educ   logwage   potexper   timetrnd   ability   mothered   fathered   brknhome   siblings |\n",
      "     |-------------------------------------------------------------------------------------------------------|\n",
      "  1. |        1     13      1.82          1          0         1         12         12          0          1 |\n",
      "  5. |        2     15      2.14          4          6       1.5         12         12          0          1 |\n",
      " 14. |        3     10      1.56          1          2      -.36         12         12          1          1 |\n",
      " 15. |        4     12      1.85          1          3       .26         12         10          1          4 |\n",
      " 27. |        5     15      2.41          2          3        .3         12         12          1          1 |\n",
      "     |-------------------------------------------------------------------------------------------------------|\n",
      " 30. |        6     15      1.83          2          2       .44         12         16          0          2 |\n",
      " 42. |        7     15      1.78          3          8       .91         12         12          0          1 |\n",
      " 45. |        8     13      2.12          4          0       .51         12         15          1          2 |\n",
      " 59. |        9     13      1.95          2          0       .86         12         12          0          2 |\n",
      " 62. |       10     11      2.19          5          3       .26         12         12          0          2 |\n",
      "     |-------------------------------------------------------------------------------------------------------|\n",
      " 69. |       11     12      2.44          1          2      1.82         16         17          1          2 |\n",
      " 72. |       12     13      2.41          4          2      -1.3         13         12          0          5 |\n",
      " 84. |       13     12      2.07          3          0      -.63         12         12          1          4 |\n",
      " 96. |       14     12       2.2          6          4      -.36         10         12          1          2 |\n",
      " 99. |       15     12      2.12          3          4       .28         10         12          1          3 |\n",
      "     +-------------------------------------------------------------------------------------------------------+\n"
     ]
    }
   ],
   "source": [
    "clear all\n",
    "import delimited Koop-Tobias.csv\n",
    "\n",
    "egen first_obs = min(timetrnd), by(personid)\n",
    "list personid educ logwage potexper timetrnd ability mothered fathered brknhome siblings if first_obs == timetrnd in 1/100"
   ]
  },
  {
   "cell_type": "markdown",
   "metadata": {},
   "source": [
    "Let $X1$ equal a constant, education, experience, and ability (the individual's own characteristics). Let $X2$ contain the mother's education, the father's education, and the number of siblings (the household characteristics). Let $y$ be the log wage. \n"
   ]
  },
  {
   "cell_type": "code",
   "execution_count": 21,
   "metadata": {},
   "outputs": [],
   "source": [
    "global x1 educ potexper ability\n",
    "global x2 mothered fathered siblings\n",
    "global y logwage"
   ]
  },
  {
   "cell_type": "markdown",
   "metadata": {},
   "source": [
    "a. Compute the least squares regression coefficients in the regression of **y **on X1. Report and interpret the coefficients."
   ]
  },
  {
   "cell_type": "code",
   "execution_count": 22,
   "metadata": {},
   "outputs": [
    {
     "name": "stdout",
     "output_type": "stream",
     "text": [
      "\n",
      "      Source |       SS           df       MS      Number of obs   =    17,919\n",
      "-------------+----------------------------------   F(3, 17915)     =   1252.94\n",
      "       Model |  867.088558         3  289.029519   Prob > F        =    0.0000\n",
      "    Residual |  4132.63745    17,915  .230680293   R-squared       =    0.1734\n",
      "-------------+----------------------------------   Adj R-squared   =    0.1733\n",
      "       Total |  4999.72601    17,918  .279033709   Root MSE        =    .48029\n",
      "\n",
      "------------------------------------------------------------------------------\n",
      "     logwage |      Coef.   Std. Err.      t    P>|t|     [95% Conf. Interval]\n",
      "-------------+----------------------------------------------------------------\n",
      "        educ |   .0737621   .0022143    33.31   0.000     .0694219    .0781022\n",
      "    potexper |   .0394896   .0008984    43.96   0.000     .0377287    .0412504\n",
      "     ability |   .0828907      .0046    18.02   0.000     .0738744    .0919071\n",
      "       _cons |   1.027229   .0300415    34.19   0.000      .968345    1.086113\n",
      "------------------------------------------------------------------------------\n"
     ]
    }
   ],
   "source": [
    "regress $y $x1"
   ]
  },
  {
   "cell_type": "markdown",
   "metadata": {},
   "source": [
    "Education, potential experience, and ability are all significant predictors of logwage. By making the appropriate adjustments:\n",
    "$$ \\ln(WAGE) = \\beta_0 + \\beta_1 EDUC + \\beta_2 POTEXP + \\beta_3 ABILITY + e$$\n",
    "$$ \\Rightarrow WAGE = e^{\\beta_0}\\times e^{beta_1 EDUC} \\times e^{beta_2 POTEXP} \\times e^{\\beta_3 ABILITY} $$\n",
    "\n",
    "We can see that each additional year of education leads to a $e^{\\beta_1} -1 = 1.07655066 -1 \\approx 7.65\\%$ increase in WAGE, each additional POTEXP leads to a $e^{\\beta_2} -1 = 1.04027968 -1 \\approx 4\\%$ increase, and each additional point in Ability leads to a $e^{\\beta_3} -1 = 1.08642306-1 \\approx 8.6 \\%$ increase.\n",
    "\n",
    "We furthermore see that the R-squared is $17\\%$, which is the proportion of the variance in $y$ attributable to the variance in $X1$. "
   ]
  },
  {
   "cell_type": "markdown",
   "metadata": {},
   "source": [
    "b. Compute the least squares regression coefficients in the regression of $y$ on $X_1$ and $X_2$. Report and interpret the coefficients.\n"
   ]
  },
  {
   "cell_type": "code",
   "execution_count": 23,
   "metadata": {},
   "outputs": [
    {
     "name": "stdout",
     "output_type": "stream",
     "text": [
      "\n",
      "      Source |       SS           df       MS      Number of obs   =    17,919\n",
      "-------------+----------------------------------   F(6, 17912)     =    632.02\n",
      "       Model |  873.550652         6  145.591775   Prob > F        =    0.0000\n",
      "    Residual |  4126.17535    17,912   .23035816   R-squared       =    0.1747\n",
      "-------------+----------------------------------   Adj R-squared   =    0.1744\n",
      "       Total |  4999.72601    17,918  .279033709   Root MSE        =    .47996\n",
      "\n",
      "------------------------------------------------------------------------------\n",
      "     logwage |      Coef.   Std. Err.      t    P>|t|     [95% Conf. Interval]\n",
      "-------------+----------------------------------------------------------------\n",
      "        educ |   .0722035   .0022508    32.08   0.000     .0677918    .0766152\n",
      "    potexper |   .0395093   .0008993    43.94   0.000     .0377467    .0412719\n",
      "     ability |   .0774678   .0049373    15.69   0.000     .0677903    .0871453\n",
      "    mothered |   -.000117   .0016963    -0.07   0.945     -.003442     .003208\n",
      "    fathered |   .0054569   .0013387     4.08   0.000      .002833    .0080809\n",
      "    siblings |   .0047656   .0017924     2.66   0.008     .0012523    .0082789\n",
      "       _cons |   .9695096   .0337054    28.76   0.000     .9034437    1.035575\n",
      "------------------------------------------------------------------------------\n"
     ]
    }
   ],
   "source": [
    "regress $y $x1 $x2"
   ]
  },
  {
   "cell_type": "code",
   "execution_count": 24,
   "metadata": {},
   "outputs": [
    {
     "name": "stdout",
     "output_type": "stream",
     "text": [
      "\n",
      "      Source |       SS           df       MS      Number of obs   =    17,919\n",
      "-------------+----------------------------------   F(6, 17913)     =  65849.52\n",
      "       Model |  95212.5862         6  15868.7644   Prob > F        =    0.0000\n",
      "    Residual |  4316.76885    17,913  .240985254   R-squared       =    0.9566\n",
      "-------------+----------------------------------   Adj R-squared   =    0.9566\n",
      "       Total |  99529.3551    17,919  5.55440343   Root MSE        =     .4909\n",
      "\n",
      "------------------------------------------------------------------------------\n",
      "     logwage |      Coef.   Std. Err.      t    P>|t|     [95% Conf. Interval]\n",
      "-------------+----------------------------------------------------------------\n",
      "        educ |   .1238229   .0013894    89.12   0.000     .1210995    .1265463\n",
      "    potexper |   .0478474   .0008707    54.95   0.000     .0461408    .0495539\n",
      "     ability |   .0133685   .0045062     2.97   0.003     .0045359    .0222012\n",
      "    mothered |   .0145872   .0016544     8.82   0.000     .0113445    .0178299\n",
      "    fathered |   .0073285   .0013676     5.36   0.000     .0046479    .0100092\n",
      "    siblings |   .0197321   .0017543    11.25   0.000     .0162934    .0231708\n",
      "------------------------------------------------------------------------------\n"
     ]
    }
   ],
   "source": [
    "regress $y $x1 $x2, noconstant\n"
   ]
  },
  {
   "cell_type": "code",
   "execution_count": 8,
   "metadata": {},
   "outputs": [
    {
     "name": "stdout",
     "output_type": "stream",
     "text": [
      "\n",
      "    Variable |        Obs        Mean    Std. Dev.       Min        Max\n",
      "-------------+---------------------------------------------------------\n",
      "   residuals |     17,919    .0109709    .4907114  -2.671654    2.14897\n"
     ]
    }
   ],
   "source": [
    "summ residuals"
   ]
  },
  {
   "cell_type": "markdown",
   "metadata": {},
   "source": [
    "In the additional mode, the inclusion of the extra variables within $X2$ showed minimal improvement in the adjusted $R^2$. The coefficient estimates of EDUC, POTEXP, ability and the intercept were pretty much the same. The mother's education was not a statistically significant predictor, while the education of the father and the siblings were statistically significant, but the effects were very small. "
   ]
  },
  {
   "cell_type": "markdown",
   "metadata": {},
   "source": [
    "c. Compute the R-squared for the the regression of **y** on X1 and X2 manually using the SSE and SST from the output. Repeat the computation for the case in which the constant term is omitted. You need use the **noconstant **option, which suppresses the constant in a regression model. What happens to R-squared?\n",
    "\n",
    "With the constant term, we have:\n",
    "$$ R^2 = 1- \\frac{SSE}{SST} = 1 - \\frac{4126.17535}{4999.72601} = 0.17471$$\n",
    "Without the constant term, we have\n",
    "$$ R_0^2 = 1- \\frac{SSE}{SST} = 1 - \\frac{4316.76885}{99529.3551} = 0.95662$$\n",
    "\n",
    "$R^2$ is higher when the intercept is suppressed."
   ]
  },
  {
   "cell_type": "markdown",
   "metadata": {},
   "source": [
    "d. Compute the adjusted R-squared for the full regression with and without the constant term. Interpret your results. Do we need the constant term? (Hint: Make sure to refer to the economic theory to discuss whether one should have the constant term regardless of statistical significance)\n",
    "\n",
    "$$ \\bar{R}^2 = 1 - (1 - R^2)\\Big[ \\frac{n-1}{n-(k+1)}\\Big] = 1 - (1-0.17471) \\Big[ \\frac{17919-1}{17919 - (6 + 1)} \\Big] = 0.17443$$\n",
    "$$ \\bar{R}_0^2 = 1 - (1 - R_0^2)\\Big[ \\frac{n-1}{n-(k+1)}\\Big] = 1 - (1- 0.95662) \\Big[ \\frac{17919-1}{17919 - (6 + 1)} \\Big] = 0.95660$$\n",
    "\n",
    "Yes, we need the constant term. Something is clearly wrong here in the second part. Clearly, the variation in $X1, X2$ is not responsible for $95\\%$ of the variation in $y$. Generally, the removal of variables reduces $R^2$, instead of increases it. The problem here is the way $R^2$ is calculated on the back end. See further here. https://stats.stackexchange.com/questions/26176/removal-of-statistically-significant-intercept-term-increases-r2-in-linear-mo\n",
    "\n",
    "\n",
    "(#specification)\n",
    "\n"
   ]
  },
  {
   "cell_type": "markdown",
   "metadata": {},
   "source": [
    "e. Are any of the classical assumptions violated in part a or part b? Refer to the assumptions MR1, MR2, MR5, and MR6.\n",
    "\n",
    "MR1: Linear relatinoship\n",
    "\n",
    "MR2: Errors have an expected value of 0.\n",
    "\n",
    "MR5: Lack of multicollinearity\n",
    "\n",
    "MR6: Assuming that the values of $y$ are normally distributed about the mean, $y \\sim N[(\\beta_1 + \\beta_2 x_2 + \\beta_3 x_3), \\sigma^2] \\iff e \\sim N(0, \\sigma^2)$\n",
    "\n",
    "\n",
    "#economictrictheory\n"
   ]
  },
  {
   "cell_type": "code",
   "execution_count": 19,
   "metadata": {},
   "outputs": [
    {
     "name": "stdout",
     "output_type": "stream",
     "text": [
      "\n",
      "\n",
      "\n",
      "Ramsey RESET test using powers of the fitted values of logwage\n",
      "       Ho:  model has no omitted variables\n",
      "               F(3, 17912) =      3.32\n",
      "                  Prob > F =      0.0190\n",
      "\n",
      "\n",
      "\n",
      "Ramsey RESET test using powers of the fitted values of logwage\n",
      "       Ho:  model has no omitted variables\n",
      "               F(3, 17909) =      4.20\n",
      "                  Prob > F =      0.0056\n"
     ]
    }
   ],
   "source": [
    "// MR2, omitted variable bias\n",
    "\n",
    "qui reg $y $x1\n",
    "estat ovtest\n",
    "\n",
    "qui reg $y $x1 $x2\n",
    "estat ovtest"
   ]
  },
  {
   "cell_type": "code",
   "execution_count": 16,
   "metadata": {},
   "outputs": [
    {
     "name": "stdout",
     "output_type": "stream",
     "text": [
      "\n",
      "(obs=17,919)\n",
      "\n",
      "             |     educ potexper  ability\n",
      "-------------+---------------------------\n",
      "        educ |   1.0000\n",
      "    potexper |  -0.2187   1.0000\n",
      "     ability |   0.5279  -0.2222   1.0000\n",
      "\n",
      "\n",
      "\n",
      "\n",
      "    Variable |       VIF       1/VIF  \n",
      "-------------+----------------------\n",
      "     ability |      1.41    0.709365\n",
      "        educ |      1.41    0.710501\n",
      "    potexper |      1.07    0.936384\n",
      "-------------+----------------------\n",
      "    Mean VIF |      1.30\n",
      "\n",
      "(obs=17,919)\n",
      "\n",
      "             |     educ potexper  ability mothered fathered siblings\n",
      "-------------+------------------------------------------------------\n",
      "        educ |   1.0000\n",
      "    potexper |  -0.2187   1.0000\n",
      "     ability |   0.5279  -0.2222   1.0000\n",
      "    mothered |   0.3478  -0.1403   0.4501   1.0000\n",
      "    fathered |   0.3736  -0.1472   0.4492   0.6785   1.0000\n",
      "    siblings |  -0.1873   0.1113  -0.2427  -0.3019  -0.2555   1.0000\n",
      "\n",
      "\n",
      "\n",
      "\n",
      "    Variable |       VIF       1/VIF  \n",
      "-------------+----------------------\n",
      "    mothered |      2.00    0.500127\n",
      "    fathered |      1.98    0.505565\n",
      "     ability |      1.63    0.614889\n",
      "        educ |      1.46    0.686681\n",
      "    siblings |      1.12    0.889541\n",
      "    potexper |      1.07    0.933196\n",
      "-------------+----------------------\n",
      "    Mean VIF |      1.54\n"
     ]
    }
   ],
   "source": [
    "// MR5 \n",
    "\n",
    "corr $x1\n",
    "\n",
    "qui reg logwage educ potexper ability\n",
    "estat vif\n",
    "\n",
    "\n",
    "corr $x1 $x2\n",
    "qui reg logwage educ potexper ability mothered fathered siblings\n",
    "estat vif"
   ]
  },
  {
   "cell_type": "code",
   "execution_count": 39,
   "metadata": {},
   "outputs": [
    {
     "name": "stdout",
     "output_type": "stream",
     "text": [
      "\n",
      "                          Residuals\n",
      "-------------------------------------------------------------\n",
      "      Percentiles      Smallest\n",
      " 1%    -1.376645      -2.528907\n",
      " 5%    -.8173992      -2.512902\n",
      "10%    -.5798299      -2.459417       Obs              17,919\n",
      "25%    -.2756201       -2.40169       Sum of Wgt.      17,919\n",
      "\n",
      "50%     .0244065                      Mean           1.07e-10\n",
      "                        Largest       Std. Dev.      .4802517\n",
      "75%     .3091587       1.770369\n",
      "90%     .5611864       1.780585       Variance       .2306417\n",
      "95%     .7331424       1.895069       Skewness      -.4579588\n",
      "99%     1.076098       2.136589       Kurtosis       4.392981\n"
     ]
    }
   ],
   "source": [
    "summarize residuals1, detail"
   ]
  },
  {
   "cell_type": "code",
   "execution_count": 41,
   "metadata": {},
   "outputs": [
    {
     "name": "stdout",
     "output_type": "stream",
     "text": [
      "\n",
      "                          Residuals\n",
      "-------------------------------------------------------------\n",
      "      Percentiles      Smallest\n",
      " 1%    -1.375282      -2.515588\n",
      " 5%    -.8187386      -2.515073\n",
      "10%    -.5792979      -2.446079       Obs              17,919\n",
      "25%    -.2742732      -2.384188       Sum of Wgt.      17,919\n",
      "\n",
      "50%     .0259839                      Mean           1.16e-11\n",
      "                        Largest       Std. Dev.       .479876\n",
      "75%      .309625       1.763659\n",
      "90%     .5607769       1.774573       Variance        .230281\n",
      "95%     .7343448       1.900179       Skewness      -.4593643\n",
      "99%     1.065579       2.142944       Kurtosis       4.394376\n"
     ]
    }
   ],
   "source": [
    "summarize residuals2, detail"
   ]
  },
  {
   "cell_type": "code",
   "execution_count": 40,
   "metadata": {},
   "outputs": [
    {
     "name": "stdout",
     "output_type": "stream",
     "text": [
      "\n",
      "\n",
      "variable residuals1 already defined\n"
     ]
    },
    {
     "name": "stderr",
     "output_type": "stream",
     "text": [
      "r(110);\n",
      "r(110);\n"
     ]
    },
    {
     "name": "stdout",
     "output_type": "stream",
     "text": [
      "\n",
      "\n"
     ]
    }
   ],
   "source": [
    "\n",
    "// MR6, normality of residuals\n",
    "qui reg $y $x1\n",
    "predict residuals1, resid\n",
    "hist residuals1, normal\n",
    "\n",
    "summarize residuals1, detail\n",
    "\n",
    "\n",
    "qui reg $y $x1 $x2\n",
    "predict residuals2, resid\n",
    "hist residuals2, normal\n",
    "\n",
    "\n",
    "summarize residuals2, detail"
   ]
  },
  {
   "cell_type": "code",
   "execution_count": null,
   "metadata": {},
   "outputs": [],
   "source": []
  }
 ],
 "metadata": {
  "kernelspec": {
   "display_name": "Stata",
   "language": "stata",
   "name": "stata"
  },
  "language_info": {
   "codemirror_mode": "stata",
   "file_extension": ".do",
   "mimetype": "text/x-stata",
   "name": "stata",
   "version": "15.1"
  }
 },
 "nbformat": 4,
 "nbformat_minor": 2
}
