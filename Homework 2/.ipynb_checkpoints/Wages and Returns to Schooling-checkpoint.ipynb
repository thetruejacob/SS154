{
 "cells": [
  {
   "cell_type": "markdown",
   "metadata": {},
   "source": [
    "# Heterogeneity in Returns to Schooling\n",
    "\n",
    "According to the paper by Koop and Tobias (2004):\n",
    "\n",
    "Time Varying\n",
    "- PERSONID = Person id (ranging from 1 to 2,178),\n",
    "- EDUC = Education,\n",
    "- LOGWAGE = Log of hourly wage,\n",
    "- POTEXPER = Potential experience,\n",
    "- TIMETRND = Time trend.\n",
    "\n",
    "Time Invariant\n",
    "- ABILITY = Ability,\n",
    "- MOTHERED = Mother's education,\n",
    "- FATHERED = Father's education,\n",
    "- BRKNHOME = Dummy variable for residence in a broken home,\n",
    "- SIBLINGS = Number of siblings.\n",
    "\n",
    "Using the link, download the data used in Koop and Tobias's (2004) study of the relationship between wages and education, ability, and family characteristics. Their data set is a panel of 2,178 individuals with a total of 17,919 observations. Extract the first observations for the first 15 individuals in the sample."
   ]
  },
  {
   "cell_type": "code",
   "execution_count": 1,
   "metadata": {},
   "outputs": [
    {
     "name": "stdout",
     "output_type": "stream",
     "text": [
      "\n",
      "\n",
      "(10 vars, 17,919 obs)\n",
      "\n",
      "\n",
      "     +-------------------------------------------------------------------------------------------------------+\n",
      "     | personid   educ   logwage   potexper   timetrnd   ability   mothered   fathered   brknhome   siblings |\n",
      "     |-------------------------------------------------------------------------------------------------------|\n",
      "  1. |        1     13      1.82          1          0         1         12         12          0          1 |\n",
      "  2. |        1     18      3.29          3          7         1         12         12          0          1 |\n",
      "  3. |        1     18      3.21          5          9         1         12         12          0          1 |\n",
      "  4. |        1     18      3.06          6         10         1         12         12          0          1 |\n",
      "  5. |        2     15      2.14          4          6       1.5         12         12          0          1 |\n",
      "     |-------------------------------------------------------------------------------------------------------|\n",
      "  6. |        2     15       2.3          5          7       1.5         12         12          0          1 |\n",
      "  7. |        2     15       2.4          6          8       1.5         12         12          0          1 |\n",
      "  8. |        2     15      2.46          7          9       1.5         12         12          0          1 |\n",
      "  9. |        2     15      2.51          8         10       1.5         12         12          0          1 |\n",
      " 10. |        2     15       2.5          9         11       1.5         12         12          0          1 |\n",
      "     |-------------------------------------------------------------------------------------------------------|\n",
      " 11. |        2     15      2.55         10         12       1.5         12         12          0          1 |\n",
      " 12. |        2     15      2.56         11         13       1.5         12         12          0          1 |\n",
      " 13. |        2     15       2.6         12         14       1.5         12         12          0          1 |\n",
      " 14. |        3     10      1.56          1          2      -.36         12         12          1          1 |\n",
      " 15. |        4     12      1.85          1          3       .26         12         10          1          4 |\n",
      "     +-------------------------------------------------------------------------------------------------------+\n"
     ]
    }
   ],
   "source": [
    "clear all\n",
    "import delimited Koop-Tobias.csv\n",
    "list in 1/15"
   ]
  },
  {
   "cell_type": "markdown",
   "metadata": {},
   "source": [
    "Let $X1$ equal a constant, education, experience, and ability (the individual's own characteristics). Let $X2$ contain the mother's education, the father's education, and the number of siblings (the household characteristics). Let $y$ be the log wage. \n"
   ]
  },
  {
   "cell_type": "code",
   "execution_count": 2,
   "metadata": {},
   "outputs": [],
   "source": [
    "global x1 educ potexper ability\n",
    "global x2 mothered fathered siblings\n",
    "global y logwage"
   ]
  },
  {
   "cell_type": "markdown",
   "metadata": {},
   "source": [
    "a. Compute the least squares regression coefficients in the regression of **y **on X1. Report and interpret the coefficients."
   ]
  },
  {
   "cell_type": "code",
   "execution_count": 3,
   "metadata": {},
   "outputs": [
    {
     "name": "stdout",
     "output_type": "stream",
     "text": [
      "\n",
      "      Source |       SS           df       MS      Number of obs   =    17,919\n",
      "-------------+----------------------------------   F(3, 17915)     =   1252.94\n",
      "       Model |  867.088558         3  289.029519   Prob > F        =    0.0000\n",
      "    Residual |  4132.63745    17,915  .230680293   R-squared       =    0.1734\n",
      "-------------+----------------------------------   Adj R-squared   =    0.1733\n",
      "       Total |  4999.72601    17,918  .279033709   Root MSE        =    .48029\n",
      "\n",
      "------------------------------------------------------------------------------\n",
      "     logwage |      Coef.   Std. Err.      t    P>|t|     [95% Conf. Interval]\n",
      "-------------+----------------------------------------------------------------\n",
      "        educ |   .0737621   .0022143    33.31   0.000     .0694219    .0781022\n",
      "    potexper |   .0394896   .0008984    43.96   0.000     .0377287    .0412504\n",
      "     ability |   .0828907      .0046    18.02   0.000     .0738744    .0919071\n",
      "       _cons |   1.027229   .0300415    34.19   0.000      .968345    1.086113\n",
      "------------------------------------------------------------------------------\n"
     ]
    }
   ],
   "source": [
    "regress $y $x1"
   ]
  },
  {
   "cell_type": "markdown",
   "metadata": {},
   "source": [
    "Education, potential experience, and ability are all significant predictors of logwage. By making the appropriate adjustments:\n",
    "$$ \\ln(WAGE) = \\beta_0 + \\beta_1 EDUC + \\beta_2 POTEXP + \\beta_3 ABILITY + e$$\n",
    "$$ \\Rightarrow WAGE = e^{\\beta_0}\\times e^{beta_1 EDUC} \\times e^{beta_2 POTEXP} \\times e^{\\beta_3 ABILITY} $$\n",
    "\n",
    "We can see that each additional year of education leads to a $e^{\\beta_1} -1 = 1.07655066 -1 \\approx 7.65\\%$ increase in WAGE, each additional POTEXP leads to a $e^{\\beta_2} -1 = 1.04027968 -1 \\approx 4\\%$ increase, and each additional point in Ability leads to a $e^{\\beta_3} -1 = 1.08642306-1 \\approx 8.6 \\%$ increase.\n",
    "\n",
    "We furthermore see that the R-squared is $17\\%$, which is the proportion of the variance in $y$ attributable to the variance in $X1$. "
   ]
  },
  {
   "cell_type": "markdown",
   "metadata": {},
   "source": [
    "b. Compute the least squares regression coefficients in the regression of $y$ on $X_1$ and $X_2$. Report and interpret the coefficients.\n"
   ]
  },
  {
   "cell_type": "code",
   "execution_count": 4,
   "metadata": {},
   "outputs": [
    {
     "name": "stdout",
     "output_type": "stream",
     "text": [
      "\n",
      "      Source |       SS           df       MS      Number of obs   =    17,919\n",
      "-------------+----------------------------------   F(6, 17912)     =    632.02\n",
      "       Model |  873.550652         6  145.591775   Prob > F        =    0.0000\n",
      "    Residual |  4126.17535    17,912   .23035816   R-squared       =    0.1747\n",
      "-------------+----------------------------------   Adj R-squared   =    0.1744\n",
      "       Total |  4999.72601    17,918  .279033709   Root MSE        =    .47996\n",
      "\n",
      "------------------------------------------------------------------------------\n",
      "     logwage |      Coef.   Std. Err.      t    P>|t|     [95% Conf. Interval]\n",
      "-------------+----------------------------------------------------------------\n",
      "        educ |   .0722035   .0022508    32.08   0.000     .0677918    .0766152\n",
      "    potexper |   .0395093   .0008993    43.94   0.000     .0377467    .0412719\n",
      "     ability |   .0774678   .0049373    15.69   0.000     .0677903    .0871453\n",
      "    mothered |   -.000117   .0016963    -0.07   0.945     -.003442     .003208\n",
      "    fathered |   .0054569   .0013387     4.08   0.000      .002833    .0080809\n",
      "    siblings |   .0047656   .0017924     2.66   0.008     .0012523    .0082789\n",
      "       _cons |   .9695096   .0337054    28.76   0.000     .9034437    1.035575\n",
      "------------------------------------------------------------------------------\n"
     ]
    }
   ],
   "source": [
    "regress $y $x1 $x2"
   ]
  },
  {
   "cell_type": "code",
   "execution_count": 13,
   "metadata": {},
   "outputs": [
    {
     "name": "stdout",
     "output_type": "stream",
     "text": [
      "\n",
      "      Source |       SS           df       MS      Number of obs   =    17,919\n",
      "-------------+----------------------------------   F(6, 17913)     =  65849.52\n",
      "       Model |  95212.5862         6  15868.7644   Prob > F        =    0.0000\n",
      "    Residual |  4316.76885    17,913  .240985254   R-squared       =    0.9566\n",
      "-------------+----------------------------------   Adj R-squared   =    0.9566\n",
      "       Total |  99529.3551    17,919  5.55440343   Root MSE        =     .4909\n",
      "\n",
      "------------------------------------------------------------------------------\n",
      "     logwage |      Coef.   Std. Err.      t    P>|t|     [95% Conf. Interval]\n",
      "-------------+----------------------------------------------------------------\n",
      "        educ |   .1238229   .0013894    89.12   0.000     .1210995    .1265463\n",
      "    potexper |   .0478474   .0008707    54.95   0.000     .0461408    .0495539\n",
      "     ability |   .0133685   .0045062     2.97   0.003     .0045359    .0222012\n",
      "    mothered |   .0145872   .0016544     8.82   0.000     .0113445    .0178299\n",
      "    fathered |   .0073285   .0013676     5.36   0.000     .0046479    .0100092\n",
      "    siblings |   .0197321   .0017543    11.25   0.000     .0162934    .0231708\n",
      "------------------------------------------------------------------------------\n"
     ]
    }
   ],
   "source": [
    "regress $y $x1 $x2, noconstant\n"
   ]
  },
  {
   "cell_type": "code",
   "execution_count": null,
   "metadata": {},
   "outputs": [],
   "source": []
  },
  {
   "cell_type": "code",
   "execution_count": null,
   "metadata": {},
   "outputs": [],
   "source": []
  },
  {
   "cell_type": "code",
   "execution_count": 8,
   "metadata": {},
   "outputs": [
    {
     "name": "stdout",
     "output_type": "stream",
     "text": [
      "\n",
      "    Variable |        Obs        Mean    Std. Dev.       Min        Max\n",
      "-------------+---------------------------------------------------------\n",
      "   residuals |     17,919    .0109709    .4907114  -2.671654    2.14897\n"
     ]
    }
   ],
   "source": [
    "summ residuals"
   ]
  },
  {
   "cell_type": "markdown",
   "metadata": {},
   "source": [
    "In the additional mode, the inclusion of the extra variables within $X2$ showed minimal improvement in the adjusted $R^2$. The coefficient estimates of EDUC, POTEXP, ability and the intercept were pretty much the same. The mother's education was not a statistically significant predictor, while the education of the father and the siblings were statistically significant, but the effects were very small. "
   ]
  },
  {
   "cell_type": "markdown",
   "metadata": {},
   "source": [
    "c. Compute the R-squared for the the regression of **y** on X1 and X2 manually using the SSE and SST from the output. Repeat the computation for the case in which the constant term is omitted. You need use the **noconstant **option, which suppresses the constant in a regression model. What happens to R-squared?\n",
    "\n",
    "With the constant term, we have:\n",
    "$$ R^2 = 1- \\frac{SSE}{SST} = 1 - \\frac{4126.17535}{4999.72601} = 0.17471$$\n",
    "Without the constant term, we have\n",
    "$$ R_0^2 = 1- \\frac{SSE}{SST} = 1 - \\frac{4316.76885}{99529.3551} = 0.95662$$\n",
    "\n",
    "$R^2$ is higher when the intercept is suppressed."
   ]
  },
  {
   "cell_type": "markdown",
   "metadata": {},
   "source": [
    "d. Compute the adjusted R-squared for the full regression with and without the constant term. Interpret your results. Do we need the constant term? (Hint: Make sure to refer to the economic theory to discuss whether one should have the constant term regardless of statistical significance)\n",
    "\n",
    "$$ \\bar{R}^2 = 1 - (1 - R^2)\\Big[ \\frac{n-1}{n-(k+1)}\\Big] = 1 - (1-0.17471) \\Big[ \\frac{17919-1}{17919 - (6 + 1)} \\Big] = 0.17443$$\n",
    "$$ \\bar{R}_0^2 = 1 - (1 - R_0^2)\\Big[ \\frac{n-1}{n-(k+1)}\\Big] = 1 - (1- 0.95662) \\Big[ \\frac{17919-1}{17919 - (6 + 1)} \\Big] = 0.95660$$\n",
    "\n",
    "Yes, we need the constant term. Something is clearly wrong here in the second part. Clearly, the variation in $X1, X2$ is not responsible for $95\\%$ of the variation in $y$. Generally, the removal of variables reduces $R^2$, instead of increases it. The problem here is the way $R^2$ is calculated on the back end. See further here. https://stats.stackexchange.com/questions/26176/removal-of-statistically-significant-intercept-term-increases-r2-in-linear-mo\n",
    "\n",
    "\n",
    "(#specification)\n",
    "\n"
   ]
  },
  {
   "cell_type": "code",
   "execution_count": null,
   "metadata": {},
   "outputs": [],
   "source": []
  },
  {
   "cell_type": "markdown",
   "metadata": {},
   "source": [
    "e. Are any of the classical assumptions violated in part a or part b? Refer to the assumptions MR1, MR2, MR5, and MR6.\n",
    "\n",
    "MR1: Linear relatinoship\n",
    "\n",
    "MR2: Normally distributed around 0.\n",
    "\n",
    "MR5: Lack of multicollinearity\n",
    "\n",
    "MR6: Assuming that the values of $y$ are normally distributed about the mean, $y ~ N[(\\beta_1 + \\beta_2 x_2 + \\beta_3 x_3), \\sigma^2] \\iff e ~ N(0, \\sigma^2)$\n",
    "\n",
    "\n",
    "#economictrictheory\n"
   ]
  },
  {
   "cell_type": "code",
   "execution_count": 19,
   "metadata": {},
   "outputs": [
    {
     "name": "stdout",
     "output_type": "stream",
     "text": [
      "\n",
      "\n",
      "\n",
      "Ramsey RESET test using powers of the fitted values of logwage\n",
      "       Ho:  model has no omitted variables\n",
      "               F(3, 17912) =      3.32\n",
      "                  Prob > F =      0.0190\n",
      "\n",
      "\n",
      "\n",
      "Ramsey RESET test using powers of the fitted values of logwage\n",
      "       Ho:  model has no omitted variables\n",
      "               F(3, 17909) =      4.20\n",
      "                  Prob > F =      0.0056\n"
     ]
    }
   ],
   "source": [
    "// MR1, omitted variable bias\n",
    "\n",
    "qui reg $y $x1\n",
    "estat ovtest\n",
    "\n",
    "qui reg $y $x1 $x2\n",
    "estat ovtest"
   ]
  },
  {
   "cell_type": "code",
   "execution_count": 20,
   "metadata": {},
   "outputs": [
    {
     "name": "stdout",
     "output_type": "stream",
     "text": [
      "\n",
      "\n",
      "(bin=42, start=-2.6716545, width=.11477678)\n"
     ]
    },
    {
     "data": {
      "application/pdf": "[encoded data removed]",
      "image/svg+xml": [
       "<?xml version=\"1.0\" encoding=\"UTF-8\" standalone=\"no\"?>\n",
       "<!-- This is a Stata 16.0 generated SVG file (http://www.stata.com) -->\n",
       "\n",
       "<svg version=\"1.1\" width=\"600px\" height=\"436px\" viewBox=\"0 0 3960 2880\" xmlns=\"http://www.w3.org/2000/svg\" xmlns:xlink=\"http://www.w3.org/1999/xlink\">\n",
       "\t<desc>Stata Graph - Graph</desc>\n",
       "\t<rect x=\"0\" y=\"0\" width=\"3960\" height=\"2880\" style=\"fill:#EAF2F3;stroke:none\"/>\n",
       "\t<rect x=\"0.00\" y=\"0.00\" width=\"3959.88\" height=\"2880.00\" style=\"fill:#EAF2F3\"/>\n",
       "\t<rect x=\"2.88\" y=\"2.88\" width=\"3954.12\" height=\"2874.24\" style=\"fill:none;stroke:#EAF2F3;stroke-width:5.76\"/>\n",
       "\t<rect x=\"390.80\" y=\"100.86\" width=\"3468.22\" height=\"2388.33\" style=\"fill:#FFFFFF\"/>\n",
       "\t<rect x=\"393.68\" y=\"103.74\" width=\"3462.46\" height=\"2382.57\" style=\"fill:none;stroke:#FFFFFF;stroke-width:5.76\"/>\n",
       "\t<line x1=\"390.80\" y1=\"2489.19\" x2=\"3859.02\" y2=\"2489.19\" style=\"stroke:#EAF2F3;stroke-width:8.64\"/>\n",
       "\t<line x1=\"390.80\" y1=\"2024.24\" x2=\"3859.02\" y2=\"2024.24\" style=\"stroke:#EAF2F3;stroke-width:8.64\"/>\n",
       "\t<line x1=\"390.80\" y1=\"1559.17\" x2=\"3859.02\" y2=\"1559.17\" style=\"stroke:#EAF2F3;stroke-width:8.64\"/>\n",
       "\t<line x1=\"390.80\" y1=\"1094.23\" x2=\"3859.02\" y2=\"1094.23\" style=\"stroke:#EAF2F3;stroke-width:8.64\"/>\n",
       "\t<line x1=\"390.80\" y1=\"629.16\" x2=\"3859.02\" y2=\"629.16\" style=\"stroke:#EAF2F3;stroke-width:8.64\"/>\n",
       "\t<line x1=\"390.80\" y1=\"164.22\" x2=\"3859.02\" y2=\"164.22\" style=\"stroke:#EAF2F3;stroke-width:8.64\"/>\n",
       "\t<rect x=\"667.26\" y=\"2486.96\" width=\"74.50\" height=\"2.23\" style=\"fill:#CAC27E\"/>\n",
       "\t<rect x=\"671.58\" y=\"2491.28\" width=\"65.86\" height=\"-6.41\" style=\"fill:none;stroke:#D7D29E;stroke-width:8.64\"/>\n",
       "\t<rect x=\"741.76\" y=\"2486.96\" width=\"74.50\" height=\"2.23\" style=\"fill:#CAC27E\"/>\n",
       "\t<rect x=\"746.08\" y=\"2491.28\" width=\"65.86\" height=\"-6.41\" style=\"fill:none;stroke:#D7D29E;stroke-width:8.64\"/>\n",
       "\t<rect x=\"816.25\" y=\"2486.96\" width=\"74.50\" height=\"2.23\" style=\"fill:#CAC27E\"/>\n",
       "\t<rect x=\"820.57\" y=\"2491.28\" width=\"65.86\" height=\"-6.41\" style=\"fill:none;stroke:#D7D29E;stroke-width:8.64\"/>\n",
       "\t<rect x=\"890.75\" y=\"2482.38\" width=\"74.37\" height=\"6.81\" style=\"fill:#CAC27E\"/>\n",
       "\t<rect x=\"895.07\" y=\"2486.70\" width=\"65.73\" height=\"-1.83\" style=\"fill:none;stroke:#D7D29E;stroke-width:8.64\"/>\n",
       "\t<rect x=\"965.13\" y=\"2482.38\" width=\"74.50\" height=\"6.81\" style=\"fill:#CAC27E\"/>\n",
       "\t<rect x=\"969.45\" y=\"2486.70\" width=\"65.86\" height=\"-1.83\" style=\"fill:none;stroke:#D7D29E;stroke-width:8.64\"/>\n",
       "\t<rect x=\"1039.62\" y=\"2480.15\" width=\"74.50\" height=\"9.03\" style=\"fill:#CAC27E\"/>\n",
       "\t<rect x=\"1043.94\" y=\"2484.47\" width=\"65.86\" height=\"0.39\" style=\"fill:none;stroke:#D7D29E;stroke-width:8.64\"/>\n",
       "\t<rect x=\"1114.12\" y=\"2464.31\" width=\"74.50\" height=\"24.87\" style=\"fill:#CAC27E\"/>\n",
       "\t<rect x=\"1118.44\" y=\"2468.63\" width=\"65.86\" height=\"16.23\" style=\"fill:none;stroke:#D7D29E;stroke-width:8.64\"/>\n",
       "\t<rect x=\"1188.62\" y=\"2468.89\" width=\"74.50\" height=\"20.30\" style=\"fill:#CAC27E\"/>\n",
       "\t<rect x=\"1192.94\" y=\"2473.21\" width=\"65.86\" height=\"11.66\" style=\"fill:none;stroke:#D7D29E;stroke-width:8.64\"/>\n",
       "\t<rect x=\"1263.12\" y=\"2459.86\" width=\"74.50\" height=\"29.33\" style=\"fill:#CAC27E\"/>\n",
       "\t<rect x=\"1267.44\" y=\"2464.18\" width=\"65.86\" height=\"20.69\" style=\"fill:none;stroke:#D7D29E;stroke-width:8.64\"/>\n",
       "\t<rect x=\"1337.61\" y=\"2459.86\" width=\"74.50\" height=\"29.33\" style=\"fill:#CAC27E\"/>\n",
       "\t<rect x=\"1341.93\" y=\"2464.18\" width=\"65.86\" height=\"20.69\" style=\"fill:none;stroke:#D7D29E;stroke-width:8.64\"/>\n",
       "\t<rect x=\"1412.11\" y=\"2434.98\" width=\"74.50\" height=\"54.20\" style=\"fill:#CAC27E\"/>\n",
       "\t<rect x=\"1416.43\" y=\"2439.30\" width=\"65.86\" height=\"45.56\" style=\"fill:none;stroke:#D7D29E;stroke-width:8.64\"/>\n",
       "\t<rect x=\"1486.61\" y=\"2407.76\" width=\"74.50\" height=\"81.43\" style=\"fill:#CAC27E\"/>\n",
       "\t<rect x=\"1490.93\" y=\"2412.08\" width=\"65.86\" height=\"72.79\" style=\"fill:none;stroke:#D7D29E;stroke-width:8.64\"/>\n",
       "\t<rect x=\"1561.11\" y=\"2371.62\" width=\"74.50\" height=\"117.57\" style=\"fill:#CAC27E\"/>\n",
       "\t<rect x=\"1565.43\" y=\"2375.94\" width=\"65.86\" height=\"108.93\" style=\"fill:none;stroke:#D7D29E;stroke-width:8.64\"/>\n",
       "\t<rect x=\"1635.60\" y=\"2341.18\" width=\"74.50\" height=\"148.01\" style=\"fill:#CAC27E\"/>\n",
       "\t<rect x=\"1639.92\" y=\"2345.50\" width=\"65.86\" height=\"139.37\" style=\"fill:none;stroke:#D7D29E;stroke-width:8.64\"/>\n",
       "\t<rect x=\"1710.10\" y=\"2294.77\" width=\"74.50\" height=\"194.42\" style=\"fill:#CAC27E\"/>\n",
       "\t<rect x=\"1714.42\" y=\"2299.09\" width=\"65.86\" height=\"185.78\" style=\"fill:none;stroke:#D7D29E;stroke-width:8.64\"/>\n",
       "\t<rect x=\"1784.60\" y=\"2200.96\" width=\"74.50\" height=\"288.22\" style=\"fill:#CAC27E\"/>\n",
       "\t<rect x=\"1788.92\" y=\"2205.28\" width=\"65.86\" height=\"279.58\" style=\"fill:none;stroke:#D7D29E;stroke-width:8.64\"/>\n",
       "\t<rect x=\"1859.10\" y=\"2064.09\" width=\"74.37\" height=\"425.09\" style=\"fill:#CAC27E\"/>\n",
       "\t<rect x=\"1863.42\" y=\"2068.41\" width=\"65.73\" height=\"416.45\" style=\"fill:none;stroke:#D7D29E;stroke-width:8.64\"/>\n",
       "\t<rect x=\"1933.47\" y=\"1936.38\" width=\"74.50\" height=\"552.81\" style=\"fill:#CAC27E\"/>\n",
       "\t<rect x=\"1937.79\" y=\"1940.70\" width=\"65.86\" height=\"544.17\" style=\"fill:none;stroke:#D7D29E;stroke-width:8.64\"/>\n",
       "\t<rect x=\"2007.97\" y=\"1726.12\" width=\"74.50\" height=\"763.07\" style=\"fill:#CAC27E\"/>\n",
       "\t<rect x=\"2012.29\" y=\"1730.44\" width=\"65.86\" height=\"754.43\" style=\"fill:none;stroke:#D7D29E;stroke-width:8.64\"/>\n",
       "\t<rect x=\"2082.47\" y=\"1475.15\" width=\"74.50\" height=\"1014.04\" style=\"fill:#CAC27E\"/>\n",
       "\t<rect x=\"2086.78\" y=\"1479.47\" width=\"65.86\" height=\"1005.40\" style=\"fill:none;stroke:#D7D29E;stroke-width:8.64\"/>\n",
       "\t<rect x=\"2156.96\" y=\"1199.30\" width=\"74.50\" height=\"1289.89\" style=\"fill:#CAC27E\"/>\n",
       "\t<rect x=\"2161.28\" y=\"1203.62\" width=\"65.86\" height=\"1281.25\" style=\"fill:none;stroke:#D7D29E;stroke-width:8.64\"/>\n",
       "\t<rect x=\"2231.46\" y=\"759.60\" width=\"74.50\" height=\"1729.58\" style=\"fill:#CAC27E\"/>\n",
       "\t<rect x=\"2235.78\" y=\"763.92\" width=\"65.86\" height=\"1720.94\" style=\"fill:none;stroke:#D7D29E;stroke-width:8.64\"/>\n",
       "\t<rect x=\"2305.96\" y=\"496.13\" width=\"74.50\" height=\"1993.06\" style=\"fill:#CAC27E\"/>\n",
       "\t<rect x=\"2310.28\" y=\"500.45\" width=\"65.86\" height=\"1984.42\" style=\"fill:none;stroke:#D7D29E;stroke-width:8.64\"/>\n",
       "\t<rect x=\"2380.45\" y=\"361.61\" width=\"74.50\" height=\"2127.58\" style=\"fill:#CAC27E\"/>\n",
       "\t<rect x=\"2384.77\" y=\"365.93\" width=\"65.86\" height=\"2118.94\" style=\"fill:none;stroke:#D7D29E;stroke-width:8.64\"/>\n",
       "\t<rect x=\"2454.95\" y=\"408.02\" width=\"74.50\" height=\"2081.17\" style=\"fill:#CAC27E\"/>\n",
       "\t<rect x=\"2459.27\" y=\"412.34\" width=\"65.86\" height=\"2072.53\" style=\"fill:none;stroke:#D7D29E;stroke-width:8.64\"/>\n",
       "\t<rect x=\"2529.45\" y=\"475.83\" width=\"74.50\" height=\"2013.35\" style=\"fill:#CAC27E\"/>\n",
       "\t<rect x=\"2533.77\" y=\"480.15\" width=\"65.86\" height=\"2004.71\" style=\"fill:none;stroke:#D7D29E;stroke-width:8.64\"/>\n",
       "\t<rect x=\"2603.95\" y=\"907.61\" width=\"74.50\" height=\"1581.57\" style=\"fill:#CAC27E\"/>\n",
       "\t<rect x=\"2608.27\" y=\"911.93\" width=\"65.86\" height=\"1572.93\" style=\"fill:none;stroke:#D7D29E;stroke-width:8.64\"/>\n",
       "\t<rect x=\"2678.45\" y=\"1221.95\" width=\"74.50\" height=\"1267.24\" style=\"fill:#CAC27E\"/>\n",
       "\t<rect x=\"2682.76\" y=\"1226.27\" width=\"65.86\" height=\"1258.60\" style=\"fill:none;stroke:#D7D29E;stroke-width:8.64\"/>\n",
       "\t<rect x=\"2752.94\" y=\"1589.37\" width=\"74.50\" height=\"899.81\" style=\"fill:#CAC27E\"/>\n",
       "\t<rect x=\"2757.26\" y=\"1593.69\" width=\"65.86\" height=\"891.17\" style=\"fill:none;stroke:#D7D29E;stroke-width:8.64\"/>\n",
       "\t<rect x=\"2827.44\" y=\"1908.16\" width=\"74.37\" height=\"581.02\" style=\"fill:#CAC27E\"/>\n",
       "\t<rect x=\"2831.76\" y=\"1912.48\" width=\"65.73\" height=\"572.38\" style=\"fill:none;stroke:#D7D29E;stroke-width:8.64\"/>\n",
       "\t<rect x=\"2901.81\" y=\"2115.08\" width=\"74.50\" height=\"374.11\" style=\"fill:#CAC27E\"/>\n",
       "\t<rect x=\"2906.13\" y=\"2119.40\" width=\"65.86\" height=\"365.47\" style=\"fill:none;stroke:#D7D29E;stroke-width:8.64\"/>\n",
       "\t<rect x=\"2976.31\" y=\"2254.05\" width=\"74.50\" height=\"235.13\" style=\"fill:#CAC27E\"/>\n",
       "\t<rect x=\"2980.63\" y=\"2258.37\" width=\"65.86\" height=\"226.49\" style=\"fill:none;stroke:#D7D29E;stroke-width:8.64\"/>\n",
       "\t<rect x=\"3050.81\" y=\"2346.74\" width=\"74.50\" height=\"142.44\" style=\"fill:#CAC27E\"/>\n",
       "\t<rect x=\"3055.13\" y=\"2351.06\" width=\"65.86\" height=\"133.80\" style=\"fill:none;stroke:#D7D29E;stroke-width:8.64\"/>\n",
       "\t<rect x=\"3125.31\" y=\"2422.48\" width=\"74.50\" height=\"66.70\" style=\"fill:#CAC27E\"/>\n",
       "\t<rect x=\"3129.63\" y=\"2426.80\" width=\"65.86\" height=\"58.06\" style=\"fill:none;stroke:#D7D29E;stroke-width:8.64\"/>\n",
       "\t<rect x=\"3199.80\" y=\"2449.58\" width=\"74.50\" height=\"39.60\" style=\"fill:#CAC27E\"/>\n",
       "\t<rect x=\"3204.12\" y=\"2453.90\" width=\"65.86\" height=\"30.96\" style=\"fill:none;stroke:#D7D29E;stroke-width:8.64\"/>\n",
       "\t<rect x=\"3274.30\" y=\"2457.50\" width=\"74.50\" height=\"31.68\" style=\"fill:#CAC27E\"/>\n",
       "\t<rect x=\"3278.62\" y=\"2461.82\" width=\"65.86\" height=\"23.04\" style=\"fill:none;stroke:#D7D29E;stroke-width:8.64\"/>\n",
       "\t<rect x=\"3348.80\" y=\"2475.70\" width=\"74.50\" height=\"13.49\" style=\"fill:#CAC27E\"/>\n",
       "\t<rect x=\"3353.12\" y=\"2480.02\" width=\"65.86\" height=\"4.85\" style=\"fill:none;stroke:#D7D29E;stroke-width:8.64\"/>\n",
       "\t<rect x=\"3423.30\" y=\"2477.92\" width=\"74.50\" height=\"11.26\" style=\"fill:#CAC27E\"/>\n",
       "\t<rect x=\"3427.62\" y=\"2482.24\" width=\"65.86\" height=\"2.62\" style=\"fill:none;stroke:#D7D29E;stroke-width:8.64\"/>\n",
       "\t<rect x=\"3497.79\" y=\"2488.07\" width=\"74.50\" height=\"1.11\" style=\"fill:#CAC27E\"/>\n",
       "\t<rect x=\"3502.11\" y=\"2492.39\" width=\"65.86\" height=\"-7.53\" style=\"fill:none;stroke:#D7D29E;stroke-width:8.64\"/>\n",
       "\t<rect x=\"3572.29\" y=\"2486.96\" width=\"74.50\" height=\"2.23\" style=\"fill:#CAC27E\"/>\n",
       "\t<rect x=\"3576.61\" y=\"2491.28\" width=\"65.86\" height=\"-6.41\" style=\"fill:none;stroke:#D7D29E;stroke-width:8.64\"/>\n",
       "\t<rect x=\"3646.79\" y=\"2488.07\" width=\"74.50\" height=\"1.11\" style=\"fill:#CAC27E\"/>\n",
       "\t<rect x=\"3651.11\" y=\"2492.39\" width=\"65.86\" height=\"-7.53\" style=\"fill:none;stroke:#D7D29E;stroke-width:8.64\"/>\n",
       "\t<rect x=\"3721.29\" y=\"2488.07\" width=\"74.37\" height=\"1.11\" style=\"fill:#CAC27E\"/>\n",
       "\t<rect x=\"3725.61\" y=\"2492.39\" width=\"65.73\" height=\"-7.53\" style=\"fill:none;stroke:#D7D29E;stroke-width:8.64\"/>\n",
       "\t<line x1=\"390.80\" y1=\"2489.19\" x2=\"390.80\" y2=\"100.86\" style=\"stroke:#000000;stroke-width:5.76\"/>\n",
       "\t<line x1=\"390.80\" y1=\"2489.19\" x2=\"350.83\" y2=\"2489.19\" style=\"stroke:#000000;stroke-width:5.76\"/>\n",
       "\t<text x=\"300.72\" y=\"2489.19\" style=\"font-family:'Helvetica';font-size:99.99px;fill:#000000\" transform=\"rotate(-90 300.72,2489.19)\" text-anchor=\"middle\">0</text>\n",
       "\t<line x1=\"390.80\" y1=\"2024.24\" x2=\"350.83\" y2=\"2024.24\" style=\"stroke:#000000;stroke-width:5.76\"/>\n",
       "\t<text x=\"300.72\" y=\"2024.24\" style=\"font-family:'Helvetica';font-size:99.99px;fill:#000000\" transform=\"rotate(-90 300.72,2024.24)\" text-anchor=\"middle\">.2</text>\n",
       "\t<line x1=\"390.80\" y1=\"1559.17\" x2=\"350.83\" y2=\"1559.17\" style=\"stroke:#000000;stroke-width:5.76\"/>\n",
       "\t<text x=\"300.72\" y=\"1559.17\" style=\"font-family:'Helvetica';font-size:99.99px;fill:#000000\" transform=\"rotate(-90 300.72,1559.17)\" text-anchor=\"middle\">.4</text>\n",
       "\t<line x1=\"390.80\" y1=\"1094.23\" x2=\"350.83\" y2=\"1094.23\" style=\"stroke:#000000;stroke-width:5.76\"/>\n",
       "\t<text x=\"300.72\" y=\"1094.23\" style=\"font-family:'Helvetica';font-size:99.99px;fill:#000000\" transform=\"rotate(-90 300.72,1094.23)\" text-anchor=\"middle\">.6</text>\n",
       "\t<line x1=\"390.80\" y1=\"629.16\" x2=\"350.83\" y2=\"629.16\" style=\"stroke:#000000;stroke-width:5.76\"/>\n",
       "\t<text x=\"300.72\" y=\"629.16\" style=\"font-family:'Helvetica';font-size:99.99px;fill:#000000\" transform=\"rotate(-90 300.72,629.16)\" text-anchor=\"middle\">.8</text>\n",
       "\t<line x1=\"390.80\" y1=\"164.22\" x2=\"350.83\" y2=\"164.22\" style=\"stroke:#000000;stroke-width:5.76\"/>\n",
       "\t<text x=\"300.72\" y=\"164.22\" style=\"font-family:'Helvetica';font-size:99.99px;fill:#000000\" transform=\"rotate(-90 300.72,164.22)\" text-anchor=\"middle\">1</text>\n",
       "\t<text x=\"190.71\" y=\"1294.96\" style=\"font-family:'Helvetica';font-size:99.99px;fill:#000000\" transform=\"rotate(-90 190.71,1294.96)\" text-anchor=\"middle\">Density</text>\n",
       "\t<line x1=\"390.80\" y1=\"2489.19\" x2=\"3859.02\" y2=\"2489.19\" style=\"stroke:#000000;stroke-width:5.76\"/>\n",
       "\t<line x1=\"454.16\" y1=\"2489.19\" x2=\"454.16\" y2=\"2529.16\" style=\"stroke:#000000;stroke-width:5.76\"/>\n",
       "\t<text x=\"454.16\" y=\"2619.14\" style=\"font-family:'Helvetica';font-size:99.99px;fill:#000000\" text-anchor=\"middle\">-3</text>\n",
       "\t<line x1=\"1103.11\" y1=\"2489.19\" x2=\"1103.11\" y2=\"2529.16\" style=\"stroke:#000000;stroke-width:5.76\"/>\n",
       "\t<text x=\"1103.11\" y=\"2619.14\" style=\"font-family:'Helvetica';font-size:99.99px;fill:#000000\" text-anchor=\"middle\">-2</text>\n",
       "\t<line x1=\"1752.05\" y1=\"2489.19\" x2=\"1752.05\" y2=\"2529.16\" style=\"stroke:#000000;stroke-width:5.76\"/>\n",
       "\t<text x=\"1752.05\" y=\"2619.14\" style=\"font-family:'Helvetica';font-size:99.99px;fill:#000000\" text-anchor=\"middle\">-1</text>\n",
       "\t<line x1=\"2401.12\" y1=\"2489.19\" x2=\"2401.12\" y2=\"2529.16\" style=\"stroke:#000000;stroke-width:5.76\"/>\n",
       "\t<text x=\"2401.12\" y=\"2619.14\" style=\"font-family:'Helvetica';font-size:99.99px;fill:#000000\" text-anchor=\"middle\">0</text>\n",
       "\t<line x1=\"3050.07\" y1=\"2489.19\" x2=\"3050.07\" y2=\"2529.16\" style=\"stroke:#000000;stroke-width:5.76\"/>\n",
       "\t<text x=\"3050.07\" y=\"2619.14\" style=\"font-family:'Helvetica';font-size:99.99px;fill:#000000\" text-anchor=\"middle\">1</text>\n",
       "\t<line x1=\"3699.01\" y1=\"2489.19\" x2=\"3699.01\" y2=\"2529.16\" style=\"stroke:#000000;stroke-width:5.76\"/>\n",
       "\t<text x=\"3699.01\" y=\"2619.14\" style=\"font-family:'Helvetica';font-size:99.99px;fill:#000000\" text-anchor=\"middle\">2</text>\n",
       "\t<text x=\"2124.91\" y=\"2729.16\" style=\"font-family:'Helvetica';font-size:99.99px;fill:#000000\" text-anchor=\"middle\">Residuals</text>\n",
       "</svg>\n"
      ],
      "text/html": [
       "                <iframe frameborder=\"0\" scrolling=\"no\" height=\"436\" width=\"600\"                srcdoc=\"<html><body>&lt;?xml version=&quot;1.0&quot; encoding=&quot;UTF-8&quot; standalone=&quot;no&quot;?&gt;\n",
       "&lt;!-- This is a Stata 16.0 generated SVG file (http://www.stata.com) --&gt;\n",
       "\n",
       "&lt;svg version=&quot;1.1&quot; width=&quot;600px&quot; height=&quot;436px&quot; viewBox=&quot;0 0 3960 2880&quot; xmlns=&quot;http://www.w3.org/2000/svg&quot; xmlns:xlink=&quot;http://www.w3.org/1999/xlink&quot;&gt;\n",
       "\t&lt;desc&gt;Stata Graph - Graph&lt;/desc&gt;\n",
       "\t&lt;rect x=&quot;0&quot; y=&quot;0&quot; width=&quot;3960&quot; height=&quot;2880&quot; style=&quot;fill:#EAF2F3;stroke:none&quot;/&gt;\n",
       "\t&lt;rect x=&quot;0.00&quot; y=&quot;0.00&quot; width=&quot;3959.88&quot; height=&quot;2880.00&quot; style=&quot;fill:#EAF2F3&quot;/&gt;\n",
       "\t&lt;rect x=&quot;2.88&quot; y=&quot;2.88&quot; width=&quot;3954.12&quot; height=&quot;2874.24&quot; style=&quot;fill:none;stroke:#EAF2F3;stroke-width:5.76&quot;/&gt;\n",
       "\t&lt;rect x=&quot;390.80&quot; y=&quot;100.86&quot; width=&quot;3468.22&quot; height=&quot;2388.33&quot; style=&quot;fill:#FFFFFF&quot;/&gt;\n",
       "\t&lt;rect x=&quot;393.68&quot; y=&quot;103.74&quot; width=&quot;3462.46&quot; height=&quot;2382.57&quot; style=&quot;fill:none;stroke:#FFFFFF;stroke-width:5.76&quot;/&gt;\n",
       "\t&lt;line x1=&quot;390.80&quot; y1=&quot;2489.19&quot; x2=&quot;3859.02&quot; y2=&quot;2489.19&quot; style=&quot;stroke:#EAF2F3;stroke-width:8.64&quot;/&gt;\n",
       "\t&lt;line x1=&quot;390.80&quot; y1=&quot;2024.24&quot; x2=&quot;3859.02&quot; y2=&quot;2024.24&quot; style=&quot;stroke:#EAF2F3;stroke-width:8.64&quot;/&gt;\n",
       "\t&lt;line x1=&quot;390.80&quot; y1=&quot;1559.17&quot; x2=&quot;3859.02&quot; y2=&quot;1559.17&quot; style=&quot;stroke:#EAF2F3;stroke-width:8.64&quot;/&gt;\n",
       "\t&lt;line x1=&quot;390.80&quot; y1=&quot;1094.23&quot; x2=&quot;3859.02&quot; y2=&quot;1094.23&quot; style=&quot;stroke:#EAF2F3;stroke-width:8.64&quot;/&gt;\n",
       "\t&lt;line x1=&quot;390.80&quot; y1=&quot;629.16&quot; x2=&quot;3859.02&quot; y2=&quot;629.16&quot; style=&quot;stroke:#EAF2F3;stroke-width:8.64&quot;/&gt;\n",
       "\t&lt;line x1=&quot;390.80&quot; y1=&quot;164.22&quot; x2=&quot;3859.02&quot; y2=&quot;164.22&quot; style=&quot;stroke:#EAF2F3;stroke-width:8.64&quot;/&gt;\n",
       "\t&lt;rect x=&quot;667.26&quot; y=&quot;2486.96&quot; width=&quot;74.50&quot; height=&quot;2.23&quot; style=&quot;fill:#CAC27E&quot;/&gt;\n",
       "\t&lt;rect x=&quot;671.58&quot; y=&quot;2491.28&quot; width=&quot;65.86&quot; height=&quot;-6.41&quot; style=&quot;fill:none;stroke:#D7D29E;stroke-width:8.64&quot;/&gt;\n",
       "\t&lt;rect x=&quot;741.76&quot; y=&quot;2486.96&quot; width=&quot;74.50&quot; height=&quot;2.23&quot; style=&quot;fill:#CAC27E&quot;/&gt;\n",
       "\t&lt;rect x=&quot;746.08&quot; y=&quot;2491.28&quot; width=&quot;65.86&quot; height=&quot;-6.41&quot; style=&quot;fill:none;stroke:#D7D29E;stroke-width:8.64&quot;/&gt;\n",
       "\t&lt;rect x=&quot;816.25&quot; y=&quot;2486.96&quot; width=&quot;74.50&quot; height=&quot;2.23&quot; style=&quot;fill:#CAC27E&quot;/&gt;\n",
       "\t&lt;rect x=&quot;820.57&quot; y=&quot;2491.28&quot; width=&quot;65.86&quot; height=&quot;-6.41&quot; style=&quot;fill:none;stroke:#D7D29E;stroke-width:8.64&quot;/&gt;\n",
       "\t&lt;rect x=&quot;890.75&quot; y=&quot;2482.38&quot; width=&quot;74.37&quot; height=&quot;6.81&quot; style=&quot;fill:#CAC27E&quot;/&gt;\n",
       "\t&lt;rect x=&quot;895.07&quot; y=&quot;2486.70&quot; width=&quot;65.73&quot; height=&quot;-1.83&quot; style=&quot;fill:none;stroke:#D7D29E;stroke-width:8.64&quot;/&gt;\n",
       "\t&lt;rect x=&quot;965.13&quot; y=&quot;2482.38&quot; width=&quot;74.50&quot; height=&quot;6.81&quot; style=&quot;fill:#CAC27E&quot;/&gt;\n",
       "\t&lt;rect x=&quot;969.45&quot; y=&quot;2486.70&quot; width=&quot;65.86&quot; height=&quot;-1.83&quot; style=&quot;fill:none;stroke:#D7D29E;stroke-width:8.64&quot;/&gt;\n",
       "\t&lt;rect x=&quot;1039.62&quot; y=&quot;2480.15&quot; width=&quot;74.50&quot; height=&quot;9.03&quot; style=&quot;fill:#CAC27E&quot;/&gt;\n",
       "\t&lt;rect x=&quot;1043.94&quot; y=&quot;2484.47&quot; width=&quot;65.86&quot; height=&quot;0.39&quot; style=&quot;fill:none;stroke:#D7D29E;stroke-width:8.64&quot;/&gt;\n",
       "\t&lt;rect x=&quot;1114.12&quot; y=&quot;2464.31&quot; width=&quot;74.50&quot; height=&quot;24.87&quot; style=&quot;fill:#CAC27E&quot;/&gt;\n",
       "\t&lt;rect x=&quot;1118.44&quot; y=&quot;2468.63&quot; width=&quot;65.86&quot; height=&quot;16.23&quot; style=&quot;fill:none;stroke:#D7D29E;stroke-width:8.64&quot;/&gt;\n",
       "\t&lt;rect x=&quot;1188.62&quot; y=&quot;2468.89&quot; width=&quot;74.50&quot; height=&quot;20.30&quot; style=&quot;fill:#CAC27E&quot;/&gt;\n",
       "\t&lt;rect x=&quot;1192.94&quot; y=&quot;2473.21&quot; width=&quot;65.86&quot; height=&quot;11.66&quot; style=&quot;fill:none;stroke:#D7D29E;stroke-width:8.64&quot;/&gt;\n",
       "\t&lt;rect x=&quot;1263.12&quot; y=&quot;2459.86&quot; width=&quot;74.50&quot; height=&quot;29.33&quot; style=&quot;fill:#CAC27E&quot;/&gt;\n",
       "\t&lt;rect x=&quot;1267.44&quot; y=&quot;2464.18&quot; width=&quot;65.86&quot; height=&quot;20.69&quot; style=&quot;fill:none;stroke:#D7D29E;stroke-width:8.64&quot;/&gt;\n",
       "\t&lt;rect x=&quot;1337.61&quot; y=&quot;2459.86&quot; width=&quot;74.50&quot; height=&quot;29.33&quot; style=&quot;fill:#CAC27E&quot;/&gt;\n",
       "\t&lt;rect x=&quot;1341.93&quot; y=&quot;2464.18&quot; width=&quot;65.86&quot; height=&quot;20.69&quot; style=&quot;fill:none;stroke:#D7D29E;stroke-width:8.64&quot;/&gt;\n",
       "\t&lt;rect x=&quot;1412.11&quot; y=&quot;2434.98&quot; width=&quot;74.50&quot; height=&quot;54.20&quot; style=&quot;fill:#CAC27E&quot;/&gt;\n",
       "\t&lt;rect x=&quot;1416.43&quot; y=&quot;2439.30&quot; width=&quot;65.86&quot; height=&quot;45.56&quot; style=&quot;fill:none;stroke:#D7D29E;stroke-width:8.64&quot;/&gt;\n",
       "\t&lt;rect x=&quot;1486.61&quot; y=&quot;2407.76&quot; width=&quot;74.50&quot; height=&quot;81.43&quot; style=&quot;fill:#CAC27E&quot;/&gt;\n",
       "\t&lt;rect x=&quot;1490.93&quot; y=&quot;2412.08&quot; width=&quot;65.86&quot; height=&quot;72.79&quot; style=&quot;fill:none;stroke:#D7D29E;stroke-width:8.64&quot;/&gt;\n",
       "\t&lt;rect x=&quot;1561.11&quot; y=&quot;2371.62&quot; width=&quot;74.50&quot; height=&quot;117.57&quot; style=&quot;fill:#CAC27E&quot;/&gt;\n",
       "\t&lt;rect x=&quot;1565.43&quot; y=&quot;2375.94&quot; width=&quot;65.86&quot; height=&quot;108.93&quot; style=&quot;fill:none;stroke:#D7D29E;stroke-width:8.64&quot;/&gt;\n",
       "\t&lt;rect x=&quot;1635.60&quot; y=&quot;2341.18&quot; width=&quot;74.50&quot; height=&quot;148.01&quot; style=&quot;fill:#CAC27E&quot;/&gt;\n",
       "\t&lt;rect x=&quot;1639.92&quot; y=&quot;2345.50&quot; width=&quot;65.86&quot; height=&quot;139.37&quot; style=&quot;fill:none;stroke:#D7D29E;stroke-width:8.64&quot;/&gt;\n",
       "\t&lt;rect x=&quot;1710.10&quot; y=&quot;2294.77&quot; width=&quot;74.50&quot; height=&quot;194.42&quot; style=&quot;fill:#CAC27E&quot;/&gt;\n",
       "\t&lt;rect x=&quot;1714.42&quot; y=&quot;2299.09&quot; width=&quot;65.86&quot; height=&quot;185.78&quot; style=&quot;fill:none;stroke:#D7D29E;stroke-width:8.64&quot;/&gt;\n",
       "\t&lt;rect x=&quot;1784.60&quot; y=&quot;2200.96&quot; width=&quot;74.50&quot; height=&quot;288.22&quot; style=&quot;fill:#CAC27E&quot;/&gt;\n",
       "\t&lt;rect x=&quot;1788.92&quot; y=&quot;2205.28&quot; width=&quot;65.86&quot; height=&quot;279.58&quot; style=&quot;fill:none;stroke:#D7D29E;stroke-width:8.64&quot;/&gt;\n",
       "\t&lt;rect x=&quot;1859.10&quot; y=&quot;2064.09&quot; width=&quot;74.37&quot; height=&quot;425.09&quot; style=&quot;fill:#CAC27E&quot;/&gt;\n",
       "\t&lt;rect x=&quot;1863.42&quot; y=&quot;2068.41&quot; width=&quot;65.73&quot; height=&quot;416.45&quot; style=&quot;fill:none;stroke:#D7D29E;stroke-width:8.64&quot;/&gt;\n",
       "\t&lt;rect x=&quot;1933.47&quot; y=&quot;1936.38&quot; width=&quot;74.50&quot; height=&quot;552.81&quot; style=&quot;fill:#CAC27E&quot;/&gt;\n",
       "\t&lt;rect x=&quot;1937.79&quot; y=&quot;1940.70&quot; width=&quot;65.86&quot; height=&quot;544.17&quot; style=&quot;fill:none;stroke:#D7D29E;stroke-width:8.64&quot;/&gt;\n",
       "\t&lt;rect x=&quot;2007.97&quot; y=&quot;1726.12&quot; width=&quot;74.50&quot; height=&quot;763.07&quot; style=&quot;fill:#CAC27E&quot;/&gt;\n",
       "\t&lt;rect x=&quot;2012.29&quot; y=&quot;1730.44&quot; width=&quot;65.86&quot; height=&quot;754.43&quot; style=&quot;fill:none;stroke:#D7D29E;stroke-width:8.64&quot;/&gt;\n",
       "\t&lt;rect x=&quot;2082.47&quot; y=&quot;1475.15&quot; width=&quot;74.50&quot; height=&quot;1014.04&quot; style=&quot;fill:#CAC27E&quot;/&gt;\n",
       "\t&lt;rect x=&quot;2086.78&quot; y=&quot;1479.47&quot; width=&quot;65.86&quot; height=&quot;1005.40&quot; style=&quot;fill:none;stroke:#D7D29E;stroke-width:8.64&quot;/&gt;\n",
       "\t&lt;rect x=&quot;2156.96&quot; y=&quot;1199.30&quot; width=&quot;74.50&quot; height=&quot;1289.89&quot; style=&quot;fill:#CAC27E&quot;/&gt;\n",
       "\t&lt;rect x=&quot;2161.28&quot; y=&quot;1203.62&quot; width=&quot;65.86&quot; height=&quot;1281.25&quot; style=&quot;fill:none;stroke:#D7D29E;stroke-width:8.64&quot;/&gt;\n",
       "\t&lt;rect x=&quot;2231.46&quot; y=&quot;759.60&quot; width=&quot;74.50&quot; height=&quot;1729.58&quot; style=&quot;fill:#CAC27E&quot;/&gt;\n",
       "\t&lt;rect x=&quot;2235.78&quot; y=&quot;763.92&quot; width=&quot;65.86&quot; height=&quot;1720.94&quot; style=&quot;fill:none;stroke:#D7D29E;stroke-width:8.64&quot;/&gt;\n",
       "\t&lt;rect x=&quot;2305.96&quot; y=&quot;496.13&quot; width=&quot;74.50&quot; height=&quot;1993.06&quot; style=&quot;fill:#CAC27E&quot;/&gt;\n",
       "\t&lt;rect x=&quot;2310.28&quot; y=&quot;500.45&quot; width=&quot;65.86&quot; height=&quot;1984.42&quot; style=&quot;fill:none;stroke:#D7D29E;stroke-width:8.64&quot;/&gt;\n",
       "\t&lt;rect x=&quot;2380.45&quot; y=&quot;361.61&quot; width=&quot;74.50&quot; height=&quot;2127.58&quot; style=&quot;fill:#CAC27E&quot;/&gt;\n",
       "\t&lt;rect x=&quot;2384.77&quot; y=&quot;365.93&quot; width=&quot;65.86&quot; height=&quot;2118.94&quot; style=&quot;fill:none;stroke:#D7D29E;stroke-width:8.64&quot;/&gt;\n",
       "\t&lt;rect x=&quot;2454.95&quot; y=&quot;408.02&quot; width=&quot;74.50&quot; height=&quot;2081.17&quot; style=&quot;fill:#CAC27E&quot;/&gt;\n",
       "\t&lt;rect x=&quot;2459.27&quot; y=&quot;412.34&quot; width=&quot;65.86&quot; height=&quot;2072.53&quot; style=&quot;fill:none;stroke:#D7D29E;stroke-width:8.64&quot;/&gt;\n",
       "\t&lt;rect x=&quot;2529.45&quot; y=&quot;475.83&quot; width=&quot;74.50&quot; height=&quot;2013.35&quot; style=&quot;fill:#CAC27E&quot;/&gt;\n",
       "\t&lt;rect x=&quot;2533.77&quot; y=&quot;480.15&quot; width=&quot;65.86&quot; height=&quot;2004.71&quot; style=&quot;fill:none;stroke:#D7D29E;stroke-width:8.64&quot;/&gt;\n",
       "\t&lt;rect x=&quot;2603.95&quot; y=&quot;907.61&quot; width=&quot;74.50&quot; height=&quot;1581.57&quot; style=&quot;fill:#CAC27E&quot;/&gt;\n",
       "\t&lt;rect x=&quot;2608.27&quot; y=&quot;911.93&quot; width=&quot;65.86&quot; height=&quot;1572.93&quot; style=&quot;fill:none;stroke:#D7D29E;stroke-width:8.64&quot;/&gt;\n",
       "\t&lt;rect x=&quot;2678.45&quot; y=&quot;1221.95&quot; width=&quot;74.50&quot; height=&quot;1267.24&quot; style=&quot;fill:#CAC27E&quot;/&gt;\n",
       "\t&lt;rect x=&quot;2682.76&quot; y=&quot;1226.27&quot; width=&quot;65.86&quot; height=&quot;1258.60&quot; style=&quot;fill:none;stroke:#D7D29E;stroke-width:8.64&quot;/&gt;\n",
       "\t&lt;rect x=&quot;2752.94&quot; y=&quot;1589.37&quot; width=&quot;74.50&quot; height=&quot;899.81&quot; style=&quot;fill:#CAC27E&quot;/&gt;\n",
       "\t&lt;rect x=&quot;2757.26&quot; y=&quot;1593.69&quot; width=&quot;65.86&quot; height=&quot;891.17&quot; style=&quot;fill:none;stroke:#D7D29E;stroke-width:8.64&quot;/&gt;\n",
       "\t&lt;rect x=&quot;2827.44&quot; y=&quot;1908.16&quot; width=&quot;74.37&quot; height=&quot;581.02&quot; style=&quot;fill:#CAC27E&quot;/&gt;\n",
       "\t&lt;rect x=&quot;2831.76&quot; y=&quot;1912.48&quot; width=&quot;65.73&quot; height=&quot;572.38&quot; style=&quot;fill:none;stroke:#D7D29E;stroke-width:8.64&quot;/&gt;\n",
       "\t&lt;rect x=&quot;2901.81&quot; y=&quot;2115.08&quot; width=&quot;74.50&quot; height=&quot;374.11&quot; style=&quot;fill:#CAC27E&quot;/&gt;\n",
       "\t&lt;rect x=&quot;2906.13&quot; y=&quot;2119.40&quot; width=&quot;65.86&quot; height=&quot;365.47&quot; style=&quot;fill:none;stroke:#D7D29E;stroke-width:8.64&quot;/&gt;\n",
       "\t&lt;rect x=&quot;2976.31&quot; y=&quot;2254.05&quot; width=&quot;74.50&quot; height=&quot;235.13&quot; style=&quot;fill:#CAC27E&quot;/&gt;\n",
       "\t&lt;rect x=&quot;2980.63&quot; y=&quot;2258.37&quot; width=&quot;65.86&quot; height=&quot;226.49&quot; style=&quot;fill:none;stroke:#D7D29E;stroke-width:8.64&quot;/&gt;\n",
       "\t&lt;rect x=&quot;3050.81&quot; y=&quot;2346.74&quot; width=&quot;74.50&quot; height=&quot;142.44&quot; style=&quot;fill:#CAC27E&quot;/&gt;\n",
       "\t&lt;rect x=&quot;3055.13&quot; y=&quot;2351.06&quot; width=&quot;65.86&quot; height=&quot;133.80&quot; style=&quot;fill:none;stroke:#D7D29E;stroke-width:8.64&quot;/&gt;\n",
       "\t&lt;rect x=&quot;3125.31&quot; y=&quot;2422.48&quot; width=&quot;74.50&quot; height=&quot;66.70&quot; style=&quot;fill:#CAC27E&quot;/&gt;\n",
       "\t&lt;rect x=&quot;3129.63&quot; y=&quot;2426.80&quot; width=&quot;65.86&quot; height=&quot;58.06&quot; style=&quot;fill:none;stroke:#D7D29E;stroke-width:8.64&quot;/&gt;\n",
       "\t&lt;rect x=&quot;3199.80&quot; y=&quot;2449.58&quot; width=&quot;74.50&quot; height=&quot;39.60&quot; style=&quot;fill:#CAC27E&quot;/&gt;\n",
       "\t&lt;rect x=&quot;3204.12&quot; y=&quot;2453.90&quot; width=&quot;65.86&quot; height=&quot;30.96&quot; style=&quot;fill:none;stroke:#D7D29E;stroke-width:8.64&quot;/&gt;\n",
       "\t&lt;rect x=&quot;3274.30&quot; y=&quot;2457.50&quot; width=&quot;74.50&quot; height=&quot;31.68&quot; style=&quot;fill:#CAC27E&quot;/&gt;\n",
       "\t&lt;rect x=&quot;3278.62&quot; y=&quot;2461.82&quot; width=&quot;65.86&quot; height=&quot;23.04&quot; style=&quot;fill:none;stroke:#D7D29E;stroke-width:8.64&quot;/&gt;\n",
       "\t&lt;rect x=&quot;3348.80&quot; y=&quot;2475.70&quot; width=&quot;74.50&quot; height=&quot;13.49&quot; style=&quot;fill:#CAC27E&quot;/&gt;\n",
       "\t&lt;rect x=&quot;3353.12&quot; y=&quot;2480.02&quot; width=&quot;65.86&quot; height=&quot;4.85&quot; style=&quot;fill:none;stroke:#D7D29E;stroke-width:8.64&quot;/&gt;\n",
       "\t&lt;rect x=&quot;3423.30&quot; y=&quot;2477.92&quot; width=&quot;74.50&quot; height=&quot;11.26&quot; style=&quot;fill:#CAC27E&quot;/&gt;\n",
       "\t&lt;rect x=&quot;3427.62&quot; y=&quot;2482.24&quot; width=&quot;65.86&quot; height=&quot;2.62&quot; style=&quot;fill:none;stroke:#D7D29E;stroke-width:8.64&quot;/&gt;\n",
       "\t&lt;rect x=&quot;3497.79&quot; y=&quot;2488.07&quot; width=&quot;74.50&quot; height=&quot;1.11&quot; style=&quot;fill:#CAC27E&quot;/&gt;\n",
       "\t&lt;rect x=&quot;3502.11&quot; y=&quot;2492.39&quot; width=&quot;65.86&quot; height=&quot;-7.53&quot; style=&quot;fill:none;stroke:#D7D29E;stroke-width:8.64&quot;/&gt;\n",
       "\t&lt;rect x=&quot;3572.29&quot; y=&quot;2486.96&quot; width=&quot;74.50&quot; height=&quot;2.23&quot; style=&quot;fill:#CAC27E&quot;/&gt;\n",
       "\t&lt;rect x=&quot;3576.61&quot; y=&quot;2491.28&quot; width=&quot;65.86&quot; height=&quot;-6.41&quot; style=&quot;fill:none;stroke:#D7D29E;stroke-width:8.64&quot;/&gt;\n",
       "\t&lt;rect x=&quot;3646.79&quot; y=&quot;2488.07&quot; width=&quot;74.50&quot; height=&quot;1.11&quot; style=&quot;fill:#CAC27E&quot;/&gt;\n",
       "\t&lt;rect x=&quot;3651.11&quot; y=&quot;2492.39&quot; width=&quot;65.86&quot; height=&quot;-7.53&quot; style=&quot;fill:none;stroke:#D7D29E;stroke-width:8.64&quot;/&gt;\n",
       "\t&lt;rect x=&quot;3721.29&quot; y=&quot;2488.07&quot; width=&quot;74.37&quot; height=&quot;1.11&quot; style=&quot;fill:#CAC27E&quot;/&gt;\n",
       "\t&lt;rect x=&quot;3725.61&quot; y=&quot;2492.39&quot; width=&quot;65.73&quot; height=&quot;-7.53&quot; style=&quot;fill:none;stroke:#D7D29E;stroke-width:8.64&quot;/&gt;\n",
       "\t&lt;line x1=&quot;390.80&quot; y1=&quot;2489.19&quot; x2=&quot;390.80&quot; y2=&quot;100.86&quot; style=&quot;stroke:#000000;stroke-width:5.76&quot;/&gt;\n",
       "\t&lt;line x1=&quot;390.80&quot; y1=&quot;2489.19&quot; x2=&quot;350.83&quot; y2=&quot;2489.19&quot; style=&quot;stroke:#000000;stroke-width:5.76&quot;/&gt;\n",
       "\t&lt;text x=&quot;300.72&quot; y=&quot;2489.19&quot; style=&quot;font-family:&#x27;Helvetica&#x27;;font-size:99.99px;fill:#000000&quot; transform=&quot;rotate(-90 300.72,2489.19)&quot; text-anchor=&quot;middle&quot;&gt;0&lt;/text&gt;\n",
       "\t&lt;line x1=&quot;390.80&quot; y1=&quot;2024.24&quot; x2=&quot;350.83&quot; y2=&quot;2024.24&quot; style=&quot;stroke:#000000;stroke-width:5.76&quot;/&gt;\n",
       "\t&lt;text x=&quot;300.72&quot; y=&quot;2024.24&quot; style=&quot;font-family:&#x27;Helvetica&#x27;;font-size:99.99px;fill:#000000&quot; transform=&quot;rotate(-90 300.72,2024.24)&quot; text-anchor=&quot;middle&quot;&gt;.2&lt;/text&gt;\n",
       "\t&lt;line x1=&quot;390.80&quot; y1=&quot;1559.17&quot; x2=&quot;350.83&quot; y2=&quot;1559.17&quot; style=&quot;stroke:#000000;stroke-width:5.76&quot;/&gt;\n",
       "\t&lt;text x=&quot;300.72&quot; y=&quot;1559.17&quot; style=&quot;font-family:&#x27;Helvetica&#x27;;font-size:99.99px;fill:#000000&quot; transform=&quot;rotate(-90 300.72,1559.17)&quot; text-anchor=&quot;middle&quot;&gt;.4&lt;/text&gt;\n",
       "\t&lt;line x1=&quot;390.80&quot; y1=&quot;1094.23&quot; x2=&quot;350.83&quot; y2=&quot;1094.23&quot; style=&quot;stroke:#000000;stroke-width:5.76&quot;/&gt;\n",
       "\t&lt;text x=&quot;300.72&quot; y=&quot;1094.23&quot; style=&quot;font-family:&#x27;Helvetica&#x27;;font-size:99.99px;fill:#000000&quot; transform=&quot;rotate(-90 300.72,1094.23)&quot; text-anchor=&quot;middle&quot;&gt;.6&lt;/text&gt;\n",
       "\t&lt;line x1=&quot;390.80&quot; y1=&quot;629.16&quot; x2=&quot;350.83&quot; y2=&quot;629.16&quot; style=&quot;stroke:#000000;stroke-width:5.76&quot;/&gt;\n",
       "\t&lt;text x=&quot;300.72&quot; y=&quot;629.16&quot; style=&quot;font-family:&#x27;Helvetica&#x27;;font-size:99.99px;fill:#000000&quot; transform=&quot;rotate(-90 300.72,629.16)&quot; text-anchor=&quot;middle&quot;&gt;.8&lt;/text&gt;\n",
       "\t&lt;line x1=&quot;390.80&quot; y1=&quot;164.22&quot; x2=&quot;350.83&quot; y2=&quot;164.22&quot; style=&quot;stroke:#000000;stroke-width:5.76&quot;/&gt;\n",
       "\t&lt;text x=&quot;300.72&quot; y=&quot;164.22&quot; style=&quot;font-family:&#x27;Helvetica&#x27;;font-size:99.99px;fill:#000000&quot; transform=&quot;rotate(-90 300.72,164.22)&quot; text-anchor=&quot;middle&quot;&gt;1&lt;/text&gt;\n",
       "\t&lt;text x=&quot;190.71&quot; y=&quot;1294.96&quot; style=&quot;font-family:&#x27;Helvetica&#x27;;font-size:99.99px;fill:#000000&quot; transform=&quot;rotate(-90 190.71,1294.96)&quot; text-anchor=&quot;middle&quot;&gt;Density&lt;/text&gt;\n",
       "\t&lt;line x1=&quot;390.80&quot; y1=&quot;2489.19&quot; x2=&quot;3859.02&quot; y2=&quot;2489.19&quot; style=&quot;stroke:#000000;stroke-width:5.76&quot;/&gt;\n",
       "\t&lt;line x1=&quot;454.16&quot; y1=&quot;2489.19&quot; x2=&quot;454.16&quot; y2=&quot;2529.16&quot; style=&quot;stroke:#000000;stroke-width:5.76&quot;/&gt;\n",
       "\t&lt;text x=&quot;454.16&quot; y=&quot;2619.14&quot; style=&quot;font-family:&#x27;Helvetica&#x27;;font-size:99.99px;fill:#000000&quot; text-anchor=&quot;middle&quot;&gt;-3&lt;/text&gt;\n",
       "\t&lt;line x1=&quot;1103.11&quot; y1=&quot;2489.19&quot; x2=&quot;1103.11&quot; y2=&quot;2529.16&quot; style=&quot;stroke:#000000;stroke-width:5.76&quot;/&gt;\n",
       "\t&lt;text x=&quot;1103.11&quot; y=&quot;2619.14&quot; style=&quot;font-family:&#x27;Helvetica&#x27;;font-size:99.99px;fill:#000000&quot; text-anchor=&quot;middle&quot;&gt;-2&lt;/text&gt;\n",
       "\t&lt;line x1=&quot;1752.05&quot; y1=&quot;2489.19&quot; x2=&quot;1752.05&quot; y2=&quot;2529.16&quot; style=&quot;stroke:#000000;stroke-width:5.76&quot;/&gt;\n",
       "\t&lt;text x=&quot;1752.05&quot; y=&quot;2619.14&quot; style=&quot;font-family:&#x27;Helvetica&#x27;;font-size:99.99px;fill:#000000&quot; text-anchor=&quot;middle&quot;&gt;-1&lt;/text&gt;\n",
       "\t&lt;line x1=&quot;2401.12&quot; y1=&quot;2489.19&quot; x2=&quot;2401.12&quot; y2=&quot;2529.16&quot; style=&quot;stroke:#000000;stroke-width:5.76&quot;/&gt;\n",
       "\t&lt;text x=&quot;2401.12&quot; y=&quot;2619.14&quot; style=&quot;font-family:&#x27;Helvetica&#x27;;font-size:99.99px;fill:#000000&quot; text-anchor=&quot;middle&quot;&gt;0&lt;/text&gt;\n",
       "\t&lt;line x1=&quot;3050.07&quot; y1=&quot;2489.19&quot; x2=&quot;3050.07&quot; y2=&quot;2529.16&quot; style=&quot;stroke:#000000;stroke-width:5.76&quot;/&gt;\n",
       "\t&lt;text x=&quot;3050.07&quot; y=&quot;2619.14&quot; style=&quot;font-family:&#x27;Helvetica&#x27;;font-size:99.99px;fill:#000000&quot; text-anchor=&quot;middle&quot;&gt;1&lt;/text&gt;\n",
       "\t&lt;line x1=&quot;3699.01&quot; y1=&quot;2489.19&quot; x2=&quot;3699.01&quot; y2=&quot;2529.16&quot; style=&quot;stroke:#000000;stroke-width:5.76&quot;/&gt;\n",
       "\t&lt;text x=&quot;3699.01&quot; y=&quot;2619.14&quot; style=&quot;font-family:&#x27;Helvetica&#x27;;font-size:99.99px;fill:#000000&quot; text-anchor=&quot;middle&quot;&gt;2&lt;/text&gt;\n",
       "\t&lt;text x=&quot;2124.91&quot; y=&quot;2729.16&quot; style=&quot;font-family:&#x27;Helvetica&#x27;;font-size:99.99px;fill:#000000&quot; text-anchor=&quot;middle&quot;&gt;Residuals&lt;/text&gt;\n",
       "&lt;/svg&gt;\n",
       "</body></html>\"></iframe>\n"
      ],
      "text/plain": [
       "This front-end cannot display the desired image type."
      ]
     },
     "metadata": {
      "image/svg+xml": {
       "height": 436,
       "width": 600
      },
      "text/html": {
       "height": 436,
       "width": 600
      }
     },
     "output_type": "display_data"
    },
    {
     "name": "stdout",
     "output_type": "stream",
     "text": [
      "\n",
      "\n"
     ]
    }
   ],
   "source": [
    "// MR2, \n",
    "\n",
    "qui reg $y $x1\n",
    "hist residuals"
   ]
  },
  {
   "cell_type": "code",
   "execution_count": 16,
   "metadata": {},
   "outputs": [
    {
     "name": "stdout",
     "output_type": "stream",
     "text": [
      "\n",
      "(obs=17,919)\n",
      "\n",
      "             |     educ potexper  ability\n",
      "-------------+---------------------------\n",
      "        educ |   1.0000\n",
      "    potexper |  -0.2187   1.0000\n",
      "     ability |   0.5279  -0.2222   1.0000\n",
      "\n",
      "\n",
      "\n",
      "\n",
      "    Variable |       VIF       1/VIF  \n",
      "-------------+----------------------\n",
      "     ability |      1.41    0.709365\n",
      "        educ |      1.41    0.710501\n",
      "    potexper |      1.07    0.936384\n",
      "-------------+----------------------\n",
      "    Mean VIF |      1.30\n",
      "\n",
      "(obs=17,919)\n",
      "\n",
      "             |     educ potexper  ability mothered fathered siblings\n",
      "-------------+------------------------------------------------------\n",
      "        educ |   1.0000\n",
      "    potexper |  -0.2187   1.0000\n",
      "     ability |   0.5279  -0.2222   1.0000\n",
      "    mothered |   0.3478  -0.1403   0.4501   1.0000\n",
      "    fathered |   0.3736  -0.1472   0.4492   0.6785   1.0000\n",
      "    siblings |  -0.1873   0.1113  -0.2427  -0.3019  -0.2555   1.0000\n",
      "\n",
      "\n",
      "\n",
      "\n",
      "    Variable |       VIF       1/VIF  \n",
      "-------------+----------------------\n",
      "    mothered |      2.00    0.500127\n",
      "    fathered |      1.98    0.505565\n",
      "     ability |      1.63    0.614889\n",
      "        educ |      1.46    0.686681\n",
      "    siblings |      1.12    0.889541\n",
      "    potexper |      1.07    0.933196\n",
      "-------------+----------------------\n",
      "    Mean VIF |      1.54\n"
     ]
    }
   ],
   "source": [
    "// MR5 \n",
    "\n",
    "corr $x1\n",
    "\n",
    "qui reg logwage educ potexper ability\n",
    "estat vif\n",
    "\n",
    "\n",
    "corr $x1 $x2\n",
    "qui reg logwage educ potexper ability mothered fathered siblings\n",
    "estat vif"
   ]
  },
  {
   "cell_type": "code",
   "execution_count": null,
   "metadata": {},
   "outputs": [],
   "source": []
  }
 ],
 "metadata": {
  "kernelspec": {
   "display_name": "Stata",
   "language": "stata",
   "name": "stata"
  },
  "language_info": {
   "codemirror_mode": "stata",
   "file_extension": ".do",
   "mimetype": "text/x-stata",
   "name": "stata",
   "version": "15.1"
  }
 },
 "nbformat": 4,
 "nbformat_minor": 2
}
