{
 "cells": [
  {
   "cell_type": "markdown",
   "metadata": {},
   "source": [
    "# US Gasoline Consumption\n",
    "\n",
    "- Year = Year, 1953-2004,\n",
    "- GasExp = Total U.S. gasoline expenditure,\n",
    "- Pop = U.S. total population in thousands\n",
    "- GasP = Price index for gasoline,\n",
    "- Income = Per capita disposable income,\n",
    "- Pnc = Price index for new cars,\n",
    "- Puc = Price index for used cars,\n",
    "- Ppt = Price index for public transportation,\n",
    "- Pd = Aggregate price index for consumer durables,\n",
    "- Pn = Aggregate price index for consumer nondurables,\n",
    "- Ps = Aggregate price index for consumer services.\n",
    "\n",
    "Note that the consumption\n",
    "data appear as total expenditure. To obtain the per capita quantity variable, divide GASEXP (total U.S.\n",
    "gas expenditure) by GASP (price index for gasoline) times Pop (U.S. population in thousands). The other\n",
    "variables do not need transformation\n"
   ]
  },
  {
   "cell_type": "code",
   "execution_count": null,
   "metadata": {},
   "outputs": [],
   "source": [
    "clear \n",
    "import delimited TableF2-2.csv\n",
    "gen demand = (gasexp*10^9) / (gasp * pop*10^3)\n",
    "\n",
    "list in -10/l"
   ]
  },
  {
   "cell_type": "code",
   "execution_count": null,
   "metadata": {},
   "outputs": [
    {
     "name": "stdout",
     "output_type": "stream",
     "text": [
      ". cap log close stata_kernel_log\n"
     ]
    }
   ],
   "source": [
    "summarize gasp income ppt demand at year == 2004"
   ]
  },
  {
   "cell_type": "markdown",
   "metadata": {},
   "source": [
    "What is the unit here?"
   ]
  },
  {
   "cell_type": "markdown",
   "metadata": {},
   "source": [
    "a. Compute the multiple regression of per capita consumption of gasoline on per capita income, the price of gasoline, all the other prices and a time trend. Report all results. Do the signs of the estimates agree with your expectations?"
   ]
  },
  {
   "cell_type": "code",
   "execution_count": 41,
   "metadata": {},
   "outputs": [
    {
     "name": "stdout",
     "output_type": "stream",
     "text": [
      "\n",
      "      Source |       SS           df       MS      Number of obs   =        52\n",
      "-------------+----------------------------------   F(9, 42)        =    530.82\n",
      "       Model |  56.7083042         9  6.30092268   Prob > F        =    0.0000\n",
      "    Residual |   .49854905        42  .011870215   R-squared       =    0.9913\n",
      "-------------+----------------------------------   Adj R-squared   =    0.9894\n",
      "       Total |  57.2068532        51    1.121703   Root MSE        =    .10895\n",
      "\n",
      "------------------------------------------------------------------------------\n",
      "      demand |      Coef.   Std. Err.      t    P>|t|     [95% Conf. Interval]\n",
      "-------------+----------------------------------------------------------------\n",
      "      income |   .0002157   .0000518     4.17   0.000     .0001113    .0003202\n",
      "        gasp |  -.0110838   .0039781    -2.79   0.008     -.019112   -.0030557\n",
      "         pnc |   .0005774   .0128441     0.04   0.964    -.0253432    .0264979\n",
      "         puc |  -.0058746   .0048703    -1.21   0.234    -.0157033    .0039541\n",
      "         ppt |   .0069073   .0048361     1.43   0.161    -.0028524     .016667\n",
      "          pd |   .0012289   .0118818     0.10   0.918    -.0227495    .0252072\n",
      "          pn |   .0126905    .012598     1.01   0.320    -.0127333    .0381142\n",
      "          ps |  -.0280278   .0079962    -3.51   0.001    -.0441649   -.0118907\n",
      "        year |   .0725037   .0141828     5.11   0.000     .0438816    .1011257\n",
      "       _cons |  -140.4213   27.19985    -5.16   0.000    -195.3128    -85.5298\n",
      "------------------------------------------------------------------------------\n"
     ]
    }
   ],
   "source": [
    "regress demand income gasp pnc puc ppt pd pn ps year"
   ]
  },
  {
   "cell_type": "markdown",
   "metadata": {},
   "source": [
    "b. Test the hypothesis that at least in regard to demand for gasoline, consumers do not differentiate between changes in the prices of new and used cars."
   ]
  },
  {
   "cell_type": "code",
   "execution_count": 20,
   "metadata": {},
   "outputs": [
    {
     "name": "stdout",
     "output_type": "stream",
     "text": [
      "\n",
      "      Source |       SS           df       MS      Number of obs   =        52\n",
      "-------------+----------------------------------   F(2, 49)        =     58.73\n",
      "       Model |  40368127.6         2  20184063.8   Prob > F        =    0.0000\n",
      "    Residual |  16838724.5        49  343647.439   R-squared       =    0.7057\n",
      "-------------+----------------------------------   Adj R-squared   =    0.6936\n",
      "       Total |  57206852.1        51  1121702.98   Root MSE        =    586.21\n",
      "\n",
      "------------------------------------------------------------------------------\n",
      "     pc_quan |      Coef.   Std. Err.      t    P>|t|     [95% Conf. Interval]\n",
      "-------------+----------------------------------------------------------------\n",
      "         pnc |   27.15278   20.02633     1.36   0.181    -13.09165     67.3972\n",
      "         puc |  -2.313872   14.54379    -0.16   0.874    -31.54071    26.91297\n",
      "       _cons |   2737.943   646.5179     4.23   0.000     1438.716    4037.169\n",
      "------------------------------------------------------------------------------\n"
     ]
    }
   ],
   "source": [
    "regress pc_quan pnc puc // comparing price difference"
   ]
  },
  {
   "cell_type": "code",
   "execution_count": 23,
   "metadata": {},
   "outputs": [
    {
     "name": "stdout",
     "output_type": "stream",
     "text": [
      "(obs=52)\n",
      "\n",
      "             |      pnc      puc\n",
      "-------------+------------------\n",
      "         pnc |  1375.48\n",
      "         puc |  1882.38  2607.96\n",
      "\n"
     ]
    }
   ],
   "source": [
    "corr pnc puc, cov"
   ]
  },
  {
   "cell_type": "code",
   "execution_count": 5,
   "metadata": {},
   "outputs": [
    {
     "name": "stdout",
     "output_type": "stream",
     "text": [
      "variable quantity not found\n"
     ]
    },
    {
     "name": "stderr",
     "output_type": "stream",
     "text": [
      "r(111);\n"
     ]
    },
    {
     "name": "stdout",
     "output_type": "stream",
     "text": [
      "\n"
     ]
    }
   ],
   "source": [
    "regress demand income gasp pnc puc ppt pd pn ps year"
   ]
  },
  {
   "cell_type": "markdown",
   "metadata": {},
   "source": [
    "c. Estimate the own price elasticity of demand, the income elasticity, and the cross-price elasticity with respect to changes in the price of public transportation. Do the computations at the 2004 point in the data.\n",
    "- The price elasticity of demand  of gasoline is \n",
    "- The income elasticity is\n",
    "- The cross-price elasticity with respect to changes in price of public transportation\n"
   ]
  },
  {
   "cell_type": "code",
   "execution_count": 42,
   "metadata": {},
   "outputs": [
    {
     "name": "stdout",
     "output_type": "stream",
     "text": [
      "\n",
      "Average marginal effects                        Number of obs     =          1\n",
      "Model VCE    : OLS\n",
      "\n",
      "Expression   : Linear prediction, predict()\n",
      "ey/ex w.r.t. : income gasp ppt\n",
      "\n",
      "------------------------------------------------------------------------------\n",
      "             |            Delta-method\n",
      "             |      ey/ex   Std. Err.      t    P>|t|     [95% Conf. Interval]\n",
      "-------------+----------------------------------------------------------------\n",
      "      income |   .9476599   .2262966     4.19   0.000     .4909749    1.404345\n",
      "        gasp |  -.2224796   .0809311    -2.75   0.009    -.3858053    -.059154\n",
      "         ppt |   .2339837   .1644132     1.42   0.162    -.0978155     .565783\n",
      "------------------------------------------------------------------------------\n"
     ]
    }
   ],
   "source": [
    "margins if year == 2004, eyex(gasp income ppt)"
   ]
  },
  {
   "cell_type": "markdown",
   "metadata": {},
   "source": [
    "d. Reestimate the regression in logarithms so that the coefficients are direct estimates of the elasticities. (Do not use the log of the time trend). How do your estimates compare with the results in the previous question? Which specification do you prefer?"
   ]
  },
  {
   "cell_type": "code",
   "execution_count": null,
   "metadata": {},
   "outputs": [],
   "source": [
    "gen lpc_quan = log(pc_quan)\n",
    "gen lgasp = log(gasp)\n",
    "gen lincome = log(income)\n",
    "gen lpnc = log(pnc)\n",
    "gen lpuc = log(puc)\n",
    "gen lppt = log(ppt)\n",
    "gen lpd = log(pd)\n",
    "gen lpn = log(pn)\n",
    "gen lps = log(ps)"
   ]
  },
  {
   "cell_type": "code",
   "execution_count": null,
   "metadata": {},
   "outputs": [],
   "source": [
    "regress lpc_quan lincome lgasp lpnc lpuc lppt lpd lpn lps year"
   ]
  },
  {
   "cell_type": "code",
   "execution_count": null,
   "metadata": {},
   "outputs": [],
   "source": [
    "ovtest\n",
    "quietly regress pc_quan income gasp pnc puc ppt pd pn ps year\n",
    "ovtest "
   ]
  },
  {
   "cell_type": "markdown",
   "metadata": {},
   "source": [
    "e. Compute the simple correlations of the price variables. Would you conclude that multicollinearity is a \"problem\" for the regression in part a or part d?"
   ]
  },
  {
   "cell_type": "code",
   "execution_count": null,
   "metadata": {},
   "outputs": [],
   "source": [
    "regress lpc_quan lincome lgasp lpnc lpuc lppt lpd lpn lps year\n",
    "vif"
   ]
  },
  {
   "cell_type": "code",
   "execution_count": null,
   "metadata": {},
   "outputs": [],
   "source": [
    "quietly regress pc_quan income gasp pnc puc ppt pd pn ps year\n",
    "vif "
   ]
  },
  {
   "cell_type": "code",
   "execution_count": null,
   "metadata": {},
   "outputs": [],
   "source": [
    "pwcorr gasp pnc puc ppt pd pn ps"
   ]
  },
  {
   "cell_type": "markdown",
   "metadata": {},
   "source": [
    "f. Notice that the price index for gasoline is normalized to 100 in 2000, whereas the other price indices are anchored at 1983 (roughly). If you were to renormalize the indices so that they were all 100.00 in 2004, then how would the results of the regression in part a change? How would the results of the regression in part d change?\n"
   ]
  },
  {
   "cell_type": "code",
   "execution_count": null,
   "metadata": {},
   "outputs": [],
   "source": [
    "generate new_gasp = (gasp - 23.901)\n",
    "generate new_income = (income - 27013)\n",
    "generate new_pnc  = (pnc - 33.9)\n",
    "generate new_puc = (puc - 33.3)\n",
    "generate new_ppt = (ppt - 109.1)\n",
    "generate new_pd = (pd - 14.8)\n",
    "generate new_pn = (pn - 55)\n",
    "generate new_ps = (ps - 122.8)"
   ]
  },
  {
   "cell_type": "code",
   "execution_count": null,
   "metadata": {},
   "outputs": [],
   "source": [
    "regress quantity new_gasp new_income new_pnc new_puc new_ppt new_pd new_pn new_ps year"
   ]
  },
  {
   "cell_type": "code",
   "execution_count": null,
   "metadata": {},
   "outputs": [],
   "source": [
    "gen gasp_nor = (gasp * 100) / gasp[52]\n",
    "gen pnc_nor = (pnc * 100) / pnc[52]\n",
    "gen puc_nor = (puc * 100) / puc[52]\n",
    "gen ppt_nor = (ppt * 100) / ppt[52]\n",
    "gen pd_nor = (pd * 100) / pd[52]\n",
    "gen pn_nor = (pn * 100) / pn[52]\n",
    "gen ps_nor = (ps * 100) / ps[52]"
   ]
  },
  {
   "cell_type": "code",
   "execution_count": null,
   "metadata": {},
   "outputs": [],
   "source": [
    "regress pc_quan income gasp_nor pnc_nor puc_nor ppt_nor pd_nor pn_nor ps_nor year"
   ]
  },
  {
   "cell_type": "code",
   "execution_count": null,
   "metadata": {},
   "outputs": [],
   "source": [
    "gen lgasp_nor = log(gasp_nor)\n",
    "gen lpnc_nor = log(pnc_nor)\n",
    "gen lpuc_nor = log(puc_nor)\n",
    "gen lppt_nor = log(ppt_nor)\n",
    "gen lpd_nor = log(pd_nor)\n",
    "gen lpn_nor = log(pn_nor)\n",
    "gen lps_nor = log(ps_nor)"
   ]
  },
  {
   "cell_type": "code",
   "execution_count": null,
   "metadata": {},
   "outputs": [],
   "source": [
    "regress lpc_quan lincome lgasp_nor lpnc_nor lpuc_nor lppt_nor lpd_nor lpn_nor lps_nor year"
   ]
  },
  {
   "cell_type": "code",
   "execution_count": null,
   "metadata": {},
   "outputs": [],
   "source": []
  }
 ],
 "metadata": {
  "kernelspec": {
   "display_name": "Stata",
   "language": "stata",
   "name": "stata"
  },
  "language_info": {
   "codemirror_mode": "stata",
   "file_extension": ".do",
   "mimetype": "text/x-stata",
   "name": "stata",
   "version": "15.1"
  }
 },
 "nbformat": 4,
 "nbformat_minor": 2
}
