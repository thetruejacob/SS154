{
 "cells": [
  {
   "cell_type": "markdown",
   "metadata": {},
   "source": [
    "# US Gasoline Consumption\n",
    "\n",
    "- Year = Year, 1953-2004,\n",
    "- GasExp = Total U.S. gasoline expenditure,\n",
    "- Pop = U.S. total population in thousands\n",
    "- GasP = Price index for gasoline,\n",
    "- Income = Per capita disposable income,\n",
    "- Pnc = Price index for new cars,\n",
    "- Puc = Price index for used cars,\n",
    "- Ppt = Price index for public transportation,\n",
    "- Pd = Aggregate price index for consumer durables,\n",
    "- Pn = Aggregate price index for consumer nondurables,\n",
    "- Ps = Aggregate price index for consumer services.\n",
    "\n",
    "Note that the consumption\n",
    "data appear as total expenditure. To obtain the per capita quantity variable, divide GASEXP (total U.S.\n",
    "gas expenditure) by GASP (price index for gasoline) times Pop (U.S. population in thousands). The other\n",
    "variables do not need transformation\n"
   ]
  },
  {
   "cell_type": "code",
   "execution_count": 1,
   "metadata": {},
   "outputs": [
    {
     "name": "stdout",
     "output_type": "stream",
     "text": [
      "\n",
      "\n",
      "(11 vars, 52 obs)\n",
      "\n",
      "\n",
      "\n",
      "     +------------------------------------------------------------------------------------------------------+\n",
      "     | year   gasexp      pop      gasp   income     pnc     puc     ppt      pd      pn      ps   quantity |\n",
      "     |------------------------------------------------------------------------------------------------------|\n",
      " 43. | 1995    120.2   266588    77.826    22100     139   156.5   175.9     128   139.3   168.7   411737.4 |\n",
      " 44. | 1996    130.4   269714    82.596    22506   141.4     157   181.9   129.4   143.5   174.1   425816.1 |\n",
      " 45. | 1997    134.4   272958    82.579    22944   141.7   151.1   186.7   128.7   146.4   179.4     444248 |\n",
      " 46. | 1998    122.4   276154    71.874    24079   140.7   150.6   190.3   127.6   146.9   184.2   470284.8 |\n",
      " 47. | 1999    137.9   279328    78.207    24464   139.6     152   197.7     126   151.2   188.8   492530.4 |\n",
      "     |------------------------------------------------------------------------------------------------------|\n",
      " 48. | 2000    175.7   282429       100    25380   139.6   155.8   209.6   125.4   158.2   195.3   496227.8 |\n",
      " 49. | 2001    171.6   285366    96.289    25449   138.9   158.7   210.6   124.6   160.6   203.4   508560.8 |\n",
      " 50. | 2002    163.4   288217    90.405    26352   137.3     152   207.4   121.4   161.1   209.8   520929.8 |\n",
      " 51. | 2003    191.3   291073   105.154    26437   134.7   142.9   209.3   117.5   165.3   216.5   529530.6 |\n",
      " 52. | 2004    224.5   293951   123.901    27113   133.9   133.3   209.1   114.8   172.2   222.8   532618.8 |\n",
      "     +------------------------------------------------------------------------------------------------------+\n"
     ]
    }
   ],
   "source": [
    "clear \n",
    "import delimited TableF2-2.csv\n",
    "gen quantity = gasexp/gasp*pop\n",
    "list in -10/l"
   ]
  },
  {
   "cell_type": "code",
   "execution_count": null,
   "metadata": {},
   "outputs": [],
   "source": [
    "summarize"
   ]
  },
  {
   "cell_type": "markdown",
   "metadata": {},
   "source": [
    "What is the unit here?"
   ]
  },
  {
   "cell_type": "markdown",
   "metadata": {},
   "source": [
    "a. Compute the multiple regression of per capita consumption of gasoline on per capita income, the\n",
    "price of gasoline, all the other prices and a time trend. Report all results. Do the signs of the estimates\n",
    "agree with your expectations?"
   ]
  },
  {
   "cell_type": "code",
   "execution_count": 3,
   "metadata": {},
   "outputs": [
    {
     "name": "stdout",
     "output_type": "stream",
     "text": [
      "\n",
      "      Source |       SS           df       MS      Number of obs   =        52\n",
      "-------------+----------------------------------   F(2, 49)        =   2165.29\n",
      "       Model |  9.4101e+11         2  4.7050e+11   Prob > F        =    0.0000\n",
      "    Residual |  1.0647e+10        49   217293635   R-squared       =    0.9888\n",
      "-------------+----------------------------------   Adj R-squared   =    0.9884\n",
      "       Total |  9.5165e+11        51  1.8660e+10   Root MSE        =     14741\n",
      "\n",
      "------------------------------------------------------------------------------\n",
      "    quantity |      Coef.   Std. Err.      t    P>|t|     [95% Conf. Interval]\n",
      "-------------+----------------------------------------------------------------\n",
      "      income |    27.1911   1.041519    26.11   0.000     25.09809    29.28411\n",
      "        gasp |  -529.7874   187.5779    -2.82   0.007    -906.7394   -152.8354\n",
      "       _cons |    -155502   9399.855   -16.54   0.000    -174391.7   -136612.3\n",
      "------------------------------------------------------------------------------\n"
     ]
    }
   ],
   "source": [
    "* Per capita consumption\n",
    "\n",
    "* regress quantity income gasp\n",
    "\n",
    "regress quantity income gasp pnc puc ppt pd pn ps year"
   ]
  },
  {
   "cell_type": "code",
   "execution_count": 4,
   "metadata": {},
   "outputs": [
    {
     "name": "stdout",
     "output_type": "stream",
     "text": [
      "\n",
      "        time variable:  year, 1953 to 2004\n",
      "                delta:  1 unit\n",
      "\n",
      "\n",
      "      Source |       SS           df       MS      Number of obs   =        52\n",
      "-------------+----------------------------------   F(0, 51)        =      0.00\n",
      "       Model |           0         0           .   Prob > F        =         .\n",
      "    Residual |  1.5721e+09        51  30824988.5   R-squared       =    0.0000\n",
      "-------------+----------------------------------   Adj R-squared   =    0.0000\n",
      "       Total |  1.5721e+09        51  30824988.5   Root MSE        =      5552\n",
      "\n",
      "------------------------------------------------------------------------------\n",
      "      income |      Coef.   Std. Err.      t    P>|t|     [95% Conf. Interval]\n",
      "-------------+----------------------------------------------------------------\n",
      "       _cons |   16805.06   769.9274    21.83   0.000     15259.36    18350.75\n",
      "------------------------------------------------------------------------------\n"
     ]
    },
    {
     "data": {
      "application/pdf": "[encoded data removed]",
      "image/svg+xml": [
       "<?xml version=\"1.0\" encoding=\"UTF-8\" standalone=\"no\"?>\n",
       "<!-- This is a Stata 16.0 generated SVG file (http://www.stata.com) -->\n",
       "\n",
       "<svg version=\"1.1\" width=\"600px\" height=\"436px\" viewBox=\"0 0 3960 2880\" xmlns=\"http://www.w3.org/2000/svg\" xmlns:xlink=\"http://www.w3.org/1999/xlink\">\n",
       "\t<desc>Stata Graph - Graph</desc>\n",
       "\t<rect x=\"0\" y=\"0\" width=\"3960\" height=\"2880\" style=\"fill:#EAF2F3;stroke:none\"/>\n",
       "\t<rect x=\"0.00\" y=\"0.00\" width=\"3959.88\" height=\"2880.00\" style=\"fill:#EAF2F3\"/>\n",
       "\t<rect x=\"2.88\" y=\"2.88\" width=\"3954.12\" height=\"2874.24\" style=\"fill:none;stroke:#EAF2F3;stroke-width:5.76\"/>\n",
       "\t<rect x=\"390.80\" y=\"100.86\" width=\"3468.22\" height=\"2388.33\" style=\"fill:#FFFFFF\"/>\n",
       "\t<rect x=\"393.68\" y=\"103.74\" width=\"3462.46\" height=\"2382.57\" style=\"fill:none;stroke:#FFFFFF;stroke-width:5.76\"/>\n",
       "\t<line x1=\"390.80\" y1=\"2286.35\" x2=\"3859.02\" y2=\"2286.35\" style=\"stroke:#EAF2F3;stroke-width:8.64\"/>\n",
       "\t<line x1=\"390.80\" y1=\"1755.82\" x2=\"3859.02\" y2=\"1755.82\" style=\"stroke:#EAF2F3;stroke-width:8.64\"/>\n",
       "\t<line x1=\"390.80\" y1=\"1225.29\" x2=\"3859.02\" y2=\"1225.29\" style=\"stroke:#EAF2F3;stroke-width:8.64\"/>\n",
       "\t<line x1=\"390.80\" y1=\"694.75\" x2=\"3859.02\" y2=\"694.75\" style=\"stroke:#EAF2F3;stroke-width:8.64\"/>\n",
       "\t<line x1=\"390.80\" y1=\"164.22\" x2=\"3859.02\" y2=\"164.22\" style=\"stroke:#EAF2F3;stroke-width:8.64\"/>\n",
       "\t<path d=\" M639.66 2404.91 L701.66 2425.95 L763.54 2377.93 L825.41 2346.25 L887.29 2335.85 L949.16 2356.15 L1011.04 2314.20 L1072.91 2310.73 L1134.79 2303.06 L1196.66 2262.34 L1258.54 2244.15 L1320.41 2174.85 L1382.29 2134.63 L1444.16 2076.22 L1506.04 2029.81 L1567.91 1975.24 L1629.79 1961.75 L1691.66 1907.91 L1753.54 1861.13 L1815.41 1833.29 L1877.29 1723.03 L1939.29 1748.02 L2001.16 1696.91 L2063.04 1682.31 L2124.91 1650.63 L2186.79 1578.23 L2248.66 1560.29 L2310.54 1574.27 L2372.41 1538.76 L2434.29 1498.16 L2496.16 1473.66 L2558.04 1339.64 L2619.91 1265.38 L2681.79 1231.23 L2743.66 1246.33 L2805.54 1152.89 L2867.41 1114.16 L2929.29 1079.01 L2991.16 1105.49 L3053.04 1065.64 L3114.91 1064.53 L3176.79 1034.58 L3238.78 1002.53 L3300.66 959.34 L3362.53 912.93 L3424.41 792.52 L3486.28 751.68 L3548.16 654.41 L3610.03 647.11 L3671.91 551.32 L3733.78 542.29 L3795.66 470.51\" stroke-linejoin=\"round\" style=\"fill:none;stroke:#1A476F;stroke-width:8.64\"/>\n",
       "\t<line x1=\"390.80\" y1=\"2489.19\" x2=\"390.80\" y2=\"100.86\" style=\"stroke:#000000;stroke-width:5.76\"/>\n",
       "\t<line x1=\"390.80\" y1=\"2286.35\" x2=\"350.83\" y2=\"2286.35\" style=\"stroke:#000000;stroke-width:5.76\"/>\n",
       "\t<text x=\"300.72\" y=\"2286.35\" style=\"font-family:'Helvetica';font-size:99.99px;fill:#000000\" transform=\"rotate(-90 300.72,2286.35)\" text-anchor=\"middle\">10000</text>\n",
       "\t<line x1=\"390.80\" y1=\"1755.82\" x2=\"350.83\" y2=\"1755.82\" style=\"stroke:#000000;stroke-width:5.76\"/>\n",
       "\t<text x=\"300.72\" y=\"1755.82\" style=\"font-family:'Helvetica';font-size:99.99px;fill:#000000\" transform=\"rotate(-90 300.72,1755.82)\" text-anchor=\"middle\">15000</text>\n",
       "\t<line x1=\"390.80\" y1=\"1225.29\" x2=\"350.83\" y2=\"1225.29\" style=\"stroke:#000000;stroke-width:5.76\"/>\n",
       "\t<text x=\"300.72\" y=\"1225.29\" style=\"font-family:'Helvetica';font-size:99.99px;fill:#000000\" transform=\"rotate(-90 300.72,1225.29)\" text-anchor=\"middle\">20000</text>\n",
       "\t<line x1=\"390.80\" y1=\"694.75\" x2=\"350.83\" y2=\"694.75\" style=\"stroke:#000000;stroke-width:5.76\"/>\n",
       "\t<text x=\"300.72\" y=\"694.75\" style=\"font-family:'Helvetica';font-size:99.99px;fill:#000000\" transform=\"rotate(-90 300.72,694.75)\" text-anchor=\"middle\">25000</text>\n",
       "\t<line x1=\"390.80\" y1=\"164.22\" x2=\"350.83\" y2=\"164.22\" style=\"stroke:#000000;stroke-width:5.76\"/>\n",
       "\t<text x=\"300.72\" y=\"164.22\" style=\"font-family:'Helvetica';font-size:99.99px;fill:#000000\" transform=\"rotate(-90 300.72,164.22)\" text-anchor=\"middle\">30000</text>\n",
       "\t<text x=\"190.71\" y=\"1294.96\" style=\"font-family:'Helvetica';font-size:99.99px;fill:#000000\" transform=\"rotate(-90 190.71,1294.96)\" text-anchor=\"middle\">INCOME</text>\n",
       "\t<line x1=\"390.80\" y1=\"2489.19\" x2=\"3859.02\" y2=\"2489.19\" style=\"stroke:#000000;stroke-width:5.76\"/>\n",
       "\t<line x1=\"454.16\" y1=\"2489.19\" x2=\"454.16\" y2=\"2529.16\" style=\"stroke:#000000;stroke-width:5.76\"/>\n",
       "\t<text x=\"454.16\" y=\"2619.14\" style=\"font-family:'Helvetica';font-size:99.99px;fill:#000000\" text-anchor=\"middle\">1950</text>\n",
       "\t<line x1=\"1072.91\" y1=\"2489.19\" x2=\"1072.91\" y2=\"2529.16\" style=\"stroke:#000000;stroke-width:5.76\"/>\n",
       "\t<text x=\"1072.91\" y=\"2619.14\" style=\"font-family:'Helvetica';font-size:99.99px;fill:#000000\" text-anchor=\"middle\">1960</text>\n",
       "\t<line x1=\"1691.79\" y1=\"2489.19\" x2=\"1691.79\" y2=\"2529.16\" style=\"stroke:#000000;stroke-width:5.76\"/>\n",
       "\t<text x=\"1691.79\" y=\"2619.14\" style=\"font-family:'Helvetica';font-size:99.99px;fill:#000000\" text-anchor=\"middle\">1970</text>\n",
       "\t<line x1=\"2310.54\" y1=\"2489.19\" x2=\"2310.54\" y2=\"2529.16\" style=\"stroke:#000000;stroke-width:5.76\"/>\n",
       "\t<text x=\"2310.54\" y=\"2619.14\" style=\"font-family:'Helvetica';font-size:99.99px;fill:#000000\" text-anchor=\"middle\">1980</text>\n",
       "\t<line x1=\"2929.41\" y1=\"2489.19\" x2=\"2929.41\" y2=\"2529.16\" style=\"stroke:#000000;stroke-width:5.76\"/>\n",
       "\t<text x=\"2929.41\" y=\"2619.14\" style=\"font-family:'Helvetica';font-size:99.99px;fill:#000000\" text-anchor=\"middle\">1990</text>\n",
       "\t<line x1=\"3548.16\" y1=\"2489.19\" x2=\"3548.16\" y2=\"2529.16\" style=\"stroke:#000000;stroke-width:5.76\"/>\n",
       "\t<text x=\"3548.16\" y=\"2619.14\" style=\"font-family:'Helvetica';font-size:99.99px;fill:#000000\" text-anchor=\"middle\">2000</text>\n",
       "\t<text x=\"2124.91\" y=\"2729.16\" style=\"font-family:'Helvetica';font-size:99.99px;fill:#000000\" text-anchor=\"middle\">YEAR</text>\n",
       "</svg>\n"
      ],
      "text/html": [
       "                <iframe frameborder=\"0\" scrolling=\"no\" height=\"436\" width=\"600\"                srcdoc=\"<html><body>&lt;?xml version=&quot;1.0&quot; encoding=&quot;UTF-8&quot; standalone=&quot;no&quot;?&gt;\n",
       "&lt;!-- This is a Stata 16.0 generated SVG file (http://www.stata.com) --&gt;\n",
       "\n",
       "&lt;svg version=&quot;1.1&quot; width=&quot;600px&quot; height=&quot;436px&quot; viewBox=&quot;0 0 3960 2880&quot; xmlns=&quot;http://www.w3.org/2000/svg&quot; xmlns:xlink=&quot;http://www.w3.org/1999/xlink&quot;&gt;\n",
       "\t&lt;desc&gt;Stata Graph - Graph&lt;/desc&gt;\n",
       "\t&lt;rect x=&quot;0&quot; y=&quot;0&quot; width=&quot;3960&quot; height=&quot;2880&quot; style=&quot;fill:#EAF2F3;stroke:none&quot;/&gt;\n",
       "\t&lt;rect x=&quot;0.00&quot; y=&quot;0.00&quot; width=&quot;3959.88&quot; height=&quot;2880.00&quot; style=&quot;fill:#EAF2F3&quot;/&gt;\n",
       "\t&lt;rect x=&quot;2.88&quot; y=&quot;2.88&quot; width=&quot;3954.12&quot; height=&quot;2874.24&quot; style=&quot;fill:none;stroke:#EAF2F3;stroke-width:5.76&quot;/&gt;\n",
       "\t&lt;rect x=&quot;390.80&quot; y=&quot;100.86&quot; width=&quot;3468.22&quot; height=&quot;2388.33&quot; style=&quot;fill:#FFFFFF&quot;/&gt;\n",
       "\t&lt;rect x=&quot;393.68&quot; y=&quot;103.74&quot; width=&quot;3462.46&quot; height=&quot;2382.57&quot; style=&quot;fill:none;stroke:#FFFFFF;stroke-width:5.76&quot;/&gt;\n",
       "\t&lt;line x1=&quot;390.80&quot; y1=&quot;2286.35&quot; x2=&quot;3859.02&quot; y2=&quot;2286.35&quot; style=&quot;stroke:#EAF2F3;stroke-width:8.64&quot;/&gt;\n",
       "\t&lt;line x1=&quot;390.80&quot; y1=&quot;1755.82&quot; x2=&quot;3859.02&quot; y2=&quot;1755.82&quot; style=&quot;stroke:#EAF2F3;stroke-width:8.64&quot;/&gt;\n",
       "\t&lt;line x1=&quot;390.80&quot; y1=&quot;1225.29&quot; x2=&quot;3859.02&quot; y2=&quot;1225.29&quot; style=&quot;stroke:#EAF2F3;stroke-width:8.64&quot;/&gt;\n",
       "\t&lt;line x1=&quot;390.80&quot; y1=&quot;694.75&quot; x2=&quot;3859.02&quot; y2=&quot;694.75&quot; style=&quot;stroke:#EAF2F3;stroke-width:8.64&quot;/&gt;\n",
       "\t&lt;line x1=&quot;390.80&quot; y1=&quot;164.22&quot; x2=&quot;3859.02&quot; y2=&quot;164.22&quot; style=&quot;stroke:#EAF2F3;stroke-width:8.64&quot;/&gt;\n",
       "\t&lt;path d=&quot; M639.66 2404.91 L701.66 2425.95 L763.54 2377.93 L825.41 2346.25 L887.29 2335.85 L949.16 2356.15 L1011.04 2314.20 L1072.91 2310.73 L1134.79 2303.06 L1196.66 2262.34 L1258.54 2244.15 L1320.41 2174.85 L1382.29 2134.63 L1444.16 2076.22 L1506.04 2029.81 L1567.91 1975.24 L1629.79 1961.75 L1691.66 1907.91 L1753.54 1861.13 L1815.41 1833.29 L1877.29 1723.03 L1939.29 1748.02 L2001.16 1696.91 L2063.04 1682.31 L2124.91 1650.63 L2186.79 1578.23 L2248.66 1560.29 L2310.54 1574.27 L2372.41 1538.76 L2434.29 1498.16 L2496.16 1473.66 L2558.04 1339.64 L2619.91 1265.38 L2681.79 1231.23 L2743.66 1246.33 L2805.54 1152.89 L2867.41 1114.16 L2929.29 1079.01 L2991.16 1105.49 L3053.04 1065.64 L3114.91 1064.53 L3176.79 1034.58 L3238.78 1002.53 L3300.66 959.34 L3362.53 912.93 L3424.41 792.52 L3486.28 751.68 L3548.16 654.41 L3610.03 647.11 L3671.91 551.32 L3733.78 542.29 L3795.66 470.51&quot; stroke-linejoin=&quot;round&quot; style=&quot;fill:none;stroke:#1A476F;stroke-width:8.64&quot;/&gt;\n",
       "\t&lt;line x1=&quot;390.80&quot; y1=&quot;2489.19&quot; x2=&quot;390.80&quot; y2=&quot;100.86&quot; style=&quot;stroke:#000000;stroke-width:5.76&quot;/&gt;\n",
       "\t&lt;line x1=&quot;390.80&quot; y1=&quot;2286.35&quot; x2=&quot;350.83&quot; y2=&quot;2286.35&quot; style=&quot;stroke:#000000;stroke-width:5.76&quot;/&gt;\n",
       "\t&lt;text x=&quot;300.72&quot; y=&quot;2286.35&quot; style=&quot;font-family:&#x27;Helvetica&#x27;;font-size:99.99px;fill:#000000&quot; transform=&quot;rotate(-90 300.72,2286.35)&quot; text-anchor=&quot;middle&quot;&gt;10000&lt;/text&gt;\n",
       "\t&lt;line x1=&quot;390.80&quot; y1=&quot;1755.82&quot; x2=&quot;350.83&quot; y2=&quot;1755.82&quot; style=&quot;stroke:#000000;stroke-width:5.76&quot;/&gt;\n",
       "\t&lt;text x=&quot;300.72&quot; y=&quot;1755.82&quot; style=&quot;font-family:&#x27;Helvetica&#x27;;font-size:99.99px;fill:#000000&quot; transform=&quot;rotate(-90 300.72,1755.82)&quot; text-anchor=&quot;middle&quot;&gt;15000&lt;/text&gt;\n",
       "\t&lt;line x1=&quot;390.80&quot; y1=&quot;1225.29&quot; x2=&quot;350.83&quot; y2=&quot;1225.29&quot; style=&quot;stroke:#000000;stroke-width:5.76&quot;/&gt;\n",
       "\t&lt;text x=&quot;300.72&quot; y=&quot;1225.29&quot; style=&quot;font-family:&#x27;Helvetica&#x27;;font-size:99.99px;fill:#000000&quot; transform=&quot;rotate(-90 300.72,1225.29)&quot; text-anchor=&quot;middle&quot;&gt;20000&lt;/text&gt;\n",
       "\t&lt;line x1=&quot;390.80&quot; y1=&quot;694.75&quot; x2=&quot;350.83&quot; y2=&quot;694.75&quot; style=&quot;stroke:#000000;stroke-width:5.76&quot;/&gt;\n",
       "\t&lt;text x=&quot;300.72&quot; y=&quot;694.75&quot; style=&quot;font-family:&#x27;Helvetica&#x27;;font-size:99.99px;fill:#000000&quot; transform=&quot;rotate(-90 300.72,694.75)&quot; text-anchor=&quot;middle&quot;&gt;25000&lt;/text&gt;\n",
       "\t&lt;line x1=&quot;390.80&quot; y1=&quot;164.22&quot; x2=&quot;350.83&quot; y2=&quot;164.22&quot; style=&quot;stroke:#000000;stroke-width:5.76&quot;/&gt;\n",
       "\t&lt;text x=&quot;300.72&quot; y=&quot;164.22&quot; style=&quot;font-family:&#x27;Helvetica&#x27;;font-size:99.99px;fill:#000000&quot; transform=&quot;rotate(-90 300.72,164.22)&quot; text-anchor=&quot;middle&quot;&gt;30000&lt;/text&gt;\n",
       "\t&lt;text x=&quot;190.71&quot; y=&quot;1294.96&quot; style=&quot;font-family:&#x27;Helvetica&#x27;;font-size:99.99px;fill:#000000&quot; transform=&quot;rotate(-90 190.71,1294.96)&quot; text-anchor=&quot;middle&quot;&gt;INCOME&lt;/text&gt;\n",
       "\t&lt;line x1=&quot;390.80&quot; y1=&quot;2489.19&quot; x2=&quot;3859.02&quot; y2=&quot;2489.19&quot; style=&quot;stroke:#000000;stroke-width:5.76&quot;/&gt;\n",
       "\t&lt;line x1=&quot;454.16&quot; y1=&quot;2489.19&quot; x2=&quot;454.16&quot; y2=&quot;2529.16&quot; style=&quot;stroke:#000000;stroke-width:5.76&quot;/&gt;\n",
       "\t&lt;text x=&quot;454.16&quot; y=&quot;2619.14&quot; style=&quot;font-family:&#x27;Helvetica&#x27;;font-size:99.99px;fill:#000000&quot; text-anchor=&quot;middle&quot;&gt;1950&lt;/text&gt;\n",
       "\t&lt;line x1=&quot;1072.91&quot; y1=&quot;2489.19&quot; x2=&quot;1072.91&quot; y2=&quot;2529.16&quot; style=&quot;stroke:#000000;stroke-width:5.76&quot;/&gt;\n",
       "\t&lt;text x=&quot;1072.91&quot; y=&quot;2619.14&quot; style=&quot;font-family:&#x27;Helvetica&#x27;;font-size:99.99px;fill:#000000&quot; text-anchor=&quot;middle&quot;&gt;1960&lt;/text&gt;\n",
       "\t&lt;line x1=&quot;1691.79&quot; y1=&quot;2489.19&quot; x2=&quot;1691.79&quot; y2=&quot;2529.16&quot; style=&quot;stroke:#000000;stroke-width:5.76&quot;/&gt;\n",
       "\t&lt;text x=&quot;1691.79&quot; y=&quot;2619.14&quot; style=&quot;font-family:&#x27;Helvetica&#x27;;font-size:99.99px;fill:#000000&quot; text-anchor=&quot;middle&quot;&gt;1970&lt;/text&gt;\n",
       "\t&lt;line x1=&quot;2310.54&quot; y1=&quot;2489.19&quot; x2=&quot;2310.54&quot; y2=&quot;2529.16&quot; style=&quot;stroke:#000000;stroke-width:5.76&quot;/&gt;\n",
       "\t&lt;text x=&quot;2310.54&quot; y=&quot;2619.14&quot; style=&quot;font-family:&#x27;Helvetica&#x27;;font-size:99.99px;fill:#000000&quot; text-anchor=&quot;middle&quot;&gt;1980&lt;/text&gt;\n",
       "\t&lt;line x1=&quot;2929.41&quot; y1=&quot;2489.19&quot; x2=&quot;2929.41&quot; y2=&quot;2529.16&quot; style=&quot;stroke:#000000;stroke-width:5.76&quot;/&gt;\n",
       "\t&lt;text x=&quot;2929.41&quot; y=&quot;2619.14&quot; style=&quot;font-family:&#x27;Helvetica&#x27;;font-size:99.99px;fill:#000000&quot; text-anchor=&quot;middle&quot;&gt;1990&lt;/text&gt;\n",
       "\t&lt;line x1=&quot;3548.16&quot; y1=&quot;2489.19&quot; x2=&quot;3548.16&quot; y2=&quot;2529.16&quot; style=&quot;stroke:#000000;stroke-width:5.76&quot;/&gt;\n",
       "\t&lt;text x=&quot;3548.16&quot; y=&quot;2619.14&quot; style=&quot;font-family:&#x27;Helvetica&#x27;;font-size:99.99px;fill:#000000&quot; text-anchor=&quot;middle&quot;&gt;2000&lt;/text&gt;\n",
       "\t&lt;text x=&quot;2124.91&quot; y=&quot;2729.16&quot; style=&quot;font-family:&#x27;Helvetica&#x27;;font-size:99.99px;fill:#000000&quot; text-anchor=&quot;middle&quot;&gt;YEAR&lt;/text&gt;\n",
       "&lt;/svg&gt;\n",
       "</body></html>\"></iframe>\n"
      ],
      "text/plain": [
       "This front-end cannot display the desired image type."
      ]
     },
     "metadata": {
      "image/svg+xml": {
       "height": 436,
       "width": 600
      },
      "text/html": {
       "height": 436,
       "width": 600
      }
     },
     "output_type": "display_data"
    },
    {
     "name": "stdout",
     "output_type": "stream",
     "text": [
      "\n",
      "\n",
      "\n",
      "\n",
      "\n",
      "      Source |       SS           df       MS      Number of obs   =        52\n",
      "-------------+----------------------------------   F(0, 51)        =      0.00\n",
      "       Model |           0         0           .   Prob > F        =         .\n",
      "    Residual |  48466.7932        51  950.329279   R-squared       =    0.0000\n",
      "-------------+----------------------------------   Adj R-squared   =    0.0000\n",
      "       Total |  48466.7932        51  950.329279   Root MSE        =    30.827\n",
      "\n",
      "------------------------------------------------------------------------------\n",
      "        gasp |      Coef.   Std. Err.      t    P>|t|     [95% Conf. Interval]\n",
      "-------------+----------------------------------------------------------------\n",
      "       _cons |   51.34296   4.274993    12.01   0.000     42.76056    59.92537\n",
      "------------------------------------------------------------------------------\n"
     ]
    },
    {
     "data": {
      "application/pdf": "[encoded data removed]",
      "image/svg+xml": [
       "<?xml version=\"1.0\" encoding=\"UTF-8\" standalone=\"no\"?>\n",
       "<!-- This is a Stata 16.0 generated SVG file (http://www.stata.com) -->\n",
       "\n",
       "<svg version=\"1.1\" width=\"600px\" height=\"436px\" viewBox=\"0 0 3960 2880\" xmlns=\"http://www.w3.org/2000/svg\" xmlns:xlink=\"http://www.w3.org/1999/xlink\">\n",
       "\t<desc>Stata Graph - Graph</desc>\n",
       "\t<rect x=\"0\" y=\"0\" width=\"3960\" height=\"2880\" style=\"fill:#EAF2F3;stroke:none\"/>\n",
       "\t<rect x=\"0.00\" y=\"0.00\" width=\"3959.88\" height=\"2880.00\" style=\"fill:#EAF2F3\"/>\n",
       "\t<rect x=\"2.88\" y=\"2.88\" width=\"3954.12\" height=\"2874.24\" style=\"fill:none;stroke:#EAF2F3;stroke-width:5.76\"/>\n",
       "\t<rect x=\"390.80\" y=\"100.86\" width=\"3468.22\" height=\"2388.33\" style=\"fill:#FFFFFF\"/>\n",
       "\t<rect x=\"393.68\" y=\"103.74\" width=\"3462.46\" height=\"2382.57\" style=\"fill:none;stroke:#FFFFFF;stroke-width:5.76\"/>\n",
       "\t<line x1=\"390.80\" y1=\"2355.53\" x2=\"3859.02\" y2=\"2355.53\" style=\"stroke:#EAF2F3;stroke-width:8.64\"/>\n",
       "\t<line x1=\"390.80\" y1=\"1933.78\" x2=\"3859.02\" y2=\"1933.78\" style=\"stroke:#EAF2F3;stroke-width:8.64\"/>\n",
       "\t<line x1=\"390.80\" y1=\"1511.90\" x2=\"3859.02\" y2=\"1511.90\" style=\"stroke:#EAF2F3;stroke-width:8.64\"/>\n",
       "\t<line x1=\"390.80\" y1=\"1090.15\" x2=\"3859.02\" y2=\"1090.15\" style=\"stroke:#EAF2F3;stroke-width:8.64\"/>\n",
       "\t<line x1=\"390.80\" y1=\"668.27\" x2=\"3859.02\" y2=\"668.27\" style=\"stroke:#EAF2F3;stroke-width:8.64\"/>\n",
       "\t<line x1=\"390.80\" y1=\"246.39\" x2=\"3859.02\" y2=\"246.39\" style=\"stroke:#EAF2F3;stroke-width:8.64\"/>\n",
       "\t<path d=\" M639.66 2425.95 L701.66 2418.27 L763.54 2414.44 L825.41 2403.55 L887.29 2387.34 L949.16 2391.17 L1011.04 2385.73 L1072.91 2374.34 L1134.79 2378.30 L1196.66 2375.83 L1258.54 2376.82 L1320.41 2379.42 L1382.29 2364.32 L1444.16 2354.79 L1506.04 2340.93 L1567.91 2334.49 L1629.79 2319.89 L1691.66 2315.81 L1753.54 2312.34 L1815.41 2306.40 L1877.29 2261.23 L1939.29 2080.18 L2001.16 2033.40 L2063.04 2001.84 L2124.91 1956.92 L2186.79 1921.16 L2248.66 1629.96 L2310.54 1184.82 L2372.41 1005.38 L2434.29 1095.10 L2496.16 1150.04 L2558.04 1174.42 L2619.91 1161.43 L2681.79 1508.31 L2743.66 1459.55 L2805.54 1448.29 L2867.41 1325.65 L2929.29 1124.18 L2991.16 1146.33 L3053.04 1152.64 L3114.91 1169.10 L3176.79 1161.55 L3238.78 1136.06 L3300.66 1035.45 L3362.53 1035.70 L3424.41 1261.55 L3486.28 1128.02 L3548.16 668.27 L3610.03 746.61 L3671.91 870.73 L3733.78 559.61 L3795.66 164.22\" stroke-linejoin=\"round\" style=\"fill:none;stroke:#1A476F;stroke-width:8.64\"/>\n",
       "\t<line x1=\"390.80\" y1=\"2489.19\" x2=\"390.80\" y2=\"100.86\" style=\"stroke:#000000;stroke-width:5.76\"/>\n",
       "\t<line x1=\"390.80\" y1=\"2355.53\" x2=\"350.83\" y2=\"2355.53\" style=\"stroke:#000000;stroke-width:5.76\"/>\n",
       "\t<text x=\"300.72\" y=\"2355.53\" style=\"font-family:'Helvetica';font-size:99.99px;fill:#000000\" transform=\"rotate(-90 300.72,2355.53)\" text-anchor=\"middle\">20</text>\n",
       "\t<line x1=\"390.80\" y1=\"1933.78\" x2=\"350.83\" y2=\"1933.78\" style=\"stroke:#000000;stroke-width:5.76\"/>\n",
       "\t<text x=\"300.72\" y=\"1933.78\" style=\"font-family:'Helvetica';font-size:99.99px;fill:#000000\" transform=\"rotate(-90 300.72,1933.78)\" text-anchor=\"middle\">40</text>\n",
       "\t<line x1=\"390.80\" y1=\"1511.90\" x2=\"350.83\" y2=\"1511.90\" style=\"stroke:#000000;stroke-width:5.76\"/>\n",
       "\t<text x=\"300.72\" y=\"1511.90\" style=\"font-family:'Helvetica';font-size:99.99px;fill:#000000\" transform=\"rotate(-90 300.72,1511.90)\" text-anchor=\"middle\">60</text>\n",
       "\t<line x1=\"390.80\" y1=\"1090.15\" x2=\"350.83\" y2=\"1090.15\" style=\"stroke:#000000;stroke-width:5.76\"/>\n",
       "\t<text x=\"300.72\" y=\"1090.15\" style=\"font-family:'Helvetica';font-size:99.99px;fill:#000000\" transform=\"rotate(-90 300.72,1090.15)\" text-anchor=\"middle\">80</text>\n",
       "\t<line x1=\"390.80\" y1=\"668.27\" x2=\"350.83\" y2=\"668.27\" style=\"stroke:#000000;stroke-width:5.76\"/>\n",
       "\t<text x=\"300.72\" y=\"668.27\" style=\"font-family:'Helvetica';font-size:99.99px;fill:#000000\" transform=\"rotate(-90 300.72,668.27)\" text-anchor=\"middle\">100</text>\n",
       "\t<line x1=\"390.80\" y1=\"246.39\" x2=\"350.83\" y2=\"246.39\" style=\"stroke:#000000;stroke-width:5.76\"/>\n",
       "\t<text x=\"300.72\" y=\"246.39\" style=\"font-family:'Helvetica';font-size:99.99px;fill:#000000\" transform=\"rotate(-90 300.72,246.39)\" text-anchor=\"middle\">120</text>\n",
       "\t<text x=\"190.71\" y=\"1294.96\" style=\"font-family:'Helvetica';font-size:99.99px;fill:#000000\" transform=\"rotate(-90 190.71,1294.96)\" text-anchor=\"middle\">GASP</text>\n",
       "\t<line x1=\"390.80\" y1=\"2489.19\" x2=\"3859.02\" y2=\"2489.19\" style=\"stroke:#000000;stroke-width:5.76\"/>\n",
       "\t<line x1=\"454.16\" y1=\"2489.19\" x2=\"454.16\" y2=\"2529.16\" style=\"stroke:#000000;stroke-width:5.76\"/>\n",
       "\t<text x=\"454.16\" y=\"2619.14\" style=\"font-family:'Helvetica';font-size:99.99px;fill:#000000\" text-anchor=\"middle\">1950</text>\n",
       "\t<line x1=\"1072.91\" y1=\"2489.19\" x2=\"1072.91\" y2=\"2529.16\" style=\"stroke:#000000;stroke-width:5.76\"/>\n",
       "\t<text x=\"1072.91\" y=\"2619.14\" style=\"font-family:'Helvetica';font-size:99.99px;fill:#000000\" text-anchor=\"middle\">1960</text>\n",
       "\t<line x1=\"1691.79\" y1=\"2489.19\" x2=\"1691.79\" y2=\"2529.16\" style=\"stroke:#000000;stroke-width:5.76\"/>\n",
       "\t<text x=\"1691.79\" y=\"2619.14\" style=\"font-family:'Helvetica';font-size:99.99px;fill:#000000\" text-anchor=\"middle\">1970</text>\n",
       "\t<line x1=\"2310.54\" y1=\"2489.19\" x2=\"2310.54\" y2=\"2529.16\" style=\"stroke:#000000;stroke-width:5.76\"/>\n",
       "\t<text x=\"2310.54\" y=\"2619.14\" style=\"font-family:'Helvetica';font-size:99.99px;fill:#000000\" text-anchor=\"middle\">1980</text>\n",
       "\t<line x1=\"2929.41\" y1=\"2489.19\" x2=\"2929.41\" y2=\"2529.16\" style=\"stroke:#000000;stroke-width:5.76\"/>\n",
       "\t<text x=\"2929.41\" y=\"2619.14\" style=\"font-family:'Helvetica';font-size:99.99px;fill:#000000\" text-anchor=\"middle\">1990</text>\n",
       "\t<line x1=\"3548.16\" y1=\"2489.19\" x2=\"3548.16\" y2=\"2529.16\" style=\"stroke:#000000;stroke-width:5.76\"/>\n",
       "\t<text x=\"3548.16\" y=\"2619.14\" style=\"font-family:'Helvetica';font-size:99.99px;fill:#000000\" text-anchor=\"middle\">2000</text>\n",
       "\t<text x=\"2124.91\" y=\"2729.16\" style=\"font-family:'Helvetica';font-size:99.99px;fill:#000000\" text-anchor=\"middle\">YEAR</text>\n",
       "</svg>\n"
      ],
      "text/html": [
       "                <iframe frameborder=\"0\" scrolling=\"no\" height=\"436\" width=\"600\"                srcdoc=\"<html><body>&lt;?xml version=&quot;1.0&quot; encoding=&quot;UTF-8&quot; standalone=&quot;no&quot;?&gt;\n",
       "&lt;!-- This is a Stata 16.0 generated SVG file (http://www.stata.com) --&gt;\n",
       "\n",
       "&lt;svg version=&quot;1.1&quot; width=&quot;600px&quot; height=&quot;436px&quot; viewBox=&quot;0 0 3960 2880&quot; xmlns=&quot;http://www.w3.org/2000/svg&quot; xmlns:xlink=&quot;http://www.w3.org/1999/xlink&quot;&gt;\n",
       "\t&lt;desc&gt;Stata Graph - Graph&lt;/desc&gt;\n",
       "\t&lt;rect x=&quot;0&quot; y=&quot;0&quot; width=&quot;3960&quot; height=&quot;2880&quot; style=&quot;fill:#EAF2F3;stroke:none&quot;/&gt;\n",
       "\t&lt;rect x=&quot;0.00&quot; y=&quot;0.00&quot; width=&quot;3959.88&quot; height=&quot;2880.00&quot; style=&quot;fill:#EAF2F3&quot;/&gt;\n",
       "\t&lt;rect x=&quot;2.88&quot; y=&quot;2.88&quot; width=&quot;3954.12&quot; height=&quot;2874.24&quot; style=&quot;fill:none;stroke:#EAF2F3;stroke-width:5.76&quot;/&gt;\n",
       "\t&lt;rect x=&quot;390.80&quot; y=&quot;100.86&quot; width=&quot;3468.22&quot; height=&quot;2388.33&quot; style=&quot;fill:#FFFFFF&quot;/&gt;\n",
       "\t&lt;rect x=&quot;393.68&quot; y=&quot;103.74&quot; width=&quot;3462.46&quot; height=&quot;2382.57&quot; style=&quot;fill:none;stroke:#FFFFFF;stroke-width:5.76&quot;/&gt;\n",
       "\t&lt;line x1=&quot;390.80&quot; y1=&quot;2355.53&quot; x2=&quot;3859.02&quot; y2=&quot;2355.53&quot; style=&quot;stroke:#EAF2F3;stroke-width:8.64&quot;/&gt;\n",
       "\t&lt;line x1=&quot;390.80&quot; y1=&quot;1933.78&quot; x2=&quot;3859.02&quot; y2=&quot;1933.78&quot; style=&quot;stroke:#EAF2F3;stroke-width:8.64&quot;/&gt;\n",
       "\t&lt;line x1=&quot;390.80&quot; y1=&quot;1511.90&quot; x2=&quot;3859.02&quot; y2=&quot;1511.90&quot; style=&quot;stroke:#EAF2F3;stroke-width:8.64&quot;/&gt;\n",
       "\t&lt;line x1=&quot;390.80&quot; y1=&quot;1090.15&quot; x2=&quot;3859.02&quot; y2=&quot;1090.15&quot; style=&quot;stroke:#EAF2F3;stroke-width:8.64&quot;/&gt;\n",
       "\t&lt;line x1=&quot;390.80&quot; y1=&quot;668.27&quot; x2=&quot;3859.02&quot; y2=&quot;668.27&quot; style=&quot;stroke:#EAF2F3;stroke-width:8.64&quot;/&gt;\n",
       "\t&lt;line x1=&quot;390.80&quot; y1=&quot;246.39&quot; x2=&quot;3859.02&quot; y2=&quot;246.39&quot; style=&quot;stroke:#EAF2F3;stroke-width:8.64&quot;/&gt;\n",
       "\t&lt;path d=&quot; M639.66 2425.95 L701.66 2418.27 L763.54 2414.44 L825.41 2403.55 L887.29 2387.34 L949.16 2391.17 L1011.04 2385.73 L1072.91 2374.34 L1134.79 2378.30 L1196.66 2375.83 L1258.54 2376.82 L1320.41 2379.42 L1382.29 2364.32 L1444.16 2354.79 L1506.04 2340.93 L1567.91 2334.49 L1629.79 2319.89 L1691.66 2315.81 L1753.54 2312.34 L1815.41 2306.40 L1877.29 2261.23 L1939.29 2080.18 L2001.16 2033.40 L2063.04 2001.84 L2124.91 1956.92 L2186.79 1921.16 L2248.66 1629.96 L2310.54 1184.82 L2372.41 1005.38 L2434.29 1095.10 L2496.16 1150.04 L2558.04 1174.42 L2619.91 1161.43 L2681.79 1508.31 L2743.66 1459.55 L2805.54 1448.29 L2867.41 1325.65 L2929.29 1124.18 L2991.16 1146.33 L3053.04 1152.64 L3114.91 1169.10 L3176.79 1161.55 L3238.78 1136.06 L3300.66 1035.45 L3362.53 1035.70 L3424.41 1261.55 L3486.28 1128.02 L3548.16 668.27 L3610.03 746.61 L3671.91 870.73 L3733.78 559.61 L3795.66 164.22&quot; stroke-linejoin=&quot;round&quot; style=&quot;fill:none;stroke:#1A476F;stroke-width:8.64&quot;/&gt;\n",
       "\t&lt;line x1=&quot;390.80&quot; y1=&quot;2489.19&quot; x2=&quot;390.80&quot; y2=&quot;100.86&quot; style=&quot;stroke:#000000;stroke-width:5.76&quot;/&gt;\n",
       "\t&lt;line x1=&quot;390.80&quot; y1=&quot;2355.53&quot; x2=&quot;350.83&quot; y2=&quot;2355.53&quot; style=&quot;stroke:#000000;stroke-width:5.76&quot;/&gt;\n",
       "\t&lt;text x=&quot;300.72&quot; y=&quot;2355.53&quot; style=&quot;font-family:&#x27;Helvetica&#x27;;font-size:99.99px;fill:#000000&quot; transform=&quot;rotate(-90 300.72,2355.53)&quot; text-anchor=&quot;middle&quot;&gt;20&lt;/text&gt;\n",
       "\t&lt;line x1=&quot;390.80&quot; y1=&quot;1933.78&quot; x2=&quot;350.83&quot; y2=&quot;1933.78&quot; style=&quot;stroke:#000000;stroke-width:5.76&quot;/&gt;\n",
       "\t&lt;text x=&quot;300.72&quot; y=&quot;1933.78&quot; style=&quot;font-family:&#x27;Helvetica&#x27;;font-size:99.99px;fill:#000000&quot; transform=&quot;rotate(-90 300.72,1933.78)&quot; text-anchor=&quot;middle&quot;&gt;40&lt;/text&gt;\n",
       "\t&lt;line x1=&quot;390.80&quot; y1=&quot;1511.90&quot; x2=&quot;350.83&quot; y2=&quot;1511.90&quot; style=&quot;stroke:#000000;stroke-width:5.76&quot;/&gt;\n",
       "\t&lt;text x=&quot;300.72&quot; y=&quot;1511.90&quot; style=&quot;font-family:&#x27;Helvetica&#x27;;font-size:99.99px;fill:#000000&quot; transform=&quot;rotate(-90 300.72,1511.90)&quot; text-anchor=&quot;middle&quot;&gt;60&lt;/text&gt;\n",
       "\t&lt;line x1=&quot;390.80&quot; y1=&quot;1090.15&quot; x2=&quot;350.83&quot; y2=&quot;1090.15&quot; style=&quot;stroke:#000000;stroke-width:5.76&quot;/&gt;\n",
       "\t&lt;text x=&quot;300.72&quot; y=&quot;1090.15&quot; style=&quot;font-family:&#x27;Helvetica&#x27;;font-size:99.99px;fill:#000000&quot; transform=&quot;rotate(-90 300.72,1090.15)&quot; text-anchor=&quot;middle&quot;&gt;80&lt;/text&gt;\n",
       "\t&lt;line x1=&quot;390.80&quot; y1=&quot;668.27&quot; x2=&quot;350.83&quot; y2=&quot;668.27&quot; style=&quot;stroke:#000000;stroke-width:5.76&quot;/&gt;\n",
       "\t&lt;text x=&quot;300.72&quot; y=&quot;668.27&quot; style=&quot;font-family:&#x27;Helvetica&#x27;;font-size:99.99px;fill:#000000&quot; transform=&quot;rotate(-90 300.72,668.27)&quot; text-anchor=&quot;middle&quot;&gt;100&lt;/text&gt;\n",
       "\t&lt;line x1=&quot;390.80&quot; y1=&quot;246.39&quot; x2=&quot;350.83&quot; y2=&quot;246.39&quot; style=&quot;stroke:#000000;stroke-width:5.76&quot;/&gt;\n",
       "\t&lt;text x=&quot;300.72&quot; y=&quot;246.39&quot; style=&quot;font-family:&#x27;Helvetica&#x27;;font-size:99.99px;fill:#000000&quot; transform=&quot;rotate(-90 300.72,246.39)&quot; text-anchor=&quot;middle&quot;&gt;120&lt;/text&gt;\n",
       "\t&lt;text x=&quot;190.71&quot; y=&quot;1294.96&quot; style=&quot;font-family:&#x27;Helvetica&#x27;;font-size:99.99px;fill:#000000&quot; transform=&quot;rotate(-90 190.71,1294.96)&quot; text-anchor=&quot;middle&quot;&gt;GASP&lt;/text&gt;\n",
       "\t&lt;line x1=&quot;390.80&quot; y1=&quot;2489.19&quot; x2=&quot;3859.02&quot; y2=&quot;2489.19&quot; style=&quot;stroke:#000000;stroke-width:5.76&quot;/&gt;\n",
       "\t&lt;line x1=&quot;454.16&quot; y1=&quot;2489.19&quot; x2=&quot;454.16&quot; y2=&quot;2529.16&quot; style=&quot;stroke:#000000;stroke-width:5.76&quot;/&gt;\n",
       "\t&lt;text x=&quot;454.16&quot; y=&quot;2619.14&quot; style=&quot;font-family:&#x27;Helvetica&#x27;;font-size:99.99px;fill:#000000&quot; text-anchor=&quot;middle&quot;&gt;1950&lt;/text&gt;\n",
       "\t&lt;line x1=&quot;1072.91&quot; y1=&quot;2489.19&quot; x2=&quot;1072.91&quot; y2=&quot;2529.16&quot; style=&quot;stroke:#000000;stroke-width:5.76&quot;/&gt;\n",
       "\t&lt;text x=&quot;1072.91&quot; y=&quot;2619.14&quot; style=&quot;font-family:&#x27;Helvetica&#x27;;font-size:99.99px;fill:#000000&quot; text-anchor=&quot;middle&quot;&gt;1960&lt;/text&gt;\n",
       "\t&lt;line x1=&quot;1691.79&quot; y1=&quot;2489.19&quot; x2=&quot;1691.79&quot; y2=&quot;2529.16&quot; style=&quot;stroke:#000000;stroke-width:5.76&quot;/&gt;\n",
       "\t&lt;text x=&quot;1691.79&quot; y=&quot;2619.14&quot; style=&quot;font-family:&#x27;Helvetica&#x27;;font-size:99.99px;fill:#000000&quot; text-anchor=&quot;middle&quot;&gt;1970&lt;/text&gt;\n",
       "\t&lt;line x1=&quot;2310.54&quot; y1=&quot;2489.19&quot; x2=&quot;2310.54&quot; y2=&quot;2529.16&quot; style=&quot;stroke:#000000;stroke-width:5.76&quot;/&gt;\n",
       "\t&lt;text x=&quot;2310.54&quot; y=&quot;2619.14&quot; style=&quot;font-family:&#x27;Helvetica&#x27;;font-size:99.99px;fill:#000000&quot; text-anchor=&quot;middle&quot;&gt;1980&lt;/text&gt;\n",
       "\t&lt;line x1=&quot;2929.41&quot; y1=&quot;2489.19&quot; x2=&quot;2929.41&quot; y2=&quot;2529.16&quot; style=&quot;stroke:#000000;stroke-width:5.76&quot;/&gt;\n",
       "\t&lt;text x=&quot;2929.41&quot; y=&quot;2619.14&quot; style=&quot;font-family:&#x27;Helvetica&#x27;;font-size:99.99px;fill:#000000&quot; text-anchor=&quot;middle&quot;&gt;1990&lt;/text&gt;\n",
       "\t&lt;line x1=&quot;3548.16&quot; y1=&quot;2489.19&quot; x2=&quot;3548.16&quot; y2=&quot;2529.16&quot; style=&quot;stroke:#000000;stroke-width:5.76&quot;/&gt;\n",
       "\t&lt;text x=&quot;3548.16&quot; y=&quot;2619.14&quot; style=&quot;font-family:&#x27;Helvetica&#x27;;font-size:99.99px;fill:#000000&quot; text-anchor=&quot;middle&quot;&gt;2000&lt;/text&gt;\n",
       "\t&lt;text x=&quot;2124.91&quot; y=&quot;2729.16&quot; style=&quot;font-family:&#x27;Helvetica&#x27;;font-size:99.99px;fill:#000000&quot; text-anchor=&quot;middle&quot;&gt;YEAR&lt;/text&gt;\n",
       "&lt;/svg&gt;\n",
       "</body></html>\"></iframe>\n"
      ],
      "text/plain": [
       "This front-end cannot display the desired image type."
      ]
     },
     "metadata": {
      "image/svg+xml": {
       "height": 436,
       "width": 600
      },
      "text/html": {
       "height": 436,
       "width": 600
      }
     },
     "output_type": "display_data"
    },
    {
     "name": "stdout",
     "output_type": "stream",
     "text": [
      "\n",
      "\n",
      "\n"
     ]
    }
   ],
   "source": [
    "* Time trend\n",
    "\n",
    "tsset year\n",
    "regress income\n",
    "tsline income\n",
    "\n",
    "regress gasp\n",
    "tsline gasp"
   ]
  },
  {
   "cell_type": "markdown",
   "metadata": {},
   "source": [
    "b. Test the hypothesis that at least in regard to demand for gasoline, consumers do not differentiate\n",
    "between changes in the prices of new and used cars."
   ]
  },
  {
   "cell_type": "code",
   "execution_count": null,
   "metadata": {},
   "outputs": [],
   "source": []
  },
  {
   "cell_type": "markdown",
   "metadata": {},
   "source": [
    "c. Estimate the own price elasticity of demand, the income elasticity, and the cross-price elasticity with\n",
    "respect to changes in the price of public transportation. Do the computations at the 2004 point in the\n",
    "data.\n"
   ]
  },
  {
   "cell_type": "code",
   "execution_count": null,
   "metadata": {},
   "outputs": [],
   "source": []
  },
  {
   "cell_type": "markdown",
   "metadata": {},
   "source": [
    "d. Reestimate the regression in logarithms so that the coefficients are direct estimates of the elasticities.\n",
    "(Do not use the log of the time trend). How do your estimates compare with the results in the previous\n",
    "question? Which specification do you prefer?"
   ]
  },
  {
   "cell_type": "code",
   "execution_count": null,
   "metadata": {},
   "outputs": [],
   "source": []
  },
  {
   "cell_type": "markdown",
   "metadata": {},
   "source": [
    "e. Compute the simple correlations of the price variables. Would you conclude that multicollinearity is a\n",
    "\"problem\" for the regression in part a or part d?"
   ]
  },
  {
   "cell_type": "code",
   "execution_count": null,
   "metadata": {},
   "outputs": [],
   "source": []
  },
  {
   "cell_type": "markdown",
   "metadata": {},
   "source": [
    "f. Notice that the price index for gasoline is normalized to 100 in 2000, whereas the other price indices\n",
    "are anchored at 1983 (roughly). If you were to renormalize the indices so that they were all 100.00 in\n",
    "2004, then how would the results of the regression in part a change? How would the results of the\n",
    "regression in part d change?\n"
   ]
  },
  {
   "cell_type": "code",
   "execution_count": null,
   "metadata": {},
   "outputs": [],
   "source": []
  }
 ],
 "metadata": {
  "kernelspec": {
   "display_name": "Stata",
   "language": "stata",
   "name": "stata"
  },
  "language_info": {
   "codemirror_mode": "stata",
   "file_extension": ".do",
   "mimetype": "text/x-stata",
   "name": "stata",
   "version": "15.1"
  }
 },
 "nbformat": 4,
 "nbformat_minor": 2
}
