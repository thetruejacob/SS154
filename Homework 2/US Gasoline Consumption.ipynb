{
 "cells": [
  {
   "cell_type": "markdown",
   "metadata": {},
   "source": [
    "# US Gasoline Consumption\n",
    "\n",
    "- Year = Year, 1953-2004,\n",
    "- GasExp = Total U.S. gasoline expenditure,\n",
    "- Pop = U.S. total population in thousands\n",
    "- GasP = Price index for gasoline,\n",
    "- Income = Per capita disposable income,\n",
    "- Pnc = Price index for new cars,\n",
    "- Puc = Price index for used cars,\n",
    "- Ppt = Price index for public transportation,\n",
    "- Pd = Aggregate price index for consumer durables,\n",
    "- Pn = Aggregate price index for consumer nondurables,\n",
    "- Ps = Aggregate price index for consumer services.\n",
    "\n",
    "Note that the consumption\n",
    "data appear as total expenditure. To obtain the per capita quantity variable, divide GASEXP (total U.S.\n",
    "gas expenditure) by GASP (price index for gasoline) times Pop (U.S. population in thousands). The other\n",
    "variables do not need transformation\n"
   ]
  },
  {
   "cell_type": "code",
   "execution_count": 36,
   "metadata": {},
   "outputs": [
    {
     "name": "stdout",
     "output_type": "stream",
     "text": [
      "\n",
      "\n",
      "(11 vars, 52 obs)\n",
      "\n",
      "\n",
      "\n",
      "     +------------------------------------------------------------------------------------------------------+\n",
      "     | year   gasexp      pop      gasp   income     pnc     puc     ppt      pd      pn      ps    pc_quan |\n",
      "     |------------------------------------------------------------------------------------------------------|\n",
      " 43. | 1995    120.2   266588    77.826    22100     139   156.5   175.9     128   139.3   168.7   5.793476 |\n",
      " 44. | 1996    130.4   269714    82.596    22506   141.4     157   181.9   129.4   143.5   174.1   5.853492 |\n",
      " 45. | 1997    134.4   272958    82.579    22944   141.7   151.1   186.7   128.7   146.4   179.4   5.962574 |\n",
      " 46. | 1998    122.4   276154    71.874    24079   140.7   150.6   190.3   127.6   146.9   184.2   6.166777 |\n",
      " 47. | 1999    137.9   279328    78.207    24464   139.6     152   197.7     126   151.2   188.8    6.31254 |\n",
      "     |------------------------------------------------------------------------------------------------------|\n",
      " 48. | 2000    175.7   282429       100    25380   139.6   155.8   209.6   125.4   158.2   195.3   6.221033 |\n",
      " 49. | 2001    171.6   285366    96.289    25449   138.9   158.7   210.6   124.6   160.6   203.4   6.245086 |\n",
      " 50. | 2002    163.4   288217    90.405    26352   137.3     152   207.4   121.4   161.1   209.8   6.271046 |\n",
      " 51. | 2003    191.3   291073   105.154    26437   134.7   142.9   209.3   117.5   165.3   216.5   6.250104 |\n",
      " 52. | 2004    224.5   293951   123.901    27113   133.9   133.3   209.1   114.8   172.2   222.8   6.164056 |\n",
      "     +------------------------------------------------------------------------------------------------------+\n"
     ]
    }
   ],
   "source": [
    "clear \n",
    "import delimited TableF2-2.csv\n",
    "gen pc_quan = (gasexp*10^9) / (gasp * pop*10^3)\n",
    "list in -10/l"
   ]
  },
  {
   "cell_type": "code",
   "execution_count": 38,
   "metadata": {},
   "outputs": [
    {
     "name": "stdout",
     "output_type": "stream",
     "text": [
      "\n",
      "    Variable |        Obs        Mean    Std. Dev.       Min        Max\n",
      "-------------+---------------------------------------------------------\n",
      "        year |         52      1978.5    15.15476       1953       2004\n",
      "      gasexp |         52    70.10192    57.51466        7.4      224.5\n",
      "         pop |         52    225373.8    38077.42     159565     293951\n",
      "        gasp |         52    51.34296    30.82741     16.668    123.901\n",
      "      income |         52    16805.06    5552.026       8685      27113\n",
      "-------------+---------------------------------------------------------\n",
      "         pnc |         52    87.56731    37.08741       44.8      141.7\n",
      "         puc |         52        77.8    51.06819       20.7      158.7\n",
      "         ppt |         52    89.39038    69.19015       16.8      210.6\n",
      "          pd |         52    78.26923    36.78272       36.1      129.4\n",
      "          pn |         52    83.59808    48.66465       29.5      172.2\n",
      "-------------+---------------------------------------------------------\n",
      "          ps |         52    89.77692    66.91132       19.4      222.8\n",
      "     pc_quan |         52    4.935619    1.059105   2.782343    6.31254\n"
     ]
    }
   ],
   "source": [
    "summarize"
   ]
  },
  {
   "cell_type": "markdown",
   "metadata": {},
   "source": [
    "What is the unit here?"
   ]
  },
  {
   "cell_type": "markdown",
   "metadata": {},
   "source": [
    "### a. Compute the multiple regression of per capita consumption of gasoline on per capita income, the price of gasoline, all the other prices and a time trend. Report all results. Do the signs of the estimates agree with your expectations?"
   ]
  },
  {
   "cell_type": "code",
   "execution_count": 37,
   "metadata": {},
   "outputs": [
    {
     "name": "stdout",
     "output_type": "stream",
     "text": [
      "\n",
      "      Source |       SS           df       MS      Number of obs   =        52\n",
      "-------------+----------------------------------   F(9, 42)        =    530.82\n",
      "       Model |  56.7083042         9  6.30092268   Prob > F        =    0.0000\n",
      "    Residual |   .49854905        42  .011870215   R-squared       =    0.9913\n",
      "-------------+----------------------------------   Adj R-squared   =    0.9894\n",
      "       Total |  57.2068532        51    1.121703   Root MSE        =    .10895\n",
      "\n",
      "------------------------------------------------------------------------------\n",
      "     pc_quan |      Coef.   Std. Err.      t    P>|t|     [95% Conf. Interval]\n",
      "-------------+----------------------------------------------------------------\n",
      "      income |   .0002157   .0000518     4.17   0.000     .0001113    .0003202\n",
      "        gasp |  -.0110838   .0039781    -2.79   0.008     -.019112   -.0030557\n",
      "         pnc |   .0005774   .0128441     0.04   0.964    -.0253432    .0264979\n",
      "         puc |  -.0058746   .0048703    -1.21   0.234    -.0157033    .0039541\n",
      "         ppt |   .0069073   .0048361     1.43   0.161    -.0028524     .016667\n",
      "          pd |   .0012289   .0118818     0.10   0.918    -.0227495    .0252072\n",
      "          pn |   .0126905    .012598     1.01   0.320    -.0127333    .0381142\n",
      "          ps |  -.0280278   .0079962    -3.51   0.001    -.0441649   -.0118907\n",
      "        year |   .0725037   .0141828     5.11   0.000     .0438816    .1011257\n",
      "       _cons |  -140.4213   27.19985    -5.16   0.000    -195.3128    -85.5298\n",
      "------------------------------------------------------------------------------\n"
     ]
    }
   ],
   "source": [
    "regress pc_quan income gasp pnc puc ppt pd pn ps year"
   ]
  },
  {
   "cell_type": "code",
   "execution_count": 39,
   "metadata": {},
   "outputs": [],
   "source": [
    "// Time trend\n",
    "\n",
    "// tsset year\n",
    "// regress income\n",
    "// tsline income\n",
    "\n",
    "// regress gasp\n",
    "// tsline gasp"
   ]
  },
  {
   "cell_type": "markdown",
   "metadata": {},
   "source": [
    "### b. Test the hypothesis that at least in regard to demand for gasoline, consumers do not differentiate between changes in the prices of new and used cars."
   ]
  },
  {
   "cell_type": "code",
   "execution_count": 35,
   "metadata": {},
   "outputs": [
    {
     "name": "stdout",
     "output_type": "stream",
     "text": [
      "\n",
      "      Source |       SS           df       MS      Number of obs   =        52\n",
      "-------------+----------------------------------   F(2, 49)        =     58.73\n",
      "       Model |  4.0368e-11         2  2.0184e-11   Prob > F        =    0.0000\n",
      "    Residual |  1.6839e-11        49  3.4365e-13   R-squared       =    0.7057\n",
      "-------------+----------------------------------   Adj R-squared   =    0.6936\n",
      "       Total |  5.7207e-11        51  1.1217e-12   Root MSE        =    5.9e-07\n",
      "\n",
      "------------------------------------------------------------------------------\n",
      "     pc_quan |      Coef.   Std. Err.      t    P>|t|     [95% Conf. Interval]\n",
      "-------------+----------------------------------------------------------------\n",
      "         pnc |   2.72e-08   2.00e-08     1.36   0.181    -1.31e-08    6.74e-08\n",
      "         puc |  -2.31e-09   1.45e-08    -0.16   0.874    -3.15e-08    2.69e-08\n",
      "       _cons |   2.74e-06   6.47e-07     4.23   0.000     1.44e-06    4.04e-06\n",
      "------------------------------------------------------------------------------\n"
     ]
    }
   ],
   "source": [
    "regress pc_quan pnc puc // comparing price difference"
   ]
  },
  {
   "cell_type": "code",
   "execution_count": 28,
   "metadata": {},
   "outputs": [
    {
     "name": "stdout",
     "output_type": "stream",
     "text": [
      "\n",
      "      Source |       SS           df       MS      Number of obs   =        52\n",
      "-------------+----------------------------------   F(9, 42)        =    530.82\n",
      "       Model |  5.6708e-11         9  6.3009e-12   Prob > F        =    0.0000\n",
      "    Residual |  4.9855e-13        42  1.1870e-14   R-squared       =    0.9913\n",
      "-------------+----------------------------------   Adj R-squared   =    0.9894\n",
      "       Total |  5.7207e-11        51  1.1217e-12   Root MSE        =    1.1e-07\n",
      "\n",
      "------------------------------------------------------------------------------\n",
      "    quantity |      Coef.   Std. Err.      t    P>|t|     [95% Conf. Interval]\n",
      "-------------+----------------------------------------------------------------\n",
      "      income |   2.16e-10   5.18e-11     4.17   0.000     1.11e-10    3.20e-10\n",
      "        gasp |  -1.11e-08   3.98e-09    -2.79   0.008    -1.91e-08   -3.06e-09\n",
      "         pnc |   5.77e-10   1.28e-08     0.04   0.964    -2.53e-08    2.65e-08\n",
      "         puc |  -5.87e-09   4.87e-09    -1.21   0.234    -1.57e-08    3.95e-09\n",
      "         ppt |   6.91e-09   4.84e-09     1.43   0.161    -2.85e-09    1.67e-08\n",
      "          pd |   1.23e-09   1.19e-08     0.10   0.918    -2.27e-08    2.52e-08\n",
      "          pn |   1.27e-08   1.26e-08     1.01   0.320    -1.27e-08    3.81e-08\n",
      "          ps |  -2.80e-08   8.00e-09    -3.51   0.001    -4.42e-08   -1.19e-08\n",
      "        year |   7.25e-08   1.42e-08     5.11   0.000     4.39e-08    1.01e-07\n",
      "       _cons |  -.0001404   .0000272    -5.16   0.000    -.0001953   -.0000855\n",
      "------------------------------------------------------------------------------\n"
     ]
    }
   ],
   "source": [
    "regress quantity income gasp pnc puc ppt pd pn ps year"
   ]
  },
  {
   "cell_type": "markdown",
   "metadata": {},
   "source": [
    "### c. Estimate the own price elasticity of demand, the income elasticity, and the cross-price elasticity with respect to changes in the price of public transportation. Do the computations at the 2004 point in the data.\n",
    "\n",
    "- The price elasticity of demand  of gasoline is \n",
    "- The income elasticity is\n",
    "- The cross-price elasticity with respect to changes in price of public transportation\n"
   ]
  },
  {
   "cell_type": "code",
   "execution_count": 29,
   "metadata": {},
   "outputs": [
    {
     "name": "stdout",
     "output_type": "stream",
     "text": [
      "\n",
      "Average marginal effects                        Number of obs     =         52\n",
      "Model VCE    : OLS\n",
      "\n",
      "Expression   : Linear prediction, predict()\n",
      "ey/ex w.r.t. : gasp\n",
      "at           : year            =        2004\n",
      "\n",
      "------------------------------------------------------------------------------\n",
      "             |            Delta-method\n",
      "             |      ey/ex   Std. Err.      t    P>|t|     [95% Conf. Interval]\n",
      "-------------+----------------------------------------------------------------\n",
      "        gasp |  -.0852534   .0295798    -2.88   0.006    -.1449479    -.025559\n",
      "------------------------------------------------------------------------------\n"
     ]
    }
   ],
   "source": [
    "// demand\n",
    "margins, eyex(gasp) at (year = 2004)"
   ]
  },
  {
   "cell_type": "code",
   "execution_count": 30,
   "metadata": {},
   "outputs": [
    {
     "name": "stdout",
     "output_type": "stream",
     "text": [
      "\n",
      "Average marginal effects                        Number of obs     =         52\n",
      "Model VCE    : OLS\n",
      "\n",
      "Expression   : Linear prediction, predict()\n",
      "ey/ex w.r.t. : income\n",
      "at           : year            =        2004\n",
      "\n",
      "------------------------------------------------------------------------------\n",
      "             |            Delta-method\n",
      "             |      ey/ex   Std. Err.      t    P>|t|     [95% Conf. Interval]\n",
      "-------------+----------------------------------------------------------------\n",
      "      income |   .5383029   .1503347     3.58   0.001     .2349152    .8416906\n",
      "------------------------------------------------------------------------------\n"
     ]
    }
   ],
   "source": [
    "// income\n",
    "margins, eyex(income) at (year = 2004)"
   ]
  },
  {
   "cell_type": "code",
   "execution_count": 31,
   "metadata": {},
   "outputs": [
    {
     "name": "stdout",
     "output_type": "stream",
     "text": [
      "\n",
      "Average marginal effects                        Number of obs     =         52\n",
      "Model VCE    : OLS\n",
      "\n",
      "Expression   : Linear prediction, predict()\n",
      "ey/ex w.r.t. : ppt\n",
      "at           : year            =        2004\n",
      "\n",
      "------------------------------------------------------------------------------\n",
      "             |            Delta-method\n",
      "             |      ey/ex   Std. Err.      t    P>|t|     [95% Conf. Interval]\n",
      "-------------+----------------------------------------------------------------\n",
      "         ppt |   .0929987   .0658252     1.41   0.165    -.0398419    .2258394\n",
      "------------------------------------------------------------------------------\n"
     ]
    }
   ],
   "source": [
    "// cross-price\n",
    "margins, eyex(ppt) at(year=2004)"
   ]
  },
  {
   "cell_type": "markdown",
   "metadata": {},
   "source": [
    "### d. Reestimate the regression in logarithms so that the coefficients are direct estimates of the elasticities. (Do not use the log of the time trend). How do your estimates compare with the results in the previous question? Which specification do you prefer?"
   ]
  },
  {
   "cell_type": "code",
   "execution_count": 40,
   "metadata": {},
   "outputs": [],
   "source": [
    "gen lpc_quan = log(pc_quan)\n",
    "gen lgasp = log(gasp)\n",
    "gen lincome = log(income)\n",
    "gen lpnc = log(pnc)\n",
    "gen lpuc = log(puc)\n",
    "gen lppt = log(ppt)\n",
    "gen lpd = log(pd)\n",
    "gen lpn = log(pn)\n",
    "gen lps = log(ps)"
   ]
  },
  {
   "cell_type": "code",
   "execution_count": 43,
   "metadata": {},
   "outputs": [
    {
     "name": "stdout",
     "output_type": "stream",
     "text": [
      "\n",
      "      Source |       SS           df       MS      Number of obs   =        52\n",
      "-------------+----------------------------------   F(9, 42)        =    351.33\n",
      "       Model |  2.87044868         9  .318938742   Prob > F        =    0.0000\n",
      "    Residual |  .038128217        42  .000907815   R-squared       =    0.9869\n",
      "-------------+----------------------------------   Adj R-squared   =    0.9841\n",
      "       Total |   2.9085769        51   .05703092   Root MSE        =    .03013\n",
      "\n",
      "------------------------------------------------------------------------------\n",
      "    lpc_quan |      Coef.   Std. Err.      t    P>|t|     [95% Conf. Interval]\n",
      "-------------+----------------------------------------------------------------\n",
      "     lincome |   .9929907   .2503763     3.97   0.000     .4877109     1.49827\n",
      "       lgasp |   .0605177   .0540101     1.12   0.269    -.0484792    .1695146\n",
      "        lpnc |  -.1547138   .2669637    -0.58   0.565    -.6934683    .3840408\n",
      "        lpuc |  -.4890899   .0851996    -5.74   0.000    -.6610297     -.31715\n",
      "        lppt |   .0192726    .136449     0.14   0.888    -.2560926    .2946378\n",
      "         lpd |   1.732055   .2598871     6.66   0.000     1.207582    2.256529\n",
      "         lpn |  -.7295301   .2650689    -2.75   0.009    -1.264461   -.1945995\n",
      "         lps |  -.8679929   .3529119    -2.46   0.018    -1.580198   -.1557878\n",
      "        year |   .0379721   .0075137     5.05   0.000     .0228088    .0531354\n",
      "       _cons |  -81.40864    13.1189    -6.21   0.000    -107.8837   -54.93362\n",
      "------------------------------------------------------------------------------\n"
     ]
    }
   ],
   "source": [
    "regress lpc_quan lincome lgasp lpnc lpuc lppt lpd lpn lps year"
   ]
  },
  {
   "cell_type": "code",
   "execution_count": 44,
   "metadata": {},
   "outputs": [
    {
     "name": "stdout",
     "output_type": "stream",
     "text": [
      "\n",
      "\n",
      "Ramsey RESET test using powers of the fitted values of lpc_quan\n",
      "       Ho:  model has no omitted variables\n",
      "                  F(3, 39) =      4.47\n",
      "                  Prob > F =      0.0086\n",
      "\n",
      "\n",
      "\n",
      "Ramsey RESET test using powers of the fitted values of pc_quan\n",
      "       Ho:  model has no omitted variables\n",
      "                  F(3, 39) =      8.56\n",
      "                  Prob > F =      0.0002\n"
     ]
    }
   ],
   "source": [
    "ovtest\n",
    "quietly regress pc_quan income gasp pnc puc ppt pd pn ps year\n",
    "ovtest "
   ]
  },
  {
   "cell_type": "markdown",
   "metadata": {},
   "source": [
    "### e. Compute the simple correlations of the price variables. Would you conclude that multicollinearity is a \"problem\" for the regression in part a or part d?"
   ]
  },
  {
   "cell_type": "code",
   "execution_count": 45,
   "metadata": {},
   "outputs": [
    {
     "name": "stdout",
     "output_type": "stream",
     "text": [
      "\n",
      "\n",
      "      Source |       SS           df       MS      Number of obs   =        52\n",
      "-------------+----------------------------------   F(9, 42)        =    351.33\n",
      "       Model |  2.87044868         9  .318938742   Prob > F        =    0.0000\n",
      "    Residual |  .038128217        42  .000907815   R-squared       =    0.9869\n",
      "-------------+----------------------------------   Adj R-squared   =    0.9841\n",
      "       Total |   2.9085769        51   .05703092   Root MSE        =    .03013\n",
      "\n",
      "------------------------------------------------------------------------------\n",
      "    lpc_quan |      Coef.   Std. Err.      t    P>|t|     [95% Conf. Interval]\n",
      "-------------+----------------------------------------------------------------\n",
      "     lincome |   .9929907   .2503763     3.97   0.000     .4877109     1.49827\n",
      "       lgasp |   .0605177   .0540101     1.12   0.269    -.0484792    .1695146\n",
      "        lpnc |  -.1547138   .2669637    -0.58   0.565    -.6934683    .3840408\n",
      "        lpuc |  -.4890899   .0851996    -5.74   0.000    -.6610297     -.31715\n",
      "        lppt |   .0192726    .136449     0.14   0.888    -.2560926    .2946378\n",
      "         lpd |   1.732055   .2598871     6.66   0.000     1.207582    2.256529\n",
      "         lpn |  -.7295301   .2650689    -2.75   0.009    -1.264461   -.1945995\n",
      "         lps |  -.8679929   .3529119    -2.46   0.018    -1.580198   -.1557878\n",
      "        year |   .0379721   .0075137     5.05   0.000     .0228088    .0531354\n",
      "       _cons |  -81.40864    13.1189    -6.21   0.000    -107.8837   -54.93362\n",
      "------------------------------------------------------------------------------\n",
      "\n",
      "\n",
      "    Variable |       VIF       1/VIF  \n",
      "-------------+----------------------\n",
      "         lps |   4992.04    0.000200\n",
      "         lpn |   1616.82    0.000618\n",
      "         lpd |    981.54    0.001019\n",
      "        lppt |    816.07    0.001225\n",
      "        lpnc |    763.93    0.001309\n",
      "        year |    728.42    0.001373\n",
      "     lincome |    427.95    0.002337\n",
      "        lpuc |    221.66    0.004511\n",
      "       lgasp |     75.55    0.013236\n",
      "-------------+----------------------\n",
      "    Mean VIF |   1180.44\n"
     ]
    }
   ],
   "source": [
    "regress lpc_quan lincome lgasp lpnc lpuc lppt lpd lpn lps year\n",
    "vif"
   ]
  },
  {
   "cell_type": "code",
   "execution_count": 46,
   "metadata": {},
   "outputs": [
    {
     "name": "stdout",
     "output_type": "stream",
     "text": [
      "\n",
      "\n",
      "\n",
      "    Variable |       VIF       1/VIF  \n",
      "-------------+----------------------\n",
      "          pn |   1614.88    0.000619\n",
      "          ps |   1229.94    0.000813\n",
      "         pnc |    974.93    0.001026\n",
      "          pd |    820.65    0.001219\n",
      "         ppt |    481.06    0.002079\n",
      "      income |    354.84    0.002818\n",
      "         puc |    265.78    0.003762\n",
      "        year |    198.49    0.005038\n",
      "        gasp |     64.62    0.015476\n",
      "-------------+----------------------\n",
      "    Mean VIF |    667.24\n"
     ]
    }
   ],
   "source": [
    "quietly regress pc_quan income gasp pnc puc ppt pd pn ps year\n",
    "vif "
   ]
  },
  {
   "cell_type": "code",
   "execution_count": 47,
   "metadata": {},
   "outputs": [
    {
     "name": "stdout",
     "output_type": "stream",
     "text": [
      "(obs=52)\n",
      "\n",
      "             |     gasp      pnc      puc      ppt       pd       pn       ps\n",
      "-------------+---------------------------------------------------------------\n",
      "        gasp |   1.0000\n",
      "         pnc |   0.9361   1.0000\n",
      "         puc |   0.9228   0.9939   1.0000\n",
      "         ppt |   0.9270   0.9807   0.9824   1.0000\n",
      "          pd |   0.9389   0.9933   0.9878   0.9585   1.0000\n",
      "          pn |   0.9627   0.9885   0.9822   0.9899   0.9773   1.0000\n",
      "          ps |   0.9394   0.9785   0.9769   0.9975   0.9563   0.9936   1.0000\n",
      "\n"
     ]
    }
   ],
   "source": [
    "corr gasp pnc puc ppt pd pn ps"
   ]
  },
  {
   "cell_type": "markdown",
   "metadata": {},
   "source": [
    "### f. Notice that the price index for gasoline is normalized to 100 in 2000, whereas the other price indices are anchored at 1983 (roughly). If you were to renormalize the indices so that they were all 100.00 in 2004, then how would the results of the regression in part a change? How would the results of the regression in part d change?\n"
   ]
  },
  {
   "cell_type": "code",
   "execution_count": 26,
   "metadata": {},
   "outputs": [],
   "source": [
    "generate new_gasp = (gasp - 23.901)\n",
    "generate new_income = (income - 27013)\n",
    "generate new_pnc  = (pnc - 33.9)\n",
    "generate new_puc = (puc - 33.3)\n",
    "generate new_ppt = (ppt - 109.1)\n",
    "generate new_pd = (pd - 14.8)\n",
    "generate new_pn = (pn - 55)\n",
    "generate new_ps = (ps - 122.8)"
   ]
  },
  {
   "cell_type": "code",
   "execution_count": 27,
   "metadata": {},
   "outputs": [
    {
     "name": "stdout",
     "output_type": "stream",
     "text": [
      "\n",
      "      Source |       SS           df       MS      Number of obs   =        52\n",
      "-------------+----------------------------------   F(9, 42)        =    530.82\n",
      "       Model |  5.6708e-11         9  6.3009e-12   Prob > F        =    0.0000\n",
      "    Residual |  4.9855e-13        42  1.1870e-14   R-squared       =    0.9913\n",
      "-------------+----------------------------------   Adj R-squared   =    0.9894\n",
      "       Total |  5.7207e-11        51  1.1217e-12   Root MSE        =    1.1e-07\n",
      "\n",
      "------------------------------------------------------------------------------\n",
      "    quantity |      Coef.   Std. Err.      t    P>|t|     [95% Conf. Interval]\n",
      "-------------+----------------------------------------------------------------\n",
      "    new_gasp |  -1.11e-08   3.98e-09    -2.79   0.008    -1.91e-08   -3.06e-09\n",
      "  new_income |   2.16e-10   5.18e-11     4.17   0.000     1.11e-10    3.20e-10\n",
      "     new_pnc |   5.77e-10   1.28e-08     0.04   0.964    -2.53e-08    2.65e-08\n",
      "     new_puc |  -5.87e-09   4.87e-09    -1.21   0.234    -1.57e-08    3.95e-09\n",
      "     new_ppt |   6.91e-09   4.84e-09     1.43   0.161    -2.85e-09    1.67e-08\n",
      "      new_pd |   1.23e-09   1.19e-08     0.10   0.918    -2.27e-08    2.52e-08\n",
      "      new_pn |   1.27e-08   1.26e-08     1.01   0.320    -1.27e-08    3.81e-08\n",
      "      new_ps |  -2.80e-08   8.00e-09    -3.51   0.001    -4.42e-08   -1.19e-08\n",
      "        year |   7.25e-08   1.42e-08     5.11   0.000     4.39e-08    1.01e-07\n",
      "       _cons |   -.000137   .0000284    -4.83   0.000    -.0001943   -.0000798\n",
      "------------------------------------------------------------------------------\n"
     ]
    }
   ],
   "source": [
    "regress quantity new_gasp new_income new_pnc new_puc new_ppt new_pd new_pn new_ps year"
   ]
  },
  {
   "cell_type": "code",
   "execution_count": 49,
   "metadata": {},
   "outputs": [],
   "source": [
    "gen gasp_nor = (gasp * 100) / gasp[52]\n",
    "gen pnc_nor = (pnc * 100) / pnc[52]\n",
    "gen puc_nor = (puc * 100) / puc[52]\n",
    "gen ppt_nor = (ppt * 100) / ppt[52]\n",
    "gen pd_nor = (pd * 100) / pd[52]\n",
    "gen pn_nor = (pn * 100) / pn[52]\n",
    "gen ps_nor = (ps * 100) / ps[52]"
   ]
  },
  {
   "cell_type": "code",
   "execution_count": 50,
   "metadata": {},
   "outputs": [
    {
     "name": "stdout",
     "output_type": "stream",
     "text": [
      "\n",
      "      Source |       SS           df       MS      Number of obs   =        52\n",
      "-------------+----------------------------------   F(9, 42)        =    530.82\n",
      "       Model |  56.7083042         9  6.30092269   Prob > F        =    0.0000\n",
      "    Residual |  .498549023        42  .011870215   R-squared       =    0.9913\n",
      "-------------+----------------------------------   Adj R-squared   =    0.9894\n",
      "       Total |  57.2068532        51    1.121703   Root MSE        =    .10895\n",
      "\n",
      "------------------------------------------------------------------------------\n",
      "     pc_quan |      Coef.   Std. Err.      t    P>|t|     [95% Conf. Interval]\n",
      "-------------+----------------------------------------------------------------\n",
      "      income |   .0002157   .0000518     4.17   0.000     .0001113    .0003202\n",
      "    gasp_nor |   -.013733   .0049289    -2.79   0.008      -.02368    -.003786\n",
      "     pnc_nor |   .0007731   .0171983     0.04   0.964    -.0339345    .0354806\n",
      "     puc_nor |  -.0078309   .0064921    -1.21   0.234    -.0209325    .0052708\n",
      "     ppt_nor |   .0144431   .0101123     1.43   0.161    -.0059645    .0348506\n",
      "      pd_nor |   .0014108   .0136402     0.10   0.918    -.0261164    .0289379\n",
      "      pn_nor |    .021853   .0216937     1.01   0.320    -.0219267    .0656327\n",
      "      ps_nor |  -.0624459   .0178156    -3.51   0.001    -.0983993   -.0264925\n",
      "        year |   .0725037   .0141828     5.11   0.000     .0438817    .1011257\n",
      "       _cons |  -140.4214   27.19984    -5.16   0.000    -195.3129   -85.52988\n",
      "------------------------------------------------------------------------------\n"
     ]
    }
   ],
   "source": [
    "regress pc_quan income gasp_nor pnc_nor puc_nor ppt_nor pd_nor pn_nor ps_nor year"
   ]
  },
  {
   "cell_type": "code",
   "execution_count": 51,
   "metadata": {},
   "outputs": [
    {
     "name": "stdout",
     "output_type": "stream",
     "text": [
      "\n",
      "\n",
      "\n",
      "\n",
      "\n",
      "\n",
      "\n",
      "\n",
      "\n",
      "      Source |       SS           df       MS      Number of obs   =        52\n",
      "-------------+----------------------------------   F(9, 42)        =    351.33\n",
      "       Model |  2.87044868         9  .318938743   Prob > F        =    0.0000\n",
      "    Residual |  .038128212        42  .000907815   R-squared       =    0.9869\n",
      "-------------+----------------------------------   Adj R-squared   =    0.9841\n",
      "       Total |   2.9085769        51   .05703092   Root MSE        =    .03013\n",
      "\n",
      "------------------------------------------------------------------------------\n",
      "    lpc_quan |      Coef.   Std. Err.      t    P>|t|     [95% Conf. Interval]\n",
      "-------------+----------------------------------------------------------------\n",
      "     lincome |   .9929923   .2503759     3.97   0.000     .4877132    1.498271\n",
      "   lgasp_nor |   .0605168   .0540102     1.12   0.269    -.0484801    .1695137\n",
      "    lpnc_nor |  -.1547136   .2669634    -0.58   0.565    -.6934676    .3840404\n",
      "    lpuc_nor |  -.4890896   .0851996    -5.74   0.000    -.6610294   -.3171498\n",
      "    lppt_nor |   .0192692   .1364489     0.14   0.888    -.2560958    .2946343\n",
      "     lpd_nor |   1.732055   .2598865     6.66   0.000     1.207583    2.256527\n",
      "     lpn_nor |  -.7295332   .2650687    -2.75   0.009    -1.264463    -.194603\n",
      "     lps_nor |  -.8679862   .3529113    -2.46   0.018     -1.58019   -.1557825\n",
      "        year |    .037972   .0075137     5.05   0.000     .0228087    .0531353\n",
      "       _cons |  -82.41991   13.22067    -6.23   0.000    -109.1003   -55.73951\n",
      "------------------------------------------------------------------------------\n"
     ]
    }
   ],
   "source": [
    "gen lgasp_nor = log(gasp_nor)\n",
    "gen lpnc_nor = log(pnc_nor)\n",
    "gen lpuc_nor = log(puc_nor)\n",
    "gen lppt_nor = log(ppt_nor)\n",
    "gen lpd_nor = log(pd_nor)\n",
    "gen lpn_nor = log(pn_nor)\n",
    "gen lps_nor = log(ps_nor)"
   ]
  },
  {
   "cell_type": "code",
   "execution_count": 52,
   "metadata": {},
   "outputs": [
    {
     "name": "stdout",
     "output_type": "stream",
     "text": [
      "\n",
      "      Source |       SS           df       MS      Number of obs   =        52\n",
      "-------------+----------------------------------   F(9, 42)        =    351.33\n",
      "       Model |  2.87044868         9  .318938743   Prob > F        =    0.0000\n",
      "    Residual |  .038128212        42  .000907815   R-squared       =    0.9869\n",
      "-------------+----------------------------------   Adj R-squared   =    0.9841\n",
      "       Total |   2.9085769        51   .05703092   Root MSE        =    .03013\n",
      "\n",
      "------------------------------------------------------------------------------\n",
      "    lpc_quan |      Coef.   Std. Err.      t    P>|t|     [95% Conf. Interval]\n",
      "-------------+----------------------------------------------------------------\n",
      "     lincome |   .9929923   .2503759     3.97   0.000     .4877132    1.498271\n",
      "   lgasp_nor |   .0605168   .0540102     1.12   0.269    -.0484801    .1695137\n",
      "    lpnc_nor |  -.1547136   .2669634    -0.58   0.565    -.6934676    .3840404\n",
      "    lpuc_nor |  -.4890896   .0851996    -5.74   0.000    -.6610294   -.3171498\n",
      "    lppt_nor |   .0192692   .1364489     0.14   0.888    -.2560958    .2946343\n",
      "     lpd_nor |   1.732055   .2598865     6.66   0.000     1.207583    2.256527\n",
      "     lpn_nor |  -.7295332   .2650687    -2.75   0.009    -1.264463    -.194603\n",
      "     lps_nor |  -.8679862   .3529113    -2.46   0.018     -1.58019   -.1557825\n",
      "        year |    .037972   .0075137     5.05   0.000     .0228087    .0531353\n",
      "       _cons |  -82.41991   13.22067    -6.23   0.000    -109.1003   -55.73951\n",
      "------------------------------------------------------------------------------\n"
     ]
    }
   ],
   "source": [
    "regress lpc_quan lincome lgasp_nor lpnc_nor lpuc_nor lppt_nor lpd_nor lpn_nor lps_nor year"
   ]
  },
  {
   "cell_type": "code",
   "execution_count": null,
   "metadata": {},
   "outputs": [],
   "source": []
  }
 ],
 "metadata": {
  "kernelspec": {
   "display_name": "Stata",
   "language": "stata",
   "name": "stata"
  },
  "language_info": {
   "codemirror_mode": "stata",
   "file_extension": ".do",
   "mimetype": "text/x-stata",
   "name": "stata",
   "version": "15.1"
  }
 },
 "nbformat": 4,
 "nbformat_minor": 2
}
